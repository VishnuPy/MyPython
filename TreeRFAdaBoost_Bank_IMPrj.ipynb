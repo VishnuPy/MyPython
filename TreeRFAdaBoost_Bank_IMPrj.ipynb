{
  "nbformat": 4,
  "nbformat_minor": 0,
  "metadata": {
    "colab": {
      "name": "TreeRFAdaBoost_Bank_IMPrj.ipynb",
      "provenance": [],
      "collapsed_sections": [],
      "include_colab_link": true
    },
    "kernelspec": {
      "name": "python3",
      "display_name": "Python 3"
    },
    "accelerator": "GPU"
  },
  "cells": [
    {
      "cell_type": "markdown",
      "metadata": {
        "id": "view-in-github",
        "colab_type": "text"
      },
      "source": [
        "<a href=\"https://colab.research.google.com/github/VishnuPy/MyPython/blob/master/TreeRFAdaBoost_Bank_IMPrj.ipynb\" target=\"_parent\"><img src=\"https://colab.research.google.com/assets/colab-badge.svg\" alt=\"Open In Colab\"/></a>"
      ]
    },
    {
      "cell_type": "code",
      "metadata": {
        "id": "MB8Am7XnfSfe",
        "colab_type": "code",
        "outputId": "9b86a99d-8f2b-47de-b3dd-5c4f580bf4dc",
        "colab": {
          "base_uri": "https://localhost:8080/",
          "height": 173
        }
      },
      "source": [
        "import tensorflow as tf\n",
        "device_name = tf.test.gpu_device_name()\n",
        "if device_name != '/device:GPU:0':\n",
        "  raise SystemError('GPU device not found')\n",
        "print('Found GPU at: {}'.format(device_name))\n",
        "\n",
        "from google.colab import drive\n",
        "drive.mount('/gdrive')\n",
        "%cd /gdrive\n",
        "%ls"
      ],
      "execution_count": 0,
      "outputs": [
        {
          "output_type": "stream",
          "text": [
            "Found GPU at: /device:GPU:0\n",
            "Go to this URL in a browser: https://accounts.google.com/o/oauth2/auth?client_id=947318989803-6bn6qk8qdgf4n4g3pfee6491hc0brc4i.apps.googleusercontent.com&redirect_uri=urn%3Aietf%3Awg%3Aoauth%3A2.0%3Aoob&scope=email%20https%3A%2F%2Fwww.googleapis.com%2Fauth%2Fdocs.test%20https%3A%2F%2Fwww.googleapis.com%2Fauth%2Fdrive%20https%3A%2F%2Fwww.googleapis.com%2Fauth%2Fdrive.photos.readonly%20https%3A%2F%2Fwww.googleapis.com%2Fauth%2Fpeopleapi.readonly&response_type=code\n",
            "\n",
            "Enter your authorization code:\n",
            "··········\n",
            "Mounted at /gdrive\n",
            "/gdrive\n",
            "\u001b[0m\u001b[01;34m'My Drive'\u001b[0m/\n"
          ],
          "name": "stdout"
        }
      ]
    },
    {
      "cell_type": "code",
      "metadata": {
        "id": "QaMoGwUxgP6L",
        "colab_type": "code",
        "outputId": "6b0bb7c1-fefa-40b7-f75f-db13dcd42451",
        "colab": {
          "base_uri": "https://localhost:8080/",
          "height": 119
        }
      },
      "source": [
        "import tensorflow as tf\n",
        "import timeit\n",
        "\n",
        "# See https://www.tensorflow.org/tutorials/using_gpu#allowing_gpu_memory_growth\n",
        "config = tf.ConfigProto()\n",
        "config.gpu_options.allow_growth = True\n",
        "\n",
        "with tf.device('/cpu:0'):\n",
        "  random_image_cpu = tf.random_normal((100, 100, 100, 3))\n",
        "  net_cpu = tf.layers.conv2d(random_image_cpu, 32, 7)\n",
        "  net_cpu = tf.reduce_sum(net_cpu)\n",
        "\n",
        "with tf.device('/gpu:0'):\n",
        "  random_image_gpu = tf.random_normal((100, 100, 100, 3))\n",
        "  net_gpu = tf.layers.conv2d(random_image_gpu, 32, 7)\n",
        "  net_gpu = tf.reduce_sum(net_gpu)\n",
        "\n",
        "sess = tf.Session(config=config)\n",
        "\n",
        "# Test execution once to detect errors early.\n",
        "try:\n",
        "  sess.run(tf.global_variables_initializer())\n",
        "except tf.errors.InvalidArgumentError:\n",
        "  print(\n",
        "      '\\n\\nThis error most likely means that this notebook is not '\n",
        "      'configured to use a GPU.  Change this in Notebook Settings via the '\n",
        "      'command palette (cmd/ctrl-shift-P) or the Edit menu.\\n\\n')\n",
        "  raise\n",
        "\n",
        "def cpu():\n",
        "  sess.run(net_cpu)\n",
        "  \n",
        "def gpu():\n",
        "  sess.run(net_gpu)\n",
        "  \n",
        "# Runs the op several times.\n",
        "print('Time (s) to convolve 32x7x7x3 filter over random 100x100x100x3 images '\n",
        "      '(batch x height x width x channel). Sum of ten runs.')\n",
        "print('CPU (s):')\n",
        "cpu_time = timeit.timeit('cpu()', number=10, setup=\"from __main__ import cpu\")\n",
        "print(cpu_time)\n",
        "print('GPU (s):')\n",
        "gpu_time = timeit.timeit('gpu()', number=10, setup=\"from __main__ import gpu\")\n",
        "print(gpu_time)\n",
        "print('GPU speedup over CPU: {}x'.format(int(cpu_time/gpu_time)))"
      ],
      "execution_count": 0,
      "outputs": [
        {
          "output_type": "stream",
          "text": [
            "Time (s) to convolve 32x7x7x3 filter over random 100x100x100x3 images (batch x height x width x channel). Sum of ten runs.\n",
            "CPU (s):\n",
            "3.2798455860000217\n",
            "GPU (s):\n",
            "0.1638624249999907\n",
            "GPU speedup over CPU: 20x\n"
          ],
          "name": "stdout"
        }
      ]
    },
    {
      "cell_type": "code",
      "metadata": {
        "id": "sxwp_Zw6gVTf",
        "colab_type": "code",
        "outputId": "011b4eb4-e9a6-4464-dcb1-3185f4354001",
        "colab": {
          "base_uri": "https://localhost:8080/",
          "height": 224
        }
      },
      "source": [
        "%matplotlib inline\n",
        "import numpy as np\n",
        "import pandas as pd\n",
        "from IPython.display import display\n",
        "pd.options.display.max_columns=None\n",
        "\n",
        "import matplotlib\n",
        "\n",
        "import matplotlib.pyplot as plt\n",
        "\n",
        "\n",
        "from sklearn.ensemble import RandomForestClassifier\n",
        "\n",
        "##Split The Data into Train and Test\n",
        "from sklearn.model_selection import train_test_split\n",
        "from sklearn.model_selection import cross_val_score\n",
        "from sklearn import metrics\n",
        "from sklearn.metrics import recall_score, roc_curve, roc_auc_score, classification_report, confusion_matrix\n",
        "\n",
        "from sklearn.model_selection import GridSearchCV\n",
        "from sklearn.pipeline import Pipeline\n",
        "\n",
        "df = pd.read_csv('My Drive/MyLearning/MLDLAIPython/Data/TextData/bank-additional-full_prj.csv')\n",
        "\n",
        "df.head()\n"
      ],
      "execution_count": 0,
      "outputs": [
        {
          "output_type": "execute_result",
          "data": {
            "text/html": [
              "<div>\n",
              "<style scoped>\n",
              "    .dataframe tbody tr th:only-of-type {\n",
              "        vertical-align: middle;\n",
              "    }\n",
              "\n",
              "    .dataframe tbody tr th {\n",
              "        vertical-align: top;\n",
              "    }\n",
              "\n",
              "    .dataframe thead th {\n",
              "        text-align: right;\n",
              "    }\n",
              "</style>\n",
              "<table border=\"1\" class=\"dataframe\">\n",
              "  <thead>\n",
              "    <tr style=\"text-align: right;\">\n",
              "      <th></th>\n",
              "      <th>age</th>\n",
              "      <th>job</th>\n",
              "      <th>marital</th>\n",
              "      <th>education</th>\n",
              "      <th>default</th>\n",
              "      <th>housing</th>\n",
              "      <th>loan</th>\n",
              "      <th>contact</th>\n",
              "      <th>month</th>\n",
              "      <th>day_of_week</th>\n",
              "      <th>duration</th>\n",
              "      <th>campaign</th>\n",
              "      <th>pdays</th>\n",
              "      <th>previous</th>\n",
              "      <th>poutcome</th>\n",
              "      <th>emp.var.rate</th>\n",
              "      <th>cons.price.idx</th>\n",
              "      <th>cons.conf.idx</th>\n",
              "      <th>euribor3m</th>\n",
              "      <th>nr.employed</th>\n",
              "      <th>y</th>\n",
              "    </tr>\n",
              "  </thead>\n",
              "  <tbody>\n",
              "    <tr>\n",
              "      <th>0</th>\n",
              "      <td>56</td>\n",
              "      <td>housemaid</td>\n",
              "      <td>married</td>\n",
              "      <td>basic.4y</td>\n",
              "      <td>no</td>\n",
              "      <td>no</td>\n",
              "      <td>no</td>\n",
              "      <td>telephone</td>\n",
              "      <td>may</td>\n",
              "      <td>mon</td>\n",
              "      <td>261</td>\n",
              "      <td>1</td>\n",
              "      <td>999</td>\n",
              "      <td>0</td>\n",
              "      <td>nonexistent</td>\n",
              "      <td>1.1</td>\n",
              "      <td>93.994</td>\n",
              "      <td>-36.4</td>\n",
              "      <td>4.857</td>\n",
              "      <td>5191.0</td>\n",
              "      <td>no</td>\n",
              "    </tr>\n",
              "    <tr>\n",
              "      <th>1</th>\n",
              "      <td>57</td>\n",
              "      <td>services</td>\n",
              "      <td>married</td>\n",
              "      <td>high.school</td>\n",
              "      <td>unknown</td>\n",
              "      <td>no</td>\n",
              "      <td>no</td>\n",
              "      <td>telephone</td>\n",
              "      <td>may</td>\n",
              "      <td>mon</td>\n",
              "      <td>149</td>\n",
              "      <td>1</td>\n",
              "      <td>999</td>\n",
              "      <td>0</td>\n",
              "      <td>nonexistent</td>\n",
              "      <td>1.1</td>\n",
              "      <td>93.994</td>\n",
              "      <td>-36.4</td>\n",
              "      <td>4.857</td>\n",
              "      <td>5191.0</td>\n",
              "      <td>no</td>\n",
              "    </tr>\n",
              "    <tr>\n",
              "      <th>2</th>\n",
              "      <td>37</td>\n",
              "      <td>services</td>\n",
              "      <td>married</td>\n",
              "      <td>high.school</td>\n",
              "      <td>no</td>\n",
              "      <td>yes</td>\n",
              "      <td>no</td>\n",
              "      <td>telephone</td>\n",
              "      <td>may</td>\n",
              "      <td>mon</td>\n",
              "      <td>226</td>\n",
              "      <td>1</td>\n",
              "      <td>999</td>\n",
              "      <td>0</td>\n",
              "      <td>nonexistent</td>\n",
              "      <td>1.1</td>\n",
              "      <td>93.994</td>\n",
              "      <td>-36.4</td>\n",
              "      <td>4.857</td>\n",
              "      <td>5191.0</td>\n",
              "      <td>no</td>\n",
              "    </tr>\n",
              "    <tr>\n",
              "      <th>3</th>\n",
              "      <td>40</td>\n",
              "      <td>admin.</td>\n",
              "      <td>married</td>\n",
              "      <td>basic.6y</td>\n",
              "      <td>no</td>\n",
              "      <td>no</td>\n",
              "      <td>no</td>\n",
              "      <td>telephone</td>\n",
              "      <td>may</td>\n",
              "      <td>mon</td>\n",
              "      <td>151</td>\n",
              "      <td>1</td>\n",
              "      <td>999</td>\n",
              "      <td>0</td>\n",
              "      <td>nonexistent</td>\n",
              "      <td>1.1</td>\n",
              "      <td>93.994</td>\n",
              "      <td>-36.4</td>\n",
              "      <td>4.857</td>\n",
              "      <td>5191.0</td>\n",
              "      <td>no</td>\n",
              "    </tr>\n",
              "    <tr>\n",
              "      <th>4</th>\n",
              "      <td>56</td>\n",
              "      <td>services</td>\n",
              "      <td>married</td>\n",
              "      <td>high.school</td>\n",
              "      <td>no</td>\n",
              "      <td>no</td>\n",
              "      <td>yes</td>\n",
              "      <td>telephone</td>\n",
              "      <td>may</td>\n",
              "      <td>mon</td>\n",
              "      <td>307</td>\n",
              "      <td>1</td>\n",
              "      <td>999</td>\n",
              "      <td>0</td>\n",
              "      <td>nonexistent</td>\n",
              "      <td>1.1</td>\n",
              "      <td>93.994</td>\n",
              "      <td>-36.4</td>\n",
              "      <td>4.857</td>\n",
              "      <td>5191.0</td>\n",
              "      <td>no</td>\n",
              "    </tr>\n",
              "  </tbody>\n",
              "</table>\n",
              "</div>"
            ],
            "text/plain": [
              "   age        job  marital    education  default housing loan    contact  \\\n",
              "0   56  housemaid  married     basic.4y       no      no   no  telephone   \n",
              "1   57   services  married  high.school  unknown      no   no  telephone   \n",
              "2   37   services  married  high.school       no     yes   no  telephone   \n",
              "3   40     admin.  married     basic.6y       no      no   no  telephone   \n",
              "4   56   services  married  high.school       no      no  yes  telephone   \n",
              "\n",
              "  month day_of_week  duration  campaign  pdays  previous     poutcome  \\\n",
              "0   may         mon       261         1    999         0  nonexistent   \n",
              "1   may         mon       149         1    999         0  nonexistent   \n",
              "2   may         mon       226         1    999         0  nonexistent   \n",
              "3   may         mon       151         1    999         0  nonexistent   \n",
              "4   may         mon       307         1    999         0  nonexistent   \n",
              "\n",
              "   emp.var.rate  cons.price.idx  cons.conf.idx  euribor3m  nr.employed   y  \n",
              "0           1.1          93.994          -36.4      4.857       5191.0  no  \n",
              "1           1.1          93.994          -36.4      4.857       5191.0  no  \n",
              "2           1.1          93.994          -36.4      4.857       5191.0  no  \n",
              "3           1.1          93.994          -36.4      4.857       5191.0  no  \n",
              "4           1.1          93.994          -36.4      4.857       5191.0  no  "
            ]
          },
          "metadata": {
            "tags": []
          },
          "execution_count": 7
        }
      ]
    },
    {
      "cell_type": "code",
      "metadata": {
        "id": "YHYjauTLgh4I",
        "colab_type": "code",
        "outputId": "a06cbcd9-62ad-487f-bd48-508bc459d35e",
        "colab": {
          "base_uri": "https://localhost:8080/",
          "height": 359
        }
      },
      "source": [
        "df.describe().T"
      ],
      "execution_count": 0,
      "outputs": [
        {
          "output_type": "execute_result",
          "data": {
            "text/html": [
              "<div>\n",
              "<style scoped>\n",
              "    .dataframe tbody tr th:only-of-type {\n",
              "        vertical-align: middle;\n",
              "    }\n",
              "\n",
              "    .dataframe tbody tr th {\n",
              "        vertical-align: top;\n",
              "    }\n",
              "\n",
              "    .dataframe thead th {\n",
              "        text-align: right;\n",
              "    }\n",
              "</style>\n",
              "<table border=\"1\" class=\"dataframe\">\n",
              "  <thead>\n",
              "    <tr style=\"text-align: right;\">\n",
              "      <th></th>\n",
              "      <th>count</th>\n",
              "      <th>mean</th>\n",
              "      <th>std</th>\n",
              "      <th>min</th>\n",
              "      <th>25%</th>\n",
              "      <th>50%</th>\n",
              "      <th>75%</th>\n",
              "      <th>max</th>\n",
              "    </tr>\n",
              "  </thead>\n",
              "  <tbody>\n",
              "    <tr>\n",
              "      <th>age</th>\n",
              "      <td>41188.0</td>\n",
              "      <td>40.024060</td>\n",
              "      <td>10.421250</td>\n",
              "      <td>17.000</td>\n",
              "      <td>32.000</td>\n",
              "      <td>38.000</td>\n",
              "      <td>47.000</td>\n",
              "      <td>98.000</td>\n",
              "    </tr>\n",
              "    <tr>\n",
              "      <th>duration</th>\n",
              "      <td>41188.0</td>\n",
              "      <td>258.285010</td>\n",
              "      <td>259.279249</td>\n",
              "      <td>0.000</td>\n",
              "      <td>102.000</td>\n",
              "      <td>180.000</td>\n",
              "      <td>319.000</td>\n",
              "      <td>4918.000</td>\n",
              "    </tr>\n",
              "    <tr>\n",
              "      <th>campaign</th>\n",
              "      <td>41188.0</td>\n",
              "      <td>2.567593</td>\n",
              "      <td>2.770014</td>\n",
              "      <td>1.000</td>\n",
              "      <td>1.000</td>\n",
              "      <td>2.000</td>\n",
              "      <td>3.000</td>\n",
              "      <td>56.000</td>\n",
              "    </tr>\n",
              "    <tr>\n",
              "      <th>pdays</th>\n",
              "      <td>41188.0</td>\n",
              "      <td>962.475454</td>\n",
              "      <td>186.910907</td>\n",
              "      <td>0.000</td>\n",
              "      <td>999.000</td>\n",
              "      <td>999.000</td>\n",
              "      <td>999.000</td>\n",
              "      <td>999.000</td>\n",
              "    </tr>\n",
              "    <tr>\n",
              "      <th>previous</th>\n",
              "      <td>41188.0</td>\n",
              "      <td>0.172963</td>\n",
              "      <td>0.494901</td>\n",
              "      <td>0.000</td>\n",
              "      <td>0.000</td>\n",
              "      <td>0.000</td>\n",
              "      <td>0.000</td>\n",
              "      <td>7.000</td>\n",
              "    </tr>\n",
              "    <tr>\n",
              "      <th>emp.var.rate</th>\n",
              "      <td>41188.0</td>\n",
              "      <td>0.081886</td>\n",
              "      <td>1.570960</td>\n",
              "      <td>-3.400</td>\n",
              "      <td>-1.800</td>\n",
              "      <td>1.100</td>\n",
              "      <td>1.400</td>\n",
              "      <td>1.400</td>\n",
              "    </tr>\n",
              "    <tr>\n",
              "      <th>cons.price.idx</th>\n",
              "      <td>41188.0</td>\n",
              "      <td>93.575664</td>\n",
              "      <td>0.578840</td>\n",
              "      <td>92.201</td>\n",
              "      <td>93.075</td>\n",
              "      <td>93.749</td>\n",
              "      <td>93.994</td>\n",
              "      <td>94.767</td>\n",
              "    </tr>\n",
              "    <tr>\n",
              "      <th>cons.conf.idx</th>\n",
              "      <td>41188.0</td>\n",
              "      <td>-40.502600</td>\n",
              "      <td>4.628198</td>\n",
              "      <td>-50.800</td>\n",
              "      <td>-42.700</td>\n",
              "      <td>-41.800</td>\n",
              "      <td>-36.400</td>\n",
              "      <td>-26.900</td>\n",
              "    </tr>\n",
              "    <tr>\n",
              "      <th>euribor3m</th>\n",
              "      <td>41188.0</td>\n",
              "      <td>3.621291</td>\n",
              "      <td>1.734447</td>\n",
              "      <td>0.634</td>\n",
              "      <td>1.344</td>\n",
              "      <td>4.857</td>\n",
              "      <td>4.961</td>\n",
              "      <td>5.045</td>\n",
              "    </tr>\n",
              "    <tr>\n",
              "      <th>nr.employed</th>\n",
              "      <td>41188.0</td>\n",
              "      <td>5167.035911</td>\n",
              "      <td>72.251528</td>\n",
              "      <td>4963.600</td>\n",
              "      <td>5099.100</td>\n",
              "      <td>5191.000</td>\n",
              "      <td>5228.100</td>\n",
              "      <td>5228.100</td>\n",
              "    </tr>\n",
              "  </tbody>\n",
              "</table>\n",
              "</div>"
            ],
            "text/plain": [
              "                  count         mean         std       min       25%  \\\n",
              "age             41188.0    40.024060   10.421250    17.000    32.000   \n",
              "duration        41188.0   258.285010  259.279249     0.000   102.000   \n",
              "campaign        41188.0     2.567593    2.770014     1.000     1.000   \n",
              "pdays           41188.0   962.475454  186.910907     0.000   999.000   \n",
              "previous        41188.0     0.172963    0.494901     0.000     0.000   \n",
              "emp.var.rate    41188.0     0.081886    1.570960    -3.400    -1.800   \n",
              "cons.price.idx  41188.0    93.575664    0.578840    92.201    93.075   \n",
              "cons.conf.idx   41188.0   -40.502600    4.628198   -50.800   -42.700   \n",
              "euribor3m       41188.0     3.621291    1.734447     0.634     1.344   \n",
              "nr.employed     41188.0  5167.035911   72.251528  4963.600  5099.100   \n",
              "\n",
              "                     50%       75%       max  \n",
              "age               38.000    47.000    98.000  \n",
              "duration         180.000   319.000  4918.000  \n",
              "campaign           2.000     3.000    56.000  \n",
              "pdays            999.000   999.000   999.000  \n",
              "previous           0.000     0.000     7.000  \n",
              "emp.var.rate       1.100     1.400     1.400  \n",
              "cons.price.idx    93.749    93.994    94.767  \n",
              "cons.conf.idx    -41.800   -36.400   -26.900  \n",
              "euribor3m          4.857     4.961     5.045  \n",
              "nr.employed     5191.000  5228.100  5228.100  "
            ]
          },
          "metadata": {
            "tags": []
          },
          "execution_count": 8
        }
      ]
    },
    {
      "cell_type": "code",
      "metadata": {
        "id": "j3NE3h5chDdK",
        "colab_type": "code",
        "outputId": "a496512e-61f4-4b47-c468-e2d222ecde1d",
        "colab": {
          "base_uri": "https://localhost:8080/",
          "height": 34
        }
      },
      "source": [
        "df.shape"
      ],
      "execution_count": 0,
      "outputs": [
        {
          "output_type": "execute_result",
          "data": {
            "text/plain": [
              "(41188, 21)"
            ]
          },
          "metadata": {
            "tags": []
          },
          "execution_count": 9
        }
      ]
    },
    {
      "cell_type": "markdown",
      "metadata": {
        "id": "h_zYmPCS-23l",
        "colab_type": "text"
      },
      "source": [
        "As per above, \n",
        "1. there are no missing values in any of the featues.\n",
        "2. Out of 21 features, 10 features are numbers and rest are Categories/Characters. Hence, these features are to be Encoded/Binarized. \n",
        "\n",
        "For one hot encoding, a new feature column is created for each unique value in the feature column. The value would be 1 if the value was present for that observation and 0 otherwise. \n",
        "This method however could easily lead to an explosion in number of features and lead to the curse of dimensionality. \n",
        "Below, we try to fit one model with only dummy variables and another with only label encoded variables."
      ]
    },
    {
      "cell_type": "code",
      "metadata": {
        "id": "ko_1DAtk-7WM",
        "colab_type": "code",
        "colab": {}
      },
      "source": [
        "# Separating with continuous and categorical variables.\n",
        "\n",
        "X_cont = ['age', 'campaign', 'pdays', 'previous', 'emp.var.rate', 'cons.price.idx', 'euribor3m', 'nr.employed']\n",
        "X_cat = ['job', 'marital', 'education', 'default', 'housing', 'loan', 'contact', 'month', 'day_of_week', 'poutcome']\n",
        "\n",
        "cont_df = df[X_cont]\n",
        "cat_df = df[X_cat]\n",
        "\n",
        "# Creating dummyX variable dataframe from categorical variables.\n",
        "\n",
        "X = cont_df.join(pd.get_dummies(cat_df))\n",
        "y = df.iloc[:, 20].replace(('yes', 'no'), (1, 0))"
      ],
      "execution_count": 0,
      "outputs": []
    },
    {
      "cell_type": "code",
      "metadata": {
        "id": "63ECXzUp-2Uv",
        "colab_type": "code",
        "colab": {}
      },
      "source": [
        "X_train,X_test,y_train,y_test= train_test_split(X, y, test_size=0.30, random_state=110)\n",
        "\n",
        "#Convert DataFrame to Numpy array\n",
        "\n",
        "Xtrain=X_train.values\n",
        "Xtest=X_test.values\n",
        "ytrain=y_train.values\n",
        "ytest=y_test.values\n",
        "\n",
        "##Initialize StandardScaler. Standardizing the Feature values to have a common units of measurement\n",
        "from sklearn.preprocessing import StandardScaler\n",
        "sc=StandardScaler()\n",
        "\n",
        "#Transform the training data\n",
        "X_train=sc.fit_transform(X_train)\n",
        "X_train=pd.DataFrame(X_train,columns=X_test.columns)\n",
        "\n",
        "#Transform the testing data\n",
        "X_test=sc.transform(X_test)\n",
        "X_test=pd.DataFrame(X_test,columns=X_train.columns)"
      ],
      "execution_count": 0,
      "outputs": []
    },
    {
      "cell_type": "code",
      "metadata": {
        "id": "TIWroQGkAR2Y",
        "colab_type": "code",
        "outputId": "89063c20-1895-43b3-bf52-25d417a792b5",
        "colab": {
          "base_uri": "https://localhost:8080/",
          "height": 34
        }
      },
      "source": [
        "X_train.shape"
      ],
      "execution_count": 0,
      "outputs": [
        {
          "output_type": "execute_result",
          "data": {
            "text/plain": [
              "(28831, 61)"
            ]
          },
          "metadata": {
            "tags": []
          },
          "execution_count": 12
        }
      ]
    },
    {
      "cell_type": "code",
      "metadata": {
        "id": "z1COPMpjA-sG",
        "colab_type": "code",
        "outputId": "d3b32cd3-87cc-4116-f3d0-e0c1069d8395",
        "colab": {
          "base_uri": "https://localhost:8080/",
          "height": 34
        }
      },
      "source": [
        "y_train.shape"
      ],
      "execution_count": 0,
      "outputs": [
        {
          "output_type": "execute_result",
          "data": {
            "text/plain": [
              "(28831,)"
            ]
          },
          "metadata": {
            "tags": []
          },
          "execution_count": 13
        }
      ]
    },
    {
      "cell_type": "code",
      "metadata": {
        "id": "GOZIbcT8BFOT",
        "colab_type": "code",
        "outputId": "f89b254b-8650-4cdd-b3ea-8f236a83c38e",
        "colab": {
          "base_uri": "https://localhost:8080/",
          "height": 190
        }
      },
      "source": [
        "\n",
        "clf=RandomForestClassifier()\n",
        "clf.fit(X_train,y_train)"
      ],
      "execution_count": 0,
      "outputs": [
        {
          "output_type": "stream",
          "text": [
            "/usr/local/lib/python3.6/dist-packages/sklearn/ensemble/forest.py:245: FutureWarning: The default value of n_estimators will change from 10 in version 0.20 to 100 in 0.22.\n",
            "  \"10 in version 0.20 to 100 in 0.22.\", FutureWarning)\n"
          ],
          "name": "stderr"
        },
        {
          "output_type": "execute_result",
          "data": {
            "text/plain": [
              "RandomForestClassifier(bootstrap=True, class_weight=None, criterion='gini',\n",
              "                       max_depth=None, max_features='auto', max_leaf_nodes=None,\n",
              "                       min_impurity_decrease=0.0, min_impurity_split=None,\n",
              "                       min_samples_leaf=1, min_samples_split=2,\n",
              "                       min_weight_fraction_leaf=0.0, n_estimators=10,\n",
              "                       n_jobs=None, oob_score=False, random_state=None,\n",
              "                       verbose=0, warm_start=False)"
            ]
          },
          "metadata": {
            "tags": []
          },
          "execution_count": 14
        }
      ]
    },
    {
      "cell_type": "code",
      "metadata": {
        "id": "2I-HSg-BP2Sj",
        "colab_type": "code",
        "outputId": "918aeafa-bb1d-487b-b658-28504ff8d51d",
        "colab": {
          "base_uri": "https://localhost:8080/",
          "height": 283
        }
      },
      "source": [
        "y_pred_probs=clf.predict_proba(X_test)\n",
        "y_pred_prob=clf.predict_proba(X_test)[:, 1]\n",
        "\n",
        "#import matplotlib.pyplot as plt\n",
        "#import seaborn as sns\n",
        "plt.hist(y_pred_prob)\n",
        "plt.xlabel('Probability of Classifier being 1')\n",
        "plt.ylabel(\"number of Occurances (Frequency)\")\n",
        "plt.show()"
      ],
      "execution_count": 0,
      "outputs": [
        {
          "output_type": "display_data",
          "data": {
            "image/png": "[encoded data removed]",
            "text/plain": [
              "<Figure size 432x288 with 1 Axes>"
            ]
          },
          "metadata": {
            "tags": []
          }
        }
      ]
    },
    {
      "cell_type": "code",
      "metadata": {
        "id": "WoVTyjerP7_K",
        "colab_type": "code",
        "outputId": "8cce7173-69ea-484d-b44e-d0f10be787e1",
        "colab": {
          "base_uri": "https://localhost:8080/",
          "height": 533
        }
      },
      "source": [
        "y_pred=clf.predict(X_test)\n",
        "(y_test==y_pred).mean()\n",
        "accuracies=cross_val_score (estimator=clf, X=X_train, y=y_train, cv=20)\n",
        "\n",
        "print ('Predictions Mean ', (y_test==y_pred).mean())\n",
        "print ('Accuracies Mean  ', accuracies.mean())\n",
        "\n",
        "cm=confusion_matrix(y_test,y_pred)\n",
        "print (cm)\n",
        "\n",
        "# calculate roc curve\n",
        "fpr, tpr, thresholds = roc_curve(y_test, y_pred_prob)\n",
        "roc_auc = metrics.auc(fpr, tpr)\n",
        "\n",
        "# calculate AUC\n",
        "auc = roc_auc_score(y_test, y_pred_prob)\n",
        "print('AUC: %.3f' % auc)\n",
        "\n",
        "accuracy = metrics.accuracy_score(y_pred, y_test)\n",
        "balanced_accuracy = metrics.balanced_accuracy_score(y_pred, y_test)\n",
        "precision = metrics.precision_score(y_pred, y_test)\n",
        "average_precision = metrics.average_precision_score(y_pred, y_test)\n",
        "f1_score = metrics.f1_score(y_pred, y_test)    \n",
        "recall = metrics.recall_score(y_pred, y_test)\n",
        "\n",
        "report = classification_report(y_test, y_pred)\n",
        "print(report)\n",
        "\n",
        "plt.plot([0, 1], [0, 1], linestyle='--')\n",
        "# plot the roc curve for the model\n",
        "plt.plot(fpr, tpr, marker='.', label='RandomForestClasfier (area = %0.2f)' % roc_auc)\n",
        "#plt.plot(fpr, tpr, marker='.')\n",
        "\n",
        "plt.title('Receiver Operating Characteristic Curve')\n",
        "plt.xlabel('False Postive Rate') \n",
        "plt.ylabel('True Postive Rate')\n",
        "plt.legend()\n",
        "# show the plot\n",
        "plt.show()"
      ],
      "execution_count": 0,
      "outputs": [
        {
          "output_type": "stream",
          "text": [
            "Predictions Mean  0.8910738852472283\n",
            "Accuracies Mean   0.8898389017098719\n",
            "[[10633   306]\n",
            " [ 1040   378]]\n",
            "AUC: 0.748\n",
            "              precision    recall  f1-score   support\n",
            "\n",
            "           0       0.91      0.97      0.94     10939\n",
            "           1       0.55      0.27      0.36      1418\n",
            "\n",
            "    accuracy                           0.89     12357\n",
            "   macro avg       0.73      0.62      0.65     12357\n",
            "weighted avg       0.87      0.89      0.87     12357\n",
            "\n"
          ],
          "name": "stdout"
        },
        {
          "output_type": "display_data",
          "data": {
            "image/png": "[encoded data removed]",
            "text/plain": [
              "<Figure size 432x288 with 1 Axes>"
            ]
          },
          "metadata": {
            "tags": []
          }
        }
      ]
    },
    {
      "cell_type": "markdown",
      "metadata": {
        "id": "0z1dbz7KQZjz",
        "colab_type": "text"
      },
      "source": [
        "Above is the basic first Prediction Performance using RandomForestClassifier. But truly somany False Negatives and False Postives, it needs to do better than that.  \n",
        "\n",
        "Now, will use some Encoding methods to check the Performance"
      ]
    },
    {
      "cell_type": "markdown",
      "metadata": {
        "id": "OkdK3dxqRV9W",
        "colab_type": "text"
      },
      "source": [
        "<font color = Green size =3> \n",
        "# Random Forest <br> Label Encode instead of dummy variables\n",
        "</font>"
      ]
    },
    {
      "cell_type": "code",
      "metadata": {
        "id": "4ll7Yjr1QCFh",
        "colab_type": "code",
        "colab": {}
      },
      "source": [
        "mappings = []\n",
        "\n",
        "from sklearn.preprocessing import LabelEncoder\n",
        "\n",
        "label_encoder = LabelEncoder()\n",
        "\n",
        "label_df = df.drop('y', axis=1)\n",
        "for i, col in enumerate(label_df):\n",
        "    if label_df[col].dtype == 'object':\n",
        "        label_df[col] = label_encoder.fit_transform(np.array(label_df[col].astype(str)).reshape((-1,)))\n",
        "        mappings.append(dict(zip(label_encoder.classes_, range(1, len(label_encoder.classes_)+1))))"
      ],
      "execution_count": 0,
      "outputs": []
    },
    {
      "cell_type": "code",
      "metadata": {
        "id": "G3OVoSsjSDmv",
        "colab_type": "code",
        "outputId": "3c70a829-0d1e-443e-9044-0301dcf38299",
        "colab": {
          "base_uri": "https://localhost:8080/",
          "height": 34
        }
      },
      "source": [
        "label_df.shape"
      ],
      "execution_count": 0,
      "outputs": [
        {
          "output_type": "execute_result",
          "data": {
            "text/plain": [
              "(41188, 20)"
            ]
          },
          "metadata": {
            "tags": []
          },
          "execution_count": 18
        }
      ]
    },
    {
      "cell_type": "code",
      "metadata": {
        "id": "G-ygH2MLSIjh",
        "colab_type": "code",
        "outputId": "657007d9-1c18-4b36-ca1a-43e7c55f35b3",
        "colab": {
          "base_uri": "https://localhost:8080/",
          "height": 34
        }
      },
      "source": [
        "y.shape"
      ],
      "execution_count": 0,
      "outputs": [
        {
          "output_type": "execute_result",
          "data": {
            "text/plain": [
              "(41188,)"
            ]
          },
          "metadata": {
            "tags": []
          },
          "execution_count": 19
        }
      ]
    },
    {
      "cell_type": "code",
      "metadata": {
        "id": "nmB-JBIFR5xe",
        "colab_type": "code",
        "outputId": "82ef2602-d318-4a52-cf80-75a5c0b9ebb8",
        "colab": {
          "base_uri": "https://localhost:8080/",
          "height": 190
        }
      },
      "source": [
        "##Split The Data into Train and Test\n",
        "from sklearn.model_selection import train_test_split\n",
        "X_train,X_test,y_train,y_test= train_test_split(label_df, y, test_size=0.30, random_state=110)\n",
        "\n",
        "#Convert DataFrame to Numpy array\n",
        "\n",
        "Xtrain=X_train.values\n",
        "Xtest=X_test.values\n",
        "ytrain=y_train.values\n",
        "ytest=y_test.values\n",
        "\n",
        "##Initialize StandardScaler\n",
        "from sklearn.preprocessing import StandardScaler\n",
        "sc=StandardScaler()\n",
        "\n",
        "#Transform the training data\n",
        "X_train=sc.fit_transform(X_train)\n",
        "X_train=pd.DataFrame(X_train,columns=X_test.columns)\n",
        "\n",
        "#Transform the testing data\n",
        "X_test=sc.transform(X_test)\n",
        "X_test=pd.DataFrame(X_test,columns=X_train.columns)\n",
        "\n",
        "from sklearn.linear_model import LogisticRegression\n",
        "clf_le=RandomForestClassifier()\n",
        "clf_le.fit(X_train,y_train)\n"
      ],
      "execution_count": 0,
      "outputs": [
        {
          "output_type": "stream",
          "text": [
            "/usr/local/lib/python3.6/dist-packages/sklearn/ensemble/forest.py:245: FutureWarning: The default value of n_estimators will change from 10 in version 0.20 to 100 in 0.22.\n",
            "  \"10 in version 0.20 to 100 in 0.22.\", FutureWarning)\n"
          ],
          "name": "stderr"
        },
        {
          "output_type": "execute_result",
          "data": {
            "text/plain": [
              "RandomForestClassifier(bootstrap=True, class_weight=None, criterion='gini',\n",
              "                       max_depth=None, max_features='auto', max_leaf_nodes=None,\n",
              "                       min_impurity_decrease=0.0, min_impurity_split=None,\n",
              "                       min_samples_leaf=1, min_samples_split=2,\n",
              "                       min_weight_fraction_leaf=0.0, n_estimators=10,\n",
              "                       n_jobs=None, oob_score=False, random_state=None,\n",
              "                       verbose=0, warm_start=False)"
            ]
          },
          "metadata": {
            "tags": []
          },
          "execution_count": 20
        }
      ]
    },
    {
      "cell_type": "code",
      "metadata": {
        "id": "6OfNMeLrSesy",
        "colab_type": "code",
        "outputId": "0ecafabe-68cd-4643-d070-47be294ce2cc",
        "colab": {
          "base_uri": "https://localhost:8080/",
          "height": 34
        }
      },
      "source": [
        "X_train.shape"
      ],
      "execution_count": 0,
      "outputs": [
        {
          "output_type": "execute_result",
          "data": {
            "text/plain": [
              "(28831, 20)"
            ]
          },
          "metadata": {
            "tags": []
          },
          "execution_count": 21
        }
      ]
    },
    {
      "cell_type": "code",
      "metadata": {
        "id": "rEqNHOltSjmH",
        "colab_type": "code",
        "outputId": "f784d7c2-5258-4b8f-b00e-1c3b11bb1ab5",
        "colab": {
          "base_uri": "https://localhost:8080/",
          "height": 550
        }
      },
      "source": [
        "y_pred_le=clf_le.predict(X_test) # le stands for LabelEncoding and will make AUC, ConfusionMatrix for this version of Performance\n",
        "(y_test==y_pred_le).mean()       # le stands for LabelEncoding and will make AUC, ConfusionMatrix for this version of Performance \n",
        "\n",
        "accuracies_le =cross_val_score (estimator=clf_le, X=X_train, y=y_train, cv=20) # le stands for LabelEncoding and will make AUC, ConfusionMatrix for this version of Performance\n",
        "\n",
        "print ('Predictions Mean ', (y_test==y_pred_le).mean()) # le stands for LabelEncoding and will make AUC, ConfusionMatrix for this version of Performance\n",
        "print ('Mean Accuracies  ', accuracies_le.mean())       # le stands for LabelEncoding and will make AUC, ConfusionMatrix for this version of Performance\n",
        "\n",
        "y_pred_prob_le = clf_le.predict_proba(X_test)[:, 1] # le stands for LabelEncoding and will make AUC, ConfusionMatrix for this version of Performance\n",
        "\n",
        "cm_le=confusion_matrix(y_test,y_pred_le) # le stands for LabelEncoding and will make AUC, ConfusionMatrix for this version of Performance\n",
        "print (cm_le)                            # le stands for LabelEncoding and will make AUC, ConfusionMatrix for this version of Performance\n",
        "\n",
        "recall_score(y_test, y_pred_le)          # le stands for LabelEncoding and will make AUC, ConfusionMatrix for this version of Performance\n",
        "roc_curve(y_test, y_pred_le)             # le stands for LabelEncoding and will make AUC, ConfusionMatrix for this version of Performance\n",
        "\n",
        "\n",
        "\n",
        "report_le = classification_report(y_test, y_pred_le) # le stands for LabelEncoding and will make AUC, ConfusionMatrix for this version of Performance\n",
        "print(report_le)                         # le stands for LabelEncoding and will make AUC, ConfusionMatrix for this version of Performance\n",
        "\n",
        "\n",
        "# calculate roc curve\n",
        "fpr_le, tpr_le, thresholds_le = roc_curve(y_test, y_pred_prob_le) # le stands for LabelEncoding and will make AUC, ConfusionMatrix for this version of Performance\n",
        "roc_auc_le = metrics.auc(fpr_le, tpr_le)\n",
        "print ('roc_auc_le -- > ', roc_auc_le)\n",
        "# calculate AUC\n",
        "auc_le = roc_auc_score(y_test, y_pred_prob_le)     # le stands for LabelEncoding and will make AUC, ConfusionMatrix for this version of Performance\n",
        "print('AUC: %.3f' % auc_le)                # le stands for LabelEncoding and will make AUC, ConfusionMatrix for this version of Performance\n",
        "\n",
        "accuracy_le = metrics.accuracy_score(y_pred_le, y_test)\n",
        "balanced_accuracy_le = metrics.balanced_accuracy_score(y_pred_le, y_test)\n",
        "precision_le = metrics.precision_score(y_pred_le, y_test)\n",
        "average_precision_le = metrics.average_precision_score(y_pred_le, y_test)\n",
        "f1_score_le = metrics.f1_score(y_pred_le, y_test)\n",
        "recall_le = metrics.recall_score(y_pred_le, y_test)\n",
        "\n",
        "\n",
        "plt.plot([0, 1], [0, 1], linestyle='--')\n",
        "# plot the roc curve for the model\n",
        "\n",
        "plt.plot(fpr_le, tpr_le, marker='.', label='RandomForestClasfier (area = %0.2f)' %roc_auc_le) # le stands for LabelEncoding and will make AUC, ConfusionMatrix for this version of Performance\n",
        "\n",
        "plt.title('Receiver Operating Characteristic Curve')\n",
        "plt.xlabel('False Postive Rate') \n",
        "plt.ylabel('True Postive Rate')\n",
        "# show the plot\n",
        "plt.show()"
      ],
      "execution_count": 0,
      "outputs": [
        {
          "output_type": "stream",
          "text": [
            "Predictions Mean  0.9079064497855467\n",
            "Mean Accuracies   0.9104084187942485\n",
            "[[10577   362]\n",
            " [  776   642]]\n",
            "              precision    recall  f1-score   support\n",
            "\n",
            "           0       0.93      0.97      0.95     10939\n",
            "           1       0.64      0.45      0.53      1418\n",
            "\n",
            "    accuracy                           0.91     12357\n",
            "   macro avg       0.79      0.71      0.74     12357\n",
            "weighted avg       0.90      0.91      0.90     12357\n",
            "\n",
            "roc_auc_le -- >  0.9174252435386334\n",
            "AUC: 0.917\n"
          ],
          "name": "stdout"
        },
        {
          "output_type": "display_data",
          "data": {
            "image/png": "[encoded data removed]",
            "text/plain": [
              "<Figure size 432x288 with 1 Axes>"
            ]
          },
          "metadata": {
            "tags": []
          }
        }
      ]
    },
    {
      "cell_type": "code",
      "metadata": {
        "id": "zgfUYLxXSnTq",
        "colab_type": "code",
        "outputId": "a39c13af-0de6-4325-c2c9-1eb3b439b6d1",
        "colab": {
          "base_uri": "https://localhost:8080/",
          "height": 283
        }
      },
      "source": [
        "y_pred_probs_le=clf_le.predict_proba(X_test)      # le stands for LabelEncoding and will make AUC, ConfusionMatrix for this version of Performance\n",
        "y_pred_prob_le=clf_le.predict_proba(X_test)[:, 1] # le stands for LabelEncoding and will make AUC, ConfusionMatrix for this version of Performance\n",
        "\n",
        "#import matplotlib.pyplot as plt\n",
        "#import seaborn as sns\n",
        "plt.hist(y_pred_prob_le)\n",
        "plt.xlabel('Probability of Classifier being 1')\n",
        "plt.ylabel(\"number of Occurances (Frequency)\")\n",
        "plt.show()"
      ],
      "execution_count": 0,
      "outputs": [
        {
          "output_type": "display_data",
          "data": {
            "image/png": "[encoded data removed]",
            "text/plain": [
              "<Figure size 432x288 with 1 Axes>"
            ]
          },
          "metadata": {
            "tags": []
          }
        }
      ]
    },
    {
      "cell_type": "markdown",
      "metadata": {
        "id": "I1dNiEfxVzFk",
        "colab_type": "text"
      },
      "source": [
        "<font color=green size=5> \n",
        "It seems that label encoding performs much better across the spectrum of different threshold values. All Performance metrics have improved. \n",
        "</font>\n",
        "<br>\n",
        "<font color=red size=4> \n",
        "However, there are a few features in which the label ordering did not make sense. </font>\n",
        "<br>\n",
        "<font color=red size=4> \n",
        "    For example, days of week:\n",
        "    {'fri': 1, 'mon': 2, 'thu': 3, 'tue': 4, 'wed': 5}. </font>\n",
        "<br>\n",
        "<font color=red size=4> \n",
        "    Furthermore, the ‘job’ feature in particular would be more explanatory if converted to dummy variables as one’s job would appear to be an important determinant of whether they open a term deposit and an ordinal scale wouldn’t quite make sense.\n",
        "\n",
        "Below, custom orders were determined for education, month, and day of the week while dummy variables were created for jobs.\n",
        "</font>"
      ]
    },
    {
      "cell_type": "code",
      "metadata": {
        "id": "seveHk0RVqbc",
        "colab_type": "code",
        "outputId": "a86a24d1-67c2-42c9-852b-51517b4a1549",
        "colab": {
          "base_uri": "https://localhost:8080/",
          "height": 241
        }
      },
      "source": [
        "# Label encode categorical variables.\n",
        "\n",
        "label_encoder = LabelEncoder()\n",
        "mappings = []\n",
        "\n",
        "# Desired label orders for categorical columns.\n",
        "\n",
        "educ_order = ['unknown', 'illiterate', 'basic.4y', 'basic.6y', 'basic.9y', 'high.school', 'professional.course', 'university.degree']\n",
        "month_order = ['mar', 'apr', 'may', 'jun', 'jul', 'aug', 'sep', 'oct', 'nov', 'dec']\n",
        "day_order = ['mon', 'tue', 'wed', 'thu', 'fri']\n",
        "\n",
        "# using cat.codes for order, one hot for high cardinality and weak case of cardinality.\n",
        "\n",
        "def ordered_labels(df, col, order):\n",
        "    df[col] = df[col].astype('category')\n",
        "    df[col] = df[col].cat.reorder_categories(order, ordered=True)\n",
        "    df[col] = df[col].cat.codes.astype(int)\n",
        "\n",
        "# Use dummy variables for occupation\n",
        "X_df = pd.concat([df, pd.get_dummies(df['job'])],axis=1).drop('job',axis=1)\n",
        "\n",
        "# Use ordered cat.codes for days, months, and education\n",
        "ordered_labels(df, 'education', educ_order)\n",
        "ordered_labels(df, 'month', month_order)\n",
        "ordered_labels(df, 'day_of_week', day_order)\n",
        "\n",
        "# Same label encoding for rest since low cardinality\n",
        "for i, col in enumerate(df):\n",
        "    if df[col].dtype == 'object':\n",
        "        X_df[col] = label_encoder.fit_transform(np.array(df[col].astype(str)).reshape((-1,)))\n",
        "        mappings.append(dict(zip(label_encoder.classes_, range(1, len(label_encoder.classes_)+1))))\n",
        "\n",
        "X_df.head()"
      ],
      "execution_count": 0,
      "outputs": [
        {
          "output_type": "execute_result",
          "data": {
            "text/html": [
              "<div>\n",
              "<style scoped>\n",
              "    .dataframe tbody tr th:only-of-type {\n",
              "        vertical-align: middle;\n",
              "    }\n",
              "\n",
              "    .dataframe tbody tr th {\n",
              "        vertical-align: top;\n",
              "    }\n",
              "\n",
              "    .dataframe thead th {\n",
              "        text-align: right;\n",
              "    }\n",
              "</style>\n",
              "<table border=\"1\" class=\"dataframe\">\n",
              "  <thead>\n",
              "    <tr style=\"text-align: right;\">\n",
              "      <th></th>\n",
              "      <th>age</th>\n",
              "      <th>marital</th>\n",
              "      <th>education</th>\n",
              "      <th>default</th>\n",
              "      <th>housing</th>\n",
              "      <th>loan</th>\n",
              "      <th>contact</th>\n",
              "      <th>month</th>\n",
              "      <th>day_of_week</th>\n",
              "      <th>duration</th>\n",
              "      <th>campaign</th>\n",
              "      <th>pdays</th>\n",
              "      <th>previous</th>\n",
              "      <th>poutcome</th>\n",
              "      <th>emp.var.rate</th>\n",
              "      <th>cons.price.idx</th>\n",
              "      <th>cons.conf.idx</th>\n",
              "      <th>euribor3m</th>\n",
              "      <th>nr.employed</th>\n",
              "      <th>y</th>\n",
              "      <th>admin.</th>\n",
              "      <th>blue-collar</th>\n",
              "      <th>entrepreneur</th>\n",
              "      <th>housemaid</th>\n",
              "      <th>management</th>\n",
              "      <th>retired</th>\n",
              "      <th>self-employed</th>\n",
              "      <th>services</th>\n",
              "      <th>student</th>\n",
              "      <th>technician</th>\n",
              "      <th>unemployed</th>\n",
              "      <th>unknown</th>\n",
              "      <th>job</th>\n",
              "    </tr>\n",
              "  </thead>\n",
              "  <tbody>\n",
              "    <tr>\n",
              "      <th>0</th>\n",
              "      <td>56</td>\n",
              "      <td>1</td>\n",
              "      <td>basic.4y</td>\n",
              "      <td>0</td>\n",
              "      <td>0</td>\n",
              "      <td>0</td>\n",
              "      <td>1</td>\n",
              "      <td>may</td>\n",
              "      <td>mon</td>\n",
              "      <td>261</td>\n",
              "      <td>1</td>\n",
              "      <td>999</td>\n",
              "      <td>0</td>\n",
              "      <td>1</td>\n",
              "      <td>1.1</td>\n",
              "      <td>93.994</td>\n",
              "      <td>-36.4</td>\n",
              "      <td>4.857</td>\n",
              "      <td>5191.0</td>\n",
              "      <td>0</td>\n",
              "      <td>0</td>\n",
              "      <td>0</td>\n",
              "      <td>0</td>\n",
              "      <td>1</td>\n",
              "      <td>0</td>\n",
              "      <td>0</td>\n",
              "      <td>0</td>\n",
              "      <td>0</td>\n",
              "      <td>0</td>\n",
              "      <td>0</td>\n",
              "      <td>0</td>\n",
              "      <td>0</td>\n",
              "      <td>3</td>\n",
              "    </tr>\n",
              "    <tr>\n",
              "      <th>1</th>\n",
              "      <td>57</td>\n",
              "      <td>1</td>\n",
              "      <td>high.school</td>\n",
              "      <td>1</td>\n",
              "      <td>0</td>\n",
              "      <td>0</td>\n",
              "      <td>1</td>\n",
              "      <td>may</td>\n",
              "      <td>mon</td>\n",
              "      <td>149</td>\n",
              "      <td>1</td>\n",
              "      <td>999</td>\n",
              "      <td>0</td>\n",
              "      <td>1</td>\n",
              "      <td>1.1</td>\n",
              "      <td>93.994</td>\n",
              "      <td>-36.4</td>\n",
              "      <td>4.857</td>\n",
              "      <td>5191.0</td>\n",
              "      <td>0</td>\n",
              "      <td>0</td>\n",
              "      <td>0</td>\n",
              "      <td>0</td>\n",
              "      <td>0</td>\n",
              "      <td>0</td>\n",
              "      <td>0</td>\n",
              "      <td>0</td>\n",
              "      <td>1</td>\n",
              "      <td>0</td>\n",
              "      <td>0</td>\n",
              "      <td>0</td>\n",
              "      <td>0</td>\n",
              "      <td>7</td>\n",
              "    </tr>\n",
              "    <tr>\n",
              "      <th>2</th>\n",
              "      <td>37</td>\n",
              "      <td>1</td>\n",
              "      <td>high.school</td>\n",
              "      <td>0</td>\n",
              "      <td>2</td>\n",
              "      <td>0</td>\n",
              "      <td>1</td>\n",
              "      <td>may</td>\n",
              "      <td>mon</td>\n",
              "      <td>226</td>\n",
              "      <td>1</td>\n",
              "      <td>999</td>\n",
              "      <td>0</td>\n",
              "      <td>1</td>\n",
              "      <td>1.1</td>\n",
              "      <td>93.994</td>\n",
              "      <td>-36.4</td>\n",
              "      <td>4.857</td>\n",
              "      <td>5191.0</td>\n",
              "      <td>0</td>\n",
              "      <td>0</td>\n",
              "      <td>0</td>\n",
              "      <td>0</td>\n",
              "      <td>0</td>\n",
              "      <td>0</td>\n",
              "      <td>0</td>\n",
              "      <td>0</td>\n",
              "      <td>1</td>\n",
              "      <td>0</td>\n",
              "      <td>0</td>\n",
              "      <td>0</td>\n",
              "      <td>0</td>\n",
              "      <td>7</td>\n",
              "    </tr>\n",
              "    <tr>\n",
              "      <th>3</th>\n",
              "      <td>40</td>\n",
              "      <td>1</td>\n",
              "      <td>basic.6y</td>\n",
              "      <td>0</td>\n",
              "      <td>0</td>\n",
              "      <td>0</td>\n",
              "      <td>1</td>\n",
              "      <td>may</td>\n",
              "      <td>mon</td>\n",
              "      <td>151</td>\n",
              "      <td>1</td>\n",
              "      <td>999</td>\n",
              "      <td>0</td>\n",
              "      <td>1</td>\n",
              "      <td>1.1</td>\n",
              "      <td>93.994</td>\n",
              "      <td>-36.4</td>\n",
              "      <td>4.857</td>\n",
              "      <td>5191.0</td>\n",
              "      <td>0</td>\n",
              "      <td>1</td>\n",
              "      <td>0</td>\n",
              "      <td>0</td>\n",
              "      <td>0</td>\n",
              "      <td>0</td>\n",
              "      <td>0</td>\n",
              "      <td>0</td>\n",
              "      <td>0</td>\n",
              "      <td>0</td>\n",
              "      <td>0</td>\n",
              "      <td>0</td>\n",
              "      <td>0</td>\n",
              "      <td>0</td>\n",
              "    </tr>\n",
              "    <tr>\n",
              "      <th>4</th>\n",
              "      <td>56</td>\n",
              "      <td>1</td>\n",
              "      <td>high.school</td>\n",
              "      <td>0</td>\n",
              "      <td>0</td>\n",
              "      <td>2</td>\n",
              "      <td>1</td>\n",
              "      <td>may</td>\n",
              "      <td>mon</td>\n",
              "      <td>307</td>\n",
              "      <td>1</td>\n",
              "      <td>999</td>\n",
              "      <td>0</td>\n",
              "      <td>1</td>\n",
              "      <td>1.1</td>\n",
              "      <td>93.994</td>\n",
              "      <td>-36.4</td>\n",
              "      <td>4.857</td>\n",
              "      <td>5191.0</td>\n",
              "      <td>0</td>\n",
              "      <td>0</td>\n",
              "      <td>0</td>\n",
              "      <td>0</td>\n",
              "      <td>0</td>\n",
              "      <td>0</td>\n",
              "      <td>0</td>\n",
              "      <td>0</td>\n",
              "      <td>1</td>\n",
              "      <td>0</td>\n",
              "      <td>0</td>\n",
              "      <td>0</td>\n",
              "      <td>0</td>\n",
              "      <td>7</td>\n",
              "    </tr>\n",
              "  </tbody>\n",
              "</table>\n",
              "</div>"
            ],
            "text/plain": [
              "   age  marital    education  default  housing  loan  contact month  \\\n",
              "0   56        1     basic.4y        0        0     0        1   may   \n",
              "1   57        1  high.school        1        0     0        1   may   \n",
              "2   37        1  high.school        0        2     0        1   may   \n",
              "3   40        1     basic.6y        0        0     0        1   may   \n",
              "4   56        1  high.school        0        0     2        1   may   \n",
              "\n",
              "  day_of_week  duration  campaign  pdays  previous  poutcome  emp.var.rate  \\\n",
              "0         mon       261         1    999         0         1           1.1   \n",
              "1         mon       149         1    999         0         1           1.1   \n",
              "2         mon       226         1    999         0         1           1.1   \n",
              "3         mon       151         1    999         0         1           1.1   \n",
              "4         mon       307         1    999         0         1           1.1   \n",
              "\n",
              "   cons.price.idx  cons.conf.idx  euribor3m  nr.employed  y  admin.  \\\n",
              "0          93.994          -36.4      4.857       5191.0  0       0   \n",
              "1          93.994          -36.4      4.857       5191.0  0       0   \n",
              "2          93.994          -36.4      4.857       5191.0  0       0   \n",
              "3          93.994          -36.4      4.857       5191.0  0       1   \n",
              "4          93.994          -36.4      4.857       5191.0  0       0   \n",
              "\n",
              "   blue-collar  entrepreneur  housemaid  management  retired  self-employed  \\\n",
              "0            0             0          1           0        0              0   \n",
              "1            0             0          0           0        0              0   \n",
              "2            0             0          0           0        0              0   \n",
              "3            0             0          0           0        0              0   \n",
              "4            0             0          0           0        0              0   \n",
              "\n",
              "   services  student  technician  unemployed  unknown  job  \n",
              "0         0        0           0           0        0    3  \n",
              "1         1        0           0           0        0    7  \n",
              "2         1        0           0           0        0    7  \n",
              "3         0        0           0           0        0    0  \n",
              "4         1        0           0           0        0    7  "
            ]
          },
          "metadata": {
            "tags": []
          },
          "execution_count": 24
        }
      ]
    },
    {
      "cell_type": "markdown",
      "metadata": {
        "id": "x6xZLmEOXJdQ",
        "colab_type": "text"
      },
      "source": [
        "<font color=brown size=4> \n",
        "Now using Cross Validation to bring out the better combination of Parameters"
      ]
    },
    {
      "cell_type": "code",
      "metadata": {
        "id": "Gr5LqeS3XNbi",
        "colab_type": "code",
        "colab": {}
      },
      "source": [
        ""
      ],
      "execution_count": 0,
      "outputs": []
    },
    {
      "cell_type": "code",
      "metadata": {
        "id": "XYchUsJoWH5s",
        "colab_type": "code",
        "outputId": "9b131c36-1439-4e0b-c165-c7b845afcb68",
        "colab": {
          "base_uri": "https://localhost:8080/",
          "height": 604
        }
      },
      "source": [
        "##Split The Data into Train and Test\n",
        "from sklearn.model_selection import train_test_split\n",
        "X_train,X_test,y_train,y_test= train_test_split(label_df, y, test_size=0.30, random_state=42)\n",
        "\n",
        "#Convert DataFrame to Numpy array\n",
        "\n",
        "Xtrain=X_train.values\n",
        "Xtest=X_test.values\n",
        "ytrain=y_train.values\n",
        "ytest=y_test.values\n",
        "\n",
        "##Initialize StandardScaler\n",
        "from sklearn.preprocessing import StandardScaler\n",
        "sc=StandardScaler()\n",
        "\n",
        "#Transform the training data\n",
        "X_train=sc.fit_transform(X_train)\n",
        "X_train=pd.DataFrame(X_train,columns=X_test.columns)\n",
        "\n",
        "#Transform the testing data\n",
        "X_test=sc.transform(X_test)\n",
        "X_test=pd.DataFrame(X_test,columns=X_train.columns)\n",
        "\n",
        "clf_cdv=RandomForestClassifier() #cdv stands for Custom Orders and Dummy Variables\n",
        "clf_cdv.fit(X_train,y_train)\n",
        "\n",
        "y_pred_cdv=clf_cdv.predict(X_test)\n",
        "(y_test==y_pred_cdv).mean()\n",
        "\n",
        "accuracies_cdv=cross_val_score (estimator=clf_cdv, X=X_train, y=y_train, cv=20)\n",
        "\n",
        "print ('predictions Mean', (y_test==y_pred_cdv).mean())\n",
        "print ('Mean Accuracies ', accuracies_cdv.mean())\n",
        "\n",
        "cm_cdv=confusion_matrix(y_test,y_pred_cdv)\n",
        "print (cm_cdv)\n",
        "\n",
        "y_pred_prob_cdv = clf_cdv.predict_proba(X_test)[:, 1]\n",
        "\n",
        "recall_score(y_test, y_pred_cdv)\n",
        "roc_curve(y_test, y_pred_cdv)\n",
        "\n",
        "report_cdv = classification_report(y_test, y_pred_cdv)\n",
        "print(report_cdv)\n",
        "\n",
        "y_pred_prob_cdv = clf_cdv.predict_proba(X_test)[:, 1]\n",
        "\n",
        "# calculate roc curve\n",
        "fpr_cdv, tpr_cdv, thresholds_cdv = roc_curve(y_test, y_pred_prob_cdv)\n",
        "\n",
        "roc_auc_cdv = metrics.auc(fpr_cdv, tpr_cdv)\n",
        "\n",
        "# calculate AUC\n",
        "auc_cdv = roc_auc_score(y_test, y_pred_prob_cdv)\n",
        "print('AUC: %.3f' % auc_cdv)\n",
        "\n",
        "accuracy_cdv = metrics.accuracy_score(y_pred_cdv, y_test)\n",
        "balanced_accuracy_cdv = metrics.balanced_accuracy_score(y_pred_cdv, y_test)\n",
        "precision_cdv = metrics.precision_score(y_pred_cdv, y_test)\n",
        "average_precision_cdv = metrics.average_precision_score(y_pred_cdv, y_test)\n",
        "f1_score_cdv = metrics.f1_score(y_pred_cdv, y_test)\n",
        "recall_cdv = metrics.recall_score(y_pred_cdv, y_test)\n",
        "\n",
        "\n",
        "plt.plot([0, 1], [0, 1], linestyle='--')\n",
        "# plot the roc curve for the model\n",
        "plt.plot(fpr_cdv, tpr_cdv, marker='.', label='RandomForestClasfier (area = %0.2f)' % roc_auc_cdv) \n",
        "\n",
        "plt.title('Receiver Operating Characteristic Curve')\n",
        "plt.xlabel('False Postive Rate') \n",
        "plt.ylabel('True Postive Rate')\n",
        "# show the plot\n",
        "plt.show()\n",
        "'''\n",
        "Predictions Mean  0.8917212915756252\n",
        "Mean Accuracies   0.9088468830649961\n",
        "[[10636   303]\n",
        " [ 1035   383]]\n",
        "              precision    recall  f1-score   support\n",
        "\n",
        "           0       0.93      0.97      0.95     10939\n",
        "           1       0.66      0.43      0.52      1418\n",
        "\n",
        "    accuracy                           0.91     12357\n",
        "   macro avg       0.79      0.70      0.74     12357\n",
        "weighted avg       0.90      0.91      0.90     12357\n",
        "\n",
        "AUC: 0.919 '''"
      ],
      "execution_count": 0,
      "outputs": [
        {
          "output_type": "stream",
          "text": [
            "/usr/local/lib/python3.6/dist-packages/sklearn/ensemble/forest.py:245: FutureWarning: The default value of n_estimators will change from 10 in version 0.20 to 100 in 0.22.\n",
            "  \"10 in version 0.20 to 100 in 0.22.\", FutureWarning)\n"
          ],
          "name": "stderr"
        },
        {
          "output_type": "stream",
          "text": [
            "predictions Mean 0.9093631140244396\n",
            "Mean Accuracies  0.9089182365844339\n",
            "[[10612   356]\n",
            " [  764   625]]\n",
            "              precision    recall  f1-score   support\n",
            "\n",
            "           0       0.93      0.97      0.95     10968\n",
            "           1       0.64      0.45      0.53      1389\n",
            "\n",
            "    accuracy                           0.91     12357\n",
            "   macro avg       0.78      0.71      0.74     12357\n",
            "weighted avg       0.90      0.91      0.90     12357\n",
            "\n",
            "AUC: 0.921\n"
          ],
          "name": "stdout"
        },
        {
          "output_type": "display_data",
          "data": {
            "image/png": "[encoded data removed]",
            "text/plain": [
              "<Figure size 432x288 with 1 Axes>"
            ]
          },
          "metadata": {
            "tags": []
          }
        },
        {
          "output_type": "execute_result",
          "data": {
            "text/plain": [
              "'\\nPredictions Mean  0.8917212915756252\\nMean Accuracies   0.9088468830649961\\n[[10636   303]\\n [ 1035   383]]\\n              precision    recall  f1-score   support\\n\\n           0       0.93      0.97      0.95     10939\\n           1       0.66      0.43      0.52      1418\\n\\n    accuracy                           0.91     12357\\n   macro avg       0.79      0.70      0.74     12357\\nweighted avg       0.90      0.91      0.90     12357\\n\\nAUC: 0.919 '"
            ]
          },
          "metadata": {
            "tags": []
          },
          "execution_count": 25
        }
      ]
    },
    {
      "cell_type": "markdown",
      "metadata": {
        "id": "lUxc7XBbthuf",
        "colab_type": "text"
      },
      "source": [
        "<font color=blue size=5>\n",
        "With normalized data and resampled data with the Random Forest Model.\n",
        "</font>"
      ]
    },
    {
      "cell_type": "code",
      "metadata": {
        "id": "MCh6yJ74tYtb",
        "colab_type": "code",
        "outputId": "c07ac5c0-bc2d-408a-8035-afd5cec549ea",
        "colab": {
          "base_uri": "https://localhost:8080/",
          "height": 655
        }
      },
      "source": [
        "from imblearn.over_sampling import SMOTE\n",
        "\n",
        "X_train, X_test, y_train, y_test = train_test_split(X, y, test_size = 0.25, random_state = 42)\n",
        "\n",
        "sm = SMOTE(random_state = 2)\n",
        "X_train, y_train = sm.fit_sample(X_train, y_train.ravel())\n",
        "\n",
        "clf_res = RandomForestClassifier() # res stands for Normalized and Resampled dataset\n",
        "model_res = clf_res.fit(X_train, y_train)\n",
        "\n",
        "y_pred_res=clf_res.predict(X_test) # res stands for Normalized and Resampled dataset\n",
        "(y_test==y_pred_res).mean()\n",
        "\n",
        "accuracies_res=cross_val_score (estimator=clf_res, X=X_train, y=y_train, cv=20) # res stands for Normalized and Resampled dataset\n",
        "\n",
        "print ('predictions Mean ', (y_test==y_pred_res).mean())\n",
        "print ('Mean Accuracies  ', accuracies_res.mean())\n",
        "\n",
        "y_pred_prob_res = clf_res.predict_proba(X_test)[:, 1] # res stands for Normalized and Resampled dataset\n",
        "\n",
        "print('y_pred_prob_res------>  ', y_pred_prob_res)\n",
        "\n",
        "cm_res=confusion_matrix(y_test,y_pred_res) # res stands for Normalized and Resampled dataset\n",
        "print (cm_res)\n",
        "\n",
        "recall_score(y_test, y_pred_res)\n",
        "roc_curve(y_test, y_pred_res)\n",
        "\n",
        "report_res = classification_report(y_test, y_pred_res) # res stands for Normalized and Resampled dataset\n",
        "print(report_res)\n",
        "\n",
        "\n",
        "# calculate roc curve\n",
        "fpr_res, tpr_res, thresholds_res = roc_curve(y_test, y_pred_prob_res) # res stands for Normalized and Resampled dataset\n",
        "roc_auc_res = metrics.auc(fpr_res, tpr_res)\n",
        "\n",
        "print('ROC AUC RES: %.4f' % roc_auc_res)\n",
        "accuracy_res = metrics.accuracy_score(y_pred_res, y_test)\n",
        "balanced_accuracy_res = metrics.balanced_accuracy_score(y_pred_res, y_test)\n",
        "precision_res = metrics.precision_score(y_pred_res, y_test)\n",
        "average_precision_res = metrics.average_precision_score(y_pred_res, y_test)\n",
        "f1_score_res = metrics.f1_score(y_pred_res, y_test)\n",
        "recall_res = metrics.recall_score(y_pred_res, y_test)\n",
        "\n",
        "# calculate AUC\n",
        "auc_res = roc_auc_score(y_test, y_pred_prob_res)\n",
        "print('AUC: %.3f' % auc_res)\n",
        "\n",
        "plt.plot([0, 1], [0, 1], linestyle='--')\n",
        "# plot the roc curve for the model\n",
        "plt.plot(fpr_res, tpr_res, marker='.' , label='RandomForestClasfier (area = %0.3f)' % roc_auc_res)\n",
        "\n",
        "plt.title('Receiver Operating Characteristic Curve')\n",
        "plt.xlabel('False Postive Rate') \n",
        "plt.ylabel('True Postive Rate')\n",
        "# show the plot\n",
        "plt.show()"
      ],
      "execution_count": 0,
      "outputs": [
        {
          "output_type": "stream",
          "text": [
            "/usr/local/lib/python3.6/dist-packages/sklearn/externals/six.py:31: DeprecationWarning: The module is deprecated in version 0.21 and will be removed in version 0.23 since we've dropped support for Python 2.7. Please rely on the official version of six (https://pypi.org/project/six/).\n",
            "  \"(https://pypi.org/project/six/).\", DeprecationWarning)\n",
            "/usr/local/lib/python3.6/dist-packages/sklearn/ensemble/forest.py:245: FutureWarning: The default value of n_estimators will change from 10 in version 0.20 to 100 in 0.22.\n",
            "  \"10 in version 0.20 to 100 in 0.22.\", FutureWarning)\n"
          ],
          "name": "stderr"
        },
        {
          "output_type": "stream",
          "text": [
            "predictions Mean  0.8888025638535496\n",
            "Mean Accuracies   0.9378618223152155\n",
            "y_pred_prob_res------>   [0.2 0.1 0.  ... 0.  0.3 0. ]\n",
            "[[8812  332]\n",
            " [ 813  340]]\n",
            "              precision    recall  f1-score   support\n",
            "\n",
            "           0       0.92      0.96      0.94      9144\n",
            "           1       0.51      0.29      0.37      1153\n",
            "\n",
            "    accuracy                           0.89     10297\n",
            "   macro avg       0.71      0.63      0.66     10297\n",
            "weighted avg       0.87      0.89      0.88     10297\n",
            "\n",
            "ROC AUC RES: 0.7355\n",
            "AUC: 0.735\n"
          ],
          "name": "stdout"
        },
        {
          "output_type": "display_data",
          "data": {
            "image/png": "[encoded data removed]",
            "text/plain": [
              "<Figure size 432x288 with 1 Axes>"
            ]
          },
          "metadata": {
            "tags": []
          }
        }
      ]
    },
    {
      "cell_type": "markdown",
      "metadata": {
        "id": "Py57Ba6Ly1mg",
        "colab_type": "text"
      },
      "source": [
        "<font color=red size=5>\n",
        "There is drastic fall in the AUC may be because of no standadization methods applied. \n",
        "<font color=brown size=5> <br>\n",
        "Will adopt the MinMaxScaler and constrain the range of values to be between 0 and 1. "
      ]
    },
    {
      "cell_type": "code",
      "metadata": {
        "id": "ITrnJJRCdQEu",
        "colab_type": "code",
        "outputId": "a278d24e-bfdb-44c5-be69-ea8eb82049f5",
        "colab": {
          "base_uri": "https://localhost:8080/",
          "height": 604
        }
      },
      "source": [
        "\n",
        "##Split The Data into Train and Test\n",
        "from sklearn.model_selection import train_test_split\n",
        "X_train,X_test,y_train,y_test= train_test_split(X, y, test_size=0.30, random_state=42)\n",
        "\n",
        "# Normalizing continuous variables\n",
        "\n",
        "from sklearn.preprocessing import MinMaxScaler\n",
        "\n",
        "scaler = MinMaxScaler(feature_range = (0,1))\n",
        "\n",
        "scaler.fit(X_train)\n",
        "X_train = scaler.transform(X_train)\n",
        "X_test = scaler.transform(X_test)\n",
        "\n",
        "clf_mmc=RandomForestClassifier()                                 # mmc stands for Min Max Scaler and Contrained values between 0 and 1\n",
        "clf_mmc.fit(X_train,y_train)\n",
        "\n",
        "y_pred_mmc=clf_mmc.predict(X_test)                               # mmc stands for Min Max Scaler and Contrained values between 0 and 1\n",
        "(y_test==y_pred_mmc).mean()                                      # mmc stands for Min Max Scaler and Contrained values between 0 and 1\n",
        "\n",
        "accuracies_mmc=cross_val_score (estimator=clf_mmc, X=X_train, y=y_train, cv=20) # mmc stands for Min Max Scaler and Contrained values between 0 and 1\n",
        "\n",
        "print ('Predictions Mean MMC ', (y_test==y_pred_mmc).mean())      # mmc stands for Min Max Scaler and Contrained values between 0 and 1\n",
        "print ('Mean Accuracies MMC  ', accuracies_mmc.mean())            # mmc stands for Min Max Scaler and Contrained values between 0 and 1\n",
        "\n",
        "y_pred_prob_mmc = clf_mmc.predict_proba(X_test)[:, 1]             # mmc stands for Min Max Scaler and Contrained values between 0 and 1\n",
        "\n",
        "cm_mmc=confusion_matrix(y_test,y_pred_mmc)                        # mmc stands for Min Max Scaler and Contrained values between 0 and 1\n",
        "print (cm_mmc)                                                    # mmc stands for Min Max Scaler and Contrained values between 0 and 1\n",
        "\n",
        "recall_score(y_test, y_pred_mmc)                                  # mmc stands for Min Max Scaler and Contrained values between 0 and 1\n",
        "roc_curve(y_test, y_pred_mmc)                                     # mmc stands for Min Max Scaler and Contrained values between 0 and 1\n",
        "\n",
        "\n",
        "\n",
        "report_mmc = classification_report(y_test, y_pred_mmc)            # mmc stands for Min Max Scaler and Contrained values between 0 and 1\n",
        "print(report_mmc)                                                 # mmc stands for Min Max Scaler and Contrained values between 0 and 1\n",
        "\n",
        "\n",
        "# calculate roc curve\n",
        "fpr_mmc, tpr_mmc, thresholds_mmc = roc_curve(y_test, y_pred_prob_mmc)     # mmc stands for Min Max Scaler and Contrained values between 0 and 1\n",
        "roc_auc_mmc = metrics.auc(fpr_mmc, tpr_mmc)\n",
        "print('ROC AUC MMC: %.3f' %roc_auc_mmc)\n",
        "\n",
        "# calculate AUC\n",
        "auc_mmc = roc_auc_score(y_test, y_pred_prob_mmc)                   # mmc stands for Min Max Scaler and Contrained values between 0 and 1\n",
        "print('AUC: %.3f' % auc_mmc)                  # mmc stands for Min Max Scaler and Contrained values between 0 and 1\n",
        "\n",
        "accuracy_mmc = metrics.accuracy_score(y_pred_mmc, y_test)\n",
        "balanced_accuracy_mmc = metrics.balanced_accuracy_score(y_pred_mmc, y_test)\n",
        "precision_mmc = metrics.precision_score(y_pred_mmc, y_test)\n",
        "average_precision_mmc = metrics.average_precision_score(y_pred_mmc, y_test)\n",
        "f1_score_mmc = metrics.f1_score(y_pred_mmc, y_test)\n",
        "recall_mmc = metrics.recall_score(y_pred_mmc, y_test)\n",
        "\n",
        "plt.plot([0, 1], [0, 1], linestyle='--')\n",
        "# plot the roc curve for the model\n",
        "plt.plot(fpr_mmc, tpr_mmc, marker='.',label='RandomForestClasfier (area = %0.3f)' % roc_auc_mmc) # mmc stands for Min Max Scaler and Contrained values between 0 and 1\n",
        "\n",
        "plt.title('Receiver Operating Characteristic Curve')\n",
        "plt.xlabel('False Postive Rate') \n",
        "plt.ylabel('True Postive Rate')\n",
        "# show the plot\n",
        "plt.show()"
      ],
      "execution_count": 0,
      "outputs": [
        {
          "output_type": "stream",
          "text": [
            "/usr/local/lib/python3.6/dist-packages/sklearn/ensemble/forest.py:245: FutureWarning: The default value of n_estimators will change from 10 in version 0.20 to 100 in 0.22.\n",
            "  \"10 in version 0.20 to 100 in 0.22.\", FutureWarning)\n"
          ],
          "name": "stderr"
        },
        {
          "output_type": "stream",
          "text": [
            "Predictions Mean MMC  0.8892125920530873\n",
            "Mean Accuracies MMC   0.8891821011568289\n",
            "[[10632   336]\n",
            " [ 1033   356]]\n",
            "              precision    recall  f1-score   support\n",
            "\n",
            "           0       0.91      0.97      0.94     10968\n",
            "           1       0.51      0.26      0.34      1389\n",
            "\n",
            "    accuracy                           0.89     12357\n",
            "   macro avg       0.71      0.61      0.64     12357\n",
            "weighted avg       0.87      0.89      0.87     12357\n",
            "\n",
            "ROC AUC MMC: 0.745\n",
            "AUC: 0.745\n"
          ],
          "name": "stdout"
        },
        {
          "output_type": "display_data",
          "data": {
            "image/png": "[encoded data removed]",
            "text/plain": [
              "<Figure size 432x288 with 1 Axes>"
            ]
          },
          "metadata": {
            "tags": []
          }
        }
      ]
    },
    {
      "cell_type": "code",
      "metadata": {
        "id": "QmQuEWNr2E6v",
        "colab_type": "code",
        "outputId": "e3d7fc5f-8e76-42a8-9107-a42ef2dc1a71",
        "colab": {
          "base_uri": "https://localhost:8080/",
          "height": 295
        }
      },
      "source": [
        "plt.plot([0, 1], [0, 1], linestyle='--')\n",
        "# plot the roc curve for the model\n",
        "#plt.set_cmap(matplotlib.cm.get_cmap)\n",
        "#plt.set_cmap('Accent_r')\n",
        "plt.set_cmap('Blues_r')\n",
        "plt.plot(fpr, tpr, marker='.', label='RandomForestClasfier (area = %0.3f)' % roc_auc)\n",
        "plt.plot(fpr_le, tpr_le, marker='.', label='RandomForestClasfier (area = %0.3f)' % roc_auc_le)\n",
        "plt.plot(fpr_cdv, tpr_cdv, marker='.' , label='RandomForestClasfier (area = %0.3f)' % roc_auc_cdv)\n",
        "plt.plot(fpr_res, tpr_res, marker='.' , label='RandomForestClasfier (area = %0.3f)' % roc_auc_res)\n",
        "plt.plot(fpr_mmc, tpr_mmc, marker='.' , label='RandomForestClasfier (area = %0.3f)' % roc_auc_mmc)\n",
        "\n",
        "plt.title('Receiver Operating Characteristic Curve')\n",
        "plt.xlabel('False Postive Rate') \n",
        "plt.ylabel('True Postive Rate')\n",
        "plt.legend(['auc'+str(round(auc,4)), 'auc_le'+str(round(auc_le,4)), 'auc_cdv'+str(round(auc_cdv,4)), 'auc_res'+str(round(auc_res,4)), \n",
        "            'auc_mmc'+str(round(auc_mmc,4))], loc='lower right')\n",
        "# show the plot\n",
        "plt.show()"
      ],
      "execution_count": 0,
      "outputs": [
        {
          "output_type": "display_data",
          "data": {
            "image/png": "[encoded data removed]",
            "text/plain": [
              "<Figure size 432x288 with 1 Axes>"
            ]
          },
          "metadata": {
            "tags": []
          }
        }
      ]
    },
    {
      "cell_type": "code",
      "metadata": {
        "id": "5aTMhoRP2dlR",
        "colab_type": "code",
        "outputId": "7a88fee4-005a-43e5-c901-51c8ee6063f8",
        "colab": {
          "base_uri": "https://localhost:8080/",
          "height": 204
        }
      },
      "source": [
        "\n",
        "#Printing the Performance Metrics in Tabular format.\n",
        "\n",
        "print (\n",
        "      'Accuracy            ,'\n",
        "    , 'AUC                 ,' \n",
        "    , 'balanced_accuracy   ,'\n",
        "    , 'precision           ,'\n",
        "    , 'average_precision   ,'\n",
        "    , 'f1_score            ,'\n",
        "    , 'recall              '\n",
        "    ) #, balanced_accuracy, precision, average_precision, f1_score, recall, roc_auc)\n",
        "print ('Normal')\n",
        "print (\n",
        "    accuracies.max(),\",\"\n",
        "    , auc,\",\"\n",
        "    , balanced_accuracy,\",\"\n",
        "    , precision,\",\"\n",
        "    , average_precision,\",\"\n",
        "    , f1_score,\",\"\n",
        "    , recall\n",
        ")\n",
        "print ('Label Encoding')\n",
        "print (\n",
        "    accuracies_le.max(),\",\"\n",
        "    , auc_le,\",\"\n",
        "    , balanced_accuracy_le,\",\"\n",
        "    , precision_le,\",\"\n",
        "    , average_precision_le,\",\"\n",
        "    , f1_score_le,\",\"\n",
        "    , recall_le\n",
        ")\n",
        "print ('Label Custom Order and Dummy Variables')\n",
        "print (\n",
        "    accuracies_cdv.max(),\",\"\n",
        "    , auc_cdv,\",\"\n",
        "    , balanced_accuracy_cdv,\",\"\n",
        "    , precision_cdv,\",\"\n",
        "    , average_precision_cdv,\",\"\n",
        "    , f1_score_cdv,\",\"\n",
        "    , recall_cdv\n",
        ")\n",
        "print ('ReSampling')\n",
        "print (\n",
        "    accuracies_res.max(),\",\"\n",
        "    , auc_res,\",\"\n",
        "    , balanced_accuracy_res,\",\"\n",
        "    , precision_res,\",\"\n",
        "    , average_precision_res,\",\"\n",
        "    , f1_score_res,\",\"\n",
        "    , recall_res\n",
        ")\n",
        "print ('MinMaxScaler')\n",
        "print (\n",
        "    accuracies_mmc.max(),\",\"\n",
        "    , auc_mmc,\",\"\n",
        "    , balanced_accuracy_mmc,\",\"\n",
        "    , precision_mmc,\",\"\n",
        "    , average_precision_mmc,\",\"\n",
        "    , f1_score_mmc,\",\"\n",
        "    , recall_mmc\n",
        ")"
      ],
      "execution_count": 0,
      "outputs": [
        {
          "output_type": "stream",
          "text": [
            "Accuracy            , AUC                 , balanced_accuracy   , precision           , average_precision   , f1_score            , recall              \n",
            "Normal\n",
            "0.9064449064449065 , 0.7484763242141219 , 0.7317685436928224 , 0.26657263751763044 , 0.17207974963671252 , 0.35965746907706947 , 0.5526315789473685\n",
            "Label Encoding\n",
            "0.9181692094313454 , 0.9174252435386334 , 0.7855451268124016 , 0.4527503526093089 , 0.318802831952763 , 0.5301403798513625 , 0.6394422310756972\n",
            "Label Custom Order and Dummy Variables\n",
            "0.9188626907073509 , 0.9214787543473546 , 0.7849730319100892 , 0.4499640028797696 , 0.3154838953749814 , 0.5274261603375527 , 0.6371049949031601\n",
            "ReSampling\n",
            "0.9824817518248176 , 0.7354792719968981 , 0.7107424242424243 , 0.2948829141370338 , 0.18143911320904157 , 0.3726027397260274 , 0.5059523809523809\n",
            "MinMaxScaler\n",
            "0.8979875086745316 , 0.7445757184064223 , 0.7129476795611595 , 0.25629949604031677 , 0.15904456375560563 , 0.3421432003844305 , 0.5144508670520231\n"
          ],
          "name": "stdout"
        }
      ]
    },
    {
      "cell_type": "markdown",
      "metadata": {
        "id": "i-HCzVog-uNj",
        "colab_type": "text"
      },
      "source": [
        "<font color=green size=5>\n",
        "Label Encoding Model seem doing well with all Metrics being balanced. "
      ]
    },
    {
      "cell_type": "code",
      "metadata": {
        "id": "7UYu6_6fi0yy",
        "colab_type": "code",
        "colab": {}
      },
      "source": [
        ""
      ],
      "execution_count": 0,
      "outputs": []
    },
    {
      "cell_type": "markdown",
      "metadata": {
        "id": "PKxc1FGAJhob",
        "colab_type": "text"
      },
      "source": [
        "<font color=brown size=6>\n",
        "Adaptive Boosting. Will try <br> <font color=brown size=5> \n",
        "1) Basic Normal <br>\n",
        "2) Label Encoding <br>\n",
        "3) Custom Order and Dummy Variables <br>\n",
        "4) ReSampling <br>\n",
        "5) MinMaxScaller"
      ]
    },
    {
      "cell_type": "code",
      "metadata": {
        "id": "VYr5c2MjBkB8",
        "colab_type": "code",
        "outputId": "22a802a2-c797-495c-9cf7-b1c728e18006",
        "colab": {
          "base_uri": "https://localhost:8080/",
          "height": 224
        }
      },
      "source": [
        "# AdaBoost Algorithm\n",
        "from sklearn.ensemble import AdaBoostClassifier\n",
        "\n",
        "df = pd.read_csv('My Drive/MyLearning/MLDLAIPython/Data/TextData/bank-additional-full_prj.csv')\n",
        "df.head()"
      ],
      "execution_count": 0,
      "outputs": [
        {
          "output_type": "execute_result",
          "data": {
            "text/html": [
              "<div>\n",
              "<style scoped>\n",
              "    .dataframe tbody tr th:only-of-type {\n",
              "        vertical-align: middle;\n",
              "    }\n",
              "\n",
              "    .dataframe tbody tr th {\n",
              "        vertical-align: top;\n",
              "    }\n",
              "\n",
              "    .dataframe thead th {\n",
              "        text-align: right;\n",
              "    }\n",
              "</style>\n",
              "<table border=\"1\" class=\"dataframe\">\n",
              "  <thead>\n",
              "    <tr style=\"text-align: right;\">\n",
              "      <th></th>\n",
              "      <th>age</th>\n",
              "      <th>job</th>\n",
              "      <th>marital</th>\n",
              "      <th>education</th>\n",
              "      <th>default</th>\n",
              "      <th>housing</th>\n",
              "      <th>loan</th>\n",
              "      <th>contact</th>\n",
              "      <th>month</th>\n",
              "      <th>day_of_week</th>\n",
              "      <th>duration</th>\n",
              "      <th>campaign</th>\n",
              "      <th>pdays</th>\n",
              "      <th>previous</th>\n",
              "      <th>poutcome</th>\n",
              "      <th>emp.var.rate</th>\n",
              "      <th>cons.price.idx</th>\n",
              "      <th>cons.conf.idx</th>\n",
              "      <th>euribor3m</th>\n",
              "      <th>nr.employed</th>\n",
              "      <th>y</th>\n",
              "    </tr>\n",
              "  </thead>\n",
              "  <tbody>\n",
              "    <tr>\n",
              "      <th>0</th>\n",
              "      <td>56</td>\n",
              "      <td>housemaid</td>\n",
              "      <td>married</td>\n",
              "      <td>basic.4y</td>\n",
              "      <td>no</td>\n",
              "      <td>no</td>\n",
              "      <td>no</td>\n",
              "      <td>telephone</td>\n",
              "      <td>may</td>\n",
              "      <td>mon</td>\n",
              "      <td>261</td>\n",
              "      <td>1</td>\n",
              "      <td>999</td>\n",
              "      <td>0</td>\n",
              "      <td>nonexistent</td>\n",
              "      <td>1.1</td>\n",
              "      <td>93.994</td>\n",
              "      <td>-36.4</td>\n",
              "      <td>4.857</td>\n",
              "      <td>5191.0</td>\n",
              "      <td>no</td>\n",
              "    </tr>\n",
              "    <tr>\n",
              "      <th>1</th>\n",
              "      <td>57</td>\n",
              "      <td>services</td>\n",
              "      <td>married</td>\n",
              "      <td>high.school</td>\n",
              "      <td>unknown</td>\n",
              "      <td>no</td>\n",
              "      <td>no</td>\n",
              "      <td>telephone</td>\n",
              "      <td>may</td>\n",
              "      <td>mon</td>\n",
              "      <td>149</td>\n",
              "      <td>1</td>\n",
              "      <td>999</td>\n",
              "      <td>0</td>\n",
              "      <td>nonexistent</td>\n",
              "      <td>1.1</td>\n",
              "      <td>93.994</td>\n",
              "      <td>-36.4</td>\n",
              "      <td>4.857</td>\n",
              "      <td>5191.0</td>\n",
              "      <td>no</td>\n",
              "    </tr>\n",
              "    <tr>\n",
              "      <th>2</th>\n",
              "      <td>37</td>\n",
              "      <td>services</td>\n",
              "      <td>married</td>\n",
              "      <td>high.school</td>\n",
              "      <td>no</td>\n",
              "      <td>yes</td>\n",
              "      <td>no</td>\n",
              "      <td>telephone</td>\n",
              "      <td>may</td>\n",
              "      <td>mon</td>\n",
              "      <td>226</td>\n",
              "      <td>1</td>\n",
              "      <td>999</td>\n",
              "      <td>0</td>\n",
              "      <td>nonexistent</td>\n",
              "      <td>1.1</td>\n",
              "      <td>93.994</td>\n",
              "      <td>-36.4</td>\n",
              "      <td>4.857</td>\n",
              "      <td>5191.0</td>\n",
              "      <td>no</td>\n",
              "    </tr>\n",
              "    <tr>\n",
              "      <th>3</th>\n",
              "      <td>40</td>\n",
              "      <td>admin.</td>\n",
              "      <td>married</td>\n",
              "      <td>basic.6y</td>\n",
              "      <td>no</td>\n",
              "      <td>no</td>\n",
              "      <td>no</td>\n",
              "      <td>telephone</td>\n",
              "      <td>may</td>\n",
              "      <td>mon</td>\n",
              "      <td>151</td>\n",
              "      <td>1</td>\n",
              "      <td>999</td>\n",
              "      <td>0</td>\n",
              "      <td>nonexistent</td>\n",
              "      <td>1.1</td>\n",
              "      <td>93.994</td>\n",
              "      <td>-36.4</td>\n",
              "      <td>4.857</td>\n",
              "      <td>5191.0</td>\n",
              "      <td>no</td>\n",
              "    </tr>\n",
              "    <tr>\n",
              "      <th>4</th>\n",
              "      <td>56</td>\n",
              "      <td>services</td>\n",
              "      <td>married</td>\n",
              "      <td>high.school</td>\n",
              "      <td>no</td>\n",
              "      <td>no</td>\n",
              "      <td>yes</td>\n",
              "      <td>telephone</td>\n",
              "      <td>may</td>\n",
              "      <td>mon</td>\n",
              "      <td>307</td>\n",
              "      <td>1</td>\n",
              "      <td>999</td>\n",
              "      <td>0</td>\n",
              "      <td>nonexistent</td>\n",
              "      <td>1.1</td>\n",
              "      <td>93.994</td>\n",
              "      <td>-36.4</td>\n",
              "      <td>4.857</td>\n",
              "      <td>5191.0</td>\n",
              "      <td>no</td>\n",
              "    </tr>\n",
              "  </tbody>\n",
              "</table>\n",
              "</div>"
            ],
            "text/plain": [
              "   age        job  marital    education  default housing loan    contact  \\\n",
              "0   56  housemaid  married     basic.4y       no      no   no  telephone   \n",
              "1   57   services  married  high.school  unknown      no   no  telephone   \n",
              "2   37   services  married  high.school       no     yes   no  telephone   \n",
              "3   40     admin.  married     basic.6y       no      no   no  telephone   \n",
              "4   56   services  married  high.school       no      no  yes  telephone   \n",
              "\n",
              "  month day_of_week  duration  campaign  pdays  previous     poutcome  \\\n",
              "0   may         mon       261         1    999         0  nonexistent   \n",
              "1   may         mon       149         1    999         0  nonexistent   \n",
              "2   may         mon       226         1    999         0  nonexistent   \n",
              "3   may         mon       151         1    999         0  nonexistent   \n",
              "4   may         mon       307         1    999         0  nonexistent   \n",
              "\n",
              "   emp.var.rate  cons.price.idx  cons.conf.idx  euribor3m  nr.employed   y  \n",
              "0           1.1          93.994          -36.4      4.857       5191.0  no  \n",
              "1           1.1          93.994          -36.4      4.857       5191.0  no  \n",
              "2           1.1          93.994          -36.4      4.857       5191.0  no  \n",
              "3           1.1          93.994          -36.4      4.857       5191.0  no  \n",
              "4           1.1          93.994          -36.4      4.857       5191.0  no  "
            ]
          },
          "metadata": {
            "tags": []
          },
          "execution_count": 31
        }
      ]
    },
    {
      "cell_type": "code",
      "metadata": {
        "id": "3_2qE1AWDM5U",
        "colab_type": "code",
        "colab": {}
      },
      "source": [
        "# Separating with continuous and categorical variables.\n",
        "\n",
        "X_cont = ['age', 'campaign', 'pdays', 'previous', 'emp.var.rate', 'cons.price.idx', 'euribor3m', 'nr.employed']\n",
        "X_cat = ['job', 'marital', 'education', 'default', 'housing', 'loan', 'contact', 'month', 'day_of_week', 'poutcome']\n",
        "\n",
        "cont_df = df[X_cont]\n",
        "cat_df = df[X_cat]\n",
        "\n",
        "# Creating dummyX variable dataframe from categorical variables.\n",
        "\n",
        "X = cont_df.join(pd.get_dummies(cat_df))\n",
        "y = df.iloc[:, 20].replace(('yes', 'no'), (1, 0))"
      ],
      "execution_count": 0,
      "outputs": []
    },
    {
      "cell_type": "code",
      "metadata": {
        "id": "1o-Hd3cUKw-E",
        "colab_type": "code",
        "colab": {}
      },
      "source": [
        "X_train,X_test,y_train,y_test= train_test_split(X, y, test_size=0.30, random_state=110)\n",
        "\n",
        "#Convert DataFrame to Numpy array\n",
        "\n",
        "Xtrain=X_train.values\n",
        "Xtest=X_test.values\n",
        "ytrain=y_train.values\n",
        "ytest=y_test.values\n",
        "\n",
        "##Initialize StandardScaler. Standardizing the Feature values to have a common units of measurement\n",
        "from sklearn.preprocessing import StandardScaler\n",
        "sc=StandardScaler()\n",
        "\n",
        "#Transform the training data\n",
        "X_train=sc.fit_transform(X_train)\n",
        "X_train=pd.DataFrame(X_train,columns=X_test.columns)\n",
        "\n",
        "#Transform the testing data\n",
        "X_test=sc.transform(X_test)\n",
        "X_test=pd.DataFrame(X_test,columns=X_train.columns)"
      ],
      "execution_count": 0,
      "outputs": []
    },
    {
      "cell_type": "code",
      "metadata": {
        "id": "tf_pxWxFKwtS",
        "colab_type": "code",
        "outputId": "051fbbec-1bee-43c9-d217-cf8ce564f6e3",
        "colab": {
          "base_uri": "https://localhost:8080/",
          "height": 34
        }
      },
      "source": [
        "clf = AdaBoostClassifier(learning_rate=0.01)\n",
        "# n_estimators = 50 (default value) \n",
        "# base_estimator = DecisionTreeClassifier (default value)\n",
        "clf.fit(X_train,y_train)\n",
        "clf.predict(X_test)"
      ],
      "execution_count": 0,
      "outputs": [
        {
          "output_type": "execute_result",
          "data": {
            "text/plain": [
              "array([0, 0, 0, ..., 0, 0, 0])"
            ]
          },
          "metadata": {
            "tags": []
          },
          "execution_count": 34
        }
      ]
    },
    {
      "cell_type": "code",
      "metadata": {
        "id": "dus35_5QKwUp",
        "colab_type": "code",
        "outputId": "cfd2bd6a-5829-4e25-9964-5d0f2613397e",
        "colab": {
          "base_uri": "https://localhost:8080/",
          "height": 283
        }
      },
      "source": [
        "y_pred_probs=clf.predict_proba(X_test)\n",
        "y_pred_prob=clf.predict_proba(X_test)[:, 1]\n",
        "\n",
        "#import matplotlib.pyplot as plt\n",
        "#import seaborn as sns\n",
        "plt.hist(y_pred_prob)\n",
        "plt.xlabel('Probability of Classifier being 1')\n",
        "plt.ylabel(\"number of Occurances (Frequency)\")\n",
        "plt.show()"
      ],
      "execution_count": 0,
      "outputs": [
        {
          "output_type": "display_data",
          "data": {
            "image/png": "[encoded data removed]",
            "text/plain": [
              "<Figure size 432x288 with 1 Axes>"
            ]
          },
          "metadata": {
            "tags": []
          }
        }
      ]
    },
    {
      "cell_type": "code",
      "metadata": {
        "id": "h4xVY79kLiB8",
        "colab_type": "code",
        "outputId": "0b628fca-567b-45f5-fba6-88776b4453d6",
        "colab": {
          "base_uri": "https://localhost:8080/",
          "height": 723
        }
      },
      "source": [
        "y_pred=clf.predict(X_test)\n",
        "(y_test==y_pred).mean()\n",
        "accuracies=cross_val_score (estimator=clf, X=X_train, y=y_train, cv=20)\n",
        "\n",
        "print ('Predictions Mean ', (y_test==y_pred).mean())\n",
        "print ('Accuracies Mean  ', accuracies.mean())\n",
        "\n",
        "cm=confusion_matrix(y_test,y_pred)\n",
        "print (cm)\n",
        "\n",
        "# calculate roc curve\n",
        "fpr, tpr, thresholds = roc_curve(y_test, y_pred_prob)\n",
        "roc_auc = metrics.auc(fpr, tpr)\n",
        "\n",
        "# calculate AUC\n",
        "auc = roc_auc_score(y_test, y_pred_prob)\n",
        "print('AUC: %.3f' % auc)\n",
        "\n",
        "accuracy = metrics.accuracy_score(y_pred, y_test)\n",
        "balanced_accuracy = metrics.balanced_accuracy_score(y_pred, y_test)\n",
        "precision = metrics.precision_score(y_pred, y_test)\n",
        "average_precision = metrics.average_precision_score(y_pred, y_test)\n",
        "f1_score = metrics.f1_score(y_pred, y_test)    \n",
        "recall = metrics.recall_score(y_pred, y_test)\n",
        "\n",
        "report = classification_report(y_test, y_pred)\n",
        "print(report)\n",
        "\n",
        "plt.plot([0, 1], [0, 1], linestyle='--')\n",
        "# plot the roc curve for the model\n",
        "plt.plot(fpr, tpr, marker='.', label='AdaBoostClassifier (area = %0.2f)' % roc_auc)\n",
        "#plt.plot(fpr, tpr, marker='.')\n",
        "\n",
        "plt.title('Receiver Operating Characteristic Curve')\n",
        "plt.xlabel('False Postive Rate') \n",
        "plt.ylabel('True Postive Rate')\n",
        "plt.legend()\n",
        "# show the plot\n",
        "plt.show()"
      ],
      "execution_count": 0,
      "outputs": [
        {
          "output_type": "stream",
          "text": [
            "Predictions Mean  0.8852472282916566\n",
            "Accuracies Mean   0.8882453371910868\n",
            "[[10939     0]\n",
            " [ 1418     0]]\n",
            "AUC: 0.764\n",
            "              precision    recall  f1-score   support\n",
            "\n",
            "           0       0.89      1.00      0.94     10939\n",
            "           1       0.00      0.00      0.00      1418\n",
            "\n",
            "    accuracy                           0.89     12357\n",
            "   macro avg       0.44      0.50      0.47     12357\n",
            "weighted avg       0.78      0.89      0.83     12357\n",
            "\n"
          ],
          "name": "stdout"
        },
        {
          "output_type": "stream",
          "text": [
            "/usr/local/lib/python3.6/dist-packages/sklearn/metrics/classification.py:1745: UserWarning: y_pred contains classes not in y_true\n",
            "  warnings.warn('y_pred contains classes not in y_true')\n",
            "/usr/local/lib/python3.6/dist-packages/sklearn/metrics/ranking.py:528: RuntimeWarning: invalid value encountered in true_divide\n",
            "  recall = tps / tps[-1]\n",
            "/usr/local/lib/python3.6/dist-packages/sklearn/metrics/classification.py:1439: UndefinedMetricWarning: F-score is ill-defined and being set to 0.0 due to no true samples.\n",
            "  'recall', 'true', average, warn_for)\n",
            "/usr/local/lib/python3.6/dist-packages/sklearn/metrics/classification.py:1439: UndefinedMetricWarning: Recall is ill-defined and being set to 0.0 due to no true samples.\n",
            "  'recall', 'true', average, warn_for)\n",
            "/usr/local/lib/python3.6/dist-packages/sklearn/metrics/classification.py:1437: UndefinedMetricWarning: Precision and F-score are ill-defined and being set to 0.0 in labels with no predicted samples.\n",
            "  'precision', 'predicted', average, warn_for)\n"
          ],
          "name": "stderr"
        },
        {
          "output_type": "display_data",
          "data": {
            "image/png": "[encoded data removed]",
            "text/plain": [
              "<Figure size 432x288 with 1 Axes>"
            ]
          },
          "metadata": {
            "tags": []
          }
        }
      ]
    },
    {
      "cell_type": "markdown",
      "metadata": {
        "colab_type": "text",
        "id": "UtpdCZGRMVWq"
      },
      "source": [
        "<font color = Green size =3> \n",
        "# Adaboost <br> Label Encode instead of dummy variables\n",
        "</font>"
      ]
    },
    {
      "cell_type": "code",
      "metadata": {
        "id": "QTY-c6dhPaUP",
        "colab_type": "code",
        "colab": {}
      },
      "source": [
        "mappings = []\n",
        "\n",
        "from sklearn.preprocessing import LabelEncoder\n",
        "\n",
        "label_encoder = LabelEncoder()\n",
        "\n",
        "label_df = df.drop('y', axis=1)\n",
        "for i, col in enumerate(label_df):\n",
        "    if label_df[col].dtype == 'object':\n",
        "        label_df[col] = label_encoder.fit_transform(np.array(label_df[col].astype(str)).reshape((-1,)))\n",
        "        mappings.append(dict(zip(label_encoder.classes_, range(1, len(label_encoder.classes_)+1))))"
      ],
      "execution_count": 0,
      "outputs": []
    },
    {
      "cell_type": "code",
      "metadata": {
        "id": "8DZ0iB7WSbQ9",
        "colab_type": "code",
        "outputId": "48965d2d-7c30-49fe-d0af-939fa2c9838d",
        "colab": {
          "base_uri": "https://localhost:8080/",
          "height": 34
        }
      },
      "source": [
        "label_df.shape"
      ],
      "execution_count": 0,
      "outputs": [
        {
          "output_type": "execute_result",
          "data": {
            "text/plain": [
              "(41188, 20)"
            ]
          },
          "metadata": {
            "tags": []
          },
          "execution_count": 38
        }
      ]
    },
    {
      "cell_type": "code",
      "metadata": {
        "id": "hGTocJjBSfLF",
        "colab_type": "code",
        "outputId": "6db78809-7707-4426-b2f6-cb6ad033b113",
        "colab": {
          "base_uri": "https://localhost:8080/",
          "height": 34
        }
      },
      "source": [
        "y.shape"
      ],
      "execution_count": 0,
      "outputs": [
        {
          "output_type": "execute_result",
          "data": {
            "text/plain": [
              "(41188,)"
            ]
          },
          "metadata": {
            "tags": []
          },
          "execution_count": 39
        }
      ]
    },
    {
      "cell_type": "code",
      "metadata": {
        "id": "V5ldE2BnMdr4",
        "colab_type": "code",
        "outputId": "9eebb1ee-3821-49e8-8e81-4c72bac5d4d8",
        "colab": {
          "base_uri": "https://localhost:8080/",
          "height": 51
        }
      },
      "source": [
        "##Split The Data into Train and Test\n",
        "from sklearn.model_selection import train_test_split\n",
        "X_train,X_test,y_train,y_test= train_test_split(label_df, y, test_size=0.30, random_state=110)\n",
        "\n",
        "#Convert DataFrame to Numpy array\n",
        "\n",
        "Xtrain=X_train.values\n",
        "Xtest=X_test.values\n",
        "ytrain=y_train.values\n",
        "ytest=y_test.values\n",
        "\n",
        "##Initialize StandardScaler\n",
        "from sklearn.preprocessing import StandardScaler\n",
        "sc=StandardScaler()\n",
        "\n",
        "#Transform the training data\n",
        "X_train=sc.fit_transform(X_train)\n",
        "X_train=pd.DataFrame(X_train,columns=X_test.columns)\n",
        "\n",
        "#Transform the testing data\n",
        "X_test=sc.transform(X_test)\n",
        "X_test=pd.DataFrame(X_test,columns=X_train.columns)\n",
        "\n",
        "from sklearn.linear_model import LogisticRegression\n",
        "clf_le=AdaBoostClassifier(learning_rate=0.01)\n",
        "clf_le.fit(X_train,y_train)\n"
      ],
      "execution_count": 0,
      "outputs": [
        {
          "output_type": "execute_result",
          "data": {
            "text/plain": [
              "AdaBoostClassifier(algorithm='SAMME.R', base_estimator=None, learning_rate=0.01,\n",
              "                   n_estimators=50, random_state=None)"
            ]
          },
          "metadata": {
            "tags": []
          },
          "execution_count": 40
        }
      ]
    },
    {
      "cell_type": "code",
      "metadata": {
        "id": "1Dh623seW7u3",
        "colab_type": "code",
        "outputId": "d4208e33-b3b0-400f-ebec-dadf7dacb34c",
        "colab": {
          "base_uri": "https://localhost:8080/",
          "height": 283
        }
      },
      "source": [
        "y_pred_probs_le=clf_le.predict_proba(X_test)\n",
        "y_pred_prob_le=clf_le.predict_proba(X_test)[:, 1]\n",
        "\n",
        "#import matplotlib.pyplot as plt\n",
        "#import seaborn as sns\n",
        "plt.hist(y_pred_prob_le)\n",
        "plt.xlabel('Probability of Classifier being 1')\n",
        "plt.ylabel(\"number of Occurances (Frequency)\")\n",
        "plt.show()"
      ],
      "execution_count": 0,
      "outputs": [
        {
          "output_type": "display_data",
          "data": {
            "image/png": "[encoded data removed]",
            "text/plain": [
              "<Figure size 432x288 with 1 Axes>"
            ]
          },
          "metadata": {
            "tags": []
          }
        }
      ]
    },
    {
      "cell_type": "code",
      "metadata": {
        "id": "_eilKZYbMpIj",
        "colab_type": "code",
        "outputId": "45bda06b-9ca3-44a4-a6e7-3cc8881f61bc",
        "colab": {
          "base_uri": "https://localhost:8080/",
          "height": 672
        }
      },
      "source": [
        "y_pred_le=clf_le.predict(X_test) # le stands for LabelEncoding and will make AUC, ConfusionMatrix for this version of Performance\n",
        "(y_test==y_pred_le).mean()       # le stands for LabelEncoding and will make AUC, ConfusionMatrix for this version of Performance \n",
        "\n",
        "accuracies_le =cross_val_score (estimator=clf_le, X=X_train, y=y_train, cv=20) # le stands for LabelEncoding and will make AUC, ConfusionMatrix for this version of Performance\n",
        "\n",
        "print ('Predictions Mean ', (y_test==y_pred_le).mean()) # le stands for LabelEncoding and will make AUC, ConfusionMatrix for this version of Performance\n",
        "print ('Mean Accuracies  ', accuracies_le.mean())       # le stands for LabelEncoding and will make AUC, ConfusionMatrix for this version of Performance\n",
        "\n",
        "y_pred_prob_le = clf_le.predict_proba(X_test)[:, 1] # le stands for LabelEncoding and will make AUC, ConfusionMatrix for this version of Performance\n",
        "\n",
        "cm_le=confusion_matrix(y_test,y_pred_le) # le stands for LabelEncoding and will make AUC, ConfusionMatrix for this version of Performance\n",
        "print (cm_le)                            # le stands for LabelEncoding and will make AUC, ConfusionMatrix for this version of Performance\n",
        "\n",
        "recall_score(y_test, y_pred_le)          # le stands for LabelEncoding and will make AUC, ConfusionMatrix for this version of Performance\n",
        "roc_curve(y_test, y_pred_le)             # le stands for LabelEncoding and will make AUC, ConfusionMatrix for this version of Performance\n",
        "\n",
        "\n",
        "\n",
        "report_le = classification_report(y_test, y_pred_le) # le stands for LabelEncoding and will make AUC, ConfusionMatrix for this version of Performance\n",
        "print(report_le)                         # le stands for LabelEncoding and will make AUC, ConfusionMatrix for this version of Performance\n",
        "\n",
        "\n",
        "# calculate roc curve\n",
        "fpr_le, tpr_le, thresholds_le = roc_curve(y_test, y_pred_prob_le) # le stands for LabelEncoding and will make AUC, ConfusionMatrix for this version of Performance\n",
        "roc_auc_le = metrics.auc(fpr_le, tpr_le)\n",
        "print ('roc_auc_le -- > ', roc_auc_le)\n",
        "# calculate AUC\n",
        "auc_le = roc_auc_score(y_test, y_pred_prob_le)     # le stands for LabelEncoding and will make AUC, ConfusionMatrix for this version of Performance\n",
        "print('AUC: %.3f' % auc_le)                # le stands for LabelEncoding and will make AUC, ConfusionMatrix for this version of Performance\n",
        "\n",
        "accuracy_le = metrics.accuracy_score(y_pred_le, y_test)\n",
        "balanced_accuracy_le = metrics.balanced_accuracy_score(y_pred_le, y_test)\n",
        "precision_le = metrics.precision_score(y_pred_le, y_test)\n",
        "average_precision_le = metrics.average_precision_score(y_pred_le, y_test)\n",
        "#f1_score_le = metrics.f1_score(y_pred_le, y_test)\n",
        "#recall_le = metrics.recall_score(y_pred_le, y_test)\n",
        "\n",
        "\n",
        "plt.plot([0, 1], [0, 1], linestyle='--')\n",
        "# plot the roc curve for the model\n",
        "\n",
        "plt.plot(fpr_le, tpr_le, marker='.', label='AdaBoostClassifier (area = %0.2f)' %roc_auc_le) # le stands for LabelEncoding and will make AUC, ConfusionMatrix for this version of Performance\n",
        "\n",
        "plt.title('Receiver Operating Characteristic Curve')\n",
        "plt.xlabel('False Postive Rate') \n",
        "plt.ylabel('True Postive Rate')\n",
        "# show the plot\n",
        "plt.show()"
      ],
      "execution_count": 0,
      "outputs": [
        {
          "output_type": "stream",
          "text": [
            "Predictions Mean  0.8852472282916566\n",
            "Mean Accuracies   0.8882453371910868\n",
            "[[10939     0]\n",
            " [ 1418     0]]\n",
            "              precision    recall  f1-score   support\n",
            "\n",
            "           0       0.89      1.00      0.94     10939\n",
            "           1       0.00      0.00      0.00      1418\n",
            "\n",
            "    accuracy                           0.89     12357\n",
            "   macro avg       0.44      0.50      0.47     12357\n",
            "weighted avg       0.78      0.89      0.83     12357\n",
            "\n",
            "roc_auc_le -- >  0.8711912618133306\n",
            "AUC: 0.871\n"
          ],
          "name": "stdout"
        },
        {
          "output_type": "stream",
          "text": [
            "/usr/local/lib/python3.6/dist-packages/sklearn/metrics/classification.py:1437: UndefinedMetricWarning: Precision and F-score are ill-defined and being set to 0.0 in labels with no predicted samples.\n",
            "  'precision', 'predicted', average, warn_for)\n",
            "/usr/local/lib/python3.6/dist-packages/sklearn/metrics/classification.py:1745: UserWarning: y_pred contains classes not in y_true\n",
            "  warnings.warn('y_pred contains classes not in y_true')\n",
            "/usr/local/lib/python3.6/dist-packages/sklearn/metrics/ranking.py:528: RuntimeWarning: invalid value encountered in true_divide\n",
            "  recall = tps / tps[-1]\n"
          ],
          "name": "stderr"
        },
        {
          "output_type": "display_data",
          "data": {
            "image/png": "[encoded data removed]",
            "text/plain": [
              "<Figure size 432x288 with 1 Axes>"
            ]
          },
          "metadata": {
            "tags": []
          }
        }
      ]
    },
    {
      "cell_type": "markdown",
      "metadata": {
        "id": "hPgx5WVmYkUX",
        "colab_type": "text"
      },
      "source": [
        "<font color=green size=5> \n",
        "It seems that label encoding performs much better across the spectrum of different threshold values. All Performance metrics have improved. \n",
        "</font>\n",
        "<br>\n",
        "<font color=red size=4> \n",
        "However, there are a few features in which the label ordering did not make sense. </font>\n",
        "<br>\n",
        "<font color=red size=4> \n",
        "    For example, days of week:\n",
        "    {'fri': 1, 'mon': 2, 'thu': 3, 'tue': 4, 'wed': 5}. </font>\n",
        "<br>\n",
        "<font color=red size=4> \n",
        "    Furthermore, the ‘job’ feature in particular would be more explanatory if converted to dummy variables as one’s job would appear to be an important determinant of whether they open a term deposit and an ordinal scale wouldn’t quite make sense.\n",
        "\n",
        "Below, custom orders were determined for education, month, and day of the week while dummy variables were created for jobs.\n",
        "</font>"
      ]
    },
    {
      "cell_type": "code",
      "metadata": {
        "id": "uuyT73_iYQzl",
        "colab_type": "code",
        "outputId": "ba80b695-aa24-4d46-9192-eee42fe7b57e",
        "colab": {
          "base_uri": "https://localhost:8080/",
          "height": 241
        }
      },
      "source": [
        "# Label encode categorical variables.\n",
        "\n",
        "label_encoder = LabelEncoder()\n",
        "mappings = []\n",
        "\n",
        "# Desired label orders for categorical columns.\n",
        "\n",
        "educ_order = ['unknown', 'illiterate', 'basic.4y', 'basic.6y', 'basic.9y', 'high.school', 'professional.course', 'university.degree']\n",
        "month_order = ['mar', 'apr', 'may', 'jun', 'jul', 'aug', 'sep', 'oct', 'nov', 'dec']\n",
        "day_order = ['mon', 'tue', 'wed', 'thu', 'fri']\n",
        "\n",
        "# using cat.codes for order, one hot for high cardinality and weak case of cardinality.\n",
        "\n",
        "def ordered_labels(df, col, order):\n",
        "    df[col] = df[col].astype('category')\n",
        "    df[col] = df[col].cat.reorder_categories(order, ordered=True)\n",
        "    df[col] = df[col].cat.codes.astype(int)\n",
        "\n",
        "# Use dummy variables for occupation\n",
        "X_df = pd.concat([df, pd.get_dummies(df['job'])],axis=1).drop('job',axis=1)\n",
        "\n",
        "# Use ordered cat.codes for days, months, and education\n",
        "ordered_labels(df, 'education', educ_order)\n",
        "ordered_labels(df, 'month', month_order)\n",
        "ordered_labels(df, 'day_of_week', day_order)\n",
        "\n",
        "# Same label encoding for rest since low cardinality\n",
        "for i, col in enumerate(df):\n",
        "    if df[col].dtype == 'object':\n",
        "        X_df[col] = label_encoder.fit_transform(np.array(df[col].astype(str)).reshape((-1,)))\n",
        "        mappings.append(dict(zip(label_encoder.classes_, range(1, len(label_encoder.classes_)+1))))\n",
        "\n",
        "X_df.head()"
      ],
      "execution_count": 0,
      "outputs": [
        {
          "output_type": "execute_result",
          "data": {
            "text/html": [
              "<div>\n",
              "<style scoped>\n",
              "    .dataframe tbody tr th:only-of-type {\n",
              "        vertical-align: middle;\n",
              "    }\n",
              "\n",
              "    .dataframe tbody tr th {\n",
              "        vertical-align: top;\n",
              "    }\n",
              "\n",
              "    .dataframe thead th {\n",
              "        text-align: right;\n",
              "    }\n",
              "</style>\n",
              "<table border=\"1\" class=\"dataframe\">\n",
              "  <thead>\n",
              "    <tr style=\"text-align: right;\">\n",
              "      <th></th>\n",
              "      <th>age</th>\n",
              "      <th>marital</th>\n",
              "      <th>education</th>\n",
              "      <th>default</th>\n",
              "      <th>housing</th>\n",
              "      <th>loan</th>\n",
              "      <th>contact</th>\n",
              "      <th>month</th>\n",
              "      <th>day_of_week</th>\n",
              "      <th>duration</th>\n",
              "      <th>campaign</th>\n",
              "      <th>pdays</th>\n",
              "      <th>previous</th>\n",
              "      <th>poutcome</th>\n",
              "      <th>emp.var.rate</th>\n",
              "      <th>cons.price.idx</th>\n",
              "      <th>cons.conf.idx</th>\n",
              "      <th>euribor3m</th>\n",
              "      <th>nr.employed</th>\n",
              "      <th>y</th>\n",
              "      <th>admin.</th>\n",
              "      <th>blue-collar</th>\n",
              "      <th>entrepreneur</th>\n",
              "      <th>housemaid</th>\n",
              "      <th>management</th>\n",
              "      <th>retired</th>\n",
              "      <th>self-employed</th>\n",
              "      <th>services</th>\n",
              "      <th>student</th>\n",
              "      <th>technician</th>\n",
              "      <th>unemployed</th>\n",
              "      <th>unknown</th>\n",
              "      <th>job</th>\n",
              "    </tr>\n",
              "  </thead>\n",
              "  <tbody>\n",
              "    <tr>\n",
              "      <th>0</th>\n",
              "      <td>56</td>\n",
              "      <td>1</td>\n",
              "      <td>basic.4y</td>\n",
              "      <td>0</td>\n",
              "      <td>0</td>\n",
              "      <td>0</td>\n",
              "      <td>1</td>\n",
              "      <td>may</td>\n",
              "      <td>mon</td>\n",
              "      <td>261</td>\n",
              "      <td>1</td>\n",
              "      <td>999</td>\n",
              "      <td>0</td>\n",
              "      <td>1</td>\n",
              "      <td>1.1</td>\n",
              "      <td>93.994</td>\n",
              "      <td>-36.4</td>\n",
              "      <td>4.857</td>\n",
              "      <td>5191.0</td>\n",
              "      <td>0</td>\n",
              "      <td>0</td>\n",
              "      <td>0</td>\n",
              "      <td>0</td>\n",
              "      <td>1</td>\n",
              "      <td>0</td>\n",
              "      <td>0</td>\n",
              "      <td>0</td>\n",
              "      <td>0</td>\n",
              "      <td>0</td>\n",
              "      <td>0</td>\n",
              "      <td>0</td>\n",
              "      <td>0</td>\n",
              "      <td>3</td>\n",
              "    </tr>\n",
              "    <tr>\n",
              "      <th>1</th>\n",
              "      <td>57</td>\n",
              "      <td>1</td>\n",
              "      <td>high.school</td>\n",
              "      <td>1</td>\n",
              "      <td>0</td>\n",
              "      <td>0</td>\n",
              "      <td>1</td>\n",
              "      <td>may</td>\n",
              "      <td>mon</td>\n",
              "      <td>149</td>\n",
              "      <td>1</td>\n",
              "      <td>999</td>\n",
              "      <td>0</td>\n",
              "      <td>1</td>\n",
              "      <td>1.1</td>\n",
              "      <td>93.994</td>\n",
              "      <td>-36.4</td>\n",
              "      <td>4.857</td>\n",
              "      <td>5191.0</td>\n",
              "      <td>0</td>\n",
              "      <td>0</td>\n",
              "      <td>0</td>\n",
              "      <td>0</td>\n",
              "      <td>0</td>\n",
              "      <td>0</td>\n",
              "      <td>0</td>\n",
              "      <td>0</td>\n",
              "      <td>1</td>\n",
              "      <td>0</td>\n",
              "      <td>0</td>\n",
              "      <td>0</td>\n",
              "      <td>0</td>\n",
              "      <td>7</td>\n",
              "    </tr>\n",
              "    <tr>\n",
              "      <th>2</th>\n",
              "      <td>37</td>\n",
              "      <td>1</td>\n",
              "      <td>high.school</td>\n",
              "      <td>0</td>\n",
              "      <td>2</td>\n",
              "      <td>0</td>\n",
              "      <td>1</td>\n",
              "      <td>may</td>\n",
              "      <td>mon</td>\n",
              "      <td>226</td>\n",
              "      <td>1</td>\n",
              "      <td>999</td>\n",
              "      <td>0</td>\n",
              "      <td>1</td>\n",
              "      <td>1.1</td>\n",
              "      <td>93.994</td>\n",
              "      <td>-36.4</td>\n",
              "      <td>4.857</td>\n",
              "      <td>5191.0</td>\n",
              "      <td>0</td>\n",
              "      <td>0</td>\n",
              "      <td>0</td>\n",
              "      <td>0</td>\n",
              "      <td>0</td>\n",
              "      <td>0</td>\n",
              "      <td>0</td>\n",
              "      <td>0</td>\n",
              "      <td>1</td>\n",
              "      <td>0</td>\n",
              "      <td>0</td>\n",
              "      <td>0</td>\n",
              "      <td>0</td>\n",
              "      <td>7</td>\n",
              "    </tr>\n",
              "    <tr>\n",
              "      <th>3</th>\n",
              "      <td>40</td>\n",
              "      <td>1</td>\n",
              "      <td>basic.6y</td>\n",
              "      <td>0</td>\n",
              "      <td>0</td>\n",
              "      <td>0</td>\n",
              "      <td>1</td>\n",
              "      <td>may</td>\n",
              "      <td>mon</td>\n",
              "      <td>151</td>\n",
              "      <td>1</td>\n",
              "      <td>999</td>\n",
              "      <td>0</td>\n",
              "      <td>1</td>\n",
              "      <td>1.1</td>\n",
              "      <td>93.994</td>\n",
              "      <td>-36.4</td>\n",
              "      <td>4.857</td>\n",
              "      <td>5191.0</td>\n",
              "      <td>0</td>\n",
              "      <td>1</td>\n",
              "      <td>0</td>\n",
              "      <td>0</td>\n",
              "      <td>0</td>\n",
              "      <td>0</td>\n",
              "      <td>0</td>\n",
              "      <td>0</td>\n",
              "      <td>0</td>\n",
              "      <td>0</td>\n",
              "      <td>0</td>\n",
              "      <td>0</td>\n",
              "      <td>0</td>\n",
              "      <td>0</td>\n",
              "    </tr>\n",
              "    <tr>\n",
              "      <th>4</th>\n",
              "      <td>56</td>\n",
              "      <td>1</td>\n",
              "      <td>high.school</td>\n",
              "      <td>0</td>\n",
              "      <td>0</td>\n",
              "      <td>2</td>\n",
              "      <td>1</td>\n",
              "      <td>may</td>\n",
              "      <td>mon</td>\n",
              "      <td>307</td>\n",
              "      <td>1</td>\n",
              "      <td>999</td>\n",
              "      <td>0</td>\n",
              "      <td>1</td>\n",
              "      <td>1.1</td>\n",
              "      <td>93.994</td>\n",
              "      <td>-36.4</td>\n",
              "      <td>4.857</td>\n",
              "      <td>5191.0</td>\n",
              "      <td>0</td>\n",
              "      <td>0</td>\n",
              "      <td>0</td>\n",
              "      <td>0</td>\n",
              "      <td>0</td>\n",
              "      <td>0</td>\n",
              "      <td>0</td>\n",
              "      <td>0</td>\n",
              "      <td>1</td>\n",
              "      <td>0</td>\n",
              "      <td>0</td>\n",
              "      <td>0</td>\n",
              "      <td>0</td>\n",
              "      <td>7</td>\n",
              "    </tr>\n",
              "  </tbody>\n",
              "</table>\n",
              "</div>"
            ],
            "text/plain": [
              "   age  marital    education  default  housing  loan  contact month  \\\n",
              "0   56        1     basic.4y        0        0     0        1   may   \n",
              "1   57        1  high.school        1        0     0        1   may   \n",
              "2   37        1  high.school        0        2     0        1   may   \n",
              "3   40        1     basic.6y        0        0     0        1   may   \n",
              "4   56        1  high.school        0        0     2        1   may   \n",
              "\n",
              "  day_of_week  duration  campaign  pdays  previous  poutcome  emp.var.rate  \\\n",
              "0         mon       261         1    999         0         1           1.1   \n",
              "1         mon       149         1    999         0         1           1.1   \n",
              "2         mon       226         1    999         0         1           1.1   \n",
              "3         mon       151         1    999         0         1           1.1   \n",
              "4         mon       307         1    999         0         1           1.1   \n",
              "\n",
              "   cons.price.idx  cons.conf.idx  euribor3m  nr.employed  y  admin.  \\\n",
              "0          93.994          -36.4      4.857       5191.0  0       0   \n",
              "1          93.994          -36.4      4.857       5191.0  0       0   \n",
              "2          93.994          -36.4      4.857       5191.0  0       0   \n",
              "3          93.994          -36.4      4.857       5191.0  0       1   \n",
              "4          93.994          -36.4      4.857       5191.0  0       0   \n",
              "\n",
              "   blue-collar  entrepreneur  housemaid  management  retired  self-employed  \\\n",
              "0            0             0          1           0        0              0   \n",
              "1            0             0          0           0        0              0   \n",
              "2            0             0          0           0        0              0   \n",
              "3            0             0          0           0        0              0   \n",
              "4            0             0          0           0        0              0   \n",
              "\n",
              "   services  student  technician  unemployed  unknown  job  \n",
              "0         0        0           0           0        0    3  \n",
              "1         1        0           0           0        0    7  \n",
              "2         1        0           0           0        0    7  \n",
              "3         0        0           0           0        0    0  \n",
              "4         1        0           0           0        0    7  "
            ]
          },
          "metadata": {
            "tags": []
          },
          "execution_count": 43
        }
      ]
    },
    {
      "cell_type": "markdown",
      "metadata": {
        "id": "WvNZbYLeZJCX",
        "colab_type": "text"
      },
      "source": [
        "<font color=brown size=4> \n",
        "Now using Cross Validation to bring out the better combination of Parameters"
      ]
    },
    {
      "cell_type": "code",
      "metadata": {
        "id": "cRVUgdMFZEio",
        "colab_type": "code",
        "outputId": "d1c21f76-47e2-478a-95e6-e9870de31054",
        "colab": {
          "base_uri": "https://localhost:8080/",
          "height": 740
        }
      },
      "source": [
        "\n",
        "##Split The Data into Train and Test\n",
        "from sklearn.model_selection import train_test_split\n",
        "X_train,X_test,y_train,y_test= train_test_split(label_df, y, test_size=0.30, random_state=42)\n",
        "\n",
        "#Convert DataFrame to Numpy array\n",
        "\n",
        "Xtrain=X_train.values\n",
        "Xtest=X_test.values\n",
        "ytrain=y_train.values\n",
        "ytest=y_test.values\n",
        "\n",
        "##Initialize StandardScaler\n",
        "from sklearn.preprocessing import StandardScaler\n",
        "sc=StandardScaler()\n",
        "\n",
        "#Transform the training data\n",
        "X_train=sc.fit_transform(X_train)\n",
        "X_train=pd.DataFrame(X_train,columns=X_test.columns)\n",
        "\n",
        "#Transform the testing data\n",
        "X_test=sc.transform(X_test)\n",
        "X_test=pd.DataFrame(X_test,columns=X_train.columns)\n",
        "\n",
        "clf_cdv=AdaBoostClassifier(learning_rate=0.001) #cdv stands for Custom Orders and Dummy Variables\n",
        "clf_cdv.fit(X_train,y_train)\n",
        "\n",
        "y_pred_cdv=clf_cdv.predict(X_test)\n",
        "(y_test==y_pred_cdv).mean()\n",
        "\n",
        "accuracies_cdv=cross_val_score (estimator=clf_cdv, X=X_train, y=y_train, cv=20)\n",
        "\n",
        "print ('predictions Mean', (y_test==y_pred_cdv).mean())\n",
        "print ('Mean Accuracies ', accuracies_cdv.mean())\n",
        "\n",
        "cm_cdv=confusion_matrix(y_test,y_pred_cdv)\n",
        "print (cm_cdv)\n",
        "\n",
        "y_pred_prob_cdv = clf_cdv.predict_proba(X_test)[:, 1]\n",
        "\n",
        "recall_score(y_test, y_pred_cdv)\n",
        "roc_curve(y_test, y_pred_cdv)\n",
        "\n",
        "report_cdv = classification_report(y_test, y_pred_cdv)\n",
        "print(report_cdv)\n",
        "\n",
        "y_pred_prob_cdv = clf_cdv.predict_proba(X_test)[:, 1]\n",
        "\n",
        "# calculate roc curve\n",
        "fpr_cdv, tpr_cdv, thresholds_cdv = roc_curve(y_test, y_pred_prob_cdv)\n",
        "\n",
        "roc_auc_cdv = metrics.auc(fpr_cdv, tpr_cdv)\n",
        "\n",
        "# calculate AUC\n",
        "auc_cdv = roc_auc_score(y_test, y_pred_prob_cdv)\n",
        "print('AUC: %.3f' % auc_cdv)\n",
        "\n",
        "accuracy_cdv = metrics.accuracy_score(y_pred_cdv, y_test)\n",
        "balanced_accuracy_cdv = metrics.balanced_accuracy_score(y_pred_cdv, y_test)\n",
        "precision_cdv = metrics.precision_score(y_pred_cdv, y_test)\n",
        "average_precision_cdv = metrics.average_precision_score(y_pred_cdv, y_test)\n",
        "f1_score_cdv = metrics.f1_score(y_pred_cdv, y_test)\n",
        "recall_cdv = metrics.recall_score(y_pred_cdv, y_test)\n",
        "\n",
        "\n",
        "plt.plot([0, 1], [0, 1], linestyle='--')\n",
        "# plot the roc curve for the model\n",
        "plt.plot(fpr_cdv, tpr_cdv, marker='.', label='AdaBoostClassifier (area = %0.2f)' % roc_auc_cdv) \n",
        "\n",
        "plt.title('Receiver Operating Characteristic Curve')\n",
        "plt.xlabel('False Postive Rate') \n",
        "plt.ylabel('True Postive Rate')\n",
        "# show the plot\n",
        "plt.show()\n",
        "'''\n",
        "Predictions Mean  0.8917212915756252\n",
        "Mean Accuracies   0.9088468830649961\n",
        "[[10636   303]\n",
        " [ 1035   383]]\n",
        "              precision    recall  f1-score   support\n",
        "\n",
        "           0       0.93      0.97      0.95     10939\n",
        "           1       0.66      0.43      0.52      1418\n",
        "\n",
        "    accuracy                           0.91     12357\n",
        "   macro avg       0.79      0.70      0.74     12357\n",
        "weighted avg       0.90      0.91      0.90     12357\n",
        "\n",
        "AUC: 0.919 '''"
      ],
      "execution_count": 0,
      "outputs": [
        {
          "output_type": "stream",
          "text": [
            "predictions Mean 0.8875940762320952\n",
            "Mean Accuracies  0.8872395354589825\n",
            "[[10968     0]\n",
            " [ 1389     0]]\n",
            "              precision    recall  f1-score   support\n",
            "\n",
            "           0       0.89      1.00      0.94     10968\n",
            "           1       0.00      0.00      0.00      1389\n",
            "\n",
            "    accuracy                           0.89     12357\n",
            "   macro avg       0.44      0.50      0.47     12357\n",
            "weighted avg       0.79      0.89      0.83     12357\n",
            "\n"
          ],
          "name": "stdout"
        },
        {
          "output_type": "stream",
          "text": [
            "/usr/local/lib/python3.6/dist-packages/sklearn/metrics/classification.py:1437: UndefinedMetricWarning: Precision and F-score are ill-defined and being set to 0.0 in labels with no predicted samples.\n",
            "  'precision', 'predicted', average, warn_for)\n",
            "/usr/local/lib/python3.6/dist-packages/sklearn/metrics/classification.py:1745: UserWarning: y_pred contains classes not in y_true\n",
            "  warnings.warn('y_pred contains classes not in y_true')\n",
            "/usr/local/lib/python3.6/dist-packages/sklearn/metrics/ranking.py:528: RuntimeWarning: invalid value encountered in true_divide\n",
            "  recall = tps / tps[-1]\n",
            "/usr/local/lib/python3.6/dist-packages/sklearn/metrics/classification.py:1439: UndefinedMetricWarning: F-score is ill-defined and being set to 0.0 due to no true samples.\n",
            "  'recall', 'true', average, warn_for)\n",
            "/usr/local/lib/python3.6/dist-packages/sklearn/metrics/classification.py:1439: UndefinedMetricWarning: Recall is ill-defined and being set to 0.0 due to no true samples.\n",
            "  'recall', 'true', average, warn_for)\n"
          ],
          "name": "stderr"
        },
        {
          "output_type": "stream",
          "text": [
            "AUC: 0.848\n"
          ],
          "name": "stdout"
        },
        {
          "output_type": "display_data",
          "data": {
            "image/png": "[encoded data removed]",
            "text/plain": [
              "<Figure size 432x288 with 1 Axes>"
            ]
          },
          "metadata": {
            "tags": []
          }
        },
        {
          "output_type": "execute_result",
          "data": {
            "text/plain": [
              "'\\nPredictions Mean  0.8917212915756252\\nMean Accuracies   0.9088468830649961\\n[[10636   303]\\n [ 1035   383]]\\n              precision    recall  f1-score   support\\n\\n           0       0.93      0.97      0.95     10939\\n           1       0.66      0.43      0.52      1418\\n\\n    accuracy                           0.91     12357\\n   macro avg       0.79      0.70      0.74     12357\\nweighted avg       0.90      0.91      0.90     12357\\n\\nAUC: 0.919 '"
            ]
          },
          "metadata": {
            "tags": []
          },
          "execution_count": 44
        }
      ]
    },
    {
      "cell_type": "markdown",
      "metadata": {
        "id": "eoE_6SrsbOJb",
        "colab_type": "text"
      },
      "source": [
        "<font color=blue size=5>\n",
        "With normalized data and resampled data with the Random Forest Model."
      ]
    },
    {
      "cell_type": "code",
      "metadata": {
        "id": "D48Ck8ogbF-J",
        "colab_type": "code",
        "outputId": "c617fbcf-9a18-4f91-cb18-18342b08507b",
        "colab": {
          "base_uri": "https://localhost:8080/",
          "height": 567
        }
      },
      "source": [
        "from imblearn.over_sampling import SMOTE\n",
        "\n",
        "X_train, X_test, y_train, y_test = train_test_split(X, y, test_size = 0.30, random_state = 110)\n",
        "\n",
        "sm = SMOTE(random_state = 2)\n",
        "X_train, y_train = sm.fit_sample(X_train, y_train.ravel())\n",
        "\n",
        "clf_res = AdaBoostClassifier(learning_rate=0.001) # res stands for Normalized and Resampled dataset\n",
        "model_res = clf_res.fit(X_train, y_train)\n",
        "\n",
        "y_pred_res=clf_res.predict(X_test) # res stands for Normalized and Resampled dataset\n",
        "(y_test==y_pred_res).mean()\n",
        "\n",
        "accuracies_res=cross_val_score (estimator=clf_res, X=X_train, y=y_train, cv=20) # res stands for Normalized and Resampled dataset\n",
        "\n",
        "print ('predictions Mean ', (y_test==y_pred_res).mean())\n",
        "print ('Mean Accuracies  ', accuracies_res.mean())\n",
        "\n",
        "y_pred_prob_res = clf_res.predict_proba(X_test)[:, 1] # res stands for Normalized and Resampled dataset\n",
        "\n",
        "print('y_pred_prob_res------>  ', y_pred_prob_res)\n",
        "\n",
        "cm_res=confusion_matrix(y_test,y_pred_res) # res stands for Normalized and Resampled dataset\n",
        "print (cm_res)\n",
        "\n",
        "recall_score(y_test, y_pred_res)\n",
        "roc_curve(y_test, y_pred_res)\n",
        "\n",
        "report_res = classification_report(y_test, y_pred_res) # res stands for Normalized and Resampled dataset\n",
        "print(report_res)\n",
        "\n",
        "\n",
        "# calculate roc curve\n",
        "fpr_res, tpr_res, thresholds_res = roc_curve(y_test, y_pred_prob_res) # res stands for Normalized and Resampled dataset\n",
        "roc_auc_res = metrics.auc(fpr_res, tpr_res)\n",
        "\n",
        "print('ROC AUC RES: %.4f' % roc_auc_res)\n",
        "accuracy_res = metrics.accuracy_score(y_pred_res, y_test)\n",
        "balanced_accuracy_res = metrics.balanced_accuracy_score(y_pred_res, y_test)\n",
        "precision_res = metrics.precision_score(y_pred_res, y_test)\n",
        "average_precision_res = metrics.average_precision_score(y_pred_res, y_test)\n",
        "f1_score_res = metrics.f1_score(y_pred_res, y_test)\n",
        "recall_res = metrics.recall_score(y_pred_res, y_test)\n",
        "\n",
        "# calculate AUC\n",
        "auc_res = roc_auc_score(y_test, y_pred_prob_res)\n",
        "print('AUC: %.3f' % auc_res)\n",
        "\n",
        "plt.plot([0, 1], [0, 1], linestyle='--')\n",
        "# plot the roc curve for the model\n",
        "plt.plot(fpr_res, tpr_res, marker='.' , label='AdaBoostClassifier (area = %0.3f)' % roc_auc_res)\n",
        "\n",
        "plt.title('Receiver Operating Characteristic Curve')\n",
        "plt.xlabel('False Postive Rate') \n",
        "plt.ylabel('True Postive Rate')\n",
        "# show the plot\n",
        "plt.show()"
      ],
      "execution_count": 0,
      "outputs": [
        {
          "output_type": "stream",
          "text": [
            "predictions Mean  0.8744840980820587\n",
            "Mean Accuracies   0.6974694452576112\n",
            "y_pred_prob_res------>   [0.85628554 0.36730026 0.36730026 ... 0.36730026 0.85628554 0.36730026]\n",
            "[[10119   820]\n",
            " [  731   687]]\n",
            "              precision    recall  f1-score   support\n",
            "\n",
            "           0       0.93      0.93      0.93     10939\n",
            "           1       0.46      0.48      0.47      1418\n",
            "\n",
            "    accuracy                           0.87     12357\n",
            "   macro avg       0.69      0.70      0.70     12357\n",
            "weighted avg       0.88      0.87      0.88     12357\n",
            "\n",
            "ROC AUC RES: 0.7048\n",
            "AUC: 0.705\n"
          ],
          "name": "stdout"
        },
        {
          "output_type": "display_data",
          "data": {
            "image/png": "[encoded data removed]",
            "text/plain": [
              "<Figure size 432x288 with 1 Axes>"
            ]
          },
          "metadata": {
            "tags": []
          }
        }
      ]
    },
    {
      "cell_type": "code",
      "metadata": {
        "id": "gohlEvBkNDUT",
        "colab_type": "code",
        "colab": {}
      },
      "source": [
        ""
      ],
      "execution_count": 0,
      "outputs": []
    },
    {
      "cell_type": "markdown",
      "metadata": {
        "id": "viP17Ez4eDko",
        "colab_type": "text"
      },
      "source": [
        "<font color=red size=5>\n",
        "There is drastic fall in the AUC may be because of no standadization methods applied. \n",
        "<font color=brown size=5> <br>\n",
        "Will adopt the MinMaxScaler and constrain the range of values to be between 0 and 1. "
      ]
    },
    {
      "cell_type": "code",
      "metadata": {
        "id": "-Qqyxix6d_f8",
        "colab_type": "code",
        "outputId": "ee4670ad-a855-491f-ca83-102af6ed4cbe",
        "colab": {
          "base_uri": "https://localhost:8080/",
          "height": 740
        }
      },
      "source": [
        "##Split The Data into Train and Test\n",
        "from sklearn.model_selection import train_test_split\n",
        "X_train,X_test,y_train,y_test= train_test_split(X, y, test_size=0.30, random_state=110)\n",
        "\n",
        "# Normalizing continuous variables\n",
        "\n",
        "from sklearn.preprocessing import MinMaxScaler\n",
        "\n",
        "scaler = MinMaxScaler(feature_range = (0,1))\n",
        "\n",
        "scaler.fit(X_train)\n",
        "X_train = scaler.transform(X_train)\n",
        "X_test = scaler.transform(X_test)\n",
        "\n",
        "clf_mmc=AdaBoostClassifier(learning_rate=0.001)                # mmc stands for Min Max Scaler and Contrained values between 0 and 1\n",
        "clf_mmc.fit(X_train,y_train)\n",
        "\n",
        "y_pred_mmc=clf_mmc.predict(X_test)                               # mmc stands for Min Max Scaler and Contrained values between 0 and 1\n",
        "(y_test==y_pred_mmc).mean()                                      # mmc stands for Min Max Scaler and Contrained values between 0 and 1\n",
        "\n",
        "accuracies_mmc=cross_val_score (estimator=clf_mmc, X=X_train, y=y_train, cv=20) # mmc stands for Min Max Scaler and Contrained values between 0 and 1\n",
        "\n",
        "print ('Predictions Mean MMC ', (y_test==y_pred_mmc).mean())      # mmc stands for Min Max Scaler and Contrained values between 0 and 1\n",
        "print ('Mean Accuracies MMC  ', accuracies_mmc.mean())            # mmc stands for Min Max Scaler and Contrained values between 0 and 1\n",
        "\n",
        "y_pred_prob_mmc = clf_mmc.predict_proba(X_test)[:, 1]             # mmc stands for Min Max Scaler and Contrained values between 0 and 1\n",
        "\n",
        "cm_mmc=confusion_matrix(y_test,y_pred_mmc)                        # mmc stands for Min Max Scaler and Contrained values between 0 and 1\n",
        "print (cm_mmc)                                                    # mmc stands for Min Max Scaler and Contrained values between 0 and 1\n",
        "\n",
        "recall_score(y_test, y_pred_mmc)                                  # mmc stands for Min Max Scaler and Contrained values between 0 and 1\n",
        "roc_curve(y_test, y_pred_mmc)                                     # mmc stands for Min Max Scaler and Contrained values between 0 and 1\n",
        "\n",
        "\n",
        "\n",
        "report_mmc = classification_report(y_test, y_pred_mmc)            # mmc stands for Min Max Scaler and Contrained values between 0 and 1\n",
        "print(report_mmc)                                                 # mmc stands for Min Max Scaler and Contrained values between 0 and 1\n",
        "\n",
        "\n",
        "# calculate roc curve\n",
        "fpr_mmc, tpr_mmc, thresholds_mmc = roc_curve(y_test, y_pred_prob_mmc)     # mmc stands for Min Max Scaler and Contrained values between 0 and 1\n",
        "roc_auc_mmc = metrics.auc(fpr_mmc, tpr_mmc)\n",
        "print('ROC AUC MMC: %.3f' %roc_auc_mmc)\n",
        "\n",
        "# calculate AUC\n",
        "auc_mmc = roc_auc_score(y_test, y_pred_prob_mmc)                   # mmc stands for Min Max Scaler and Contrained values between 0 and 1\n",
        "print('AUC: %.3f' % auc_mmc)                  # mmc stands for Min Max Scaler and Contrained values between 0 and 1\n",
        "\n",
        "accuracy_mmc = metrics.accuracy_score(y_pred_mmc, y_test)\n",
        "balanced_accuracy_mmc = metrics.balanced_accuracy_score(y_pred_mmc, y_test)\n",
        "precision_mmc = metrics.precision_score(y_pred_mmc, y_test)\n",
        "average_precision_mmc = metrics.average_precision_score(y_pred_mmc, y_test)\n",
        "f1_score_mmc = metrics.f1_score(y_pred_mmc, y_test)\n",
        "recall_mmc = metrics.recall_score(y_pred_mmc, y_test)\n",
        "\n",
        "plt.plot([0, 1], [0, 1], linestyle='--')\n",
        "# plot the roc curve for the model\n",
        "plt.plot(fpr_mmc, tpr_mmc, marker='.',label='AdaBoostClassifier (area = %0.3f)' % roc_auc_mmc) # mmc stands for Min Max Scaler and Contrained values between 0 and 1\n",
        "\n",
        "plt.title('Receiver Operating Characteristic Curve')\n",
        "plt.xlabel('False Postive Rate') \n",
        "plt.ylabel('True Postive Rate')\n",
        "# show the plot\n",
        "plt.show()"
      ],
      "execution_count": 0,
      "outputs": [
        {
          "output_type": "stream",
          "text": [
            "Predictions Mean MMC  0.8852472282916566\n",
            "Mean Accuracies MMC   0.8882453371910868\n",
            "[[10939     0]\n",
            " [ 1418     0]]\n",
            "              precision    recall  f1-score   support\n",
            "\n",
            "           0       0.89      1.00      0.94     10939\n",
            "           1       0.00      0.00      0.00      1418\n",
            "\n",
            "    accuracy                           0.89     12357\n",
            "   macro avg       0.44      0.50      0.47     12357\n",
            "weighted avg       0.78      0.89      0.83     12357\n",
            "\n",
            "ROC AUC MMC: 0.705\n",
            "AUC: 0.705\n"
          ],
          "name": "stdout"
        },
        {
          "output_type": "stream",
          "text": [
            "/usr/local/lib/python3.6/dist-packages/sklearn/metrics/classification.py:1437: UndefinedMetricWarning: Precision and F-score are ill-defined and being set to 0.0 in labels with no predicted samples.\n",
            "  'precision', 'predicted', average, warn_for)\n",
            "/usr/local/lib/python3.6/dist-packages/sklearn/metrics/classification.py:1745: UserWarning: y_pred contains classes not in y_true\n",
            "  warnings.warn('y_pred contains classes not in y_true')\n",
            "/usr/local/lib/python3.6/dist-packages/sklearn/metrics/ranking.py:528: RuntimeWarning: invalid value encountered in true_divide\n",
            "  recall = tps / tps[-1]\n",
            "/usr/local/lib/python3.6/dist-packages/sklearn/metrics/classification.py:1439: UndefinedMetricWarning: F-score is ill-defined and being set to 0.0 due to no true samples.\n",
            "  'recall', 'true', average, warn_for)\n",
            "/usr/local/lib/python3.6/dist-packages/sklearn/metrics/classification.py:1439: UndefinedMetricWarning: Recall is ill-defined and being set to 0.0 due to no true samples.\n",
            "  'recall', 'true', average, warn_for)\n"
          ],
          "name": "stderr"
        },
        {
          "output_type": "display_data",
          "data": {
            "image/png": "[encoded data removed]",
            "text/plain": [
              "<Figure size 432x288 with 1 Axes>"
            ]
          },
          "metadata": {
            "tags": []
          }
        }
      ]
    },
    {
      "cell_type": "code",
      "metadata": {
        "id": "vyWF_cVeen64",
        "colab_type": "code",
        "outputId": "a1b9de07-2b0b-4de8-b415-193972c0c79a",
        "colab": {
          "base_uri": "https://localhost:8080/",
          "height": 295
        }
      },
      "source": [
        "plt.plot([0, 1], [0, 1], linestyle='--')\n",
        "# plot the roc curve for the model\n",
        "#plt.set_cmap(matplotlib.cm.get_cmap)\n",
        "#plt.set_cmap('Accent_r')\n",
        "plt.set_cmap('Blues_r')\n",
        "\n",
        "plt.plot(fpr_le, tpr_le, marker='.', label='AdaBoostClassifier (area = %0.3f)' % roc_auc_le)\n",
        "plt.plot(fpr_cdv, tpr_cdv, marker='.' , label='AdaBoostClassifier (area = %0.3f)' % roc_auc_cdv)\n",
        "plt.plot(fpr_res, tpr_res, marker='.' , label='AdaBoostClassifier (area = %0.3f)' % roc_auc_res)\n",
        "plt.plot(fpr, tpr, marker='.', label='AdaBoostClassifier (area = %0.3f)' % roc_auc)\n",
        "plt.plot(fpr_mmc, tpr_mmc, marker='.' , label='AdaBoostClassifier (area = %0.3f)' % roc_auc_mmc)\n",
        "\n",
        "plt.title('Receiver Operating Characteristic Curve')\n",
        "plt.xlabel('False Postive Rate') \n",
        "plt.ylabel('True Postive Rate')\n",
        "#plt.legend(['auc'+str(round(auc,4)), 'auc_le'+str(round(auc_le,4)), 'auc_cdv'+str(round(auc_cdv,4)), 'auc_res'+str(round(auc_res,4)), \n",
        "#            'auc_mmc'+str(round(auc_mmc,4))], loc='lower right')\n",
        "plt.legend(['auc_le'+str(round(auc_le,4)),  'auc_cdv'+str(round(auc_cdv,4)), \n",
        "            'auc_res'+str(round(auc_res,4)), 'auc'+str(round(auc,4)), 'auc_mmc'+str(round(auc_mmc,4))], loc='lower right')\n",
        "# show the plot\n",
        "plt.show()"
      ],
      "execution_count": 0,
      "outputs": [
        {
          "output_type": "display_data",
          "data": {
            "image/png": "[encoded data removed]",
            "text/plain": [
              "<Figure size 432x288 with 1 Axes>"
            ]
          },
          "metadata": {
            "tags": []
          }
        }
      ]
    },
    {
      "cell_type": "code",
      "metadata": {
        "id": "XMB37uj-OSgA",
        "colab_type": "code",
        "outputId": "6f67e613-219b-4c77-8ecb-04206d48f84f",
        "colab": {
          "base_uri": "https://localhost:8080/",
          "height": 408
        }
      },
      "source": [
        "from sklearn.tree import DecisionTreeClassifier\n",
        "from sklearn.ensemble import AdaBoostClassifier\n",
        "from sklearn.model_selection import GridSearchCV\n",
        "from sklearn.model_selection import cross_val_score\n",
        "\n",
        "param_grid = {\"base_estimator__criterion\" : [\"gini\", \"entropy\"],\n",
        "              \"base_estimator__splitter\" :   [\"best\", \"random\"],\n",
        "              \"n_estimators\": [50, 100, 150, 200, 250]\n",
        "             }\n",
        "\n",
        "\n",
        "DTC = DecisionTreeClassifier(random_state = 11, max_features= \"auto\", class_weight = \"balanced\",max_depth = None)\n",
        "\n",
        "ABC = AdaBoostClassifier(base_estimator = DTC)\n",
        "\n",
        "# run grid search\n",
        "grid_search_ABC = GridSearchCV(ABC, param_grid=param_grid, scoring = 'roc_auc', cv=5)\n",
        "\n",
        "grid_search_ABC.fit(X_train, y_train)\n",
        "#scores = cross_val_score(grid_search_ABC, X_train, y_train, cv=5)"
      ],
      "execution_count": 0,
      "outputs": [
        {
          "output_type": "execute_result",
          "data": {
            "text/plain": [
              "GridSearchCV(cv=5, error_score='raise-deprecating',\n",
              "             estimator=AdaBoostClassifier(algorithm='SAMME.R',\n",
              "                                          base_estimator=DecisionTreeClassifier(class_weight='balanced',\n",
              "                                                                                criterion='gini',\n",
              "                                                                                max_depth=None,\n",
              "                                                                                max_features='auto',\n",
              "                                                                                max_leaf_nodes=None,\n",
              "                                                                                min_impurity_decrease=0.0,\n",
              "                                                                                min_impurity_split=None,\n",
              "                                                                                min_samples_leaf=1,\n",
              "                                                                                min_samples_split=2,\n",
              "                                                                                min_weight_fraction_leaf=0.0,\n",
              "                                                                                presort=False,\n",
              "                                                                                random_state=11,\n",
              "                                                                                splitter='best'),\n",
              "                                          learning_rate=1.0, n_estimators=50,\n",
              "                                          random_state=None),\n",
              "             iid='warn', n_jobs=None,\n",
              "             param_grid={'base_estimator__criterion': ['gini', 'entropy'],\n",
              "                         'base_estimator__splitter': ['best', 'random'],\n",
              "                         'n_estimators': [50, 100, 150, 200, 250]},\n",
              "             pre_dispatch='2*n_jobs', refit=True, return_train_score=False,\n",
              "             scoring='roc_auc', verbose=0)"
            ]
          },
          "metadata": {
            "tags": []
          },
          "execution_count": 70
        }
      ]
    },
    {
      "cell_type": "code",
      "metadata": {
        "id": "KMTyBGLvY6yU",
        "colab_type": "code",
        "colab": {}
      },
      "source": [
        "scores = cross_val_score(grid_search_ABC, X_train, y_train, cv=5)"
      ],
      "execution_count": 0,
      "outputs": []
    },
    {
      "cell_type": "code",
      "metadata": {
        "id": "P12dAGZnG3Da",
        "colab_type": "code",
        "outputId": "1ed2421f-c283-4c34-aaa4-931464753751",
        "colab": {
          "base_uri": "https://localhost:8080/",
          "height": 428
        }
      },
      "source": [
        "dtrain_predictions = grid_search_ABC.predict(y_test)\n",
        "dtrain_predprob = grid_search_ABC.predict_proba(y_test)\n",
        "#Print model report:\n",
        "print (\"\\nModel Report\")\n",
        "print (\"Accuracy : %.4g\" % metrics.accuracy_score(dtrain_predictions, y_test))\n",
        "print (\"AUC Score (Train): %f\" % metrics.roc_auc_score(X_test, dtrain_predprob))    #(y_test, y_pred_prob_mmc)  \n",
        "if performCV:\n",
        "  print (\"CV Score : Mean - %.7g | Std - %.7g | Min - %.7g | Max - %.7g\" % (np.mean(scores),np.std(scores),np.min(scores),np.max(scores)))\n",
        "        \n",
        "#Print Feature Importance:\n",
        "if printFeatureImportance:\n",
        "  feat_imp = pd.Series(grid_search_ABC.feature_importances_, predictors).sort_values(ascending=False)\n",
        "  feat_imp.plot(kind='bar', title='Feature Importances')\n",
        "  \n",
        "  \n",
        "plt.ylabel('Feature Importance Score')\n",
        "plt.show()"
      ],
      "execution_count": 0,
      "outputs": [
        {
          "output_type": "error",
          "ename": "ValueError",
          "evalue": "ignored",
          "traceback": [
            "\u001b[0;31m---------------------------------------------------------------------------\u001b[0m",
            "\u001b[0;31mValueError\u001b[0m                                Traceback (most recent call last)",
            "\u001b[0;32m<ipython-input-106-4402208fa11b>\u001b[0m in \u001b[0;36m<module>\u001b[0;34m()\u001b[0m\n\u001b[0;32m----> 1\u001b[0;31m \u001b[0mdtrain_predictions\u001b[0m \u001b[0;34m=\u001b[0m \u001b[0mgrid_search_ABC\u001b[0m\u001b[0;34m.\u001b[0m\u001b[0mpredict\u001b[0m\u001b[0;34m(\u001b[0m\u001b[0my_test\u001b[0m\u001b[0;34m)\u001b[0m\u001b[0;34m\u001b[0m\u001b[0;34m\u001b[0m\u001b[0m\n\u001b[0m\u001b[1;32m      2\u001b[0m \u001b[0mdtrain_predprob\u001b[0m \u001b[0;34m=\u001b[0m \u001b[0mgrid_search_ABC\u001b[0m\u001b[0;34m.\u001b[0m\u001b[0mpredict_proba\u001b[0m\u001b[0;34m(\u001b[0m\u001b[0my_test\u001b[0m\u001b[0;34m)\u001b[0m\u001b[0;34m\u001b[0m\u001b[0;34m\u001b[0m\u001b[0m\n\u001b[1;32m      3\u001b[0m \u001b[0;31m#Print model report:\u001b[0m\u001b[0;34m\u001b[0m\u001b[0;34m\u001b[0m\u001b[0;34m\u001b[0m\u001b[0m\n\u001b[1;32m      4\u001b[0m \u001b[0mprint\u001b[0m \u001b[0;34m(\u001b[0m\u001b[0;34m\"\\nModel Report\"\u001b[0m\u001b[0;34m)\u001b[0m\u001b[0;34m\u001b[0m\u001b[0;34m\u001b[0m\u001b[0m\n\u001b[1;32m      5\u001b[0m \u001b[0mprint\u001b[0m \u001b[0;34m(\u001b[0m\u001b[0;34m\"Accuracy : %.4g\"\u001b[0m \u001b[0;34m%\u001b[0m \u001b[0mmetrics\u001b[0m\u001b[0;34m.\u001b[0m\u001b[0maccuracy_score\u001b[0m\u001b[0;34m(\u001b[0m\u001b[0mdtrain_predictions\u001b[0m\u001b[0;34m,\u001b[0m \u001b[0my_test\u001b[0m\u001b[0;34m)\u001b[0m\u001b[0;34m)\u001b[0m\u001b[0;34m\u001b[0m\u001b[0;34m\u001b[0m\u001b[0m\n",
            "\u001b[0;32m/usr/local/lib/python3.6/dist-packages/sklearn/utils/metaestimators.py\u001b[0m in \u001b[0;36m<lambda>\u001b[0;34m(*args, **kwargs)\u001b[0m\n\u001b[1;32m    114\u001b[0m \u001b[0;34m\u001b[0m\u001b[0m\n\u001b[1;32m    115\u001b[0m         \u001b[0;31m# lambda, but not partial, allows help() to work with update_wrapper\u001b[0m\u001b[0;34m\u001b[0m\u001b[0;34m\u001b[0m\u001b[0;34m\u001b[0m\u001b[0m\n\u001b[0;32m--> 116\u001b[0;31m         \u001b[0mout\u001b[0m \u001b[0;34m=\u001b[0m \u001b[0;32mlambda\u001b[0m \u001b[0;34m*\u001b[0m\u001b[0margs\u001b[0m\u001b[0;34m,\u001b[0m \u001b[0;34m**\u001b[0m\u001b[0mkwargs\u001b[0m\u001b[0;34m:\u001b[0m \u001b[0mself\u001b[0m\u001b[0;34m.\u001b[0m\u001b[0mfn\u001b[0m\u001b[0;34m(\u001b[0m\u001b[0mobj\u001b[0m\u001b[0;34m,\u001b[0m \u001b[0;34m*\u001b[0m\u001b[0margs\u001b[0m\u001b[0;34m,\u001b[0m \u001b[0;34m**\u001b[0m\u001b[0mkwargs\u001b[0m\u001b[0;34m)\u001b[0m\u001b[0;34m\u001b[0m\u001b[0;34m\u001b[0m\u001b[0m\n\u001b[0m\u001b[1;32m    117\u001b[0m         \u001b[0;31m# update the docstring of the returned function\u001b[0m\u001b[0;34m\u001b[0m\u001b[0;34m\u001b[0m\u001b[0;34m\u001b[0m\u001b[0m\n\u001b[1;32m    118\u001b[0m         \u001b[0mupdate_wrapper\u001b[0m\u001b[0;34m(\u001b[0m\u001b[0mout\u001b[0m\u001b[0;34m,\u001b[0m \u001b[0mself\u001b[0m\u001b[0;34m.\u001b[0m\u001b[0mfn\u001b[0m\u001b[0;34m)\u001b[0m\u001b[0;34m\u001b[0m\u001b[0;34m\u001b[0m\u001b[0m\n",
            "\u001b[0;32m/usr/local/lib/python3.6/dist-packages/sklearn/model_selection/_search.py\u001b[0m in \u001b[0;36mpredict\u001b[0;34m(self, X)\u001b[0m\n\u001b[1;32m    455\u001b[0m         \"\"\"\n\u001b[1;32m    456\u001b[0m         \u001b[0mself\u001b[0m\u001b[0;34m.\u001b[0m\u001b[0m_check_is_fitted\u001b[0m\u001b[0;34m(\u001b[0m\u001b[0;34m'predict'\u001b[0m\u001b[0;34m)\u001b[0m\u001b[0;34m\u001b[0m\u001b[0;34m\u001b[0m\u001b[0m\n\u001b[0;32m--> 457\u001b[0;31m         \u001b[0;32mreturn\u001b[0m \u001b[0mself\u001b[0m\u001b[0;34m.\u001b[0m\u001b[0mbest_estimator_\u001b[0m\u001b[0;34m.\u001b[0m\u001b[0mpredict\u001b[0m\u001b[0;34m(\u001b[0m\u001b[0mX\u001b[0m\u001b[0;34m)\u001b[0m\u001b[0;34m\u001b[0m\u001b[0;34m\u001b[0m\u001b[0m\n\u001b[0m\u001b[1;32m    458\u001b[0m \u001b[0;34m\u001b[0m\u001b[0m\n\u001b[1;32m    459\u001b[0m     \u001b[0;34m@\u001b[0m\u001b[0mif_delegate_has_method\u001b[0m\u001b[0;34m(\u001b[0m\u001b[0mdelegate\u001b[0m\u001b[0;34m=\u001b[0m\u001b[0;34m(\u001b[0m\u001b[0;34m'best_estimator_'\u001b[0m\u001b[0;34m,\u001b[0m \u001b[0;34m'estimator'\u001b[0m\u001b[0;34m)\u001b[0m\u001b[0;34m)\u001b[0m\u001b[0;34m\u001b[0m\u001b[0;34m\u001b[0m\u001b[0m\n",
            "\u001b[0;32m/usr/local/lib/python3.6/dist-packages/sklearn/ensemble/weight_boosting.py\u001b[0m in \u001b[0;36mpredict\u001b[0;34m(self, X)\u001b[0m\n\u001b[1;32m    615\u001b[0m         \u001b[0mX\u001b[0m \u001b[0;34m=\u001b[0m \u001b[0mself\u001b[0m\u001b[0;34m.\u001b[0m\u001b[0m_validate_data\u001b[0m\u001b[0;34m(\u001b[0m\u001b[0mX\u001b[0m\u001b[0;34m)\u001b[0m\u001b[0;34m\u001b[0m\u001b[0;34m\u001b[0m\u001b[0m\n\u001b[1;32m    616\u001b[0m \u001b[0;34m\u001b[0m\u001b[0m\n\u001b[0;32m--> 617\u001b[0;31m         \u001b[0mpred\u001b[0m \u001b[0;34m=\u001b[0m \u001b[0mself\u001b[0m\u001b[0;34m.\u001b[0m\u001b[0mdecision_function\u001b[0m\u001b[0;34m(\u001b[0m\u001b[0mX\u001b[0m\u001b[0;34m)\u001b[0m\u001b[0;34m\u001b[0m\u001b[0;34m\u001b[0m\u001b[0m\n\u001b[0m\u001b[1;32m    618\u001b[0m \u001b[0;34m\u001b[0m\u001b[0m\n\u001b[1;32m    619\u001b[0m         \u001b[0;32mif\u001b[0m \u001b[0mself\u001b[0m\u001b[0;34m.\u001b[0m\u001b[0mn_classes_\u001b[0m \u001b[0;34m==\u001b[0m \u001b[0;36m2\u001b[0m\u001b[0;34m:\u001b[0m\u001b[0;34m\u001b[0m\u001b[0;34m\u001b[0m\u001b[0m\n",
            "\u001b[0;32m/usr/local/lib/python3.6/dist-packages/sklearn/ensemble/weight_boosting.py\u001b[0m in \u001b[0;36mdecision_function\u001b[0;34m(self, X)\u001b[0m\n\u001b[1;32m    685\u001b[0m             \u001b[0;31m# The weights are all 1. for SAMME.R\u001b[0m\u001b[0;34m\u001b[0m\u001b[0;34m\u001b[0m\u001b[0;34m\u001b[0m\u001b[0m\n\u001b[1;32m    686\u001b[0m             pred = sum(_samme_proba(estimator, n_classes, X)\n\u001b[0;32m--> 687\u001b[0;31m                        for estimator in self.estimators_)\n\u001b[0m\u001b[1;32m    688\u001b[0m         \u001b[0;32melse\u001b[0m\u001b[0;34m:\u001b[0m  \u001b[0;31m# self.algorithm == \"SAMME\"\u001b[0m\u001b[0;34m\u001b[0m\u001b[0;34m\u001b[0m\u001b[0m\n\u001b[1;32m    689\u001b[0m             pred = sum((estimator.predict(X) == classes).T * w\n",
            "\u001b[0;32m/usr/local/lib/python3.6/dist-packages/sklearn/ensemble/weight_boosting.py\u001b[0m in \u001b[0;36m<genexpr>\u001b[0;34m(.0)\u001b[0m\n\u001b[1;32m    685\u001b[0m             \u001b[0;31m# The weights are all 1. for SAMME.R\u001b[0m\u001b[0;34m\u001b[0m\u001b[0;34m\u001b[0m\u001b[0;34m\u001b[0m\u001b[0m\n\u001b[1;32m    686\u001b[0m             pred = sum(_samme_proba(estimator, n_classes, X)\n\u001b[0;32m--> 687\u001b[0;31m                        for estimator in self.estimators_)\n\u001b[0m\u001b[1;32m    688\u001b[0m         \u001b[0;32melse\u001b[0m\u001b[0;34m:\u001b[0m  \u001b[0;31m# self.algorithm == \"SAMME\"\u001b[0m\u001b[0;34m\u001b[0m\u001b[0;34m\u001b[0m\u001b[0m\n\u001b[1;32m    689\u001b[0m             pred = sum((estimator.predict(X) == classes).T * w\n",
            "\u001b[0;32m/usr/local/lib/python3.6/dist-packages/sklearn/ensemble/weight_boosting.py\u001b[0m in \u001b[0;36m_samme_proba\u001b[0;34m(estimator, n_classes, X)\u001b[0m\n\u001b[1;32m    278\u001b[0m \u001b[0;34m\u001b[0m\u001b[0m\n\u001b[1;32m    279\u001b[0m     \"\"\"\n\u001b[0;32m--> 280\u001b[0;31m     \u001b[0mproba\u001b[0m \u001b[0;34m=\u001b[0m \u001b[0mestimator\u001b[0m\u001b[0;34m.\u001b[0m\u001b[0mpredict_proba\u001b[0m\u001b[0;34m(\u001b[0m\u001b[0mX\u001b[0m\u001b[0;34m)\u001b[0m\u001b[0;34m\u001b[0m\u001b[0;34m\u001b[0m\u001b[0m\n\u001b[0m\u001b[1;32m    281\u001b[0m \u001b[0;34m\u001b[0m\u001b[0m\n\u001b[1;32m    282\u001b[0m     \u001b[0;31m# Displace zero probabilities so the log is defined.\u001b[0m\u001b[0;34m\u001b[0m\u001b[0;34m\u001b[0m\u001b[0;34m\u001b[0m\u001b[0m\n",
            "\u001b[0;32m/usr/local/lib/python3.6/dist-packages/sklearn/tree/tree.py\u001b[0m in \u001b[0;36mpredict_proba\u001b[0;34m(self, X, check_input)\u001b[0m\n\u001b[1;32m    845\u001b[0m         \"\"\"\n\u001b[1;32m    846\u001b[0m         \u001b[0mcheck_is_fitted\u001b[0m\u001b[0;34m(\u001b[0m\u001b[0mself\u001b[0m\u001b[0;34m,\u001b[0m \u001b[0;34m'tree_'\u001b[0m\u001b[0;34m)\u001b[0m\u001b[0;34m\u001b[0m\u001b[0;34m\u001b[0m\u001b[0m\n\u001b[0;32m--> 847\u001b[0;31m         \u001b[0mX\u001b[0m \u001b[0;34m=\u001b[0m \u001b[0mself\u001b[0m\u001b[0;34m.\u001b[0m\u001b[0m_validate_X_predict\u001b[0m\u001b[0;34m(\u001b[0m\u001b[0mX\u001b[0m\u001b[0;34m,\u001b[0m \u001b[0mcheck_input\u001b[0m\u001b[0;34m)\u001b[0m\u001b[0;34m\u001b[0m\u001b[0;34m\u001b[0m\u001b[0m\n\u001b[0m\u001b[1;32m    848\u001b[0m         \u001b[0mproba\u001b[0m \u001b[0;34m=\u001b[0m \u001b[0mself\u001b[0m\u001b[0;34m.\u001b[0m\u001b[0mtree_\u001b[0m\u001b[0;34m.\u001b[0m\u001b[0mpredict\u001b[0m\u001b[0;34m(\u001b[0m\u001b[0mX\u001b[0m\u001b[0;34m)\u001b[0m\u001b[0;34m\u001b[0m\u001b[0;34m\u001b[0m\u001b[0m\n\u001b[1;32m    849\u001b[0m \u001b[0;34m\u001b[0m\u001b[0m\n",
            "\u001b[0;32m/usr/local/lib/python3.6/dist-packages/sklearn/tree/tree.py\u001b[0m in \u001b[0;36m_validate_X_predict\u001b[0;34m(self, X, check_input)\u001b[0m\n\u001b[1;32m    389\u001b[0m         \u001b[0;34m\"\"\"Validate X whenever one tries to predict, apply, predict_proba\"\"\"\u001b[0m\u001b[0;34m\u001b[0m\u001b[0;34m\u001b[0m\u001b[0m\n\u001b[1;32m    390\u001b[0m         \u001b[0;32mif\u001b[0m \u001b[0mcheck_input\u001b[0m\u001b[0;34m:\u001b[0m\u001b[0;34m\u001b[0m\u001b[0;34m\u001b[0m\u001b[0m\n\u001b[0;32m--> 391\u001b[0;31m             \u001b[0mX\u001b[0m \u001b[0;34m=\u001b[0m \u001b[0mcheck_array\u001b[0m\u001b[0;34m(\u001b[0m\u001b[0mX\u001b[0m\u001b[0;34m,\u001b[0m \u001b[0mdtype\u001b[0m\u001b[0;34m=\u001b[0m\u001b[0mDTYPE\u001b[0m\u001b[0;34m,\u001b[0m \u001b[0maccept_sparse\u001b[0m\u001b[0;34m=\u001b[0m\u001b[0;34m\"csr\"\u001b[0m\u001b[0;34m)\u001b[0m\u001b[0;34m\u001b[0m\u001b[0;34m\u001b[0m\u001b[0m\n\u001b[0m\u001b[1;32m    392\u001b[0m             if issparse(X) and (X.indices.dtype != np.intc or\n\u001b[1;32m    393\u001b[0m                                 X.indptr.dtype != np.intc):\n",
            "\u001b[0;32m/usr/local/lib/python3.6/dist-packages/sklearn/utils/validation.py\u001b[0m in \u001b[0;36mcheck_array\u001b[0;34m(array, accept_sparse, accept_large_sparse, dtype, order, copy, force_all_finite, ensure_2d, allow_nd, ensure_min_samples, ensure_min_features, warn_on_dtype, estimator)\u001b[0m\n\u001b[1;32m    519\u001b[0m                     \u001b[0;34m\"Reshape your data either using array.reshape(-1, 1) if \"\u001b[0m\u001b[0;34m\u001b[0m\u001b[0;34m\u001b[0m\u001b[0m\n\u001b[1;32m    520\u001b[0m                     \u001b[0;34m\"your data has a single feature or array.reshape(1, -1) \"\u001b[0m\u001b[0;34m\u001b[0m\u001b[0;34m\u001b[0m\u001b[0m\n\u001b[0;32m--> 521\u001b[0;31m                     \"if it contains a single sample.\".format(array))\n\u001b[0m\u001b[1;32m    522\u001b[0m \u001b[0;34m\u001b[0m\u001b[0m\n\u001b[1;32m    523\u001b[0m         \u001b[0;31m# in the future np.flexible dtypes will be handled like object dtypes\u001b[0m\u001b[0;34m\u001b[0m\u001b[0;34m\u001b[0m\u001b[0;34m\u001b[0m\u001b[0m\n",
            "\u001b[0;31mValueError\u001b[0m: Expected 2D array, got 1D array instead:\narray=[1. 0. 0. ... 0. 0. 0.].\nReshape your data either using array.reshape(-1, 1) if your data has a single feature or array.reshape(1, -1) if it contains a single sample."
          ]
        }
      ]
    },
    {
      "cell_type": "code",
      "metadata": {
        "id": "99GFpgLo8roD",
        "colab_type": "code",
        "outputId": "1deff754-70e5-448d-81e6-273b46a81d9a",
        "colab": {
          "base_uri": "https://localhost:8080/",
          "height": 306
        }
      },
      "source": [
        "#Choose all predictors except target & IDcols\n",
        "predictors = [x for x in X_train if x not in [y_test]]"
      ],
      "execution_count": 0,
      "outputs": [
        {
          "output_type": "error",
          "ename": "ValueError",
          "evalue": "ignored",
          "traceback": [
            "\u001b[0;31m---------------------------------------------------------------------------\u001b[0m",
            "\u001b[0;31mValueError\u001b[0m                                Traceback (most recent call last)",
            "\u001b[0;32m<ipython-input-112-63adcf2fbebb>\u001b[0m in \u001b[0;36m<module>\u001b[0;34m()\u001b[0m\n\u001b[0;32m----> 1\u001b[0;31m \u001b[0mpredictors\u001b[0m \u001b[0;34m=\u001b[0m \u001b[0;34m[\u001b[0m\u001b[0mx\u001b[0m \u001b[0;32mfor\u001b[0m \u001b[0mx\u001b[0m \u001b[0;32min\u001b[0m \u001b[0mX_train\u001b[0m \u001b[0;32mif\u001b[0m \u001b[0mx\u001b[0m \u001b[0;32mnot\u001b[0m \u001b[0;32min\u001b[0m \u001b[0;34m[\u001b[0m\u001b[0my_test\u001b[0m\u001b[0;34m]\u001b[0m\u001b[0;34m]\u001b[0m\u001b[0;34m\u001b[0m\u001b[0;34m\u001b[0m\u001b[0m\n\u001b[0m",
            "\u001b[0;32m<ipython-input-112-63adcf2fbebb>\u001b[0m in \u001b[0;36m<listcomp>\u001b[0;34m(.0)\u001b[0m\n\u001b[0;32m----> 1\u001b[0;31m \u001b[0mpredictors\u001b[0m \u001b[0;34m=\u001b[0m \u001b[0;34m[\u001b[0m\u001b[0mx\u001b[0m \u001b[0;32mfor\u001b[0m \u001b[0mx\u001b[0m \u001b[0;32min\u001b[0m \u001b[0mX_train\u001b[0m \u001b[0;32mif\u001b[0m \u001b[0mx\u001b[0m \u001b[0;32mnot\u001b[0m \u001b[0;32min\u001b[0m \u001b[0;34m[\u001b[0m\u001b[0my_test\u001b[0m\u001b[0;34m]\u001b[0m\u001b[0;34m]\u001b[0m\u001b[0;34m\u001b[0m\u001b[0;34m\u001b[0m\u001b[0m\n\u001b[0m",
            "\u001b[0;32m/usr/local/lib/python3.6/dist-packages/pandas/core/ops.py\u001b[0m in \u001b[0;36mwrapper\u001b[0;34m(self, other, axis)\u001b[0m\n\u001b[1;32m   1743\u001b[0m             \u001b[0;31m# as it will broadcast\u001b[0m\u001b[0;34m\u001b[0m\u001b[0;34m\u001b[0m\u001b[0;34m\u001b[0m\u001b[0m\n\u001b[1;32m   1744\u001b[0m             \u001b[0;32mif\u001b[0m \u001b[0mother\u001b[0m\u001b[0;34m.\u001b[0m\u001b[0mndim\u001b[0m \u001b[0;34m!=\u001b[0m \u001b[0;36m0\u001b[0m \u001b[0;32mand\u001b[0m \u001b[0mlen\u001b[0m\u001b[0;34m(\u001b[0m\u001b[0mself\u001b[0m\u001b[0;34m)\u001b[0m \u001b[0;34m!=\u001b[0m \u001b[0mlen\u001b[0m\u001b[0;34m(\u001b[0m\u001b[0mother\u001b[0m\u001b[0;34m)\u001b[0m\u001b[0;34m:\u001b[0m\u001b[0;34m\u001b[0m\u001b[0;34m\u001b[0m\u001b[0m\n\u001b[0;32m-> 1745\u001b[0;31m                 \u001b[0;32mraise\u001b[0m \u001b[0mValueError\u001b[0m\u001b[0;34m(\u001b[0m\u001b[0;34m'Lengths must match to compare'\u001b[0m\u001b[0;34m)\u001b[0m\u001b[0;34m\u001b[0m\u001b[0;34m\u001b[0m\u001b[0m\n\u001b[0m\u001b[1;32m   1746\u001b[0m \u001b[0;34m\u001b[0m\u001b[0m\n\u001b[1;32m   1747\u001b[0m             \u001b[0mres_values\u001b[0m \u001b[0;34m=\u001b[0m \u001b[0mna_op\u001b[0m\u001b[0;34m(\u001b[0m\u001b[0mself\u001b[0m\u001b[0;34m.\u001b[0m\u001b[0mvalues\u001b[0m\u001b[0;34m,\u001b[0m \u001b[0mnp\u001b[0m\u001b[0;34m.\u001b[0m\u001b[0masarray\u001b[0m\u001b[0;34m(\u001b[0m\u001b[0mother\u001b[0m\u001b[0;34m)\u001b[0m\u001b[0;34m)\u001b[0m\u001b[0;34m\u001b[0m\u001b[0;34m\u001b[0m\u001b[0m\n",
            "\u001b[0;31mValueError\u001b[0m: Lengths must match to compare"
          ]
        }
      ]
    },
    {
      "cell_type": "code",
      "metadata": {
        "id": "FLl-KUXZJmkE",
        "colab_type": "code",
        "outputId": "1d77cf28-dd4b-47c4-fd90-504ce6fdc905",
        "colab": {
          "base_uri": "https://localhost:8080/",
          "height": 136
        }
      },
      "source": [
        "dtrain_predprob"
      ],
      "execution_count": 0,
      "outputs": [
        {
          "output_type": "execute_result",
          "data": {
            "text/plain": [
              "array([[0.99676457, 0.00323543],\n",
              "       [0.98165794, 0.01834206],\n",
              "       [0.99177959, 0.00822041],\n",
              "       ...,\n",
              "       [0.98921886, 0.01078114],\n",
              "       [0.99138905, 0.00861095],\n",
              "       [0.99526669, 0.00473331]])"
            ]
          },
          "metadata": {
            "tags": []
          },
          "execution_count": 92
        }
      ]
    },
    {
      "cell_type": "code",
      "metadata": {
        "id": "9Ly_fU32KK8F",
        "colab_type": "code",
        "colab": {}
      },
      "source": [
        ""
      ],
      "execution_count": 0,
      "outputs": []
    }
  ]
}