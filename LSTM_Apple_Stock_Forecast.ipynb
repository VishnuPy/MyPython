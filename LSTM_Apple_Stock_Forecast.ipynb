{
  "nbformat": 4,
  "nbformat_minor": 0,
  "metadata": {
    "colab": {
      "name": "LSTM_Apple_Stock_Forecast",
      "provenance": [],
      "collapsed_sections": [],
      "include_colab_link": true
    },
    "kernelspec": {
      "name": "python3",
      "display_name": "Python 3"
    },
    "accelerator": "GPU"
  },
  "cells": [
    {
      "cell_type": "markdown",
      "metadata": {
        "id": "view-in-github",
        "colab_type": "text"
      },
      "source": [
        "<a href=\"https://colab.research.google.com/github/VishnuPy/MyPython/blob/master/LSTM_Apple_Stock_Forecast.ipynb\" target=\"_parent\"><img src=\"https://colab.research.google.com/assets/colab-badge.svg\" alt=\"Open In Colab\"/></a>"
      ]
    },
    {
      "cell_type": "code",
      "metadata": {
        "id": "wAnmYSPcD1Dy",
        "colab_type": "code",
        "outputId": "e1396441-7d1e-4d60-e567-bb064770a7fa",
        "colab": {
          "base_uri": "https://localhost:8080/",
          "height": 85
        }
      },
      "source": [
        "import tensorflow as tf\n",
        "device_name = tf.test.gpu_device_name()\n",
        "if device_name != '/device:GPU:0':\n",
        "  raise SystemError('GPU device not found')\n",
        "print('Found GPU at: {}'.format(device_name))\n",
        "\n",
        "from google.colab import drive\n",
        "drive.mount('/gdrive')\n",
        "%cd /gdrive\n",
        "%ls"
      ],
      "execution_count": 0,
      "outputs": [
        {
          "output_type": "stream",
          "text": [
            "Found GPU at: /device:GPU:0\n",
            "Drive already mounted at /gdrive; to attempt to forcibly remount, call drive.mount(\"/gdrive\", force_remount=True).\n",
            "/gdrive\n",
            "\u001b[0m\u001b[01;34m'My Drive'\u001b[0m/\n"
          ],
          "name": "stdout"
        }
      ]
    },
    {
      "cell_type": "code",
      "metadata": {
        "id": "w1jB7fTzEHcO",
        "colab_type": "code",
        "outputId": "f22f056a-2857-419d-8cc9-b2a17047dc93",
        "colab": {
          "base_uri": "https://localhost:8080/",
          "height": 119
        }
      },
      "source": [
        "import tensorflow as tf\n",
        "import timeit\n",
        "\n",
        "# See https://www.tensorflow.org/tutorials/using_gpu#allowing_gpu_memory_growth\n",
        "config = tf.ConfigProto()\n",
        "config.gpu_options.allow_growth = True\n",
        "\n",
        "with tf.device('/cpu:0'):\n",
        "  random_image_cpu = tf.random_normal((100, 100, 100, 3))\n",
        "  net_cpu = tf.layers.conv2d(random_image_cpu, 32, 7)\n",
        "  net_cpu = tf.reduce_sum(net_cpu)\n",
        "\n",
        "with tf.device('/gpu:0'):\n",
        "  random_image_gpu = tf.random_normal((100, 100, 100, 3))\n",
        "  net_gpu = tf.layers.conv2d(random_image_gpu, 32, 7)\n",
        "  net_gpu = tf.reduce_sum(net_gpu)\n",
        "\n",
        "sess = tf.Session(config=config)\n",
        "\n",
        "# Test execution once to detect errors early.\n",
        "try:\n",
        "  sess.run(tf.global_variables_initializer())\n",
        "except tf.errors.InvalidArgumentError:\n",
        "  print(\n",
        "      '\\n\\nThis error most likely means that this notebook is not '\n",
        "      'configured to use a GPU.  Change this in Notebook Settings via the '\n",
        "      'command palette (cmd/ctrl-shift-P) or the Edit menu.\\n\\n')\n",
        "  raise\n",
        "\n",
        "def cpu():\n",
        "  sess.run(net_cpu)\n",
        "  \n",
        "def gpu():\n",
        "  sess.run(net_gpu)\n",
        "  \n",
        "# Runs the op several times.\n",
        "print('Time (s) to convolve 32x7x7x3 filter over random 100x100x100x3 images '\n",
        "      '(batch x height x width x channel). Sum of ten runs.')\n",
        "print('CPU (s):')\n",
        "cpu_time = timeit.timeit('cpu()', number=10, setup=\"from __main__ import cpu\")\n",
        "print(cpu_time)\n",
        "print('GPU (s):')\n",
        "gpu_time = timeit.timeit('gpu()', number=10, setup=\"from __main__ import gpu\")\n",
        "print(gpu_time)\n",
        "print('GPU speedup over CPU: {}x'.format(int(cpu_time/gpu_time)))"
      ],
      "execution_count": 0,
      "outputs": [
        {
          "output_type": "stream",
          "text": [
            "Time (s) to convolve 32x7x7x3 filter over random 100x100x100x3 images (batch x height x width x channel). Sum of ten runs.\n",
            "CPU (s):\n",
            "3.551519628999813\n",
            "GPU (s):\n",
            "0.2513316529984877\n",
            "GPU speedup over CPU: 14x\n"
          ],
          "name": "stdout"
        }
      ]
    },
    {
      "cell_type": "code",
      "metadata": {
        "id": "FW3X22-ONXNs",
        "colab_type": "code",
        "outputId": "29cb2768-b217-446a-8ce2-70f147f40a4e",
        "colab": {
          "base_uri": "https://localhost:8080/",
          "height": 51
        }
      },
      "source": [
        "%cd /gdrive\n",
        "%ls"
      ],
      "execution_count": 0,
      "outputs": [
        {
          "output_type": "stream",
          "text": [
            "/gdrive\n",
            "\u001b[0m\u001b[01;34m'My Drive'\u001b[0m/\n"
          ],
          "name": "stdout"
        }
      ]
    },
    {
      "cell_type": "markdown",
      "metadata": {
        "id": "PnfUuOO_N8Pq",
        "colab_type": "text"
      },
      "source": [
        "<font color=red size=6> Import Libraries & Process Data </font>"
      ]
    },
    {
      "cell_type": "code",
      "metadata": {
        "id": "C6ZS3fZdHNEu",
        "colab_type": "code",
        "outputId": "3929463e-8b1c-4f28-ff77-8cbf8ece611f",
        "colab": {
          "base_uri": "https://localhost:8080/",
          "height": 204
        }
      },
      "source": [
        "import numpy as np\n",
        "import matplotlib.pyplot as plt\n",
        "import pandas as pd\n",
        "\n",
        "dataset_training = pd.read_excel('My Drive/MyLearning/MLDLAIPython/Data/TextData/APPL_Stock_Data_2009thru2019.xlsx',0)\n",
        "dataset_training.head()\n"
      ],
      "execution_count": 0,
      "outputs": [
        {
          "output_type": "execute_result",
          "data": {
            "text/html": [
              "<div>\n",
              "<style scoped>\n",
              "    .dataframe tbody tr th:only-of-type {\n",
              "        vertical-align: middle;\n",
              "    }\n",
              "\n",
              "    .dataframe tbody tr th {\n",
              "        vertical-align: top;\n",
              "    }\n",
              "\n",
              "    .dataframe thead th {\n",
              "        text-align: right;\n",
              "    }\n",
              "</style>\n",
              "<table border=\"1\" class=\"dataframe\">\n",
              "  <thead>\n",
              "    <tr style=\"text-align: right;\">\n",
              "      <th></th>\n",
              "      <th>date</th>\n",
              "      <th>open</th>\n",
              "      <th>high</th>\n",
              "      <th>low</th>\n",
              "      <th>close</th>\n",
              "      <th>volume</th>\n",
              "    </tr>\n",
              "  </thead>\n",
              "  <tbody>\n",
              "    <tr>\n",
              "      <th>0</th>\n",
              "      <td>2009-01-02</td>\n",
              "      <td>12.2686</td>\n",
              "      <td>13.0057</td>\n",
              "      <td>12.1657</td>\n",
              "      <td>12.9643</td>\n",
              "      <td>186503800</td>\n",
              "    </tr>\n",
              "    <tr>\n",
              "      <th>1</th>\n",
              "      <td>2009-01-05</td>\n",
              "      <td>13.3100</td>\n",
              "      <td>13.7400</td>\n",
              "      <td>13.2443</td>\n",
              "      <td>13.5114</td>\n",
              "      <td>295402100</td>\n",
              "    </tr>\n",
              "    <tr>\n",
              "      <th>2</th>\n",
              "      <td>2009-01-06</td>\n",
              "      <td>13.7071</td>\n",
              "      <td>13.8814</td>\n",
              "      <td>13.1986</td>\n",
              "      <td>13.2886</td>\n",
              "      <td>322327600</td>\n",
              "    </tr>\n",
              "    <tr>\n",
              "      <th>3</th>\n",
              "      <td>2009-01-07</td>\n",
              "      <td>13.1157</td>\n",
              "      <td>13.2143</td>\n",
              "      <td>12.8943</td>\n",
              "      <td>13.0014</td>\n",
              "      <td>188262200</td>\n",
              "    </tr>\n",
              "    <tr>\n",
              "      <th>4</th>\n",
              "      <td>2009-01-08</td>\n",
              "      <td>12.9186</td>\n",
              "      <td>13.3071</td>\n",
              "      <td>12.8629</td>\n",
              "      <td>13.2429</td>\n",
              "      <td>168375200</td>\n",
              "    </tr>\n",
              "  </tbody>\n",
              "</table>\n",
              "</div>"
            ],
            "text/plain": [
              "        date     open     high      low    close     volume\n",
              "0 2009-01-02  12.2686  13.0057  12.1657  12.9643  186503800\n",
              "1 2009-01-05  13.3100  13.7400  13.2443  13.5114  295402100\n",
              "2 2009-01-06  13.7071  13.8814  13.1986  13.2886  322327600\n",
              "3 2009-01-07  13.1157  13.2143  12.8943  13.0014  188262200\n",
              "4 2009-01-08  12.9186  13.3071  12.8629  13.2429  168375200"
            ]
          },
          "metadata": {
            "tags": []
          },
          "execution_count": 18
        }
      ]
    },
    {
      "cell_type": "code",
      "metadata": {
        "id": "nmZrkH11HQHs",
        "colab_type": "code",
        "outputId": "75ae2af0-938b-44f6-a10c-9b302b8f5eca",
        "colab": {
          "base_uri": "https://localhost:8080/",
          "height": 136
        }
      },
      "source": [
        "training_data = dataset_training.iloc[:, 1:2].values\n",
        "training_data"
      ],
      "execution_count": 0,
      "outputs": [
        {
          "output_type": "execute_result",
          "data": {
            "text/plain": [
              "array([[ 12.2686],\n",
              "       [ 13.31  ],\n",
              "       [ 13.7071],\n",
              "       ...,\n",
              "       [191.545 ],\n",
              "       [192.9   ],\n",
              "       [196.05  ]])"
            ]
          },
          "metadata": {
            "tags": []
          },
          "execution_count": 19
        }
      ]
    },
    {
      "cell_type": "code",
      "metadata": {
        "id": "SX4s9dgbNw0q",
        "colab_type": "code",
        "outputId": "ea390ca4-9851-4ab7-e869-35b6d81bb5f0",
        "colab": {
          "base_uri": "https://localhost:8080/",
          "height": 136
        }
      },
      "source": [
        "from sklearn.preprocessing import MinMaxScaler\n",
        "sc = MinMaxScaler(feature_range = (0, 1))\n",
        "training_data_scaled = sc.fit_transform(training_data)\n",
        "\n",
        "training_data_scaled "
      ],
      "execution_count": 0,
      "outputs": [
        {
          "output_type": "execute_result",
          "data": {
            "text/plain": [
              "array([[0.0041863 ],\n",
              "       [0.00893223],\n",
              "       [0.01074192],\n",
              "       ...,\n",
              "       [0.82119583],\n",
              "       [0.82737092],\n",
              "       [0.84172629]])"
            ]
          },
          "metadata": {
            "tags": []
          },
          "execution_count": 20
        }
      ]
    },
    {
      "cell_type": "markdown",
      "metadata": {
        "id": "RvC3kQpNOaGr",
        "colab_type": "text"
      },
      "source": [
        "# Create Data Time Stamps & Rehape the Data"
      ]
    },
    {
      "cell_type": "code",
      "metadata": {
        "id": "Hxd9oQwnN1eE",
        "colab_type": "code",
        "colab": {}
      },
      "source": [
        "# ALl the predictions will be based on the past 60 timestamps and the process will be followed subsequently\n",
        "\n",
        "X_train = []\n",
        "y_train = []\n",
        "for i in range(60, 2632):\n",
        "    X_train.append(training_data_scaled[i-60:i, 0])\n",
        "    y_train.append(training_data_scaled[i, 0])\n",
        "X_train, y_train = np.array(X_train), np.array(y_train)"
      ],
      "execution_count": 0,
      "outputs": []
    },
    {
      "cell_type": "code",
      "metadata": {
        "id": "nYLKwWU_O23X",
        "colab_type": "code",
        "outputId": "83ced115-d801-40fb-975c-5774c6338a2f",
        "colab": {
          "base_uri": "https://localhost:8080/",
          "height": 850
        }
      },
      "source": [
        "X_train = np.reshape(X_train, (X_train.shape[0], X_train.shape[1], 1))\n",
        "X_train"
      ],
      "execution_count": 0,
      "outputs": [
        {
          "output_type": "execute_result",
          "data": {
            "text/plain": [
              "array([[[0.0041863 ],\n",
              "        [0.00893223],\n",
              "        [0.01074192],\n",
              "        ...,\n",
              "        [0.01847651],\n",
              "        [0.01873673],\n",
              "        [0.016315  ]],\n",
              "\n",
              "       [[0.00893223],\n",
              "        [0.01074192],\n",
              "        [0.00804676],\n",
              "        ...,\n",
              "        [0.01873673],\n",
              "        [0.016315  ],\n",
              "        [0.01692704]],\n",
              "\n",
              "       [[0.01074192],\n",
              "        [0.00804676],\n",
              "        [0.00714852],\n",
              "        ...,\n",
              "        [0.016315  ],\n",
              "        [0.01692704],\n",
              "        [0.01604156]],\n",
              "\n",
              "       ...,\n",
              "\n",
              "       [[0.79697398],\n",
              "        [0.814246  ],\n",
              "        [0.83849063],\n",
              "        ...,\n",
              "        [0.83630315],\n",
              "        [0.83215604],\n",
              "        [0.83557399]],\n",
              "\n",
              "       [[0.814246  ],\n",
              "        [0.83849063],\n",
              "        [0.82103632],\n",
              "        ...,\n",
              "        [0.83215604],\n",
              "        [0.83557399],\n",
              "        [0.82119583]],\n",
              "\n",
              "       [[0.83849063],\n",
              "        [0.82103632],\n",
              "        [0.82173814],\n",
              "        ...,\n",
              "        [0.83557399],\n",
              "        [0.82119583],\n",
              "        [0.82737092]]])"
            ]
          },
          "metadata": {
            "tags": []
          },
          "execution_count": 22
        }
      ]
    },
    {
      "cell_type": "code",
      "metadata": {
        "id": "mFY9H7frPARh",
        "colab_type": "code",
        "outputId": "1a0cc050-1f38-43e5-af95-9f51c4133034",
        "colab": {
          "base_uri": "https://localhost:8080/",
          "height": 34
        }
      },
      "source": [
        "X_train.shape"
      ],
      "execution_count": 0,
      "outputs": [
        {
          "output_type": "execute_result",
          "data": {
            "text/plain": [
              "(2572, 60, 1)"
            ]
          },
          "metadata": {
            "tags": []
          },
          "execution_count": 23
        }
      ]
    },
    {
      "cell_type": "code",
      "metadata": {
        "id": "LeM86E2jPMve",
        "colab_type": "code",
        "colab": {}
      },
      "source": [
        "from keras.models import Sequential\n",
        "from keras.layers import Dense\n",
        "from keras.layers import LSTM\n",
        "from keras.layers import Dropout"
      ],
      "execution_count": 0,
      "outputs": []
    },
    {
      "cell_type": "code",
      "metadata": {
        "id": "Lm0WoL8IPQph",
        "colab_type": "code",
        "colab": {}
      },
      "source": [
        "model = Sequential()\n",
        "#When you add multiple layers then set the return sequences as true\n",
        "# in the input shape the 1st dim is taken by LSTM as default \n",
        "model.add(LSTM(units = 50, return_sequences = True, input_shape = (X_train.shape[1], 1)))\n",
        "#model.add(Dropout(0.3))\n",
        "\n",
        "# Adding a second LSTM layer and some Dropout regularisation\n",
        "model.add(LSTM(units = 50, return_sequences = True))\n",
        "#model.add(Dropout(0.3))\n",
        "\n",
        "\n",
        "# Adding a third LSTM layer and some Dropout regularisation\n",
        "model.add(LSTM(units = 50, return_sequences = True))\n",
        "#model.add(Dropout(0.3))\n",
        "\n",
        "# Last input layer return sequence not needed\n",
        "# Adding a fourth LSTM layer and some Dropout regularisation\n",
        "model.add(LSTM(units = 50))\n",
        "#model.add(Dropout(0.3))\n",
        "\n",
        "# Adding the output layer\n",
        "model.add(Dense(units = 1))"
      ],
      "execution_count": 0,
      "outputs": []
    },
    {
      "cell_type": "code",
      "metadata": {
        "id": "usMU8YuuPaG0",
        "colab_type": "code",
        "outputId": "ddab1469-fc6d-4d11-9403-a97e2614402e",
        "colab": {
          "base_uri": "https://localhost:8080/",
          "height": 3434
        }
      },
      "source": [
        "# Compiling the RNN\n",
        "model.compile(optimizer = 'adam', loss = 'mean_squared_error')\n",
        "\n",
        "# Fitting the RNN to the Training set\n",
        "model.fit(X_train, y_train, epochs = 100, batch_size = 32)"
      ],
      "execution_count": 0,
      "outputs": [
        {
          "output_type": "stream",
          "text": [
            "Epoch 1/100\n",
            "2572/2572 [==============================] - 42s 16ms/step - loss: 0.0140\n",
            "Epoch 2/100\n",
            "2572/2572 [==============================] - 39s 15ms/step - loss: 8.9650e-04\n",
            "Epoch 3/100\n",
            "2572/2572 [==============================] - 39s 15ms/step - loss: 8.5581e-04\n",
            "Epoch 4/100\n",
            "2572/2572 [==============================] - 39s 15ms/step - loss: 8.1155e-04\n",
            "Epoch 5/100\n",
            "2572/2572 [==============================] - 39s 15ms/step - loss: 7.3701e-04\n",
            "Epoch 6/100\n",
            "2572/2572 [==============================] - 39s 15ms/step - loss: 6.5762e-04\n",
            "Epoch 7/100\n",
            "2572/2572 [==============================] - 39s 15ms/step - loss: 5.5584e-04\n",
            "Epoch 8/100\n",
            "2572/2572 [==============================] - 39s 15ms/step - loss: 6.3455e-04\n",
            "Epoch 9/100\n",
            "2572/2572 [==============================] - 39s 15ms/step - loss: 4.9641e-04\n",
            "Epoch 10/100\n",
            "2572/2572 [==============================] - 39s 15ms/step - loss: 5.5485e-04\n",
            "Epoch 11/100\n",
            "2572/2572 [==============================] - 39s 15ms/step - loss: 6.0153e-04\n",
            "Epoch 12/100\n",
            "2572/2572 [==============================] - 39s 15ms/step - loss: 4.6033e-04\n",
            "Epoch 13/100\n",
            "2572/2572 [==============================] - 39s 15ms/step - loss: 4.5397e-04\n",
            "Epoch 14/100\n",
            "2572/2572 [==============================] - 39s 15ms/step - loss: 3.7772e-04\n",
            "Epoch 15/100\n",
            "2572/2572 [==============================] - 40s 15ms/step - loss: 3.9913e-04\n",
            "Epoch 16/100\n",
            "2572/2572 [==============================] - 39s 15ms/step - loss: 3.6565e-04\n",
            "Epoch 17/100\n",
            "2572/2572 [==============================] - 39s 15ms/step - loss: 3.3945e-04\n",
            "Epoch 18/100\n",
            "2572/2572 [==============================] - 39s 15ms/step - loss: 3.0042e-04\n",
            "Epoch 19/100\n",
            "2572/2572 [==============================] - 39s 15ms/step - loss: 4.7472e-04\n",
            "Epoch 20/100\n",
            "2572/2572 [==============================] - 39s 15ms/step - loss: 2.5639e-04\n",
            "Epoch 21/100\n",
            "2572/2572 [==============================] - 39s 15ms/step - loss: 2.5275e-04\n",
            "Epoch 22/100\n",
            "2572/2572 [==============================] - 39s 15ms/step - loss: 2.8406e-04\n",
            "Epoch 23/100\n",
            "2572/2572 [==============================] - 39s 15ms/step - loss: 2.3994e-04\n",
            "Epoch 24/100\n",
            "2572/2572 [==============================] - 39s 15ms/step - loss: 2.3990e-04\n",
            "Epoch 25/100\n",
            "2572/2572 [==============================] - 39s 15ms/step - loss: 2.0705e-04\n",
            "Epoch 26/100\n",
            "2572/2572 [==============================] - 39s 15ms/step - loss: 2.8616e-04\n",
            "Epoch 27/100\n",
            "2572/2572 [==============================] - 39s 15ms/step - loss: 2.1248e-04\n",
            "Epoch 28/100\n",
            "2572/2572 [==============================] - 39s 15ms/step - loss: 2.7608e-04\n",
            "Epoch 29/100\n",
            "2572/2572 [==============================] - 39s 15ms/step - loss: 2.0002e-04\n",
            "Epoch 30/100\n",
            "2572/2572 [==============================] - 39s 15ms/step - loss: 1.8758e-04\n",
            "Epoch 31/100\n",
            "2572/2572 [==============================] - 39s 15ms/step - loss: 2.0426e-04\n",
            "Epoch 32/100\n",
            "2572/2572 [==============================] - 39s 15ms/step - loss: 1.7097e-04\n",
            "Epoch 33/100\n",
            "2572/2572 [==============================] - 39s 15ms/step - loss: 1.6958e-04\n",
            "Epoch 34/100\n",
            "2572/2572 [==============================] - 39s 15ms/step - loss: 1.5128e-04\n",
            "Epoch 35/100\n",
            "2572/2572 [==============================] - 39s 15ms/step - loss: 1.8241e-04\n",
            "Epoch 36/100\n",
            "2572/2572 [==============================] - 39s 15ms/step - loss: 1.3645e-04\n",
            "Epoch 37/100\n",
            "2572/2572 [==============================] - 39s 15ms/step - loss: 1.3280e-04\n",
            "Epoch 38/100\n",
            "2572/2572 [==============================] - 39s 15ms/step - loss: 2.7935e-04\n",
            "Epoch 39/100\n",
            "2572/2572 [==============================] - 39s 15ms/step - loss: 1.5284e-04\n",
            "Epoch 40/100\n",
            "2572/2572 [==============================] - 39s 15ms/step - loss: 1.3023e-04\n",
            "Epoch 41/100\n",
            "2572/2572 [==============================] - 39s 15ms/step - loss: 1.1658e-04\n",
            "Epoch 42/100\n",
            "2572/2572 [==============================] - 39s 15ms/step - loss: 1.1795e-04\n",
            "Epoch 43/100\n",
            "2572/2572 [==============================] - 39s 15ms/step - loss: 1.1981e-04\n",
            "Epoch 44/100\n",
            "2572/2572 [==============================] - 39s 15ms/step - loss: 1.1339e-04\n",
            "Epoch 45/100\n",
            "2572/2572 [==============================] - 39s 15ms/step - loss: 1.1395e-04\n",
            "Epoch 46/100\n",
            "2572/2572 [==============================] - 39s 15ms/step - loss: 1.1024e-04\n",
            "Epoch 47/100\n",
            "2572/2572 [==============================] - 39s 15ms/step - loss: 1.4644e-04\n",
            "Epoch 48/100\n",
            "2572/2572 [==============================] - 39s 15ms/step - loss: 1.2778e-04\n",
            "Epoch 49/100\n",
            "2572/2572 [==============================] - 39s 15ms/step - loss: 1.1683e-04\n",
            "Epoch 50/100\n",
            "2572/2572 [==============================] - 39s 15ms/step - loss: 1.1205e-04\n",
            "Epoch 51/100\n",
            "2572/2572 [==============================] - 39s 15ms/step - loss: 1.3257e-04\n",
            "Epoch 52/100\n",
            "2572/2572 [==============================] - 39s 15ms/step - loss: 1.1273e-04\n",
            "Epoch 53/100\n",
            "2572/2572 [==============================] - 39s 15ms/step - loss: 1.2161e-04\n",
            "Epoch 54/100\n",
            "2572/2572 [==============================] - 39s 15ms/step - loss: 1.3801e-04\n",
            "Epoch 55/100\n",
            "2572/2572 [==============================] - 39s 15ms/step - loss: 1.4920e-04\n",
            "Epoch 56/100\n",
            "2572/2572 [==============================] - 39s 15ms/step - loss: 1.0080e-04\n",
            "Epoch 57/100\n",
            "2572/2572 [==============================] - 38s 15ms/step - loss: 1.0707e-04\n",
            "Epoch 58/100\n",
            "2572/2572 [==============================] - 39s 15ms/step - loss: 1.0159e-04\n",
            "Epoch 59/100\n",
            "2572/2572 [==============================] - 39s 15ms/step - loss: 1.0138e-04\n",
            "Epoch 60/100\n",
            "2572/2572 [==============================] - 39s 15ms/step - loss: 1.1031e-04\n",
            "Epoch 61/100\n",
            "2572/2572 [==============================] - 39s 15ms/step - loss: 1.3430e-04\n",
            "Epoch 62/100\n",
            "2572/2572 [==============================] - 39s 15ms/step - loss: 1.3606e-04\n",
            "Epoch 63/100\n",
            "2572/2572 [==============================] - 39s 15ms/step - loss: 9.6502e-05\n",
            "Epoch 64/100\n",
            "2572/2572 [==============================] - 39s 15ms/step - loss: 1.0252e-04\n",
            "Epoch 65/100\n",
            "2572/2572 [==============================] - 39s 15ms/step - loss: 1.3920e-04\n",
            "Epoch 66/100\n",
            "2572/2572 [==============================] - 39s 15ms/step - loss: 9.3541e-05\n",
            "Epoch 67/100\n",
            "2572/2572 [==============================] - 39s 15ms/step - loss: 1.1639e-04\n",
            "Epoch 68/100\n",
            "2572/2572 [==============================] - 39s 15ms/step - loss: 8.7865e-05\n",
            "Epoch 69/100\n",
            "2572/2572 [==============================] - 39s 15ms/step - loss: 1.0903e-04\n",
            "Epoch 70/100\n",
            "2572/2572 [==============================] - 39s 15ms/step - loss: 9.8655e-05\n",
            "Epoch 71/100\n",
            "2572/2572 [==============================] - 39s 15ms/step - loss: 1.1771e-04\n",
            "Epoch 72/100\n",
            "2572/2572 [==============================] - 39s 15ms/step - loss: 9.9729e-05\n",
            "Epoch 73/100\n",
            "2572/2572 [==============================] - 39s 15ms/step - loss: 9.1921e-05\n",
            "Epoch 74/100\n",
            "2572/2572 [==============================] - 39s 15ms/step - loss: 1.2545e-04\n",
            "Epoch 75/100\n",
            "2572/2572 [==============================] - 39s 15ms/step - loss: 1.2216e-04\n",
            "Epoch 76/100\n",
            "2572/2572 [==============================] - 39s 15ms/step - loss: 1.0077e-04\n",
            "Epoch 77/100\n",
            "2572/2572 [==============================] - 39s 15ms/step - loss: 9.7636e-05\n",
            "Epoch 78/100\n",
            "2572/2572 [==============================] - 39s 15ms/step - loss: 1.1995e-04\n",
            "Epoch 79/100\n",
            "2572/2572 [==============================] - 39s 15ms/step - loss: 9.1495e-05\n",
            "Epoch 80/100\n",
            "2572/2572 [==============================] - 39s 15ms/step - loss: 9.1246e-05\n",
            "Epoch 81/100\n",
            "2572/2572 [==============================] - 39s 15ms/step - loss: 1.0766e-04\n",
            "Epoch 82/100\n",
            "2572/2572 [==============================] - 39s 15ms/step - loss: 9.5276e-05\n",
            "Epoch 83/100\n",
            "2572/2572 [==============================] - 39s 15ms/step - loss: 9.2210e-05\n",
            "Epoch 84/100\n",
            "2572/2572 [==============================] - 39s 15ms/step - loss: 1.6311e-04\n",
            "Epoch 85/100\n",
            "2572/2572 [==============================] - 39s 15ms/step - loss: 1.2200e-04\n",
            "Epoch 86/100\n",
            "2572/2572 [==============================] - 39s 15ms/step - loss: 9.5327e-05\n",
            "Epoch 87/100\n",
            "2572/2572 [==============================] - 39s 15ms/step - loss: 9.4994e-05\n",
            "Epoch 88/100\n",
            "2572/2572 [==============================] - 39s 15ms/step - loss: 1.0310e-04\n",
            "Epoch 89/100\n",
            "2572/2572 [==============================] - 39s 15ms/step - loss: 8.6497e-05\n",
            "Epoch 90/100\n",
            "2572/2572 [==============================] - 38s 15ms/step - loss: 9.1946e-05\n",
            "Epoch 91/100\n",
            "2572/2572 [==============================] - 39s 15ms/step - loss: 9.4808e-05\n",
            "Epoch 92/100\n",
            "2572/2572 [==============================] - 39s 15ms/step - loss: 9.5669e-05\n",
            "Epoch 93/100\n",
            "2572/2572 [==============================] - 38s 15ms/step - loss: 9.9365e-05\n",
            "Epoch 94/100\n",
            "2572/2572 [==============================] - 38s 15ms/step - loss: 1.0083e-04\n",
            "Epoch 95/100\n",
            "2572/2572 [==============================] - 38s 15ms/step - loss: 1.0194e-04\n",
            "Epoch 96/100\n",
            "2572/2572 [==============================] - 38s 15ms/step - loss: 9.7088e-05\n",
            "Epoch 97/100\n",
            "2572/2572 [==============================] - 38s 15ms/step - loss: 8.8112e-05\n",
            "Epoch 98/100\n",
            "2572/2572 [==============================] - 38s 15ms/step - loss: 1.3230e-04\n",
            "Epoch 99/100\n",
            "2572/2572 [==============================] - 38s 15ms/step - loss: 9.8503e-05\n",
            "Epoch 100/100\n",
            "2572/2572 [==============================] - 38s 15ms/step - loss: 8.7972e-05\n"
          ],
          "name": "stdout"
        },
        {
          "output_type": "execute_result",
          "data": {
            "text/plain": [
              "<keras.callbacks.History at 0x7fab39189940>"
            ]
          },
          "metadata": {
            "tags": []
          },
          "execution_count": 26
        }
      ]
    },
    {
      "cell_type": "code",
      "metadata": {
        "id": "4ekBaslNPfaV",
        "colab_type": "code",
        "colab": {}
      },
      "source": [
        "dataset_testing = pd.read_excel(\"My Drive/MyLearning/MLDLAIPython/Data/TextData/APPL_Stock_Test_2019_Apr_Jun.xlsx\", 0)\n",
        "actual_stock_price = dataset_testing.iloc[:, 1:2].values\n",
        "#actual_stock_price.head(10)"
      ],
      "execution_count": 0,
      "outputs": []
    },
    {
      "cell_type": "code",
      "metadata": {
        "id": "mg_ew0wjYvpe",
        "colab_type": "code",
        "outputId": "53820825-5ce6-4cb3-9061-3f41ea2c0a32",
        "colab": {
          "base_uri": "https://localhost:8080/",
          "height": 51
        }
      },
      "source": [
        "total_data = pd.concat((dataset_training['open'], dataset_testing['open']), axis = 0)\n",
        "inputs = total_data[len(total_data) - len(dataset_testing) - 60:].values\n",
        "\n",
        "print ('len(total_data)---->', len(total_data))\n",
        "print ('len(dataset_testing)---->', len(dataset_testing))\n",
        "\n",
        "inputs = inputs.reshape(-1,1)\n",
        "inputs = sc.transform(inputs)\n",
        "X_test = []\n",
        "for i in range(60, 151):\n",
        "    X_test.append(inputs[i-60:i, 0])\n",
        "X_test = np.array(X_test)\n",
        "X_test = np.reshape(X_test, (X_test.shape[0], X_test.shape[1], 1))\n",
        "predicted_stock_price = model.predict(X_test)\n",
        "#Inverse scale is used to unscale the data\n",
        "predicted_stock_price = sc.inverse_transform(predicted_stock_price)"
      ],
      "execution_count": 0,
      "outputs": [
        {
          "output_type": "stream",
          "text": [
            "len(total_data)----> 2722\n",
            "len(dataset_testing)----> 90\n"
          ],
          "name": "stdout"
        }
      ]
    },
    {
      "cell_type": "code",
      "metadata": {
        "id": "pUHOmso4Y_HU",
        "colab_type": "code",
        "outputId": "0089f853-891f-4c0c-fc46-88ed365769d2",
        "colab": {
          "base_uri": "https://localhost:8080/",
          "height": 295
        }
      },
      "source": [
        "# Visualising the results\n",
        "plt.plot(actual_stock_price, color = 'green', label = 'Real Apple Stock Price',ls='--')\n",
        "plt.plot(predicted_stock_price, color = 'red', label = 'Predicted Apple Stock Price',ls='-')\n",
        "plt.title('Predicted Stock Price')\n",
        "plt.xlabel('Time in days')\n",
        "plt.ylabel('Real Stock Price')\n",
        "plt.legend()\n",
        "plt.show()"
      ],
      "execution_count": 0,
      "outputs": [
        {
          "output_type": "display_data",
          "data": {
            "image/png": "[encoded data removed]",
            "text/plain": [
              "<Figure size 432x288 with 1 Axes>"
            ]
          },
          "metadata": {
            "tags": []
          }
        }
      ]
    },
    {
      "cell_type": "code",
      "metadata": {
        "id": "xcrP1LcKb1nA",
        "colab_type": "code",
        "colab": {}
      },
      "source": [
        ""
      ],
      "execution_count": 0,
      "outputs": []
    }
  ]
}