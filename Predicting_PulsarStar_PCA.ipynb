{
  "nbformat": 4,
  "nbformat_minor": 0,
  "metadata": {
    "colab": {
      "name": "Predicting_PulsarStar_PCA.ipynb",
      "provenance": [],
      "collapsed_sections": [],
      "include_colab_link": true
    },
    "kernelspec": {
      "name": "python3",
      "display_name": "Python 3"
    },
    "accelerator": "GPU"
  },
  "cells": [
    {
      "cell_type": "markdown",
      "metadata": {
        "id": "view-in-github",
        "colab_type": "text"
      },
      "source": [
        "<a href=\"https://colab.research.google.com/github/VishnuPy/MyPython/blob/master/Predicting_PulsarStar_PCA.ipynb\" target=\"_parent\"><img src=\"https://colab.research.google.com/assets/colab-badge.svg\" alt=\"Open In Colab\"/></a>"
      ]
    },
    {
      "cell_type": "code",
      "metadata": {
        "id": "LxuUv4F_uDW2",
        "colab_type": "code",
        "outputId": "e17c1b16-7f67-45ad-ee2b-6cf2b3a5515c",
        "colab": {
          "base_uri": "https://localhost:8080/",
          "height": 85
        }
      },
      "source": [
        "import tensorflow as tf\n",
        "device_name = tf.test.gpu_device_name()\n",
        "if device_name != '/device:GPU:0':\n",
        "  raise SystemError('GPU device not found')\n",
        "print('Found GPU at: {}'.format(device_name))\n",
        "\n",
        "from google.colab import drive\n",
        "drive.mount('/gdrive')\n",
        "%cd /gdrive\n",
        "%ls"
      ],
      "execution_count": 0,
      "outputs": [
        {
          "output_type": "stream",
          "text": [
            "Found GPU at: /device:GPU:0\n",
            "Drive already mounted at /gdrive; to attempt to forcibly remount, call drive.mount(\"/gdrive\", force_remount=True).\n",
            "/gdrive\n",
            "\u001b[0m\u001b[01;34m'My Drive'\u001b[0m/\n"
          ],
          "name": "stdout"
        }
      ]
    },
    {
      "cell_type": "code",
      "metadata": {
        "id": "pzpAN99suQFz",
        "colab_type": "code",
        "outputId": "689290a6-8f18-49e4-93a1-b5b83697318a",
        "colab": {
          "base_uri": "https://localhost:8080/",
          "height": 207
        }
      },
      "source": [
        "import tensorflow as tf\n",
        "import timeit\n",
        "\n",
        "# See https://www.tensorflow.org/tutorials/using_gpu#allowing_gpu_memory_growth\n",
        "config = tf.ConfigProto()\n",
        "config.gpu_options.allow_growth = True\n",
        "\n",
        "with tf.device('/cpu:0'):\n",
        "  random_image_cpu = tf.random_normal((100, 100, 100, 3))\n",
        "  net_cpu = tf.layers.conv2d(random_image_cpu, 32, 7)\n",
        "  net_cpu = tf.reduce_sum(net_cpu)\n",
        "\n",
        "with tf.device('/gpu:0'):\n",
        "  random_image_gpu = tf.random_normal((100, 100, 100, 3))\n",
        "  net_gpu = tf.layers.conv2d(random_image_gpu, 32, 7)\n",
        "  net_gpu = tf.reduce_sum(net_gpu)\n",
        "\n",
        "sess = tf.Session(config=config)\n",
        "\n",
        "# Test execution once to detect errors early.\n",
        "try:\n",
        "  sess.run(tf.global_variables_initializer())\n",
        "except tf.errors.InvalidArgumentError:\n",
        "  print(\n",
        "      '\\n\\nThis error most likely means that this notebook is not '\n",
        "      'configured to use a GPU.  Change this in Notebook Settings via the '\n",
        "      'command palette (cmd/ctrl-shift-P) or the Edit menu.\\n\\n')\n",
        "  raise\n",
        "\n",
        "def cpu():\n",
        "  sess.run(net_cpu)\n",
        "  \n",
        "def gpu():\n",
        "  sess.run(net_gpu)\n",
        "  \n",
        "# Runs the op several times.\n",
        "print('Time (s) to convolve 32x7x7x3 filter over random 100x100x100x3 images '\n",
        "      '(batch x height x width x channel). Sum of ten runs.')\n",
        "print('CPU (s):')\n",
        "cpu_time = timeit.timeit('cpu()', number=10, setup=\"from __main__ import cpu\")\n",
        "print(cpu_time)\n",
        "print('GPU (s):')\n",
        "gpu_time = timeit.timeit('gpu()', number=10, setup=\"from __main__ import gpu\")\n",
        "print(gpu_time)\n",
        "print('GPU speedup over CPU: {}x'.format(int(cpu_time/gpu_time)))"
      ],
      "execution_count": 0,
      "outputs": [
        {
          "output_type": "stream",
          "text": [
            "WARNING:tensorflow:Entity <bound method Conv.call of <tensorflow.python.layers.convolutional.Conv2D object at 0x7fbc058330f0>> could not be transformed and will be executed as-is. Please report this to the AutgoGraph team. When filing the bug, set the verbosity to 10 (on Linux, `export AUTOGRAPH_VERBOSITY=10`) and attach the full output. Cause: converting <bound method Conv.call of <tensorflow.python.layers.convolutional.Conv2D object at 0x7fbc058330f0>>: AssertionError: Bad argument number for Name: 3, expecting 4\n",
            "WARNING: Entity <bound method Conv.call of <tensorflow.python.layers.convolutional.Conv2D object at 0x7fbc058330f0>> could not be transformed and will be executed as-is. Please report this to the AutgoGraph team. When filing the bug, set the verbosity to 10 (on Linux, `export AUTOGRAPH_VERBOSITY=10`) and attach the full output. Cause: converting <bound method Conv.call of <tensorflow.python.layers.convolutional.Conv2D object at 0x7fbc058330f0>>: AssertionError: Bad argument number for Name: 3, expecting 4\n",
            "WARNING:tensorflow:Entity <bound method Conv.call of <tensorflow.python.layers.convolutional.Conv2D object at 0x7fbbf8493d68>> could not be transformed and will be executed as-is. Please report this to the AutgoGraph team. When filing the bug, set the verbosity to 10 (on Linux, `export AUTOGRAPH_VERBOSITY=10`) and attach the full output. Cause: converting <bound method Conv.call of <tensorflow.python.layers.convolutional.Conv2D object at 0x7fbbf8493d68>>: AssertionError: Bad argument number for Name: 3, expecting 4\n",
            "WARNING: Entity <bound method Conv.call of <tensorflow.python.layers.convolutional.Conv2D object at 0x7fbbf8493d68>> could not be transformed and will be executed as-is. Please report this to the AutgoGraph team. When filing the bug, set the verbosity to 10 (on Linux, `export AUTOGRAPH_VERBOSITY=10`) and attach the full output. Cause: converting <bound method Conv.call of <tensorflow.python.layers.convolutional.Conv2D object at 0x7fbbf8493d68>>: AssertionError: Bad argument number for Name: 3, expecting 4\n",
            "Time (s) to convolve 32x7x7x3 filter over random 100x100x100x3 images (batch x height x width x channel). Sum of ten runs.\n",
            "CPU (s):\n",
            "3.6425713790013106\n",
            "GPU (s):\n",
            "0.1902426819997345\n",
            "GPU speedup over CPU: 19x\n"
          ],
          "name": "stdout"
        }
      ]
    },
    {
      "cell_type": "code",
      "metadata": {
        "id": "rmrS2KI-ucKs",
        "colab_type": "code",
        "outputId": "8e62fc06-7f00-4e4f-f5d5-152f8a9363c5",
        "colab": {
          "base_uri": "https://localhost:8080/",
          "height": 238
        }
      },
      "source": [
        "import pandas as pd\n",
        "import numpy as np\n",
        "import matplotlib.pyplot as plt\n",
        "\n",
        "from sklearn.metrics import classification_report\n",
        "from sklearn.metrics import confusion_matrix\n",
        "\n",
        "df = pd.read_csv('My Drive/MyLearning/MLDLAIPython/Data/TextData/pulsar_stars.csv')\n",
        "df.head()"
      ],
      "execution_count": 0,
      "outputs": [
        {
          "output_type": "execute_result",
          "data": {
            "text/html": [
              "<div>\n",
              "<style scoped>\n",
              "    .dataframe tbody tr th:only-of-type {\n",
              "        vertical-align: middle;\n",
              "    }\n",
              "\n",
              "    .dataframe tbody tr th {\n",
              "        vertical-align: top;\n",
              "    }\n",
              "\n",
              "    .dataframe thead th {\n",
              "        text-align: right;\n",
              "    }\n",
              "</style>\n",
              "<table border=\"1\" class=\"dataframe\">\n",
              "  <thead>\n",
              "    <tr style=\"text-align: right;\">\n",
              "      <th></th>\n",
              "      <th>Mean of the integrated profile</th>\n",
              "      <th>Standard deviation of the integrated profile</th>\n",
              "      <th>Excess kurtosis of the integrated profile</th>\n",
              "      <th>Skewness of the integrated profile</th>\n",
              "      <th>Mean of the DM-SNR curve</th>\n",
              "      <th>Standard deviation of the DM-SNR curve</th>\n",
              "      <th>Excess kurtosis of the DM-SNR curve</th>\n",
              "      <th>Skewness of the DM-SNR curve</th>\n",
              "      <th>target_class</th>\n",
              "    </tr>\n",
              "  </thead>\n",
              "  <tbody>\n",
              "    <tr>\n",
              "      <th>0</th>\n",
              "      <td>140.562500</td>\n",
              "      <td>55.683782</td>\n",
              "      <td>-0.234571</td>\n",
              "      <td>-0.699648</td>\n",
              "      <td>3.199833</td>\n",
              "      <td>19.110426</td>\n",
              "      <td>7.975532</td>\n",
              "      <td>74.242225</td>\n",
              "      <td>0</td>\n",
              "    </tr>\n",
              "    <tr>\n",
              "      <th>1</th>\n",
              "      <td>102.507812</td>\n",
              "      <td>58.882430</td>\n",
              "      <td>0.465318</td>\n",
              "      <td>-0.515088</td>\n",
              "      <td>1.677258</td>\n",
              "      <td>14.860146</td>\n",
              "      <td>10.576487</td>\n",
              "      <td>127.393580</td>\n",
              "      <td>0</td>\n",
              "    </tr>\n",
              "    <tr>\n",
              "      <th>2</th>\n",
              "      <td>103.015625</td>\n",
              "      <td>39.341649</td>\n",
              "      <td>0.323328</td>\n",
              "      <td>1.051164</td>\n",
              "      <td>3.121237</td>\n",
              "      <td>21.744669</td>\n",
              "      <td>7.735822</td>\n",
              "      <td>63.171909</td>\n",
              "      <td>0</td>\n",
              "    </tr>\n",
              "    <tr>\n",
              "      <th>3</th>\n",
              "      <td>136.750000</td>\n",
              "      <td>57.178449</td>\n",
              "      <td>-0.068415</td>\n",
              "      <td>-0.636238</td>\n",
              "      <td>3.642977</td>\n",
              "      <td>20.959280</td>\n",
              "      <td>6.896499</td>\n",
              "      <td>53.593661</td>\n",
              "      <td>0</td>\n",
              "    </tr>\n",
              "    <tr>\n",
              "      <th>4</th>\n",
              "      <td>88.726562</td>\n",
              "      <td>40.672225</td>\n",
              "      <td>0.600866</td>\n",
              "      <td>1.123492</td>\n",
              "      <td>1.178930</td>\n",
              "      <td>11.468720</td>\n",
              "      <td>14.269573</td>\n",
              "      <td>252.567306</td>\n",
              "      <td>0</td>\n",
              "    </tr>\n",
              "  </tbody>\n",
              "</table>\n",
              "</div>"
            ],
            "text/plain": [
              "    Mean of the integrated profile  ...  target_class\n",
              "0                       140.562500  ...             0\n",
              "1                       102.507812  ...             0\n",
              "2                       103.015625  ...             0\n",
              "3                       136.750000  ...             0\n",
              "4                        88.726562  ...             0\n",
              "\n",
              "[5 rows x 9 columns]"
            ]
          },
          "metadata": {
            "tags": []
          },
          "execution_count": 61
        }
      ]
    },
    {
      "cell_type": "markdown",
      "metadata": {
        "id": "vtT49XeWwlHV",
        "colab_type": "text"
      },
      "source": [
        "<font color=red size=6>\n",
        "Above Read from CSV returns DataFrame <br>\n",
        "Below genfromtxt returns array"
      ]
    },
    {
      "cell_type": "code",
      "metadata": {
        "id": "kdD6rAT-wXLI",
        "colab_type": "code",
        "colab": {}
      },
      "source": [
        "#filepath = 'My Drive/MyLearning/MLDLAIPython/Data/TextData/pulsar_stars.csv' #your path here\n",
        "#df = np.genfromtxt(filepath, delimiter=',', dtype='float64')"
      ],
      "execution_count": 0,
      "outputs": []
    },
    {
      "cell_type": "code",
      "metadata": {
        "id": "H8_8jtRDu3MQ",
        "colab_type": "code",
        "outputId": "b5ccd26a-db09-4214-fafe-9d779a07a789",
        "colab": {
          "base_uri": "https://localhost:8080/",
          "height": 34
        }
      },
      "source": [
        "df.shape"
      ],
      "execution_count": 0,
      "outputs": [
        {
          "output_type": "execute_result",
          "data": {
            "text/plain": [
              "(17898, 9)"
            ]
          },
          "metadata": {
            "tags": []
          },
          "execution_count": 63
        }
      ]
    },
    {
      "cell_type": "markdown",
      "metadata": {
        "id": "RyAgyryrv1xT",
        "colab_type": "text"
      },
      "source": [
        "<font color=brown size=5>\n",
        "PCA starts"
      ]
    },
    {
      "cell_type": "code",
      "metadata": {
        "id": "2mhFChuLvfcs",
        "colab_type": "code",
        "colab": {}
      },
      "source": [
        "from sklearn.decomposition import PCA\n",
        "from sklearn.preprocessing import MinMaxScaler"
      ],
      "execution_count": 0,
      "outputs": []
    },
    {
      "cell_type": "code",
      "metadata": {
        "id": "Q7SfW04Zw3jX",
        "colab_type": "code",
        "colab": {}
      },
      "source": [
        "scaler = MinMaxScaler(feature_range=[0,1])\n",
        "\n",
        "df_scaled = scaler.fit_transform(df.iloc[1:, 0:8])"
      ],
      "execution_count": 0,
      "outputs": []
    },
    {
      "cell_type": "code",
      "metadata": {
        "id": "_YOJoZ5gxYOh",
        "colab_type": "code",
        "outputId": "9bf3eebb-7815-41d3-e8a8-b31f09b87268",
        "colab": {
          "base_uri": "https://localhost:8080/",
          "height": 295
        }
      },
      "source": [
        "#Fitting the PCA algorithm with our Data\n",
        "\n",
        "pca = PCA().fit(df_scaled)\n",
        "\n",
        "#Plot the Cumulative Summation of the Explained Variance\n",
        "plt.figure()\n",
        "plt.plot(np.cumsum(pca.explained_variance_ratio_))\n",
        "plt.xlabel('Number of Components')\n",
        "plt.ylabel('Variance (%)') #for each component\n",
        "plt.title('Plusar Features Explained Variance')\n",
        "plt.show()"
      ],
      "execution_count": 0,
      "outputs": [
        {
          "output_type": "display_data",
          "data": {
            "image/png": "[encoded data removed]",
            "text/plain": [
              "<Figure size 432x288 with 1 Axes>"
            ]
          },
          "metadata": {
            "tags": []
          }
        }
      ]
    },
    {
      "cell_type": "markdown",
      "metadata": {
        "id": "FBBmxHMYy20b",
        "colab_type": "text"
      },
      "source": [
        "<font color=green size=4>\n",
        "After 5 the Variance has flattened meaning, features in components (unfortunately, we do not know what these features are) after 5 have negligible contribution. <br>\n",
        "By using 5 components, we have almost 98%-99% of the Variance Explained. The aim of PCA is to have the maximum explanation. So, instead of all components, we will have only the primary components that is 5\n"
      ]
    },
    {
      "cell_type": "code",
      "metadata": {
        "id": "axZhBtjRysJb",
        "colab_type": "code",
        "colab": {}
      },
      "source": [
        "pca = PCA(n_components=5)\n",
        "dataset = pca.fit_transform(df_scaled)"
      ],
      "execution_count": 0,
      "outputs": []
    },
    {
      "cell_type": "markdown",
      "metadata": {
        "id": "0Hew8ibS0e7a",
        "colab_type": "text"
      },
      "source": [
        "Now we will use Decision Tree with Tunning to predict the results, that is, if the given star is Pulsar or not."
      ]
    },
    {
      "cell_type": "code",
      "metadata": {
        "id": "NtOC3wRi0no-",
        "colab_type": "code",
        "outputId": "16a6c356-b86d-4c6c-d346-4c859c50ec16",
        "colab": {
          "base_uri": "https://localhost:8080/",
          "height": 34
        }
      },
      "source": [
        "\n",
        "# Prepare data for training models\n",
        "labels = np.array(df.iloc[1:,8:9])\n",
        "\"\"\"\n",
        "labels = df.iloc[1:, 8:9]\n",
        "labels.head(2)\n",
        "#df.head()\n",
        "\"\"\""
      ],
      "execution_count": 0,
      "outputs": [
        {
          "output_type": "execute_result",
          "data": {
            "text/plain": [
              "'\\nlabels = df.iloc[1:, 8:9]\\nlabels.head(2)\\n#df.head()\\n'"
            ]
          },
          "metadata": {
            "tags": []
          },
          "execution_count": 68
        }
      ]
    },
    {
      "cell_type": "code",
      "metadata": {
        "id": "iZwUNlgM5lr6",
        "colab_type": "code",
        "outputId": "e9229815-57f6-461b-d85f-0f8b90520e0b",
        "colab": {
          "base_uri": "https://localhost:8080/",
          "height": 238
        }
      },
      "source": [
        "df.head()"
      ],
      "execution_count": 0,
      "outputs": [
        {
          "output_type": "execute_result",
          "data": {
            "text/html": [
              "<div>\n",
              "<style scoped>\n",
              "    .dataframe tbody tr th:only-of-type {\n",
              "        vertical-align: middle;\n",
              "    }\n",
              "\n",
              "    .dataframe tbody tr th {\n",
              "        vertical-align: top;\n",
              "    }\n",
              "\n",
              "    .dataframe thead th {\n",
              "        text-align: right;\n",
              "    }\n",
              "</style>\n",
              "<table border=\"1\" class=\"dataframe\">\n",
              "  <thead>\n",
              "    <tr style=\"text-align: right;\">\n",
              "      <th></th>\n",
              "      <th>Mean of the integrated profile</th>\n",
              "      <th>Standard deviation of the integrated profile</th>\n",
              "      <th>Excess kurtosis of the integrated profile</th>\n",
              "      <th>Skewness of the integrated profile</th>\n",
              "      <th>Mean of the DM-SNR curve</th>\n",
              "      <th>Standard deviation of the DM-SNR curve</th>\n",
              "      <th>Excess kurtosis of the DM-SNR curve</th>\n",
              "      <th>Skewness of the DM-SNR curve</th>\n",
              "      <th>target_class</th>\n",
              "    </tr>\n",
              "  </thead>\n",
              "  <tbody>\n",
              "    <tr>\n",
              "      <th>0</th>\n",
              "      <td>140.562500</td>\n",
              "      <td>55.683782</td>\n",
              "      <td>-0.234571</td>\n",
              "      <td>-0.699648</td>\n",
              "      <td>3.199833</td>\n",
              "      <td>19.110426</td>\n",
              "      <td>7.975532</td>\n",
              "      <td>74.242225</td>\n",
              "      <td>0</td>\n",
              "    </tr>\n",
              "    <tr>\n",
              "      <th>1</th>\n",
              "      <td>102.507812</td>\n",
              "      <td>58.882430</td>\n",
              "      <td>0.465318</td>\n",
              "      <td>-0.515088</td>\n",
              "      <td>1.677258</td>\n",
              "      <td>14.860146</td>\n",
              "      <td>10.576487</td>\n",
              "      <td>127.393580</td>\n",
              "      <td>0</td>\n",
              "    </tr>\n",
              "    <tr>\n",
              "      <th>2</th>\n",
              "      <td>103.015625</td>\n",
              "      <td>39.341649</td>\n",
              "      <td>0.323328</td>\n",
              "      <td>1.051164</td>\n",
              "      <td>3.121237</td>\n",
              "      <td>21.744669</td>\n",
              "      <td>7.735822</td>\n",
              "      <td>63.171909</td>\n",
              "      <td>0</td>\n",
              "    </tr>\n",
              "    <tr>\n",
              "      <th>3</th>\n",
              "      <td>136.750000</td>\n",
              "      <td>57.178449</td>\n",
              "      <td>-0.068415</td>\n",
              "      <td>-0.636238</td>\n",
              "      <td>3.642977</td>\n",
              "      <td>20.959280</td>\n",
              "      <td>6.896499</td>\n",
              "      <td>53.593661</td>\n",
              "      <td>0</td>\n",
              "    </tr>\n",
              "    <tr>\n",
              "      <th>4</th>\n",
              "      <td>88.726562</td>\n",
              "      <td>40.672225</td>\n",
              "      <td>0.600866</td>\n",
              "      <td>1.123492</td>\n",
              "      <td>1.178930</td>\n",
              "      <td>11.468720</td>\n",
              "      <td>14.269573</td>\n",
              "      <td>252.567306</td>\n",
              "      <td>0</td>\n",
              "    </tr>\n",
              "  </tbody>\n",
              "</table>\n",
              "</div>"
            ],
            "text/plain": [
              "    Mean of the integrated profile  ...  target_class\n",
              "0                       140.562500  ...             0\n",
              "1                       102.507812  ...             0\n",
              "2                       103.015625  ...             0\n",
              "3                       136.750000  ...             0\n",
              "4                        88.726562  ...             0\n",
              "\n",
              "[5 rows x 9 columns]"
            ]
          },
          "metadata": {
            "tags": []
          },
          "execution_count": 69
        }
      ]
    },
    {
      "cell_type": "code",
      "metadata": {
        "id": "jVs2mvF4z5K-",
        "colab_type": "code",
        "colab": {}
      },
      "source": [
        "from sklearn.model_selection import train_test_split\n",
        "X_train, X_test, y_train, y_test = train_test_split(dataset, labels, test_size=0.25, random_state=42)"
      ],
      "execution_count": 0,
      "outputs": []
    },
    {
      "cell_type": "code",
      "metadata": {
        "id": "FJ_HuQwF03Dc",
        "colab_type": "code",
        "outputId": "dff2dfde-4fac-4b09-8041-bab026157690",
        "colab": {
          "base_uri": "https://localhost:8080/",
          "height": 85
        }
      },
      "source": [
        "print ('X_train.shape -->', X_train.shape)\n",
        "print ('X_test.shape -->', X_test.shape)\n",
        "print ('y_train.shape -->', y_train.shape)\n",
        "print ('y_test.shape -->', y_test.shape)"
      ],
      "execution_count": 0,
      "outputs": [
        {
          "output_type": "stream",
          "text": [
            "X_train.shape --> (13422, 5)\n",
            "X_test.shape --> (4475, 5)\n",
            "y_train.shape --> (13422, 1)\n",
            "y_test.shape --> (4475, 1)\n"
          ],
          "name": "stdout"
        }
      ]
    },
    {
      "cell_type": "code",
      "metadata": {
        "id": "MOpNFmI-9DZi",
        "colab_type": "code",
        "colab": {}
      },
      "source": [
        "from sklearn.tree import DecisionTreeClassifier\n",
        "from sklearn.metrics import recall_score\n",
        "from sklearn.metrics import roc_curve, auc\n",
        "from sklearn.metrics import roc_auc_score\n",
        "from matplotlib.legend_handler import HandlerLine2D"
      ],
      "execution_count": 0,
      "outputs": []
    },
    {
      "cell_type": "code",
      "metadata": {
        "id": "GzkBOApsqN9Y",
        "colab_type": "code",
        "outputId": "233c5d8e-4bac-45cd-b7a8-2116dcac6d8e",
        "colab": {
          "base_uri": "https://localhost:8080/",
          "height": 119
        }
      },
      "source": [
        "dt = DecisionTreeClassifier()\n",
        "dt.fit(X_train, y_train)"
      ],
      "execution_count": 0,
      "outputs": [
        {
          "output_type": "execute_result",
          "data": {
            "text/plain": [
              "DecisionTreeClassifier(class_weight=None, criterion='gini', max_depth=None,\n",
              "                       max_features=None, max_leaf_nodes=None,\n",
              "                       min_impurity_decrease=0.0, min_impurity_split=None,\n",
              "                       min_samples_leaf=1, min_samples_split=2,\n",
              "                       min_weight_fraction_leaf=0.0, presort=False,\n",
              "                       random_state=None, splitter='best')"
            ]
          },
          "metadata": {
            "tags": []
          },
          "execution_count": 91
        }
      ]
    },
    {
      "cell_type": "code",
      "metadata": {
        "id": "fx2wv8Tg-VfQ",
        "colab_type": "code",
        "colab": {}
      },
      "source": [
        "y_pred = dt.predict(X_test)"
      ],
      "execution_count": 0,
      "outputs": []
    },
    {
      "cell_type": "code",
      "metadata": {
        "id": "RUANf9bU-XhD",
        "colab_type": "code",
        "outputId": "ab1afceb-43cc-41bc-c938-a493ab169208",
        "colab": {
          "base_uri": "https://localhost:8080/",
          "height": 34
        }
      },
      "source": [
        "dt.score(X_train, y_train)"
      ],
      "execution_count": 0,
      "outputs": [
        {
          "output_type": "execute_result",
          "data": {
            "text/plain": [
              "1.0"
            ]
          },
          "metadata": {
            "tags": []
          },
          "execution_count": 93
        }
      ]
    },
    {
      "cell_type": "code",
      "metadata": {
        "id": "ZQMrIjPy-ZCA",
        "colab_type": "code",
        "colab": {}
      },
      "source": [
        "\n",
        "false_positive_rate, true_positive_rate, thresholds = roc_curve(y_test, y_pred)\n",
        "roc_auc = auc(false_positive_rate, true_positive_rate)"
      ],
      "execution_count": 0,
      "outputs": []
    },
    {
      "cell_type": "code",
      "metadata": {
        "id": "vhqlAj5e-kRk",
        "colab_type": "code",
        "outputId": "3da0f260-f7f0-4698-a02f-2e651daaa5f3",
        "colab": {
          "base_uri": "https://localhost:8080/",
          "height": 34
        }
      },
      "source": [
        "roc_auc"
      ],
      "execution_count": 0,
      "outputs": [
        {
          "output_type": "execute_result",
          "data": {
            "text/plain": [
              "0.8958006940057839"
            ]
          },
          "metadata": {
            "tags": []
          },
          "execution_count": 95
        }
      ]
    },
    {
      "cell_type": "markdown",
      "metadata": {
        "id": "0zHB0SbX--gv",
        "colab_type": "text"
      },
      "source": [
        "<font color=brown size=6>\n",
        "max_depth <br>\n",
        "<font color=brown size=4>\n",
        "The first parameter to tune is max_depth. This indicates how deep the tree can be. The deeper the tree, the more splits it has and it captures more information about the data. We fit a decision tree with depths ranging from 1 to 32 and plot the training and test auc scores."
      ]
    },
    {
      "cell_type": "code",
      "metadata": {
        "id": "fd7w0zEzCJuE",
        "colab_type": "code",
        "outputId": "c0f03734-6961-4bd9-a7b9-363b1e3b929a",
        "colab": {
          "base_uri": "https://localhost:8080/",
          "height": 283
        }
      },
      "source": [
        "max_depths = np.linspace(1, 32, 32, endpoint=True)\n",
        "train_results = []\n",
        "test_results = []\n",
        "for max_depth in max_depths:\n",
        "   dt = DecisionTreeClassifier(max_depth=max_depth)\n",
        "   dt.fit(X_train, y_train)\n",
        "   train_pred = dt.predict(X_train)\n",
        "   false_positive_rate, true_positive_rate, thresholds = roc_curve(y_train, train_pred)\n",
        "   roc_auc = auc(false_positive_rate, true_positive_rate)\n",
        "   # Add auc score to previous train results\n",
        "   train_results.append(roc_auc)\n",
        "   y_pred = dt.predict(X_test)\n",
        "   false_positive_rate, true_positive_rate, thresholds = roc_curve(y_test, y_pred)\n",
        "   roc_auc = auc(false_positive_rate, true_positive_rate)\n",
        "   # Add auc score to previous test results\n",
        "   test_results.append(roc_auc)\n",
        "\n",
        "line1, = plt.plot(max_depths, train_results, 'b', label='Train AUC')\n",
        "line2, = plt.plot(max_depths, test_results, 'r', label='Test AUC')\n",
        "plt.legend(handler_map={line1: HandlerLine2D(numpoints=2)})\n",
        "plt.ylabel('AUC score')\n",
        "plt.xlabel('Tree depth')\n",
        "plt.show()"
      ],
      "execution_count": 0,
      "outputs": [
        {
          "output_type": "display_data",
          "data": {
            "image/png": "[encoded data removed]",
            "text/plain": [
              "<Figure size 432x288 with 1 Axes>"
            ]
          },
          "metadata": {
            "tags": []
          }
        }
      ]
    },
    {
      "cell_type": "markdown",
      "metadata": {
        "id": "YByHL2PYDQPa",
        "colab_type": "text"
      },
      "source": [
        "<font color=red size=4>\n",
        "We see that our model overfits for large depth values. The tree perfectly predicts all of the train data, however, it fails to generalize the findings for new data <br>\n",
        "<font color=brown size=6> \n",
        "min_samples_split <br><font color=brown size=4> \n",
        "min_samples_split represents the minimum number of samples required to split an internal node. This can vary between considering at least one sample at each node to considering all of the samples at each node. When we increase this parameter, the tree becomes more constrained as it has to consider more samples at each node. Here we will vary the parameter from 10% to 100% of the samples"
      ]
    },
    {
      "cell_type": "code",
      "metadata": {
        "id": "lWZzV_rCCLlV",
        "colab_type": "code",
        "outputId": "7ebb756e-842b-4f37-8493-fb43433c2ee1",
        "colab": {
          "base_uri": "https://localhost:8080/",
          "height": 283
        }
      },
      "source": [
        "min_samples_splits = np.linspace(0.1, 1.0, 10, endpoint=True)\n",
        "train_results = []\n",
        "test_results = []\n",
        "for min_samples_split in min_samples_splits:\n",
        "   dt = DecisionTreeClassifier(min_samples_split=min_samples_split)\n",
        "   dt.fit(X_train, y_train)\n",
        "   train_pred = dt.predict(X_train)\n",
        "   false_positive_rate, true_positive_rate, thresholds =    roc_curve(y_train, train_pred)\n",
        "   roc_auc = auc(false_positive_rate, true_positive_rate)\n",
        "   train_results.append(roc_auc)\n",
        "   y_pred = dt.predict(X_test)\n",
        "   false_positive_rate, true_positive_rate, thresholds = roc_curve(y_test, y_pred)\n",
        "   roc_auc = auc(false_positive_rate, true_positive_rate)\n",
        "   test_results.append(roc_auc)\n",
        "from matplotlib.legend_handler import HandlerLine2D\n",
        "line1, = plt.plot(min_samples_splits, train_results, 'b', label='Train AUC')\n",
        "line2, = plt.plot(min_samples_splits, test_results, 'r', label='Test AUC')\n",
        "plt.legend(handler_map={line1: HandlerLine2D(numpoints=2)})\n",
        "plt.ylabel('AUC score')\n",
        "plt.xlabel('min samples split')\n",
        "plt.show()"
      ],
      "execution_count": 0,
      "outputs": [
        {
          "output_type": "display_data",
          "data": {
            "image/png": "[encoded data removed]",
            "text/plain": [
              "<Figure size 432x288 with 1 Axes>"
            ]
          },
          "metadata": {
            "tags": []
          }
        }
      ]
    },
    {
      "cell_type": "markdown",
      "metadata": {
        "id": "UnKsbyFfEeH0",
        "colab_type": "text"
      },
      "source": [
        "<font color=blue size=4>\n",
        "After 0.25 Min Sample Splits, learning stopped. At leasat it did not come down resulting in underfitting.<br><br>\n",
        "<font color=brown size=6>\n",
        "min_samples_leaf <font color=brown size=4>\n",
        "min_samples_leaf is The minimum number of samples required to be at a leaf node. This parameter is similar to min_samples_splits, however, this describe the minimum number of samples of samples at the leafs, the base of the tree."
      ]
    },
    {
      "cell_type": "code",
      "metadata": {
        "id": "ezppsfxLELRl",
        "colab_type": "code",
        "outputId": "0974ba8e-4fb3-4c30-b822-89d1fb3073d7",
        "colab": {
          "base_uri": "https://localhost:8080/",
          "height": 284
        }
      },
      "source": [
        "min_sample_leafs = np.linspace(0.1, 0.5, 5, endpoint=True)\n",
        "\n",
        "train_results = []\n",
        "test_results = []\n",
        "for min_samples_leaf in min_sample_leafs:\n",
        "   dt = DecisionTreeClassifier(min_samples_leaf=min_samples_leaf)\n",
        "   dt.fit(X_train, y_train)\n",
        "   train_pred = dt.predict(X_train)\n",
        "   false_positive_rate, true_positive_rate, thresholds = roc_curve(y_train, train_pred)\n",
        "   roc_auc = auc(false_positive_rate, true_positive_rate)\n",
        "   train_results.append(roc_auc)\n",
        "   y_pred = dt.predict(X_test)\n",
        "   false_positive_rate, true_positive_rate, thersholds = roc_curve(y_test, y_pred)\n",
        "   roc_auc = auc(false_positive_rate, true_positive_rate)\n",
        "   test_results.append(roc_auc)\n",
        "\n",
        "from matplotlib.legend_handler import HandlerLine2D\n",
        "line1, = plt.plot(min_sample_leafs, train_results, 'b', label='Train AUC')\n",
        "line2, = plt.plot(min_sample_leafs, test_results, 'r', label='Test AUC')\n",
        "\n",
        "plt.legend(handler_map={line1: HandlerLine2D(numpoints=2)})\n",
        "plt.ylabel('AUC score')\n",
        "plt.xlabel('min_sample_leafs splits')\n",
        "plt.show()"
      ],
      "execution_count": 0,
      "outputs": [
        {
          "output_type": "display_data",
          "data": {
            "image/png": "[encoded data removed]",
            "text/plain": [
              "<Figure size 432x288 with 1 Axes>"
            ]
          },
          "metadata": {
            "tags": []
          }
        }
      ]
    },
    {
      "cell_type": "markdown",
      "metadata": {
        "id": "ssgN4WqJJ1C4",
        "colab_type": "text"
      },
      "source": [
        "<font color=red size=5>\n",
        "Increasing Min Sample Leafs causing underfitting\n",
        "<br><br>\n",
        "<font color=brown size=6>\n",
        "max_features<br>\n",
        "<font color=brown size=4>\n",
        "max_features represents the number of features to consider when looking for the best split."
      ]
    },
    {
      "cell_type": "code",
      "metadata": {
        "id": "NJ-mXcZWHgCT",
        "colab_type": "code",
        "outputId": "2b85de68-5d59-4933-f920-efcc402baabc",
        "colab": {
          "base_uri": "https://localhost:8080/",
          "height": 283
        }
      },
      "source": [
        "max_features = list(range(1, dataset.shape[1]))\n",
        "train_results = []\n",
        "test_results = []\n",
        "for max_feature in max_features:\n",
        "   dt = DecisionTreeClassifier(max_features=max_feature)\n",
        "   dt.fit(X_train, y_train)  \n",
        "   train_pred = dt.predict(X_train)\n",
        "   false_positive_rate, true_positive_rate, thresholds = roc_curve(y_train, train_pred)\n",
        "   roc_auc = auc(false_positive_rate, true_positive_rate)\n",
        "   train_results.append(roc_auc)\n",
        "   y_pred = dt.predict(X_test)\n",
        "   false_positive_rate, true_positive_rate, thresholds = roc_curve(y_test, y_pred)\n",
        "   roc_auc = auc(false_positive_rate, true_positive_rate)\n",
        "   test_results.append(roc_auc)\n",
        "\n",
        "from matplotlib.legend_handler import  HandlerLine2D\n",
        "line1, = plt.plot(max_features, train_results, 'b', label=\"Train AUC\")\n",
        "line2, = plt.plot(max_features, test_results, 'r', label='Test AUC')\n",
        "\n",
        "plt.legend(handler_map={line1: HandlerLine2D(numpoints=2)})\n",
        "plt.ylabel(\"AUC Score\")\n",
        "plt.xlabel(\"Max Features Leafs\")\n",
        "plt.show()\n"
      ],
      "execution_count": 0,
      "outputs": [
        {
          "output_type": "display_data",
          "data": {
            "image/png": "[encoded data removed]",
            "text/plain": [
              "<Figure size 432x288 with 1 Axes>"
            ]
          },
          "metadata": {
            "tags": []
          }
        }
      ]
    },
    {
      "cell_type": "markdown",
      "metadata": {
        "id": "C3-l9KNZNmCz",
        "colab_type": "text"
      },
      "source": [
        "<font color=red size=4>\n",
        "This is an overfitting case.  It’s unexpected to get overfitting for all values of max_features. However, according to sklearn documentation for decision tree, the search for a split does not stop until at least one valid partition of the node samples is found, even if it requires to effectively inspect more than max_features features."
      ]
    },
    {
      "cell_type": "code",
      "metadata": {
        "id": "QxWFOZHjKgm6",
        "colab_type": "code",
        "outputId": "cb8cd0b2-b202-44b4-f859-20b770e43c8f",
        "colab": {
          "base_uri": "https://localhost:8080/",
          "height": 284
        }
      },
      "source": [
        "dt = DecisionTreeClassifier(max_features=2, max_depth = 25, min_samples_split= 0.1, min_samples_leaf = 0.1)\n",
        "\"\"\"\n",
        "grid = [\n",
        "             {'max_features' : 2,\n",
        "             'max_depth' : 25,\n",
        "             'min_samples_split' : 0.1,\n",
        "             'min_samples_leaf' : 0.2\n",
        "              }\n",
        "            ]\n",
        "\n",
        "dt = DecisionTreeClassifier(grid)\n",
        "\"\"\"\n",
        "dt.fit(X_train, y_train)  \n",
        "\n",
        "train_pred = dt.predict(X_train)\n",
        "false_positive_rate, true_positive_rate, thresholds = roc_curve(y_train, train_pred)\n",
        "roc_auc_tr = auc(false_positive_rate, true_positive_rate)\n",
        "\n",
        "y_pred = dt.predict(X_test)\n",
        "false_positive_rate, true_positive_rate, thresholds = roc_curve(y_test, y_pred)\n",
        "roc_auc_te = auc(false_positive_rate, true_positive_rate)\n",
        "\n",
        "from matplotlib.legend_handler import  HandlerLine2D\n",
        "line1, = plt.plot(roc_auc_tr, roc_auc_tr, 'b', label=\"Train AUC\")\n",
        "line2, = plt.plot(roc_auc_te, roc_auc_te, 'r', label='Test AUC')\n",
        "\n",
        "plt.legend(handler_map={line1: HandlerLine2D(numpoints=2)})\n",
        "plt.ylabel(\"AUC Score\")\n",
        "plt.xlabel(\"Tuned_features\")\n",
        "plt.show()"
      ],
      "execution_count": 0,
      "outputs": [
        {
          "output_type": "display_data",
          "data": {
            "image/png": "[encoded data removed]",
            "text/plain": [
              "<Figure size 432x288 with 1 Axes>"
            ]
          },
          "metadata": {
            "tags": []
          }
        }
      ]
    },
    {
      "cell_type": "code",
      "metadata": {
        "id": "N_KbNwb7VGoY",
        "colab_type": "code",
        "outputId": "4d35ac61-9481-4e0e-8b77-7130d68582f1",
        "colab": {
          "base_uri": "https://localhost:8080/",
          "height": 68
        }
      },
      "source": [
        "recall_score(y_test, y_pred)\n",
        "roc_curve(y_test, y_pred)"
      ],
      "execution_count": 0,
      "outputs": [
        {
          "output_type": "execute_result",
          "data": {
            "text/plain": [
              "(array([0.        , 0.06968727, 1.        ]),\n",
              " array([0.        , 0.84541063, 1.        ]),\n",
              " array([2, 1, 0]))"
            ]
          },
          "metadata": {
            "tags": []
          },
          "execution_count": 105
        }
      ]
    },
    {
      "cell_type": "code",
      "metadata": {
        "id": "JJVXJEY_V22Z",
        "colab_type": "code",
        "outputId": "341b855b-b42b-4d72-8da5-ef544f6a141c",
        "colab": {
          "base_uri": "https://localhost:8080/",
          "height": 170
        }
      },
      "source": [
        "report = classification_report(y_test, y_pred)\n",
        "print(report)"
      ],
      "execution_count": 0,
      "outputs": [
        {
          "output_type": "stream",
          "text": [
            "              precision    recall  f1-score   support\n",
            "\n",
            "           0       0.98      0.93      0.96      4061\n",
            "           1       0.55      0.85      0.67       414\n",
            "\n",
            "    accuracy                           0.92      4475\n",
            "   macro avg       0.77      0.89      0.81      4475\n",
            "weighted avg       0.94      0.92      0.93      4475\n",
            "\n"
          ],
          "name": "stdout"
        }
      ]
    },
    {
      "cell_type": "code",
      "metadata": {
        "id": "CRVZ1FmJXxq4",
        "colab_type": "code",
        "outputId": "95184915-cc98-4a98-82b8-07455c1712f2",
        "colab": {
          "base_uri": "https://localhost:8080/",
          "height": 170
        }
      },
      "source": [
        "report = classification_report(y_train, train_pred)\n",
        "print(report)"
      ],
      "execution_count": 0,
      "outputs": [
        {
          "output_type": "stream",
          "text": [
            "              precision    recall  f1-score   support\n",
            "\n",
            "           0       0.98      0.93      0.95     12197\n",
            "           1       0.53      0.82      0.64      1225\n",
            "\n",
            "    accuracy                           0.92     13422\n",
            "   macro avg       0.75      0.87      0.80     13422\n",
            "weighted avg       0.94      0.92      0.92     13422\n",
            "\n"
          ],
          "name": "stdout"
        }
      ]
    },
    {
      "cell_type": "code",
      "metadata": {
        "id": "t6OxSo6YX8F0",
        "colab_type": "code",
        "colab": {}
      },
      "source": [
        ""
      ],
      "execution_count": 0,
      "outputs": []
    }
  ]
}