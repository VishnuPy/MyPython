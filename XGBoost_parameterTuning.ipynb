{
  "nbformat": 4,
  "nbformat_minor": 0,
  "metadata": {
    "colab": {
      "name": "XGBoost_parameterTuning.ipynb",
      "provenance": [],
      "collapsed_sections": [],
      "include_colab_link": true
    },
    "kernelspec": {
      "name": "python3",
      "display_name": "Python 3"
    },
    "accelerator": "GPU"
  },
  "cells": [
    {
      "cell_type": "markdown",
      "metadata": {
        "id": "view-in-github",
        "colab_type": "text"
      },
      "source": [
        "<a href=\"https://colab.research.google.com/github/VishnuPy/MyPython/blob/master/XGBoost_parameterTuning.ipynb\" target=\"_parent\"><img src=\"https://colab.research.google.com/assets/colab-badge.svg\" alt=\"Open In Colab\"/></a>"
      ]
    },
    {
      "cell_type": "code",
      "metadata": {
        "id": "AqeHVf1Mmqek",
        "colab_type": "code",
        "outputId": "ca6497d8-8736-4a7c-c233-24418aed170e",
        "colab": {
          "base_uri": "https://localhost:8080/",
          "height": 85
        }
      },
      "source": [
        "import tensorflow as tf\n",
        "device_name = tf.test.gpu_device_name()\n",
        "if device_name != '/device:GPU:0':\n",
        "  raise SystemError('GPU device not found')\n",
        "print('Found GPU at: {}'.format(device_name))\n",
        "\n",
        "from google.colab import drive\n",
        "drive.mount('/gdrive')\n",
        "%cd /gdrive\n",
        "%ls"
      ],
      "execution_count": 0,
      "outputs": [
        {
          "output_type": "stream",
          "text": [
            "Found GPU at: /device:GPU:0\n",
            "Drive already mounted at /gdrive; to attempt to forcibly remount, call drive.mount(\"/gdrive\", force_remount=True).\n",
            "/gdrive\n",
            "\u001b[0m\u001b[01;34m'My Drive'\u001b[0m/\n"
          ],
          "name": "stdout"
        }
      ]
    },
    {
      "cell_type": "code",
      "metadata": {
        "id": "j1s8zevjnA-0",
        "colab_type": "code",
        "outputId": "8109071f-9580-443e-fd43-1f79a83ac970",
        "colab": {
          "base_uri": "https://localhost:8080/",
          "height": 544
        }
      },
      "source": [
        "%cd 'My Drive/MyLearning/MLDLAIPython/Data/TextData/'\n",
        "%ls"
      ],
      "execution_count": 0,
      "outputs": [
        {
          "output_type": "stream",
          "text": [
            "/gdrive/My Drive/MyLearning/MLDLAIPython/Data/TextData\n",
            "Adult.csv                          mnist_submission.csv\n",
            "Airline_Tweets.csv                 MNISTtest.csv\n",
            "APPL_Stock_Data_1980thru2019.xlsx  MNIST_train.csv\n",
            "APPL_Stock_Data_2009thru2019.xlsx  NaN_Predict_test.csv\n",
            "APPL_Stock_Test_2019_Apr_Jun.xlsx  NaN_Predict_train.csv\n",
            "bank-additional-full.csv           \u001b[0m\u001b[01;34mneg\u001b[0m/\n",
            "bank-additional-full_prj.csv       nyay.csv\n",
            "Bank_Customer_Churn_Modelling.csv  Portuguese_Bank_Phone_calls.csv\n",
            "BankLoan_test.csv                  \u001b[01;34mpos\u001b[0m/\n",
            "BankLoan_train.csv                 purchase_fre_job.png\n",
            "Bigmart_SampleSubmission.csv       pur_dayofweek_bar.png\n",
            "Bigmart_SampleSubmission.gsheet    pur_fre_month_bar.png\n",
            "Bigmart_Test.csv                   pur_fre_pout_bar.png\n",
            "Bigmart_Train.csv                  small_tree.dot\n",
            "Breast_Cancer_Knn_ImPrj.csv        small_tree.png\n",
            "breast-cancer-wisconsin-data.csv   submit_file.csv\n",
            "Cancer.csv                         submit_file.gsheet\n",
            "caravan-insurance-challenge.csv    temps.csv\n",
            "count_plot.png                     test_fld_files.csv\n",
            "diabetes.csv                       titanic_test.csv\n",
            "edu_vs_pur_stack.png               Titanic_test.csv\n",
            "Flower_Boucheq.jpg                 titanic_train.csv\n",
            "hist_age.png                       Titanic_train.csv\n",
            "Income_testing.csv                 train_fld_files.csv\n",
            "Income_training.csv                train_modified.csv\n",
            "iris.csv                           tree.dot\n",
            "iris.data                          tree.png\n",
            "Log_ROC.png                        User_Data.csv\n",
            "mariral_vs_pur_stack.png           Wine.csv\n",
            "marks.txt\n"
          ],
          "name": "stdout"
        }
      ]
    },
    {
      "cell_type": "code",
      "metadata": {
        "id": "IpbU94t8nCEM",
        "colab_type": "code",
        "outputId": "ed619c83-ac26-48cd-ee06-7cb4c56704fd",
        "colab": {
          "base_uri": "https://localhost:8080/",
          "height": 119
        }
      },
      "source": [
        "import tensorflow as tf\n",
        "import timeit\n",
        "\n",
        "# See https://www.tensorflow.org/tutorials/using_gpu#allowing_gpu_memory_growth\n",
        "config = tf.ConfigProto()\n",
        "config.gpu_options.allow_growth = True\n",
        "\n",
        "with tf.device('/cpu:0'):\n",
        "  random_image_cpu = tf.random_normal((100, 100, 100, 3))\n",
        "  net_cpu = tf.layers.conv2d(random_image_cpu, 32, 7)\n",
        "  net_cpu = tf.reduce_sum(net_cpu)\n",
        "\n",
        "with tf.device('/gpu:0'):\n",
        "  random_image_gpu = tf.random_normal((100, 100, 100, 3))\n",
        "  net_gpu = tf.layers.conv2d(random_image_gpu, 32, 7)\n",
        "  net_gpu = tf.reduce_sum(net_gpu)\n",
        "\n",
        "sess = tf.Session(config=config)\n",
        "\n",
        "# Test execution once to detect errors early.\n",
        "try:\n",
        "  sess.run(tf.global_variables_initializer())\n",
        "except tf.errors.InvalidArgumentError:\n",
        "  print(\n",
        "      '\\n\\nThis error most likely means that this notebook is not '\n",
        "      'configured to use a GPU.  Change this in Notebook Settings via the '\n",
        "      'command palette (cmd/ctrl-shift-P) or the Edit menu.\\n\\n')\n",
        "  raise\n",
        "\n",
        "def cpu():\n",
        "  sess.run(net_cpu)\n",
        "  \n",
        "def gpu():\n",
        "  sess.run(net_gpu)\n",
        "  \n",
        "# Runs the op several times.\n",
        "print('Time (s) to convolve 32x7x7x3 filter over random 100x100x100x3 images '\n",
        "      '(batch x height x width x channel). Sum of ten runs.')\n",
        "print('CPU (s):')\n",
        "cpu_time = timeit.timeit('cpu()', number=10, setup=\"from __main__ import cpu\")\n",
        "print(cpu_time)\n",
        "print('GPU (s):')\n",
        "gpu_time = timeit.timeit('gpu()', number=10, setup=\"from __main__ import gpu\")\n",
        "print(gpu_time)\n",
        "print('GPU speedup over CPU: {}x'.format(int(cpu_time/gpu_time)))"
      ],
      "execution_count": 0,
      "outputs": [
        {
          "output_type": "stream",
          "text": [
            "Time (s) to convolve 32x7x7x3 filter over random 100x100x100x3 images (batch x height x width x channel). Sum of ten runs.\n",
            "CPU (s):\n",
            "3.6224754770009895\n",
            "GPU (s):\n",
            "0.19054672999845934\n",
            "GPU speedup over CPU: 19x\n"
          ],
          "name": "stdout"
        }
      ]
    },
    {
      "cell_type": "code",
      "metadata": {
        "id": "9V0j61I4nJNw",
        "colab_type": "code",
        "colab": {}
      },
      "source": [
        "#Import libraries:\n",
        "import pandas as pd\n",
        "import numpy as np\n",
        "import xgboost as xgb\n",
        "from xgboost.sklearn import XGBClassifier\n",
        "from sklearn import metrics   #Additional scklearn functions\n",
        "from sklearn import model_selection\n",
        "from sklearn.model_selection import GridSearchCV, cross_val_score   #Perforing grid search and Cross Validation Score\n",
        "\n",
        "import matplotlib.pylab as plt\n",
        "%matplotlib inline\n",
        "from matplotlib.pylab import rcParams\n",
        "rcParams['figure.figsize'] = 12, 4\n",
        "\n",
        "train = pd.read_csv('train_modified.csv')\n",
        "target = 'Disbursed'\n",
        "IDcol = 'ID'"
      ],
      "execution_count": 0,
      "outputs": []
    },
    {
      "cell_type": "code",
      "metadata": {
        "id": "6cjqfkeRnXnN",
        "colab_type": "code",
        "colab": {}
      },
      "source": [
        "def modelfit(alg, dtrain, predictors,useTrainCV=True, cv_folds=5, early_stopping_rounds=50):\n",
        "    \n",
        "    if useTrainCV:\n",
        "        xgb_param = alg.get_xgb_params()\n",
        "        xgtrain = xgb.DMatrix(dtrain[predictors].values, label=dtrain[target].values)\n",
        "        cvresult = xgb.cv(xgb_param, xgtrain, num_boost_round=alg.get_params()['n_estimators'], nfold=cv_folds, metrics='auc', \n",
        "                          early_stopping_rounds=early_stopping_rounds)   #, show_progress=False)\n",
        "        \n",
        "    alg.set_params(n_estimators=cvresult.shape[0])\n",
        "    \n",
        "    #Fit the algorithm on the data\n",
        "    alg.fit(dtrain[predictors], dtrain['Disbursed'],eval_metric='auc')\n",
        "\n",
        "    #Predict training set:\n",
        "    dtrain_predictions = alg.predict(dtrain[predictors])\n",
        "    dtrain_predprob = alg.predict_proba(dtrain[predictors])[:,1]\n",
        "        \n",
        "    #Print model report:\n",
        "    print (\"\\nModel Report\")\n",
        "    print (\"Accuracy : %.4g\" % metrics.accuracy_score(dtrain['Disbursed'].values, dtrain_predictions))\n",
        "    print (\"AUC Score (Train): %f\" % metrics.roc_auc_score(dtrain['Disbursed'], dtrain_predprob))\n",
        "    \n",
        "#    feat_imp = pd.Series(alg.booster().get_fscore()).sort_values(ascending=False)\n",
        "    feat_imp = pd.Series(alg.feature_importances_, predictors).sort_values(ascending=False)\n",
        "    feat_imp.plot(kind='bar', title='Feature Importances')\n",
        "    plt.ylabel('Feature Importance Score')"
      ],
      "execution_count": 0,
      "outputs": []
    },
    {
      "cell_type": "markdown",
      "metadata": {
        "id": "YbCWKPFDoFsg",
        "colab_type": "text"
      },
      "source": [
        "<font color=red size=5>\n",
        "  General Approach for Parameter Tuning\n",
        "We will use an approach similar to that of GBM here. The various steps to be performed are:\n",
        "<br></font>\n",
        "<font color=brown size=4>\n",
        "1. Choose a relatively high learning rate. Generally a learning rate of 0.1 works but somewhere between 0.05 to 0.3 should work for different problems. Determine the optimum number of trees for this learning rate. XGBoost has a very useful function called as “cv” which performs cross-validation at each boosting iteration and thus returns the optimum number of trees required.\n",
        "  <br>\n",
        "2. Tune tree-specific parameters ( max_depth, min_child_weight, gamma, subsample, colsample_bytree) for decided learning rate and number of trees. Note that we can choose different parameters to define a tree and I’ll take up an example here.\n",
        "  <br>\n",
        "3. Tune regularization parameters (lambda, alpha) for xgboost which can help reduce model complexity and enhance performance.\n",
        "  <br>\n",
        "4. Lower the learning rate and decide the optimal parameters\n",
        "  <br> "
      ]
    },
    {
      "cell_type": "markdown",
      "metadata": {
        "id": "65AGvnHkoxO0",
        "colab_type": "text"
      },
      "source": [
        "<font color=red size=5>\n",
        "Step 1: Fix learning rate and number of estimators for tuning tree-based parameters\n",
        "<br> </font>\n",
        "<font color=brown size=4>\n",
        "1.max_depth = 5 : This should be between 3-10. I’ve started with 5 but you can choose a different number as well. 4-6 can be good starting points. <br>\n",
        "2. min_child_weight = 1 : A smaller value is chosen because it is a highly imbalanced class problem and leaf nodes can have smaller size groups.<br>\n",
        "3. gamma = 0 : A smaller value like 0.1-0.2 can also be chosen for starting. This will anyways be tuned later. <br>\n",
        "4. subsample, colsample_bytree = 0.8 : This is a commonly used used start value. Typical values range between 0.5-0.9. <br>\n",
        "5. scale_pos_weight = 1: Because of high class imbalance."
      ]
    },
    {
      "cell_type": "code",
      "metadata": {
        "id": "2pxIPii4o1_O",
        "colab_type": "code",
        "outputId": "b5fd7586-c4cf-4e0b-ecee-4858be04c4de",
        "colab": {
          "base_uri": "https://localhost:8080/",
          "height": 507
        }
      },
      "source": [
        "#Choose all predictors except target & IDcols\n",
        "predictors = [x for x in train.columns if x not in [target, IDcol]]\n",
        "xgb1 = XGBClassifier(\n",
        " learning_rate =0.1,\n",
        " n_estimators=1000,\n",
        " max_depth=5,\n",
        " min_child_weight=1,\n",
        " gamma=0,\n",
        " subsample=0.8,\n",
        " colsample_bytree=0.8,\n",
        " objective= 'binary:logistic',\n",
        " nthread=4,\n",
        " scale_pos_weight=1,\n",
        " seed=27)\n",
        "\n",
        "\n",
        "modelfit(xgb1, train, predictors)\n",
        "\n",
        "#feat_imp = pd.Series(alg.booster().get_fscore()).sort_values(ascending=False)\n",
        "#xgb1.booster().get_fscore()"
      ],
      "execution_count": 0,
      "outputs": [
        {
          "output_type": "stream",
          "text": [
            "\n",
            "Model Report\n",
            "Accuracy : 0.9854\n",
            "AUC Score (Train): 0.899283\n"
          ],
          "name": "stdout"
        },
        {
          "output_type": "display_data",
          "data": {
            "image/png": "[encoded data removed]",
            "text/plain": [
              "<Figure size 864x288 with 1 Axes>"
            ]
          },
          "metadata": {
            "tags": []
          }
        }
      ]
    },
    {
      "cell_type": "markdown",
      "metadata": {
        "id": "1eD0OpzO3Av6",
        "colab_type": "text"
      },
      "source": [
        "<font color=blue size = 6 >\n",
        "Step 2: Tune max_depth and min_child_weight"
      ]
    },
    {
      "cell_type": "code",
      "metadata": {
        "id": "VcvT4S6roJdc",
        "colab_type": "code",
        "outputId": "37cc7858-6fc5-46b7-8ff3-46e81dfc20af",
        "colab": {
          "base_uri": "https://localhost:8080/",
          "height": 377
        }
      },
      "source": [
        "param_test1 = {\n",
        " 'max_depth':range(3,10,2),\n",
        " 'min_child_weight':range(1,6,2)\n",
        "}\n",
        "gsearch1 = GridSearchCV(estimator = XGBClassifier( learning_rate =0.1, n_estimators=140, max_depth=5,\n",
        " min_child_weight=1, gamma=0, subsample=0.8, colsample_bytree=0.8,\n",
        " objective= 'binary:logistic', nthread=4, scale_pos_weight=1, seed=27), \n",
        " param_grid = param_test1, scoring='roc_auc',n_jobs=-1,iid=False, cv=5)\n",
        "gsearch1.fit(train[predictors],train[target])\n",
        "gsearch1.score, gsearch1.best_params_, gsearch1.best_score_"
      ],
      "execution_count": 0,
      "outputs": [
        {
          "output_type": "stream",
          "text": [
            "/usr/local/lib/python3.6/dist-packages/joblib/externals/loky/process_executor.py:706: UserWarning: A worker stopped while some jobs were given to the executor. This can be caused by a too short worker timeout or by a memory leak.\n",
            "  \"timeout or by a memory leak.\", UserWarning\n"
          ],
          "name": "stderr"
        },
        {
          "output_type": "execute_result",
          "data": {
            "text/plain": [
              "(<bound method BaseSearchCV.score of GridSearchCV(cv=5, error_score='raise-deprecating',\n",
              "              estimator=XGBClassifier(base_score=0.5, booster='gbtree',\n",
              "                                      colsample_bylevel=1, colsample_bynode=1,\n",
              "                                      colsample_bytree=0.8, gamma=0,\n",
              "                                      learning_rate=0.1, max_delta_step=0,\n",
              "                                      max_depth=5, min_child_weight=1,\n",
              "                                      missing=None, n_estimators=140, n_jobs=1,\n",
              "                                      nthread=4, objective='binary:logistic',\n",
              "                                      random_state=0, reg_alpha=0, reg_lambda=1,\n",
              "                                      scale_pos_weight=1, seed=27, silent=None,\n",
              "                                      subsample=0.8, verbosity=1),\n",
              "              iid=False, n_jobs=-1,\n",
              "              param_grid={'max_depth': range(3, 10, 2),\n",
              "                          'min_child_weight': range(1, 6, 2)},\n",
              "              pre_dispatch='2*n_jobs', refit=True, return_train_score=False,\n",
              "              scoring='roc_auc', verbose=0)>,\n",
              " {'max_depth': 5, 'min_child_weight': 5},\n",
              " 0.8406519006828337)"
            ]
          },
          "metadata": {
            "tags": []
          },
          "execution_count": 43
        }
      ]
    },
    {
      "cell_type": "code",
      "metadata": {
        "id": "8lhB_u1coIX_",
        "colab_type": "code",
        "outputId": "762f9e68-ba10-4872-d6c0-6174e702167a",
        "colab": {
          "base_uri": "https://localhost:8080/",
          "height": 969
        }
      },
      "source": [
        "gsearch1.cv_results_"
      ],
      "execution_count": 0,
      "outputs": [
        {
          "output_type": "execute_result",
          "data": {
            "text/plain": [
              "{'mean_fit_time': array([18.6157413 , 18.60938354, 18.50003448, 29.19397502, 29.10255098,\n",
              "        28.9643312 , 40.50605001, 40.00362654, 39.5657763 , 52.10725527,\n",
              "        50.70030627, 47.52455239]),\n",
              " 'mean_score_time': array([0.11553659, 0.10402093, 0.11159444, 0.15602069, 0.14892025,\n",
              "        0.15452642, 0.23972821, 0.23304076, 0.22851796, 0.29972134,\n",
              "        0.27758827, 0.25109839]),\n",
              " 'mean_test_score': array([0.83855951, 0.83719232, 0.83840884, 0.84039019, 0.83946644,\n",
              "        0.8406519 , 0.83596044, 0.83606722, 0.83644527, 0.82868414,\n",
              "        0.83128045, 0.83097796]),\n",
              " 'param_max_depth': masked_array(data=[3, 3, 3, 5, 5, 5, 7, 7, 7, 9, 9, 9],\n",
              "              mask=[False, False, False, False, False, False, False, False,\n",
              "                    False, False, False, False],\n",
              "        fill_value='?',\n",
              "             dtype=object),\n",
              " 'param_min_child_weight': masked_array(data=[1, 3, 5, 1, 3, 5, 1, 3, 5, 1, 3, 5],\n",
              "              mask=[False, False, False, False, False, False, False, False,\n",
              "                    False, False, False, False],\n",
              "        fill_value='?',\n",
              "             dtype=object),\n",
              " 'params': [{'max_depth': 3, 'min_child_weight': 1},\n",
              "  {'max_depth': 3, 'min_child_weight': 3},\n",
              "  {'max_depth': 3, 'min_child_weight': 5},\n",
              "  {'max_depth': 5, 'min_child_weight': 1},\n",
              "  {'max_depth': 5, 'min_child_weight': 3},\n",
              "  {'max_depth': 5, 'min_child_weight': 5},\n",
              "  {'max_depth': 7, 'min_child_weight': 1},\n",
              "  {'max_depth': 7, 'min_child_weight': 3},\n",
              "  {'max_depth': 7, 'min_child_weight': 5},\n",
              "  {'max_depth': 9, 'min_child_weight': 1},\n",
              "  {'max_depth': 9, 'min_child_weight': 3},\n",
              "  {'max_depth': 9, 'min_child_weight': 5}],\n",
              " 'rank_test_score': array([ 4,  6,  5,  2,  3,  1,  9,  8,  7, 12, 10, 11], dtype=int32),\n",
              " 'split0_test_score': array([0.82846762, 0.82605522, 0.82873229, 0.83255108, 0.83056948,\n",
              "        0.83273321, 0.82918367, 0.82806997, 0.82838244, 0.82107632,\n",
              "        0.82077345, 0.82324953]),\n",
              " 'split1_test_score': array([0.82698176, 0.82313314, 0.82474418, 0.83005351, 0.83190602,\n",
              "        0.83598376, 0.83132602, 0.83533471, 0.83755376, 0.82973395,\n",
              "        0.83108718, 0.83026365]),\n",
              " 'split2_test_score': array([0.84168951, 0.84107048, 0.84199776, 0.8480586 , 0.84804293,\n",
              "        0.84827424, 0.84173135, 0.84123433, 0.84175354, 0.82881572,\n",
              "        0.83509265, 0.83402291]),\n",
              " 'split3_test_score': array([0.85097338, 0.84994327, 0.85222159, 0.84987394, 0.84725539,\n",
              "        0.84756027, 0.84513043, 0.84271988, 0.84430097, 0.8357334 ,\n",
              "        0.83692961, 0.83906272]),\n",
              " 'split4_test_score': array([0.84468528, 0.84575947, 0.84434838, 0.84141381, 0.83955838,\n",
              "        0.83870803, 0.83243071, 0.83297722, 0.83023562, 0.8280613 ,\n",
              "        0.83251933, 0.82829099]),\n",
              " 'std_fit_time': array([0.17734733, 0.0861523 , 0.10294292, 0.16164869, 0.09491755,\n",
              "        0.15085852, 0.47781377, 0.21183527, 0.21532749, 0.52574321,\n",
              "        0.36521583, 4.62526158]),\n",
              " 'std_score_time': array([0.01502247, 0.01210327, 0.01241014, 0.01174174, 0.00478763,\n",
              "        0.00779523, 0.00940862, 0.01299213, 0.00662387, 0.019269  ,\n",
              "        0.01226613, 0.05610445]),\n",
              " 'std_test_score': array([0.00935218, 0.01070251, 0.01019126, 0.00797612, 0.00735593,\n",
              "        0.00623059, 0.00628098, 0.00538512, 0.00623999, 0.00467073,\n",
              "        0.00562877, 0.00533092])}"
            ]
          },
          "metadata": {
            "tags": []
          },
          "execution_count": 44
        }
      ]
    },
    {
      "cell_type": "code",
      "metadata": {
        "id": "RNWdo1ZHnzAD",
        "colab_type": "code",
        "outputId": "8744552a-cdbc-4eea-9302-be81ce26a71c",
        "colab": {
          "base_uri": "https://localhost:8080/",
          "height": 819
        }
      },
      "source": [
        "param_test2 = {\n",
        " 'max_depth':[4,5,6],\n",
        " 'min_child_weight':[4,5,6]\n",
        "}\n",
        "gsearch2 = GridSearchCV(estimator = XGBClassifier( learning_rate=0.1, n_estimators=140, max_depth=5,\n",
        " min_child_weight=2, gamma=0, subsample=0.8, colsample_bytree=0.8,\n",
        " objective= 'binary:logistic', nthread=4, scale_pos_weight=1,seed=27), \n",
        " param_grid = param_test2, scoring='roc_auc',n_jobs=4,iid=False, cv=5)\n",
        "gsearch2.fit(train[predictors],train[target])\n",
        "gsearch2.cv_results_, gsearch2.best_params_, gsearch2.best_score_"
      ],
      "execution_count": 0,
      "outputs": [
        {
          "output_type": "stream",
          "text": [
            "/usr/local/lib/python3.6/dist-packages/joblib/externals/loky/process_executor.py:706: UserWarning: A worker stopped while some jobs were given to the executor. This can be caused by a too short worker timeout or by a memory leak.\n",
            "  \"timeout or by a memory leak.\", UserWarning\n"
          ],
          "name": "stderr"
        },
        {
          "output_type": "execute_result",
          "data": {
            "text/plain": [
              "({'mean_fit_time': array([47.23610487, 46.9751554 , 47.74043598, 58.6022851 , 58.61847339,\n",
              "         57.10043468, 68.64976525, 69.93881559, 60.08718028]),\n",
              "  'mean_score_time': array([0.35749731, 0.29504266, 0.33397388, 0.36897206, 0.34147649,\n",
              "         0.35652099, 0.42317944, 0.42256937, 0.29136915]),\n",
              "  'mean_test_score': array([0.84110102, 0.83997923, 0.83943053, 0.84083405, 0.8406519 ,\n",
              "         0.83948369, 0.83990606, 0.83810419, 0.83856804]),\n",
              "  'param_max_depth': masked_array(data=[4, 4, 4, 5, 5, 5, 6, 6, 6],\n",
              "               mask=[False, False, False, False, False, False, False, False,\n",
              "                     False],\n",
              "         fill_value='?',\n",
              "              dtype=object),\n",
              "  'param_min_child_weight': masked_array(data=[4, 5, 6, 4, 5, 6, 4, 5, 6],\n",
              "               mask=[False, False, False, False, False, False, False, False,\n",
              "                     False],\n",
              "         fill_value='?',\n",
              "              dtype=object),\n",
              "  'params': [{'max_depth': 4, 'min_child_weight': 4},\n",
              "   {'max_depth': 4, 'min_child_weight': 5},\n",
              "   {'max_depth': 4, 'min_child_weight': 6},\n",
              "   {'max_depth': 5, 'min_child_weight': 4},\n",
              "   {'max_depth': 5, 'min_child_weight': 5},\n",
              "   {'max_depth': 5, 'min_child_weight': 6},\n",
              "   {'max_depth': 6, 'min_child_weight': 4},\n",
              "   {'max_depth': 6, 'min_child_weight': 5},\n",
              "   {'max_depth': 6, 'min_child_weight': 6}],\n",
              "  'rank_test_score': array([1, 4, 7, 2, 3, 6, 5, 9, 8], dtype=int32),\n",
              "  'split0_test_score': array([0.83215149, 0.83210656, 0.83112251, 0.83107483, 0.83273321,\n",
              "         0.83288344, 0.83349751, 0.82950232, 0.83072395]),\n",
              "  'split1_test_score': array([0.83380838, 0.83090745, 0.83244875, 0.83494975, 0.83598376,\n",
              "         0.83476305, 0.83521752, 0.83387789, 0.83622638]),\n",
              "  'split2_test_score': array([0.84810113, 0.846935  , 0.84664743, 0.84732592, 0.84827424,\n",
              "         0.84365532, 0.84694826, 0.84343453, 0.84483941]),\n",
              "  'split3_test_score': array([0.84763098, 0.8465848 , 0.84566993, 0.8491494 , 0.84756027,\n",
              "         0.84572618, 0.84545999, 0.84526622, 0.84474394]),\n",
              "  'split4_test_score': array([0.84381312, 0.84336235, 0.84126402, 0.84167037, 0.83870803,\n",
              "         0.84039048, 0.83840705, 0.83844   , 0.83630654]),\n",
              "  'std_fit_time': array([ 2.1984642 ,  1.46125969,  0.48474608,  0.30553043,  0.52141137,\n",
              "          1.36969257,  1.31287982,  0.59498081, 13.73379812]),\n",
              "  'std_score_time': array([0.03648671, 0.06773015, 0.05839044, 0.05722359, 0.03569054,\n",
              "         0.05775103, 0.05423807, 0.04151469, 0.15956397]),\n",
              "  'std_test_score': array([0.00681578, 0.007039  , 0.00651374, 0.00695494, 0.00623059,\n",
              "         0.00496067, 0.00539884, 0.00585959, 0.00546991])},\n",
              " {'max_depth': 4, 'min_child_weight': 4},\n",
              " 0.8411010190972725)"
            ]
          },
          "metadata": {
            "tags": []
          },
          "execution_count": 45
        }
      ]
    },
    {
      "cell_type": "code",
      "metadata": {
        "id": "Jyi-2KXLv7Ze",
        "colab_type": "code",
        "outputId": "ecd13998-40cd-4f85-fa5d-ac504cda7f48",
        "colab": {
          "base_uri": "https://localhost:8080/",
          "height": 326
        }
      },
      "source": [
        "#we got 6 as optimum value for min_child_weight but we haven’t tried values more than 6. We can do that as follow:\n",
        "\n",
        "param_test2b = {\n",
        " 'min_child_weight':[6,8,10,12]\n",
        "}\n",
        "gsearch2b = GridSearchCV(estimator = XGBClassifier( learning_rate=0.1, n_estimators=140, max_depth=4,\n",
        " min_child_weight=2, gamma=0, subsample=0.8, colsample_bytree=0.8,\n",
        " objective= 'binary:logistic', nthread=4, scale_pos_weight=1,seed=27), \n",
        " param_grid = param_test2b, scoring='roc_auc',n_jobs=4,iid=False, cv=5)\n",
        "gsearch2b.fit(train[predictors],train[target])"
      ],
      "execution_count": 0,
      "outputs": [
        {
          "output_type": "stream",
          "text": [
            "/usr/local/lib/python3.6/dist-packages/joblib/externals/loky/process_executor.py:706: UserWarning: A worker stopped while some jobs were given to the executor. This can be caused by a too short worker timeout or by a memory leak.\n",
            "  \"timeout or by a memory leak.\", UserWarning\n"
          ],
          "name": "stderr"
        },
        {
          "output_type": "execute_result",
          "data": {
            "text/plain": [
              "GridSearchCV(cv=5, error_score='raise-deprecating',\n",
              "             estimator=XGBClassifier(base_score=0.5, booster='gbtree',\n",
              "                                     colsample_bylevel=1, colsample_bynode=1,\n",
              "                                     colsample_bytree=0.8, gamma=0,\n",
              "                                     learning_rate=0.1, max_delta_step=0,\n",
              "                                     max_depth=4, min_child_weight=2,\n",
              "                                     missing=None, n_estimators=140, n_jobs=1,\n",
              "                                     nthread=4, objective='binary:logistic',\n",
              "                                     random_state=0, reg_alpha=0, reg_lambda=1,\n",
              "                                     scale_pos_weight=1, seed=27, silent=None,\n",
              "                                     subsample=0.8, verbosity=1),\n",
              "             iid=False, n_jobs=4,\n",
              "             param_grid={'min_child_weight': [6, 8, 10, 12]},\n",
              "             pre_dispatch='2*n_jobs', refit=True, return_train_score=False,\n",
              "             scoring='roc_auc', verbose=0)"
            ]
          },
          "metadata": {
            "tags": []
          },
          "execution_count": 46
        }
      ]
    },
    {
      "cell_type": "code",
      "metadata": {
        "id": "O54tUYWBzq5S",
        "colab_type": "code",
        "outputId": "f3478409-b608-4c53-9689-5cde120ff15e",
        "colab": {
          "base_uri": "https://localhost:8080/",
          "height": 881
        }
      },
      "source": [
        "modelfit(gsearch2b.best_estimator_, train, predictors)\n",
        "gsearch2b.cv_results_, gsearch2b.best_params_, gsearch2b.best_score_"
      ],
      "execution_count": 0,
      "outputs": [
        {
          "output_type": "stream",
          "text": [
            "\n",
            "Model Report\n",
            "Accuracy : 0.9854\n",
            "AUC Score (Train): 0.874137\n"
          ],
          "name": "stdout"
        },
        {
          "output_type": "execute_result",
          "data": {
            "text/plain": [
              "({'mean_fit_time': array([47.85882421, 47.68460793, 46.47036119, 44.49716311]),\n",
              "  'mean_score_time': array([0.30226316, 0.27518196, 0.26131234, 0.19600544]),\n",
              "  'mean_test_score': array([0.83943053, 0.83947412, 0.84037456, 0.84075997]),\n",
              "  'param_min_child_weight': masked_array(data=[6, 8, 10, 12],\n",
              "               mask=[False, False, False, False],\n",
              "         fill_value='?',\n",
              "              dtype=object),\n",
              "  'params': [{'min_child_weight': 6},\n",
              "   {'min_child_weight': 8},\n",
              "   {'min_child_weight': 10},\n",
              "   {'min_child_weight': 12}],\n",
              "  'rank_test_score': array([4, 3, 2, 1], dtype=int32),\n",
              "  'split0_test_score': array([0.83112251, 0.83240473, 0.83245481, 0.83381878]),\n",
              "  'split1_test_score': array([0.83244875, 0.83106122, 0.83270988, 0.83423667]),\n",
              "  'split2_test_score': array([0.84664743, 0.84457643, 0.84729036, 0.8473872 ]),\n",
              "  'split3_test_score': array([0.84566993, 0.84604736, 0.84880618, 0.84840258]),\n",
              "  'split4_test_score': array([0.84126402, 0.84328085, 0.84061156, 0.83995463]),\n",
              "  'std_fit_time': array([0.3710661 , 0.14124064, 1.34371917, 0.73135418]),\n",
              "  'std_score_time': array([0.03580723, 0.0468464 , 0.03275995, 0.09726264]),\n",
              "  'std_test_score': array([0.00651374, 0.00639508, 0.00693464, 0.00622434])},\n",
              " {'min_child_weight': 12},\n",
              " 0.8407599726802951)"
            ]
          },
          "metadata": {
            "tags": []
          },
          "execution_count": 47
        },
        {
          "output_type": "display_data",
          "data": {
            "image/png": "[encoded data removed]",
            "text/plain": [
              "<Figure size 864x288 with 1 Axes>"
            ]
          },
          "metadata": {
            "tags": []
          }
        }
      ]
    },
    {
      "cell_type": "markdown",
      "metadata": {
        "id": "mxqOo9Bk6uHF",
        "colab_type": "text"
      },
      "source": [
        "<font color=red size=6>\n",
        "  Step 3: Tune gamma\n",
        "  </font>\n",
        "  <font color=red size=4>\n",
        "Now lets tune gamma value using the parameters already tuned above. Gamma can take various values but I’ll check for 5 values here. You can go into more precise values as."
      ]
    },
    {
      "cell_type": "code",
      "metadata": {
        "id": "8AdQfK0G5Cts",
        "colab_type": "code",
        "outputId": "f9750ae1-13b5-4098-82aa-c5c439a7ded7",
        "colab": {
          "base_uri": "https://localhost:8080/",
          "height": 462
        }
      },
      "source": [
        "# best params for max_Depth and min_child_weight are 4 and 4 respectively. This is my findings above. \n",
        "param_test3 = {\n",
        " 'gamma':[i/10.0 for i in range(0,5)]\n",
        "}\n",
        "gsearch3 = GridSearchCV(estimator = XGBClassifier( learning_rate =0.1, n_estimators=140, max_depth=4,\n",
        " min_child_weight=4, gamma=0, subsample=0.8, colsample_bytree=0.8,\n",
        " objective= 'binary:logistic', nthread=4, scale_pos_weight=1,seed=27), \n",
        " param_grid = param_test3, scoring='roc_auc',n_jobs=4,iid=False, cv=5)\n",
        "gsearch3.fit(train[predictors],train[target])\n",
        "gsearch3.cv_results_, gsearch3.best_params_, gsearch3.best_score_"
      ],
      "execution_count": 0,
      "outputs": [
        {
          "output_type": "stream",
          "text": [
            "/usr/local/lib/python3.6/dist-packages/joblib/externals/loky/process_executor.py:706: UserWarning: A worker stopped while some jobs were given to the executor. This can be caused by a too short worker timeout or by a memory leak.\n",
            "  \"timeout or by a memory leak.\", UserWarning\n"
          ],
          "name": "stderr"
        },
        {
          "output_type": "execute_result",
          "data": {
            "text/plain": [
              "({'mean_fit_time': array([47.49727011, 47.2707448 , 48.07068272, 47.39015265, 40.07052107]),\n",
              "  'mean_score_time': array([0.27556677, 0.29387054, 0.32614532, 0.32801895, 0.23794079]),\n",
              "  'mean_test_score': array([0.84110102, 0.84036035, 0.84031526, 0.84122602, 0.84118578]),\n",
              "  'param_gamma': masked_array(data=[0.0, 0.1, 0.2, 0.3, 0.4],\n",
              "               mask=[False, False, False, False, False],\n",
              "         fill_value='?',\n",
              "              dtype=object),\n",
              "  'params': [{'gamma': 0.0},\n",
              "   {'gamma': 0.1},\n",
              "   {'gamma': 0.2},\n",
              "   {'gamma': 0.3},\n",
              "   {'gamma': 0.4}],\n",
              "  'rank_test_score': array([3, 4, 5, 1, 2], dtype=int32),\n",
              "  'split0_test_score': array([0.83215149, 0.83173166, 0.83263534, 0.83289281, 0.83247105]),\n",
              "  'split1_test_score': array([0.83380838, 0.83124576, 0.82956383, 0.83183605, 0.83257749]),\n",
              "  'split2_test_score': array([0.84810113, 0.84752407, 0.84802624, 0.84749422, 0.84808912]),\n",
              "  'split3_test_score': array([0.84763098, 0.84826002, 0.84781889, 0.84876727, 0.84917063]),\n",
              "  'split4_test_score': array([0.84381312, 0.84304025, 0.843532  , 0.84513973, 0.84362062]),\n",
              "  'std_fit_time': array([ 0.9387638 ,  1.56868904,  0.26385679,  0.96054522, 11.21632884]),\n",
              "  'std_score_time': array([0.0353729 , 0.04076127, 0.05617351, 0.02778982, 0.11455302]),\n",
              "  'std_test_score': array([0.00681578, 0.00746238, 0.00775481, 0.0073361 , 0.00731289])},\n",
              " {'gamma': 0.3},\n",
              " 0.8412260158158682)"
            ]
          },
          "metadata": {
            "tags": []
          },
          "execution_count": 48
        }
      ]
    },
    {
      "cell_type": "code",
      "metadata": {
        "id": "ybXCf6qr7DFr",
        "colab_type": "code",
        "outputId": "800f8929-0edb-4bce-f617-2e005dee959e",
        "colab": {
          "base_uri": "https://localhost:8080/",
          "height": 462
        }
      },
      "source": [
        "# best params for max_Depth and min_child_weight are 4 and 6 respectively. This is the example i am trying on analyticsvidya\n",
        "# https://www.analyticsvidhya.com/blog/2016/03/complete-guide-parameter-tuning-xgboost-with-codes-python/\n",
        "param_test3 = {\n",
        " 'gamma':[i/10.0 for i in range(0,5)]\n",
        "}\n",
        "gsearch3 = GridSearchCV(estimator = XGBClassifier( learning_rate =0.1, n_estimators=140, max_depth=4,\n",
        " min_child_weight=6, gamma=0, subsample=0.8, colsample_bytree=0.8,\n",
        " objective= 'binary:logistic', nthread=4, scale_pos_weight=1,seed=27), \n",
        " param_grid = param_test3, scoring='roc_auc',n_jobs=4,iid=False, cv=5)\n",
        "gsearch3.fit(train[predictors],train[target])\n",
        "gsearch3.cv_results_, gsearch3.best_params_, gsearch3.best_score_"
      ],
      "execution_count": 0,
      "outputs": [
        {
          "output_type": "stream",
          "text": [
            "/usr/local/lib/python3.6/dist-packages/joblib/externals/loky/process_executor.py:706: UserWarning: A worker stopped while some jobs were given to the executor. This can be caused by a too short worker timeout or by a memory leak.\n",
            "  \"timeout or by a memory leak.\", UserWarning\n"
          ],
          "name": "stderr"
        },
        {
          "output_type": "execute_result",
          "data": {
            "text/plain": [
              "({'mean_fit_time': array([46.67189741, 47.48925209, 46.80876336, 47.39302464, 41.41357579]),\n",
              "  'mean_score_time': array([0.32437773, 0.30959983, 0.27833805, 0.32396579, 0.24461002]),\n",
              "  'mean_test_score': array([0.83943053, 0.84018797, 0.83977288, 0.83984317, 0.84050145]),\n",
              "  'param_gamma': masked_array(data=[0.0, 0.1, 0.2, 0.3, 0.4],\n",
              "               mask=[False, False, False, False, False],\n",
              "         fill_value='?',\n",
              "              dtype=object),\n",
              "  'params': [{'gamma': 0.0},\n",
              "   {'gamma': 0.1},\n",
              "   {'gamma': 0.2},\n",
              "   {'gamma': 0.3},\n",
              "   {'gamma': 0.4}],\n",
              "  'rank_test_score': array([5, 2, 4, 3, 1], dtype=int32),\n",
              "  'split0_test_score': array([0.83112251, 0.83245241, 0.83292083, 0.83066175, 0.83183159]),\n",
              "  'split1_test_score': array([0.83244875, 0.83311908, 0.83028549, 0.83439204, 0.8336466 ]),\n",
              "  'split2_test_score': array([0.84664743, 0.84747993, 0.84643054, 0.84642859, 0.84728807]),\n",
              "  'split3_test_score': array([0.84566993, 0.84788523, 0.84795571, 0.84579815, 0.84801919]),\n",
              "  'split4_test_score': array([0.84126402, 0.84000318, 0.84127182, 0.8419353 , 0.84172179]),\n",
              "  'std_fit_time': array([ 1.70187725,  0.20635441,  1.23883418,  0.3040347 , 11.01657644]),\n",
              "  'std_score_time': array([0.04006084, 0.02965448, 0.03270683, 0.01204223, 0.12489378]),\n",
              "  'std_test_score': array([0.00651374, 0.00666728, 0.00707801, 0.00628044, 0.00672636])},\n",
              " {'gamma': 0.4},\n",
              " 0.8405014490604934)"
            ]
          },
          "metadata": {
            "tags": []
          },
          "execution_count": 49
        }
      ]
    },
    {
      "cell_type": "code",
      "metadata": {
        "id": "S-3OWYl19TJT",
        "colab_type": "code",
        "outputId": "6d55c2f1-2418-4b25-bb33-76d364f344db",
        "colab": {
          "base_uri": "https://localhost:8080/",
          "height": 507
        }
      },
      "source": [
        "xgb2 = XGBClassifier(\n",
        " learning_rate =0.1,\n",
        " n_estimators=1000,\n",
        " max_depth=4,\n",
        " min_child_weight=4,\n",
        " gamma=0.3,\n",
        " subsample=0.8,\n",
        " colsample_bytree=0.8,\n",
        " objective= 'binary:logistic',\n",
        " nthread=4,\n",
        " scale_pos_weight=1,\n",
        " seed=27)\n",
        "modelfit(xgb2, train, predictors)"
      ],
      "execution_count": 0,
      "outputs": [
        {
          "output_type": "stream",
          "text": [
            "\n",
            "Model Report\n",
            "Accuracy : 0.9854\n",
            "AUC Score (Train): 0.889393\n"
          ],
          "name": "stdout"
        },
        {
          "output_type": "display_data",
          "data": {
            "image/png": "[encoded data removed]",
            "text/plain": [
              "<Figure size 864x288 with 1 Axes>"
            ]
          },
          "metadata": {
            "tags": []
          }
        }
      ]
    },
    {
      "cell_type": "markdown",
      "metadata": {
        "id": "4sPfdoo9BYBE",
        "colab_type": "text"
      },
      "source": [
        "<font color=brown size = 6>\n",
        "  Best Parameters\n",
        "  </font> <br>\n",
        "<font color=brown size = 4>\n",
        "max_depth: 4\n",
        "<br>\n",
        "min_child_weight: 6\n",
        "<br>\n",
        "gamma: 0\n",
        "  <br>\n",
        "  </font>\n",
        "  <font color=green size=7>\n",
        "    Step 4: Tune subsample and colsample_bytree\n",
        "    <br></font>\n",
        "  <font color=blue size=4>\n",
        "The next step would be try different subsample and colsample_bytree values. Lets do this in 2 stages as well and take values 0.6,0.7,0.8,0.9 for both to start with."
      ]
    },
    {
      "cell_type": "code",
      "metadata": {
        "id": "MYLmRhxXAP0d",
        "colab_type": "code",
        "outputId": "47d06726-b243-4ebb-a5e6-1a5498a04624",
        "colab": {
          "base_uri": "https://localhost:8080/",
          "height": 1000
        }
      },
      "source": [
        "param_test4 = {\n",
        " 'subsample':[i/10.0 for i in range(6,10)],\n",
        " 'colsample_bytree':[i/10.0 for i in range(6,10)]\n",
        "}\n",
        "gsearch4 = GridSearchCV(estimator = XGBClassifier( learning_rate =0.1, n_estimators=177, max_depth=4,\n",
        " min_child_weight=4, gamma=0.3, subsample=0.8, colsample_bytree=0.8,\n",
        " objective= 'binary:logistic', nthread=4, scale_pos_weight=1,seed=27), \n",
        " param_grid = param_test4, scoring='roc_auc',n_jobs=4,iid=False, cv=5)\n",
        "gsearch4.fit(train[predictors],train[target])\n",
        "gsearch4.cv_results_, gsearch4.best_params_, gsearch4.best_score_"
      ],
      "execution_count": 0,
      "outputs": [
        {
          "output_type": "stream",
          "text": [
            "/usr/local/lib/python3.6/dist-packages/joblib/externals/loky/process_executor.py:706: UserWarning: A worker stopped while some jobs were given to the executor. This can be caused by a too short worker timeout or by a memory leak.\n",
            "  \"timeout or by a memory leak.\", UserWarning\n"
          ],
          "name": "stderr"
        },
        {
          "output_type": "execute_result",
          "data": {
            "text/plain": [
              "({'mean_fit_time': array([49.95533524, 50.69778557, 49.17524104, 46.57688589, 58.36243405,\n",
              "         56.34013071, 52.66266804, 51.88854642, 63.5693933 , 61.53249164,\n",
              "         58.64327011, 56.63463016, 67.88152819, 66.60988498, 64.47620034,\n",
              "         61.32991128]),\n",
              "  'mean_score_time': array([0.31682539, 0.36812005, 0.35237112, 0.36269374, 0.40606256,\n",
              "         0.34689074, 0.34520073, 0.40024915, 0.36819401, 0.37486248,\n",
              "         0.3380897 , 0.37756791, 0.39696684, 0.37049079, 0.36098828,\n",
              "         0.28129668]),\n",
              "  'mean_test_score': array([0.83928837, 0.8395713 , 0.83895086, 0.8404917 , 0.83865809,\n",
              "         0.83924369, 0.83996767, 0.84000309, 0.83843279, 0.84027534,\n",
              "         0.8410694 , 0.84078762, 0.83904113, 0.83837859, 0.8403183 ,\n",
              "         0.84023111]),\n",
              "  'param_colsample_bytree': masked_array(data=[0.6, 0.6, 0.6, 0.6, 0.7, 0.7, 0.7, 0.7, 0.8, 0.8, 0.8,\n",
              "                     0.8, 0.9, 0.9, 0.9, 0.9],\n",
              "               mask=[False, False, False, False, False, False, False, False,\n",
              "                     False, False, False, False, False, False, False, False],\n",
              "         fill_value='?',\n",
              "              dtype=object),\n",
              "  'param_subsample': masked_array(data=[0.6, 0.7, 0.8, 0.9, 0.6, 0.7, 0.8, 0.9, 0.6, 0.7, 0.8,\n",
              "                     0.9, 0.6, 0.7, 0.8, 0.9],\n",
              "               mask=[False, False, False, False, False, False, False, False,\n",
              "                     False, False, False, False, False, False, False, False],\n",
              "         fill_value='?',\n",
              "              dtype=object),\n",
              "  'params': [{'colsample_bytree': 0.6, 'subsample': 0.6},\n",
              "   {'colsample_bytree': 0.6, 'subsample': 0.7},\n",
              "   {'colsample_bytree': 0.6, 'subsample': 0.8},\n",
              "   {'colsample_bytree': 0.6, 'subsample': 0.9},\n",
              "   {'colsample_bytree': 0.7, 'subsample': 0.6},\n",
              "   {'colsample_bytree': 0.7, 'subsample': 0.7},\n",
              "   {'colsample_bytree': 0.7, 'subsample': 0.8},\n",
              "   {'colsample_bytree': 0.7, 'subsample': 0.9},\n",
              "   {'colsample_bytree': 0.8, 'subsample': 0.6},\n",
              "   {'colsample_bytree': 0.8, 'subsample': 0.7},\n",
              "   {'colsample_bytree': 0.8, 'subsample': 0.8},\n",
              "   {'colsample_bytree': 0.8, 'subsample': 0.9},\n",
              "   {'colsample_bytree': 0.9, 'subsample': 0.6},\n",
              "   {'colsample_bytree': 0.9, 'subsample': 0.7},\n",
              "   {'colsample_bytree': 0.9, 'subsample': 0.8},\n",
              "   {'colsample_bytree': 0.9, 'subsample': 0.9}],\n",
              "  'rank_test_score': array([10,  9, 13,  3, 14, 11,  8,  7, 15,  5,  1,  2, 12, 16,  4,  6],\n",
              "        dtype=int32),\n",
              "  'split0_test_score': array([0.83558875, 0.8288209 , 0.82965243, 0.82980426, 0.826296  ,\n",
              "         0.82879815, 0.83090859, 0.83088035, 0.82546161, 0.83286686,\n",
              "         0.83285726, 0.83493329, 0.82728531, 0.82801166, 0.82990133,\n",
              "         0.83116367]),\n",
              "  'split1_test_score': array([0.82547968, 0.83273664, 0.83229898, 0.83166055, 0.83152461,\n",
              "         0.83036117, 0.83631944, 0.82872349, 0.83482376, 0.83461705,\n",
              "         0.83247299, 0.82769188, 0.83497182, 0.83262379, 0.83286377,\n",
              "         0.83077642]),\n",
              "  'split2_test_score': array([0.84819855, 0.84619488, 0.84665121, 0.85050852, 0.84884387,\n",
              "         0.84679722, 0.84477481, 0.84930694, 0.8451719 , 0.84811142,\n",
              "         0.84913177, 0.8506782 , 0.84548873, 0.8451886 , 0.84813612,\n",
              "         0.84701835]),\n",
              "  'split3_test_score': array([0.84926063, 0.84905435, 0.84617087, 0.8476863 , 0.8500731 ,\n",
              "         0.84981609, 0.84832625, 0.84787995, 0.84713142, 0.84648137,\n",
              "         0.84824441, 0.8463209 , 0.84731933, 0.84852334, 0.84897216,\n",
              "         0.84867142]),\n",
              "  'split4_test_score': array([0.83791427, 0.84104971, 0.8399808 , 0.84279885, 0.83655288,\n",
              "         0.84044581, 0.83950925, 0.84322471, 0.83957525, 0.83929999,\n",
              "         0.84264056, 0.84431383, 0.84014047, 0.83754557, 0.84171812,\n",
              "         0.84352569]),\n",
              "  'std_fit_time': array([1.42958308, 1.24044815, 0.27230738, 0.89877718, 0.78255838,\n",
              "         0.33928287, 2.31918484, 0.66892488, 0.21582008, 0.34737665,\n",
              "         0.32293666, 0.52717573, 0.24714955, 1.22664724, 0.52472789,\n",
              "         1.68073282]),\n",
              "  'std_score_time': array([0.0400639 , 0.08903123, 0.06242273, 0.05149272, 0.05297354,\n",
              "         0.08108455, 0.08356909, 0.04021318, 0.08128983, 0.07056049,\n",
              "         0.06760291, 0.0421633 , 0.09743551, 0.05953405, 0.04959106,\n",
              "         0.159406  ]),\n",
              "  'std_test_score': array([0.00877602, 0.00772359, 0.00697414, 0.00836221, 0.00940417,\n",
              "         0.00846504, 0.00614103, 0.0085958 , 0.00779312, 0.00612817,\n",
              "         0.0072151 , 0.00832642, 0.00729475, 0.00762335, 0.00777239,\n",
              "         0.00774299])},\n",
              " {'colsample_bytree': 0.8, 'subsample': 0.8},\n",
              " 0.8410693964666158)"
            ]
          },
          "metadata": {
            "tags": []
          },
          "execution_count": 51
        }
      ]
    },
    {
      "cell_type": "markdown",
      "metadata": {
        "id": "JLrn03EHJtMN",
        "colab_type": "text"
      },
      "source": [
        "<font color=brown size=5> \n",
        "Here, we found  **0.8 as the optimum value** for both subsample and colsample_bytree. Now we should try values in 0.05 interval around these."
      ]
    },
    {
      "cell_type": "code",
      "metadata": {
        "id": "Xqjzi13PCDQA",
        "colab_type": "code",
        "outputId": "8693fe6d-cf54-461b-bd10-9b78c3929068",
        "colab": {
          "base_uri": "https://localhost:8080/"
        }
      },
      "source": [
        "param_test5 = {\n",
        " 'subsample':[i/100.0 for i in range(75,90,5)],\n",
        " 'colsample_bytree':[i/100.0 for i in range(75,90,5)]\n",
        "}\n",
        "gsearch5 = GridSearchCV(estimator = XGBClassifier( learning_rate =0.1, n_estimators=177, max_depth=4,\n",
        " min_child_weight=4, gamma=0.3, subsample=0.8, colsample_bytree=0.8,\n",
        " objective= 'binary:logistic', nthread=4, scale_pos_weight=1,seed=27), \n",
        " param_grid = param_test5, scoring='roc_auc',n_jobs=4,iid=False, cv=5)\n",
        "gsearch5.fit(train[predictors],train[target])"
      ],
      "execution_count": 0,
      "outputs": [
        {
          "output_type": "stream",
          "text": [
            "/usr/local/lib/python3.6/dist-packages/joblib/externals/loky/process_executor.py:706: UserWarning: A worker stopped while some jobs were given to the executor. This can be caused by a too short worker timeout or by a memory leak.\n",
            "  \"timeout or by a memory leak.\", UserWarning\n"
          ],
          "name": "stderr"
        },
        {
          "output_type": "execute_result",
          "data": {
            "text/plain": [
              "GridSearchCV(cv=5, error_score='raise-deprecating',\n",
              "             estimator=XGBClassifier(base_score=0.5, booster='gbtree',\n",
              "                                     colsample_bylevel=1, colsample_bynode=1,\n",
              "                                     colsample_bytree=0.8, gamma=0.3,\n",
              "                                     learning_rate=0.1, max_delta_step=0,\n",
              "                                     max_depth=4, min_child_weight=4,\n",
              "                                     missing=None, n_estimators=177, n_jobs=1,\n",
              "                                     nthread=4, objective='binary:logistic',\n",
              "                                     random_state=0, reg_alpha=0, reg_lambda=1,\n",
              "                                     scale_pos_weight=1, seed=27, silent=None,\n",
              "                                     subsample=0.8, verbosity=1),\n",
              "             iid=False, n_jobs=4,\n",
              "             param_grid={'colsample_bytree': [0.75, 0.8, 0.85],\n",
              "                         'subsample': [0.75, 0.8, 0.85]},\n",
              "             pre_dispatch='2*n_jobs', refit=True, return_train_score=False,\n",
              "             scoring='roc_auc', verbose=0)"
            ]
          },
          "metadata": {
            "tags": []
          },
          "execution_count": 52
        }
      ]
    },
    {
      "cell_type": "markdown",
      "metadata": {
        "id": "DZGxa8W7PFAG",
        "colab_type": "text"
      },
      "source": [
        "<font color=red size = 6>\n",
        "  Step 5: Tuning Regularization Parameters\n",
        "  <br></font>\n",
        "  <font color=blue size = 4>\n",
        "Next step is to apply regularization to reduce overfitting. Though many people don’t use this parameters much as gamma provides a substantial way of controlling complexity. But we should always try it. I’ll tune ‘reg_alpha’ value here and leave it upto you to try different values of ‘reg_lambda’"
      ]
    },
    {
      "cell_type": "code",
      "metadata": {
        "id": "KSeApiMZKM_5",
        "colab_type": "code",
        "outputId": "1130aef2-6750-4a6e-dbe6-f5e7ac5f69aa",
        "colab": {
          "base_uri": "https://localhost:8080/"
        }
      },
      "source": [
        "param_test6 = {\n",
        " 'reg_alpha':[1e-5, 1e-2, 0.1, 1, 100]\n",
        "}\n",
        "gsearch6 = GridSearchCV(estimator = XGBClassifier( learning_rate =0.1, n_estimators=177, max_depth=4,\n",
        " min_child_weight=4, gamma=0.3, subsample=0.8, colsample_bytree=0.8,\n",
        " objective= 'binary:logistic', nthread=4, scale_pos_weight=1,seed=27), \n",
        " param_grid = param_test6, scoring='roc_auc',n_jobs=4,iid=False, cv=5)\n",
        "gsearch6.fit(train[predictors],train[target])\n",
        "gsearch6.cv_results_, gsearch6.best_params_, gsearch6.best_score_"
      ],
      "execution_count": 0,
      "outputs": [
        {
          "output_type": "stream",
          "text": [
            "/usr/local/lib/python3.6/dist-packages/joblib/externals/loky/process_executor.py:706: UserWarning: A worker stopped while some jobs were given to the executor. This can be caused by a too short worker timeout or by a memory leak.\n",
            "  \"timeout or by a memory leak.\", UserWarning\n"
          ],
          "name": "stderr"
        },
        {
          "output_type": "execute_result",
          "data": {
            "text/plain": [
              "({'mean_fit_time': array([58.18907304, 58.26217022, 58.71261554, 57.94627852, 36.95528393]),\n",
              "  'mean_score_time': array([0.37221336, 0.39519606, 0.41263733, 0.34362345, 0.13111157]),\n",
              "  'mean_test_score': array([0.84106949, 0.83978985, 0.84119793, 0.84065635, 0.81213181]),\n",
              "  'param_reg_alpha': masked_array(data=[1e-05, 0.01, 0.1, 1, 100],\n",
              "               mask=[False, False, False, False, False],\n",
              "         fill_value='?',\n",
              "              dtype=object),\n",
              "  'params': [{'reg_alpha': 1e-05},\n",
              "   {'reg_alpha': 0.01},\n",
              "   {'reg_alpha': 0.1},\n",
              "   {'reg_alpha': 1},\n",
              "   {'reg_alpha': 100}],\n",
              "  'rank_test_score': array([2, 4, 1, 3, 5], dtype=int32),\n",
              "  'split0_test_score': array([0.83285737, 0.83027908, 0.83356428, 0.82913668, 0.7913626 ]),\n",
              "  'split1_test_score': array([0.8324731 , 0.83183353, 0.83616441, 0.83543452, 0.79499514]),\n",
              "  'split2_test_score': array([0.84913189, 0.84945112, 0.84878316, 0.84866402, 0.82065861]),\n",
              "  'split3_test_score': array([0.84824441, 0.84731405, 0.8469194 , 0.84874649, 0.83340056]),\n",
              "  'split4_test_score': array([0.84264067, 0.84007148, 0.84055841, 0.84130006, 0.82024215]),\n",
              "  'std_fit_time': array([ 1.30550959,  1.0729931 ,  0.68676621,  0.61700752, 11.3974661 ]),\n",
              "  'std_score_time': array([0.03252149, 0.03678236, 0.05652083, 0.03995948, 0.07019355]),\n",
              "  'std_test_score': array([0.00721508, 0.00779475, 0.00590405, 0.00761522, 0.01622263])},\n",
              " {'reg_alpha': 0.1},\n",
              " 0.8411979330536756)"
            ]
          },
          "metadata": {
            "tags": []
          },
          "execution_count": 53
        }
      ]
    },
    {
      "cell_type": "markdown",
      "metadata": {
        "id": "TJcMZVewayVS",
        "colab_type": "text"
      },
      "source": [
        "<font color=green size = 5> \n",
        " We can see that the CV score is less than the previous case. But the values tried are very widespread, we should try values closer to the optimum here (0.01) to see if we get something better."
      ]
    },
    {
      "cell_type": "code",
      "metadata": {
        "id": "L5o3Sec3PVKB",
        "colab_type": "code",
        "outputId": "d93a7b2c-d96a-4f98-8fd2-5f4d1c9f4c88",
        "colab": {
          "base_uri": "https://localhost:8080/"
        }
      },
      "source": [
        "param_test7 = {\n",
        " 'reg_alpha':[0, 0.001, 0.005, 0.01, 0.05]\n",
        "}\n",
        "gsearch7 = GridSearchCV(estimator = XGBClassifier( learning_rate =0.1, n_estimators=177, max_depth=4,\n",
        " min_child_weight=4, gamma=0.3, subsample=0.8, colsample_bytree=0.8,\n",
        " objective= 'binary:logistic', nthread=4, scale_pos_weight=1,seed=27), \n",
        " param_grid = param_test7, scoring='roc_auc',n_jobs=4,iid=False, cv=5)\n",
        "gsearch7.fit(train[predictors],train[target])\n",
        "gsearch7.cv_results_, gsearch7.best_params_, gsearch7.best_score_"
      ],
      "execution_count": 0,
      "outputs": [
        {
          "output_type": "stream",
          "text": [
            "/usr/local/lib/python3.6/dist-packages/joblib/externals/loky/process_executor.py:706: UserWarning: A worker stopped while some jobs were given to the executor. This can be caused by a too short worker timeout or by a memory leak.\n",
            "  \"timeout or by a memory leak.\", UserWarning\n"
          ],
          "name": "stderr"
        },
        {
          "output_type": "execute_result",
          "data": {
            "text/plain": [
              "({'mean_fit_time': array([59.14332581, 58.09078369, 59.22506638, 59.53588786, 51.27669492]),\n",
              "  'mean_score_time': array([0.35129151, 0.35158367, 0.36532936, 0.36590495, 0.2448349 ]),\n",
              "  'mean_test_score': array([0.8410694 , 0.84083323, 0.83967301, 0.83978985, 0.84007743]),\n",
              "  'param_reg_alpha': masked_array(data=[0, 0.001, 0.005, 0.01, 0.05],\n",
              "               mask=[False, False, False, False, False],\n",
              "         fill_value='?',\n",
              "              dtype=object),\n",
              "  'params': [{'reg_alpha': 0},\n",
              "   {'reg_alpha': 0.001},\n",
              "   {'reg_alpha': 0.005},\n",
              "   {'reg_alpha': 0.01},\n",
              "   {'reg_alpha': 0.05}],\n",
              "  'rank_test_score': array([1, 2, 5, 4, 3], dtype=int32),\n",
              "  'split0_test_score': array([0.83285726, 0.83354851, 0.8298492 , 0.83027908, 0.83001463]),\n",
              "  'split1_test_score': array([0.83247299, 0.83247562, 0.83037821, 0.83183353, 0.83266347]),\n",
              "  'split2_test_score': array([0.84913177, 0.8491336 , 0.84939407, 0.84945112, 0.84938652]),\n",
              "  'split3_test_score': array([0.84824441, 0.84824257, 0.84772924, 0.84731405, 0.84739348]),\n",
              "  'split4_test_score': array([0.84264056, 0.84076584, 0.84101435, 0.84007148, 0.84092906]),\n",
              "  'std_fit_time': array([ 0.62283427,  0.65502389,  1.38041267,  0.49600614, 15.27284   ]),\n",
              "  'std_score_time': array([0.05509355, 0.03426889, 0.08229558, 0.02119246, 0.12172723]),\n",
              "  'std_test_score': array([0.0072151 , 0.00702447, 0.0082958 , 0.00779475, 0.0077089 ])},\n",
              " {'reg_alpha': 0},\n",
              " 0.8410693964666158)"
            ]
          },
          "metadata": {
            "tags": []
          },
          "execution_count": 54
        }
      ]
    },
    {
      "cell_type": "markdown",
      "metadata": {
        "id": "07D8wI9ji_pI",
        "colab_type": "text"
      },
      "source": [
        "# You can see that we got a better CV. Now we can apply this regularization in the model and look at the impact:"
      ]
    },
    {
      "cell_type": "code",
      "metadata": {
        "id": "DN9JtEdcbNo4",
        "colab_type": "code",
        "outputId": "5a0939e4-0245-45c0-d179-921d00e0051a",
        "colab": {
          "base_uri": "https://localhost:8080/"
        }
      },
      "source": [
        "xgb3 = XGBClassifier(\n",
        " learning_rate =0.1,\n",
        " n_estimators=1000,\n",
        " max_depth=4,\n",
        " min_child_weight=4,\n",
        " gamma=0.3,\n",
        " subsample=0.8,\n",
        " colsample_bytree=0.8,\n",
        " reg_alpha=0.005,\n",
        " objective= 'binary:logistic',\n",
        " nthread=4,\n",
        " scale_pos_weight=1,\n",
        " seed=27)\n",
        "modelfit(xgb3, train, predictors)"
      ],
      "execution_count": 0,
      "outputs": [
        {
          "output_type": "stream",
          "text": [
            "\n",
            "Model Report\n",
            "Accuracy : 0.9854\n",
            "AUC Score (Train): 0.890313\n"
          ],
          "name": "stdout"
        },
        {
          "output_type": "display_data",
          "data": {
            "image/png": "[encoded data removed]",
            "text/plain": [
              "<Figure size 864x288 with 1 Axes>"
            ]
          },
          "metadata": {
            "tags": []
          }
        }
      ]
    },
    {
      "cell_type": "markdown",
      "metadata": {
        "id": "WYV_jQAgkDuX",
        "colab_type": "text"
      },
      "source": [
        "<font color=blue size=6> \n",
        "Step 6: Reducing Learning Rate\n",
        "  <br></font>\n",
        "  <font color=brown size=5> \n",
        "Lastly, we should lower the learning rate and add more trees. Lets use the cv function of XGBoost to do the job again."
      ]
    },
    {
      "cell_type": "code",
      "metadata": {
        "id": "m9J5Jp5pjLRS",
        "colab_type": "code",
        "outputId": "aa01b667-f293-4553-c5e2-ced75a59d169",
        "colab": {
          "base_uri": "https://localhost:8080/"
        }
      },
      "source": [
        "xgb4 = XGBClassifier(\n",
        " learning_rate =0.01,\n",
        " n_estimators=5000,\n",
        " max_depth=4,\n",
        " min_child_weight=4,\n",
        " gamma=0.3,\n",
        " subsample=0.8,\n",
        " colsample_bytree=0.8,\n",
        " reg_alpha=0.005,\n",
        " objective= 'binary:logistic',\n",
        " nthread=4,\n",
        " scale_pos_weight=1,\n",
        " seed=27)\n",
        "modelfit(xgb4, train, predictors)"
      ],
      "execution_count": 0,
      "outputs": [
        {
          "output_type": "stream",
          "text": [
            "\n",
            "Model Report\n",
            "Accuracy : 0.9854\n",
            "AUC Score (Train): 0.884500\n"
          ],
          "name": "stdout"
        },
        {
          "output_type": "display_data",
          "data": {
            "image/png": "[encoded data removed]",
            "text/plain": [
              "<Figure size 864x288 with 1 Axes>"
            ]
          },
          "metadata": {
            "tags": []
          }
        }
      ]
    },
    {
      "cell_type": "code",
      "metadata": {
        "id": "JwrwmKb_kgzs",
        "colab_type": "code",
        "colab": {}
      },
      "source": [
        ""
      ],
      "execution_count": 0,
      "outputs": []
    }
  ]
}