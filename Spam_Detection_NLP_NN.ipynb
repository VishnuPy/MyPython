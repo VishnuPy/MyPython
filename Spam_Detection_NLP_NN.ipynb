{
  "nbformat": 4,
  "nbformat_minor": 0,
  "metadata": {
    "colab": {
      "name": "Spam_Detection_NLP_NN.ipynb",
      "provenance": [],
      "collapsed_sections": [],
      "include_colab_link": true
    },
    "kernelspec": {
      "name": "python3",
      "display_name": "Python 3"
    },
    "accelerator": "GPU"
  },
  "cells": [
    {
      "cell_type": "markdown",
      "metadata": {
        "id": "view-in-github",
        "colab_type": "text"
      },
      "source": [
        "<a href=\"https://colab.research.google.com/github/VishnuPy/MyPython/blob/master/Spam_Detection_NLP_NN.ipynb\" target=\"_parent\"><img src=\"https://colab.research.google.com/assets/colab-badge.svg\" alt=\"Open In Colab\"/></a>"
      ]
    },
    {
      "cell_type": "code",
      "metadata": {
        "id": "hX6q1zxBHUNJ",
        "colab_type": "code",
        "outputId": "777e5d5c-b3af-4808-ff14-2a2b7950d5c0",
        "colab": {
          "base_uri": "https://localhost:8080/",
          "height": 219
        }
      },
      "source": [
        "import tensorflow as tf\n",
        "device_name = tf.test.gpu_device_name()\n",
        "if device_name != '/device:GPU:0':\n",
        "  raise SystemError('GPU device not found')\n",
        "print('Found GPU at: {}'.format(device_name))\n",
        "\n",
        "from google.colab import drive\n",
        "drive.mount('/gdrive')\n",
        "%cd /gdrive\n",
        "%ls"
      ],
      "execution_count": 0,
      "outputs": [
        {
          "output_type": "display_data",
          "data": {
            "text/html": [
              "<p style=\"color: red;\">\n",
              "The default version of TensorFlow in Colab will soon switch to TensorFlow 2.x.<br>\n",
              "We recommend you <a href=\"https://www.tensorflow.org/guide/migrate\" target=\"_blank\">upgrade</a> now \n",
              "or ensure your notebook will continue to use TensorFlow 1.x via the <code>%tensorflow_version 1.x</code> magic:\n",
              "<a href=\"https://colab.research.google.com/notebooks/tensorflow_version.ipynb\" target=\"_blank\">more info</a>.</p>\n"
            ],
            "text/plain": [
              "<IPython.core.display.HTML object>"
            ]
          },
          "metadata": {
            "tags": []
          }
        },
        {
          "output_type": "stream",
          "text": [
            "Found GPU at: /device:GPU:0\n",
            "Go to this URL in a browser: https://accounts.google.com/o/oauth2/auth?client_id=947318989803-6bn6qk8qdgf4n4g3pfee6491hc0brc4i.apps.googleusercontent.com&redirect_uri=urn%3Aietf%3Awg%3Aoauth%3A2.0%3Aoob&scope=email%20https%3A%2F%2Fwww.googleapis.com%2Fauth%2Fdocs.test%20https%3A%2F%2Fwww.googleapis.com%2Fauth%2Fdrive%20https%3A%2F%2Fwww.googleapis.com%2Fauth%2Fdrive.photos.readonly%20https%3A%2F%2Fwww.googleapis.com%2Fauth%2Fpeopleapi.readonly&response_type=code\n",
            "\n",
            "Enter your authorization code:\n",
            "··········\n",
            "Mounted at /gdrive\n",
            "/gdrive\n",
            "\u001b[0m\u001b[01;34m'My Drive'\u001b[0m/\n"
          ],
          "name": "stdout"
        }
      ]
    },
    {
      "cell_type": "code",
      "metadata": {
        "id": "ZqWgVXAfHuJP",
        "colab_type": "code",
        "outputId": "5ebbeab9-5794-49f9-c769-4ffd472e2549",
        "colab": {
          "base_uri": "https://localhost:8080/",
          "height": 119
        }
      },
      "source": [
        "import tensorflow as tf\n",
        "import timeit\n",
        "\n",
        "# See https://www.tensorflow.org/tutorials/using_gpu#allowing_gpu_memory_growth\n",
        "config = tf.ConfigProto()\n",
        "config.gpu_options.allow_growth = True\n",
        "\n",
        "with tf.device('/cpu:0'):\n",
        "  random_image_cpu = tf.random_normal((100, 100, 100, 3))\n",
        "  net_cpu = tf.layers.conv2d(random_image_cpu, 32, 7)\n",
        "  net_cpu = tf.reduce_sum(net_cpu)\n",
        "\n",
        "with tf.device('/gpu:0'):\n",
        "  random_image_gpu = tf.random_normal((100, 100, 100, 3))\n",
        "  net_gpu = tf.layers.conv2d(random_image_gpu, 32, 7)\n",
        "  net_gpu = tf.reduce_sum(net_gpu)\n",
        "\n",
        "sess = tf.Session(config=config)\n",
        "\n",
        "# Test execution once to detect errors early.\n",
        "try:\n",
        "  sess.run(tf.global_variables_initializer())\n",
        "except tf.errors.InvalidArgumentError:\n",
        "  print(\n",
        "      '\\n\\nThis error most likely means that this notebook is not '\n",
        "      'configured to use a GPU.  Change this in Notebook Settings via the '\n",
        "      'command palette (cmd/ctrl-shift-P) or the Edit menu.\\n\\n')\n",
        "  raise\n",
        "\n",
        "def cpu():\n",
        "  sess.run(net_cpu)\n",
        "  \n",
        "def gpu():\n",
        "  sess.run(net_gpu)\n",
        "  \n",
        "# Runs the op several times.\n",
        "print('Time (s) to convolve 32x7x7x3 filter over random 100x100x100x3 images '\n",
        "      '(batch x height x width x channel). Sum of ten runs.')\n",
        "print('CPU (s):')\n",
        "cpu_time = timeit.timeit('cpu()', number=10, setup=\"from __main__ import cpu\")\n",
        "print(cpu_time)\n",
        "print('GPU (s):')\n",
        "gpu_time = timeit.timeit('gpu()', number=10, setup=\"from __main__ import gpu\")\n",
        "print(gpu_time)\n",
        "print('GPU speedup over CPU: {}x'.format(int(cpu_time/gpu_time)))"
      ],
      "execution_count": 0,
      "outputs": [
        {
          "output_type": "stream",
          "text": [
            "Time (s) to convolve 32x7x7x3 filter over random 100x100x100x3 images (batch x height x width x channel). Sum of ten runs.\n",
            "CPU (s):\n",
            "3.5289264630000616\n",
            "GPU (s):\n",
            "0.19278506199998446\n",
            "GPU speedup over CPU: 18x\n"
          ],
          "name": "stdout"
        }
      ]
    },
    {
      "cell_type": "code",
      "metadata": {
        "id": "SilBn2HsJSZF",
        "colab_type": "code",
        "outputId": "59eaebbf-9065-4275-842c-fc508e2d1dcd",
        "colab": {
          "base_uri": "https://localhost:8080/",
          "height": 34
        }
      },
      "source": [
        "from keras.preprocessing.text import Tokenizer\n",
        "from keras import models\n",
        "from keras import layers\n",
        "from numpy import zeros\n",
        "from random import shuffle\n",
        "from random import seed\n",
        "from matplotlib import pyplot"
      ],
      "execution_count": 0,
      "outputs": [
        {
          "output_type": "stream",
          "text": [
            "Using TensorFlow backend.\n"
          ],
          "name": "stderr"
        }
      ]
    },
    {
      "cell_type": "markdown",
      "metadata": {
        "id": "6XGDIAy-RneX",
        "colab_type": "text"
      },
      "source": [
        "<font color=brown size=4>\n",
        "Read the file, separate into two lists, one each for Training and Testing. Turn the lists"
      ]
    },
    {
      "cell_type": "code",
      "metadata": {
        "id": "FRMtP0FrPtK8",
        "colab_type": "code",
        "colab": {}
      },
      "source": [
        "def read_lines():\n",
        "    train_lines = []\n",
        "    test_lines = []\n",
        "    current_lines = []\n",
        "\n",
        "    with open('/gdrive/My Drive/MyLearning/MLDLAIPython/Data/TextData/SpamDetectionData.txt') as f: \n",
        "        for line in f.readlines(): \n",
        "            if line.startswith('# Test data', 0):\n",
        "                train_lines = current_lines\n",
        "                current_lines = test_lines\n",
        "            elif line.startswith('#', 0):\n",
        "                '''\n",
        "                Ignore comment lines\n",
        "                '''\n",
        "            elif line == '\\n':\n",
        "                '''\n",
        "                Ignore empty lines\n",
        "                '''\n",
        "            else:\n",
        "                current_lines.append(line)\n",
        "\n",
        "    test_lines = current_lines\n",
        "    \n",
        "    seed(1337)\n",
        "    shuffle(train_lines)\n",
        "    shuffle(test_lines)\n",
        "\n",
        "    print('Read training lines: ', len(train_lines))\n",
        "    print('Read test lines: ', len(test_lines))\n",
        "\n",
        "    return train_lines, test_lines\n"
      ],
      "execution_count": 0,
      "outputs": []
    },
    {
      "cell_type": "markdown",
      "metadata": {
        "id": "vXN-cVt2Vk67",
        "colab_type": "text"
      },
      "source": [
        "<font color=brown size=4>\n",
        "Take a list of lines from Original Input files (train and test), remove paragraph and line breaks and split into label and data by using Comma as divider. Return as two separate lists preserving the sort order."
      ]
    },
    {
      "cell_type": "code",
      "metadata": {
        "id": "SJUd4TVMUOTA",
        "colab_type": "code",
        "colab": {}
      },
      "source": [
        "def split_lines(lines):\n",
        "    data = []\n",
        "    labels = []\n",
        "    maxtokens = 0\n",
        "    for line in lines:\n",
        "        label_part, data_part = line.replace('<p>','').replace('</p>','').replace('\\n', '').split(',')\n",
        "        data.append(data_part)\n",
        "        labels.append(label_part)\n",
        "        if (len(data_part)>maxtokens):\n",
        "            maxtokens=len(data_part)\n",
        "\n",
        "    print('maxlen ', maxtokens)\n",
        "\n",
        "    return data, labels"
      ],
      "execution_count": 0,
      "outputs": []
    },
    {
      "cell_type": "markdown",
      "metadata": {
        "id": "dthgJgMFXmYE",
        "colab_type": "text"
      },
      "source": [
        "<font color=brown size=4>\n",
        "While processing the data with Keras, each Original text will be converted to a list of indices. These indices point to words in a dictionary of all words contained in the training data. We convert this to a binary matrix. The value 1 in the matrix says that a word (x in the matrix) is contained in a given text (y in the matrix)"
      ]
    },
    {
      "cell_type": "code",
      "metadata": {
        "id": "uoH65cjmXXOL",
        "colab_type": "code",
        "colab": {}
      },
      "source": [
        "def vectorize_sequences(sequences, dimension=4000):\n",
        "    results = zeros((len(sequences), dimension))\n",
        "    for i, sequence in enumerate(sequences):\n",
        "        results[i, sequence] = 1.\n",
        "    return results\n",
        "\n",
        "'''\n",
        "The label vectorization is quite simple:\n",
        "  the value 1 is for spam,\n",
        "  the value 0 is for ham\n",
        "'''\n",
        "def vectorize_labels(labels):\n",
        "    results = zeros(len(labels))\n",
        "    for i, label in enumerate(labels):\n",
        "        if (label.lower() == 'spam'):\n",
        "            results[i] = 1\n",
        "    return results\n",
        "\n",
        "def test_predict(model, testtext, expected_label):\n",
        "    testtext_list = []\n",
        "    testtext_list.append(testtext)\n",
        "    testtext_sequence = tokenizer.texts_to_sequences(testtext_list)\n",
        "    x_testtext = vectorize_sequences(testtext_sequence)\n",
        "    prediction = model.predict(x_testtext)[0][0]\n",
        "    \n",
        "    print(\"Sentiment: %.3f\" % prediction, 'Expected ', expected_label)\n",
        "\n",
        "    if prediction > 0.5:\n",
        "        if expected_label == 'Spam':\n",
        "            return True\n",
        "    else:\n",
        "        if expected_label == 'Ham':\n",
        "            return True\n",
        "    \n",
        "    return False\n",
        "\n",
        "def plot_accuracy(history):\n",
        "    pyplot.plot(history.history['acc'])\n",
        "    pyplot.plot(history.history['val_acc'])\n",
        "    pyplot.title('model accuracy')\n",
        "    pyplot.ylabel('accuracy')\n",
        "    pyplot.xlabel('epoch')\n",
        "    pyplot.legend(['training', 'validation'], loc='lower right')\n",
        "    pyplot.show()\n",
        "\n",
        "def plot_loss(history):\n",
        "    pyplot.plot(history.history['loss'])\n",
        "    pyplot.plot(history.history['val_loss'])\n",
        "    pyplot.title('model loss')\n",
        "    pyplot.ylabel('loss')\n",
        "    pyplot.xlabel('epoch')\n",
        "    pyplot.legend(['training', 'validation'], loc='upper right')\n",
        "    pyplot.show()"
      ],
      "execution_count": 0,
      "outputs": []
    },
    {
      "cell_type": "code",
      "metadata": {
        "id": "86rqxecacyhB",
        "colab_type": "code",
        "outputId": "559868a9-0cbb-46f8-87ef-d5fb17bd89b4",
        "colab": {
          "base_uri": "https://localhost:8080/",
          "height": 51
        }
      },
      "source": [
        "# Start script\n",
        "\n",
        "# First split train lines from test lines\n",
        "train_lines, test_lines = read_lines()"
      ],
      "execution_count": 0,
      "outputs": [
        {
          "output_type": "stream",
          "text": [
            "Read training lines:  2000\n",
            "Read test lines:  100\n"
          ],
          "name": "stdout"
        }
      ]
    },
    {
      "cell_type": "code",
      "metadata": {
        "id": "ooInYVMDetss",
        "colab_type": "code",
        "outputId": "5fa97a83-82f5-4f90-8450-a8d1744bd542",
        "colab": {
          "base_uri": "https://localhost:8080/",
          "height": 51
        }
      },
      "source": [
        "# Split data from label for each line\n",
        "train_data_raw, train_labels_raw = split_lines(train_lines)\n",
        "test_data_raw, test_labels_raw = split_lines(test_lines)"
      ],
      "execution_count": 0,
      "outputs": [
        {
          "output_type": "stream",
          "text": [
            "maxlen  3691\n",
            "maxlen  3244\n"
          ],
          "name": "stdout"
        }
      ]
    },
    {
      "cell_type": "code",
      "metadata": {
        "id": "J5_XFFrz1NJJ",
        "colab_type": "code",
        "outputId": "067fc6e3-20c6-4684-93e1-2b34642856a7",
        "colab": {
          "base_uri": "https://localhost:8080/",
          "height": 85
        }
      },
      "source": [
        "print (len(train_data_raw))\n",
        "print (len(train_label_raw))\n",
        "print (len(test_data_raw))\n",
        "print (len(test_label_raw))"
      ],
      "execution_count": 0,
      "outputs": [
        {
          "output_type": "stream",
          "text": [
            "2000\n",
            "2000\n",
            "100\n",
            "100\n"
          ],
          "name": "stdout"
        }
      ]
    },
    {
      "cell_type": "markdown",
      "metadata": {
        "id": "8FZOLnKJopB6",
        "colab_type": "text"
      },
      "source": [
        "<font color=brown size=4>\n",
        "Use Keras Tokenizer to Vectorize Text. Fit_on_texts will setup internal Vacabulary using all words from the training data and attaching indices to them.\n",
        "Text_to_sequences will tranform each text into sequence of integer\n"
      ]
    },
    {
      "cell_type": "code",
      "metadata": {
        "id": "Zt2j4uDhlcqm",
        "colab_type": "code",
        "colab": {}
      },
      "source": [
        "tokenizer = Tokenizer()\n",
        "tokenizer.fit_on_texts(train_data_raw)\n",
        "train_data_seq = tokenizer.texts_to_sequences(train_data_raw)\n",
        "test_data_seq = tokenizer.texts_to_sequences(test_data_raw)"
      ],
      "execution_count": 0,
      "outputs": []
    },
    {
      "cell_type": "markdown",
      "metadata": {
        "id": "0ErCwxmCqHzS",
        "colab_type": "text"
      },
      "source": [
        "<font color=brown size=4>\n",
        "# Finally the integer sequenes are converted to a binary (numpy)\n",
        "# matrix where rows are for the text lines, columns are for\n",
        "# the words. 1 = word is inside text, 0 = word is not inside"
      ]
    },
    {
      "cell_type": "code",
      "metadata": {
        "id": "WsJcfXJAp3z6",
        "colab_type": "code",
        "outputId": "d1040693-90b3-434d-9af8-395ee7d16520",
        "colab": {
          "base_uri": "https://localhost:8080/",
          "height": 51
        }
      },
      "source": [
        "x_train = vectorize_sequences(train_data_seq, 4000)\n",
        "print('Lines of training data: ', len(x_train))\n",
        "x_test = vectorize_sequences(test_data_seq, 4000)\n",
        "print('Lines of test data: ', len(x_test))"
      ],
      "execution_count": 0,
      "outputs": [
        {
          "output_type": "stream",
          "text": [
            "Lines of training data:  2000\n",
            "Lines of test data:  100\n"
          ],
          "name": "stdout"
        }
      ]
    },
    {
      "cell_type": "markdown",
      "metadata": {
        "id": "o4ehMdOSvesc",
        "colab_type": "text"
      },
      "source": [
        "<font color=brown size=4>\n",
        "The labels are also converted to a binary vector\n",
        "1 Means Spam; 0 Means Ham"
      ]
    },
    {
      "cell_type": "code",
      "metadata": {
        "id": "QWR8-4tcqx2b",
        "colab_type": "code",
        "outputId": "ad9219f5-6ed9-46aa-ce66-291a43bf309f",
        "colab": {
          "base_uri": "https://localhost:8080/",
          "height": 51
        }
      },
      "source": [
        "y_train = vectorize_labels(train_labels_raw)\n",
        "print('Lines of training results: ', len(y_train))\n",
        "y_test = vectorize_labels(test_labels_raw)\n",
        "print('Lines of test results: ', len(y_test))"
      ],
      "execution_count": 0,
      "outputs": [
        {
          "output_type": "stream",
          "text": [
            "Lines of training results:  2000\n",
            "Lines of test results:  100\n"
          ],
          "name": "stdout"
        }
      ]
    },
    {
      "cell_type": "markdown",
      "metadata": {
        "id": "AAAo0Z9Hw_XV",
        "colab_type": "text"
      },
      "source": [
        "<font color=blue size=6>\n",
        "Now we build the Kera Neural Nets Model"
      ]
    },
    {
      "cell_type": "code",
      "metadata": {
        "id": "6OHQHXoxwQPc",
        "colab_type": "code",
        "outputId": "820debb4-528f-4c84-ccc9-211f074ab666",
        "colab": {
          "base_uri": "https://localhost:8080/",
          "height": 1000
        }
      },
      "source": [
        "# Now we build the Keras model\n",
        "model = models.Sequential()\n",
        "model.add(layers.Dense(8, activation='relu', input_shape=(4000,)))\n",
        "model.add(layers.Dense(8, activation='relu'))\n",
        "model.add(layers.Dense(1, activation='sigmoid'))\n",
        "model.compile(optimizer='rmsprop',loss='binary_crossentropy',metrics=['accuracy'])\n",
        "\n",
        "# Train the model\n",
        "history = model.fit(x_train,y_train,epochs=8,batch_size=100,validation_split=0.3)\n",
        "\n",
        "# summarize history for accuracy\n",
        "plot_accuracy(history)\n",
        "\n",
        "# summarize history for loss\n",
        "plot_loss(history)\n",
        "\n",
        "# Evaluate the model\n",
        "results = model.evaluate(x_test, y_test)\n",
        "print(model.metrics_names)\n",
        "print('Test result: ', results)"
      ],
      "execution_count": 0,
      "outputs": [
        {
          "output_type": "stream",
          "text": [
            "WARNING:tensorflow:From /usr/local/lib/python3.6/dist-packages/keras/backend/tensorflow_backend.py:1033: The name tf.assign_add is deprecated. Please use tf.compat.v1.assign_add instead.\n",
            "\n",
            "WARNING:tensorflow:From /usr/local/lib/python3.6/dist-packages/keras/backend/tensorflow_backend.py:1020: The name tf.assign is deprecated. Please use tf.compat.v1.assign instead.\n",
            "\n",
            "Train on 1400 samples, validate on 600 samples\n",
            "Epoch 1/8\n",
            "WARNING:tensorflow:From /usr/local/lib/python3.6/dist-packages/keras/backend/tensorflow_backend.py:190: The name tf.get_default_session is deprecated. Please use tf.compat.v1.get_default_session instead.\n",
            "\n",
            "WARNING:tensorflow:From /usr/local/lib/python3.6/dist-packages/keras/backend/tensorflow_backend.py:207: The name tf.global_variables is deprecated. Please use tf.compat.v1.global_variables instead.\n",
            "\n",
            "WARNING:tensorflow:From /usr/local/lib/python3.6/dist-packages/keras/backend/tensorflow_backend.py:216: The name tf.is_variable_initialized is deprecated. Please use tf.compat.v1.is_variable_initialized instead.\n",
            "\n",
            "WARNING:tensorflow:From /usr/local/lib/python3.6/dist-packages/keras/backend/tensorflow_backend.py:223: The name tf.variables_initializer is deprecated. Please use tf.compat.v1.variables_initializer instead.\n",
            "\n",
            "1400/1400 [==============================] - 0s 351us/step - loss: 0.2236 - acc: 0.9564 - val_loss: 0.0638 - val_acc: 1.0000\n",
            "Epoch 2/8\n",
            "1400/1400 [==============================] - 0s 80us/step - loss: 0.0437 - acc: 1.0000 - val_loss: 0.0234 - val_acc: 1.0000\n",
            "Epoch 3/8\n",
            "1400/1400 [==============================] - 0s 78us/step - loss: 0.0175 - acc: 1.0000 - val_loss: 0.0107 - val_acc: 1.0000\n",
            "Epoch 4/8\n",
            "1400/1400 [==============================] - 0s 71us/step - loss: 0.0081 - acc: 1.0000 - val_loss: 0.0054 - val_acc: 1.0000\n",
            "Epoch 5/8\n",
            "1400/1400 [==============================] - 0s 74us/step - loss: 0.0040 - acc: 1.0000 - val_loss: 0.0029 - val_acc: 1.0000\n",
            "Epoch 6/8\n",
            "1400/1400 [==============================] - 0s 76us/step - loss: 0.0020 - acc: 1.0000 - val_loss: 0.0016 - val_acc: 1.0000\n",
            "Epoch 7/8\n",
            "1400/1400 [==============================] - 0s 72us/step - loss: 0.0011 - acc: 1.0000 - val_loss: 9.4588e-04 - val_acc: 1.0000\n",
            "Epoch 8/8\n",
            "1400/1400 [==============================] - 0s 86us/step - loss: 5.6430e-04 - acc: 1.0000 - val_loss: 5.6692e-04 - val_acc: 1.0000\n"
          ],
          "name": "stdout"
        },
        {
          "output_type": "display_data",
          "data": {
            "image/png": "[encoded data removed]",
            "text/plain": [
              "<Figure size 432x288 with 1 Axes>"
            ]
          },
          "metadata": {
            "tags": []
          }
        },
        {
          "output_type": "display_data",
          "data": {
            "image/png": "[encoded data removed]",
            "text/plain": [
              "<Figure size 432x288 with 1 Axes>"
            ]
          },
          "metadata": {
            "tags": []
          }
        },
        {
          "output_type": "stream",
          "text": [
            "100/100 [==============================] - 0s 162us/step\n",
            "['loss', 'acc']\n",
            "Test result:  [3.8596277718170314e-05, 1.0]\n"
          ],
          "name": "stdout"
        }
      ]
    },
    {
      "cell_type": "code",
      "metadata": {
        "id": "KcYFxy6UyQF-",
        "colab_type": "code",
        "outputId": "4d05d5d0-7f4b-4dd0-fc98-eca3f096aa0b",
        "colab": {
          "base_uri": "https://localhost:8080/",
          "height": 1000
        }
      },
      "source": [
        "# Manual test over all test records\n",
        "correct = 0\n",
        "wrong = 0\n",
        "for input_text, expected_label in zip(test_data_raw, test_labels_raw):\n",
        "    if test_predict(model, input_text, expected_label):\n",
        "        correct = correct + 1\n",
        "    else:\n",
        "        wrong = wrong + 1\n",
        "\n",
        "print('Predictions correct ', correct, ', wrong ', wrong)\n"
      ],
      "execution_count": 0,
      "outputs": [
        {
          "output_type": "stream",
          "text": [
            "Sentiment: 0.000 Expected  Ham\n",
            "Sentiment: 1.000 Expected  Spam\n",
            "Sentiment: 0.000 Expected  Ham\n",
            "Sentiment: 1.000 Expected  Spam\n",
            "Sentiment: 1.000 Expected  Spam\n",
            "Sentiment: 1.000 Expected  Spam\n",
            "Sentiment: 0.000 Expected  Ham\n",
            "Sentiment: 0.000 Expected  Ham\n",
            "Sentiment: 0.000 Expected  Ham\n",
            "Sentiment: 0.000 Expected  Ham\n",
            "Sentiment: 1.000 Expected  Spam\n",
            "Sentiment: 1.000 Expected  Spam\n",
            "Sentiment: 0.000 Expected  Ham\n",
            "Sentiment: 1.000 Expected  Spam\n",
            "Sentiment: 1.000 Expected  Spam\n",
            "Sentiment: 1.000 Expected  Spam\n",
            "Sentiment: 1.000 Expected  Spam\n",
            "Sentiment: 1.000 Expected  Spam\n",
            "Sentiment: 1.000 Expected  Spam\n",
            "Sentiment: 1.000 Expected  Spam\n",
            "Sentiment: 0.000 Expected  Ham\n",
            "Sentiment: 0.000 Expected  Ham\n",
            "Sentiment: 0.000 Expected  Ham\n",
            "Sentiment: 0.000 Expected  Ham\n",
            "Sentiment: 0.000 Expected  Ham\n",
            "Sentiment: 0.001 Expected  Ham\n",
            "Sentiment: 0.000 Expected  Ham\n",
            "Sentiment: 0.000 Expected  Ham\n",
            "Sentiment: 0.000 Expected  Ham\n",
            "Sentiment: 1.000 Expected  Spam\n",
            "Sentiment: 0.000 Expected  Ham\n",
            "Sentiment: 1.000 Expected  Spam\n",
            "Sentiment: 1.000 Expected  Spam\n",
            "Sentiment: 1.000 Expected  Spam\n",
            "Sentiment: 0.000 Expected  Ham\n",
            "Sentiment: 0.000 Expected  Ham\n",
            "Sentiment: 0.000 Expected  Ham\n",
            "Sentiment: 0.000 Expected  Ham\n",
            "Sentiment: 0.000 Expected  Ham\n",
            "Sentiment: 1.000 Expected  Spam\n",
            "Sentiment: 0.000 Expected  Ham\n",
            "Sentiment: 0.000 Expected  Ham\n",
            "Sentiment: 1.000 Expected  Spam\n",
            "Sentiment: 0.000 Expected  Ham\n",
            "Sentiment: 1.000 Expected  Spam\n",
            "Sentiment: 1.000 Expected  Spam\n",
            "Sentiment: 0.000 Expected  Ham\n",
            "Sentiment: 1.000 Expected  Spam\n",
            "Sentiment: 1.000 Expected  Spam\n",
            "Sentiment: 0.000 Expected  Ham\n",
            "Sentiment: 0.000 Expected  Ham\n",
            "Sentiment: 0.000 Expected  Ham\n",
            "Sentiment: 0.000 Expected  Ham\n",
            "Sentiment: 0.000 Expected  Ham\n",
            "Sentiment: 1.000 Expected  Spam\n",
            "Sentiment: 1.000 Expected  Spam\n",
            "Sentiment: 0.000 Expected  Ham\n",
            "Sentiment: 0.000 Expected  Ham\n",
            "Sentiment: 0.000 Expected  Ham\n",
            "Sentiment: 1.000 Expected  Spam\n",
            "Sentiment: 0.000 Expected  Ham\n",
            "Sentiment: 1.000 Expected  Spam\n",
            "Sentiment: 0.000 Expected  Ham\n",
            "Sentiment: 0.000 Expected  Ham\n",
            "Sentiment: 0.000 Expected  Ham\n",
            "Sentiment: 0.000 Expected  Ham\n",
            "Sentiment: 0.000 Expected  Ham\n",
            "Sentiment: 1.000 Expected  Spam\n",
            "Sentiment: 0.000 Expected  Ham\n",
            "Sentiment: 1.000 Expected  Spam\n",
            "Sentiment: 0.000 Expected  Ham\n",
            "Sentiment: 0.001 Expected  Ham\n",
            "Sentiment: 0.000 Expected  Ham\n",
            "Sentiment: 0.000 Expected  Ham\n",
            "Sentiment: 0.000 Expected  Ham\n",
            "Sentiment: 1.000 Expected  Spam\n",
            "Sentiment: 1.000 Expected  Spam\n",
            "Sentiment: 0.000 Expected  Ham\n",
            "Sentiment: 1.000 Expected  Spam\n",
            "Sentiment: 0.000 Expected  Ham\n",
            "Sentiment: 0.000 Expected  Ham\n",
            "Sentiment: 0.000 Expected  Ham\n",
            "Sentiment: 0.000 Expected  Ham\n",
            "Sentiment: 1.000 Expected  Spam\n",
            "Sentiment: 0.000 Expected  Ham\n",
            "Sentiment: 1.000 Expected  Spam\n",
            "Sentiment: 1.000 Expected  Spam\n",
            "Sentiment: 0.000 Expected  Ham\n",
            "Sentiment: 0.000 Expected  Ham\n",
            "Sentiment: 1.000 Expected  Spam\n",
            "Sentiment: 0.000 Expected  Ham\n",
            "Sentiment: 1.000 Expected  Spam\n",
            "Sentiment: 0.000 Expected  Ham\n",
            "Sentiment: 1.000 Expected  Spam\n",
            "Sentiment: 1.000 Expected  Spam\n",
            "Sentiment: 1.000 Expected  Spam\n",
            "Sentiment: 1.000 Expected  Spam\n",
            "Sentiment: 0.000 Expected  Ham\n",
            "Sentiment: 1.000 Expected  Spam\n",
            "Sentiment: 1.000 Expected  Spam\n",
            "Predictions correct  100 , wrong  0\n"
          ],
          "name": "stdout"
        }
      ]
    },
    {
      "cell_type": "code",
      "metadata": {
        "id": "2ox3spccyd0B",
        "colab_type": "code",
        "colab": {}
      },
      "source": [
        "y_train.shape"
      ],
      "execution_count": 0,
      "outputs": []
    },
    {
      "cell_type": "code",
      "metadata": {
        "id": "D2ipyJxZyfaH",
        "colab_type": "code",
        "colab": {}
      },
      "source": [
        ""
      ],
      "execution_count": 0,
      "outputs": []
    }
  ]
}