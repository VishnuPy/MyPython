{
  "nbformat": 4,
  "nbformat_minor": 0,
  "metadata": {
    "colab": {
      "name": "AdaBoostnXGBoost_IMPrj.ipynb",
      "provenance": [],
      "collapsed_sections": [],
      "include_colab_link": true
    },
    "kernelspec": {
      "name": "python3",
      "display_name": "Python 3"
    },
    "accelerator": "GPU"
  },
  "cells": [
    {
      "cell_type": "markdown",
      "metadata": {
        "id": "view-in-github",
        "colab_type": "text"
      },
      "source": [
        "<a href=\"https://colab.research.google.com/github/VishnuPy/MyPython/blob/master/AdaBoostnXGBoost_IMPrj.ipynb\" target=\"_parent\"><img src=\"https://colab.research.google.com/assets/colab-badge.svg\" alt=\"Open In Colab\"/></a>"
      ]
    },
    {
      "cell_type": "code",
      "metadata": {
        "id": "D80R2ZLXdrTR",
        "colab_type": "code",
        "outputId": "5434e35d-9793-4177-8fd5-97c31f5f12ea",
        "colab": {
          "base_uri": "https://localhost:8080/",
          "height": 85
        }
      },
      "source": [
        "import tensorflow as tf\n",
        "device_name = tf.test.gpu_device_name()\n",
        "if device_name != '/device:GPU:0':\n",
        "  raise SystemError('GPU device not found')\n",
        "print('Found GPU at: {}'.format(device_name))\n",
        "\n",
        "from google.colab import drive\n",
        "drive.mount('/gdrive')\n",
        "%cd /gdrive\n",
        "%ls       "
      ],
      "execution_count": 0,
      "outputs": [
        {
          "output_type": "stream",
          "text": [
            "Found GPU at: /device:GPU:0\n",
            "Drive already mounted at /gdrive; to attempt to forcibly remount, call drive.mount(\"/gdrive\", force_remount=True).\n",
            "/gdrive\n",
            "\u001b[0m\u001b[01;34m'My Drive'\u001b[0m/\n"
          ],
          "name": "stdout"
        }
      ]
    },
    {
      "cell_type": "code",
      "metadata": {
        "id": "ZF8JQp1Ndt5Y",
        "colab_type": "code",
        "outputId": "d175febd-e7a6-44f3-8cb4-75e585c4f0af",
        "colab": {
          "base_uri": "https://localhost:8080/",
          "height": 258
        }
      },
      "source": [
        "import tensorflow as tf\n",
        "import timeit\n",
        "\n",
        "# See https://www.tensorflow.org/tutorials/using_gpu#allowing_gpu_memory_growth\n",
        "config = tf.ConfigProto()\n",
        "config.gpu_options.allow_growth = True\n",
        "\n",
        "with tf.device('/cpu:0'):\n",
        "  random_image_cpu = tf.random_normal((100, 100, 100, 3))\n",
        "  net_cpu = tf.layers.conv2d(random_image_cpu, 32, 7)\n",
        "  net_cpu = tf.reduce_sum(net_cpu)\n",
        "\n",
        "with tf.device('/gpu:0'):\n",
        "  random_image_gpu = tf.random_normal((100, 100, 100, 3))\n",
        "  net_gpu = tf.layers.conv2d(random_image_gpu, 32, 7)\n",
        "  net_gpu = tf.reduce_sum(net_gpu)\n",
        "\n",
        "sess = tf.Session(config=config)\n",
        "\n",
        "# Test execution once to detect errors early.\n",
        "try:\n",
        "  sess.run(tf.global_variables_initializer())\n",
        "except tf.errors.InvalidArgumentError:\n",
        "  print(\n",
        "      '\\n\\nThis error most likely means that this notebook is not '\n",
        "      'configured to use a GPU.  Change this in Notebook Settings via the '\n",
        "      'command palette (cmd/ctrl-shift-P) or the Edit menu.\\n\\n')\n",
        "  raise\n",
        "\n",
        "def cpu():\n",
        "  sess.run(net_cpu)\n",
        "  \n",
        "def gpu():\n",
        "  sess.run(net_gpu)\n",
        "  \n",
        "# Runs the op several times.\n",
        "print('Time (s) to convolve 32x7x7x3 filter over random 100x100x100x3 images '\n",
        "      '(batch x height x width x channel). Sum of ten runs.')\n",
        "print('CPU (s):')\n",
        "cpu_time = timeit.timeit('cpu()', number=10, setup=\"from __main__ import cpu\")\n",
        "print(cpu_time)\n",
        "print('GPU (s):')\n",
        "gpu_time = timeit.timeit('gpu()', number=10, setup=\"from __main__ import gpu\")\n",
        "print(gpu_time)\n",
        "print('GPU speedup over CPU: {}x'.format(int(cpu_time/gpu_time)))"
      ],
      "execution_count": 0,
      "outputs": [
        {
          "output_type": "stream",
          "text": [
            "WARNING: Logging before flag parsing goes to stderr.\n",
            "W0812 07:03:25.480674 140260128122752 deprecation.py:323] From <ipython-input-2-00b17d59170f>:10: conv2d (from tensorflow.python.layers.convolutional) is deprecated and will be removed in a future version.\n",
            "Instructions for updating:\n",
            "Use `tf.keras.layers.Conv2D` instead.\n",
            "W0812 07:03:25.491857 140260128122752 deprecation.py:506] From /usr/local/lib/python3.6/dist-packages/tensorflow/python/ops/init_ops.py:1251: calling VarianceScaling.__init__ (from tensorflow.python.ops.init_ops) with dtype is deprecated and will be removed in a future version.\n",
            "Instructions for updating:\n",
            "Call initializer instance with the dtype argument instead of passing it to the constructor\n"
          ],
          "name": "stderr"
        },
        {
          "output_type": "stream",
          "text": [
            "Time (s) to convolve 32x7x7x3 filter over random 100x100x100x3 images (batch x height x width x channel). Sum of ten runs.\n",
            "CPU (s):\n",
            "3.621066857000187\n",
            "GPU (s):\n",
            "0.9189344709993748\n",
            "GPU speedup over CPU: 3x\n"
          ],
          "name": "stdout"
        }
      ]
    },
    {
      "cell_type": "code",
      "metadata": {
        "id": "m5X8Id5Id5Jr",
        "colab_type": "code",
        "outputId": "fe803ec4-057f-41d3-bb68-391e1fa24811",
        "colab": {
          "base_uri": "https://localhost:8080/",
          "height": 224
        }
      },
      "source": [
        "%matplotlib inline\n",
        "import numpy as np\n",
        "import pandas as pd\n",
        "from IPython.display import display\n",
        "pd.options.display.max_columns=None\n",
        "\n",
        "import matplotlib\n",
        "\n",
        "import matplotlib.pyplot as plt\n",
        "\n",
        "\n",
        "from sklearn.ensemble import GradientBoostingClassifier\n",
        "\n",
        "##Split The Data into Train and Test\n",
        "from sklearn.model_selection import train_test_split\n",
        "from sklearn.model_selection import cross_val_score\n",
        "from sklearn import metrics\n",
        "\n",
        "from sklearn.metrics import recall_score, roc_curve, roc_auc_score, classification_report, confusion_matrix\n",
        "\n",
        "from sklearn.model_selection import GridSearchCV\n",
        "from sklearn.pipeline import Pipeline\n",
        "\n",
        "df = pd.read_csv('My Drive/MyLearning/MLDLAIPython/Data/TextData/bank-additional-full_prj.csv')\n",
        "\n",
        "df.head()\n"
      ],
      "execution_count": 0,
      "outputs": [
        {
          "output_type": "execute_result",
          "data": {
            "text/html": [
              "<div>\n",
              "<style scoped>\n",
              "    .dataframe tbody tr th:only-of-type {\n",
              "        vertical-align: middle;\n",
              "    }\n",
              "\n",
              "    .dataframe tbody tr th {\n",
              "        vertical-align: top;\n",
              "    }\n",
              "\n",
              "    .dataframe thead th {\n",
              "        text-align: right;\n",
              "    }\n",
              "</style>\n",
              "<table border=\"1\" class=\"dataframe\">\n",
              "  <thead>\n",
              "    <tr style=\"text-align: right;\">\n",
              "      <th></th>\n",
              "      <th>age</th>\n",
              "      <th>job</th>\n",
              "      <th>marital</th>\n",
              "      <th>education</th>\n",
              "      <th>default</th>\n",
              "      <th>housing</th>\n",
              "      <th>loan</th>\n",
              "      <th>contact</th>\n",
              "      <th>month</th>\n",
              "      <th>day_of_week</th>\n",
              "      <th>duration</th>\n",
              "      <th>campaign</th>\n",
              "      <th>pdays</th>\n",
              "      <th>previous</th>\n",
              "      <th>poutcome</th>\n",
              "      <th>emp.var.rate</th>\n",
              "      <th>cons.price.idx</th>\n",
              "      <th>cons.conf.idx</th>\n",
              "      <th>euribor3m</th>\n",
              "      <th>nr.employed</th>\n",
              "      <th>y</th>\n",
              "    </tr>\n",
              "  </thead>\n",
              "  <tbody>\n",
              "    <tr>\n",
              "      <th>0</th>\n",
              "      <td>56</td>\n",
              "      <td>housemaid</td>\n",
              "      <td>married</td>\n",
              "      <td>basic.4y</td>\n",
              "      <td>no</td>\n",
              "      <td>no</td>\n",
              "      <td>no</td>\n",
              "      <td>telephone</td>\n",
              "      <td>may</td>\n",
              "      <td>mon</td>\n",
              "      <td>261</td>\n",
              "      <td>1</td>\n",
              "      <td>999</td>\n",
              "      <td>0</td>\n",
              "      <td>nonexistent</td>\n",
              "      <td>1.1</td>\n",
              "      <td>93.994</td>\n",
              "      <td>-36.4</td>\n",
              "      <td>4.857</td>\n",
              "      <td>5191.0</td>\n",
              "      <td>no</td>\n",
              "    </tr>\n",
              "    <tr>\n",
              "      <th>1</th>\n",
              "      <td>57</td>\n",
              "      <td>services</td>\n",
              "      <td>married</td>\n",
              "      <td>high.school</td>\n",
              "      <td>unknown</td>\n",
              "      <td>no</td>\n",
              "      <td>no</td>\n",
              "      <td>telephone</td>\n",
              "      <td>may</td>\n",
              "      <td>mon</td>\n",
              "      <td>149</td>\n",
              "      <td>1</td>\n",
              "      <td>999</td>\n",
              "      <td>0</td>\n",
              "      <td>nonexistent</td>\n",
              "      <td>1.1</td>\n",
              "      <td>93.994</td>\n",
              "      <td>-36.4</td>\n",
              "      <td>4.857</td>\n",
              "      <td>5191.0</td>\n",
              "      <td>no</td>\n",
              "    </tr>\n",
              "    <tr>\n",
              "      <th>2</th>\n",
              "      <td>37</td>\n",
              "      <td>services</td>\n",
              "      <td>married</td>\n",
              "      <td>high.school</td>\n",
              "      <td>no</td>\n",
              "      <td>yes</td>\n",
              "      <td>no</td>\n",
              "      <td>telephone</td>\n",
              "      <td>may</td>\n",
              "      <td>mon</td>\n",
              "      <td>226</td>\n",
              "      <td>1</td>\n",
              "      <td>999</td>\n",
              "      <td>0</td>\n",
              "      <td>nonexistent</td>\n",
              "      <td>1.1</td>\n",
              "      <td>93.994</td>\n",
              "      <td>-36.4</td>\n",
              "      <td>4.857</td>\n",
              "      <td>5191.0</td>\n",
              "      <td>no</td>\n",
              "    </tr>\n",
              "    <tr>\n",
              "      <th>3</th>\n",
              "      <td>40</td>\n",
              "      <td>admin.</td>\n",
              "      <td>married</td>\n",
              "      <td>basic.6y</td>\n",
              "      <td>no</td>\n",
              "      <td>no</td>\n",
              "      <td>no</td>\n",
              "      <td>telephone</td>\n",
              "      <td>may</td>\n",
              "      <td>mon</td>\n",
              "      <td>151</td>\n",
              "      <td>1</td>\n",
              "      <td>999</td>\n",
              "      <td>0</td>\n",
              "      <td>nonexistent</td>\n",
              "      <td>1.1</td>\n",
              "      <td>93.994</td>\n",
              "      <td>-36.4</td>\n",
              "      <td>4.857</td>\n",
              "      <td>5191.0</td>\n",
              "      <td>no</td>\n",
              "    </tr>\n",
              "    <tr>\n",
              "      <th>4</th>\n",
              "      <td>56</td>\n",
              "      <td>services</td>\n",
              "      <td>married</td>\n",
              "      <td>high.school</td>\n",
              "      <td>no</td>\n",
              "      <td>no</td>\n",
              "      <td>yes</td>\n",
              "      <td>telephone</td>\n",
              "      <td>may</td>\n",
              "      <td>mon</td>\n",
              "      <td>307</td>\n",
              "      <td>1</td>\n",
              "      <td>999</td>\n",
              "      <td>0</td>\n",
              "      <td>nonexistent</td>\n",
              "      <td>1.1</td>\n",
              "      <td>93.994</td>\n",
              "      <td>-36.4</td>\n",
              "      <td>4.857</td>\n",
              "      <td>5191.0</td>\n",
              "      <td>no</td>\n",
              "    </tr>\n",
              "  </tbody>\n",
              "</table>\n",
              "</div>"
            ],
            "text/plain": [
              "   age        job  marital    education  default housing loan    contact  \\\n",
              "0   56  housemaid  married     basic.4y       no      no   no  telephone   \n",
              "1   57   services  married  high.school  unknown      no   no  telephone   \n",
              "2   37   services  married  high.school       no     yes   no  telephone   \n",
              "3   40     admin.  married     basic.6y       no      no   no  telephone   \n",
              "4   56   services  married  high.school       no      no  yes  telephone   \n",
              "\n",
              "  month day_of_week  duration  campaign  pdays  previous     poutcome  \\\n",
              "0   may         mon       261         1    999         0  nonexistent   \n",
              "1   may         mon       149         1    999         0  nonexistent   \n",
              "2   may         mon       226         1    999         0  nonexistent   \n",
              "3   may         mon       151         1    999         0  nonexistent   \n",
              "4   may         mon       307         1    999         0  nonexistent   \n",
              "\n",
              "   emp.var.rate  cons.price.idx  cons.conf.idx  euribor3m  nr.employed   y  \n",
              "0           1.1          93.994          -36.4      4.857       5191.0  no  \n",
              "1           1.1          93.994          -36.4      4.857       5191.0  no  \n",
              "2           1.1          93.994          -36.4      4.857       5191.0  no  \n",
              "3           1.1          93.994          -36.4      4.857       5191.0  no  \n",
              "4           1.1          93.994          -36.4      4.857       5191.0  no  "
            ]
          },
          "metadata": {
            "tags": []
          },
          "execution_count": 3
        }
      ]
    },
    {
      "cell_type": "code",
      "metadata": {
        "colab_type": "code",
        "id": "zSiumb8efJpa",
        "colab": {}
      },
      "source": [
        "# Separating with continuous and categorical variables.\n",
        "\n",
        "#X_cont = ['age', 'campaign', 'pdays', 'previous', 'emp.var.rate', 'cons.price.idx', 'euribor3m', 'nr.employed']\n",
        "X_cont = ['age', 'campaign', 'pdays', 'previous', 'emp.var.rate', 'cons.price.idx', 'euribor3m', 'nr.employed']\n",
        "X_cat = ['job', 'marital', 'education', 'default', 'housing', 'loan', 'contact', 'month', 'day_of_week', 'poutcome']\n",
        "\n",
        "cont_df = df[X_cont]\n",
        "cat_df = df[X_cat]\n",
        "\n",
        "# Creating dummyX variable dataframe from categorical variables.\n",
        "\n",
        "X = cont_df.join(pd.get_dummies(cat_df))\n",
        "y = df.iloc[:, 20].replace(('yes', 'no'), (1, 0))"
      ],
      "execution_count": 0,
      "outputs": []
    },
    {
      "cell_type": "code",
      "metadata": {
        "id": "qBXxyNfo4uGC",
        "colab_type": "code",
        "outputId": "5fc150fb-0fff-46bb-c6d3-0c13ffd26f26",
        "colab": {
          "base_uri": "https://localhost:8080/",
          "height": 323
        }
      },
      "source": [
        "X.columns"
      ],
      "execution_count": 0,
      "outputs": [
        {
          "output_type": "execute_result",
          "data": {
            "text/plain": [
              "Index(['age', 'campaign', 'pdays', 'previous', 'emp.var.rate',\n",
              "       'cons.price.idx', 'euribor3m', 'nr.employed', 'job_admin.',\n",
              "       'job_blue-collar', 'job_entrepreneur', 'job_housemaid',\n",
              "       'job_management', 'job_retired', 'job_self-employed', 'job_services',\n",
              "       'job_student', 'job_technician', 'job_unemployed', 'job_unknown',\n",
              "       'marital_divorced', 'marital_married', 'marital_single',\n",
              "       'marital_unknown', 'education_basic.4y', 'education_basic.6y',\n",
              "       'education_basic.9y', 'education_high.school', 'education_illiterate',\n",
              "       'education_professional.course', 'education_university.degree',\n",
              "       'education_unknown', 'default_no', 'default_unknown', 'default_yes',\n",
              "       'housing_no', 'housing_unknown', 'housing_yes', 'loan_no',\n",
              "       'loan_unknown', 'loan_yes', 'contact_cellular', 'contact_telephone',\n",
              "       'month_apr', 'month_aug', 'month_dec', 'month_jul', 'month_jun',\n",
              "       'month_mar', 'month_may', 'month_nov', 'month_oct', 'month_sep',\n",
              "       'day_of_week_fri', 'day_of_week_mon', 'day_of_week_thu',\n",
              "       'day_of_week_tue', 'day_of_week_wed', 'poutcome_failure',\n",
              "       'poutcome_nonexistent', 'poutcome_success'],\n",
              "      dtype='object')"
            ]
          },
          "metadata": {
            "tags": []
          },
          "execution_count": 5
        }
      ]
    },
    {
      "cell_type": "code",
      "metadata": {
        "id": "g3hL6--GefSQ",
        "colab_type": "code",
        "colab": {}
      },
      "source": [
        "mappings = []\n",
        "\n",
        "from sklearn.preprocessing import LabelEncoder\n",
        "\n",
        "label_encoder = LabelEncoder()\n",
        "\n",
        "allabel_df = df\n",
        "label_df = df.drop('y', axis=1)\n",
        "for i, col in enumerate(label_df):\n",
        "    if label_df[col].dtype == 'object':\n",
        "        label_df[col] = label_encoder.fit_transform(np.array(label_df[col].astype(str)).reshape((-1,)))\n",
        "        mappings.append(dict(zip(label_encoder.classes_, range(1, len(label_encoder.classes_)+1))))\n",
        "\n"
      ],
      "execution_count": 0,
      "outputs": []
    },
    {
      "cell_type": "code",
      "metadata": {
        "id": "tD4gSSl7zmEP",
        "colab_type": "code",
        "outputId": "c2823332-ea64-463d-9017-a76c4d8d0c49",
        "colab": {
          "base_uri": "https://localhost:8080/",
          "height": 102
        }
      },
      "source": [
        "allabel_df.columns"
      ],
      "execution_count": 0,
      "outputs": [
        {
          "output_type": "execute_result",
          "data": {
            "text/plain": [
              "Index(['age', 'job', 'marital', 'education', 'default', 'housing', 'loan',\n",
              "       'contact', 'month', 'day_of_week', 'duration', 'campaign', 'pdays',\n",
              "       'previous', 'poutcome', 'emp.var.rate', 'cons.price.idx',\n",
              "       'cons.conf.idx', 'euribor3m', 'nr.employed', 'y'],\n",
              "      dtype='object')"
            ]
          },
          "metadata": {
            "tags": []
          },
          "execution_count": 7
        }
      ]
    },
    {
      "cell_type": "code",
      "metadata": {
        "id": "w0KOc0wNewNQ",
        "colab_type": "code",
        "outputId": "327a93d8-92ed-43e7-f10f-1ca2dd3923e9",
        "colab": {
          "base_uri": "https://localhost:8080/",
          "height": 102
        }
      },
      "source": [
        "label_df.columns"
      ],
      "execution_count": 0,
      "outputs": [
        {
          "output_type": "execute_result",
          "data": {
            "text/plain": [
              "Index(['age', 'job', 'marital', 'education', 'default', 'housing', 'loan',\n",
              "       'contact', 'month', 'day_of_week', 'duration', 'campaign', 'pdays',\n",
              "       'previous', 'poutcome', 'emp.var.rate', 'cons.price.idx',\n",
              "       'cons.conf.idx', 'euribor3m', 'nr.employed'],\n",
              "      dtype='object')"
            ]
          },
          "metadata": {
            "tags": []
          },
          "execution_count": 8
        }
      ]
    },
    {
      "cell_type": "code",
      "metadata": {
        "id": "oq5CKHbYfX4s",
        "colab_type": "code",
        "outputId": "385125b6-2ef6-4201-c921-14211ab4bba2",
        "colab": {
          "base_uri": "https://localhost:8080/",
          "height": 34
        }
      },
      "source": [
        "y.shape"
      ],
      "execution_count": 0,
      "outputs": [
        {
          "output_type": "execute_result",
          "data": {
            "text/plain": [
              "(41188,)"
            ]
          },
          "metadata": {
            "tags": []
          },
          "execution_count": 9
        }
      ]
    },
    {
      "cell_type": "code",
      "metadata": {
        "id": "dKBaVByGfZGl",
        "colab_type": "code",
        "outputId": "947dd544-5757-488e-9632-3f860a37c85a",
        "colab": {
          "base_uri": "https://localhost:8080/",
          "height": 34
        }
      },
      "source": [
        "label_df.shape"
      ],
      "execution_count": 0,
      "outputs": [
        {
          "output_type": "execute_result",
          "data": {
            "text/plain": [
              "(41188, 20)"
            ]
          },
          "metadata": {
            "tags": []
          },
          "execution_count": 10
        }
      ]
    },
    {
      "cell_type": "code",
      "metadata": {
        "id": "FfJmISRTfbh8",
        "colab_type": "code",
        "outputId": "82d6c775-e364-44b9-f742-fd1abf9c7fad",
        "colab": {
          "base_uri": "https://localhost:8080/",
          "height": 391
        }
      },
      "source": [
        "##Split The Data into Train and Test\n",
        "from sklearn.model_selection import train_test_split\n",
        "X_train,X_test,y_train,y_test= train_test_split(label_df, y, test_size=0.30, random_state=110)\n",
        "\n",
        "#Convert DataFrame to Numpy array\n",
        "\n",
        "Xtrain=X_train.values\n",
        "Xtest=X_test.values\n",
        "ytrain=y_train.values\n",
        "ytest=y_test.values\n",
        "'''\n",
        "##Initialize StandardScaler\n",
        "from sklearn.preprocessing import StandardScaler\n",
        "sc=StandardScaler()\n",
        "\n",
        "#Transform the training data\n",
        "X_train=sc.fit_transform(X_train)\n",
        "X_train=pd.DataFrame(X_train,columns=X_test.columns)\n",
        "\n",
        "#Transform the testing data\n",
        "X_test=sc.transform(X_test)\n",
        "X_test=pd.DataFrame(X_test,columns=X_train.columns)\n",
        "'''\n",
        "#Choose all predictors except target & IDcols\n",
        "#predictors = [x for x in train.columns if x not in [target, IDcol]]\n",
        "param_test1 = {'n_estimators':range(20,81,100)}\n",
        "gsearch1 = GridSearchCV(estimator = GradientBoostingClassifier\n",
        "                        (\n",
        "                            learning_rate=0.1, min_samples_split=500, min_samples_leaf=100, max_depth=10, max_features='sqrt', subsample=0.8\n",
        "                            , random_state=10), param_grid = param_test1, scoring='roc_auc',n_jobs=4,iid=False, cv=5\n",
        "                        )\n",
        "gsearch1.fit(X_train,y_train)"
      ],
      "execution_count": 0,
      "outputs": [
        {
          "output_type": "execute_result",
          "data": {
            "text/plain": [
              "GridSearchCV(cv=5, error_score='raise-deprecating',\n",
              "             estimator=GradientBoostingClassifier(criterion='friedman_mse',\n",
              "                                                  init=None, learning_rate=0.1,\n",
              "                                                  loss='deviance', max_depth=10,\n",
              "                                                  max_features='sqrt',\n",
              "                                                  max_leaf_nodes=None,\n",
              "                                                  min_impurity_decrease=0.0,\n",
              "                                                  min_impurity_split=None,\n",
              "                                                  min_samples_leaf=100,\n",
              "                                                  min_samples_split=500,\n",
              "                                                  min_weight_fraction_leaf=0.0,\n",
              "                                                  n_estimators=100,\n",
              "                                                  n_iter_no_change=None,\n",
              "                                                  presort='auto',\n",
              "                                                  random_state=10,\n",
              "                                                  subsample=0.8, tol=0.0001,\n",
              "                                                  validation_fraction=0.1,\n",
              "                                                  verbose=0, warm_start=False),\n",
              "             iid=False, n_jobs=4,\n",
              "             param_grid={'n_estimators': range(20, 81, 100)},\n",
              "             pre_dispatch='2*n_jobs', refit=True, return_train_score=False,\n",
              "             scoring='roc_auc', verbose=0)"
            ]
          },
          "metadata": {
            "tags": []
          },
          "execution_count": 11
        }
      ]
    },
    {
      "cell_type": "code",
      "metadata": {
        "id": "P3iRBoxGk1z4",
        "colab_type": "code",
        "outputId": "50081a84-b95f-4927-ccf3-006b104ee96a",
        "colab": {
          "base_uri": "https://localhost:8080/",
          "height": 340
        }
      },
      "source": [
        "gsearch1.cv_results_, gsearch1.best_params_, gsearch1.best_score_"
      ],
      "execution_count": 0,
      "outputs": [
        {
          "output_type": "execute_result",
          "data": {
            "text/plain": [
              "({'mean_fit_time': array([1.50014038]),\n",
              "  'mean_score_time': array([0.02942657]),\n",
              "  'mean_test_score': array([0.94200998]),\n",
              "  'param_n_estimators': masked_array(data=[20],\n",
              "               mask=[False],\n",
              "         fill_value='?',\n",
              "              dtype=object),\n",
              "  'params': [{'n_estimators': 20}],\n",
              "  'rank_test_score': array([1], dtype=int32),\n",
              "  'split0_test_score': array([0.94423508]),\n",
              "  'split1_test_score': array([0.94820958]),\n",
              "  'split2_test_score': array([0.94199604]),\n",
              "  'split3_test_score': array([0.93549807]),\n",
              "  'split4_test_score': array([0.94011111]),\n",
              "  'std_fit_time': array([0.48147975]),\n",
              "  'std_score_time': array([0.0085394]),\n",
              "  'std_test_score': array([0.0042284])},\n",
              " {'n_estimators': 20},\n",
              " 0.9420099770570713)"
            ]
          },
          "metadata": {
            "tags": []
          },
          "execution_count": 12
        }
      ]
    },
    {
      "cell_type": "markdown",
      "metadata": {
        "id": "rLhENkJWoas3",
        "colab_type": "text"
      },
      "source": [
        " {'n_estimators': 80}, 0.9399256128653919) -- Learning rate 0.1, MinSampleLeafs=50; max_depth=8\n",
        " \n",
        " {'n_estimators': 90},0.9403135418595883) -- Learning rate 0.1, MinSampleLeafs=100; max_depth=10\n",
        "\n",
        "{'n_estimators': 20}, 0.9420099770570713) -- Learning rate 0.1; n_estms(20,81,100)"
      ]
    },
    {
      "cell_type": "code",
      "metadata": {
        "id": "ISdjib0ulOeQ",
        "colab_type": "code",
        "outputId": "054d3ed4-c148-4921-c9fe-7ed706da2780",
        "colab": {
          "base_uri": "https://localhost:8080/",
          "height": 1000
        }
      },
      "source": [
        "param_test2 = {'max_depth':range(5,16,2), 'min_samples_split':range(200,1001,200)}\n",
        "gsearch2 = GridSearchCV(estimator = GradientBoostingClassifier(learning_rate=0.1, n_estimators=20, max_features='sqrt', subsample=0.8, random_state=10), \n",
        "param_grid = param_test2, scoring='roc_auc',n_jobs=4,iid=False, cv=5)\n",
        "gsearch2.fit(X_train, y_train)\n",
        "gsearch2.cv_results_, gsearch2.best_params_, gsearch2.best_score_"
      ],
      "execution_count": 0,
      "outputs": [
        {
          "output_type": "execute_result",
          "data": {
            "text/plain": [
              "({'mean_fit_time': array([1.10620756, 1.11272612, 1.00831447, 0.97083864, 0.97258277,\n",
              "         1.54061131, 1.3715837 , 1.28013463, 1.24343634, 1.20788093,\n",
              "         2.01544328, 1.6988512 , 1.53840413, 1.47528625, 1.38741288,\n",
              "         2.46607857, 2.05343714, 1.88427744, 1.67188363, 1.58618073,\n",
              "         2.91285424, 2.3288775 , 2.03439164, 1.81806269, 1.74092307,\n",
              "         3.33239536, 2.48813615, 2.11836905, 1.97970867, 1.63580284]),\n",
              "  'mean_score_time': array([0.02244668, 0.02239451, 0.02463422, 0.02604084, 0.02592664,\n",
              "         0.02684884, 0.02780452, 0.02587872, 0.02820258, 0.03372827,\n",
              "         0.03244319, 0.03036013, 0.03383522, 0.02884469, 0.03598781,\n",
              "         0.03336725, 0.03520131, 0.03039174, 0.03067951, 0.03041158,\n",
              "         0.03618646, 0.03585987, 0.03258524, 0.03272066, 0.03376198,\n",
              "         0.03747149, 0.03818607, 0.03438058, 0.03197193, 0.02645202]),\n",
              "  'mean_test_score': array([0.93738003, 0.93837758, 0.93775835, 0.93737943, 0.93663586,\n",
              "         0.94310532, 0.9416951 , 0.9404587 , 0.94031279, 0.9393668 ,\n",
              "         0.94468477, 0.94420373, 0.94224637, 0.94221266, 0.94099482,\n",
              "         0.9449056 , 0.94479459, 0.94312568, 0.94263307, 0.94118002,\n",
              "         0.94522284, 0.94471683, 0.94340483, 0.94165334, 0.94181973,\n",
              "         0.94609161, 0.94495434, 0.94426562, 0.94197008, 0.94183106]),\n",
              "  'param_max_depth': masked_array(data=[5, 5, 5, 5, 5, 7, 7, 7, 7, 7, 9, 9, 9, 9, 9, 11, 11,\n",
              "                     11, 11, 11, 13, 13, 13, 13, 13, 15, 15, 15, 15, 15],\n",
              "               mask=[False, False, False, False, False, False, False, False,\n",
              "                     False, False, False, False, False, False, False, False,\n",
              "                     False, False, False, False, False, False, False, False,\n",
              "                     False, False, False, False, False, False],\n",
              "         fill_value='?',\n",
              "              dtype=object),\n",
              "  'param_min_samples_split': masked_array(data=[200, 400, 600, 800, 1000, 200, 400, 600, 800, 1000,\n",
              "                     200, 400, 600, 800, 1000, 200, 400, 600, 800, 1000,\n",
              "                     200, 400, 600, 800, 1000, 200, 400, 600, 800, 1000],\n",
              "               mask=[False, False, False, False, False, False, False, False,\n",
              "                     False, False, False, False, False, False, False, False,\n",
              "                     False, False, False, False, False, False, False, False,\n",
              "                     False, False, False, False, False, False],\n",
              "         fill_value='?',\n",
              "              dtype=object),\n",
              "  'params': [{'max_depth': 5, 'min_samples_split': 200},\n",
              "   {'max_depth': 5, 'min_samples_split': 400},\n",
              "   {'max_depth': 5, 'min_samples_split': 600},\n",
              "   {'max_depth': 5, 'min_samples_split': 800},\n",
              "   {'max_depth': 5, 'min_samples_split': 1000},\n",
              "   {'max_depth': 7, 'min_samples_split': 200},\n",
              "   {'max_depth': 7, 'min_samples_split': 400},\n",
              "   {'max_depth': 7, 'min_samples_split': 600},\n",
              "   {'max_depth': 7, 'min_samples_split': 800},\n",
              "   {'max_depth': 7, 'min_samples_split': 1000},\n",
              "   {'max_depth': 9, 'min_samples_split': 200},\n",
              "   {'max_depth': 9, 'min_samples_split': 400},\n",
              "   {'max_depth': 9, 'min_samples_split': 600},\n",
              "   {'max_depth': 9, 'min_samples_split': 800},\n",
              "   {'max_depth': 9, 'min_samples_split': 1000},\n",
              "   {'max_depth': 11, 'min_samples_split': 200},\n",
              "   {'max_depth': 11, 'min_samples_split': 400},\n",
              "   {'max_depth': 11, 'min_samples_split': 600},\n",
              "   {'max_depth': 11, 'min_samples_split': 800},\n",
              "   {'max_depth': 11, 'min_samples_split': 1000},\n",
              "   {'max_depth': 13, 'min_samples_split': 200},\n",
              "   {'max_depth': 13, 'min_samples_split': 400},\n",
              "   {'max_depth': 13, 'min_samples_split': 600},\n",
              "   {'max_depth': 13, 'min_samples_split': 800},\n",
              "   {'max_depth': 13, 'min_samples_split': 1000},\n",
              "   {'max_depth': 15, 'min_samples_split': 200},\n",
              "   {'max_depth': 15, 'min_samples_split': 400},\n",
              "   {'max_depth': 15, 'min_samples_split': 600},\n",
              "   {'max_depth': 15, 'min_samples_split': 800},\n",
              "   {'max_depth': 15, 'min_samples_split': 1000}],\n",
              "  'rank_test_score': array([28, 26, 27, 29, 30, 12, 19, 23, 24, 25,  7,  9, 14, 15, 22,  4,  5,\n",
              "         11, 13, 21,  2,  6, 10, 20, 18,  1,  3,  8, 16, 17], dtype=int32),\n",
              "  'split0_test_score': array([0.94136587, 0.94162134, 0.94297876, 0.94052166, 0.93982607,\n",
              "         0.94708023, 0.94506597, 0.94381192, 0.94532614, 0.9424271 ,\n",
              "         0.94874655, 0.94719299, 0.94576474, 0.94702454, 0.94540181,\n",
              "         0.94862881, 0.94846354, 0.94820262, 0.94738232, 0.94601733,\n",
              "         0.94841314, 0.94837424, 0.94705602, 0.94624284, 0.94647606,\n",
              "         0.94834095, 0.94885144, 0.9478745 , 0.94652374, 0.94582906]),\n",
              "  'split1_test_score': array([0.93752607, 0.94309696, 0.94118349, 0.93999936, 0.93988813,\n",
              "         0.94610118, 0.94608377, 0.94616853, 0.94546477, 0.94321365,\n",
              "         0.94789962, 0.94750082, 0.94765626, 0.94557979, 0.94486892,\n",
              "         0.94888246, 0.94984078, 0.94880346, 0.94648121, 0.94564548,\n",
              "         0.94994294, 0.9488534 , 0.94969595, 0.94596648, 0.94620152,\n",
              "         0.95000106, 0.94884917, 0.94870297, 0.9459972 , 0.94637027]),\n",
              "  'split2_test_score': array([0.93973809, 0.94125633, 0.93830611, 0.93835689, 0.9375044 ,\n",
              "         0.9457701 , 0.94283656, 0.94000033, 0.94028348, 0.9385112 ,\n",
              "         0.94471192, 0.94346683, 0.94185098, 0.94217294, 0.94040384,\n",
              "         0.94732745, 0.94441497, 0.942395  , 0.941201  , 0.93947889,\n",
              "         0.94604947, 0.94448258, 0.943373  , 0.94118721, 0.9410185 ,\n",
              "         0.94664382, 0.94577586, 0.94436828, 0.94038595, 0.94098939]),\n",
              "  'split3_test_score': array([0.93188165, 0.92989518, 0.93050378, 0.93104659, 0.9291056 ,\n",
              "         0.93636345, 0.9334925 , 0.93235686, 0.93172325, 0.93399575,\n",
              "         0.9397246 , 0.94002761, 0.9346521 , 0.93526176, 0.93403304,\n",
              "         0.93654701, 0.93851165, 0.93615851, 0.93745256, 0.93371366,\n",
              "         0.93844935, 0.94000093, 0.93654261, 0.9350165 , 0.93462921,\n",
              "         0.94149158, 0.93917163, 0.93839599, 0.93705147, 0.93535558]),\n",
              "  'split4_test_score': array([0.93638847, 0.93601808, 0.93581962, 0.93697262, 0.93685512,\n",
              "         0.94021163, 0.94099667, 0.93995586, 0.93876633, 0.93868628,\n",
              "         0.94234115, 0.9428304 , 0.94130777, 0.94102426, 0.94026651,\n",
              "         0.94314226, 0.94274201, 0.94006881, 0.94064827, 0.94104473,\n",
              "         0.9432593 , 0.94187298, 0.94035657, 0.93985368, 0.94077335,\n",
              "         0.94398067, 0.94212359, 0.94198638, 0.93989204, 0.94061097]),\n",
              "  'std_fit_time': array([0.13211242, 0.06111629, 0.0125978 , 0.02004086, 0.01404583,\n",
              "         0.01910482, 0.02570918, 0.04353847, 0.06253751, 0.04007287,\n",
              "         0.04539331, 0.0373675 , 0.0280842 , 0.01951373, 0.05149268,\n",
              "         0.05062339, 0.08100875, 0.05048994, 0.13326009, 0.05550027,\n",
              "         0.06999117, 0.035311  , 0.02142823, 0.03560215, 0.0245241 ,\n",
              "         0.0722769 , 0.06792652, 0.11499139, 0.03465575, 0.24059779]),\n",
              "  'std_score_time': array([0.00559849, 0.00372987, 0.00435119, 0.00583334, 0.00439029,\n",
              "         0.0065827 , 0.00492018, 0.00208755, 0.00325437, 0.00911634,\n",
              "         0.00324501, 0.002478  , 0.00404707, 0.00312459, 0.01093567,\n",
              "         0.00353785, 0.00425971, 0.00228225, 0.0042896 , 0.00423721,\n",
              "         0.00382008, 0.00555088, 0.00373983, 0.00429189, 0.0035549 ,\n",
              "         0.00312583, 0.00345604, 0.00875649, 0.00302176, 0.01040783]),\n",
              "  'std_test_score': array([0.00324604, 0.00487032, 0.00437428, 0.0034048 , 0.00395631,\n",
              "         0.00414011, 0.00446535, 0.00468933, 0.00505666, 0.00329263,\n",
              "         0.00337431, 0.00281693, 0.00448009, 0.00410416, 0.00409332,\n",
              "         0.00465872, 0.00406836, 0.0048256 , 0.00374677, 0.0045166 ,\n",
              "         0.00407127, 0.00348912, 0.0046753 , 0.00417541, 0.00434332,\n",
              "         0.00304186, 0.00380749, 0.00380452, 0.00368711, 0.00401789])},\n",
              " {'max_depth': 15, 'min_samples_split': 200},\n",
              " 0.9460916140457403)"
            ]
          },
          "metadata": {
            "tags": []
          },
          "execution_count": 13
        }
      ]
    },
    {
      "cell_type": "markdown",
      "metadata": {
        "id": "VlPpeKm5t_h7",
        "colab_type": "text"
      },
      "source": [
        " {'max_depth': 15, 'min_samples_split': 200},\n",
        " 0.9460916140457403)"
      ]
    },
    {
      "cell_type": "code",
      "metadata": {
        "id": "4dCHjVbXoqG5",
        "colab_type": "code",
        "outputId": "2b754e57-e081-454b-cb3f-2fde92c96e04",
        "colab": {
          "base_uri": "https://localhost:8080/",
          "height": 1000
        }
      },
      "source": [
        "param_test3 = {'min_samples_split':range(1000,2100,200), 'min_samples_leaf':range(30,71,10)}\n",
        "gsearch3 = GridSearchCV(estimator = GradientBoostingClassifier(learning_rate=0.1, n_estimators=20,max_depth=15,max_features='sqrt', subsample=0.8, random_state=10), \n",
        "param_grid = param_test3, scoring='roc_auc',n_jobs=4,iid=False, cv=5)\n",
        "gsearch3.fit(X_train,y_train)\n",
        "gsearch3.cv_results_, gsearch3.best_params_, gsearch3.best_score_"
      ],
      "execution_count": 0,
      "outputs": [
        {
          "output_type": "execute_result",
          "data": {
            "text/plain": [
              "({'mean_fit_time': array([1.72693772, 1.58387008, 1.54879265, 1.46255541, 1.44013572,\n",
              "         1.33873143, 1.70208116, 1.6160233 , 1.55619717, 1.45295296,\n",
              "         1.37908168, 1.33336215, 1.67493258, 1.59908094, 1.47066026,\n",
              "         1.46176724, 1.40870218, 1.36564565, 1.67107077, 1.56885362,\n",
              "         1.47003484, 1.4381062 , 1.41255255, 1.33037434, 1.68096695,\n",
              "         1.55745034, 1.47322621, 1.41438646, 1.39188151, 1.01322112]),\n",
              "  'mean_score_time': array([0.03210969, 0.0364697 , 0.03210454, 0.03181524, 0.03181052,\n",
              "         0.03007598, 0.03236098, 0.03367658, 0.03399858, 0.03026214,\n",
              "         0.03293805, 0.0355979 , 0.03097401, 0.02960038, 0.02865853,\n",
              "         0.03171253, 0.02626448, 0.02969742, 0.02883534, 0.02896204,\n",
              "         0.03156452, 0.02879558, 0.03373146, 0.03094196, 0.03418646,\n",
              "         0.03421149, 0.03527241, 0.03016381, 0.02753763, 0.02731004]),\n",
              "  'mean_test_score': array([0.9414403 , 0.93943114, 0.93782888, 0.93811599, 0.93691209,\n",
              "         0.93610728, 0.94108382, 0.93894293, 0.93814795, 0.93752111,\n",
              "         0.93695915, 0.93559994, 0.9408538 , 0.93863162, 0.93739434,\n",
              "         0.93670063, 0.93645986, 0.93539611, 0.93997392, 0.93768884,\n",
              "         0.93783052, 0.93645954, 0.93652166, 0.9349968 , 0.93993945,\n",
              "         0.9377416 , 0.93722356, 0.9368654 , 0.93644629, 0.93489413]),\n",
              "  'param_min_samples_leaf': masked_array(data=[30, 30, 30, 30, 30, 30, 40, 40, 40, 40, 40, 40, 50, 50,\n",
              "                     50, 50, 50, 50, 60, 60, 60, 60, 60, 60, 70, 70, 70, 70,\n",
              "                     70, 70],\n",
              "               mask=[False, False, False, False, False, False, False, False,\n",
              "                     False, False, False, False, False, False, False, False,\n",
              "                     False, False, False, False, False, False, False, False,\n",
              "                     False, False, False, False, False, False],\n",
              "         fill_value='?',\n",
              "              dtype=object),\n",
              "  'param_min_samples_split': masked_array(data=[1000, 1200, 1400, 1600, 1800, 2000, 1000, 1200, 1400,\n",
              "                     1600, 1800, 2000, 1000, 1200, 1400, 1600, 1800, 2000,\n",
              "                     1000, 1200, 1400, 1600, 1800, 2000, 1000, 1200, 1400,\n",
              "                     1600, 1800, 2000],\n",
              "               mask=[False, False, False, False, False, False, False, False,\n",
              "                     False, False, False, False, False, False, False, False,\n",
              "                     False, False, False, False, False, False, False, False,\n",
              "                     False, False, False, False, False, False],\n",
              "         fill_value='?',\n",
              "              dtype=object),\n",
              "  'params': [{'min_samples_leaf': 30, 'min_samples_split': 1000},\n",
              "   {'min_samples_leaf': 30, 'min_samples_split': 1200},\n",
              "   {'min_samples_leaf': 30, 'min_samples_split': 1400},\n",
              "   {'min_samples_leaf': 30, 'min_samples_split': 1600},\n",
              "   {'min_samples_leaf': 30, 'min_samples_split': 1800},\n",
              "   {'min_samples_leaf': 30, 'min_samples_split': 2000},\n",
              "   {'min_samples_leaf': 40, 'min_samples_split': 1000},\n",
              "   {'min_samples_leaf': 40, 'min_samples_split': 1200},\n",
              "   {'min_samples_leaf': 40, 'min_samples_split': 1400},\n",
              "   {'min_samples_leaf': 40, 'min_samples_split': 1600},\n",
              "   {'min_samples_leaf': 40, 'min_samples_split': 1800},\n",
              "   {'min_samples_leaf': 40, 'min_samples_split': 2000},\n",
              "   {'min_samples_leaf': 50, 'min_samples_split': 1000},\n",
              "   {'min_samples_leaf': 50, 'min_samples_split': 1200},\n",
              "   {'min_samples_leaf': 50, 'min_samples_split': 1400},\n",
              "   {'min_samples_leaf': 50, 'min_samples_split': 1600},\n",
              "   {'min_samples_leaf': 50, 'min_samples_split': 1800},\n",
              "   {'min_samples_leaf': 50, 'min_samples_split': 2000},\n",
              "   {'min_samples_leaf': 60, 'min_samples_split': 1000},\n",
              "   {'min_samples_leaf': 60, 'min_samples_split': 1200},\n",
              "   {'min_samples_leaf': 60, 'min_samples_split': 1400},\n",
              "   {'min_samples_leaf': 60, 'min_samples_split': 1600},\n",
              "   {'min_samples_leaf': 60, 'min_samples_split': 1800},\n",
              "   {'min_samples_leaf': 60, 'min_samples_split': 2000},\n",
              "   {'min_samples_leaf': 70, 'min_samples_split': 1000},\n",
              "   {'min_samples_leaf': 70, 'min_samples_split': 1200},\n",
              "   {'min_samples_leaf': 70, 'min_samples_split': 1400},\n",
              "   {'min_samples_leaf': 70, 'min_samples_split': 1600},\n",
              "   {'min_samples_leaf': 70, 'min_samples_split': 1800},\n",
              "   {'min_samples_leaf': 70, 'min_samples_split': 2000}],\n",
              "  'rank_test_score': array([ 1,  6, 12, 10, 19, 26,  2,  7,  9, 15, 18, 27,  3,  8, 16, 21, 23,\n",
              "         28,  4, 14, 11, 24, 22, 29,  5, 13, 17, 20, 25, 30], dtype=int32),\n",
              "  'split0_test_score': array([0.94646713, 0.94135436, 0.94089533, 0.94211352, 0.94003887,\n",
              "         0.93863998, 0.94510699, 0.93974874, 0.94099583, 0.94069207,\n",
              "         0.94075594, 0.93912186, 0.94450781, 0.93990114, 0.94200788,\n",
              "         0.94025605, 0.93950583, 0.93875212, 0.94349954, 0.93919799,\n",
              "         0.94220932, 0.93938778, 0.93989085, 0.93952565, 0.94211548,\n",
              "         0.94077471, 0.93905739, 0.93972634, 0.93981608, 0.93861394]),\n",
              "  'split1_test_score': array([0.94606803, 0.94461678, 0.94351377, 0.9444503 , 0.94339829,\n",
              "         0.94222021, 0.94585085, 0.94468458, 0.94325678, 0.94454943,\n",
              "         0.94360306, 0.94191858, 0.94557934, 0.94387185, 0.94251246,\n",
              "         0.9426906 , 0.9422078 , 0.94048004, 0.94526893, 0.9428934 ,\n",
              "         0.94402925, 0.9417854 , 0.94254621, 0.94118516, 0.94501345,\n",
              "         0.94305837, 0.9439221 , 0.94217405, 0.94266759, 0.9404646 ]),\n",
              "  'split2_test_score': array([0.9395133 , 0.93950996, 0.93690914, 0.93627523, 0.935755  ,\n",
              "         0.93430619, 0.94110171, 0.93964078, 0.93711635, 0.93644818,\n",
              "         0.93517217, 0.93413233, 0.93976613, 0.9387413 , 0.93516823,\n",
              "         0.93494389, 0.93497891, 0.93503241, 0.93992014, 0.93810966,\n",
              "         0.93642832, 0.93471925, 0.93512109, 0.93515747, 0.93989089,\n",
              "         0.93726475, 0.93588475, 0.93511594, 0.93480792, 0.93443791]),\n",
              "  'split3_test_score': array([0.9360762 , 0.93309945, 0.93044451, 0.929877  , 0.9295849 ,\n",
              "         0.93078133, 0.93402486, 0.93193759, 0.93201626, 0.92913076,\n",
              "         0.92960673, 0.92912637, 0.9346521 , 0.93303564, 0.93111102,\n",
              "         0.92994733, 0.93027338, 0.92900328, 0.93303928, 0.93017349,\n",
              "         0.93019395, 0.93045725, 0.93135294, 0.92727541, 0.93427375,\n",
              "         0.93099809, 0.93110086, 0.93069614, 0.93095822, 0.93005116]),\n",
              "  'split4_test_score': array([0.93907683, 0.93857515, 0.93738167, 0.93786394, 0.93578339,\n",
              "         0.9345887 , 0.93933471, 0.93870295, 0.93735453, 0.93678508,\n",
              "         0.93565786, 0.93370056, 0.93976362, 0.93760817, 0.93617212,\n",
              "         0.93566529, 0.93533341, 0.93371269, 0.93814169, 0.93806968,\n",
              "         0.93629174, 0.93594804, 0.93369723, 0.9318403 , 0.93840367,\n",
              "         0.93661209, 0.93615271, 0.93661452, 0.93398165, 0.93090305]),\n",
              "  'std_fit_time': array([0.05426184, 0.0514222 , 0.04343901, 0.09042189, 0.03896531,\n",
              "         0.03480785, 0.02729404, 0.05177522, 0.02052828, 0.05846603,\n",
              "         0.03692221, 0.07556059, 0.0263431 , 0.06107478, 0.03798693,\n",
              "         0.07762105, 0.06282899, 0.09238786, 0.07151804, 0.01948487,\n",
              "         0.01979216, 0.02200655, 0.029873  , 0.04014793, 0.03842226,\n",
              "         0.03163199, 0.01513918, 0.03786329, 0.01492918, 0.28440755]),\n",
              "  'std_score_time': array([0.00359218, 0.00603927, 0.00283644, 0.00346127, 0.00438616,\n",
              "         0.00396907, 0.00346491, 0.00306866, 0.0075642 , 0.00245643,\n",
              "         0.00424922, 0.00975961, 0.00306022, 0.00668231, 0.00110144,\n",
              "         0.0105713 , 0.00299613, 0.00578697, 0.00398688, 0.00126964,\n",
              "         0.00303795, 0.00290924, 0.00646094, 0.00324905, 0.00480446,\n",
              "         0.009699  , 0.00719249, 0.00263413, 0.00086866, 0.01292595]),\n",
              "  'std_test_score': array([0.00411723, 0.00377939, 0.00441126, 0.0050485 , 0.00465077,\n",
              "         0.00394204, 0.00428484, 0.00408008, 0.00383411, 0.00512919,\n",
              "         0.00484772, 0.00447209, 0.00391191, 0.0035056 , 0.00432226,\n",
              "         0.00443364, 0.00410003, 0.00402352, 0.00428757, 0.00415133,\n",
              "         0.00490407, 0.00390531, 0.00410613, 0.00506785, 0.00360394,\n",
              "         0.00410965, 0.00421094, 0.00393828, 0.00421753, 0.00410995])},\n",
              " {'min_samples_leaf': 30, 'min_samples_split': 1000},\n",
              " 0.9414402977509765)"
            ]
          },
          "metadata": {
            "tags": []
          },
          "execution_count": 14
        }
      ]
    },
    {
      "cell_type": "code",
      "metadata": {
        "id": "pEl2fJ71orbH",
        "colab_type": "code",
        "colab": {}
      },
      "source": [
        "def modelfit(alg, dtrain, dtest, performCV=True, printFeatureImportance=True, cv_folds=5):\n",
        "    #Fit the algorithm on the data\n",
        "    alg.fit(dtrain, dtest)\n",
        "        \n",
        "    #Predict training set:\n",
        "    dtrain_predictions = alg.predict(dtrain)\n",
        "    dtrain_predprob = alg.predict_proba(dtrain)[:,1]\n",
        "    \n",
        "    #Perform cross-validation:\n",
        "    if performCV:\n",
        "        cv_score = cross_val_score(alg, dtrain, dtest, cv=cv_folds, scoring='roc_auc')\n",
        "    \n",
        "    #Print model report:\n",
        "    print (\"\\nModel Report\")\n",
        "    print (\"Accuracy : %.4g\" % metrics.accuracy_score(dtest, dtrain_predictions))\n",
        "    print (\"AUC Score (Train): %f\" % metrics.roc_auc_score(dtest, dtrain_predprob))\n",
        "    \n",
        "    if performCV:\n",
        "        print (\"CV Score : Mean - %.7g | Std - %.7g | Min - %.7g | Max - %.7g\" % (np.mean(cv_score),np.std(cv_score),np.min(cv_score),np.max(cv_score)))\n",
        "        \n",
        "    #Print Feature Importance:\n",
        "    if printFeatureImportance:\n",
        "        feat_imp = pd.Series(alg.feature_importances_, dtrain.columns).sort_values(ascending=False)\n",
        "        feat_imp.plot(kind='bar', title='Feature Importances')\n",
        "        plt.ylabel('Feature Importance Score')\n",
        "        plt.show()"
      ],
      "execution_count": 0,
      "outputs": []
    },
    {
      "cell_type": "code",
      "metadata": {
        "id": "y2LRKJH0vVa_",
        "colab_type": "code",
        "outputId": "95ad408f-5ab7-445d-8f76-f69a7abae1ba",
        "colab": {
          "base_uri": "https://localhost:8080/",
          "height": 102
        }
      },
      "source": [
        "predictors = X_train.columns\n",
        "print (predictors)\n",
        "#modelfit(gsearch3.best_estimator_, y_train, y_test)"
      ],
      "execution_count": 0,
      "outputs": [
        {
          "output_type": "stream",
          "text": [
            "Index(['age', 'job', 'marital', 'education', 'default', 'housing', 'loan',\n",
            "       'contact', 'month', 'day_of_week', 'duration', 'campaign', 'pdays',\n",
            "       'previous', 'poutcome', 'emp.var.rate', 'cons.price.idx',\n",
            "       'cons.conf.idx', 'euribor3m', 'nr.employed'],\n",
            "      dtype='object')\n"
          ],
          "name": "stdout"
        }
      ]
    },
    {
      "cell_type": "code",
      "metadata": {
        "id": "CVFHc4qLvq_g",
        "colab_type": "code",
        "outputId": "acac5a3b-cc20-44cd-fd4f-30223ed963fb",
        "colab": {
          "base_uri": "https://localhost:8080/",
          "height": 426
        }
      },
      "source": [
        "modelfit(gsearch3.best_estimator_, X_test, y_test)"
      ],
      "execution_count": 0,
      "outputs": [
        {
          "output_type": "stream",
          "text": [
            "\n",
            "Model Report\n",
            "Accuracy : 0.9083\n",
            "AUC Score (Train): 0.945946\n",
            "CV Score : Mean - 0.9363128 | Std - 0.007637346 | Min - 0.9256457 | Max - 0.9451055\n"
          ],
          "name": "stdout"
        },
        {
          "output_type": "display_data",
          "data": {
            "image/png": "[encoded data removed]",
            "text/plain": [
              "<Figure size 432x288 with 1 Axes>"
            ]
          },
          "metadata": {
            "tags": []
          }
        }
      ]
    },
    {
      "cell_type": "markdown",
      "metadata": {
        "id": "wBUCc87wNa4H",
        "colab_type": "text"
      },
      "source": [
        "<font color=brown size=5>\n",
        "XGBoost Starts here\n",
        "\n",
        "<font color=green size=1>\n",
        "https://www.analyticsvidhya.com/blog/2016/03/complete-guide-parameter-tuning-xgboost-with-codes-python/"
      ]
    },
    {
      "cell_type": "code",
      "metadata": {
        "id": "LwYZZnBp2RFv",
        "colab_type": "code",
        "colab": {}
      },
      "source": [
        "#Import libraries:\n",
        "import pandas as pd\n",
        "import numpy as np\n",
        "import xgboost as xgb\n",
        "from xgboost.sklearn import XGBClassifier\n",
        "from sklearn import  metrics   #Additional scklearn functions\n",
        "from sklearn.model_selection import GridSearchCV   #Perforing grid search\n",
        "\n",
        "import matplotlib.pylab as plt\n",
        "%matplotlib inline\n",
        "from matplotlib.pylab import rcParams\n",
        "rcParams['figure.figsize'] = 12, 4"
      ],
      "execution_count": 0,
      "outputs": []
    },
    {
      "cell_type": "code",
      "metadata": {
        "id": "vskwq4zjRpIW",
        "colab_type": "code",
        "outputId": "e0a553ab-ff3b-47ae-a292-d18ad06facb9",
        "colab": {
          "base_uri": "https://localhost:8080/",
          "height": 224
        }
      },
      "source": [
        "df = pd.read_csv('My Drive/MyLearning/MLDLAIPython/Data/TextData/bank-additional-full_prj.csv')\n",
        "\n",
        "df.head()"
      ],
      "execution_count": 0,
      "outputs": [
        {
          "output_type": "execute_result",
          "data": {
            "text/html": [
              "<div>\n",
              "<style scoped>\n",
              "    .dataframe tbody tr th:only-of-type {\n",
              "        vertical-align: middle;\n",
              "    }\n",
              "\n",
              "    .dataframe tbody tr th {\n",
              "        vertical-align: top;\n",
              "    }\n",
              "\n",
              "    .dataframe thead th {\n",
              "        text-align: right;\n",
              "    }\n",
              "</style>\n",
              "<table border=\"1\" class=\"dataframe\">\n",
              "  <thead>\n",
              "    <tr style=\"text-align: right;\">\n",
              "      <th></th>\n",
              "      <th>age</th>\n",
              "      <th>job</th>\n",
              "      <th>marital</th>\n",
              "      <th>education</th>\n",
              "      <th>default</th>\n",
              "      <th>housing</th>\n",
              "      <th>loan</th>\n",
              "      <th>contact</th>\n",
              "      <th>month</th>\n",
              "      <th>day_of_week</th>\n",
              "      <th>duration</th>\n",
              "      <th>campaign</th>\n",
              "      <th>pdays</th>\n",
              "      <th>previous</th>\n",
              "      <th>poutcome</th>\n",
              "      <th>emp.var.rate</th>\n",
              "      <th>cons.price.idx</th>\n",
              "      <th>cons.conf.idx</th>\n",
              "      <th>euribor3m</th>\n",
              "      <th>nr.employed</th>\n",
              "      <th>y</th>\n",
              "    </tr>\n",
              "  </thead>\n",
              "  <tbody>\n",
              "    <tr>\n",
              "      <th>0</th>\n",
              "      <td>56</td>\n",
              "      <td>housemaid</td>\n",
              "      <td>married</td>\n",
              "      <td>basic.4y</td>\n",
              "      <td>no</td>\n",
              "      <td>no</td>\n",
              "      <td>no</td>\n",
              "      <td>telephone</td>\n",
              "      <td>may</td>\n",
              "      <td>mon</td>\n",
              "      <td>261</td>\n",
              "      <td>1</td>\n",
              "      <td>999</td>\n",
              "      <td>0</td>\n",
              "      <td>nonexistent</td>\n",
              "      <td>1.1</td>\n",
              "      <td>93.994</td>\n",
              "      <td>-36.4</td>\n",
              "      <td>4.857</td>\n",
              "      <td>5191.0</td>\n",
              "      <td>no</td>\n",
              "    </tr>\n",
              "    <tr>\n",
              "      <th>1</th>\n",
              "      <td>57</td>\n",
              "      <td>services</td>\n",
              "      <td>married</td>\n",
              "      <td>high.school</td>\n",
              "      <td>unknown</td>\n",
              "      <td>no</td>\n",
              "      <td>no</td>\n",
              "      <td>telephone</td>\n",
              "      <td>may</td>\n",
              "      <td>mon</td>\n",
              "      <td>149</td>\n",
              "      <td>1</td>\n",
              "      <td>999</td>\n",
              "      <td>0</td>\n",
              "      <td>nonexistent</td>\n",
              "      <td>1.1</td>\n",
              "      <td>93.994</td>\n",
              "      <td>-36.4</td>\n",
              "      <td>4.857</td>\n",
              "      <td>5191.0</td>\n",
              "      <td>no</td>\n",
              "    </tr>\n",
              "    <tr>\n",
              "      <th>2</th>\n",
              "      <td>37</td>\n",
              "      <td>services</td>\n",
              "      <td>married</td>\n",
              "      <td>high.school</td>\n",
              "      <td>no</td>\n",
              "      <td>yes</td>\n",
              "      <td>no</td>\n",
              "      <td>telephone</td>\n",
              "      <td>may</td>\n",
              "      <td>mon</td>\n",
              "      <td>226</td>\n",
              "      <td>1</td>\n",
              "      <td>999</td>\n",
              "      <td>0</td>\n",
              "      <td>nonexistent</td>\n",
              "      <td>1.1</td>\n",
              "      <td>93.994</td>\n",
              "      <td>-36.4</td>\n",
              "      <td>4.857</td>\n",
              "      <td>5191.0</td>\n",
              "      <td>no</td>\n",
              "    </tr>\n",
              "    <tr>\n",
              "      <th>3</th>\n",
              "      <td>40</td>\n",
              "      <td>admin.</td>\n",
              "      <td>married</td>\n",
              "      <td>basic.6y</td>\n",
              "      <td>no</td>\n",
              "      <td>no</td>\n",
              "      <td>no</td>\n",
              "      <td>telephone</td>\n",
              "      <td>may</td>\n",
              "      <td>mon</td>\n",
              "      <td>151</td>\n",
              "      <td>1</td>\n",
              "      <td>999</td>\n",
              "      <td>0</td>\n",
              "      <td>nonexistent</td>\n",
              "      <td>1.1</td>\n",
              "      <td>93.994</td>\n",
              "      <td>-36.4</td>\n",
              "      <td>4.857</td>\n",
              "      <td>5191.0</td>\n",
              "      <td>no</td>\n",
              "    </tr>\n",
              "    <tr>\n",
              "      <th>4</th>\n",
              "      <td>56</td>\n",
              "      <td>services</td>\n",
              "      <td>married</td>\n",
              "      <td>high.school</td>\n",
              "      <td>no</td>\n",
              "      <td>no</td>\n",
              "      <td>yes</td>\n",
              "      <td>telephone</td>\n",
              "      <td>may</td>\n",
              "      <td>mon</td>\n",
              "      <td>307</td>\n",
              "      <td>1</td>\n",
              "      <td>999</td>\n",
              "      <td>0</td>\n",
              "      <td>nonexistent</td>\n",
              "      <td>1.1</td>\n",
              "      <td>93.994</td>\n",
              "      <td>-36.4</td>\n",
              "      <td>4.857</td>\n",
              "      <td>5191.0</td>\n",
              "      <td>no</td>\n",
              "    </tr>\n",
              "  </tbody>\n",
              "</table>\n",
              "</div>"
            ],
            "text/plain": [
              "   age        job  marital    education  default housing loan    contact  \\\n",
              "0   56  housemaid  married     basic.4y       no      no   no  telephone   \n",
              "1   57   services  married  high.school  unknown      no   no  telephone   \n",
              "2   37   services  married  high.school       no     yes   no  telephone   \n",
              "3   40     admin.  married     basic.6y       no      no   no  telephone   \n",
              "4   56   services  married  high.school       no      no  yes  telephone   \n",
              "\n",
              "  month day_of_week  duration  campaign  pdays  previous     poutcome  \\\n",
              "0   may         mon       261         1    999         0  nonexistent   \n",
              "1   may         mon       149         1    999         0  nonexistent   \n",
              "2   may         mon       226         1    999         0  nonexistent   \n",
              "3   may         mon       151         1    999         0  nonexistent   \n",
              "4   may         mon       307         1    999         0  nonexistent   \n",
              "\n",
              "   emp.var.rate  cons.price.idx  cons.conf.idx  euribor3m  nr.employed   y  \n",
              "0           1.1          93.994          -36.4      4.857       5191.0  no  \n",
              "1           1.1          93.994          -36.4      4.857       5191.0  no  \n",
              "2           1.1          93.994          -36.4      4.857       5191.0  no  \n",
              "3           1.1          93.994          -36.4      4.857       5191.0  no  \n",
              "4           1.1          93.994          -36.4      4.857       5191.0  no  "
            ]
          },
          "metadata": {
            "tags": []
          },
          "execution_count": 19
        }
      ]
    },
    {
      "cell_type": "code",
      "metadata": {
        "id": "16-0DynSTb3y",
        "colab_type": "code",
        "colab": {}
      },
      "source": [
        "# Separating with continuous and categorical variables.\n",
        "\n",
        "#X_cont = ['age', 'campaign', 'pdays', 'previous', 'emp.var.rate', 'cons.price.idx', 'euribor3m', 'nr.employed']\n",
        "X_cont = ['age', 'campaign', 'pdays', 'previous', 'emp.var.rate', 'cons.price.idx', 'euribor3m', 'nr.employed']\n",
        "X_cat = ['job', 'marital', 'education', 'default', 'housing', 'loan', 'contact', 'month', 'day_of_week', 'poutcome']\n",
        "\n",
        "cont_df = df[X_cont]\n",
        "cat_df = df[X_cat]\n",
        "\n",
        "# Creating dummyX variable dataframe from categorical variables.\n",
        "\n",
        "X = cont_df.join(pd.get_dummies(cat_df))\n",
        "y = df.iloc[:, 20].replace(('yes', 'no'), (1, 0))"
      ],
      "execution_count": 0,
      "outputs": []
    },
    {
      "cell_type": "code",
      "metadata": {
        "id": "-S-qX3WyTsDX",
        "colab_type": "code",
        "colab": {}
      },
      "source": [
        "mappings = []\n",
        "\n",
        "from sklearn.preprocessing import LabelEncoder\n",
        "\n",
        "label_encoder = LabelEncoder()\n",
        "\n",
        "allabel_df = df\n",
        "label_df = df.drop('y', axis=1)\n",
        "for i, col in enumerate(label_df):\n",
        "    if label_df[col].dtype == 'object':\n",
        "        label_df[col] = label_encoder.fit_transform(np.array(label_df[col].astype(str)).reshape((-1,)))\n",
        "        mappings.append(dict(zip(label_encoder.classes_, range(1, len(label_encoder.classes_)+1))))"
      ],
      "execution_count": 0,
      "outputs": []
    },
    {
      "cell_type": "code",
      "metadata": {
        "id": "ZA6rxrs9ZDuP",
        "colab_type": "code",
        "outputId": "a307b315-58fa-43b2-bd82-b5047fcddcca",
        "colab": {
          "base_uri": "https://localhost:8080/",
          "height": 54
        }
      },
      "source": [
        "##Split The Data into Train and Test\n",
        "from sklearn.model_selection import train_test_split\n",
        "X_train,X_test,y_train,y_test= train_test_split(label_df, y, test_size=0.30, random_state=110)\n",
        "\n",
        "#Convert DataFrame to Numpy array\n",
        "\n",
        "Xtrain=X_train.values\n",
        "Xtest=X_test.values\n",
        "ytrain=y_train.values\n",
        "ytest=y_test.values"
      ],
      "execution_count": 0,
      "outputs": [
        {
          "output_type": "execute_result",
          "data": {
            "text/plain": [
              "\"\\n#Choose all predictors except target & IDcols\\n#predictors = [x for x in train.columns if x not in [target, IDcol]]\\nparam_test1 = {'n_estimators':range(20,81,100)}\\ngsearch1 = GridSearchCV(estimator = GradientBoostingClassifier\\n                        (\\n                            learning_rate=0.1, min_samples_split=500, min_samples_leaf=100, max_depth=10, max_features='sqrt', subsample=0.8\\n                            , random_state=10), param_grid = param_test1, scoring='roc_auc',n_jobs=4,iid=False, cv=5\\n                        )\\ngsearch1.fit(X_train,y_train)\\n\""
            ]
          },
          "metadata": {
            "tags": []
          },
          "execution_count": 22
        }
      ]
    },
    {
      "cell_type": "code",
      "metadata": {
        "id": "m-ueCsmjWvqN",
        "colab_type": "code",
        "colab": {}
      },
      "source": [
        "def modelfit_xgb(alg, dtrain, dtest, opt, useTrainCV=True, cv_folds=5, early_stopping_rounds=50):\n",
        "  if useTrainCV:\n",
        "    xgb_param = alg.get_xgb_params()\n",
        "    xgtrain = xgb.DMatrix(data=dtrain, label=dtest)\n",
        "    cvresult = xgb.cv(xgb_param, xgtrain, num_boost_round=alg.get_params()['n_estimators'], nfold=cv_folds, metrics='auc', \n",
        "                      early_stopping_rounds=early_stopping_rounds)\n",
        "    alg.set_params(n_estimators=cvresult.shape[0])\n",
        "    #Fit the algorithm on the data\n",
        "    alg.fit(dtrain, dtest, eval_metric='auc')\n",
        "        \n",
        "    #Predict training set:\n",
        "    dtrain_predictions = alg.predict(dtrain)\n",
        "    dtrain_predprob = alg.predict_proba(dtrain)[:,1]\n",
        "    #Print model report:\n",
        "    print (\"\\nModel Report\")\n",
        "    print (\"Accuracy : %.4g\" % metrics.accuracy_score(dtest, dtrain_predictions))\n",
        "    print (\"AUC Score (\",opt,\"): %f\" % metrics.roc_auc_score(dtest, dtrain_predprob))\n",
        "    \n",
        "                    \n",
        "    feat_imp = pd.Series(alg.feature_importances_, dtrain.columns).sort_values(ascending=False)\n",
        "    feat_imp.plot(kind='bar', title='Feature Importances')\n",
        "    plt.ylabel('Feature Importance Score')\n",
        "    plt.show()\n",
        "    return dtrain_predictions,dtrain_predprob"
      ],
      "execution_count": 0,
      "outputs": []
    },
    {
      "cell_type": "markdown",
      "metadata": {
        "id": "laR694fNuE_e",
        "colab_type": "text"
      },
      "source": [
        "<font color=red size=4>\n",
        "Trail 1: Fix learning rate and number of estimators for tuning tree-based parameters"
      ]
    },
    {
      "cell_type": "code",
      "metadata": {
        "id": "3YGHpy5-ZATc",
        "colab_type": "code",
        "outputId": "2bf3abf2-30a4-45d9-8b1c-33c94f24a651",
        "colab": {
          "base_uri": "https://localhost:8080/",
          "height": 443
        }
      },
      "source": [
        "xgb1 = XGBClassifier(\n",
        " learning_rate =0.1,\n",
        " n_estimators=1000,\n",
        " max_depth=5,\n",
        " min_child_weight=1,\n",
        " gamma=0,\n",
        " subsample=0.8,\n",
        " colsample_bytree=0.8,\n",
        " objective= 'binary:logistic',\n",
        " nthread=4,\n",
        " scale_pos_weight=1,\n",
        " seed=27)\n",
        "#modelfit_xgb(xgb1, Xtrain, ytrain)\n",
        "preds, predprbs = modelfit_xgb(xgb1, X_train, y_train, \"Train\")"
      ],
      "execution_count": 0,
      "outputs": [
        {
          "output_type": "stream",
          "text": [
            "/usr/local/lib/python3.6/dist-packages/xgboost/core.py:587: FutureWarning: Series.base is deprecated and will be removed in a future version\n",
            "  if getattr(data, 'base', None) is not None and \\\n"
          ],
          "name": "stderr"
        },
        {
          "output_type": "stream",
          "text": [
            "\n",
            "Model Report\n",
            "Accuracy : 0.9356\n",
            "AUC Score ( Train ): 0.967257\n"
          ],
          "name": "stdout"
        },
        {
          "output_type": "display_data",
          "data": {
            "image/png": "[encoded data removed]",
            "text/plain": [
              "<Figure size 864x288 with 1 Axes>"
            ]
          },
          "metadata": {
            "tags": []
          }
        }
      ]
    },
    {
      "cell_type": "markdown",
      "metadata": {
        "id": "wIIJLIq7u_PD",
        "colab_type": "text"
      },
      "source": [
        "<font color=green size=3> \n",
        "Performance: Model Report\n",
        "Accuracy : 0.9385\n",
        "AUC Score ( Train ): 0.969116; Parameters: n_estimator ran till 150<br>\n",
        "<font color=brown size=3> \n",
        "Model Report\n",
        "Accuracy : 0.9356\n",
        "AUC Score ( Train ): 0.967257; Parameters: n_estimators set to 250 but iterations stopped at 131. Hence, this seem a good number of iterations for learning rate 0.1. <br>\n",
        "<font color=blue size=3> \n",
        "Reduce learning rate by half and increase the iterations to 500 to check the Performance: Model Report\n",
        "Accuracy : 0.9379\n",
        "AUC Score ( Train ): 0.968151; Parameter n_estimator stopped at 280 even thought setup was 500. <br>\n",
        "<font color=red size=3> \n",
        "Setting learning rate to 0.01 and retain n_estimators to 500; Performance Deterioated. Model Report\n",
        "Accuracy : 0.9263\n",
        "AUC Score ( Train ): 0.957938; Parameter n-estimator was run till the end. <br>\n",
        "<font color=brown size=3> \n",
        "N-estimator setup=1500; Performance: Model Report\n",
        "Accuracy : 0.9368\n",
        "AUC Score ( Train ): 0.967197 <br>\n",
        "<font color=green size=5> \n",
        "Best Parameters are n-estimators=250 with learning rate 0.1"
      ]
    },
    {
      "cell_type": "code",
      "metadata": {
        "id": "vivTQORnsoz2",
        "colab_type": "code",
        "outputId": "ae5e3ad8-7341-43cb-c99b-d44f75b649b1",
        "colab": {
          "base_uri": "https://localhost:8080/",
          "height": 187
        }
      },
      "source": [
        "print(\"Train Predictions -- > \", preds, ';  Length -- > ', len(preds))\n",
        "print(\"Train Predic Probas  -- > \", predprbs, ';  Length -- > ', len(predprbs))\n",
        "\n",
        "xgb1.evals_result"
      ],
      "execution_count": 0,
      "outputs": [
        {
          "output_type": "stream",
          "text": [
            "Train Predictions -- >  [0 0 0 ... 0 0 0] ;  Length -- >  28831\n",
            "Train Predic Probas  -- >  [3.6146361e-01 2.8854402e-04 1.9856906e-03 ... 7.0930325e-04 5.2913919e-04\n",
            " 1.6217612e-04] ;  Length -- >  28831\n"
          ],
          "name": "stdout"
        },
        {
          "output_type": "execute_result",
          "data": {
            "text/plain": [
              "<bound method XGBClassifier.evals_result of XGBClassifier(base_score=0.5, booster='gbtree', colsample_bylevel=1,\n",
              "              colsample_bynode=1, colsample_bytree=0.8, gamma=0,\n",
              "              learning_rate=0.1, max_delta_step=0, max_depth=5,\n",
              "              min_child_weight=1, missing=None, n_estimators=131, n_jobs=1,\n",
              "              nthread=4, objective='binary:logistic', random_state=0,\n",
              "              reg_alpha=0, reg_lambda=1, scale_pos_weight=1, seed=27,\n",
              "              silent=None, subsample=0.8, verbosity=1)>"
            ]
          },
          "metadata": {
            "tags": []
          },
          "execution_count": 63
        }
      ]
    },
    {
      "cell_type": "code",
      "metadata": {
        "id": "oGS3tuo6q6cQ",
        "colab_type": "code",
        "outputId": "9012fc7e-37a1-4bab-b654-6f867f9aa052",
        "colab": {
          "base_uri": "https://localhost:8080/",
          "height": 443
        }
      },
      "source": [
        "preds, predprbs = modelfit_xgb(xgb1, X_test, y_test, \"Test\")"
      ],
      "execution_count": 0,
      "outputs": [
        {
          "output_type": "stream",
          "text": [
            "/usr/local/lib/python3.6/dist-packages/xgboost/core.py:587: FutureWarning: Series.base is deprecated and will be removed in a future version\n",
            "  if getattr(data, 'base', None) is not None and \\\n"
          ],
          "name": "stderr"
        },
        {
          "output_type": "stream",
          "text": [
            "\n",
            "Model Report\n",
            "Accuracy : 0.9519\n",
            "AUC Score ( Test ): 0.979137\n"
          ],
          "name": "stdout"
        },
        {
          "output_type": "display_data",
          "data": {
            "image/png": "[encoded data removed]",
            "text/plain": [
              "<Figure size 864x288 with 1 Axes>"
            ]
          },
          "metadata": {
            "tags": []
          }
        }
      ]
    },
    {
      "cell_type": "markdown",
      "metadata": {
        "id": "oWAjN6lQ6zpS",
        "colab_type": "text"
      },
      "source": [
        "Model Report\n",
        "Accuracy : 0.9519\n",
        "AUC Score ( Test ): 0.979137; Parameter n-estimators setup at 1000 but iterations stopped at 131"
      ]
    },
    {
      "cell_type": "code",
      "metadata": {
        "id": "U54k_Gthrbne",
        "colab_type": "code",
        "outputId": "15e86034-bde3-49f4-e0d9-727f239e2974",
        "colab": {
          "base_uri": "https://localhost:8080/",
          "height": 170
        }
      },
      "source": [
        "print(\"Test Predictions -- > \", preds, ';  Length -- > ', len(preds))\n",
        "print(\"Test Predic Probas  -- > \", predprbs, ';  Length -- > ', len(predprbs))\n",
        "xgb1.evals_result"
      ],
      "execution_count": 0,
      "outputs": [
        {
          "output_type": "stream",
          "text": [
            "Test Predictions -- >  [1 0 0 ... 0 1 0] ;  Length -- >  12357\n",
            "Test Predic Probas  -- >  [0.6318451  0.03824795 0.00503795 ... 0.00282416 0.54789007 0.13072167] ;  Length -- >  12357\n"
          ],
          "name": "stdout"
        },
        {
          "output_type": "execute_result",
          "data": {
            "text/plain": [
              "<bound method XGBClassifier.evals_result of XGBClassifier(base_score=0.5, booster='gbtree', colsample_bylevel=1,\n",
              "              colsample_bynode=1, colsample_bytree=0.8, gamma=0,\n",
              "              learning_rate=0.1, max_delta_step=0, max_depth=5,\n",
              "              min_child_weight=1, missing=None, n_estimators=131, n_jobs=1,\n",
              "              nthread=4, objective='binary:logistic', random_state=0,\n",
              "              reg_alpha=0, reg_lambda=1, scale_pos_weight=1, seed=27,\n",
              "              silent=None, subsample=0.8, verbosity=1)>"
            ]
          },
          "metadata": {
            "tags": []
          },
          "execution_count": 66
        }
      ]
    },
    {
      "cell_type": "markdown",
      "metadata": {
        "id": "OsNW86AZ6pPZ",
        "colab_type": "text"
      },
      "source": [
        "<font color=brown size=5> \n",
        "Step 2: Tune max_depth and min_child_weight"
      ]
    },
    {
      "cell_type": "code",
      "metadata": {
        "id": "i_awcu7WtdM0",
        "colab_type": "code",
        "outputId": "f6dfb3e1-f1c3-4b98-b980-878ecaa25d07",
        "colab": {
          "base_uri": "https://localhost:8080/",
          "height": 1000
        }
      },
      "source": [
        "param_test1 = {\n",
        " 'max_depth':range(3,10,2),\n",
        " 'min_child_weight':range(1,6,2)\n",
        "}\n",
        "gsearch1 = GridSearchCV(estimator = XGBClassifier( learning_rate =0.1, n_estimators=131, max_depth=5,\n",
        " min_child_weight=1, gamma=0, subsample=0.8, colsample_bytree=0.8,\n",
        " objective= 'binary:logistic', nthread=4, scale_pos_weight=1, seed=27), \n",
        " param_grid = param_test1, scoring='roc_auc',n_jobs=4,iid=False, cv=5)\n",
        "gsearch1.fit(X_train, y_train)\n",
        "gsearch1.cv_results_, gsearch1.best_params_, gsearch1.best_score_"
      ],
      "execution_count": 0,
      "outputs": [
        {
          "output_type": "execute_result",
          "data": {
            "text/plain": [
              "({'mean_fit_time': array([ 6.40903683,  6.54123654,  6.44080377, 10.60713406, 10.35028   ,\n",
              "         10.14403715, 15.57622275, 14.93800669, 14.46167831, 20.73612394,\n",
              "         19.55308046, 16.25777445]),\n",
              "  'mean_score_time': array([0.08766289, 0.07823844, 0.09441123, 0.12011056, 0.13386078,\n",
              "         0.13747263, 0.2032867 , 0.16016607, 0.17420411, 0.24868522,\n",
              "         0.20351515, 0.15499821]),\n",
              "  'mean_test_score': array([0.94729597, 0.94729085, 0.94666705, 0.94825652, 0.94841788,\n",
              "         0.94846002, 0.94763656, 0.94814541, 0.94770465, 0.9461515 ,\n",
              "         0.94634633, 0.94635384]),\n",
              "  'param_max_depth': masked_array(data=[3, 3, 3, 5, 5, 5, 7, 7, 7, 9, 9, 9],\n",
              "               mask=[False, False, False, False, False, False, False, False,\n",
              "                     False, False, False, False],\n",
              "         fill_value='?',\n",
              "              dtype=object),\n",
              "  'param_min_child_weight': masked_array(data=[1, 3, 5, 1, 3, 5, 1, 3, 5, 1, 3, 5],\n",
              "               mask=[False, False, False, False, False, False, False, False,\n",
              "                     False, False, False, False],\n",
              "         fill_value='?',\n",
              "              dtype=object),\n",
              "  'params': [{'max_depth': 3, 'min_child_weight': 1},\n",
              "   {'max_depth': 3, 'min_child_weight': 3},\n",
              "   {'max_depth': 3, 'min_child_weight': 5},\n",
              "   {'max_depth': 5, 'min_child_weight': 1},\n",
              "   {'max_depth': 5, 'min_child_weight': 3},\n",
              "   {'max_depth': 5, 'min_child_weight': 5},\n",
              "   {'max_depth': 7, 'min_child_weight': 1},\n",
              "   {'max_depth': 7, 'min_child_weight': 3},\n",
              "   {'max_depth': 7, 'min_child_weight': 5},\n",
              "   {'max_depth': 9, 'min_child_weight': 1},\n",
              "   {'max_depth': 9, 'min_child_weight': 3},\n",
              "   {'max_depth': 9, 'min_child_weight': 5}],\n",
              "  'rank_test_score': array([ 7,  8,  9,  3,  2,  1,  6,  4,  5, 12, 11, 10], dtype=int32),\n",
              "  'split0_test_score': array([0.94911387, 0.94896706, 0.94881859, 0.95056649, 0.95007249,\n",
              "         0.95025017, 0.94966114, 0.94998138, 0.95015816, 0.94727592,\n",
              "         0.94919378, 0.94899764]),\n",
              "  'split1_test_score': array([0.95180344, 0.95194177, 0.95105095, 0.95350381, 0.95376019,\n",
              "         0.95339212, 0.95232815, 0.95326347, 0.95213837, 0.95068817,\n",
              "         0.95130506, 0.95035824]),\n",
              "  'split2_test_score': array([0.94736367, 0.94758028, 0.94644828, 0.94864317, 0.94894694,\n",
              "         0.94869925, 0.94756118, 0.94889297, 0.94862377, 0.94703732,\n",
              "         0.94657742, 0.94643858]),\n",
              "  'split3_test_score': array([0.94280063, 0.94320445, 0.94308561, 0.94420336, 0.94473814,\n",
              "         0.94460414, 0.94428764, 0.94442801, 0.94404299, 0.94383169,\n",
              "         0.94297101, 0.94360037]),\n",
              "  'split4_test_score': array([0.94539823, 0.9447607 , 0.94393185, 0.94436576, 0.94457165,\n",
              "         0.94535441, 0.94434468, 0.94416124, 0.94355995, 0.94192437,\n",
              "         0.94168437, 0.94237435]),\n",
              "  'std_fit_time': array([0.1449908 , 0.24007206, 0.18161663, 0.13404601, 0.13561111,\n",
              "         0.20291826, 0.27365526, 0.2166375 , 0.32013331, 0.25345054,\n",
              "         0.30994277, 2.75103175]),\n",
              "  'std_score_time': array([0.02966552, 0.03278951, 0.0325725 , 0.01426798, 0.02164353,\n",
              "         0.03029907, 0.0325904 , 0.02732891, 0.01667942, 0.05230552,\n",
              "         0.02377389, 0.06306991]),\n",
              "  'std_test_score': array([0.00308013, 0.00308625, 0.00297334, 0.00359404, 0.00346098,\n",
              "         0.003228  , 0.00310378, 0.00345881, 0.0033796 , 0.00302921,\n",
              "         0.00362979, 0.00304795])},\n",
              " {'max_depth': 5, 'min_child_weight': 5},\n",
              " 0.9484600197677674)"
            ]
          },
          "metadata": {
            "tags": []
          },
          "execution_count": 75
        }
      ]
    },
    {
      "cell_type": "markdown",
      "metadata": {
        "id": "VQfCTJb19TWU",
        "colab_type": "text"
      },
      "source": [
        "'rank_test_score': array([ 7,  8,  9,  3,  2,  1,  6,  4,  5, 12, 11, 10], dtype=int32),\n",
        "  'split0_test_score': array([0.94911387, 0.94896706, 0.94881859, 0.95056649, 0.95007249,\n",
        "         0.95025017, 0.94966114, 0.94998138, 0.95015816, 0.94727592,\n",
        "         0.94919378, 0.94899764]),\n",
        "  'split1_test_score': array([0.95180344, 0.95194177, 0.95105095, 0.95350381, 0.95376019,\n",
        "         0.95339212, 0.95232815, 0.95326347, 0.95213837, 0.95068817,\n",
        "         0.95130506, 0.95035824]),\n",
        "  'split2_test_score': array([0.94736367, 0.94758028, 0.94644828, 0.94864317, 0.94894694,\n",
        "         0.94869925, 0.94756118, 0.94889297, 0.94862377, 0.94703732,\n",
        "         0.94657742, 0.94643858]),\n",
        "  'split3_test_score': array([0.94280063, 0.94320445, 0.94308561, 0.94420336, 0.94473814,\n",
        "         0.94460414, 0.94428764, 0.94442801, 0.94404299, 0.94383169,\n",
        "         0.94297101, 0.94360037]),\n",
        "  'split4_test_score': array([0.94539823, 0.9447607 , 0.94393185, 0.94436576, 0.94457165,\n",
        "         0.94535441, 0.94434468, 0.94416124, 0.94355995, 0.94192437,\n",
        "         0.94168437, 0.94237435]),\n",
        "  'std_fit_time': array([0.50597634, 0.07752333, 0.18681146, 0.24401204, 0.4036651 ,\n",
        "         0.07716635, 0.26891292, 0.12125008, 0.16652723, 0.27473565,\n",
        "         0.46611083, 2.30549972]),\n",
        "  'std_score_time': array([0.01456615, 0.02828413, 0.01663694, 0.02400128, 0.01606449,\n",
        "         0.01919399, 0.02590477, 0.02014575, 0.02252446, 0.05127824,\n",
        "         0.04156322, 0.05386778]),\n",
        "  'std_test_score': array([0.00308013, 0.00308625, 0.00297334, 0.00359404, 0.00346098,\n",
        "         0.003228  , 0.00310378, 0.00345881, 0.0033796 , 0.00302921,\n",
        "         0.00362979, 0.00304795])},\n",
        " {'max_depth': 5, 'min_child_weight': 5},\n",
        " 0.9484600197677674)"
      ]
    },
    {
      "cell_type": "code",
      "metadata": {
        "id": "VJzIROB7A_R8",
        "colab_type": "code",
        "outputId": "f9659936-4346-41f1-8748-4dd907768ec9",
        "colab": {
          "base_uri": "https://localhost:8080/",
          "height": 1000
        }
      },
      "source": [
        "gsearch1.fit(X_test, y_test)\n",
        "gsearch1.cv_results_, gsearch1.best_params_, gsearch1.best_score_"
      ],
      "execution_count": 0,
      "outputs": [
        {
          "output_type": "execute_result",
          "data": {
            "text/plain": [
              "({'mean_fit_time': array([ 6.76971831,  6.52059178,  6.46211452, 10.45441685, 10.5108614 ,\n",
              "         10.42037482, 15.64038401, 14.87148046, 14.66694565, 20.68380408,\n",
              "         19.2730628 , 16.72051101]),\n",
              "  'mean_score_time': array([0.08773532, 0.09210286, 0.1004343 , 0.11336818, 0.12405968,\n",
              "         0.15621128, 0.19480486, 0.18044524, 0.17640877, 0.21019888,\n",
              "         0.22477193, 0.14828134]),\n",
              "  'mean_test_score': array([0.94729597, 0.94729085, 0.94666705, 0.94825652, 0.94841788,\n",
              "         0.94846002, 0.94763656, 0.94814541, 0.94770465, 0.9461515 ,\n",
              "         0.94634633, 0.94635384]),\n",
              "  'param_max_depth': masked_array(data=[3, 3, 3, 5, 5, 5, 7, 7, 7, 9, 9, 9],\n",
              "               mask=[False, False, False, False, False, False, False, False,\n",
              "                     False, False, False, False],\n",
              "         fill_value='?',\n",
              "              dtype=object),\n",
              "  'param_min_child_weight': masked_array(data=[1, 3, 5, 1, 3, 5, 1, 3, 5, 1, 3, 5],\n",
              "               mask=[False, False, False, False, False, False, False, False,\n",
              "                     False, False, False, False],\n",
              "         fill_value='?',\n",
              "              dtype=object),\n",
              "  'params': [{'max_depth': 3, 'min_child_weight': 1},\n",
              "   {'max_depth': 3, 'min_child_weight': 3},\n",
              "   {'max_depth': 3, 'min_child_weight': 5},\n",
              "   {'max_depth': 5, 'min_child_weight': 1},\n",
              "   {'max_depth': 5, 'min_child_weight': 3},\n",
              "   {'max_depth': 5, 'min_child_weight': 5},\n",
              "   {'max_depth': 7, 'min_child_weight': 1},\n",
              "   {'max_depth': 7, 'min_child_weight': 3},\n",
              "   {'max_depth': 7, 'min_child_weight': 5},\n",
              "   {'max_depth': 9, 'min_child_weight': 1},\n",
              "   {'max_depth': 9, 'min_child_weight': 3},\n",
              "   {'max_depth': 9, 'min_child_weight': 5}],\n",
              "  'rank_test_score': array([ 7,  8,  9,  3,  2,  1,  6,  4,  5, 12, 11, 10], dtype=int32),\n",
              "  'split0_test_score': array([0.94911387, 0.94896706, 0.94881859, 0.95056649, 0.95007249,\n",
              "         0.95025017, 0.94966114, 0.94998138, 0.95015816, 0.94727592,\n",
              "         0.94919378, 0.94899764]),\n",
              "  'split1_test_score': array([0.95180344, 0.95194177, 0.95105095, 0.95350381, 0.95376019,\n",
              "         0.95339212, 0.95232815, 0.95326347, 0.95213837, 0.95068817,\n",
              "         0.95130506, 0.95035824]),\n",
              "  'split2_test_score': array([0.94736367, 0.94758028, 0.94644828, 0.94864317, 0.94894694,\n",
              "         0.94869925, 0.94756118, 0.94889297, 0.94862377, 0.94703732,\n",
              "         0.94657742, 0.94643858]),\n",
              "  'split3_test_score': array([0.94280063, 0.94320445, 0.94308561, 0.94420336, 0.94473814,\n",
              "         0.94460414, 0.94428764, 0.94442801, 0.94404299, 0.94383169,\n",
              "         0.94297101, 0.94360037]),\n",
              "  'split4_test_score': array([0.94539823, 0.9447607 , 0.94393185, 0.94436576, 0.94457165,\n",
              "         0.94535441, 0.94434468, 0.94416124, 0.94355995, 0.94192437,\n",
              "         0.94168437, 0.94237435]),\n",
              "  'std_fit_time': array([0.73224014, 0.12573364, 0.25696617, 0.21768727, 0.06939075,\n",
              "         0.12225544, 0.18914808, 0.44632403, 0.16012927, 0.24640339,\n",
              "         0.52113294, 2.03948048]),\n",
              "  'std_score_time': array([0.02654666, 0.01789128, 0.00633492, 0.02121069, 0.02538298,\n",
              "         0.01500633, 0.03299247, 0.03409486, 0.04014317, 0.05199372,\n",
              "         0.01484222, 0.06634952]),\n",
              "  'std_test_score': array([0.00308013, 0.00308625, 0.00297334, 0.00359404, 0.00346098,\n",
              "         0.003228  , 0.00310378, 0.00345881, 0.0033796 , 0.00302921,\n",
              "         0.00362979, 0.00304795])},\n",
              " {'max_depth': 5, 'min_child_weight': 5},\n",
              " 0.9484600197677674)"
            ]
          },
          "metadata": {
            "tags": []
          },
          "execution_count": 77
        }
      ]
    },
    {
      "cell_type": "code",
      "metadata": {
        "id": "pCP-GoyA7xKg",
        "colab_type": "code",
        "outputId": "385ac8fc-4700-4152-e90c-d0d317bff6c7",
        "colab": {
          "base_uri": "https://localhost:8080/",
          "height": 765
        }
      },
      "source": [
        "param_test2 = {\n",
        " 'max_depth':[4,5,6],\n",
        " 'min_child_weight':[1,4,6]\n",
        "}\n",
        "gsearch2 = GridSearchCV(estimator = XGBClassifier( learning_rate=0.1, n_estimators=131, max_depth=5,\n",
        " min_child_weight=2, gamma=0, subsample=0.8, colsample_bytree=0.8,\n",
        " objective= 'binary:logistic', nthread=4, scale_pos_weight=1,seed=27), \n",
        " param_grid = param_test2, scoring='roc_auc',n_jobs=4,iid=False, cv=5)\n",
        "gsearch2.fit(X_train, y_train)\n",
        "gsearch2.cv_results_, gsearch2.best_params_, gsearch2.best_score_"
      ],
      "execution_count": 0,
      "outputs": [
        {
          "output_type": "execute_result",
          "data": {
            "text/plain": [
              "({'mean_fit_time': array([ 8.46227937,  8.37767067,  8.3712388 , 10.64842896, 10.45744185,\n",
              "         10.22171321, 12.91759019, 12.5099534 , 10.64052229]),\n",
              "  'mean_score_time': array([0.10480943, 0.08294597, 0.09466023, 0.12194796, 0.13182807,\n",
              "         0.1337956 , 0.15330796, 0.1476191 , 0.10856681]),\n",
              "  'mean_test_score': array([0.94836506, 0.9480643 , 0.94825187, 0.94825652, 0.94820852,\n",
              "         0.94851591, 0.94819179, 0.94840936, 0.94842682]),\n",
              "  'param_max_depth': masked_array(data=[4, 4, 4, 5, 5, 5, 6, 6, 6],\n",
              "               mask=[False, False, False, False, False, False, False, False,\n",
              "                     False],\n",
              "         fill_value='?',\n",
              "              dtype=object),\n",
              "  'param_min_child_weight': masked_array(data=[1, 4, 6, 1, 4, 6, 1, 4, 6],\n",
              "               mask=[False, False, False, False, False, False, False, False,\n",
              "                     False],\n",
              "         fill_value='?',\n",
              "              dtype=object),\n",
              "  'params': [{'max_depth': 4, 'min_child_weight': 1},\n",
              "   {'max_depth': 4, 'min_child_weight': 4},\n",
              "   {'max_depth': 4, 'min_child_weight': 6},\n",
              "   {'max_depth': 5, 'min_child_weight': 1},\n",
              "   {'max_depth': 5, 'min_child_weight': 4},\n",
              "   {'max_depth': 5, 'min_child_weight': 6},\n",
              "   {'max_depth': 6, 'min_child_weight': 1},\n",
              "   {'max_depth': 6, 'min_child_weight': 4},\n",
              "   {'max_depth': 6, 'min_child_weight': 6}],\n",
              "  'rank_test_score': array([4, 9, 6, 5, 7, 1, 8, 3, 2], dtype=int32),\n",
              "  'split0_test_score': array([0.94982898, 0.95008854, 0.94973424, 0.95056649, 0.94984578,\n",
              "         0.95024594, 0.95008672, 0.95076536, 0.95057587]),\n",
              "  'split1_test_score': array([0.95263085, 0.95282245, 0.95322594, 0.95350381, 0.95391365,\n",
              "         0.9540535 , 0.95298515, 0.9531091 , 0.95360733]),\n",
              "  'split2_test_score': array([0.94906669, 0.94854646, 0.94848795, 0.94864317, 0.9483585 ,\n",
              "         0.94894845, 0.94815114, 0.94880384, 0.94888115]),\n",
              "  'split3_test_score': array([0.94444953, 0.94399236, 0.94433797, 0.94420336, 0.94421216,\n",
              "         0.9444753 , 0.94488517, 0.94454715, 0.94426824]),\n",
              "  'split4_test_score': array([0.94584927, 0.94487168, 0.94547327, 0.94436576, 0.94471249,\n",
              "         0.94485637, 0.94485076, 0.94482135, 0.94480149]),\n",
              "  'std_fit_time': array([0.13914415, 0.08263544, 0.26818831, 0.11918058, 0.20578707,\n",
              "         0.13617386, 0.10411506, 0.37594587, 2.42105999]),\n",
              "  'std_score_time': array([0.03151941, 0.01507536, 0.01632979, 0.02609784, 0.01836493,\n",
              "         0.02161884, 0.01326673, 0.03612201, 0.05373328]),\n",
              "  'std_test_score': array([0.00291523, 0.00327852, 0.00316334, 0.00359404, 0.00356216,\n",
              "         0.00356549, 0.00311977, 0.0033342 , 0.00352418])},\n",
              " {'max_depth': 5, 'min_child_weight': 6},\n",
              " 0.9485159114983845)"
            ]
          },
          "metadata": {
            "tags": []
          },
          "execution_count": 78
        }
      ]
    },
    {
      "cell_type": "markdown",
      "metadata": {
        "id": "SgCTM36aHPRA",
        "colab_type": "text"
      },
      "source": [
        "<font color=green size=5>\n",
        "As per gsearch1, max_depth and Min_child_Weight are both to be good at 5 <br>\n",
        "However, as per gsearch2, max_depth is 5 and Min_child_weight is 6 with bettering search1 mean score. "
      ]
    },
    {
      "cell_type": "code",
      "metadata": {
        "id": "bkJoQF1N_HY7",
        "colab_type": "code",
        "outputId": "b3d95367-43ae-4043-8a1c-df94c11b3ccb",
        "colab": {
          "base_uri": "https://localhost:8080/",
          "height": 765
        }
      },
      "source": [
        "gsearch2.fit(X_test, y_test)\n",
        "gsearch2.cv_results_, gsearch2.best_params_, gsearch2.best_score_"
      ],
      "execution_count": 0,
      "outputs": [
        {
          "output_type": "execute_result",
          "data": {
            "text/plain": [
              "({'mean_fit_time': array([3.5788238 , 3.6863009 , 3.5673028 , 4.56549401, 4.4137301 ,\n",
              "         4.41518736, 5.64417229, 5.31822085, 4.7366971 ]),\n",
              "  'mean_score_time': array([0.06658893, 0.05521317, 0.04816966, 0.06993933, 0.06738081,\n",
              "         0.0676703 , 0.07814951, 0.09354792, 0.04800706]),\n",
              "  'mean_test_score': array([0.94617926, 0.94581927, 0.94585972, 0.94579329, 0.94557022,\n",
              "         0.9455076 , 0.9449453 , 0.94540586, 0.94506568]),\n",
              "  'param_max_depth': masked_array(data=[4, 4, 4, 5, 5, 5, 6, 6, 6],\n",
              "               mask=[False, False, False, False, False, False, False, False,\n",
              "                     False],\n",
              "         fill_value='?',\n",
              "              dtype=object),\n",
              "  'param_min_child_weight': masked_array(data=[1, 4, 6, 1, 4, 6, 1, 4, 6],\n",
              "               mask=[False, False, False, False, False, False, False, False,\n",
              "                     False],\n",
              "         fill_value='?',\n",
              "              dtype=object),\n",
              "  'params': [{'max_depth': 4, 'min_child_weight': 1},\n",
              "   {'max_depth': 4, 'min_child_weight': 4},\n",
              "   {'max_depth': 4, 'min_child_weight': 6},\n",
              "   {'max_depth': 5, 'min_child_weight': 1},\n",
              "   {'max_depth': 5, 'min_child_weight': 4},\n",
              "   {'max_depth': 5, 'min_child_weight': 6},\n",
              "   {'max_depth': 6, 'min_child_weight': 1},\n",
              "   {'max_depth': 6, 'min_child_weight': 4},\n",
              "   {'max_depth': 6, 'min_child_weight': 6}],\n",
              "  'rank_test_score': array([1, 3, 2, 4, 5, 6, 9, 7, 8], dtype=int32),\n",
              "  'split0_test_score': array([0.95187257, 0.95271101, 0.95338369, 0.95093114, 0.94989475,\n",
              "         0.95060606, 0.95092953, 0.95086033, 0.94945059]),\n",
              "  'split1_test_score': array([0.94463559, 0.94368772, 0.94232948, 0.94499125, 0.94341736,\n",
              "         0.94412867, 0.94413671, 0.94203659, 0.94220717]),\n",
              "  'split2_test_score': array([0.95129644, 0.95078308, 0.95220569, 0.94978049, 0.95158129,\n",
              "         0.95130127, 0.94878595, 0.9513576 , 0.95089251]),\n",
              "  'split3_test_score': array([0.93998747, 0.93846293, 0.93838541, 0.93856629, 0.93965478,\n",
              "         0.93955304, 0.93779917, 0.94048165, 0.94017481]),\n",
              "  'split4_test_score': array([0.94310421, 0.94345159, 0.94299434, 0.9446973 , 0.94330294,\n",
              "         0.94194897, 0.94307513, 0.94229312, 0.94260334]),\n",
              "  'std_fit_time': array([0.46183814, 0.39958959, 0.12655258, 0.04891801, 0.16429665,\n",
              "         0.10234767, 0.19684302, 0.1090616 , 0.53115804]),\n",
              "  'std_score_time': array([0.01406872, 0.00445741, 0.00703058, 0.00981413, 0.00519025,\n",
              "         0.02054253, 0.00359719, 0.0191017 , 0.02120038]),\n",
              "  'std_test_score': array([0.00466426, 0.00522304, 0.00588931, 0.0043902 , 0.00446323,\n",
              "         0.00468152, 0.00459957, 0.00470028, 0.00427397])},\n",
              " {'max_depth': 4, 'min_child_weight': 1},\n",
              " 0.9461792565978936)"
            ]
          },
          "metadata": {
            "tags": []
          },
          "execution_count": 79
        }
      ]
    },
    {
      "cell_type": "markdown",
      "metadata": {
        "id": "SxnqtTZLGdf8",
        "colab_type": "text"
      },
      "source": [
        "<font color=brown size=5> \n",
        "min_child_weight but we haven’t tried values more than 6. We can do that as follow:."
      ]
    },
    {
      "cell_type": "code",
      "metadata": {
        "id": "I352OccKG3Z_",
        "colab_type": "code",
        "outputId": "d130c966-968c-46a4-9fbb-604d5e817143",
        "colab": {
          "base_uri": "https://localhost:8080/",
          "height": 408
        }
      },
      "source": [
        "param_test2b = {\n",
        " 'min_child_weight':[4,6,8,10,12]\n",
        "}\n",
        "gsearch2b = GridSearchCV(estimator = XGBClassifier( learning_rate=0.1, n_estimators=131, max_depth=5,\n",
        " min_child_weight=6, gamma=0, subsample=0.8, colsample_bytree=0.8,\n",
        " objective= 'binary:logistic', nthread=4, scale_pos_weight=1,seed=27), \n",
        " param_grid = param_test2b, scoring='roc_auc',n_jobs=4,iid=False, cv=5)\n",
        "gsearch2b.fit(X_train,y_train)\n",
        "gsearch2b.cv_results_, gsearch2b.best_params_, gsearch2b.best_score_"
      ],
      "execution_count": 0,
      "outputs": [
        {
          "output_type": "execute_result",
          "data": {
            "text/plain": [
              "({'mean_fit_time': array([10.73973198, 10.34044027, 10.5153285 , 10.31623654,  8.79366245]),\n",
              "  'mean_score_time': array([0.1360745 , 0.12589703, 0.11192465, 0.1587153 , 0.0845437 ]),\n",
              "  'mean_test_score': array([0.94820852, 0.94851591, 0.9481831 , 0.94784546, 0.94758772]),\n",
              "  'param_min_child_weight': masked_array(data=[4, 6, 8, 10, 12],\n",
              "               mask=[False, False, False, False, False],\n",
              "         fill_value='?',\n",
              "              dtype=object),\n",
              "  'params': [{'min_child_weight': 4},\n",
              "   {'min_child_weight': 6},\n",
              "   {'min_child_weight': 8},\n",
              "   {'min_child_weight': 10},\n",
              "   {'min_child_weight': 12}],\n",
              "  'rank_test_score': array([2, 1, 3, 4, 5], dtype=int32),\n",
              "  'split0_test_score': array([0.94984578, 0.95024594, 0.95012335, 0.94972924, 0.94914444]),\n",
              "  'split1_test_score': array([0.95391365, 0.9540535 , 0.95344569, 0.9533455 , 0.95305825]),\n",
              "  'split2_test_score': array([0.9483585 , 0.94894845, 0.94845976, 0.94803018, 0.948109  ]),\n",
              "  'split3_test_score': array([0.94421216, 0.9444753 , 0.94438314, 0.94403359, 0.94382502]),\n",
              "  'split4_test_score': array([0.94471249, 0.94485637, 0.94450357, 0.94408877, 0.94380192]),\n",
              "  'std_fit_time': array([0.19418016, 0.15730165, 0.40213801, 0.10782436, 2.79147674]),\n",
              "  'std_score_time': array([0.0480963 , 0.0232799 , 0.03877442, 0.02714927, 0.03616712]),\n",
              "  'std_test_score': array([0.00356216, 0.00356549, 0.00345006, 0.00353486, 0.00349605])},\n",
              " {'min_child_weight': 6},\n",
              " 0.9485159114983845)"
            ]
          },
          "metadata": {
            "tags": []
          },
          "execution_count": 80
        }
      ]
    },
    {
      "cell_type": "code",
      "metadata": {
        "id": "GRuaAqwlIHif",
        "colab_type": "code",
        "outputId": "27cb294c-21c8-4a7c-91e3-d486e269559b",
        "colab": {
          "base_uri": "https://localhost:8080/",
          "height": 817
        }
      },
      "source": [
        "modelfit(gsearch2b.best_estimator_, X_train, y_train)\n",
        "gsearch2b.cv_results_, gsearch2b.best_params_, gsearch2b.best_score_"
      ],
      "execution_count": 0,
      "outputs": [
        {
          "output_type": "stream",
          "text": [
            "\n",
            "Model Report\n",
            "Accuracy : 0.9333\n",
            "AUC Score (Train): 0.963995\n",
            "CV Score : Mean - 0.9485159 | Std - 0.003565494 | Min - 0.9444753 | Max - 0.9540535\n"
          ],
          "name": "stdout"
        },
        {
          "output_type": "display_data",
          "data": {
            "image/png": "[encoded data removed]",
            "text/plain": [
              "<Figure size 864x288 with 1 Axes>"
            ]
          },
          "metadata": {
            "tags": []
          }
        },
        {
          "output_type": "execute_result",
          "data": {
            "text/plain": [
              "({'mean_fit_time': array([10.73973198, 10.34044027, 10.5153285 , 10.31623654,  8.79366245]),\n",
              "  'mean_score_time': array([0.1360745 , 0.12589703, 0.11192465, 0.1587153 , 0.0845437 ]),\n",
              "  'mean_test_score': array([0.94820852, 0.94851591, 0.9481831 , 0.94784546, 0.94758772]),\n",
              "  'param_min_child_weight': masked_array(data=[4, 6, 8, 10, 12],\n",
              "               mask=[False, False, False, False, False],\n",
              "         fill_value='?',\n",
              "              dtype=object),\n",
              "  'params': [{'min_child_weight': 4},\n",
              "   {'min_child_weight': 6},\n",
              "   {'min_child_weight': 8},\n",
              "   {'min_child_weight': 10},\n",
              "   {'min_child_weight': 12}],\n",
              "  'rank_test_score': array([2, 1, 3, 4, 5], dtype=int32),\n",
              "  'split0_test_score': array([0.94984578, 0.95024594, 0.95012335, 0.94972924, 0.94914444]),\n",
              "  'split1_test_score': array([0.95391365, 0.9540535 , 0.95344569, 0.9533455 , 0.95305825]),\n",
              "  'split2_test_score': array([0.9483585 , 0.94894845, 0.94845976, 0.94803018, 0.948109  ]),\n",
              "  'split3_test_score': array([0.94421216, 0.9444753 , 0.94438314, 0.94403359, 0.94382502]),\n",
              "  'split4_test_score': array([0.94471249, 0.94485637, 0.94450357, 0.94408877, 0.94380192]),\n",
              "  'std_fit_time': array([0.19418016, 0.15730165, 0.40213801, 0.10782436, 2.79147674]),\n",
              "  'std_score_time': array([0.0480963 , 0.0232799 , 0.03877442, 0.02714927, 0.03616712]),\n",
              "  'std_test_score': array([0.00356216, 0.00356549, 0.00345006, 0.00353486, 0.00349605])},\n",
              " {'min_child_weight': 6},\n",
              " 0.9485159114983845)"
            ]
          },
          "metadata": {
            "tags": []
          },
          "execution_count": 82
        }
      ]
    },
    {
      "cell_type": "markdown",
      "metadata": {
        "id": "c8fc2pYsLZXp",
        "colab_type": "text"
      },
      "source": [
        "<font color=brown size=5>\n",
        "Step 3: Tune gamma"
      ]
    },
    {
      "cell_type": "code",
      "metadata": {
        "id": "Bi_6IAALLCWV",
        "colab_type": "code",
        "outputId": "ded6a693-a72b-415c-a4b7-a54d7d214851",
        "colab": {
          "base_uri": "https://localhost:8080/",
          "height": 408
        }
      },
      "source": [
        "param_test3 = {\n",
        " 'gamma':[i/10.0 for i in range(0,5)]\n",
        "}\n",
        "gsearch3 = GridSearchCV(estimator = XGBClassifier( learning_rate =0.1, n_estimators=131, max_depth=5,\n",
        " min_child_weight=6, gamma=0, subsample=0.8, colsample_bytree=0.8,\n",
        " objective= 'binary:logistic', nthread=4, scale_pos_weight=1,seed=27), \n",
        " param_grid = param_test3, scoring='roc_auc',n_jobs=4,iid=False, cv=5)\n",
        "gsearch3.fit(X_train,y_train)\n",
        "gsearch3.cv_results_, gsearch3.best_params_, gsearch3.best_score_"
      ],
      "execution_count": 0,
      "outputs": [
        {
          "output_type": "execute_result",
          "data": {
            "text/plain": [
              "({'mean_fit_time': array([10.56327543, 10.27298722, 10.1848568 , 10.18446994,  8.86337347]),\n",
              "  'mean_score_time': array([0.1247963 , 0.13235979, 0.16266856, 0.12191296, 0.10551205]),\n",
              "  'mean_test_score': array([0.94851591, 0.94837952, 0.94834152, 0.94846935, 0.94846046]),\n",
              "  'param_gamma': masked_array(data=[0.0, 0.1, 0.2, 0.3, 0.4],\n",
              "               mask=[False, False, False, False, False],\n",
              "         fill_value='?',\n",
              "              dtype=object),\n",
              "  'params': [{'gamma': 0.0},\n",
              "   {'gamma': 0.1},\n",
              "   {'gamma': 0.2},\n",
              "   {'gamma': 0.3},\n",
              "   {'gamma': 0.4}],\n",
              "  'rank_test_score': array([1, 4, 5, 2, 3], dtype=int32),\n",
              "  'split0_test_score': array([0.95024594, 0.94952795, 0.95005736, 0.95003163, 0.949702  ]),\n",
              "  'split1_test_score': array([0.9540535 , 0.95410163, 0.95445275, 0.9539303 , 0.9539975 ]),\n",
              "  'split2_test_score': array([0.94894845, 0.9488957 , 0.94826998, 0.9490106 , 0.94905547]),\n",
              "  'split3_test_score': array([0.9444753 , 0.94434615, 0.94416789, 0.94482666, 0.94476724]),\n",
              "  'split4_test_score': array([0.94485637, 0.94502617, 0.94475964, 0.94454754, 0.94478011]),\n",
              "  'std_fit_time': array([0.22678936, 0.25016761, 0.14968361, 0.13698721, 2.69379159]),\n",
              "  'std_score_time': array([0.02070403, 0.03932739, 0.03009286, 0.03496237, 0.05489221]),\n",
              "  'std_test_score': array([0.00356549, 0.00351684, 0.0037562 , 0.00349873, 0.00345656])},\n",
              " {'gamma': 0.0},\n",
              " 0.9485159114983845)"
            ]
          },
          "metadata": {
            "tags": []
          },
          "execution_count": 83
        }
      ]
    },
    {
      "cell_type": "markdown",
      "metadata": {
        "id": "3o8HEp7iMwfz",
        "colab_type": "text"
      },
      "source": [
        "<font color=green size=4>\n",
        "learning rate = 0.1 <br>\n",
        "n_estimators = 131 <br>\n",
        "max_depth: 4 <br>\n",
        "min_child_weight: 6 <br>\n",
        "gamma: 0 <br>\n",
        "<font color=brown size=4>\n",
        "Step 4: Tune subsample and colsample_bytree\n"
      ]
    },
    {
      "cell_type": "code",
      "metadata": {
        "id": "PW1dSEHCL6hZ",
        "colab_type": "code",
        "outputId": "782fa9c8-03db-44d3-8c46-6ac71f1b90de",
        "colab": {
          "base_uri": "https://localhost:8080/",
          "height": 1000
        }
      },
      "source": [
        "param_test4 = {\n",
        " 'subsample':[i/10.0 for i in range(6,10)],\n",
        " 'colsample_bytree':[i/10.0 for i in range(6,10)]\n",
        "}\n",
        "gsearch4 = GridSearchCV(estimator = XGBClassifier( learning_rate =0.1, n_estimators=131, max_depth=5,\n",
        " min_child_weight=6, gamma=0, subsample=0.8, colsample_bytree=0.8,\n",
        " objective= 'binary:logistic', nthread=4, scale_pos_weight=1,seed=27), \n",
        " param_grid = param_test4, scoring='roc_auc',n_jobs=4,iid=False, cv=5)\n",
        "gsearch4.fit(X_train,y_train)\n",
        "gsearch4.cv_results_, gsearch4.best_params_, gsearch4.best_score_"
      ],
      "execution_count": 0,
      "outputs": [
        {
          "output_type": "execute_result",
          "data": {
            "text/plain": [
              "({'mean_fit_time': array([ 9.49536495,  8.92591372,  8.88427324,  8.51742287, 10.06409297,\n",
              "          9.8384171 ,  9.61263342,  9.36529593, 10.89021235, 10.5508872 ,\n",
              "         10.22068548,  9.8869945 , 11.61067448, 11.34608374, 11.14399838,\n",
              "         10.37218556]),\n",
              "  'mean_score_time': array([0.11216121, 0.12290421, 0.11765943, 0.12865233, 0.11226664,\n",
              "         0.13043866, 0.12369208, 0.10863619, 0.11697049, 0.12275681,\n",
              "         0.13164096, 0.12512016, 0.13287234, 0.14656715, 0.12501035,\n",
              "         0.0719902 ]),\n",
              "  'mean_test_score': array([0.94758876, 0.94843643, 0.94871533, 0.94854228, 0.94767031,\n",
              "         0.9484499 , 0.94853233, 0.94834675, 0.94797959, 0.9483568 ,\n",
              "         0.94851591, 0.94845139, 0.94805575, 0.94842495, 0.94865735,\n",
              "         0.94842309]),\n",
              "  'param_colsample_bytree': masked_array(data=[0.6, 0.6, 0.6, 0.6, 0.7, 0.7, 0.7, 0.7, 0.8, 0.8, 0.8,\n",
              "                     0.8, 0.9, 0.9, 0.9, 0.9],\n",
              "               mask=[False, False, False, False, False, False, False, False,\n",
              "                     False, False, False, False, False, False, False, False],\n",
              "         fill_value='?',\n",
              "              dtype=object),\n",
              "  'param_subsample': masked_array(data=[0.6, 0.7, 0.8, 0.9, 0.6, 0.7, 0.8, 0.9, 0.6, 0.7, 0.8,\n",
              "                     0.9, 0.6, 0.7, 0.8, 0.9],\n",
              "               mask=[False, False, False, False, False, False, False, False,\n",
              "                     False, False, False, False, False, False, False, False],\n",
              "         fill_value='?',\n",
              "              dtype=object),\n",
              "  'params': [{'colsample_bytree': 0.6, 'subsample': 0.6},\n",
              "   {'colsample_bytree': 0.6, 'subsample': 0.7},\n",
              "   {'colsample_bytree': 0.6, 'subsample': 0.8},\n",
              "   {'colsample_bytree': 0.6, 'subsample': 0.9},\n",
              "   {'colsample_bytree': 0.7, 'subsample': 0.6},\n",
              "   {'colsample_bytree': 0.7, 'subsample': 0.7},\n",
              "   {'colsample_bytree': 0.7, 'subsample': 0.8},\n",
              "   {'colsample_bytree': 0.7, 'subsample': 0.9},\n",
              "   {'colsample_bytree': 0.8, 'subsample': 0.6},\n",
              "   {'colsample_bytree': 0.8, 'subsample': 0.7},\n",
              "   {'colsample_bytree': 0.8, 'subsample': 0.8},\n",
              "   {'colsample_bytree': 0.8, 'subsample': 0.9},\n",
              "   {'colsample_bytree': 0.9, 'subsample': 0.6},\n",
              "   {'colsample_bytree': 0.9, 'subsample': 0.7},\n",
              "   {'colsample_bytree': 0.9, 'subsample': 0.8},\n",
              "   {'colsample_bytree': 0.9, 'subsample': 0.9}],\n",
              "  'rank_test_score': array([16,  8,  1,  3, 15,  7,  4, 12, 14, 11,  5,  6, 13,  9,  2, 10],\n",
              "        dtype=int32),\n",
              "  'split0_test_score': array([0.94902246, 0.95025926, 0.95017995, 0.95002376, 0.94916987,\n",
              "         0.94968732, 0.94978131, 0.94975331, 0.94973015, 0.95014786,\n",
              "         0.95024594, 0.95018177, 0.94938145, 0.95102476, 0.95036035,\n",
              "         0.95040621]),\n",
              "  'split1_test_score': array([0.95283153, 0.95353862, 0.95391123, 0.95399538, 0.95284394,\n",
              "         0.95402323, 0.9539633 , 0.95355678, 0.95352015, 0.95354286,\n",
              "         0.9540535 , 0.95367755, 0.95322669, 0.9532332 , 0.95417488,\n",
              "         0.95405683]),\n",
              "  'split2_test_score': array([0.94820146, 0.94843732, 0.94922888, 0.94900333, 0.94757725,\n",
              "         0.94848947, 0.94879687, 0.94896058, 0.94891874, 0.94834789,\n",
              "         0.94894845, 0.94916158, 0.94840185, 0.94836305, 0.94899999,\n",
              "         0.94896634]),\n",
              "  'split3_test_score': array([0.94371436, 0.94488699, 0.94475936, 0.94483455, 0.94335694,\n",
              "         0.9447915 , 0.94454654, 0.94456594, 0.94347365, 0.94449986,\n",
              "         0.9444753 , 0.94495536, 0.94438405, 0.94456261, 0.94410969,\n",
              "         0.94396781]),\n",
              "  'split4_test_score': array([0.94417397, 0.94505998, 0.94549723, 0.9448544 , 0.94540353,\n",
              "         0.94525799, 0.94557364, 0.94489715, 0.94425523, 0.94524555,\n",
              "         0.94485637, 0.94428071, 0.94488472, 0.94494112, 0.94564186,\n",
              "         0.94471825]),\n",
              "  'std_fit_time': array([0.37757069, 0.04349903, 0.12661016, 0.1499927 , 0.48938401,\n",
              "         0.1252488 , 0.195803  , 0.49340299, 0.20224131, 0.15981054,\n",
              "         0.25184329, 0.24515163, 0.17656131, 0.17476692, 0.11524628,\n",
              "         0.4783925 ]),\n",
              "  'std_score_time': array([0.03168212, 0.02369818, 0.02002177, 0.03412595, 0.00982169,\n",
              "         0.03484684, 0.01732858, 0.00802479, 0.02661749, 0.01785472,\n",
              "         0.01503465, 0.0305707 , 0.02961307, 0.01740476, 0.01905981,\n",
              "         0.02528934]),\n",
              "  'std_test_score': array([0.0033642 , 0.00326662, 0.00332903, 0.00344939, 0.00324861,\n",
              "         0.00335163, 0.00333963, 0.00333748, 0.00370995, 0.00330633,\n",
              "         0.00356549, 0.00347644, 0.00322964, 0.00337452, 0.00355627,\n",
              "         0.0037294 ])},\n",
              " {'colsample_bytree': 0.6, 'subsample': 0.8},\n",
              " 0.9487153301175566)"
            ]
          },
          "metadata": {
            "tags": []
          },
          "execution_count": 84
        }
      ]
    },
    {
      "cell_type": "markdown",
      "metadata": {
        "id": "KD34-QslPCCG",
        "colab_type": "text"
      },
      "source": [
        "<font color=green size=5>\n",
        "With these two parameters, performance goes up further <br>\n",
        " {'colsample_bytree': 0.6, 'subsample': 0.8},\n",
        " 0.9487153301175566) <br>\n",
        " <font color=brown size=4>\n",
        " Now we should try values in 0.05 interval around these."
      ]
    },
    {
      "cell_type": "code",
      "metadata": {
        "id": "K4O9c2o6NZou",
        "colab_type": "code",
        "outputId": "166ba262-b7df-4303-a63e-7fcbbcaf2b63",
        "colab": {
          "base_uri": "https://localhost:8080/",
          "height": 765
        }
      },
      "source": [
        "param_test5 = {\n",
        " 'subsample':[i/100.0 for i in range(75,90,5)],\n",
        " 'colsample_bytree':[i/100.0 for i in range(75,90,5)]\n",
        "}\n",
        "gsearch5 = GridSearchCV(estimator = XGBClassifier( learning_rate =0.1, n_estimators=131, max_depth=5,\n",
        " min_child_weight=6, gamma=0, subsample=0.8, colsample_bytree=0.6,\n",
        " objective= 'binary:logistic', nthread=4, scale_pos_weight=1,seed=27), \n",
        " param_grid = param_test5, scoring='roc_auc',n_jobs=4,iid=False, cv=5)\n",
        "gsearch5.fit(X_train,y_train)\n",
        "gsearch5.cv_results_, gsearch5.best_params_, gsearch5.best_score_"
      ],
      "execution_count": 0,
      "outputs": [
        {
          "output_type": "execute_result",
          "data": {
            "text/plain": [
              "({'mean_fit_time': array([10.43177619,  9.79118176, 10.05467925, 10.53147717, 10.34062304,\n",
              "         10.21312981, 10.98388638, 10.67412987,  8.9330451 ]),\n",
              "  'mean_score_time': array([0.12077637, 0.160782  , 0.12796197, 0.15877428, 0.15626335,\n",
              "         0.13882985, 0.15214477, 0.13384891, 0.09227791]),\n",
              "  'mean_test_score': array([0.94851073, 0.94837636, 0.94832521, 0.94833757, 0.94851591,\n",
              "         0.94844867, 0.9484608 , 0.9485405 , 0.94841577]),\n",
              "  'param_colsample_bytree': masked_array(data=[0.75, 0.75, 0.75, 0.8, 0.8, 0.8, 0.85, 0.85, 0.85],\n",
              "               mask=[False, False, False, False, False, False, False, False,\n",
              "                     False],\n",
              "         fill_value='?',\n",
              "              dtype=object),\n",
              "  'param_subsample': masked_array(data=[0.75, 0.8, 0.85, 0.75, 0.8, 0.85, 0.75, 0.8, 0.85],\n",
              "               mask=[False, False, False, False, False, False, False, False,\n",
              "                     False],\n",
              "         fill_value='?',\n",
              "              dtype=object),\n",
              "  'params': [{'colsample_bytree': 0.75, 'subsample': 0.75},\n",
              "   {'colsample_bytree': 0.75, 'subsample': 0.8},\n",
              "   {'colsample_bytree': 0.75, 'subsample': 0.85},\n",
              "   {'colsample_bytree': 0.8, 'subsample': 0.75},\n",
              "   {'colsample_bytree': 0.8, 'subsample': 0.8},\n",
              "   {'colsample_bytree': 0.8, 'subsample': 0.85},\n",
              "   {'colsample_bytree': 0.85, 'subsample': 0.75},\n",
              "   {'colsample_bytree': 0.85, 'subsample': 0.8},\n",
              "   {'colsample_bytree': 0.85, 'subsample': 0.85}],\n",
              "  'rank_test_score': array([3, 7, 9, 8, 2, 5, 4, 1, 6], dtype=int32),\n",
              "  'split0_test_score': array([0.95014393, 0.95035097, 0.95039335, 0.94969746, 0.95024594,\n",
              "         0.95054046, 0.94987756, 0.95091398, 0.95046811]),\n",
              "  'split1_test_score': array([0.95363064, 0.95396632, 0.95329283, 0.95343752, 0.9540535 ,\n",
              "         0.95402172, 0.95396239, 0.95357222, 0.953874  ]),\n",
              "  'split2_test_score': array([0.94876747, 0.94893148, 0.94866227, 0.94891723, 0.94894845,\n",
              "         0.94919007, 0.94870714, 0.94859345, 0.94849614]),\n",
              "  'split3_test_score': array([0.94470601, 0.94377105, 0.94411878, 0.94449743, 0.9444753 ,\n",
              "         0.94383714, 0.94451532, 0.94482242, 0.94430038]),\n",
              "  'split4_test_score': array([0.94530559, 0.94486198, 0.94515883, 0.94513821, 0.94485637,\n",
              "         0.94465397, 0.94524161, 0.94480043, 0.94494021]),\n",
              "  'std_fit_time': array([0.64760373, 0.2770601 , 0.24686028, 0.22537306, 0.12529072,\n",
              "         0.32552871, 0.15239478, 0.12547114, 2.72049212]),\n",
              "  'std_score_time': array([0.01900133, 0.01405421, 0.02446551, 0.00961585, 0.05705696,\n",
              "         0.01116401, 0.0192514 , 0.00879372, 0.04346678]),\n",
              "  'std_test_score': array([0.00327706, 0.00371523, 0.00337011, 0.00326121, 0.00356549,\n",
              "         0.0037855 , 0.00341366, 0.00342831, 0.0035504 ])},\n",
              " {'colsample_bytree': 0.85, 'subsample': 0.8},\n",
              " 0.9485404983726118)"
            ]
          },
          "metadata": {
            "tags": []
          },
          "execution_count": 85
        }
      ]
    },
    {
      "cell_type": "markdown",
      "metadata": {
        "id": "MA6LGGMFQWHj",
        "colab_type": "text"
      },
      "source": [
        "<font color=brown size=5> \n",
        "Slight drop in the performance <br> Best parameters values for Colsample and Subsample are 0.85 and 0.8 respectively. <br>\n",
        " {'colsample_bytree': 0.85, 'subsample': 0.8},\n",
        " 0.9485404983726118)"
      ]
    },
    {
      "cell_type": "markdown",
      "metadata": {
        "id": "fCLsHUU1Qwmj",
        "colab_type": "text"
      },
      "source": [
        "<font color=brown size=5>\n",
        "Step 5: Tuning Regularization Parameters"
      ]
    },
    {
      "cell_type": "code",
      "metadata": {
        "id": "ziJlM9dfPxWF",
        "colab_type": "code",
        "outputId": "2bd7b0da-223e-4c59-f57b-3fa04f5019e6",
        "colab": {
          "base_uri": "https://localhost:8080/",
          "height": 408
        }
      },
      "source": [
        "param_test6 = {\n",
        " 'reg_alpha':[1e-5, 1e-2, 0.1, 1, 100]\n",
        "}\n",
        "gsearch6 = GridSearchCV(estimator = XGBClassifier( learning_rate =0.1, n_estimators=131, max_depth=5,\n",
        " min_child_weight=6, gamma=0, subsample=0.8, colsample_bytree=0.6,\n",
        " objective= 'binary:logistic', nthread=4, scale_pos_weight=1,seed=27), \n",
        " param_grid = param_test6, scoring='roc_auc',n_jobs=4,iid=False, cv=5)\n",
        "gsearch6.fit(X_train,y_train)\n",
        "gsearch6.cv_results_, gsearch6.best_params_, gsearch6.best_score_\n"
      ],
      "execution_count": 0,
      "outputs": [
        {
          "output_type": "execute_result",
          "data": {
            "text/plain": [
              "({'mean_fit_time': array([8.87744851, 8.74356298, 8.70935206, 9.02944717, 5.439223  ]),\n",
              "  'mean_score_time': array([0.13423905, 0.12259059, 0.14978056, 0.14230237, 0.05829921]),\n",
              "  'mean_test_score': array([0.94871527, 0.94874801, 0.94830594, 0.94866414, 0.93856827]),\n",
              "  'param_reg_alpha': masked_array(data=[1e-05, 0.01, 0.1, 1, 100],\n",
              "               mask=[False, False, False, False, False],\n",
              "         fill_value='?',\n",
              "              dtype=object),\n",
              "  'params': [{'reg_alpha': 1e-05},\n",
              "   {'reg_alpha': 0.01},\n",
              "   {'reg_alpha': 0.1},\n",
              "   {'reg_alpha': 1},\n",
              "   {'reg_alpha': 100}],\n",
              "  'rank_test_score': array([2, 1, 4, 3, 5], dtype=int32),\n",
              "  'split0_test_score': array([0.95017965, 0.95039759, 0.94953824, 0.9500958 , 0.9420949 ]),\n",
              "  'split1_test_score': array([0.95391123, 0.95393772, 0.95337971, 0.95402323, 0.94393481]),\n",
              "  'split2_test_score': array([0.94922888, 0.94934074, 0.94840276, 0.94893602, 0.9374756 ]),\n",
              "  'split3_test_score': array([0.94475936, 0.94501644, 0.94483515, 0.94487638, 0.93208629]),\n",
              "  'split4_test_score': array([0.94549723, 0.94504755, 0.94537382, 0.94538928, 0.93724977]),\n",
              "  'std_fit_time': array([0.06853752, 0.10804103, 0.25557591, 0.27216236, 1.64960432]),\n",
              "  'std_score_time': array([0.0546199 , 0.03805637, 0.03732822, 0.01945914, 0.02775547]),\n",
              "  'std_test_score': array([0.003329  , 0.0033948 , 0.00309563, 0.00334411, 0.00415176])},\n",
              " {'reg_alpha': 0.01},\n",
              " 0.9487480085416806)"
            ]
          },
          "metadata": {
            "tags": []
          },
          "execution_count": 93
        }
      ]
    },
    {
      "cell_type": "markdown",
      "metadata": {
        "id": "KPpYMLkgWBb7",
        "colab_type": "text"
      },
      "source": [
        "<font color=green size=5> \n",
        "  {'reg_alpha': 0.01},\n",
        " 0.9487480085416806) <br>\n",
        " <font color=brown>\n",
        " Playing around to get the optimal either side of the base line of reg_Alpha values of 0.01"
      ]
    },
    {
      "cell_type": "code",
      "metadata": {
        "id": "JNI4nwtjRGS3",
        "colab_type": "code",
        "outputId": "d156c36e-52ae-4216-af3d-ef744006a7bc",
        "colab": {
          "base_uri": "https://localhost:8080/",
          "height": 697
        }
      },
      "source": [
        "param_test7 = {\n",
        " 'reg_alpha':[0.05, 0.01, 0.15, 0.25, 0.5, 0.75, 1, 1.25, 1.35, 1.50]\n",
        "}\n",
        "gsearch7 = GridSearchCV(estimator = XGBClassifier( learning_rate =0.1, n_estimators=131, max_depth=5,\n",
        " min_child_weight=6, gamma=0, subsample=0.8, colsample_bytree=0.6,\n",
        " objective= 'binary:logistic', nthread=4, scale_pos_weight=1,seed=27), \n",
        " param_grid = param_test7, scoring='roc_auc',n_jobs=4,iid=False, cv=5)\n",
        "gsearch7.fit(X_train,y_train)\n",
        "gsearch7.cv_results_, gsearch7.best_params_, gsearch7.best_score_\n"
      ],
      "execution_count": 0,
      "outputs": [
        {
          "output_type": "execute_result",
          "data": {
            "text/plain": [
              "({'mean_fit_time': array([8.77399426, 8.58722701, 8.96608648, 8.77780066, 8.84143233,\n",
              "         8.94411988, 8.84704728, 8.9196907 , 8.97422967, 7.27588387]),\n",
              "  'mean_score_time': array([0.13470521, 0.13211164, 0.12230873, 0.12118258, 0.16365209,\n",
              "         0.13125834, 0.10454707, 0.12799187, 0.11600294, 0.10861554]),\n",
              "  'mean_test_score': array([0.9485383 , 0.94874801, 0.94837761, 0.94863543, 0.94847113,\n",
              "         0.9486538 , 0.94866414, 0.94883653, 0.9485942 , 0.94852279]),\n",
              "  'param_reg_alpha': masked_array(data=[0.05, 0.01, 0.15, 0.25, 0.5, 0.75, 1, 1.25, 1.35, 1.5],\n",
              "               mask=[False, False, False, False, False, False, False, False,\n",
              "                     False, False],\n",
              "         fill_value='?',\n",
              "              dtype=object),\n",
              "  'params': [{'reg_alpha': 0.05},\n",
              "   {'reg_alpha': 0.01},\n",
              "   {'reg_alpha': 0.15},\n",
              "   {'reg_alpha': 0.25},\n",
              "   {'reg_alpha': 0.5},\n",
              "   {'reg_alpha': 0.75},\n",
              "   {'reg_alpha': 1},\n",
              "   {'reg_alpha': 1.25},\n",
              "   {'reg_alpha': 1.35},\n",
              "   {'reg_alpha': 1.5}],\n",
              "  'rank_test_score': array([ 7,  2, 10,  5,  9,  4,  3,  1,  6,  8], dtype=int32),\n",
              "  'split0_test_score': array([0.95018237, 0.95039759, 0.94977495, 0.95010065, 0.95049808,\n",
              "         0.95053138, 0.9500958 , 0.95070784, 0.95026077, 0.950275  ]),\n",
              "  'split1_test_score': array([0.95354331, 0.95393772, 0.95335927, 0.95413765, 0.95347445,\n",
              "         0.95420545, 0.95402323, 0.95400991, 0.95396602, 0.95400386]),\n",
              "  'split2_test_score': array([0.94917795, 0.94934074, 0.94900575, 0.94899878, 0.94907487,\n",
              "         0.94864438, 0.94893602, 0.94883083, 0.94885326, 0.9481766 ]),\n",
              "  'split3_test_score': array([0.94454169, 0.94501644, 0.94472783, 0.94455624, 0.9440824 ,\n",
              "         0.94514347, 0.94487638, 0.9448015 , 0.94458323, 0.94482045]),\n",
              "  'split4_test_score': array([0.94524616, 0.94504755, 0.94502026, 0.94538382, 0.94522585,\n",
              "         0.94474433, 0.94538928, 0.94583259, 0.94530771, 0.94533804]),\n",
              "  'std_fit_time': array([0.08181367, 0.14851079, 0.22499725, 0.1318428 , 0.1424162 ,\n",
              "         0.17487944, 0.17071735, 0.20490003, 0.33448236, 1.8902319 ]),\n",
              "  'std_score_time': array([0.01949041, 0.01713366, 0.01426264, 0.04242045, 0.01467589,\n",
              "         0.03078258, 0.02426293, 0.02042022, 0.00687604, 0.03558683]),\n",
              "  'std_test_score': array([0.00331582, 0.0033948 , 0.00321735, 0.00345734, 0.00344381,\n",
              "         0.00352002, 0.00334411, 0.00333379, 0.00342315, 0.00337882])},\n",
              " {'reg_alpha': 1.25},\n",
              " 0.948836534632432)"
            ]
          },
          "metadata": {
            "tags": []
          },
          "execution_count": 97
        }
      ]
    },
    {
      "cell_type": "markdown",
      "metadata": {
        "id": "n_mG1thico1k",
        "colab_type": "text"
      },
      "source": [
        "<font color=green size=6>\n",
        "reg Alpha (L1 Regularizer parameter values turns out to be 1.25 to give the highest score so far. <br>\n",
        "{'reg_alpha': 1.25},\n",
        " 0.948836534632432)"
      ]
    },
    {
      "cell_type": "code",
      "metadata": {
        "id": "j57BtXLfXFdM",
        "colab_type": "code",
        "outputId": "b79d49ea-d88d-4b06-d85a-093c766bb8a4",
        "colab": {
          "base_uri": "https://localhost:8080/",
          "height": 426
        }
      },
      "source": [
        "xgb3 = XGBClassifier(\n",
        " learning_rate =0.1,\n",
        " n_estimators=131,\n",
        " max_depth=5,\n",
        " min_child_weight=6,\n",
        " gamma=0,\n",
        " subsample=0.8,\n",
        " colsample_bytree=0.6,\n",
        " reg_alpha=1.25,\n",
        " objective= 'binary:logistic',\n",
        " nthread=4,\n",
        " scale_pos_weight=1,\n",
        " seed=27)\n",
        "modelfit(xgb3, X_train, y_train)\n"
      ],
      "execution_count": 0,
      "outputs": [
        {
          "output_type": "stream",
          "text": [
            "\n",
            "Model Report\n",
            "Accuracy : 0.9318\n",
            "AUC Score (Train): 0.962810\n",
            "CV Score : Mean - 0.9488365 | Std - 0.003333791 | Min - 0.9448015 | Max - 0.9540099\n"
          ],
          "name": "stdout"
        },
        {
          "output_type": "display_data",
          "data": {
            "image/png": "[encoded data removed]",
            "text/plain": [
              "<Figure size 864x288 with 1 Axes>"
            ]
          },
          "metadata": {
            "tags": []
          }
        }
      ]
    },
    {
      "cell_type": "markdown",
      "metadata": {
        "id": "GlwXSmPgfe-V",
        "colab_type": "text"
      },
      "source": [
        "<font color=brown size=5>\n",
        "Step 6: Reducing Learning Rate"
      ]
    },
    {
      "cell_type": "code",
      "metadata": {
        "id": "kK-7OJIhdrgp",
        "colab_type": "code",
        "outputId": "b85ed46f-34f3-468a-eb74-2561d89aae5e",
        "colab": {
          "base_uri": "https://localhost:8080/",
          "height": 426
        }
      },
      "source": [
        "xgb4 = XGBClassifier(\n",
        " learning_rate =0.01,\n",
        " n_estimators=1310,\n",
        " max_depth=5,\n",
        " min_child_weight=6,\n",
        " gamma=0,\n",
        " subsample=0.8,\n",
        " colsample_bytree=0.6,\n",
        " reg_alpha=1.25,\n",
        " objective= 'binary:logistic',\n",
        " nthread=4,\n",
        " scale_pos_weight=1,\n",
        " seed=27)\n",
        "modelfit(xgb4, X_train, y_train)"
      ],
      "execution_count": 0,
      "outputs": [
        {
          "output_type": "stream",
          "text": [
            "\n",
            "Model Report\n",
            "Accuracy : 0.9326\n",
            "AUC Score (Train): 0.963139\n",
            "CV Score : Mean - 0.9490987 | Std - 0.003277944 | Min - 0.9451504 | Max - 0.9539899\n"
          ],
          "name": "stdout"
        },
        {
          "output_type": "display_data",
          "data": {
            "image/png": "[encoded data removed]",
            "text/plain": [
              "<Figure size 864x288 with 1 Axes>"
            ]
          },
          "metadata": {
            "tags": []
          }
        }
      ]
    },
    {
      "cell_type": "markdown",
      "metadata": {
        "id": "hrwMA0NciY6H",
        "colab_type": "text"
      },
      "source": [
        "<font color=green size=5>\n",
        "Gradient Boost Mean Score is 0.9346 <br>\n",
        "XGBoost Mean Score is 0.9490, which is a considerable improvement, if not substancial. <br> Little bit of Feature Engieering also happened by Feature selection and Elimination, Standardized scattering. <br> Additionally, we could use Ensemble of models, stacking for further improvement. "
      ]
    },
    {
      "cell_type": "code",
      "metadata": {
        "id": "P3aGUXghiyNK",
        "colab_type": "code",
        "colab": {}
      },
      "source": [
        ""
      ],
      "execution_count": 0,
      "outputs": []
    },
    {
      "cell_type": "code",
      "metadata": {
        "id": "PCQamle-eU3O",
        "colab_type": "code",
        "colab": {}
      },
      "source": [
        ""
      ],
      "execution_count": 0,
      "outputs": []
    }
  ]
}