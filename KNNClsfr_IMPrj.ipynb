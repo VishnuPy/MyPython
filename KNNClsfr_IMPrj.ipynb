{
  "nbformat": 4,
  "nbformat_minor": 0,
  "metadata": {
    "colab": {
      "name": "KNNClsfr_IMPrj.ipynb",
      "provenance": [],
      "collapsed_sections": [],
      "include_colab_link": true
    },
    "kernelspec": {
      "name": "python3",
      "display_name": "Python 3"
    },
    "accelerator": "GPU"
  },
  "cells": [
    {
      "cell_type": "markdown",
      "metadata": {
        "id": "view-in-github",
        "colab_type": "text"
      },
      "source": [
        "<a href=\"https://colab.research.google.com/github/VishnuPy/MyPython/blob/master/KNNClsfr_IMPrj.ipynb\" target=\"_parent\"><img src=\"https://colab.research.google.com/assets/colab-badge.svg\" alt=\"Open In Colab\"/></a>"
      ]
    },
    {
      "cell_type": "code",
      "metadata": {
        "id": "3bmwBivDqa1L",
        "colab_type": "code",
        "outputId": "61d1126f-b607-4f3f-8923-369591dcafe7",
        "colab": {
          "base_uri": "https://localhost:8080/",
          "height": 85
        }
      },
      "source": [
        "import tensorflow as tf\n",
        "device_name = tf.test.gpu_device_name()\n",
        "if device_name != '/device:GPU:0':\n",
        "  raise SystemError('GPU device not found')\n",
        "print('Found GPU at: {}'.format(device_name))\n",
        "\n",
        "from google.colab import drive\n",
        "drive.mount('/gdrive')\n",
        "%cd /gdrive\n",
        "%ls"
      ],
      "execution_count": 0,
      "outputs": [
        {
          "output_type": "stream",
          "text": [
            "Found GPU at: /device:GPU:0\n",
            "Drive already mounted at /gdrive; to attempt to forcibly remount, call drive.mount(\"/gdrive\", force_remount=True).\n",
            "/gdrive\n",
            "\u001b[0m\u001b[01;34m'My Drive'\u001b[0m/\n"
          ],
          "name": "stdout"
        }
      ]
    },
    {
      "cell_type": "code",
      "metadata": {
        "id": "XQfmUCLYqfXx",
        "colab_type": "code",
        "outputId": "b8461f17-65f6-4b41-99df-a9959225e97a",
        "colab": {
          "base_uri": "https://localhost:8080/",
          "height": 258
        }
      },
      "source": [
        "import tensorflow as tf\n",
        "import timeit\n",
        "\n",
        "# See https://www.tensorflow.org/tutorials/using_gpu#allowing_gpu_memory_growth\n",
        "config = tf.ConfigProto()\n",
        "config.gpu_options.allow_growth = True\n",
        "\n",
        "with tf.device('/cpu:0'):\n",
        "  random_image_cpu = tf.random_normal((100, 100, 100, 3))\n",
        "  net_cpu = tf.layers.conv2d(random_image_cpu, 32, 7)\n",
        "  net_cpu = tf.reduce_sum(net_cpu)\n",
        "\n",
        "with tf.device('/gpu:0'):\n",
        "  random_image_gpu = tf.random_normal((100, 100, 100, 3))\n",
        "  net_gpu = tf.layers.conv2d(random_image_gpu, 32, 7)\n",
        "  net_gpu = tf.reduce_sum(net_gpu)\n",
        "\n",
        "sess = tf.Session(config=config)\n",
        "\n",
        "# Test execution once to detect errors early.\n",
        "try:\n",
        "  sess.run(tf.global_variables_initializer())\n",
        "except tf.errors.InvalidArgumentError:\n",
        "  print(\n",
        "      '\\n\\nThis error most likely means that this notebook is not '\n",
        "      'configured to use a GPU.  Change this in Notebook Settings via the '\n",
        "      'command palette (cmd/ctrl-shift-P) or the Edit menu.\\n\\n')\n",
        "  raise\n",
        "\n",
        "def cpu():\n",
        "  sess.run(net_cpu)\n",
        "  \n",
        "def gpu():\n",
        "  sess.run(net_gpu)\n",
        "  \n",
        "# Runs the op several times.\n",
        "print('Time (s) to convolve 32x7x7x3 filter over random 100x100x100x3 images '\n",
        "      '(batch x height x width x channel). Sum of ten runs.')\n",
        "print('CPU (s):')\n",
        "cpu_time = timeit.timeit('cpu()', number=10, setup=\"from __main__ import cpu\")\n",
        "print(cpu_time)\n",
        "print('GPU (s):')\n",
        "gpu_time = timeit.timeit('gpu()', number=10, setup=\"from __main__ import gpu\")\n",
        "print(gpu_time)\n",
        "print('GPU speedup over CPU: {}x'.format(int(cpu_time/gpu_time)))"
      ],
      "execution_count": 0,
      "outputs": [
        {
          "output_type": "stream",
          "text": [
            "WARNING: Logging before flag parsing goes to stderr.\n",
            "W0828 12:05:20.539601 139993723807616 deprecation.py:323] From <ipython-input-2-00b17d59170f>:10: conv2d (from tensorflow.python.layers.convolutional) is deprecated and will be removed in a future version.\n",
            "Instructions for updating:\n",
            "Use `tf.keras.layers.Conv2D` instead.\n",
            "W0828 12:05:20.546740 139993723807616 deprecation.py:506] From /usr/local/lib/python3.6/dist-packages/tensorflow/python/ops/init_ops.py:1251: calling VarianceScaling.__init__ (from tensorflow.python.ops.init_ops) with dtype is deprecated and will be removed in a future version.\n",
            "Instructions for updating:\n",
            "Call initializer instance with the dtype argument instead of passing it to the constructor\n"
          ],
          "name": "stderr"
        },
        {
          "output_type": "stream",
          "text": [
            "Time (s) to convolve 32x7x7x3 filter over random 100x100x100x3 images (batch x height x width x channel). Sum of ten runs.\n",
            "CPU (s):\n",
            "3.4809653789998265\n",
            "GPU (s):\n",
            "0.8694385519993375\n",
            "GPU speedup over CPU: 4x\n"
          ],
          "name": "stdout"
        }
      ]
    },
    {
      "cell_type": "code",
      "metadata": {
        "id": "U_ZfEHIOqnVi",
        "colab_type": "code",
        "outputId": "d0ea61fa-ca5a-489b-a2b1-58042e68a1f7",
        "colab": {
          "base_uri": "https://localhost:8080/",
          "height": 221
        }
      },
      "source": [
        "import numpy as np  \n",
        "import matplotlib.pyplot as plt  \n",
        "import pandas as pd  \n",
        "\n",
        "from sklearn.neighbors import KNeighborsClassifier  \n",
        "from sklearn.model_selection import cross_val_score\n",
        "\n",
        "BC_data = pd.read_csv('My Drive/MyLearning/MLDLAIPython/Data/TextData/Breast_Cancer_Knn_ImPrj.csv')\n",
        "BC_data.head()"
      ],
      "execution_count": 0,
      "outputs": [
        {
          "output_type": "execute_result",
          "data": {
            "text/html": [
              "<div>\n",
              "<style scoped>\n",
              "    .dataframe tbody tr th:only-of-type {\n",
              "        vertical-align: middle;\n",
              "    }\n",
              "\n",
              "    .dataframe tbody tr th {\n",
              "        vertical-align: top;\n",
              "    }\n",
              "\n",
              "    .dataframe thead th {\n",
              "        text-align: right;\n",
              "    }\n",
              "</style>\n",
              "<table border=\"1\" class=\"dataframe\">\n",
              "  <thead>\n",
              "    <tr style=\"text-align: right;\">\n",
              "      <th></th>\n",
              "      <th>Sample code number</th>\n",
              "      <th>Clump Thickness</th>\n",
              "      <th>Uniformity of Cell Size</th>\n",
              "      <th>Uniformity of Cell Shape</th>\n",
              "      <th>Marginal Adhesion</th>\n",
              "      <th>Single Epithelial Cell Size</th>\n",
              "      <th>Bare Nuclei</th>\n",
              "      <th>Bland Chromatin</th>\n",
              "      <th>Normal Nucleoli</th>\n",
              "      <th>Mitoses</th>\n",
              "      <th>Class</th>\n",
              "    </tr>\n",
              "  </thead>\n",
              "  <tbody>\n",
              "    <tr>\n",
              "      <th>0</th>\n",
              "      <td>1000025</td>\n",
              "      <td>5</td>\n",
              "      <td>1</td>\n",
              "      <td>1</td>\n",
              "      <td>1</td>\n",
              "      <td>2</td>\n",
              "      <td>1</td>\n",
              "      <td>3</td>\n",
              "      <td>1</td>\n",
              "      <td>1</td>\n",
              "      <td>2</td>\n",
              "    </tr>\n",
              "    <tr>\n",
              "      <th>1</th>\n",
              "      <td>1002945</td>\n",
              "      <td>5</td>\n",
              "      <td>4</td>\n",
              "      <td>4</td>\n",
              "      <td>5</td>\n",
              "      <td>7</td>\n",
              "      <td>10</td>\n",
              "      <td>3</td>\n",
              "      <td>2</td>\n",
              "      <td>1</td>\n",
              "      <td>2</td>\n",
              "    </tr>\n",
              "    <tr>\n",
              "      <th>2</th>\n",
              "      <td>1015425</td>\n",
              "      <td>3</td>\n",
              "      <td>1</td>\n",
              "      <td>1</td>\n",
              "      <td>1</td>\n",
              "      <td>2</td>\n",
              "      <td>2</td>\n",
              "      <td>3</td>\n",
              "      <td>1</td>\n",
              "      <td>1</td>\n",
              "      <td>2</td>\n",
              "    </tr>\n",
              "    <tr>\n",
              "      <th>3</th>\n",
              "      <td>1016277</td>\n",
              "      <td>6</td>\n",
              "      <td>8</td>\n",
              "      <td>8</td>\n",
              "      <td>1</td>\n",
              "      <td>3</td>\n",
              "      <td>4</td>\n",
              "      <td>3</td>\n",
              "      <td>7</td>\n",
              "      <td>1</td>\n",
              "      <td>2</td>\n",
              "    </tr>\n",
              "    <tr>\n",
              "      <th>4</th>\n",
              "      <td>1017023</td>\n",
              "      <td>4</td>\n",
              "      <td>1</td>\n",
              "      <td>1</td>\n",
              "      <td>3</td>\n",
              "      <td>2</td>\n",
              "      <td>1</td>\n",
              "      <td>3</td>\n",
              "      <td>1</td>\n",
              "      <td>1</td>\n",
              "      <td>2</td>\n",
              "    </tr>\n",
              "  </tbody>\n",
              "</table>\n",
              "</div>"
            ],
            "text/plain": [
              "   Sample code number  Clump Thickness   ...  Mitoses   Class\n",
              "0             1000025                 5  ...         1      2\n",
              "1             1002945                 5  ...         1      2\n",
              "2             1015425                 3  ...         1      2\n",
              "3             1016277                 6  ...         1      2\n",
              "4             1017023                 4  ...         1      2\n",
              "\n",
              "[5 rows x 11 columns]"
            ]
          },
          "metadata": {
            "tags": []
          },
          "execution_count": 3
        }
      ]
    },
    {
      "cell_type": "code",
      "metadata": {
        "id": "EozrHpmf9scP",
        "colab_type": "code",
        "outputId": "f3a2a213-aa10-4ee7-d1a4-66b3253fa111",
        "colab": {
          "base_uri": "https://localhost:8080/",
          "height": 390
        }
      },
      "source": [
        "BC_data.describe().T"
      ],
      "execution_count": 0,
      "outputs": [
        {
          "output_type": "execute_result",
          "data": {
            "text/html": [
              "<div>\n",
              "<style scoped>\n",
              "    .dataframe tbody tr th:only-of-type {\n",
              "        vertical-align: middle;\n",
              "    }\n",
              "\n",
              "    .dataframe tbody tr th {\n",
              "        vertical-align: top;\n",
              "    }\n",
              "\n",
              "    .dataframe thead th {\n",
              "        text-align: right;\n",
              "    }\n",
              "</style>\n",
              "<table border=\"1\" class=\"dataframe\">\n",
              "  <thead>\n",
              "    <tr style=\"text-align: right;\">\n",
              "      <th></th>\n",
              "      <th>count</th>\n",
              "      <th>mean</th>\n",
              "      <th>std</th>\n",
              "      <th>min</th>\n",
              "      <th>25%</th>\n",
              "      <th>50%</th>\n",
              "      <th>75%</th>\n",
              "      <th>max</th>\n",
              "    </tr>\n",
              "  </thead>\n",
              "  <tbody>\n",
              "    <tr>\n",
              "      <th>Sample code number</th>\n",
              "      <td>699.0</td>\n",
              "      <td>1.071704e+06</td>\n",
              "      <td>617095.729819</td>\n",
              "      <td>61634.0</td>\n",
              "      <td>870688.5</td>\n",
              "      <td>1171710.0</td>\n",
              "      <td>1238298.0</td>\n",
              "      <td>13454352.0</td>\n",
              "    </tr>\n",
              "    <tr>\n",
              "      <th>Clump Thickness</th>\n",
              "      <td>699.0</td>\n",
              "      <td>4.417740e+00</td>\n",
              "      <td>2.815741</td>\n",
              "      <td>1.0</td>\n",
              "      <td>2.0</td>\n",
              "      <td>4.0</td>\n",
              "      <td>6.0</td>\n",
              "      <td>10.0</td>\n",
              "    </tr>\n",
              "    <tr>\n",
              "      <th>Uniformity of Cell Size</th>\n",
              "      <td>699.0</td>\n",
              "      <td>3.134478e+00</td>\n",
              "      <td>3.051459</td>\n",
              "      <td>1.0</td>\n",
              "      <td>1.0</td>\n",
              "      <td>1.0</td>\n",
              "      <td>5.0</td>\n",
              "      <td>10.0</td>\n",
              "    </tr>\n",
              "    <tr>\n",
              "      <th>Uniformity of Cell Shape</th>\n",
              "      <td>699.0</td>\n",
              "      <td>3.207439e+00</td>\n",
              "      <td>2.971913</td>\n",
              "      <td>1.0</td>\n",
              "      <td>1.0</td>\n",
              "      <td>1.0</td>\n",
              "      <td>5.0</td>\n",
              "      <td>10.0</td>\n",
              "    </tr>\n",
              "    <tr>\n",
              "      <th>Marginal Adhesion</th>\n",
              "      <td>699.0</td>\n",
              "      <td>2.806867e+00</td>\n",
              "      <td>2.855379</td>\n",
              "      <td>1.0</td>\n",
              "      <td>1.0</td>\n",
              "      <td>1.0</td>\n",
              "      <td>4.0</td>\n",
              "      <td>10.0</td>\n",
              "    </tr>\n",
              "    <tr>\n",
              "      <th>Single Epithelial Cell Size</th>\n",
              "      <td>699.0</td>\n",
              "      <td>3.216023e+00</td>\n",
              "      <td>2.214300</td>\n",
              "      <td>1.0</td>\n",
              "      <td>2.0</td>\n",
              "      <td>2.0</td>\n",
              "      <td>4.0</td>\n",
              "      <td>10.0</td>\n",
              "    </tr>\n",
              "    <tr>\n",
              "      <th>Bare Nuclei</th>\n",
              "      <td>699.0</td>\n",
              "      <td>3.537911e+00</td>\n",
              "      <td>3.650126</td>\n",
              "      <td>1.0</td>\n",
              "      <td>1.0</td>\n",
              "      <td>1.0</td>\n",
              "      <td>6.0</td>\n",
              "      <td>10.0</td>\n",
              "    </tr>\n",
              "    <tr>\n",
              "      <th>Bland Chromatin</th>\n",
              "      <td>699.0</td>\n",
              "      <td>3.437768e+00</td>\n",
              "      <td>2.438364</td>\n",
              "      <td>1.0</td>\n",
              "      <td>2.0</td>\n",
              "      <td>3.0</td>\n",
              "      <td>5.0</td>\n",
              "      <td>10.0</td>\n",
              "    </tr>\n",
              "    <tr>\n",
              "      <th>Normal Nucleoli</th>\n",
              "      <td>699.0</td>\n",
              "      <td>2.866953e+00</td>\n",
              "      <td>3.053634</td>\n",
              "      <td>1.0</td>\n",
              "      <td>1.0</td>\n",
              "      <td>1.0</td>\n",
              "      <td>4.0</td>\n",
              "      <td>10.0</td>\n",
              "    </tr>\n",
              "    <tr>\n",
              "      <th>Mitoses</th>\n",
              "      <td>699.0</td>\n",
              "      <td>1.589413e+00</td>\n",
              "      <td>1.715078</td>\n",
              "      <td>1.0</td>\n",
              "      <td>1.0</td>\n",
              "      <td>1.0</td>\n",
              "      <td>1.0</td>\n",
              "      <td>10.0</td>\n",
              "    </tr>\n",
              "    <tr>\n",
              "      <th>Class</th>\n",
              "      <td>699.0</td>\n",
              "      <td>2.689557e+00</td>\n",
              "      <td>0.951273</td>\n",
              "      <td>2.0</td>\n",
              "      <td>2.0</td>\n",
              "      <td>2.0</td>\n",
              "      <td>4.0</td>\n",
              "      <td>4.0</td>\n",
              "    </tr>\n",
              "  </tbody>\n",
              "</table>\n",
              "</div>"
            ],
            "text/plain": [
              "                             count          mean  ...        75%         max\n",
              "Sample code number           699.0  1.071704e+06  ...  1238298.0  13454352.0\n",
              "Clump Thickness              699.0  4.417740e+00  ...        6.0        10.0\n",
              "Uniformity of Cell Size      699.0  3.134478e+00  ...        5.0        10.0\n",
              "Uniformity of Cell Shape     699.0  3.207439e+00  ...        5.0        10.0\n",
              "Marginal Adhesion            699.0  2.806867e+00  ...        4.0        10.0\n",
              "Single Epithelial Cell Size  699.0  3.216023e+00  ...        4.0        10.0\n",
              "Bare Nuclei                  699.0  3.537911e+00  ...        6.0        10.0\n",
              "Bland Chromatin              699.0  3.437768e+00  ...        5.0        10.0\n",
              "Normal Nucleoli              699.0  2.866953e+00  ...        4.0        10.0\n",
              "Mitoses                      699.0  1.589413e+00  ...        1.0        10.0\n",
              "Class                        699.0  2.689557e+00  ...        4.0         4.0\n",
              "\n",
              "[11 rows x 8 columns]"
            ]
          },
          "metadata": {
            "tags": []
          },
          "execution_count": 4
        }
      ]
    },
    {
      "cell_type": "code",
      "metadata": {
        "id": "2CZOLRHq9lIt",
        "colab_type": "code",
        "outputId": "cb5602f0-9981-4020-f3c4-060735009602",
        "colab": {
          "base_uri": "https://localhost:8080/",
          "height": 221
        }
      },
      "source": [
        "corr_matrix = BC_data.corr()\n",
        "corr_matrix['Class'].sort_values(ascending=False)"
      ],
      "execution_count": 0,
      "outputs": [
        {
          "output_type": "execute_result",
          "data": {
            "text/plain": [
              "Class                          1.000000\n",
              "Uniformity of Cell Shape       0.818934\n",
              "Uniformity of Cell Size        0.817904\n",
              "Bare Nuclei                    0.817253\n",
              "Bland Chromatin                0.756616\n",
              "Clump Thickness                0.716001\n",
              "Normal Nucleoli                0.712244\n",
              "Marginal Adhesion              0.696800\n",
              "Single Epithelial Cell Size    0.682785\n",
              "Mitoses                        0.423170\n",
              "Sample code number            -0.080226\n",
              "Name: Class, dtype: float64"
            ]
          },
          "metadata": {
            "tags": []
          },
          "execution_count": 5
        }
      ]
    },
    {
      "cell_type": "code",
      "metadata": {
        "id": "1CfaOFzzfW68",
        "colab_type": "code",
        "outputId": "cbeb94b7-b540-4b6c-8d2e-8bcb1c0cb053",
        "colab": {
          "base_uri": "https://localhost:8080/",
          "height": 906
        }
      },
      "source": [
        "from pandas.plotting import scatter_matrix\n",
        "attributes = ['Class', 'Uniformity of Cell Shape', 'Uniformity of Cell Size', 'Sample code number']\n",
        "scatter_matrix(BC_data[attributes], figsize = (14,10))"
      ],
      "execution_count": 0,
      "outputs": [
        {
          "output_type": "execute_result",
          "data": {
            "text/plain": [
              "array([[<matplotlib.axes._subplots.AxesSubplot object at 0x7f527a3a9860>,\n",
              "        <matplotlib.axes._subplots.AxesSubplot object at 0x7f522349e128>,\n",
              "        <matplotlib.axes._subplots.AxesSubplot object at 0x7f52234c66a0>,\n",
              "        <matplotlib.axes._subplots.AxesSubplot object at 0x7f522346ac18>],\n",
              "       [<matplotlib.axes._subplots.AxesSubplot object at 0x7f522341d1d0>,\n",
              "        <matplotlib.axes._subplots.AxesSubplot object at 0x7f5223443748>,\n",
              "        <matplotlib.axes._subplots.AxesSubplot object at 0x7f52233ebcc0>,\n",
              "        <matplotlib.axes._subplots.AxesSubplot object at 0x7f522339b2b0>],\n",
              "       [<matplotlib.axes._subplots.AxesSubplot object at 0x7f522339b2e8>,\n",
              "        <matplotlib.axes._subplots.AxesSubplot object at 0x7f5223368d68>,\n",
              "        <matplotlib.axes._subplots.AxesSubplot object at 0x7f5223319320>,\n",
              "        <matplotlib.axes._subplots.AxesSubplot object at 0x7f522333d898>],\n",
              "       [<matplotlib.axes._subplots.AxesSubplot object at 0x7f52232e6e10>,\n",
              "        <matplotlib.axes._subplots.AxesSubplot object at 0x7f52232943c8>,\n",
              "        <matplotlib.axes._subplots.AxesSubplot object at 0x7f52232bc940>,\n",
              "        <matplotlib.axes._subplots.AxesSubplot object at 0x7f5223264eb8>]],\n",
              "      dtype=object)"
            ]
          },
          "metadata": {
            "tags": []
          },
          "execution_count": 6
        },
        {
          "output_type": "display_data",
          "data": {
            "image/png": "[encoded data removed]",
            "text/plain": [
              "<Figure size 1008x720 with 16 Axes>"
            ]
          },
          "metadata": {
            "tags": []
          }
        }
      ]
    },
    {
      "cell_type": "code",
      "metadata": {
        "id": "qI-EpMMBkjpn",
        "colab_type": "code",
        "outputId": "536bed4d-264f-476d-ca72-8618ece2e7d3",
        "colab": {
          "base_uri": "https://localhost:8080/",
          "height": 300
        }
      },
      "source": [
        "BC_data.plot(kind='scatter', x='Uniformity of Cell Size', y='Class', alpha=0.8)"
      ],
      "execution_count": 0,
      "outputs": [
        {
          "output_type": "execute_result",
          "data": {
            "text/plain": [
              "<matplotlib.axes._subplots.AxesSubplot at 0x7f52231d6cc0>"
            ]
          },
          "metadata": {
            "tags": []
          },
          "execution_count": 7
        },
        {
          "output_type": "display_data",
          "data": {
            "image/png": "[encoded data removed]",
            "text/plain": [
              "<Figure size 432x288 with 1 Axes>"
            ]
          },
          "metadata": {
            "tags": []
          }
        }
      ]
    },
    {
      "cell_type": "code",
      "metadata": {
        "id": "gdDc8HgxpN56",
        "colab_type": "code",
        "colab": {}
      },
      "source": [
        "from sklearn.impute import SimpleImputer\n",
        "imputer = SimpleImputer()\n",
        "BC_data_trans=imputer.fit_transform(BC_data)\n",
        "BC_data_trns = pd.DataFrame(BC_data_trans, columns=BC_data.columns)"
      ],
      "execution_count": 0,
      "outputs": []
    },
    {
      "cell_type": "code",
      "metadata": {
        "id": "6mttocqErJdy",
        "colab_type": "code",
        "outputId": "f7550799-e448-4f3e-e748-f37c306eb9a9",
        "colab": {
          "base_uri": "https://localhost:8080/",
          "height": 68
        }
      },
      "source": [
        "imputer.statistics_"
      ],
      "execution_count": 0,
      "outputs": [
        {
          "output_type": "execute_result",
          "data": {
            "text/plain": [
              "array([1.07170410e+06, 4.41773963e+00, 3.13447783e+00, 3.20743920e+00,\n",
              "       2.80686695e+00, 3.21602289e+00, 3.53791130e+00, 3.43776824e+00,\n",
              "       2.86695279e+00, 1.58941345e+00, 2.68955651e+00])"
            ]
          },
          "metadata": {
            "tags": []
          },
          "execution_count": 9
        }
      ]
    },
    {
      "cell_type": "code",
      "metadata": {
        "id": "g2u8R03klyDi",
        "colab_type": "code",
        "outputId": "b54297ab-2c1e-4998-dda1-d5d1d5cd3781",
        "colab": {
          "base_uri": "https://localhost:8080/",
          "height": 221
        }
      },
      "source": [
        "corr_matrix = BC_data_trns.corr()\n",
        "corr_matrix['Class'].sort_values(ascending=False)"
      ],
      "execution_count": 0,
      "outputs": [
        {
          "output_type": "execute_result",
          "data": {
            "text/plain": [
              "Class                          1.000000\n",
              "Uniformity of Cell Shape       0.818934\n",
              "Uniformity of Cell Size        0.817904\n",
              "Bare Nuclei                    0.817253\n",
              "Bland Chromatin                0.756616\n",
              "Clump Thickness                0.716001\n",
              "Normal Nucleoli                0.712244\n",
              "Marginal Adhesion              0.696800\n",
              "Single Epithelial Cell Size    0.682785\n",
              "Mitoses                        0.423170\n",
              "Sample code number            -0.080226\n",
              "Name: Class, dtype: float64"
            ]
          },
          "metadata": {
            "tags": []
          },
          "execution_count": 10
        }
      ]
    },
    {
      "cell_type": "code",
      "metadata": {
        "id": "fbOMxJMYtIrU",
        "colab_type": "code",
        "outputId": "64da95c8-2a05-44af-b32d-9f0c8f5c4119",
        "colab": {
          "base_uri": "https://localhost:8080/",
          "height": 792
        }
      },
      "source": [
        "from pandas.plotting import scatter_matrix\n",
        "attributes = ['Class', 'Uniformity of Cell Shape', 'Uniformity of Cell Size', 'Sample code number']\n",
        "scatter_matrix(BC_data_trns[attributes], figsize = (12,8))"
      ],
      "execution_count": 0,
      "outputs": [
        {
          "output_type": "execute_result",
          "data": {
            "text/plain": [
              "array([[<matplotlib.axes._subplots.AxesSubplot object at 0x7f52207bd748>,\n",
              "        <matplotlib.axes._subplots.AxesSubplot object at 0x7f522077a3c8>,\n",
              "        <matplotlib.axes._subplots.AxesSubplot object at 0x7f5220720940>,\n",
              "        <matplotlib.axes._subplots.AxesSubplot object at 0x7f52206c8eb8>],\n",
              "       [<matplotlib.axes._subplots.AxesSubplot object at 0x7f52206fa470>,\n",
              "        <matplotlib.axes._subplots.AxesSubplot object at 0x7f52206a59e8>,\n",
              "        <matplotlib.axes._subplots.AxesSubplot object at 0x7f522064bf60>,\n",
              "        <matplotlib.axes._subplots.AxesSubplot object at 0x7f522067b550>],\n",
              "       [<matplotlib.axes._subplots.AxesSubplot object at 0x7f522067b588>,\n",
              "        <matplotlib.axes._subplots.AxesSubplot object at 0x7f52205d4048>,\n",
              "        <matplotlib.axes._subplots.AxesSubplot object at 0x7f52205fd5c0>,\n",
              "        <matplotlib.axes._subplots.AxesSubplot object at 0x7f52205a4b38>],\n",
              "       [<matplotlib.axes._subplots.AxesSubplot object at 0x7f52205550f0>,\n",
              "        <matplotlib.axes._subplots.AxesSubplot object at 0x7f522057f668>,\n",
              "        <matplotlib.axes._subplots.AxesSubplot object at 0x7f5220525be0>,\n",
              "        <matplotlib.axes._subplots.AxesSubplot object at 0x7f52204cdeb8>]],\n",
              "      dtype=object)"
            ]
          },
          "metadata": {
            "tags": []
          },
          "execution_count": 11
        },
        {
          "output_type": "display_data",
          "data": {
            "image/png": "[encoded data removed]",
            "text/plain": [
              "<Figure size 864x576 with 16 Axes>"
            ]
          },
          "metadata": {
            "tags": []
          }
        }
      ]
    },
    {
      "cell_type": "code",
      "metadata": {
        "id": "3tpA3aDWpl7E",
        "colab_type": "code",
        "outputId": "46ed7ae7-038d-49ca-ef4f-8ea2e8d9d41b",
        "colab": {
          "base_uri": "https://localhost:8080/",
          "height": 238
        }
      },
      "source": [
        "BC_data_trans"
      ],
      "execution_count": 0,
      "outputs": [
        {
          "output_type": "execute_result",
          "data": {
            "text/plain": [
              "array([[1.000025e+06, 5.000000e+00, 1.000000e+00, ..., 1.000000e+00,\n",
              "        1.000000e+00, 2.000000e+00],\n",
              "       [1.002945e+06, 5.000000e+00, 4.000000e+00, ..., 2.000000e+00,\n",
              "        1.000000e+00, 2.000000e+00],\n",
              "       [1.015425e+06, 3.000000e+00, 1.000000e+00, ..., 1.000000e+00,\n",
              "        1.000000e+00, 2.000000e+00],\n",
              "       ...,\n",
              "       [8.888200e+05, 5.000000e+00, 1.000000e+01, ..., 1.000000e+01,\n",
              "        2.000000e+00, 4.000000e+00],\n",
              "       [8.974710e+05, 4.000000e+00, 8.000000e+00, ..., 6.000000e+00,\n",
              "        1.000000e+00, 4.000000e+00],\n",
              "       [8.974710e+05, 4.000000e+00, 8.000000e+00, ..., 4.000000e+00,\n",
              "        1.000000e+00, 4.000000e+00]])"
            ]
          },
          "metadata": {
            "tags": []
          },
          "execution_count": 12
        }
      ]
    },
    {
      "cell_type": "markdown",
      "metadata": {
        "id": "WHO0J45DxaND",
        "colab_type": "text"
      },
      "source": [
        "<font color=brown size=4> \n",
        "Convert the Class values into (Malignant identifier is 4) 1 and (Benign identifier is 2) 0 to be the classifiers in this new Class. "
      ]
    },
    {
      "cell_type": "code",
      "metadata": {
        "id": "4auBnR4swEKg",
        "colab_type": "code",
        "colab": {}
      },
      "source": [
        "BC_data.Class[BC_data.Class == 4] = 1\n",
        "BC_data.Class[BC_data.Class == 2] = 0\n"
      ],
      "execution_count": 0,
      "outputs": []
    },
    {
      "cell_type": "markdown",
      "metadata": {
        "id": "4A8K0ltS8KUN",
        "colab_type": "text"
      },
      "source": [
        "As we can see from the sample data, The first column (not the index) is an ID and it has no contribution to the end prediction. Hence, it can be Omitted when building the training and test datasets. "
      ]
    },
    {
      "cell_type": "code",
      "metadata": {
        "id": "9Xr0NjHRwDap",
        "colab_type": "code",
        "colab": {}
      },
      "source": [
        "X = BC_data.iloc[:, 1:10]\n",
        "y = BC_data.iloc[:, 10]\n",
        "#X = BC_data.iloc[:, :-1].values\n",
        "#y = BC_data.iloc[:, 10].values"
      ],
      "execution_count": 0,
      "outputs": []
    },
    {
      "cell_type": "code",
      "metadata": {
        "id": "m2aVoZqn5BmY",
        "colab_type": "code",
        "outputId": "e28cec4f-41e8-436a-9caf-a096243e45cb",
        "colab": {
          "base_uri": "https://localhost:8080/",
          "height": 221
        }
      },
      "source": [
        "X.head()"
      ],
      "execution_count": 0,
      "outputs": [
        {
          "output_type": "execute_result",
          "data": {
            "text/html": [
              "<div>\n",
              "<style scoped>\n",
              "    .dataframe tbody tr th:only-of-type {\n",
              "        vertical-align: middle;\n",
              "    }\n",
              "\n",
              "    .dataframe tbody tr th {\n",
              "        vertical-align: top;\n",
              "    }\n",
              "\n",
              "    .dataframe thead th {\n",
              "        text-align: right;\n",
              "    }\n",
              "</style>\n",
              "<table border=\"1\" class=\"dataframe\">\n",
              "  <thead>\n",
              "    <tr style=\"text-align: right;\">\n",
              "      <th></th>\n",
              "      <th>Clump Thickness</th>\n",
              "      <th>Uniformity of Cell Size</th>\n",
              "      <th>Uniformity of Cell Shape</th>\n",
              "      <th>Marginal Adhesion</th>\n",
              "      <th>Single Epithelial Cell Size</th>\n",
              "      <th>Bare Nuclei</th>\n",
              "      <th>Bland Chromatin</th>\n",
              "      <th>Normal Nucleoli</th>\n",
              "      <th>Mitoses</th>\n",
              "    </tr>\n",
              "  </thead>\n",
              "  <tbody>\n",
              "    <tr>\n",
              "      <th>0</th>\n",
              "      <td>5</td>\n",
              "      <td>1</td>\n",
              "      <td>1</td>\n",
              "      <td>1</td>\n",
              "      <td>2</td>\n",
              "      <td>1</td>\n",
              "      <td>3</td>\n",
              "      <td>1</td>\n",
              "      <td>1</td>\n",
              "    </tr>\n",
              "    <tr>\n",
              "      <th>1</th>\n",
              "      <td>5</td>\n",
              "      <td>4</td>\n",
              "      <td>4</td>\n",
              "      <td>5</td>\n",
              "      <td>7</td>\n",
              "      <td>10</td>\n",
              "      <td>3</td>\n",
              "      <td>2</td>\n",
              "      <td>1</td>\n",
              "    </tr>\n",
              "    <tr>\n",
              "      <th>2</th>\n",
              "      <td>3</td>\n",
              "      <td>1</td>\n",
              "      <td>1</td>\n",
              "      <td>1</td>\n",
              "      <td>2</td>\n",
              "      <td>2</td>\n",
              "      <td>3</td>\n",
              "      <td>1</td>\n",
              "      <td>1</td>\n",
              "    </tr>\n",
              "    <tr>\n",
              "      <th>3</th>\n",
              "      <td>6</td>\n",
              "      <td>8</td>\n",
              "      <td>8</td>\n",
              "      <td>1</td>\n",
              "      <td>3</td>\n",
              "      <td>4</td>\n",
              "      <td>3</td>\n",
              "      <td>7</td>\n",
              "      <td>1</td>\n",
              "    </tr>\n",
              "    <tr>\n",
              "      <th>4</th>\n",
              "      <td>4</td>\n",
              "      <td>1</td>\n",
              "      <td>1</td>\n",
              "      <td>3</td>\n",
              "      <td>2</td>\n",
              "      <td>1</td>\n",
              "      <td>3</td>\n",
              "      <td>1</td>\n",
              "      <td>1</td>\n",
              "    </tr>\n",
              "  </tbody>\n",
              "</table>\n",
              "</div>"
            ],
            "text/plain": [
              "   Clump Thickness   Uniformity of Cell Size  ...  Normal Nucleoli  Mitoses \n",
              "0                 5                        1  ...                1         1\n",
              "1                 5                        4  ...                2         1\n",
              "2                 3                        1  ...                1         1\n",
              "3                 6                        8  ...                7         1\n",
              "4                 4                        1  ...                1         1\n",
              "\n",
              "[5 rows x 9 columns]"
            ]
          },
          "metadata": {
            "tags": []
          },
          "execution_count": 15
        }
      ]
    },
    {
      "cell_type": "code",
      "metadata": {
        "id": "ejlWZhIa5IzY",
        "colab_type": "code",
        "outputId": "651fe2cc-9ab8-49b5-fba1-8ca236b34539",
        "colab": {
          "base_uri": "https://localhost:8080/",
          "height": 51
        }
      },
      "source": [
        "print ('X.shape -- > ', X.shape)\n",
        "print ('y.shape -- > ', y.shape)"
      ],
      "execution_count": 0,
      "outputs": [
        {
          "output_type": "stream",
          "text": [
            "X.shape -- >  (699, 9)\n",
            "y.shape -- >  (699,)\n"
          ],
          "name": "stdout"
        }
      ]
    },
    {
      "cell_type": "code",
      "metadata": {
        "id": "9ov2b5PI_bgK",
        "colab_type": "code",
        "outputId": "736accf9-88f8-43ac-8ffa-a19d6a7cd2ff",
        "colab": {
          "base_uri": "https://localhost:8080/",
          "height": 187
        }
      },
      "source": [
        "X.isnull().sum()\n",
        "#X = X.reset_index()\n",
        "#y = y.reset_index()"
      ],
      "execution_count": 0,
      "outputs": [
        {
          "output_type": "execute_result",
          "data": {
            "text/plain": [
              "Clump Thickness                0\n",
              "Uniformity of Cell Size        0\n",
              "Uniformity of Cell Shape       0\n",
              "Marginal Adhesion              0\n",
              "Single Epithelial Cell Size    0\n",
              "Bare Nuclei                    0\n",
              "Bland Chromatin                0\n",
              "Normal Nucleoli                0\n",
              "Mitoses                        0\n",
              "dtype: int64"
            ]
          },
          "metadata": {
            "tags": []
          },
          "execution_count": 17
        }
      ]
    },
    {
      "cell_type": "code",
      "metadata": {
        "id": "DhODkjRF63Wh",
        "colab_type": "code",
        "colab": {}
      },
      "source": [
        "from sklearn.model_selection import train_test_split\n",
        "X_train, X_test, y_train, y_test = train_test_split( X, y, test_size=0.20, random_state=42)"
      ],
      "execution_count": 0,
      "outputs": []
    },
    {
      "cell_type": "code",
      "metadata": {
        "id": "8aROpZbpHTNQ",
        "colab_type": "code",
        "colab": {}
      },
      "source": [
        ""
      ],
      "execution_count": 0,
      "outputs": []
    },
    {
      "cell_type": "code",
      "metadata": {
        "id": "AGsNSGafCQ8a",
        "colab_type": "code",
        "outputId": "b326bbcd-6ee9-47df-87db-c18126ec2f7f",
        "colab": {
          "base_uri": "https://localhost:8080/",
          "height": 221
        }
      },
      "source": [
        "X_train.head()"
      ],
      "execution_count": 0,
      "outputs": [
        {
          "output_type": "execute_result",
          "data": {
            "text/html": [
              "<div>\n",
              "<style scoped>\n",
              "    .dataframe tbody tr th:only-of-type {\n",
              "        vertical-align: middle;\n",
              "    }\n",
              "\n",
              "    .dataframe tbody tr th {\n",
              "        vertical-align: top;\n",
              "    }\n",
              "\n",
              "    .dataframe thead th {\n",
              "        text-align: right;\n",
              "    }\n",
              "</style>\n",
              "<table border=\"1\" class=\"dataframe\">\n",
              "  <thead>\n",
              "    <tr style=\"text-align: right;\">\n",
              "      <th></th>\n",
              "      <th>Clump Thickness</th>\n",
              "      <th>Uniformity of Cell Size</th>\n",
              "      <th>Uniformity of Cell Shape</th>\n",
              "      <th>Marginal Adhesion</th>\n",
              "      <th>Single Epithelial Cell Size</th>\n",
              "      <th>Bare Nuclei</th>\n",
              "      <th>Bland Chromatin</th>\n",
              "      <th>Normal Nucleoli</th>\n",
              "      <th>Mitoses</th>\n",
              "    </tr>\n",
              "  </thead>\n",
              "  <tbody>\n",
              "    <tr>\n",
              "      <th>82</th>\n",
              "      <td>5</td>\n",
              "      <td>2</td>\n",
              "      <td>1</td>\n",
              "      <td>1</td>\n",
              "      <td>2</td>\n",
              "      <td>1</td>\n",
              "      <td>3</td>\n",
              "      <td>1</td>\n",
              "      <td>1</td>\n",
              "    </tr>\n",
              "    <tr>\n",
              "      <th>51</th>\n",
              "      <td>5</td>\n",
              "      <td>3</td>\n",
              "      <td>3</td>\n",
              "      <td>4</td>\n",
              "      <td>2</td>\n",
              "      <td>4</td>\n",
              "      <td>3</td>\n",
              "      <td>4</td>\n",
              "      <td>1</td>\n",
              "    </tr>\n",
              "    <tr>\n",
              "      <th>220</th>\n",
              "      <td>1</td>\n",
              "      <td>1</td>\n",
              "      <td>1</td>\n",
              "      <td>2</td>\n",
              "      <td>2</td>\n",
              "      <td>1</td>\n",
              "      <td>3</td>\n",
              "      <td>1</td>\n",
              "      <td>1</td>\n",
              "    </tr>\n",
              "    <tr>\n",
              "      <th>559</th>\n",
              "      <td>5</td>\n",
              "      <td>1</td>\n",
              "      <td>1</td>\n",
              "      <td>1</td>\n",
              "      <td>2</td>\n",
              "      <td>1</td>\n",
              "      <td>2</td>\n",
              "      <td>1</td>\n",
              "      <td>1</td>\n",
              "    </tr>\n",
              "    <tr>\n",
              "      <th>544</th>\n",
              "      <td>2</td>\n",
              "      <td>1</td>\n",
              "      <td>3</td>\n",
              "      <td>2</td>\n",
              "      <td>2</td>\n",
              "      <td>1</td>\n",
              "      <td>2</td>\n",
              "      <td>1</td>\n",
              "      <td>1</td>\n",
              "    </tr>\n",
              "  </tbody>\n",
              "</table>\n",
              "</div>"
            ],
            "text/plain": [
              "     Clump Thickness   Uniformity of Cell Size  ...  Normal Nucleoli  Mitoses \n",
              "82                  5                        2  ...                1         1\n",
              "51                  5                        3  ...                4         1\n",
              "220                 1                        1  ...                1         1\n",
              "559                 5                        1  ...                1         1\n",
              "544                 2                        1  ...                1         1\n",
              "\n",
              "[5 rows x 9 columns]"
            ]
          },
          "metadata": {
            "tags": []
          },
          "execution_count": 19
        }
      ]
    },
    {
      "cell_type": "code",
      "metadata": {
        "id": "-OEMFPGCC7gB",
        "colab_type": "code",
        "outputId": "da3a332a-2f5c-4664-c953-d61e5e02ef68",
        "colab": {
          "base_uri": "https://localhost:8080/",
          "height": 221
        }
      },
      "source": [
        "X_test.head()"
      ],
      "execution_count": 0,
      "outputs": [
        {
          "output_type": "execute_result",
          "data": {
            "text/html": [
              "<div>\n",
              "<style scoped>\n",
              "    .dataframe tbody tr th:only-of-type {\n",
              "        vertical-align: middle;\n",
              "    }\n",
              "\n",
              "    .dataframe tbody tr th {\n",
              "        vertical-align: top;\n",
              "    }\n",
              "\n",
              "    .dataframe thead th {\n",
              "        text-align: right;\n",
              "    }\n",
              "</style>\n",
              "<table border=\"1\" class=\"dataframe\">\n",
              "  <thead>\n",
              "    <tr style=\"text-align: right;\">\n",
              "      <th></th>\n",
              "      <th>Clump Thickness</th>\n",
              "      <th>Uniformity of Cell Size</th>\n",
              "      <th>Uniformity of Cell Shape</th>\n",
              "      <th>Marginal Adhesion</th>\n",
              "      <th>Single Epithelial Cell Size</th>\n",
              "      <th>Bare Nuclei</th>\n",
              "      <th>Bland Chromatin</th>\n",
              "      <th>Normal Nucleoli</th>\n",
              "      <th>Mitoses</th>\n",
              "    </tr>\n",
              "  </thead>\n",
              "  <tbody>\n",
              "    <tr>\n",
              "      <th>158</th>\n",
              "      <td>1</td>\n",
              "      <td>1</td>\n",
              "      <td>2</td>\n",
              "      <td>1</td>\n",
              "      <td>3</td>\n",
              "      <td>1</td>\n",
              "      <td>1</td>\n",
              "      <td>1</td>\n",
              "      <td>1</td>\n",
              "    </tr>\n",
              "    <tr>\n",
              "      <th>499</th>\n",
              "      <td>4</td>\n",
              "      <td>1</td>\n",
              "      <td>1</td>\n",
              "      <td>1</td>\n",
              "      <td>2</td>\n",
              "      <td>1</td>\n",
              "      <td>2</td>\n",
              "      <td>1</td>\n",
              "      <td>1</td>\n",
              "    </tr>\n",
              "    <tr>\n",
              "      <th>396</th>\n",
              "      <td>3</td>\n",
              "      <td>1</td>\n",
              "      <td>1</td>\n",
              "      <td>1</td>\n",
              "      <td>2</td>\n",
              "      <td>1</td>\n",
              "      <td>3</td>\n",
              "      <td>1</td>\n",
              "      <td>1</td>\n",
              "    </tr>\n",
              "    <tr>\n",
              "      <th>155</th>\n",
              "      <td>5</td>\n",
              "      <td>5</td>\n",
              "      <td>5</td>\n",
              "      <td>6</td>\n",
              "      <td>3</td>\n",
              "      <td>10</td>\n",
              "      <td>3</td>\n",
              "      <td>1</td>\n",
              "      <td>1</td>\n",
              "    </tr>\n",
              "    <tr>\n",
              "      <th>321</th>\n",
              "      <td>3</td>\n",
              "      <td>1</td>\n",
              "      <td>1</td>\n",
              "      <td>1</td>\n",
              "      <td>2</td>\n",
              "      <td>1</td>\n",
              "      <td>3</td>\n",
              "      <td>1</td>\n",
              "      <td>1</td>\n",
              "    </tr>\n",
              "  </tbody>\n",
              "</table>\n",
              "</div>"
            ],
            "text/plain": [
              "     Clump Thickness   Uniformity of Cell Size  ...  Normal Nucleoli  Mitoses \n",
              "158                 1                        1  ...                1         1\n",
              "499                 4                        1  ...                1         1\n",
              "396                 3                        1  ...                1         1\n",
              "155                 5                        5  ...                1         1\n",
              "321                 3                        1  ...                1         1\n",
              "\n",
              "[5 rows x 9 columns]"
            ]
          },
          "metadata": {
            "tags": []
          },
          "execution_count": 20
        }
      ]
    },
    {
      "cell_type": "code",
      "metadata": {
        "id": "ABaPrQ1kDn2R",
        "colab_type": "code",
        "outputId": "7caae5b5-e3af-4ffe-8ef3-80ed39dd8482",
        "colab": {
          "base_uri": "https://localhost:8080/",
          "height": 119
        }
      },
      "source": [
        "y_train.head()"
      ],
      "execution_count": 0,
      "outputs": [
        {
          "output_type": "execute_result",
          "data": {
            "text/plain": [
              "82     0\n",
              "51     1\n",
              "220    0\n",
              "559    0\n",
              "544    0\n",
              "Name: Class, dtype: int64"
            ]
          },
          "metadata": {
            "tags": []
          },
          "execution_count": 21
        }
      ]
    },
    {
      "cell_type": "code",
      "metadata": {
        "id": "u3-xSfDjDr6_",
        "colab_type": "code",
        "outputId": "1b422967-5005-4a3d-e8ba-e53202371ccc",
        "colab": {
          "base_uri": "https://localhost:8080/",
          "height": 119
        }
      },
      "source": [
        "y_test.head()"
      ],
      "execution_count": 0,
      "outputs": [
        {
          "output_type": "execute_result",
          "data": {
            "text/plain": [
              "158    0\n",
              "499    0\n",
              "396    0\n",
              "155    1\n",
              "321    0\n",
              "Name: Class, dtype: int64"
            ]
          },
          "metadata": {
            "tags": []
          },
          "execution_count": 22
        }
      ]
    },
    {
      "cell_type": "markdown",
      "metadata": {
        "id": "ba3P8g-I6_cK",
        "colab_type": "text"
      },
      "source": [
        "<font color=brown size=4>\n",
        "Normalizing data for the Algorithm to work properly. For example, the majority of classifiers calculate the distance between two points by the Euclidean distance. If one of the features has a broad range of values, the distance will be governed by this particular feature. Therefore, the range of all features should be normalized so that each feature contributes approximately proportionately to the final distance."
      ]
    },
    {
      "cell_type": "code",
      "metadata": {
        "id": "N-cFoMqCE_AJ",
        "colab_type": "code",
        "outputId": "5d32d2f4-aa5e-4ea9-ec5c-4b1fcf73a5af",
        "colab": {
          "base_uri": "https://localhost:8080/",
          "height": 34
        }
      },
      "source": [
        "# search for an optimal value of K for KNN\n",
        "\n",
        "# range of k we want to try\n",
        "k_range = range(1, 6)\n",
        "# empty list to store scores\n",
        "k_scores = []\n",
        "\n",
        "# 1. we will loop through reasonable values of k\n",
        "for k in k_range:\n",
        "    # 2. run KNeighborsClassifier with k neighbours\n",
        "    knn = KNeighborsClassifier(n_neighbors=k)\n",
        "    # 3. obtain cross_val_score for KNeighborsClassifier with k neighbours\n",
        "    scores = cross_val_score(knn, X_train, y_train, cv=10, scoring='accuracy')\n",
        "    # 4. append mean of scores for k neighbors to k_scores list\n",
        "    k_scores.append(scores.mean())\n",
        "\n",
        "\n",
        "print(k_scores)"
      ],
      "execution_count": 0,
      "outputs": [
        {
          "output_type": "stream",
          "text": [
            "[0.9426845522898153, 0.9211238323080428, 0.9570386192754613, 0.9570072909546594, 0.9660007974481658]\n"
          ],
          "name": "stdout"
        }
      ]
    },
    {
      "cell_type": "code",
      "metadata": {
        "id": "S6uQJGYaV0Hr",
        "colab_type": "code",
        "outputId": "d71b6a40-de8b-40d6-c1a8-a66aa3a9fdf1",
        "colab": {
          "base_uri": "https://localhost:8080/",
          "height": 300
        }
      },
      "source": [
        "# plot how accuracy changes as we vary k\n",
        "import matplotlib.pyplot as plt\n",
        "%matplotlib inline\n",
        "\n",
        "# plot the value of K for KNN (x-axis) versus the cross-validated accuracy (y-axis)\n",
        "# plt.plot(x_axis, y_axis)\n",
        "plt.plot(k_range, k_scores)\n",
        "plt.xlabel('Value of K for KNN')\n",
        "plt.ylabel('Cross-validated accuracy')"
      ],
      "execution_count": 0,
      "outputs": [
        {
          "output_type": "execute_result",
          "data": {
            "text/plain": [
              "Text(0, 0.5, 'Cross-validated accuracy')"
            ]
          },
          "metadata": {
            "tags": []
          },
          "execution_count": 24
        },
        {
          "output_type": "display_data",
          "data": {
            "image/png": "[encoded data removed]",
            "text/plain": [
              "<Figure size 432x288 with 1 Axes>"
            ]
          },
          "metadata": {
            "tags": []
          }
        }
      ]
    },
    {
      "cell_type": "code",
      "metadata": {
        "id": "oBxB5EdUFOQ1",
        "colab_type": "code",
        "outputId": "64eb2236-02c2-466e-bcb1-5d65f9a0383d",
        "colab": {
          "base_uri": "https://localhost:8080/",
          "height": 51
        }
      },
      "source": [
        "# in essence, this is basically running the k-fold cross-validation method 30 times because we want to run through K values from 1 to 30\n",
        "# we should have 30 scores here\n",
        "print('Length of list', len(k_scores))\n",
        "print('Max of list', max(k_scores))"
      ],
      "execution_count": 0,
      "outputs": [
        {
          "output_type": "stream",
          "text": [
            "Length of list 5\n",
            "Max of list 0.9660007974481658\n"
          ],
          "name": "stdout"
        }
      ]
    },
    {
      "cell_type": "code",
      "metadata": {
        "id": "XODN-9pYvsAO",
        "colab_type": "code",
        "colab": {}
      },
      "source": [
        "classifier = KNeighborsClassifier(n_neighbors=5 )  \n",
        "classifier.fit(X_train, y_train) \n",
        "y_pred = classifier.predict(X_test)"
      ],
      "execution_count": 0,
      "outputs": []
    },
    {
      "cell_type": "code",
      "metadata": {
        "id": "HvLXHEEHSR8j",
        "colab_type": "code",
        "outputId": "a95783e2-23ed-4133-8ca7-061e38c5b697",
        "colab": {
          "base_uri": "https://localhost:8080/",
          "height": 51
        }
      },
      "source": [
        "from sklearn.metrics import classification_report, confusion_matrix\n",
        "print(confusion_matrix(y_test, y_pred))\n",
        "#print(classification_report(y_test, y_pred))"
      ],
      "execution_count": 0,
      "outputs": [
        {
          "output_type": "stream",
          "text": [
            "[[94  1]\n",
            " [ 1 44]]\n"
          ],
          "name": "stdout"
        }
      ]
    },
    {
      "cell_type": "code",
      "metadata": {
        "id": "JVcprfHxSWrU",
        "colab_type": "code",
        "colab": {}
      },
      "source": [
        "error = []\n",
        "\n",
        "# Calculating error for K values between 1 and xxxx\n",
        "for i in range(1, 6):\n",
        "    knn = KNeighborsClassifier(n_neighbors=i)\n",
        "    knn.fit(X_train, y_train)\n",
        "    pred_i = knn.predict(X_test)\n",
        "    error.append(np.mean(pred_i != y_test))"
      ],
      "execution_count": 0,
      "outputs": []
    },
    {
      "cell_type": "code",
      "metadata": {
        "id": "WX5I0Ls_GE_i",
        "colab_type": "code",
        "outputId": "60560cc9-a8bb-4f8e-a98a-69056a992617",
        "colab": {
          "base_uri": "https://localhost:8080/",
          "height": 136
        }
      },
      "source": [
        "pred_i"
      ],
      "execution_count": 0,
      "outputs": [
        {
          "output_type": "execute_result",
          "data": {
            "text/plain": [
              "array([0, 0, 0, 1, 0, 0, 0, 1, 1, 1, 0, 1, 0, 0, 0, 1, 0, 1, 1, 1, 1, 0,\n",
              "       1, 0, 1, 0, 0, 1, 0, 1, 0, 0, 0, 1, 0, 0, 0, 1, 0, 1, 0, 0, 1, 0,\n",
              "       0, 0, 0, 0, 0, 0, 0, 0, 1, 0, 0, 0, 0, 1, 0, 0, 0, 0, 1, 0, 0, 0,\n",
              "       1, 1, 0, 0, 1, 0, 1, 0, 0, 0, 0, 1, 0, 0, 0, 0, 0, 0, 0, 1, 1, 0,\n",
              "       0, 0, 0, 0, 1, 0, 0, 1, 0, 0, 0, 0, 0, 0, 0, 1, 1, 0, 1, 0, 0, 1,\n",
              "       1, 0, 0, 1, 0, 1, 0, 0, 0, 0, 0, 1, 0, 0, 1, 1, 0, 0, 1, 1, 0, 0,\n",
              "       1, 0, 1, 0, 1, 0, 0, 0])"
            ]
          },
          "metadata": {
            "tags": []
          },
          "execution_count": 29
        }
      ]
    },
    {
      "cell_type": "code",
      "metadata": {
        "id": "oZb34MMmSfhH",
        "colab_type": "code",
        "outputId": "f3afe748-f3bb-450a-f7ab-68b85e7f0826",
        "colab": {
          "base_uri": "https://localhost:8080/",
          "height": 421
        }
      },
      "source": [
        "plt.figure(figsize=(12, 6))\n",
        "plt.plot(range(1, 6), error, color='red', linestyle='dashed', marker='o',\n",
        "         markerfacecolor='blue', markersize=10)\n",
        "plt.title('Error Rate K Value')\n",
        "plt.xlabel('K Value')\n",
        "plt.ylabel('Mean Error')"
      ],
      "execution_count": 0,
      "outputs": [
        {
          "output_type": "execute_result",
          "data": {
            "text/plain": [
              "Text(0, 0.5, 'Mean Error')"
            ]
          },
          "metadata": {
            "tags": []
          },
          "execution_count": 30
        },
        {
          "output_type": "display_data",
          "data": {
            "image/png": "[encoded data removed]",
            "text/plain": [
              "<Figure size 864x432 with 1 Axes>"
            ]
          },
          "metadata": {
            "tags": []
          }
        }
      ]
    },
    {
      "cell_type": "code",
      "metadata": {
        "id": "vnAYUB6-SiOm",
        "colab_type": "code",
        "outputId": "38fe9d6b-5ceb-4284-f578-278d71e9060a",
        "colab": {
          "base_uri": "https://localhost:8080/",
          "height": 204
        }
      },
      "source": [
        "\n",
        "print(confusion_matrix(y_test, y_pred))\n",
        "print(classification_report(y_test, y_pred))"
      ],
      "execution_count": 0,
      "outputs": [
        {
          "output_type": "stream",
          "text": [
            "[[94  1]\n",
            " [ 1 44]]\n",
            "              precision    recall  f1-score   support\n",
            "\n",
            "           0       0.99      0.99      0.99        95\n",
            "           1       0.98      0.98      0.98        45\n",
            "\n",
            "    accuracy                           0.99       140\n",
            "   macro avg       0.98      0.98      0.98       140\n",
            "weighted avg       0.99      0.99      0.99       140\n",
            "\n"
          ],
          "name": "stdout"
        }
      ]
    },
    {
      "cell_type": "code",
      "metadata": {
        "id": "bw6ciz_FhW1W",
        "colab_type": "code",
        "outputId": "bc60ee29-0a72-416b-aa37-cf636fc1b56b",
        "colab": {
          "base_uri": "https://localhost:8080/",
          "height": 34
        }
      },
      "source": [
        "print (knn.predict([[2, 10, 2, 2, 3,2,10,10, 1]]))"
      ],
      "execution_count": 0,
      "outputs": [
        {
          "output_type": "stream",
          "text": [
            "[1]\n"
          ],
          "name": "stdout"
        }
      ]
    },
    {
      "cell_type": "code",
      "metadata": {
        "id": "-1TMljOHhe_W",
        "colab_type": "code",
        "outputId": "ec980112-b0b1-49f9-e557-77cb4b788bd6",
        "colab": {
          "base_uri": "https://localhost:8080/",
          "height": 34
        }
      },
      "source": [
        "print (knn.predict([[2, 1, 2, 2, 3,2,1,1, 1]]))"
      ],
      "execution_count": 0,
      "outputs": [
        {
          "output_type": "stream",
          "text": [
            "[0]\n"
          ],
          "name": "stdout"
        }
      ]
    },
    {
      "cell_type": "code",
      "metadata": {
        "id": "wVFYkuvgUXXr",
        "colab_type": "code",
        "outputId": "15af8e3c-404e-4b99-d343-98ea10ec2d23",
        "colab": {
          "base_uri": "https://localhost:8080/",
          "height": 224
        }
      },
      "source": [
        " #10-fold cross-validation with logistic regression\n",
        "from sklearn.linear_model import LogisticRegression\n",
        "logreg = LogisticRegression()\n",
        "print(cross_val_score(logreg, X, y, cv=5, scoring='accuracy').mean())"
      ],
      "execution_count": 0,
      "outputs": [
        {
          "output_type": "stream",
          "text": [
            "0.9600906022902043\n"
          ],
          "name": "stdout"
        },
        {
          "output_type": "stream",
          "text": [
            "/usr/local/lib/python3.6/dist-packages/sklearn/linear_model/logistic.py:432: FutureWarning: Default solver will be changed to 'lbfgs' in 0.22. Specify a solver to silence this warning.\n",
            "  FutureWarning)\n",
            "/usr/local/lib/python3.6/dist-packages/sklearn/linear_model/logistic.py:432: FutureWarning: Default solver will be changed to 'lbfgs' in 0.22. Specify a solver to silence this warning.\n",
            "  FutureWarning)\n",
            "/usr/local/lib/python3.6/dist-packages/sklearn/linear_model/logistic.py:432: FutureWarning: Default solver will be changed to 'lbfgs' in 0.22. Specify a solver to silence this warning.\n",
            "  FutureWarning)\n",
            "/usr/local/lib/python3.6/dist-packages/sklearn/linear_model/logistic.py:432: FutureWarning: Default solver will be changed to 'lbfgs' in 0.22. Specify a solver to silence this warning.\n",
            "  FutureWarning)\n",
            "/usr/local/lib/python3.6/dist-packages/sklearn/linear_model/logistic.py:432: FutureWarning: Default solver will be changed to 'lbfgs' in 0.22. Specify a solver to silence this warning.\n",
            "  FutureWarning)\n"
          ],
          "name": "stderr"
        }
      ]
    },
    {
      "cell_type": "code",
      "metadata": {
        "id": "pMcEd_Or8yuB",
        "colab_type": "code",
        "colab": {}
      },
      "source": [
        ""
      ],
      "execution_count": 0,
      "outputs": []
    }
  ]
}