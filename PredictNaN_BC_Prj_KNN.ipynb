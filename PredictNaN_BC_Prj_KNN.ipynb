{
  "nbformat": 4,
  "nbformat_minor": 0,
  "metadata": {
    "colab": {
      "name": "PredictNaN_BC_Prj_KNN.ipynb",
      "provenance": [],
      "collapsed_sections": [],
      "include_colab_link": true
    },
    "kernelspec": {
      "name": "python3",
      "display_name": "Python 3"
    },
    "accelerator": "GPU"
  },
  "cells": [
    {
      "cell_type": "markdown",
      "metadata": {
        "id": "view-in-github",
        "colab_type": "text"
      },
      "source": [
        "<a href=\"https://colab.research.google.com/github/VishnuPy/MyPython/blob/master/PredictNaN_BC_Prj_KNN.ipynb\" target=\"_parent\"><img src=\"https://colab.research.google.com/assets/colab-badge.svg\" alt=\"Open In Colab\"/></a>"
      ]
    },
    {
      "cell_type": "code",
      "metadata": {
        "id": "TIiUqM8Dzo0u",
        "colab_type": "code",
        "outputId": "5a2b1f94-521b-4ab6-9833-20d5d31821b9",
        "colab": {
          "base_uri": "https://localhost:8080/",
          "height": 85
        }
      },
      "source": [
        "import tensorflow as tf\n",
        "device_name = tf.test.gpu_device_name()\n",
        "if device_name != '/device:GPU:0':\n",
        "  raise SystemError('GPU device not found')\n",
        "print('Found GPU at: {}'.format(device_name))\n",
        "\n",
        "from google.colab import drive\n",
        "drive.mount('/gdrive')\n",
        "%cd /gdrive\n",
        "%ls"
      ],
      "execution_count": 0,
      "outputs": [
        {
          "output_type": "stream",
          "text": [
            "Found GPU at: /device:GPU:0\n",
            "Drive already mounted at /gdrive; to attempt to forcibly remount, call drive.mount(\"/gdrive\", force_remount=True).\n",
            "/gdrive\n",
            "\u001b[0m\u001b[01;34m'My Drive'\u001b[0m/\n"
          ],
          "name": "stdout"
        }
      ]
    },
    {
      "cell_type": "code",
      "metadata": {
        "id": "3E0eXhPyztQB",
        "colab_type": "code",
        "outputId": "41dff71e-bedf-48cf-ff1b-29a6e29c7652",
        "colab": {
          "base_uri": "https://localhost:8080/",
          "height": 258
        }
      },
      "source": [
        "import tensorflow as tf\n",
        "import timeit\n",
        "\n",
        "# See https://www.tensorflow.org/tutorials/using_gpu#allowing_gpu_memory_growth\n",
        "config = tf.ConfigProto()\n",
        "config.gpu_options.allow_growth = True\n",
        "\n",
        "with tf.device('/cpu:0'):\n",
        "  random_image_cpu = tf.random_normal((100, 100, 100, 3))\n",
        "  net_cpu = tf.layers.conv2d(random_image_cpu, 32, 7)\n",
        "  net_cpu = tf.reduce_sum(net_cpu)\n",
        "\n",
        "with tf.device('/gpu:0'):\n",
        "  random_image_gpu = tf.random_normal((100, 100, 100, 3))\n",
        "  net_gpu = tf.layers.conv2d(random_image_gpu, 32, 7)\n",
        "  net_gpu = tf.reduce_sum(net_gpu)\n",
        "\n",
        "sess = tf.Session(config=config)\n",
        "\n",
        "# Test execution once to detect errors early.\n",
        "try:\n",
        "  sess.run(tf.global_variables_initializer())\n",
        "except tf.errors.InvalidArgumentError:\n",
        "  print(\n",
        "      '\\n\\nThis error most likely means that this notebook is not '\n",
        "      'configured to use a GPU.  Change this in Notebook Settings via the '\n",
        "      'command palette (cmd/ctrl-shift-P) or the Edit menu.\\n\\n')\n",
        "  raise\n",
        "\n",
        "def cpu():\n",
        "  sess.run(net_cpu)\n",
        "  \n",
        "def gpu():\n",
        "  sess.run(net_gpu)\n",
        "  \n",
        "# Runs the op several times.\n",
        "print('Time (s) to convolve 32x7x7x3 filter over random 100x100x100x3 images '\n",
        "      '(batch x height x width x channel). Sum of ten runs.')\n",
        "print('CPU (s):')\n",
        "cpu_time = timeit.timeit('cpu()', number=10, setup=\"from __main__ import cpu\")\n",
        "print(cpu_time)\n",
        "print('GPU (s):')\n",
        "gpu_time = timeit.timeit('gpu()', number=10, setup=\"from __main__ import gpu\")\n",
        "print(gpu_time)\n",
        "print('GPU speedup over CPU: {}x'.format(int(cpu_time/gpu_time)))"
      ],
      "execution_count": 0,
      "outputs": [
        {
          "output_type": "stream",
          "text": [
            "WARNING: Logging before flag parsing goes to stderr.\n",
            "W0828 06:51:46.966403 139697492125568 deprecation.py:323] From <ipython-input-2-00b17d59170f>:10: conv2d (from tensorflow.python.layers.convolutional) is deprecated and will be removed in a future version.\n",
            "Instructions for updating:\n",
            "Use `tf.keras.layers.Conv2D` instead.\n",
            "W0828 06:51:46.973981 139697492125568 deprecation.py:506] From /usr/local/lib/python3.6/dist-packages/tensorflow/python/ops/init_ops.py:1251: calling VarianceScaling.__init__ (from tensorflow.python.ops.init_ops) with dtype is deprecated and will be removed in a future version.\n",
            "Instructions for updating:\n",
            "Call initializer instance with the dtype argument instead of passing it to the constructor\n"
          ],
          "name": "stderr"
        },
        {
          "output_type": "stream",
          "text": [
            "Time (s) to convolve 32x7x7x3 filter over random 100x100x100x3 images (batch x height x width x channel). Sum of ten runs.\n",
            "CPU (s):\n",
            "3.546702371999345\n",
            "GPU (s):\n",
            "0.9664423000003808\n",
            "GPU speedup over CPU: 3x\n"
          ],
          "name": "stdout"
        }
      ]
    },
    {
      "cell_type": "code",
      "metadata": {
        "id": "kMU5beOjz2aP",
        "colab_type": "code",
        "outputId": "76191ae5-30d0-496a-c30f-733fa227d783",
        "colab": {
          "base_uri": "https://localhost:8080/",
          "height": 221
        }
      },
      "source": [
        "import numpy as np  \n",
        "import matplotlib.pyplot as plt  \n",
        "import pandas as pd  \n",
        "\n",
        "from sklearn.neighbors import KNeighborsClassifier  \n",
        "from sklearn.model_selection import cross_val_score\n",
        "from sklearn.metrics import accuracy_score\n",
        "\n",
        "NaN_data = pd.read_csv('My Drive/MyLearning/MLDLAIPython/Data/TextData/NaN_Predict_train.csv')\n",
        "NaN_data.head()"
      ],
      "execution_count": 0,
      "outputs": [
        {
          "output_type": "execute_result",
          "data": {
            "text/html": [
              "<div>\n",
              "<style scoped>\n",
              "    .dataframe tbody tr th:only-of-type {\n",
              "        vertical-align: middle;\n",
              "    }\n",
              "\n",
              "    .dataframe tbody tr th {\n",
              "        vertical-align: top;\n",
              "    }\n",
              "\n",
              "    .dataframe thead th {\n",
              "        text-align: right;\n",
              "    }\n",
              "</style>\n",
              "<table border=\"1\" class=\"dataframe\">\n",
              "  <thead>\n",
              "    <tr style=\"text-align: right;\">\n",
              "      <th></th>\n",
              "      <th>Sample code number</th>\n",
              "      <th>Clump Thickness</th>\n",
              "      <th>Uniformity of Cell Size</th>\n",
              "      <th>Uniformity of Cell Shape</th>\n",
              "      <th>Marginal Adhesion</th>\n",
              "      <th>Single Epithelial Cell Size</th>\n",
              "      <th>Bland Chromatin</th>\n",
              "      <th>Normal Nucleoli</th>\n",
              "      <th>Mitoses</th>\n",
              "      <th>Class</th>\n",
              "      <th>Bare Nuclei</th>\n",
              "    </tr>\n",
              "  </thead>\n",
              "  <tbody>\n",
              "    <tr>\n",
              "      <th>0</th>\n",
              "      <td>1000025</td>\n",
              "      <td>5</td>\n",
              "      <td>1</td>\n",
              "      <td>1</td>\n",
              "      <td>1</td>\n",
              "      <td>2</td>\n",
              "      <td>3</td>\n",
              "      <td>1</td>\n",
              "      <td>1</td>\n",
              "      <td>2</td>\n",
              "      <td>1</td>\n",
              "    </tr>\n",
              "    <tr>\n",
              "      <th>1</th>\n",
              "      <td>1002945</td>\n",
              "      <td>5</td>\n",
              "      <td>4</td>\n",
              "      <td>4</td>\n",
              "      <td>5</td>\n",
              "      <td>7</td>\n",
              "      <td>3</td>\n",
              "      <td>2</td>\n",
              "      <td>1</td>\n",
              "      <td>2</td>\n",
              "      <td>10</td>\n",
              "    </tr>\n",
              "    <tr>\n",
              "      <th>2</th>\n",
              "      <td>1015425</td>\n",
              "      <td>3</td>\n",
              "      <td>1</td>\n",
              "      <td>1</td>\n",
              "      <td>1</td>\n",
              "      <td>2</td>\n",
              "      <td>3</td>\n",
              "      <td>1</td>\n",
              "      <td>1</td>\n",
              "      <td>2</td>\n",
              "      <td>2</td>\n",
              "    </tr>\n",
              "    <tr>\n",
              "      <th>3</th>\n",
              "      <td>1016277</td>\n",
              "      <td>6</td>\n",
              "      <td>8</td>\n",
              "      <td>8</td>\n",
              "      <td>1</td>\n",
              "      <td>3</td>\n",
              "      <td>3</td>\n",
              "      <td>7</td>\n",
              "      <td>1</td>\n",
              "      <td>2</td>\n",
              "      <td>4</td>\n",
              "    </tr>\n",
              "    <tr>\n",
              "      <th>4</th>\n",
              "      <td>1017023</td>\n",
              "      <td>4</td>\n",
              "      <td>1</td>\n",
              "      <td>1</td>\n",
              "      <td>3</td>\n",
              "      <td>2</td>\n",
              "      <td>3</td>\n",
              "      <td>1</td>\n",
              "      <td>1</td>\n",
              "      <td>2</td>\n",
              "      <td>1</td>\n",
              "    </tr>\n",
              "  </tbody>\n",
              "</table>\n",
              "</div>"
            ],
            "text/plain": [
              "   Sample code number  Clump Thickness   ...  Class  Bare Nuclei\n",
              "0             1000025                 5  ...      2            1\n",
              "1             1002945                 5  ...      2           10\n",
              "2             1015425                 3  ...      2            2\n",
              "3             1016277                 6  ...      2            4\n",
              "4             1017023                 4  ...      2            1\n",
              "\n",
              "[5 rows x 11 columns]"
            ]
          },
          "metadata": {
            "tags": []
          },
          "execution_count": 3
        }
      ]
    },
    {
      "cell_type": "code",
      "metadata": {
        "id": "py0HgyNC0K9G",
        "colab_type": "code",
        "outputId": "91b2a2f1-f716-47d1-9c9d-e50ff93f5c64",
        "colab": {
          "base_uri": "https://localhost:8080/",
          "height": 390
        }
      },
      "source": [
        "NaN_data.describe().T"
      ],
      "execution_count": 0,
      "outputs": [
        {
          "output_type": "execute_result",
          "data": {
            "text/html": [
              "<div>\n",
              "<style scoped>\n",
              "    .dataframe tbody tr th:only-of-type {\n",
              "        vertical-align: middle;\n",
              "    }\n",
              "\n",
              "    .dataframe tbody tr th {\n",
              "        vertical-align: top;\n",
              "    }\n",
              "\n",
              "    .dataframe thead th {\n",
              "        text-align: right;\n",
              "    }\n",
              "</style>\n",
              "<table border=\"1\" class=\"dataframe\">\n",
              "  <thead>\n",
              "    <tr style=\"text-align: right;\">\n",
              "      <th></th>\n",
              "      <th>count</th>\n",
              "      <th>mean</th>\n",
              "      <th>std</th>\n",
              "      <th>min</th>\n",
              "      <th>25%</th>\n",
              "      <th>50%</th>\n",
              "      <th>75%</th>\n",
              "      <th>max</th>\n",
              "    </tr>\n",
              "  </thead>\n",
              "  <tbody>\n",
              "    <tr>\n",
              "      <th>Sample code number</th>\n",
              "      <td>683.0</td>\n",
              "      <td>1.076720e+06</td>\n",
              "      <td>620644.047655</td>\n",
              "      <td>63375.0</td>\n",
              "      <td>877617.0</td>\n",
              "      <td>1171795.0</td>\n",
              "      <td>1238705.0</td>\n",
              "      <td>13454352.0</td>\n",
              "    </tr>\n",
              "    <tr>\n",
              "      <th>Clump Thickness</th>\n",
              "      <td>683.0</td>\n",
              "      <td>4.442167e+00</td>\n",
              "      <td>2.820761</td>\n",
              "      <td>1.0</td>\n",
              "      <td>2.0</td>\n",
              "      <td>4.0</td>\n",
              "      <td>6.0</td>\n",
              "      <td>10.0</td>\n",
              "    </tr>\n",
              "    <tr>\n",
              "      <th>Uniformity of Cell Size</th>\n",
              "      <td>683.0</td>\n",
              "      <td>3.150805e+00</td>\n",
              "      <td>3.065145</td>\n",
              "      <td>1.0</td>\n",
              "      <td>1.0</td>\n",
              "      <td>1.0</td>\n",
              "      <td>5.0</td>\n",
              "      <td>10.0</td>\n",
              "    </tr>\n",
              "    <tr>\n",
              "      <th>Uniformity of Cell Shape</th>\n",
              "      <td>683.0</td>\n",
              "      <td>3.215227e+00</td>\n",
              "      <td>2.988581</td>\n",
              "      <td>1.0</td>\n",
              "      <td>1.0</td>\n",
              "      <td>1.0</td>\n",
              "      <td>5.0</td>\n",
              "      <td>10.0</td>\n",
              "    </tr>\n",
              "    <tr>\n",
              "      <th>Marginal Adhesion</th>\n",
              "      <td>683.0</td>\n",
              "      <td>2.830161e+00</td>\n",
              "      <td>2.864562</td>\n",
              "      <td>1.0</td>\n",
              "      <td>1.0</td>\n",
              "      <td>1.0</td>\n",
              "      <td>4.0</td>\n",
              "      <td>10.0</td>\n",
              "    </tr>\n",
              "    <tr>\n",
              "      <th>Single Epithelial Cell Size</th>\n",
              "      <td>683.0</td>\n",
              "      <td>3.234261e+00</td>\n",
              "      <td>2.223085</td>\n",
              "      <td>1.0</td>\n",
              "      <td>2.0</td>\n",
              "      <td>2.0</td>\n",
              "      <td>4.0</td>\n",
              "      <td>10.0</td>\n",
              "    </tr>\n",
              "    <tr>\n",
              "      <th>Bland Chromatin</th>\n",
              "      <td>683.0</td>\n",
              "      <td>3.445095e+00</td>\n",
              "      <td>2.449697</td>\n",
              "      <td>1.0</td>\n",
              "      <td>2.0</td>\n",
              "      <td>3.0</td>\n",
              "      <td>5.0</td>\n",
              "      <td>10.0</td>\n",
              "    </tr>\n",
              "    <tr>\n",
              "      <th>Normal Nucleoli</th>\n",
              "      <td>683.0</td>\n",
              "      <td>2.869693e+00</td>\n",
              "      <td>3.052666</td>\n",
              "      <td>1.0</td>\n",
              "      <td>1.0</td>\n",
              "      <td>1.0</td>\n",
              "      <td>4.0</td>\n",
              "      <td>10.0</td>\n",
              "    </tr>\n",
              "    <tr>\n",
              "      <th>Mitoses</th>\n",
              "      <td>683.0</td>\n",
              "      <td>1.603221e+00</td>\n",
              "      <td>1.732674</td>\n",
              "      <td>1.0</td>\n",
              "      <td>1.0</td>\n",
              "      <td>1.0</td>\n",
              "      <td>1.0</td>\n",
              "      <td>10.0</td>\n",
              "    </tr>\n",
              "    <tr>\n",
              "      <th>Class</th>\n",
              "      <td>683.0</td>\n",
              "      <td>2.699854e+00</td>\n",
              "      <td>0.954592</td>\n",
              "      <td>2.0</td>\n",
              "      <td>2.0</td>\n",
              "      <td>2.0</td>\n",
              "      <td>4.0</td>\n",
              "      <td>4.0</td>\n",
              "    </tr>\n",
              "    <tr>\n",
              "      <th>Bare Nuclei</th>\n",
              "      <td>683.0</td>\n",
              "      <td>3.544656e+00</td>\n",
              "      <td>3.643857</td>\n",
              "      <td>1.0</td>\n",
              "      <td>1.0</td>\n",
              "      <td>1.0</td>\n",
              "      <td>6.0</td>\n",
              "      <td>10.0</td>\n",
              "    </tr>\n",
              "  </tbody>\n",
              "</table>\n",
              "</div>"
            ],
            "text/plain": [
              "                             count          mean  ...        75%         max\n",
              "Sample code number           683.0  1.076720e+06  ...  1238705.0  13454352.0\n",
              "Clump Thickness              683.0  4.442167e+00  ...        6.0        10.0\n",
              "Uniformity of Cell Size      683.0  3.150805e+00  ...        5.0        10.0\n",
              "Uniformity of Cell Shape     683.0  3.215227e+00  ...        5.0        10.0\n",
              "Marginal Adhesion            683.0  2.830161e+00  ...        4.0        10.0\n",
              "Single Epithelial Cell Size  683.0  3.234261e+00  ...        4.0        10.0\n",
              "Bland Chromatin              683.0  3.445095e+00  ...        5.0        10.0\n",
              "Normal Nucleoli              683.0  2.869693e+00  ...        4.0        10.0\n",
              "Mitoses                      683.0  1.603221e+00  ...        1.0        10.0\n",
              "Class                        683.0  2.699854e+00  ...        4.0         4.0\n",
              "Bare Nuclei                  683.0  3.544656e+00  ...        6.0        10.0\n",
              "\n",
              "[11 rows x 8 columns]"
            ]
          },
          "metadata": {
            "tags": []
          },
          "execution_count": 4
        }
      ]
    },
    {
      "cell_type": "code",
      "metadata": {
        "id": "yYIEUmheGdZ_",
        "colab_type": "code",
        "outputId": "7d600b0c-9a6a-4e06-d423-3be1a2f1addb",
        "colab": {
          "base_uri": "https://localhost:8080/",
          "height": 221
        }
      },
      "source": [
        "corr_matrix = NaN_data.corr()\n",
        "corr_matrix['Bare Nuclei'].sort_values(ascending=False)"
      ],
      "execution_count": 0,
      "outputs": [
        {
          "output_type": "execute_result",
          "data": {
            "text/plain": [
              "Bare Nuclei                    1.000000\n",
              "Class                          0.822696\n",
              "Uniformity of Cell Shape       0.713878\n",
              "Uniformity of Cell Size        0.691709\n",
              "Bland Chromatin                0.680615\n",
              "Marginal Adhesion              0.670648\n",
              "Clump Thickness                0.593091\n",
              "Single Epithelial Cell Size    0.585716\n",
              "Normal Nucleoli                0.584280\n",
              "Mitoses                        0.339210\n",
              "Sample code number            -0.099248\n",
              "Name: Bare Nuclei, dtype: float64"
            ]
          },
          "metadata": {
            "tags": []
          },
          "execution_count": 30
        }
      ]
    },
    {
      "cell_type": "code",
      "metadata": {
        "id": "nUOtz9OS0P2x",
        "colab_type": "code",
        "colab": {}
      },
      "source": [
        "NaN_data.Class[NaN_data.Class == 4] = 1\n",
        "NaN_data.Class[NaN_data.Class == 2] = 0"
      ],
      "execution_count": 0,
      "outputs": []
    },
    {
      "cell_type": "code",
      "metadata": {
        "id": "zL0GLJ3H0nJe",
        "colab_type": "code",
        "colab": {}
      },
      "source": [
        "X = NaN_data.iloc[:, 1:10]\n",
        "y = NaN_data.iloc[:, 10]\n",
        "#X = NaN_data.iloc[:, :-1].values\n",
        "#y = NaN_data.iloc[:, 10].values"
      ],
      "execution_count": 0,
      "outputs": []
    },
    {
      "cell_type": "code",
      "metadata": {
        "id": "68M14Ef30-wX",
        "colab_type": "code",
        "outputId": "3bb72785-7c20-4df4-8d71-95156de5c158",
        "colab": {
          "base_uri": "https://localhost:8080/",
          "height": 119
        }
      },
      "source": [
        "y.head()"
      ],
      "execution_count": 0,
      "outputs": [
        {
          "output_type": "execute_result",
          "data": {
            "text/plain": [
              "0     1\n",
              "1    10\n",
              "2     2\n",
              "3     4\n",
              "4     1\n",
              "Name: Bare Nuclei, dtype: int64"
            ]
          },
          "metadata": {
            "tags": []
          },
          "execution_count": 7
        }
      ]
    },
    {
      "cell_type": "code",
      "metadata": {
        "id": "wxLoDe4Z1BdV",
        "colab_type": "code",
        "outputId": "037e27b7-4cc5-444b-88aa-4c93fd2f377b",
        "colab": {
          "base_uri": "https://localhost:8080/",
          "height": 51
        }
      },
      "source": [
        "print ('X.shape -- > ', X.shape)\n",
        "print ('y.shape -- > ', y.shape)"
      ],
      "execution_count": 0,
      "outputs": [
        {
          "output_type": "stream",
          "text": [
            "X.shape -- >  (683, 9)\n",
            "y.shape -- >  (683,)\n"
          ],
          "name": "stdout"
        }
      ]
    },
    {
      "cell_type": "code",
      "metadata": {
        "id": "p_bKaSMI1NQg",
        "colab_type": "code",
        "outputId": "78e5a571-d7d6-4c54-bbba-f1eb0936891c",
        "colab": {
          "base_uri": "https://localhost:8080/",
          "height": 187
        }
      },
      "source": [
        "X.isnull().sum()"
      ],
      "execution_count": 0,
      "outputs": [
        {
          "output_type": "execute_result",
          "data": {
            "text/plain": [
              "Clump Thickness                0\n",
              "Uniformity of Cell Size        0\n",
              "Uniformity of Cell Shape       0\n",
              "Marginal Adhesion              0\n",
              "Single Epithelial Cell Size    0\n",
              "Bland Chromatin                0\n",
              "Normal Nucleoli                0\n",
              "Mitoses                        0\n",
              "Class                          0\n",
              "dtype: int64"
            ]
          },
          "metadata": {
            "tags": []
          },
          "execution_count": 9
        }
      ]
    },
    {
      "cell_type": "code",
      "metadata": {
        "id": "4DTGs6KB1TVQ",
        "colab_type": "code",
        "colab": {}
      },
      "source": [
        "from sklearn.model_selection import train_test_split\n",
        "X_train, X_test, y_train, y_test = train_test_split( X, y, test_size=0.20)"
      ],
      "execution_count": 0,
      "outputs": []
    },
    {
      "cell_type": "code",
      "metadata": {
        "id": "ijIWVzaWsNpx",
        "colab_type": "code",
        "colab": {}
      },
      "source": [
        "iter=12"
      ],
      "execution_count": 0,
      "outputs": []
    },
    {
      "cell_type": "code",
      "metadata": {
        "id": "7MEDNnNg1W-g",
        "colab_type": "code",
        "outputId": "7685538a-b6b3-4f0a-d970-33045e2b77ed",
        "colab": {
          "base_uri": "https://localhost:8080/",
          "height": 734
        }
      },
      "source": [
        "# search for an optimal value of K for KNN\n",
        "\n",
        "# range of k we want to try\n",
        "k_range = range(1, 21)\n",
        "# empty list to store scores\n",
        "k_scores = []\n",
        "\n",
        "# 1. we will loop through reasonable values of k\n",
        "for k in k_range:\n",
        "    # 2. run KNeighborsClassifier with k neighbours\n",
        "    knn = KNeighborsClassifier(n_neighbors=k)\n",
        "    # 3. obtain cross_val_score for KNeighborsClassifier with k neighbours\n",
        "    scores = cross_val_score(knn, X_train, y_train, cv=10, scoring='accuracy')\n",
        "    # 4. append mean of scores for k neighbors to k_scores list\n",
        "    k_scores.append(scores.mean())\n",
        "\n",
        "\n",
        "print(k_scores)"
      ],
      "execution_count": 0,
      "outputs": [
        {
          "output_type": "stream",
          "text": [
            "/usr/local/lib/python3.6/dist-packages/sklearn/model_selection/_split.py:657: Warning: The least populated class in y has only 3 members, which is too few. The minimum number of members in any class cannot be less than n_splits=10.\n",
            "  % (min_groups, self.n_splits)), Warning)\n",
            "/usr/local/lib/python3.6/dist-packages/sklearn/model_selection/_split.py:657: Warning: The least populated class in y has only 3 members, which is too few. The minimum number of members in any class cannot be less than n_splits=10.\n",
            "  % (min_groups, self.n_splits)), Warning)\n",
            "/usr/local/lib/python3.6/dist-packages/sklearn/model_selection/_split.py:657: Warning: The least populated class in y has only 3 members, which is too few. The minimum number of members in any class cannot be less than n_splits=10.\n",
            "  % (min_groups, self.n_splits)), Warning)\n",
            "/usr/local/lib/python3.6/dist-packages/sklearn/model_selection/_split.py:657: Warning: The least populated class in y has only 3 members, which is too few. The minimum number of members in any class cannot be less than n_splits=10.\n",
            "  % (min_groups, self.n_splits)), Warning)\n",
            "/usr/local/lib/python3.6/dist-packages/sklearn/model_selection/_split.py:657: Warning: The least populated class in y has only 3 members, which is too few. The minimum number of members in any class cannot be less than n_splits=10.\n",
            "  % (min_groups, self.n_splits)), Warning)\n",
            "/usr/local/lib/python3.6/dist-packages/sklearn/model_selection/_split.py:657: Warning: The least populated class in y has only 3 members, which is too few. The minimum number of members in any class cannot be less than n_splits=10.\n",
            "  % (min_groups, self.n_splits)), Warning)\n",
            "/usr/local/lib/python3.6/dist-packages/sklearn/model_selection/_split.py:657: Warning: The least populated class in y has only 3 members, which is too few. The minimum number of members in any class cannot be less than n_splits=10.\n",
            "  % (min_groups, self.n_splits)), Warning)\n",
            "/usr/local/lib/python3.6/dist-packages/sklearn/model_selection/_split.py:657: Warning: The least populated class in y has only 3 members, which is too few. The minimum number of members in any class cannot be less than n_splits=10.\n",
            "  % (min_groups, self.n_splits)), Warning)\n",
            "/usr/local/lib/python3.6/dist-packages/sklearn/model_selection/_split.py:657: Warning: The least populated class in y has only 3 members, which is too few. The minimum number of members in any class cannot be less than n_splits=10.\n",
            "  % (min_groups, self.n_splits)), Warning)\n",
            "/usr/local/lib/python3.6/dist-packages/sklearn/model_selection/_split.py:657: Warning: The least populated class in y has only 3 members, which is too few. The minimum number of members in any class cannot be less than n_splits=10.\n",
            "  % (min_groups, self.n_splits)), Warning)\n",
            "/usr/local/lib/python3.6/dist-packages/sklearn/model_selection/_split.py:657: Warning: The least populated class in y has only 3 members, which is too few. The minimum number of members in any class cannot be less than n_splits=10.\n",
            "  % (min_groups, self.n_splits)), Warning)\n",
            "/usr/local/lib/python3.6/dist-packages/sklearn/model_selection/_split.py:657: Warning: The least populated class in y has only 3 members, which is too few. The minimum number of members in any class cannot be less than n_splits=10.\n",
            "  % (min_groups, self.n_splits)), Warning)\n",
            "/usr/local/lib/python3.6/dist-packages/sklearn/model_selection/_split.py:657: Warning: The least populated class in y has only 3 members, which is too few. The minimum number of members in any class cannot be less than n_splits=10.\n",
            "  % (min_groups, self.n_splits)), Warning)\n",
            "/usr/local/lib/python3.6/dist-packages/sklearn/model_selection/_split.py:657: Warning: The least populated class in y has only 3 members, which is too few. The minimum number of members in any class cannot be less than n_splits=10.\n",
            "  % (min_groups, self.n_splits)), Warning)\n",
            "/usr/local/lib/python3.6/dist-packages/sklearn/model_selection/_split.py:657: Warning: The least populated class in y has only 3 members, which is too few. The minimum number of members in any class cannot be less than n_splits=10.\n",
            "  % (min_groups, self.n_splits)), Warning)\n",
            "/usr/local/lib/python3.6/dist-packages/sklearn/model_selection/_split.py:657: Warning: The least populated class in y has only 3 members, which is too few. The minimum number of members in any class cannot be less than n_splits=10.\n",
            "  % (min_groups, self.n_splits)), Warning)\n",
            "/usr/local/lib/python3.6/dist-packages/sklearn/model_selection/_split.py:657: Warning: The least populated class in y has only 3 members, which is too few. The minimum number of members in any class cannot be less than n_splits=10.\n",
            "  % (min_groups, self.n_splits)), Warning)\n",
            "/usr/local/lib/python3.6/dist-packages/sklearn/model_selection/_split.py:657: Warning: The least populated class in y has only 3 members, which is too few. The minimum number of members in any class cannot be less than n_splits=10.\n",
            "  % (min_groups, self.n_splits)), Warning)\n"
          ],
          "name": "stderr"
        },
        {
          "output_type": "stream",
          "text": [
            "[0.6314425151731653, 0.6415923560443684, 0.6816045523104346, 0.698324795947087, 0.7110776736163732, 0.7192090324536144, 0.7277595603570836, 0.7277595603570836, 0.7315493227103135, 0.7429557398226129, 0.7500919627328296, 0.7523507039915709, 0.7523507039915709, 0.7541311784191042, 0.7541311784191042, 0.7541311784191042, 0.7544252960661629, 0.7540919627328296, 0.7540919627328296, 0.7540919627328296]\n"
          ],
          "name": "stdout"
        },
        {
          "output_type": "stream",
          "text": [
            "/usr/local/lib/python3.6/dist-packages/sklearn/model_selection/_split.py:657: Warning: The least populated class in y has only 3 members, which is too few. The minimum number of members in any class cannot be less than n_splits=10.\n",
            "  % (min_groups, self.n_splits)), Warning)\n",
            "/usr/local/lib/python3.6/dist-packages/sklearn/model_selection/_split.py:657: Warning: The least populated class in y has only 3 members, which is too few. The minimum number of members in any class cannot be less than n_splits=10.\n",
            "  % (min_groups, self.n_splits)), Warning)\n"
          ],
          "name": "stderr"
        }
      ]
    },
    {
      "cell_type": "code",
      "metadata": {
        "id": "KjAMSlvS_kVY",
        "colab_type": "code",
        "outputId": "01b3fe04-a93c-44e0-e0c0-0fed71cce715",
        "colab": {
          "base_uri": "https://localhost:8080/",
          "height": 51
        }
      },
      "source": [
        "# in essence, this is basically running the k-fold cross-validation method 30 times because we want to run through K values from 1 to 30\n",
        "# we should have 30 scores here\n",
        "print('Length of list', len(k_scores))\n",
        "print('Max of list', max(k_scores))"
      ],
      "execution_count": 0,
      "outputs": [
        {
          "output_type": "stream",
          "text": [
            "Length of list 20\n",
            "Max of list 0.7544252960661629\n"
          ],
          "name": "stdout"
        }
      ]
    },
    {
      "cell_type": "markdown",
      "metadata": {
        "id": "880TEcrOAW1_",
        "colab_type": "text"
      },
      "source": [
        "Length of list 35\n",
        "Max of list 0.7386185722935326"
      ]
    },
    {
      "cell_type": "code",
      "metadata": {
        "id": "C579qmb01boU",
        "colab_type": "code",
        "colab": {}
      },
      "source": [
        "\n",
        "knn.fit(X_train, y_train)\n",
        "y_pred = knn.predict(X_test)"
      ],
      "execution_count": 0,
      "outputs": []
    },
    {
      "cell_type": "code",
      "metadata": {
        "id": "DzU61ow-1qO-",
        "colab_type": "code",
        "outputId": "79bc63c0-9a49-49b1-9c73-096945304b10",
        "colab": {
          "base_uri": "https://localhost:8080/",
          "height": 530
        }
      },
      "source": [
        "from sklearn.metrics import classification_report, confusion_matrix\n",
        "print(confusion_matrix(y_test, y_pred))\n",
        "print(classification_report(y_test, y_pred))"
      ],
      "execution_count": 0,
      "outputs": [
        {
          "output_type": "stream",
          "text": [
            "[[73  0  0  0  0  0  0  0  0  3]\n",
            " [ 4  0  0  0  0  0  0  0  0  2]\n",
            " [ 3  0  0  0  0  0  0  0  0  2]\n",
            " [ 1  0  0  0  0  0  0  0  0  3]\n",
            " [ 1  0  0  0  0  0  0  0  0  6]\n",
            " [ 0  0  0  0  0  0  0  0  0  1]\n",
            " [ 0  0  0  0  0  0  0  0  0  3]\n",
            " [ 0  0  0  0  0  0  0  0  0  3]\n",
            " [ 0  0  0  0  0  0  0  0  0  4]\n",
            " [ 2  0  0  0  0  0  0  0  0 26]]\n",
            "              precision    recall  f1-score   support\n",
            "\n",
            "           1       0.87      0.96      0.91        76\n",
            "           2       0.00      0.00      0.00         6\n",
            "           3       0.00      0.00      0.00         5\n",
            "           4       0.00      0.00      0.00         4\n",
            "           5       0.00      0.00      0.00         7\n",
            "           6       0.00      0.00      0.00         1\n",
            "           7       0.00      0.00      0.00         3\n",
            "           8       0.00      0.00      0.00         3\n",
            "           9       0.00      0.00      0.00         4\n",
            "          10       0.49      0.93      0.64        28\n",
            "\n",
            "    accuracy                           0.72       137\n",
            "   macro avg       0.14      0.19      0.16       137\n",
            "weighted avg       0.58      0.72      0.64       137\n",
            "\n"
          ],
          "name": "stdout"
        },
        {
          "output_type": "stream",
          "text": [
            "/usr/local/lib/python3.6/dist-packages/sklearn/metrics/classification.py:1437: UndefinedMetricWarning: Precision and F-score are ill-defined and being set to 0.0 in labels with no predicted samples.\n",
            "  'precision', 'predicted', average, warn_for)\n"
          ],
          "name": "stderr"
        }
      ]
    },
    {
      "cell_type": "code",
      "metadata": {
        "id": "9bHCgjBG1t7s",
        "colab_type": "code",
        "colab": {}
      },
      "source": [
        "error = []\n",
        "accuracy = []\n",
        "\n",
        "# Calculating error for K values between 1 and 40\n",
        "for i in range(1, 21):\n",
        "    knn = KNeighborsClassifier(n_neighbors=i)\n",
        "    knn.fit(X_train, y_train)\n",
        "    pred_i = knn.predict(X_test)\n",
        "    score = accuracy_score(y_test, pred_i)\n",
        "    accuracy.append(score)\n",
        "    error.append(np.mean(pred_i != y_test))"
      ],
      "execution_count": 0,
      "outputs": []
    },
    {
      "cell_type": "code",
      "metadata": {
        "id": "Zy7RryfV2iaJ",
        "colab_type": "code",
        "outputId": "d7159d9b-9241-495c-a403-0398ea0cc43a",
        "colab": {
          "base_uri": "https://localhost:8080/",
          "height": 421
        }
      },
      "source": [
        "plt.figure(figsize=(12, 6))\n",
        "plt.plot(range(1, 21), error, color='red', linestyle='dashed', marker='o',\n",
        "         markerfacecolor='blue', markersize=10)\n",
        "plt.title('Error Rate K Value')\n",
        "plt.xlabel('K Value')\n",
        "plt.ylabel('Mean Error')"
      ],
      "execution_count": 0,
      "outputs": [
        {
          "output_type": "execute_result",
          "data": {
            "text/plain": [
              "Text(0, 0.5, 'Mean Error')"
            ]
          },
          "metadata": {
            "tags": []
          },
          "execution_count": 17
        },
        {
          "output_type": "display_data",
          "data": {
            "image/png": "[encoded data removed]",
            "text/plain": [
              "<Figure size 864x432 with 1 Axes>"
            ]
          },
          "metadata": {
            "tags": []
          }
        }
      ]
    },
    {
      "cell_type": "code",
      "metadata": {
        "id": "qbyuUyjo7T6k",
        "colab_type": "code",
        "outputId": "12087f64-e08a-43c4-b632-17ea33c038c9",
        "colab": {
          "base_uri": "https://localhost:8080/",
          "height": 221
        }
      },
      "source": [
        "NaN_miss = pd.read_csv('My Drive/MyLearning/MLDLAIPython/Data/TextData/NaN_Predict_test.csv')\n",
        "NaN_miss.head()"
      ],
      "execution_count": 0,
      "outputs": [
        {
          "output_type": "execute_result",
          "data": {
            "text/html": [
              "<div>\n",
              "<style scoped>\n",
              "    .dataframe tbody tr th:only-of-type {\n",
              "        vertical-align: middle;\n",
              "    }\n",
              "\n",
              "    .dataframe tbody tr th {\n",
              "        vertical-align: top;\n",
              "    }\n",
              "\n",
              "    .dataframe thead th {\n",
              "        text-align: right;\n",
              "    }\n",
              "</style>\n",
              "<table border=\"1\" class=\"dataframe\">\n",
              "  <thead>\n",
              "    <tr style=\"text-align: right;\">\n",
              "      <th></th>\n",
              "      <th>Sample code number</th>\n",
              "      <th>Clump Thickness</th>\n",
              "      <th>Uniformity of Cell Size</th>\n",
              "      <th>Uniformity of Cell Shape</th>\n",
              "      <th>Marginal Adhesion</th>\n",
              "      <th>Single Epithelial Cell Size</th>\n",
              "      <th>Bland Chromatin</th>\n",
              "      <th>Normal Nucleoli</th>\n",
              "      <th>Mitoses</th>\n",
              "      <th>Class</th>\n",
              "    </tr>\n",
              "  </thead>\n",
              "  <tbody>\n",
              "    <tr>\n",
              "      <th>0</th>\n",
              "      <td>1057013</td>\n",
              "      <td>8</td>\n",
              "      <td>4</td>\n",
              "      <td>5</td>\n",
              "      <td>1</td>\n",
              "      <td>2</td>\n",
              "      <td>7</td>\n",
              "      <td>3</td>\n",
              "      <td>1</td>\n",
              "      <td>4</td>\n",
              "    </tr>\n",
              "    <tr>\n",
              "      <th>1</th>\n",
              "      <td>1096800</td>\n",
              "      <td>6</td>\n",
              "      <td>6</td>\n",
              "      <td>6</td>\n",
              "      <td>9</td>\n",
              "      <td>6</td>\n",
              "      <td>7</td>\n",
              "      <td>8</td>\n",
              "      <td>1</td>\n",
              "      <td>2</td>\n",
              "    </tr>\n",
              "    <tr>\n",
              "      <th>2</th>\n",
              "      <td>1183246</td>\n",
              "      <td>1</td>\n",
              "      <td>1</td>\n",
              "      <td>1</td>\n",
              "      <td>1</td>\n",
              "      <td>1</td>\n",
              "      <td>2</td>\n",
              "      <td>1</td>\n",
              "      <td>1</td>\n",
              "      <td>2</td>\n",
              "    </tr>\n",
              "    <tr>\n",
              "      <th>3</th>\n",
              "      <td>1184840</td>\n",
              "      <td>1</td>\n",
              "      <td>1</td>\n",
              "      <td>3</td>\n",
              "      <td>1</td>\n",
              "      <td>2</td>\n",
              "      <td>2</td>\n",
              "      <td>1</td>\n",
              "      <td>1</td>\n",
              "      <td>2</td>\n",
              "    </tr>\n",
              "    <tr>\n",
              "      <th>4</th>\n",
              "      <td>1193683</td>\n",
              "      <td>1</td>\n",
              "      <td>1</td>\n",
              "      <td>2</td>\n",
              "      <td>1</td>\n",
              "      <td>3</td>\n",
              "      <td>1</td>\n",
              "      <td>1</td>\n",
              "      <td>1</td>\n",
              "      <td>2</td>\n",
              "    </tr>\n",
              "  </tbody>\n",
              "</table>\n",
              "</div>"
            ],
            "text/plain": [
              "   Sample code number  Clump Thickness   ...  Mitoses   Class\n",
              "0             1057013                 8  ...         1      4\n",
              "1             1096800                 6  ...         1      2\n",
              "2             1183246                 1  ...         1      2\n",
              "3             1184840                 1  ...         1      2\n",
              "4             1193683                 1  ...         1      2\n",
              "\n",
              "[5 rows x 10 columns]"
            ]
          },
          "metadata": {
            "tags": []
          },
          "execution_count": 18
        }
      ]
    },
    {
      "cell_type": "code",
      "metadata": {
        "id": "bCXOecHC9Q2w",
        "colab_type": "code",
        "outputId": "5308d814-de5c-4485-bff3-741bd8278af6",
        "colab": {
          "base_uri": "https://localhost:8080/",
          "height": 562
        }
      },
      "source": [
        "X_train.iloc[:16,:]"
      ],
      "execution_count": 0,
      "outputs": [
        {
          "output_type": "execute_result",
          "data": {
            "text/html": [
              "<div>\n",
              "<style scoped>\n",
              "    .dataframe tbody tr th:only-of-type {\n",
              "        vertical-align: middle;\n",
              "    }\n",
              "\n",
              "    .dataframe tbody tr th {\n",
              "        vertical-align: top;\n",
              "    }\n",
              "\n",
              "    .dataframe thead th {\n",
              "        text-align: right;\n",
              "    }\n",
              "</style>\n",
              "<table border=\"1\" class=\"dataframe\">\n",
              "  <thead>\n",
              "    <tr style=\"text-align: right;\">\n",
              "      <th></th>\n",
              "      <th>Clump Thickness</th>\n",
              "      <th>Uniformity of Cell Size</th>\n",
              "      <th>Uniformity of Cell Shape</th>\n",
              "      <th>Marginal Adhesion</th>\n",
              "      <th>Single Epithelial Cell Size</th>\n",
              "      <th>Bland Chromatin</th>\n",
              "      <th>Normal Nucleoli</th>\n",
              "      <th>Mitoses</th>\n",
              "      <th>Class</th>\n",
              "    </tr>\n",
              "  </thead>\n",
              "  <tbody>\n",
              "    <tr>\n",
              "      <th>502</th>\n",
              "      <td>1</td>\n",
              "      <td>1</td>\n",
              "      <td>1</td>\n",
              "      <td>1</td>\n",
              "      <td>1</td>\n",
              "      <td>2</td>\n",
              "      <td>1</td>\n",
              "      <td>1</td>\n",
              "      <td>0</td>\n",
              "    </tr>\n",
              "    <tr>\n",
              "      <th>235</th>\n",
              "      <td>2</td>\n",
              "      <td>1</td>\n",
              "      <td>1</td>\n",
              "      <td>1</td>\n",
              "      <td>2</td>\n",
              "      <td>3</td>\n",
              "      <td>1</td>\n",
              "      <td>1</td>\n",
              "      <td>0</td>\n",
              "    </tr>\n",
              "    <tr>\n",
              "      <th>530</th>\n",
              "      <td>5</td>\n",
              "      <td>1</td>\n",
              "      <td>1</td>\n",
              "      <td>1</td>\n",
              "      <td>2</td>\n",
              "      <td>2</td>\n",
              "      <td>1</td>\n",
              "      <td>1</td>\n",
              "      <td>0</td>\n",
              "    </tr>\n",
              "    <tr>\n",
              "      <th>316</th>\n",
              "      <td>10</td>\n",
              "      <td>4</td>\n",
              "      <td>7</td>\n",
              "      <td>2</td>\n",
              "      <td>2</td>\n",
              "      <td>6</td>\n",
              "      <td>1</td>\n",
              "      <td>1</td>\n",
              "      <td>1</td>\n",
              "    </tr>\n",
              "    <tr>\n",
              "      <th>187</th>\n",
              "      <td>1</td>\n",
              "      <td>1</td>\n",
              "      <td>1</td>\n",
              "      <td>1</td>\n",
              "      <td>2</td>\n",
              "      <td>3</td>\n",
              "      <td>1</td>\n",
              "      <td>1</td>\n",
              "      <td>0</td>\n",
              "    </tr>\n",
              "    <tr>\n",
              "      <th>426</th>\n",
              "      <td>5</td>\n",
              "      <td>2</td>\n",
              "      <td>2</td>\n",
              "      <td>4</td>\n",
              "      <td>2</td>\n",
              "      <td>1</td>\n",
              "      <td>1</td>\n",
              "      <td>1</td>\n",
              "      <td>0</td>\n",
              "    </tr>\n",
              "    <tr>\n",
              "      <th>190</th>\n",
              "      <td>8</td>\n",
              "      <td>4</td>\n",
              "      <td>4</td>\n",
              "      <td>5</td>\n",
              "      <td>4</td>\n",
              "      <td>7</td>\n",
              "      <td>8</td>\n",
              "      <td>2</td>\n",
              "      <td>0</td>\n",
              "    </tr>\n",
              "    <tr>\n",
              "      <th>457</th>\n",
              "      <td>6</td>\n",
              "      <td>1</td>\n",
              "      <td>1</td>\n",
              "      <td>1</td>\n",
              "      <td>1</td>\n",
              "      <td>1</td>\n",
              "      <td>1</td>\n",
              "      <td>1</td>\n",
              "      <td>0</td>\n",
              "    </tr>\n",
              "    <tr>\n",
              "      <th>161</th>\n",
              "      <td>10</td>\n",
              "      <td>8</td>\n",
              "      <td>10</td>\n",
              "      <td>10</td>\n",
              "      <td>6</td>\n",
              "      <td>3</td>\n",
              "      <td>1</td>\n",
              "      <td>10</td>\n",
              "      <td>1</td>\n",
              "    </tr>\n",
              "    <tr>\n",
              "      <th>463</th>\n",
              "      <td>5</td>\n",
              "      <td>2</td>\n",
              "      <td>1</td>\n",
              "      <td>1</td>\n",
              "      <td>2</td>\n",
              "      <td>1</td>\n",
              "      <td>1</td>\n",
              "      <td>1</td>\n",
              "      <td>0</td>\n",
              "    </tr>\n",
              "    <tr>\n",
              "      <th>578</th>\n",
              "      <td>5</td>\n",
              "      <td>1</td>\n",
              "      <td>2</td>\n",
              "      <td>1</td>\n",
              "      <td>2</td>\n",
              "      <td>1</td>\n",
              "      <td>1</td>\n",
              "      <td>1</td>\n",
              "      <td>0</td>\n",
              "    </tr>\n",
              "    <tr>\n",
              "      <th>392</th>\n",
              "      <td>4</td>\n",
              "      <td>2</td>\n",
              "      <td>2</td>\n",
              "      <td>1</td>\n",
              "      <td>2</td>\n",
              "      <td>2</td>\n",
              "      <td>1</td>\n",
              "      <td>1</td>\n",
              "      <td>0</td>\n",
              "    </tr>\n",
              "    <tr>\n",
              "      <th>33</th>\n",
              "      <td>3</td>\n",
              "      <td>1</td>\n",
              "      <td>2</td>\n",
              "      <td>1</td>\n",
              "      <td>2</td>\n",
              "      <td>2</td>\n",
              "      <td>1</td>\n",
              "      <td>1</td>\n",
              "      <td>0</td>\n",
              "    </tr>\n",
              "    <tr>\n",
              "      <th>12</th>\n",
              "      <td>5</td>\n",
              "      <td>3</td>\n",
              "      <td>3</td>\n",
              "      <td>3</td>\n",
              "      <td>2</td>\n",
              "      <td>4</td>\n",
              "      <td>4</td>\n",
              "      <td>1</td>\n",
              "      <td>1</td>\n",
              "    </tr>\n",
              "    <tr>\n",
              "      <th>259</th>\n",
              "      <td>3</td>\n",
              "      <td>3</td>\n",
              "      <td>5</td>\n",
              "      <td>2</td>\n",
              "      <td>3</td>\n",
              "      <td>7</td>\n",
              "      <td>1</td>\n",
              "      <td>1</td>\n",
              "      <td>1</td>\n",
              "    </tr>\n",
              "    <tr>\n",
              "      <th>397</th>\n",
              "      <td>10</td>\n",
              "      <td>10</td>\n",
              "      <td>10</td>\n",
              "      <td>6</td>\n",
              "      <td>8</td>\n",
              "      <td>8</td>\n",
              "      <td>5</td>\n",
              "      <td>1</td>\n",
              "      <td>1</td>\n",
              "    </tr>\n",
              "  </tbody>\n",
              "</table>\n",
              "</div>"
            ],
            "text/plain": [
              "     Clump Thickness   Uniformity of Cell Size  ...  Mitoses   Class\n",
              "502                 1                        1  ...         1      0\n",
              "235                 2                        1  ...         1      0\n",
              "530                 5                        1  ...         1      0\n",
              "316                10                        4  ...         1      1\n",
              "187                 1                        1  ...         1      0\n",
              "426                 5                        2  ...         1      0\n",
              "190                 8                        4  ...         2      0\n",
              "457                 6                        1  ...         1      0\n",
              "161                10                        8  ...        10      1\n",
              "463                 5                        2  ...         1      0\n",
              "578                 5                        1  ...         1      0\n",
              "392                 4                        2  ...         1      0\n",
              "33                  3                        1  ...         1      0\n",
              "12                  5                        3  ...         1      1\n",
              "259                 3                        3  ...         1      1\n",
              "397                10                       10  ...         1      1\n",
              "\n",
              "[16 rows x 9 columns]"
            ]
          },
          "metadata": {
            "tags": []
          },
          "execution_count": 19
        }
      ]
    },
    {
      "cell_type": "code",
      "metadata": {
        "id": "CObi94QgsmgM",
        "colab_type": "code",
        "colab": {}
      },
      "source": [
        "#for i in range (1,16):\n",
        "  #print (NaN_miss.iloc[i-1:i, 0:1])"
      ],
      "execution_count": 0,
      "outputs": []
    },
    {
      "cell_type": "code",
      "metadata": {
        "id": "YlzURVJF7aPy",
        "colab_type": "code",
        "outputId": "1378b963-5768-4970-f53d-b10d8507a63f",
        "colab": {
          "base_uri": "https://localhost:8080/",
          "height": 578
        }
      },
      "source": [
        "\n",
        "knn = KNeighborsClassifier(20)\n",
        "knn.fit(X_train, y_train)\n",
        "for i in range (1,17):\n",
        "  pred_mis_i = knn.predict(NaN_miss.iloc[i-1:i, 1:])    \n",
        "  print('prediction for ',NaN_miss.iloc[i:i+1, 0:1], ' i value is -- > ', i,' predict class -- > ', pred_mis_i)\n",
        " "
      ],
      "execution_count": 0,
      "outputs": [
        {
          "output_type": "stream",
          "text": [
            "prediction for     Sample code number\n",
            "1             1096800  i value is -- >  1  predict class -- >  [10]\n",
            "prediction for     Sample code number\n",
            "2             1183246  i value is -- >  2  predict class -- >  [10]\n",
            "prediction for     Sample code number\n",
            "3             1184840  i value is -- >  3  predict class -- >  [1]\n",
            "prediction for     Sample code number\n",
            "4             1193683  i value is -- >  4  predict class -- >  [1]\n",
            "prediction for     Sample code number\n",
            "5             1197510  i value is -- >  5  predict class -- >  [1]\n",
            "prediction for     Sample code number\n",
            "6             1241232  i value is -- >  6  predict class -- >  [1]\n",
            "prediction for     Sample code number\n",
            "7              169356  i value is -- >  7  predict class -- >  [1]\n",
            "prediction for     Sample code number\n",
            "8              432809  i value is -- >  8  predict class -- >  [1]\n",
            "prediction for     Sample code number\n",
            "9              563649  i value is -- >  9  predict class -- >  [1]\n",
            "prediction for      Sample code number\n",
            "10              606140  i value is -- >  10  predict class -- >  [10]\n",
            "prediction for      Sample code number\n",
            "11               61634  i value is -- >  11  predict class -- >  [1]\n",
            "prediction for      Sample code number\n",
            "12              704168  i value is -- >  12  predict class -- >  [1]\n",
            "prediction for      Sample code number\n",
            "13              733639  i value is -- >  13  predict class -- >  [10]\n",
            "prediction for      Sample code number\n",
            "14             1238464  i value is -- >  14  predict class -- >  [1]\n",
            "prediction for      Sample code number\n",
            "15             1057067  i value is -- >  15  predict class -- >  [1]\n",
            "prediction for  Empty DataFrame\n",
            "Columns: [Sample code number]\n",
            "Index: []  i value is -- >  16  predict class -- >  [1]\n"
          ],
          "name": "stdout"
        }
      ]
    },
    {
      "cell_type": "code",
      "metadata": {
        "id": "XFadoqOeSHlR",
        "colab_type": "code",
        "outputId": "82513553-6d89-493e-ebfb-0330b36840de",
        "colab": {
          "base_uri": "https://localhost:8080/",
          "height": 34
        }
      },
      "source": [
        "print ('Mean Accuracy: ', np.array(accuracy).mean(), ';  Min Accuracy: ', np.array(accuracy).min(), ';   Max Accuracy: ', np.array(accuracy).max())"
      ],
      "execution_count": 0,
      "outputs": [
        {
          "output_type": "stream",
          "text": [
            "Mean Accuracy:  0.7131386861313869 ;  Min Accuracy:  0.656934306569343 ;   Max Accuracy:  0.7372262773722628\n"
          ],
          "name": "stdout"
        }
      ]
    },
    {
      "cell_type": "markdown",
      "metadata": {
        "id": "cev6hPfHSHFY",
        "colab_type": "text"
      },
      "source": [
        ""
      ]
    },
    {
      "cell_type": "code",
      "metadata": {
        "id": "84oLpyIKBTVP",
        "colab_type": "code",
        "outputId": "380a4d15-3dac-4832-86c7-b7a09a863544",
        "colab": {
          "base_uri": "https://localhost:8080/",
          "height": 306
        }
      },
      "source": [
        "pred_mis_i = knn.predict(NaN_miss.iloc[0:, 1:])    \n",
        "print('prediction for ',NaN_miss.iloc[0:i, 0:1], ' i value is -- > ', 0,' predict class -- > ', pred_mis_i)"
      ],
      "execution_count": 0,
      "outputs": [
        {
          "output_type": "stream",
          "text": [
            "prediction for      Sample code number\n",
            "0              1057013\n",
            "1              1096800\n",
            "2              1183246\n",
            "3              1184840\n",
            "4              1193683\n",
            "5              1197510\n",
            "6              1241232\n",
            "7               169356\n",
            "8               432809\n",
            "9               563649\n",
            "10              606140\n",
            "11               61634\n",
            "12              704168\n",
            "13              733639\n",
            "14             1238464\n",
            "15             1057067  i value is -- >  0  predict class -- >  [10 10  1  1  1  1  1  1  1 10  1  1 10  1  1  1]\n"
          ],
          "name": "stdout"
        }
      ]
    },
    {
      "cell_type": "markdown",
      "metadata": {
        "id": "qelacpjMObk9",
        "colab_type": "text"
      },
      "source": [
        "<font color=brown size = 5>\n",
        "Stratified K Fold Approach"
      ]
    },
    {
      "cell_type": "code",
      "metadata": {
        "id": "VjJuF1cH-VVM",
        "colab_type": "code",
        "outputId": "59b6daf1-d886-48c6-d9b8-0e4bbb372fbe",
        "colab": {
          "base_uri": "https://localhost:8080/",
          "height": 1000
        }
      },
      "source": [
        "from sklearn.model_selection import StratifiedKFold\n",
        "\n",
        "accuracy = []\n",
        "\n",
        "skf = StratifiedKFold(n_splits=6, random_state=None)\n",
        "skf.get_n_splits(X, y)\n",
        "for train_index, test_index in skf.split(X, y):\n",
        "  print ('Train: ', train_index, ';     Validations:', test_index)\n",
        "  X1_train, X1_test = X.iloc[train_index], X.iloc[test_index]\n",
        "  y1_train, y1_test = y.iloc[train_index], y.iloc[test_index]\n",
        "  knn.fit(X1_train, y1_train)\n",
        "  prediction = knn.predict(X1_test)\n",
        "  score = accuracy_score(prediction, y1_test)\n",
        "  accuracy.append(score)\n",
        "\n",
        "print(accuracy)\n"
      ],
      "execution_count": 0,
      "outputs": [
        {
          "output_type": "stream",
          "text": [
            "Train:  [ 38  66  69  73  76  81  82  84  96 101 103 107 108 109 111 112 113 114\n",
            " 116 117 119 122 133 139 140 141 142 143 144 146 147 148 149 150 151 152\n",
            " 153 154 155 156 157 158 159 160 161 162 163 164 165 166 167 168 169 170\n",
            " 171 172 173 174 175 176 177 178 179 180 181 182 183 184 185 186 187 188\n",
            " 189 190 191 192 193 194 195 196 197 198 199 200 201 202 203 204 205 206\n",
            " 207 208 209 210 211 212 213 214 215 216 217 218 219 220 221 222 223 224\n",
            " 225 226 227 228 229 230 231 232 233 234 235 236 237 238 239 240 241 242\n",
            " 243 244 245 246 247 248 249 250 251 252 253 254 255 256 257 258 259 260\n",
            " 261 262 263 264 265 266 267 268 269 270 271 272 273 274 275 276 277 278\n",
            " 279 280 281 282 283 284 285 286 287 288 289 290 291 292 293 294 295 296\n",
            " 297 298 299 300 301 302 303 304 305 306 307 308 309 310 311 312 313 314\n",
            " 315 316 317 318 319 320 321 322 323 324 325 326 327 328 329 330 331 332\n",
            " 333 334 335 336 337 338 339 340 341 342 343 344 345 346 347 348 349 350\n",
            " 351 352 353 354 355 356 357 358 359 360 361 362 363 364 365 366 367 368\n",
            " 369 370 371 372 373 374 375 376 377 378 379 380 381 382 383 384 385 386\n",
            " 387 388 389 390 391 392 393 394 395 396 397 398 399 400 401 402 403 404\n",
            " 405 406 407 408 409 410 411 412 413 414 415 416 417 418 419 420 421 422\n",
            " 423 424 425 426 427 428 429 430 431 432 433 434 435 436 437 438 439 440\n",
            " 441 442 443 444 445 446 447 448 449 450 451 452 453 454 455 456 457 458\n",
            " 459 460 461 462 463 464 465 466 467 468 469 470 471 472 473 474 475 476\n",
            " 477 478 479 480 481 482 483 484 485 486 487 488 489 490 491 492 493 494\n",
            " 495 496 497 498 499 500 501 502 503 504 505 506 507 508 509 510 511 512\n",
            " 513 514 515 516 517 518 519 520 521 522 523 524 525 526 527 528 529 530\n",
            " 531 532 533 534 535 536 537 538 539 540 541 542 543 544 545 546 547 548\n",
            " 549 550 551 552 553 554 555 556 557 558 559 560 561 562 563 564 565 566\n",
            " 567 568 569 570 571 572 573 574 575 576 577 578 579 580 581 582 583 584\n",
            " 585 586 587 588 589 590 591 592 593 594 595 596 597 598 599 600 601 602\n",
            " 603 604 605 606 607 608 609 610 611 612 613 614 615 616 617 618 619 620\n",
            " 621 622 623 624 625 626 627 628 629 630 631 632 633 634 635 636 637 638\n",
            " 639 640 641 642 643 644 645 646 647 648 649 650 651 652 653 654 655 656\n",
            " 657 658 659 660 661 662 663 664 665 666 667 668 669 670 671 672 673 674\n",
            " 675 676 677 678 679 680 681 682] ;     Validations: [  0   1   2   3   4   5   6   7   8   9  10  11  12  13  14  15  16  17\n",
            "  18  19  20  21  22  23  24  25  26  27  28  29  30  31  32  33  34  35\n",
            "  36  37  39  40  41  42  43  44  45  46  47  48  49  50  51  52  53  54\n",
            "  55  56  57  58  59  60  61  62  63  64  65  67  68  70  71  72  74  75\n",
            "  77  78  79  80  83  85  86  87  88  89  90  91  92  93  94  95  97  98\n",
            "  99 100 102 104 105 106 110 115 118 120 121 123 124 125 126 127 128 129\n",
            " 130 131 132 134 135 136 137 138 145]\n",
            "Train:  [  0   1   2   3   4   5   6   7   8   9  10  11  12  13  14  15  16  17\n",
            "  18  19  20  21  22  23  24  25  26  27  28  29  30  31  32  33  34  35\n",
            "  36  37  39  40  41  42  43  44  45  46  47  48  49  50  51  52  53  54\n",
            "  55  56  57  58  59  60  61  62  63  64  65  67  68  70  71  72  74  75\n",
            "  77  78  79  80  83  85  86  87  88  89  90  91  92  93  94  95  97  98\n",
            "  99 100 102 104 105 106 107 109 110 115 117 118 119 120 121 123 124 125\n",
            " 126 127 128 129 130 131 132 133 134 135 136 137 138 143 145 149 158 159\n",
            " 182 184 190 205 209 216 217 221 223 224 225 227 229 230 231 232 233 236\n",
            " 238 239 240 243 244 245 246 247 251 252 253 254 255 256 258 259 262 264\n",
            " 270 273 274 275 276 277 279 280 283 284 285 287 288 290 292 293 294 295\n",
            " 296 297 298 299 300 301 302 303 304 305 306 307 308 309 310 311 312 313\n",
            " 314 315 316 317 318 319 320 321 322 323 324 325 326 327 328 329 330 331\n",
            " 332 333 334 335 336 337 338 339 340 341 342 343 344 345 346 347 348 349\n",
            " 350 351 352 353 354 355 356 357 358 359 360 361 362 363 364 365 366 367\n",
            " 368 369 370 371 372 373 374 375 376 377 378 379 380 381 382 383 384 385\n",
            " 386 387 388 389 390 391 392 393 394 395 396 397 398 399 400 401 402 403\n",
            " 404 405 406 407 408 409 410 411 412 413 414 415 416 417 418 419 420 421\n",
            " 422 423 424 425 426 427 428 429 430 431 432 433 434 435 436 437 438 439\n",
            " 440 441 442 443 444 445 446 447 448 449 450 451 452 453 454 455 456 457\n",
            " 458 459 460 461 462 463 464 465 466 467 468 469 470 471 472 473 474 475\n",
            " 476 477 478 479 480 481 482 483 484 485 486 487 488 489 490 491 492 493\n",
            " 494 495 496 497 498 499 500 501 502 503 504 505 506 507 508 509 510 511\n",
            " 512 513 514 515 516 517 518 519 520 521 522 523 524 525 526 527 528 529\n",
            " 530 531 532 533 534 535 536 537 538 539 540 541 542 543 544 545 546 547\n",
            " 548 549 550 551 552 553 554 555 556 557 558 559 560 561 562 563 564 565\n",
            " 566 567 568 569 570 571 572 573 574 575 576 577 578 579 580 581 582 583\n",
            " 584 585 586 587 588 589 590 591 592 593 594 595 596 597 598 599 600 601\n",
            " 602 603 604 605 606 607 608 609 610 611 612 613 614 615 616 617 618 619\n",
            " 620 621 622 623 624 625 626 627 628 629 630 631 632 633 634 635 636 637\n",
            " 638 639 640 641 642 643 644 645 646 647 648 649 650 651 652 653 654 655\n",
            " 656 657 658 659 660 661 662 663 664 665 666 667 668 669 670 671 672 673\n",
            " 674 675 676 677 678 679 680 681 682] ;     Validations: [ 38  66  69  73  76  81  82  84  96 101 103 108 111 112 113 114 116 122\n",
            " 139 140 141 142 144 146 147 148 150 151 152 153 154 155 156 157 160 161\n",
            " 162 163 164 165 166 167 168 169 170 171 172 173 174 175 176 177 178 179\n",
            " 180 181 183 185 186 187 188 189 191 192 193 194 195 196 197 198 199 200\n",
            " 201 202 203 204 206 207 208 210 211 212 213 214 215 218 219 220 222 226\n",
            " 228 234 235 237 241 242 248 249 250 257 260 261 263 265 266 267 268 269\n",
            " 271 272 278 281 282 286 289 291]\n",
            "Train:  [  0   1   2   3   4   5   6   7   8   9  10  11  12  13  14  15  16  17\n",
            "  18  19  20  21  22  23  24  25  26  27  28  29  30  31  32  33  34  35\n",
            "  36  37  38  39  40  41  42  43  44  45  46  47  48  49  50  51  52  53\n",
            "  54  55  56  57  58  59  60  61  62  63  64  65  66  67  68  69  70  71\n",
            "  72  73  74  75  76  77  78  79  80  81  82  83  84  85  86  87  88  89\n",
            "  90  91  92  93  94  95  96  97  98  99 100 101 102 103 104 105 106 108\n",
            " 110 111 112 113 114 115 116 118 120 121 122 123 124 125 126 127 128 129\n",
            " 130 131 132 134 135 136 137 138 139 140 141 142 144 145 146 147 148 150\n",
            " 151 152 153 154 155 156 157 160 161 162 163 164 165 166 167 168 169 170\n",
            " 171 172 173 174 175 176 177 178 179 180 181 183 185 186 187 188 189 191\n",
            " 192 193 194 195 196 197 198 199 200 201 202 203 204 206 207 208 210 211\n",
            " 212 213 214 215 218 219 220 222 224 225 226 228 230 231 233 234 235 237\n",
            " 238 240 241 242 246 248 249 250 251 257 260 261 263 265 266 267 268 269\n",
            " 270 271 272 278 280 281 282 283 284 285 286 287 289 290 291 292 293 297\n",
            " 303 304 306 307 309 312 315 316 319 320 322 325 326 330 335 339 342 343\n",
            " 345 346 347 348 349 352 353 367 372 375 377 386 389 394 397 399 400 401\n",
            " 402 403 404 405 406 407 408 409 410 411 412 413 414 415 416 417 418 419\n",
            " 420 421 422 423 424 425 426 427 428 429 430 431 432 433 434 435 436 437\n",
            " 438 439 441 442 443 444 445 446 447 448 449 450 451 452 453 454 455 456\n",
            " 457 458 459 460 461 462 463 464 465 466 467 468 469 470 471 472 473 474\n",
            " 475 476 477 478 479 480 481 482 483 484 485 486 487 488 489 490 491 492\n",
            " 493 494 495 496 497 498 499 500 501 502 503 504 505 506 507 508 509 510\n",
            " 511 512 513 514 515 516 517 518 519 520 521 522 523 524 525 526 527 528\n",
            " 529 530 531 532 533 534 535 536 537 538 539 540 541 542 543 544 545 546\n",
            " 547 548 549 550 551 552 553 554 555 556 557 558 559 560 561 562 563 564\n",
            " 565 566 567 568 569 570 571 572 573 574 575 576 577 578 579 580 581 582\n",
            " 583 584 585 586 587 588 589 590 591 592 593 594 595 596 597 598 599 600\n",
            " 601 602 603 604 605 606 607 608 609 610 611 612 613 614 615 616 617 618\n",
            " 619 620 621 622 623 624 625 626 627 628 629 630 631 632 633 634 635 636\n",
            " 637 638 639 640 641 642 643 644 645 646 647 648 649 650 651 652 653 654\n",
            " 655 656 657 658 659 660 661 662 663 664 665 666 667 668 669 670 671 672\n",
            " 673 674 675 676 677 678 679 680 681 682] ;     Validations: [107 109 117 119 133 143 149 158 159 182 184 190 205 209 216 217 221 223\n",
            " 227 229 232 236 239 243 244 245 247 252 253 254 255 256 258 259 262 264\n",
            " 273 274 275 276 277 279 288 294 295 296 298 299 300 301 302 305 308 310\n",
            " 311 313 314 317 318 321 323 324 327 328 329 331 332 333 334 336 337 338\n",
            " 340 341 344 350 351 354 355 356 357 358 359 360 361 362 363 364 365 366\n",
            " 368 369 370 371 373 374 376 378 379 380 381 382 383 384 385 387 388 390\n",
            " 391 392 393 395 396 398 440]\n",
            "Train:  [  0   1   2   3   4   5   6   7   8   9  10  11  12  13  14  15  16  17\n",
            "  18  19  20  21  22  23  24  25  26  27  28  29  30  31  32  33  34  35\n",
            "  36  37  38  39  40  41  42  43  44  45  46  47  48  49  50  51  52  53\n",
            "  54  55  56  57  58  59  60  61  62  63  64  65  66  67  68  69  70  71\n",
            "  72  73  74  75  76  77  78  79  80  81  82  83  84  85  86  87  88  89\n",
            "  90  91  92  93  94  95  96  97  98  99 100 101 102 103 104 105 106 107\n",
            " 108 109 110 111 112 113 114 115 116 117 118 119 120 121 122 123 124 125\n",
            " 126 127 128 129 130 131 132 133 134 135 136 137 138 139 140 141 142 143\n",
            " 144 145 146 147 148 149 150 151 152 153 154 155 156 157 158 159 160 161\n",
            " 162 163 164 165 166 167 168 169 170 171 172 173 174 175 176 177 178 179\n",
            " 180 181 182 183 184 185 186 187 188 189 190 191 192 193 194 195 196 197\n",
            " 198 199 200 201 202 203 204 205 206 207 208 209 210 211 212 213 214 215\n",
            " 216 217 218 219 220 221 222 223 226 227 228 229 232 234 235 236 237 239\n",
            " 240 241 242 243 244 245 247 248 249 250 252 253 254 255 256 257 258 259\n",
            " 260 261 262 263 264 265 266 267 268 269 270 271 272 273 274 275 276 277\n",
            " 278 279 281 282 286 288 289 291 294 295 296 298 299 300 301 302 304 305\n",
            " 308 310 311 313 314 316 317 318 321 323 324 327 328 329 331 332 333 334\n",
            " 335 336 337 338 340 341 344 345 350 351 352 353 354 355 356 357 358 359\n",
            " 360 361 362 363 364 365 366 367 368 369 370 371 372 373 374 376 377 378\n",
            " 379 380 381 382 383 384 385 386 387 388 390 391 392 393 395 396 398 399\n",
            " 401 403 406 410 412 419 420 425 427 428 434 438 440 441 442 450 451 452\n",
            " 464 468 470 472 473 474 476 478 479 491 492 499 500 503 504 505 506 507\n",
            " 508 509 510 511 512 513 514 515 516 517 518 519 520 521 522 523 524 525\n",
            " 526 527 528 529 530 531 532 533 534 535 536 537 538 539 540 541 542 543\n",
            " 544 545 546 547 548 549 550 551 552 553 554 555 556 557 558 559 560 561\n",
            " 562 563 564 565 566 567 568 569 570 571 572 573 574 575 576 577 578 579\n",
            " 580 581 582 583 584 585 586 587 588 589 590 591 592 593 594 595 596 597\n",
            " 598 599 600 601 602 603 604 605 606 607 608 609 611 612 613 614 615 616\n",
            " 617 618 619 620 621 622 623 624 625 626 627 628 629 630 631 632 633 634\n",
            " 635 636 637 638 639 640 641 642 643 644 645 646 647 648 649 650 651 652\n",
            " 653 654 655 656 657 658 659 660 661 662 663 664 665 666 667 668 669 670\n",
            " 671 672 673 674 675 676 677 678 679 680 681 682] ;     Validations: [224 225 230 231 233 238 246 251 280 283 284 285 287 290 292 293 297 303\n",
            " 306 307 309 312 315 319 320 322 325 326 330 339 342 343 346 347 348 349\n",
            " 375 389 394 397 400 402 404 405 407 408 409 411 413 414 415 416 417 418\n",
            " 421 422 423 424 426 429 430 431 432 433 435 436 437 439 443 444 445 446\n",
            " 447 448 449 453 454 455 456 457 458 459 460 461 462 463 465 466 467 469\n",
            " 471 475 477 480 481 482 483 484 485 486 487 488 489 490 493 494 495 496\n",
            " 497 498 501 502 610]\n",
            "Train:  [  0   1   2   3   4   5   6   7   8   9  10  11  12  13  14  15  16  17\n",
            "  18  19  20  21  22  23  24  25  26  27  28  29  30  31  32  33  34  35\n",
            "  36  37  38  39  40  41  42  43  44  45  46  47  48  49  50  51  52  53\n",
            "  54  55  56  57  58  59  60  61  62  63  64  65  66  67  68  69  70  71\n",
            "  72  73  74  75  76  77  78  79  80  81  82  83  84  85  86  87  88  89\n",
            "  90  91  92  93  94  95  96  97  98  99 100 101 102 103 104 105 106 107\n",
            " 108 109 110 111 112 113 114 115 116 117 118 119 120 121 122 123 124 125\n",
            " 126 127 128 129 130 131 132 133 134 135 136 137 138 139 140 141 142 143\n",
            " 144 145 146 147 148 149 150 151 152 153 154 155 156 157 158 159 160 161\n",
            " 162 163 164 165 166 167 168 169 170 171 172 173 174 175 176 177 178 179\n",
            " 180 181 182 183 184 185 186 187 188 189 190 191 192 193 194 195 196 197\n",
            " 198 199 200 201 202 203 204 205 206 207 208 209 210 211 212 213 214 215\n",
            " 216 217 218 219 220 221 222 223 224 225 226 227 228 229 230 231 232 233\n",
            " 234 235 236 237 238 239 241 242 243 244 245 246 247 248 249 250 251 252\n",
            " 253 254 255 256 257 258 259 260 261 262 263 264 265 266 267 268 269 271\n",
            " 272 273 274 275 276 277 278 279 280 281 282 283 284 285 286 287 288 289\n",
            " 290 291 292 293 294 295 296 297 298 299 300 301 302 303 305 306 307 308\n",
            " 309 310 311 312 313 314 315 317 318 319 320 321 322 323 324 325 326 327\n",
            " 328 329 330 331 332 333 334 336 337 338 339 340 341 342 343 344 345 346\n",
            " 347 348 349 350 351 354 355 356 357 358 359 360 361 362 363 364 365 366\n",
            " 368 369 370 371 373 374 375 376 378 379 380 381 382 383 384 385 386 387\n",
            " 388 389 390 391 392 393 394 395 396 397 398 400 402 404 405 407 408 409\n",
            " 411 413 414 415 416 417 418 419 421 422 423 424 426 429 430 431 432 433\n",
            " 435 436 437 439 440 443 444 445 446 447 448 449 453 454 455 456 457 458\n",
            " 459 460 461 462 463 465 466 467 469 471 475 477 480 481 482 483 484 485\n",
            " 486 487 488 489 490 493 494 495 496 497 498 500 501 502 504 508 515 531\n",
            " 550 552 553 554 555 556 566 567 571 573 576 577 579 589 590 593 595 596\n",
            " 597 598 599 600 601 602 603 604 605 606 607 608 609 610 611 612 613 614\n",
            " 615 616 617 618 619 620 621 622 623 624 625 626 627 628 629 630 631 632\n",
            " 633 634 635 636 637 638 639 640 641 642 643 644 645 646 647 648 649 650\n",
            " 651 652 653 654 655 656 657 658 659 660 661 662 663 664 665 666 667 668\n",
            " 669 670 671 672 673 674 675 676 677 678 679 680 681 682] ;     Validations: [240 270 304 316 335 352 353 367 372 377 399 401 403 406 410 412 420 425\n",
            " 427 428 434 438 441 442 450 451 452 464 468 470 472 473 474 476 478 479\n",
            " 491 492 499 503 505 506 507 509 510 511 512 513 514 516 517 518 519 520\n",
            " 521 522 523 524 525 526 527 528 529 530 532 533 534 535 536 537 538 539\n",
            " 540 541 542 543 544 545 546 547 548 549 551 557 558 559 560 561 562 563\n",
            " 564 565 568 569 570 572 574 575 578 580 581 582 583 584 585 586 587 588\n",
            " 591 592 594]\n",
            "Train:  [  0   1   2   3   4   5   6   7   8   9  10  11  12  13  14  15  16  17\n",
            "  18  19  20  21  22  23  24  25  26  27  28  29  30  31  32  33  34  35\n",
            "  36  37  38  39  40  41  42  43  44  45  46  47  48  49  50  51  52  53\n",
            "  54  55  56  57  58  59  60  61  62  63  64  65  66  67  68  69  70  71\n",
            "  72  73  74  75  76  77  78  79  80  81  82  83  84  85  86  87  88  89\n",
            "  90  91  92  93  94  95  96  97  98  99 100 101 102 103 104 105 106 107\n",
            " 108 109 110 111 112 113 114 115 116 117 118 119 120 121 122 123 124 125\n",
            " 126 127 128 129 130 131 132 133 134 135 136 137 138 139 140 141 142 143\n",
            " 144 145 146 147 148 149 150 151 152 153 154 155 156 157 158 159 160 161\n",
            " 162 163 164 165 166 167 168 169 170 171 172 173 174 175 176 177 178 179\n",
            " 180 181 182 183 184 185 186 187 188 189 190 191 192 193 194 195 196 197\n",
            " 198 199 200 201 202 203 204 205 206 207 208 209 210 211 212 213 214 215\n",
            " 216 217 218 219 220 221 222 223 224 225 226 227 228 229 230 231 232 233\n",
            " 234 235 236 237 238 239 240 241 242 243 244 245 246 247 248 249 250 251\n",
            " 252 253 254 255 256 257 258 259 260 261 262 263 264 265 266 267 268 269\n",
            " 270 271 272 273 274 275 276 277 278 279 280 281 282 283 284 285 286 287\n",
            " 288 289 290 291 292 293 294 295 296 297 298 299 300 301 302 303 304 305\n",
            " 306 307 308 309 310 311 312 313 314 315 316 317 318 319 320 321 322 323\n",
            " 324 325 326 327 328 329 330 331 332 333 334 335 336 337 338 339 340 341\n",
            " 342 343 344 346 347 348 349 350 351 352 353 354 355 356 357 358 359 360\n",
            " 361 362 363 364 365 366 367 368 369 370 371 372 373 374 375 376 377 378\n",
            " 379 380 381 382 383 384 385 387 388 389 390 391 392 393 394 395 396 397\n",
            " 398 399 400 401 402 403 404 405 406 407 408 409 410 411 412 413 414 415\n",
            " 416 417 418 420 421 422 423 424 425 426 427 428 429 430 431 432 433 434\n",
            " 435 436 437 438 439 440 441 442 443 444 445 446 447 448 449 450 451 452\n",
            " 453 454 455 456 457 458 459 460 461 462 463 464 465 466 467 468 469 470\n",
            " 471 472 473 474 475 476 477 478 479 480 481 482 483 484 485 486 487 488\n",
            " 489 490 491 492 493 494 495 496 497 498 499 501 502 503 505 506 507 509\n",
            " 510 511 512 513 514 516 517 518 519 520 521 522 523 524 525 526 527 528\n",
            " 529 530 532 533 534 535 536 537 538 539 540 541 542 543 544 545 546 547\n",
            " 548 549 551 557 558 559 560 561 562 563 564 565 568 569 570 572 574 575\n",
            " 578 580 581 582 583 584 585 586 587 588 591 592 594 610] ;     Validations: [345 386 419 500 504 508 515 531 550 552 553 554 555 556 566 567 571 573\n",
            " 576 577 579 589 590 593 595 596 597 598 599 600 601 602 603 604 605 606\n",
            " 607 608 609 611 612 613 614 615 616 617 618 619 620 621 622 623 624 625\n",
            " 626 627 628 629 630 631 632 633 634 635 636 637 638 639 640 641 642 643\n",
            " 644 645 646 647 648 649 650 651 652 653 654 655 656 657 658 659 660 661\n",
            " 662 663 664 665 666 667 668 669 670 671 672 673 674 675 676 677 678 679\n",
            " 680 681 682]\n",
            "[0.6923076923076923, 0.7241379310344828, 0.7391304347826086, 0.7699115044247787, 0.7837837837837838, 0.7747747747747747]\n"
          ],
          "name": "stdout"
        },
        {
          "output_type": "stream",
          "text": [
            "/usr/local/lib/python3.6/dist-packages/sklearn/model_selection/_split.py:657: Warning: The least populated class in y has only 4 members, which is too few. The minimum number of members in any class cannot be less than n_splits=6.\n",
            "  % (min_groups, self.n_splits)), Warning)\n"
          ],
          "name": "stderr"
        }
      ]
    },
    {
      "cell_type": "code",
      "metadata": {
        "id": "g8P1jlZEUaXm",
        "colab_type": "code",
        "outputId": "4a16a97c-8978-4142-90cb-c94abee41a89",
        "colab": {
          "base_uri": "https://localhost:8080/",
          "height": 34
        }
      },
      "source": [
        "np.array(accuracy).mean()"
      ],
      "execution_count": 0,
      "outputs": [
        {
          "output_type": "execute_result",
          "data": {
            "text/plain": [
              "0.7473410201846868"
            ]
          },
          "metadata": {
            "tags": []
          },
          "execution_count": 25
        }
      ]
    },
    {
      "cell_type": "code",
      "metadata": {
        "id": "8DJQmdImQZDr",
        "colab_type": "code",
        "outputId": "6c47fd6e-cbd9-4cde-e3c0-6276ad853407",
        "colab": {
          "base_uri": "https://localhost:8080/",
          "height": 34
        }
      },
      "source": [
        "print ('Mean Accuracy: ', np.array(accuracy).mean(), ';  Min Accuracy: ', np.array(accuracy).min(), ';   Max Accuracy: ', np.array(accuracy).max())"
      ],
      "execution_count": 0,
      "outputs": [
        {
          "output_type": "stream",
          "text": [
            "Mean Accuracy:  0.7473410201846868 ;  Min Accuracy:  0.6923076923076923 ;   Max Accuracy:  0.7837837837837838\n"
          ],
          "name": "stdout"
        }
      ]
    },
    {
      "cell_type": "code",
      "metadata": {
        "id": "uOXJWm7wUT0H",
        "colab_type": "code",
        "outputId": "8f5a7741-9bd2-4330-a1c4-747bf377b668",
        "colab": {
          "base_uri": "https://localhost:8080/",
          "height": 578
        }
      },
      "source": [
        "for i in range (1,17):\n",
        "  pred_mis_i = knn.predict(NaN_miss.iloc[i-1:i, 1:])    \n",
        "  print('prediction for ',NaN_miss.iloc[i:i+1, 0:1], ' i value is -- > ', i,' predict class -- > ', pred_mis_i)"
      ],
      "execution_count": 0,
      "outputs": [
        {
          "output_type": "stream",
          "text": [
            "prediction for     Sample code number\n",
            "1             1096800  i value is -- >  1  predict class -- >  [10]\n",
            "prediction for     Sample code number\n",
            "2             1183246  i value is -- >  2  predict class -- >  [10]\n",
            "prediction for     Sample code number\n",
            "3             1184840  i value is -- >  3  predict class -- >  [1]\n",
            "prediction for     Sample code number\n",
            "4             1193683  i value is -- >  4  predict class -- >  [1]\n",
            "prediction for     Sample code number\n",
            "5             1197510  i value is -- >  5  predict class -- >  [1]\n",
            "prediction for     Sample code number\n",
            "6             1241232  i value is -- >  6  predict class -- >  [1]\n",
            "prediction for     Sample code number\n",
            "7              169356  i value is -- >  7  predict class -- >  [1]\n",
            "prediction for     Sample code number\n",
            "8              432809  i value is -- >  8  predict class -- >  [1]\n",
            "prediction for     Sample code number\n",
            "9              563649  i value is -- >  9  predict class -- >  [1]\n",
            "prediction for      Sample code number\n",
            "10              606140  i value is -- >  10  predict class -- >  [10]\n",
            "prediction for      Sample code number\n",
            "11               61634  i value is -- >  11  predict class -- >  [1]\n",
            "prediction for      Sample code number\n",
            "12              704168  i value is -- >  12  predict class -- >  [1]\n",
            "prediction for      Sample code number\n",
            "13              733639  i value is -- >  13  predict class -- >  [10]\n",
            "prediction for      Sample code number\n",
            "14             1238464  i value is -- >  14  predict class -- >  [1]\n",
            "prediction for      Sample code number\n",
            "15             1057067  i value is -- >  15  predict class -- >  [1]\n",
            "prediction for  Empty DataFrame\n",
            "Columns: [Sample code number]\n",
            "Index: []  i value is -- >  16  predict class -- >  [1]\n"
          ],
          "name": "stdout"
        }
      ]
    },
    {
      "cell_type": "code",
      "metadata": {
        "id": "FWBbt3-GVQ67",
        "colab_type": "code",
        "outputId": "0c5c8dbc-7c88-40e8-959c-c2fa41320bc9",
        "colab": {
          "base_uri": "https://localhost:8080/",
          "height": 34
        }
      },
      "source": [
        "print (122000/5250)"
      ],
      "execution_count": 0,
      "outputs": [
        {
          "output_type": "stream",
          "text": [
            "23.238095238095237\n"
          ],
          "name": "stdout"
        }
      ]
    },
    {
      "cell_type": "code",
      "metadata": {
        "id": "Uzvoge5x74Fn",
        "colab_type": "code",
        "colab": {}
      },
      "source": [
        ""
      ],
      "execution_count": 0,
      "outputs": []
    }
  ]
}