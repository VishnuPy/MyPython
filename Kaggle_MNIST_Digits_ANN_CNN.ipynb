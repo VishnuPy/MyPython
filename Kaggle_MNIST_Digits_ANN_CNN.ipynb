{
  "nbformat": 4,
  "nbformat_minor": 0,
  "metadata": {
    "colab": {
      "name": "Kaggle_MNIST_Digits_ANN_CNN.ipynb",
      "provenance": [],
      "collapsed_sections": []
    },
    "kernelspec": {
      "name": "python3",
      "display_name": "Python 3"
    },
    "accelerator": "GPU"
  },
  "cells": [
    {
      "cell_type": "code",
      "metadata": {
        "id": "WHun7U6OTRib",
        "colab_type": "code",
        "outputId": "5bdb2308-8248-4083-e6d4-e3d1dd8eb81c",
        "colab": {
          "base_uri": "https://localhost:8080/",
          "height": 85
        }
      },
      "source": [
        "import tensorflow as tf\n",
        "device_name = tf.test.gpu_device_name()\n",
        "if device_name != '/device:GPU:0':\n",
        "  raise SystemError('GPU device not found')\n",
        "print('Found GPU at: {}'.format(device_name))\n",
        "\n",
        "from google.colab import drive\n",
        "drive.mount('/gdrive')\n",
        "%cd /gdrive\n",
        "%ls"
      ],
      "execution_count": 2,
      "outputs": [
        {
          "output_type": "stream",
          "text": [
            "Found GPU at: /device:GPU:0\n",
            "Drive already mounted at /gdrive; to attempt to forcibly remount, call drive.mount(\"/gdrive\", force_remount=True).\n",
            "/gdrive\n",
            "\u001b[0m\u001b[01;34m'My Drive'\u001b[0m/\n"
          ],
          "name": "stdout"
        }
      ]
    },
    {
      "cell_type": "code",
      "metadata": {
        "id": "j-HPwu12Tioa",
        "colab_type": "code",
        "outputId": "51c0e5e8-66b1-4bbf-b309-c56f233099a0",
        "colab": {
          "base_uri": "https://localhost:8080/",
          "height": 119
        }
      },
      "source": [
        "import tensorflow as tf\n",
        "import timeit\n",
        "\n",
        "# See https://www.tensorflow.org/tutorials/using_gpu#allowing_gpu_memory_growth\n",
        "config = tf.ConfigProto()\n",
        "config.gpu_options.allow_growth = True\n",
        "\n",
        "with tf.device('/cpu:0'):\n",
        "  random_image_cpu = tf.random_normal((100, 100, 100, 3))\n",
        "  net_cpu = tf.layers.conv2d(random_image_cpu, 32, 7)\n",
        "  net_cpu = tf.reduce_sum(net_cpu)\n",
        "\n",
        "with tf.device('/gpu:0'):\n",
        "  random_image_gpu = tf.random_normal((100, 100, 100, 3))\n",
        "  net_gpu = tf.layers.conv2d(random_image_gpu, 32, 7)\n",
        "  net_gpu = tf.reduce_sum(net_gpu)\n",
        "\n",
        "sess = tf.Session(config=config)\n",
        "\n",
        "# Test execution once to detect errors early.\n",
        "try:\n",
        "  sess.run(tf.global_variables_initializer())\n",
        "except tf.errors.InvalidArgumentError:\n",
        "  print(\n",
        "      '\\n\\nThis error most likely means that this notebook is not '\n",
        "      'configured to use a GPU.  Change this in Notebook Settings via the '\n",
        "      'command palette (cmd/ctrl-shift-P) or the Edit menu.\\n\\n')\n",
        "  raise\n",
        "\n",
        "def cpu():\n",
        "  sess.run(net_cpu)\n",
        "  \n",
        "def gpu():\n",
        "  sess.run(net_gpu)\n",
        "  \n",
        "# Runs the op several times.\n",
        "print('Time (s) to convolve 32x7x7x3 filter over random 100x100x100x3 images '\n",
        "      '(batch x height x width x channel). Sum of ten runs.')\n",
        "print('CPU (s):')\n",
        "cpu_time = timeit.timeit('cpu()', number=10, setup=\"from __main__ import cpu\")\n",
        "print(cpu_time)\n",
        "print('GPU (s):')\n",
        "gpu_time = timeit.timeit('gpu()', number=10, setup=\"from __main__ import gpu\")\n",
        "print(gpu_time)\n",
        "print('GPU speedup over CPU: {}x'.format(int(cpu_time/gpu_time)))"
      ],
      "execution_count": 5,
      "outputs": [
        {
          "output_type": "stream",
          "text": [
            "Time (s) to convolve 32x7x7x3 filter over random 100x100x100x3 images (batch x height x width x channel). Sum of ten runs.\n",
            "CPU (s):\n",
            "3.568735851999975\n",
            "GPU (s):\n",
            "0.16955588400003307\n",
            "GPU speedup over CPU: 21x\n"
          ],
          "name": "stdout"
        }
      ]
    },
    {
      "cell_type": "markdown",
      "metadata": {
        "id": "aEL2mBzfTHYa",
        "colab_type": "text"
      },
      "source": [
        "[](http://)#### This is a simple ANN to classify digits. Tuned parameters are Optimization Kernel, Learning Rate, trails to add 1or2 hidden layers and lastly adding drop out to achieve 98+% accuracy. A basic ANN notebook for submission Test Prediction on Digits. \n",
        "\n",
        "Later down below, images of Fashion items read (Fashion_MNIST dataset in Keras) and tried with CNN. For practice and tutorial for beginners. "
      ]
    },
    {
      "cell_type": "code",
      "metadata": {
        "id": "0uPiiFR5acTW",
        "colab_type": "code",
        "trusted": true,
        "outputId": "04688cbc-62cf-4a89-8f2c-457f4db2126c",
        "colab": {
          "base_uri": "https://localhost:8080/",
          "height": 34
        }
      },
      "source": [
        "import pandas as pd\n",
        "import numpy as np\n",
        "\n",
        "np.random.seed(1212)\n",
        "\n",
        "import keras\n",
        "from keras.models import Model\n",
        "from keras.layers import *\n",
        "from keras.layers import Dense\n",
        "from keras import optimizers"
      ],
      "execution_count": 6,
      "outputs": [
        {
          "output_type": "stream",
          "text": [
            "Using TensorFlow backend.\n"
          ],
          "name": "stderr"
        }
      ]
    },
    {
      "cell_type": "code",
      "metadata": {
        "id": "BBD6OsQFUsaa",
        "colab_type": "code",
        "outputId": "876517b8-9671-4728-82b7-b3036eeeb390",
        "colab": {
          "base_uri": "https://localhost:8080/",
          "height": 51
        }
      },
      "source": [
        "!pwd\n",
        "!ls"
      ],
      "execution_count": 7,
      "outputs": [
        {
          "output_type": "stream",
          "text": [
            "/gdrive\n",
            "'My Drive'\n"
          ],
          "name": "stdout"
        }
      ]
    },
    {
      "cell_type": "code",
      "metadata": {
        "id": "eIUAmBMMAizK",
        "colab_type": "code",
        "trusted": true,
        "colab": {}
      },
      "source": [
        "df_train = pd.read_csv('/gdrive/My Drive/MyLearning/MLDLAIPython/Data/TextData/MNIST_train.csv')\n",
        "df_test = pd.read_csv('/gdrive/My Drive/MyLearning/MLDLAIPython/Data/TextData/MNISTtest.csv')\n",
        "#images in these datasets are already flattened and in Machine readable format"
      ],
      "execution_count": 0,
      "outputs": []
    },
    {
      "cell_type": "code",
      "metadata": {
        "id": "PzTZlIlXFvZD",
        "colab_type": "code",
        "outputId": "c7038fb2-1b3e-4fc2-ca4f-0fc769cb68b0",
        "trusted": true,
        "colab": {
          "base_uri": "https://localhost:8080/",
          "height": 253
        }
      },
      "source": [
        "df_train.head() # 784 features, 1 label"
      ],
      "execution_count": 9,
      "outputs": [
        {
          "output_type": "execute_result",
          "data": {
            "text/html": [
              "<div>\n",
              "<style scoped>\n",
              "    .dataframe tbody tr th:only-of-type {\n",
              "        vertical-align: middle;\n",
              "    }\n",
              "\n",
              "    .dataframe tbody tr th {\n",
              "        vertical-align: top;\n",
              "    }\n",
              "\n",
              "    .dataframe thead th {\n",
              "        text-align: right;\n",
              "    }\n",
              "</style>\n",
              "<table border=\"1\" class=\"dataframe\">\n",
              "  <thead>\n",
              "    <tr style=\"text-align: right;\">\n",
              "      <th></th>\n",
              "      <th>label</th>\n",
              "      <th>pixel0</th>\n",
              "      <th>pixel1</th>\n",
              "      <th>pixel2</th>\n",
              "      <th>pixel3</th>\n",
              "      <th>pixel4</th>\n",
              "      <th>pixel5</th>\n",
              "      <th>pixel6</th>\n",
              "      <th>pixel7</th>\n",
              "      <th>pixel8</th>\n",
              "      <th>pixel9</th>\n",
              "      <th>pixel10</th>\n",
              "      <th>pixel11</th>\n",
              "      <th>pixel12</th>\n",
              "      <th>pixel13</th>\n",
              "      <th>pixel14</th>\n",
              "      <th>pixel15</th>\n",
              "      <th>pixel16</th>\n",
              "      <th>pixel17</th>\n",
              "      <th>pixel18</th>\n",
              "      <th>pixel19</th>\n",
              "      <th>pixel20</th>\n",
              "      <th>pixel21</th>\n",
              "      <th>pixel22</th>\n",
              "      <th>pixel23</th>\n",
              "      <th>pixel24</th>\n",
              "      <th>pixel25</th>\n",
              "      <th>pixel26</th>\n",
              "      <th>pixel27</th>\n",
              "      <th>pixel28</th>\n",
              "      <th>pixel29</th>\n",
              "      <th>pixel30</th>\n",
              "      <th>pixel31</th>\n",
              "      <th>pixel32</th>\n",
              "      <th>pixel33</th>\n",
              "      <th>pixel34</th>\n",
              "      <th>pixel35</th>\n",
              "      <th>pixel36</th>\n",
              "      <th>pixel37</th>\n",
              "      <th>pixel38</th>\n",
              "      <th>...</th>\n",
              "      <th>pixel744</th>\n",
              "      <th>pixel745</th>\n",
              "      <th>pixel746</th>\n",
              "      <th>pixel747</th>\n",
              "      <th>pixel748</th>\n",
              "      <th>pixel749</th>\n",
              "      <th>pixel750</th>\n",
              "      <th>pixel751</th>\n",
              "      <th>pixel752</th>\n",
              "      <th>pixel753</th>\n",
              "      <th>pixel754</th>\n",
              "      <th>pixel755</th>\n",
              "      <th>pixel756</th>\n",
              "      <th>pixel757</th>\n",
              "      <th>pixel758</th>\n",
              "      <th>pixel759</th>\n",
              "      <th>pixel760</th>\n",
              "      <th>pixel761</th>\n",
              "      <th>pixel762</th>\n",
              "      <th>pixel763</th>\n",
              "      <th>pixel764</th>\n",
              "      <th>pixel765</th>\n",
              "      <th>pixel766</th>\n",
              "      <th>pixel767</th>\n",
              "      <th>pixel768</th>\n",
              "      <th>pixel769</th>\n",
              "      <th>pixel770</th>\n",
              "      <th>pixel771</th>\n",
              "      <th>pixel772</th>\n",
              "      <th>pixel773</th>\n",
              "      <th>pixel774</th>\n",
              "      <th>pixel775</th>\n",
              "      <th>pixel776</th>\n",
              "      <th>pixel777</th>\n",
              "      <th>pixel778</th>\n",
              "      <th>pixel779</th>\n",
              "      <th>pixel780</th>\n",
              "      <th>pixel781</th>\n",
              "      <th>pixel782</th>\n",
              "      <th>pixel783</th>\n",
              "    </tr>\n",
              "  </thead>\n",
              "  <tbody>\n",
              "    <tr>\n",
              "      <th>0</th>\n",
              "      <td>1</td>\n",
              "      <td>0</td>\n",
              "      <td>0</td>\n",
              "      <td>0</td>\n",
              "      <td>0</td>\n",
              "      <td>0</td>\n",
              "      <td>0</td>\n",
              "      <td>0</td>\n",
              "      <td>0</td>\n",
              "      <td>0</td>\n",
              "      <td>0</td>\n",
              "      <td>0</td>\n",
              "      <td>0</td>\n",
              "      <td>0</td>\n",
              "      <td>0</td>\n",
              "      <td>0</td>\n",
              "      <td>0</td>\n",
              "      <td>0</td>\n",
              "      <td>0</td>\n",
              "      <td>0</td>\n",
              "      <td>0</td>\n",
              "      <td>0</td>\n",
              "      <td>0</td>\n",
              "      <td>0</td>\n",
              "      <td>0</td>\n",
              "      <td>0</td>\n",
              "      <td>0</td>\n",
              "      <td>0</td>\n",
              "      <td>0</td>\n",
              "      <td>0</td>\n",
              "      <td>0</td>\n",
              "      <td>0</td>\n",
              "      <td>0</td>\n",
              "      <td>0</td>\n",
              "      <td>0</td>\n",
              "      <td>0</td>\n",
              "      <td>0</td>\n",
              "      <td>0</td>\n",
              "      <td>0</td>\n",
              "      <td>0</td>\n",
              "      <td>...</td>\n",
              "      <td>0</td>\n",
              "      <td>0</td>\n",
              "      <td>0</td>\n",
              "      <td>0</td>\n",
              "      <td>0</td>\n",
              "      <td>0</td>\n",
              "      <td>0</td>\n",
              "      <td>0</td>\n",
              "      <td>0</td>\n",
              "      <td>0</td>\n",
              "      <td>0</td>\n",
              "      <td>0</td>\n",
              "      <td>0</td>\n",
              "      <td>0</td>\n",
              "      <td>0</td>\n",
              "      <td>0</td>\n",
              "      <td>0</td>\n",
              "      <td>0</td>\n",
              "      <td>0</td>\n",
              "      <td>0</td>\n",
              "      <td>0</td>\n",
              "      <td>0</td>\n",
              "      <td>0</td>\n",
              "      <td>0</td>\n",
              "      <td>0</td>\n",
              "      <td>0</td>\n",
              "      <td>0</td>\n",
              "      <td>0</td>\n",
              "      <td>0</td>\n",
              "      <td>0</td>\n",
              "      <td>0</td>\n",
              "      <td>0</td>\n",
              "      <td>0</td>\n",
              "      <td>0</td>\n",
              "      <td>0</td>\n",
              "      <td>0</td>\n",
              "      <td>0</td>\n",
              "      <td>0</td>\n",
              "      <td>0</td>\n",
              "      <td>0</td>\n",
              "    </tr>\n",
              "    <tr>\n",
              "      <th>1</th>\n",
              "      <td>0</td>\n",
              "      <td>0</td>\n",
              "      <td>0</td>\n",
              "      <td>0</td>\n",
              "      <td>0</td>\n",
              "      <td>0</td>\n",
              "      <td>0</td>\n",
              "      <td>0</td>\n",
              "      <td>0</td>\n",
              "      <td>0</td>\n",
              "      <td>0</td>\n",
              "      <td>0</td>\n",
              "      <td>0</td>\n",
              "      <td>0</td>\n",
              "      <td>0</td>\n",
              "      <td>0</td>\n",
              "      <td>0</td>\n",
              "      <td>0</td>\n",
              "      <td>0</td>\n",
              "      <td>0</td>\n",
              "      <td>0</td>\n",
              "      <td>0</td>\n",
              "      <td>0</td>\n",
              "      <td>0</td>\n",
              "      <td>0</td>\n",
              "      <td>0</td>\n",
              "      <td>0</td>\n",
              "      <td>0</td>\n",
              "      <td>0</td>\n",
              "      <td>0</td>\n",
              "      <td>0</td>\n",
              "      <td>0</td>\n",
              "      <td>0</td>\n",
              "      <td>0</td>\n",
              "      <td>0</td>\n",
              "      <td>0</td>\n",
              "      <td>0</td>\n",
              "      <td>0</td>\n",
              "      <td>0</td>\n",
              "      <td>0</td>\n",
              "      <td>...</td>\n",
              "      <td>0</td>\n",
              "      <td>0</td>\n",
              "      <td>0</td>\n",
              "      <td>0</td>\n",
              "      <td>0</td>\n",
              "      <td>0</td>\n",
              "      <td>0</td>\n",
              "      <td>0</td>\n",
              "      <td>0</td>\n",
              "      <td>0</td>\n",
              "      <td>0</td>\n",
              "      <td>0</td>\n",
              "      <td>0</td>\n",
              "      <td>0</td>\n",
              "      <td>0</td>\n",
              "      <td>0</td>\n",
              "      <td>0</td>\n",
              "      <td>0</td>\n",
              "      <td>0</td>\n",
              "      <td>0</td>\n",
              "      <td>0</td>\n",
              "      <td>0</td>\n",
              "      <td>0</td>\n",
              "      <td>0</td>\n",
              "      <td>0</td>\n",
              "      <td>0</td>\n",
              "      <td>0</td>\n",
              "      <td>0</td>\n",
              "      <td>0</td>\n",
              "      <td>0</td>\n",
              "      <td>0</td>\n",
              "      <td>0</td>\n",
              "      <td>0</td>\n",
              "      <td>0</td>\n",
              "      <td>0</td>\n",
              "      <td>0</td>\n",
              "      <td>0</td>\n",
              "      <td>0</td>\n",
              "      <td>0</td>\n",
              "      <td>0</td>\n",
              "    </tr>\n",
              "    <tr>\n",
              "      <th>2</th>\n",
              "      <td>1</td>\n",
              "      <td>0</td>\n",
              "      <td>0</td>\n",
              "      <td>0</td>\n",
              "      <td>0</td>\n",
              "      <td>0</td>\n",
              "      <td>0</td>\n",
              "      <td>0</td>\n",
              "      <td>0</td>\n",
              "      <td>0</td>\n",
              "      <td>0</td>\n",
              "      <td>0</td>\n",
              "      <td>0</td>\n",
              "      <td>0</td>\n",
              "      <td>0</td>\n",
              "      <td>0</td>\n",
              "      <td>0</td>\n",
              "      <td>0</td>\n",
              "      <td>0</td>\n",
              "      <td>0</td>\n",
              "      <td>0</td>\n",
              "      <td>0</td>\n",
              "      <td>0</td>\n",
              "      <td>0</td>\n",
              "      <td>0</td>\n",
              "      <td>0</td>\n",
              "      <td>0</td>\n",
              "      <td>0</td>\n",
              "      <td>0</td>\n",
              "      <td>0</td>\n",
              "      <td>0</td>\n",
              "      <td>0</td>\n",
              "      <td>0</td>\n",
              "      <td>0</td>\n",
              "      <td>0</td>\n",
              "      <td>0</td>\n",
              "      <td>0</td>\n",
              "      <td>0</td>\n",
              "      <td>0</td>\n",
              "      <td>0</td>\n",
              "      <td>...</td>\n",
              "      <td>0</td>\n",
              "      <td>0</td>\n",
              "      <td>0</td>\n",
              "      <td>0</td>\n",
              "      <td>0</td>\n",
              "      <td>0</td>\n",
              "      <td>0</td>\n",
              "      <td>0</td>\n",
              "      <td>0</td>\n",
              "      <td>0</td>\n",
              "      <td>0</td>\n",
              "      <td>0</td>\n",
              "      <td>0</td>\n",
              "      <td>0</td>\n",
              "      <td>0</td>\n",
              "      <td>0</td>\n",
              "      <td>0</td>\n",
              "      <td>0</td>\n",
              "      <td>0</td>\n",
              "      <td>0</td>\n",
              "      <td>0</td>\n",
              "      <td>0</td>\n",
              "      <td>0</td>\n",
              "      <td>0</td>\n",
              "      <td>0</td>\n",
              "      <td>0</td>\n",
              "      <td>0</td>\n",
              "      <td>0</td>\n",
              "      <td>0</td>\n",
              "      <td>0</td>\n",
              "      <td>0</td>\n",
              "      <td>0</td>\n",
              "      <td>0</td>\n",
              "      <td>0</td>\n",
              "      <td>0</td>\n",
              "      <td>0</td>\n",
              "      <td>0</td>\n",
              "      <td>0</td>\n",
              "      <td>0</td>\n",
              "      <td>0</td>\n",
              "    </tr>\n",
              "    <tr>\n",
              "      <th>3</th>\n",
              "      <td>4</td>\n",
              "      <td>0</td>\n",
              "      <td>0</td>\n",
              "      <td>0</td>\n",
              "      <td>0</td>\n",
              "      <td>0</td>\n",
              "      <td>0</td>\n",
              "      <td>0</td>\n",
              "      <td>0</td>\n",
              "      <td>0</td>\n",
              "      <td>0</td>\n",
              "      <td>0</td>\n",
              "      <td>0</td>\n",
              "      <td>0</td>\n",
              "      <td>0</td>\n",
              "      <td>0</td>\n",
              "      <td>0</td>\n",
              "      <td>0</td>\n",
              "      <td>0</td>\n",
              "      <td>0</td>\n",
              "      <td>0</td>\n",
              "      <td>0</td>\n",
              "      <td>0</td>\n",
              "      <td>0</td>\n",
              "      <td>0</td>\n",
              "      <td>0</td>\n",
              "      <td>0</td>\n",
              "      <td>0</td>\n",
              "      <td>0</td>\n",
              "      <td>0</td>\n",
              "      <td>0</td>\n",
              "      <td>0</td>\n",
              "      <td>0</td>\n",
              "      <td>0</td>\n",
              "      <td>0</td>\n",
              "      <td>0</td>\n",
              "      <td>0</td>\n",
              "      <td>0</td>\n",
              "      <td>0</td>\n",
              "      <td>0</td>\n",
              "      <td>...</td>\n",
              "      <td>0</td>\n",
              "      <td>0</td>\n",
              "      <td>0</td>\n",
              "      <td>0</td>\n",
              "      <td>0</td>\n",
              "      <td>0</td>\n",
              "      <td>0</td>\n",
              "      <td>0</td>\n",
              "      <td>0</td>\n",
              "      <td>0</td>\n",
              "      <td>0</td>\n",
              "      <td>0</td>\n",
              "      <td>0</td>\n",
              "      <td>0</td>\n",
              "      <td>0</td>\n",
              "      <td>0</td>\n",
              "      <td>0</td>\n",
              "      <td>0</td>\n",
              "      <td>0</td>\n",
              "      <td>0</td>\n",
              "      <td>0</td>\n",
              "      <td>0</td>\n",
              "      <td>0</td>\n",
              "      <td>0</td>\n",
              "      <td>0</td>\n",
              "      <td>0</td>\n",
              "      <td>0</td>\n",
              "      <td>0</td>\n",
              "      <td>0</td>\n",
              "      <td>0</td>\n",
              "      <td>0</td>\n",
              "      <td>0</td>\n",
              "      <td>0</td>\n",
              "      <td>0</td>\n",
              "      <td>0</td>\n",
              "      <td>0</td>\n",
              "      <td>0</td>\n",
              "      <td>0</td>\n",
              "      <td>0</td>\n",
              "      <td>0</td>\n",
              "    </tr>\n",
              "    <tr>\n",
              "      <th>4</th>\n",
              "      <td>0</td>\n",
              "      <td>0</td>\n",
              "      <td>0</td>\n",
              "      <td>0</td>\n",
              "      <td>0</td>\n",
              "      <td>0</td>\n",
              "      <td>0</td>\n",
              "      <td>0</td>\n",
              "      <td>0</td>\n",
              "      <td>0</td>\n",
              "      <td>0</td>\n",
              "      <td>0</td>\n",
              "      <td>0</td>\n",
              "      <td>0</td>\n",
              "      <td>0</td>\n",
              "      <td>0</td>\n",
              "      <td>0</td>\n",
              "      <td>0</td>\n",
              "      <td>0</td>\n",
              "      <td>0</td>\n",
              "      <td>0</td>\n",
              "      <td>0</td>\n",
              "      <td>0</td>\n",
              "      <td>0</td>\n",
              "      <td>0</td>\n",
              "      <td>0</td>\n",
              "      <td>0</td>\n",
              "      <td>0</td>\n",
              "      <td>0</td>\n",
              "      <td>0</td>\n",
              "      <td>0</td>\n",
              "      <td>0</td>\n",
              "      <td>0</td>\n",
              "      <td>0</td>\n",
              "      <td>0</td>\n",
              "      <td>0</td>\n",
              "      <td>0</td>\n",
              "      <td>0</td>\n",
              "      <td>0</td>\n",
              "      <td>0</td>\n",
              "      <td>...</td>\n",
              "      <td>0</td>\n",
              "      <td>0</td>\n",
              "      <td>0</td>\n",
              "      <td>0</td>\n",
              "      <td>0</td>\n",
              "      <td>0</td>\n",
              "      <td>0</td>\n",
              "      <td>0</td>\n",
              "      <td>0</td>\n",
              "      <td>0</td>\n",
              "      <td>0</td>\n",
              "      <td>0</td>\n",
              "      <td>0</td>\n",
              "      <td>0</td>\n",
              "      <td>0</td>\n",
              "      <td>0</td>\n",
              "      <td>0</td>\n",
              "      <td>0</td>\n",
              "      <td>0</td>\n",
              "      <td>0</td>\n",
              "      <td>0</td>\n",
              "      <td>0</td>\n",
              "      <td>0</td>\n",
              "      <td>0</td>\n",
              "      <td>0</td>\n",
              "      <td>0</td>\n",
              "      <td>0</td>\n",
              "      <td>0</td>\n",
              "      <td>0</td>\n",
              "      <td>0</td>\n",
              "      <td>0</td>\n",
              "      <td>0</td>\n",
              "      <td>0</td>\n",
              "      <td>0</td>\n",
              "      <td>0</td>\n",
              "      <td>0</td>\n",
              "      <td>0</td>\n",
              "      <td>0</td>\n",
              "      <td>0</td>\n",
              "      <td>0</td>\n",
              "    </tr>\n",
              "  </tbody>\n",
              "</table>\n",
              "<p>5 rows × 785 columns</p>\n",
              "</div>"
            ],
            "text/plain": [
              "   label  pixel0  pixel1  pixel2  ...  pixel780  pixel781  pixel782  pixel783\n",
              "0      1       0       0       0  ...         0         0         0         0\n",
              "1      0       0       0       0  ...         0         0         0         0\n",
              "2      1       0       0       0  ...         0         0         0         0\n",
              "3      4       0       0       0  ...         0         0         0         0\n",
              "4      0       0       0       0  ...         0         0         0         0\n",
              "\n",
              "[5 rows x 785 columns]"
            ]
          },
          "metadata": {
            "tags": []
          },
          "execution_count": 9
        }
      ]
    },
    {
      "cell_type": "code",
      "metadata": {
        "id": "UY9CoeuXGFmg",
        "colab_type": "code",
        "outputId": "36579418-8501-4044-bfe8-02dc328f9007",
        "trusted": true,
        "colab": {
          "base_uri": "https://localhost:8080/",
          "height": 34
        }
      },
      "source": [
        "df_features = df_train.iloc[:, 1:785]\n",
        "df_label = df_train.iloc[:, 0]\n",
        "\n",
        "X_test = df_test.iloc[:, 0:784]\n",
        "\n",
        "print(X_test.shape)"
      ],
      "execution_count": 10,
      "outputs": [
        {
          "output_type": "stream",
          "text": [
            "(28000, 784)\n"
          ],
          "name": "stdout"
        }
      ]
    },
    {
      "cell_type": "code",
      "metadata": {
        "id": "DCuTawlJGLp_",
        "colab_type": "code",
        "trusted": true,
        "outputId": "d1892caf-d6b5-4b3d-ab15-9ff50a2741dc",
        "colab": {
          "base_uri": "https://localhost:8080/",
          "height": 51
        }
      },
      "source": [
        "from sklearn.model_selection import train_test_split\n",
        "X_train, X_cv, y_train, y_cv = train_test_split(df_features, df_label, test_size = 0.2, random_state = 42)\n",
        "X_train = X_train.values.reshape(33600, 784) #(33600, 784)\n",
        "X_cv = X_cv.values.reshape(8400, 784) #(8400, 784)\n",
        "X_test = X_test.as_matrix().reshape(28000, 784)"
      ],
      "execution_count": 11,
      "outputs": [
        {
          "output_type": "stream",
          "text": [
            "/usr/local/lib/python3.6/dist-packages/ipykernel_launcher.py:5: FutureWarning: Method .as_matrix will be removed in a future version. Use .values instead.\n",
            "  \"\"\"\n"
          ],
          "name": "stderr"
        }
      ]
    },
    {
      "cell_type": "code",
      "metadata": {
        "trusted": true,
        "id": "h1NX580-THZE",
        "colab_type": "code",
        "outputId": "8e72d72e-00f8-494c-9a8a-ae7d113f76bb",
        "colab": {
          "base_uri": "https://localhost:8080/",
          "height": 34
        }
      },
      "source": [
        "X_train.shape, X_cv.shape, y_train.shape, X_test.shape"
      ],
      "execution_count": 12,
      "outputs": [
        {
          "output_type": "execute_result",
          "data": {
            "text/plain": [
              "((33600, 784), (8400, 784), (33600,), (28000, 784))"
            ]
          },
          "metadata": {
            "tags": []
          },
          "execution_count": 12
        }
      ]
    },
    {
      "cell_type": "code",
      "metadata": {
        "id": "rvGB1SvdGRoW",
        "colab_type": "code",
        "outputId": "814c4a13-a29c-42fe-8ba0-f4d1ecc61571",
        "trusted": true,
        "colab": {
          "base_uri": "https://localhost:8080/",
          "height": 34
        }
      },
      "source": [
        "print((min(X_train[1]), max(X_train[1])))"
      ],
      "execution_count": 13,
      "outputs": [
        {
          "output_type": "stream",
          "text": [
            "(0, 254)\n"
          ],
          "name": "stdout"
        }
      ]
    },
    {
      "cell_type": "code",
      "metadata": {
        "id": "bzjszcx3GZVW",
        "colab_type": "code",
        "trusted": true,
        "colab": {}
      },
      "source": [
        "# Feature Normalization \n",
        "X_train = X_train.astype('float32'); \n",
        "X_cv    = X_cv.astype('float32'); \n",
        "X_test  = X_test.astype('float32')\n",
        "X_train /= 255; \n",
        "X_cv    /= 255; \n",
        "X_test  /= 255\n",
        "\n",
        "# Convert labels to One Hot Encoded\n",
        "num_digits = 10\n",
        "y_train = keras.utils.to_categorical(y_train, num_digits)\n",
        "y_cv = keras.utils.to_categorical(y_cv, num_digits)"
      ],
      "execution_count": 0,
      "outputs": []
    },
    {
      "cell_type": "code",
      "metadata": {
        "trusted": true,
        "id": "BJW1LMZcTHZP",
        "colab_type": "code",
        "outputId": "a690f486-e323-4ae8-8ef5-c5a5d21fbacc",
        "colab": {
          "base_uri": "https://localhost:8080/",
          "height": 34
        }
      },
      "source": [
        "X_train.shape, X_cv.shape, y_train.shape, X_test.shape, y_cv.shape"
      ],
      "execution_count": 15,
      "outputs": [
        {
          "output_type": "execute_result",
          "data": {
            "text/plain": [
              "((33600, 784), (8400, 784), (33600, 10), (28000, 784), (8400, 10))"
            ]
          },
          "metadata": {
            "tags": []
          },
          "execution_count": 15
        }
      ]
    },
    {
      "cell_type": "code",
      "metadata": {
        "id": "y1PQXLg3GjtX",
        "colab_type": "code",
        "outputId": "da0d8ac9-c90f-45a8-d645-55d16a52f0f1",
        "trusted": true,
        "colab": {
          "base_uri": "https://localhost:8080/",
          "height": 51
        }
      },
      "source": [
        "# Printing 2 examples of labels after conversion\n",
        "print(y_train[0]) # 2\n",
        "print(y_train[3]) # 7"
      ],
      "execution_count": 16,
      "outputs": [
        {
          "output_type": "stream",
          "text": [
            "[0. 0. 0. 0. 0. 0. 1. 0. 0. 0.]\n",
            "[0. 0. 0. 0. 1. 0. 0. 0. 0. 0.]\n"
          ],
          "name": "stdout"
        }
      ]
    },
    {
      "cell_type": "markdown",
      "metadata": {
        "id": "-_jLHqBNG02H",
        "colab_type": "text"
      },
      "source": [
        "<font color=red size = 6>\n",
        "  Model Fitting <br>\n",
        "  <font color=brown size = 4>\n",
        "We proceed by fitting several simple neural network models using Keras (with TensorFlow as our backend) and collect their accuracy. The model that performs the best on the validation set will be used as the model of choice for the competition.\n",
        "<font color=red size = 6>\n",
        "Model 1: Simple Neural Network with 4 layers (300, 100, 100, 200)\n",
        "<font color=brown size = 4>\n",
        "In our first model, we will use the Keras library to train a neural network with the activation function set as ReLu. To determine which class to output, we will rely on the SoftMax function"
      ]
    },
    {
      "cell_type": "code",
      "metadata": {
        "id": "wFAP9bmdGtyS",
        "colab_type": "code",
        "trusted": true,
        "colab": {}
      },
      "source": [
        "# Input Parameters\n",
        "n_input = 784 # number of features\n",
        "n_hidden_1 = 300\n",
        "n_hidden_2 = 100\n",
        "n_hidden_3 = 100\n",
        "n_hidden_4 = 200\n",
        "num_digits = 10"
      ],
      "execution_count": 0,
      "outputs": []
    },
    {
      "cell_type": "code",
      "metadata": {
        "id": "I1astNyoHKg0",
        "colab_type": "code",
        "trusted": true,
        "outputId": "6f469535-0c14-4d9f-e6a5-85a98137a313",
        "colab": {
          "base_uri": "https://localhost:8080/",
          "height": 139
        }
      },
      "source": [
        "Inp = Input(shape=(784,))\n",
        "x = Dense(n_hidden_1, activation='relu', name = \"Hidden_Layer_1\")(Inp)\n",
        "x = Dense(n_hidden_2, activation='relu', name = \"Hidden_Layer_2\")(x)\n",
        "x = Dense(n_hidden_3, activation='relu', name = \"Hidden_Layer_3\")(x)\n",
        "x = Dense(n_hidden_4, activation='relu', name = \"Hidden_Layer_4\")(x)\n",
        "output = Dense(num_digits, activation='softmax', name = \"Output_Layer\")(x)"
      ],
      "execution_count": 18,
      "outputs": [
        {
          "output_type": "stream",
          "text": [
            "WARNING:tensorflow:From /usr/local/lib/python3.6/dist-packages/keras/backend/tensorflow_backend.py:66: The name tf.get_default_graph is deprecated. Please use tf.compat.v1.get_default_graph instead.\n",
            "\n",
            "WARNING:tensorflow:From /usr/local/lib/python3.6/dist-packages/keras/backend/tensorflow_backend.py:541: The name tf.placeholder is deprecated. Please use tf.compat.v1.placeholder instead.\n",
            "\n",
            "WARNING:tensorflow:From /usr/local/lib/python3.6/dist-packages/keras/backend/tensorflow_backend.py:4432: The name tf.random_uniform is deprecated. Please use tf.random.uniform instead.\n",
            "\n"
          ],
          "name": "stdout"
        }
      ]
    },
    {
      "cell_type": "code",
      "metadata": {
        "id": "EEIPasO2HPBM",
        "colab_type": "code",
        "outputId": "266c8656-d34e-4318-e6c1-15b7bb8dfad9",
        "trusted": true,
        "colab": {
          "base_uri": "https://localhost:8080/",
          "height": 357
        }
      },
      "source": [
        "# Our model would have '6' layers - input layer, 4 hidden layer and 1 output layer\n",
        "model = Model(Inp, output)\n",
        "model.summary() # We have 297,910 parameters to estimate"
      ],
      "execution_count": 19,
      "outputs": [
        {
          "output_type": "stream",
          "text": [
            "Model: \"model_1\"\n",
            "_________________________________________________________________\n",
            "Layer (type)                 Output Shape              Param #   \n",
            "=================================================================\n",
            "input_1 (InputLayer)         (None, 784)               0         \n",
            "_________________________________________________________________\n",
            "Hidden_Layer_1 (Dense)       (None, 300)               235500    \n",
            "_________________________________________________________________\n",
            "Hidden_Layer_2 (Dense)       (None, 100)               30100     \n",
            "_________________________________________________________________\n",
            "Hidden_Layer_3 (Dense)       (None, 100)               10100     \n",
            "_________________________________________________________________\n",
            "Hidden_Layer_4 (Dense)       (None, 200)               20200     \n",
            "_________________________________________________________________\n",
            "Output_Layer (Dense)         (None, 10)                2010      \n",
            "=================================================================\n",
            "Total params: 297,910\n",
            "Trainable params: 297,910\n",
            "Non-trainable params: 0\n",
            "_________________________________________________________________\n"
          ],
          "name": "stdout"
        }
      ]
    },
    {
      "cell_type": "code",
      "metadata": {
        "id": "QoBgqKXbHUEQ",
        "colab_type": "code",
        "trusted": true,
        "colab": {}
      },
      "source": [
        "# Insert Hyperparameters\n",
        "learning_rate = 0.1\n",
        "training_epochs = 20\n",
        "batch_size = 100\n",
        "sgd = optimizers.SGD(lr=learning_rate)"
      ],
      "execution_count": 0,
      "outputs": []
    },
    {
      "cell_type": "code",
      "metadata": {
        "id": "Fdf4AQkMHf44",
        "colab_type": "code",
        "trusted": true,
        "outputId": "a6a029be-225c-419a-da20-fafb128f4033",
        "colab": {
          "base_uri": "https://localhost:8080/",
          "height": 105
        }
      },
      "source": [
        "# We rely on the plain vanilla Stochastic Gradient Descent as our optimizing methodology\n",
        "model.compile(loss='categorical_crossentropy',\n",
        "              optimizer='sgd',\n",
        "              metrics=['accuracy'])"
      ],
      "execution_count": 21,
      "outputs": [
        {
          "output_type": "stream",
          "text": [
            "WARNING:tensorflow:From /usr/local/lib/python3.6/dist-packages/keras/optimizers.py:793: The name tf.train.Optimizer is deprecated. Please use tf.compat.v1.train.Optimizer instead.\n",
            "\n",
            "WARNING:tensorflow:From /usr/local/lib/python3.6/dist-packages/keras/backend/tensorflow_backend.py:3576: The name tf.log is deprecated. Please use tf.math.log instead.\n",
            "\n"
          ],
          "name": "stdout"
        }
      ]
    },
    {
      "cell_type": "code",
      "metadata": {
        "id": "w0wAzvQGHkwi",
        "colab_type": "code",
        "outputId": "d0c28c05-6a22-42a9-ff75-f9f534f26a54",
        "trusted": true,
        "colab": {
          "base_uri": "https://localhost:8080/",
          "height": 819
        }
      },
      "source": [
        "history1 = model.fit(X_train, y_train,\n",
        "                     batch_size = batch_size,\n",
        "                     epochs = training_epochs,\n",
        "                     verbose = 2,\n",
        "                     validation_data=(X_cv, y_cv))"
      ],
      "execution_count": 22,
      "outputs": [
        {
          "output_type": "stream",
          "text": [
            "WARNING:tensorflow:From /usr/local/lib/python3.6/dist-packages/tensorflow/python/ops/math_grad.py:1250: add_dispatch_support.<locals>.wrapper (from tensorflow.python.ops.array_ops) is deprecated and will be removed in a future version.\n",
            "Instructions for updating:\n",
            "Use tf.where in 2.0, which has the same broadcast rule as np.where\n",
            "WARNING:tensorflow:From /usr/local/lib/python3.6/dist-packages/keras/backend/tensorflow_backend.py:1033: The name tf.assign_add is deprecated. Please use tf.compat.v1.assign_add instead.\n",
            "\n",
            "Train on 33600 samples, validate on 8400 samples\n",
            "Epoch 1/20\n",
            " - 3s - loss: 1.8533 - acc: 0.4954 - val_loss: 1.0049 - val_acc: 0.7668\n",
            "Epoch 2/20\n",
            " - 2s - loss: 0.6461 - acc: 0.8321 - val_loss: 0.4725 - val_acc: 0.8657\n",
            "Epoch 3/20\n",
            " - 2s - loss: 0.4057 - acc: 0.8847 - val_loss: 0.3679 - val_acc: 0.8935\n",
            "Epoch 4/20\n",
            " - 2s - loss: 0.3347 - acc: 0.9032 - val_loss: 0.3300 - val_acc: 0.9002\n",
            "Epoch 5/20\n",
            " - 2s - loss: 0.2962 - acc: 0.9137 - val_loss: 0.2956 - val_acc: 0.9136\n",
            "Epoch 6/20\n",
            " - 2s - loss: 0.2668 - acc: 0.9227 - val_loss: 0.2716 - val_acc: 0.9208\n",
            "Epoch 7/20\n",
            " - 2s - loss: 0.2442 - acc: 0.9281 - val_loss: 0.2686 - val_acc: 0.9204\n",
            "Epoch 8/20\n",
            " - 2s - loss: 0.2248 - acc: 0.9339 - val_loss: 0.2369 - val_acc: 0.9319\n",
            "Epoch 9/20\n",
            " - 2s - loss: 0.2085 - acc: 0.9390 - val_loss: 0.2268 - val_acc: 0.9350\n",
            "Epoch 10/20\n",
            " - 2s - loss: 0.1948 - acc: 0.9435 - val_loss: 0.2108 - val_acc: 0.9407\n",
            "Epoch 11/20\n",
            " - 2s - loss: 0.1814 - acc: 0.9473 - val_loss: 0.2011 - val_acc: 0.9426\n",
            "Epoch 12/20\n",
            " - 2s - loss: 0.1704 - acc: 0.9500 - val_loss: 0.1922 - val_acc: 0.9440\n",
            "Epoch 13/20\n",
            " - 2s - loss: 0.1608 - acc: 0.9540 - val_loss: 0.1810 - val_acc: 0.9474\n",
            "Epoch 14/20\n",
            " - 2s - loss: 0.1505 - acc: 0.9572 - val_loss: 0.1758 - val_acc: 0.9477\n",
            "Epoch 15/20\n",
            " - 2s - loss: 0.1425 - acc: 0.9581 - val_loss: 0.1674 - val_acc: 0.9512\n",
            "Epoch 16/20\n",
            " - 2s - loss: 0.1353 - acc: 0.9606 - val_loss: 0.1637 - val_acc: 0.9523\n",
            "Epoch 17/20\n",
            " - 2s - loss: 0.1276 - acc: 0.9629 - val_loss: 0.1580 - val_acc: 0.9530\n",
            "Epoch 18/20\n",
            " - 2s - loss: 0.1208 - acc: 0.9654 - val_loss: 0.1573 - val_acc: 0.9518\n",
            "Epoch 19/20\n",
            " - 2s - loss: 0.1153 - acc: 0.9668 - val_loss: 0.1468 - val_acc: 0.9570\n",
            "Epoch 20/20\n",
            " - 2s - loss: 0.1093 - acc: 0.9690 - val_loss: 0.1451 - val_acc: 0.9590\n"
          ],
          "name": "stdout"
        }
      ]
    },
    {
      "cell_type": "code",
      "metadata": {
        "trusted": true,
        "id": "ywVSg9WfTHZ9",
        "colab_type": "code",
        "outputId": "8b8bc0c0-6b5c-4bde-fa33-baa6b18df197",
        "colab": {
          "base_uri": "https://localhost:8080/",
          "height": 51
        }
      },
      "source": [
        "_, val_acc1 = model.evaluate(X_cv, y_cv)\n",
        "print (val_acc1)"
      ],
      "execution_count": 23,
      "outputs": [
        {
          "output_type": "stream",
          "text": [
            "8400/8400 [==============================] - 1s 60us/step\n",
            "0.959047619047619\n"
          ],
          "name": "stdout"
        }
      ]
    },
    {
      "cell_type": "markdown",
      "metadata": {
        "id": "3D_rc2N0Il_n",
        "colab_type": "text"
      },
      "source": [
        "<font color=blue size = 4> \n",
        "Using a 4 layer neural network with:\n",
        "20 training epochs\n",
        "A training batch size of 100\n",
        "Hidden layers set as (300, 100, 100, 200)\n",
        "Learning rate of 0.1\n",
        "Achieved Validation Accuracy (score) of around 95%. Do not consider Train Accuracy as it would(should) be close to 100%, since the model is getting trainned and exposed to all the Training data. We should concentrate on validation accuracy as that model has not seen that data. \n",
        "<br><font color=red size = 4>\n",
        "Can we do better if we were to change the optimizer? To find out, we use the Adam optimizer for our second model, while maintaining the same parameter values for all other parameters"
      ]
    },
    {
      "cell_type": "code",
      "metadata": {
        "id": "OGW8AvTBHx_Y",
        "colab_type": "code",
        "trusted": true,
        "colab": {}
      },
      "source": [
        "Inp = Input(shape=(784,))\n",
        "x = Dense(n_hidden_1, activation='relu', name = \"Hidden_Layer_1\")(Inp)\n",
        "x = Dense(n_hidden_2, activation='relu', name = \"Hidden_Layer_2\")(x)\n",
        "x = Dense(n_hidden_3, activation='relu', name = \"Hidden_Layer_3\")(x)\n",
        "x = Dense(n_hidden_4, activation='relu', name = \"Hidden_Layer_4\")(x)\n",
        "output = Dense(num_digits, activation='softmax', name = \"Output_Layer\")(x)\n",
        "\n",
        "# We rely on ADAM as our optimizing methodology\n",
        "adam = keras.optimizers.Adam(lr=learning_rate)\n",
        "model2 = Model(Inp, output)\n",
        "\n",
        "model2.compile(loss='categorical_crossentropy',\n",
        "              optimizer='adam',\n",
        "              metrics=['accuracy'])"
      ],
      "execution_count": 0,
      "outputs": []
    },
    {
      "cell_type": "code",
      "metadata": {
        "id": "YJqouG8zI4mg",
        "colab_type": "code",
        "outputId": "d3c98700-148e-48c9-d607-4143408a9188",
        "trusted": true,
        "colab": {
          "base_uri": "https://localhost:8080/",
          "height": 714
        }
      },
      "source": [
        "history2 = model2.fit(X_train, y_train,\n",
        "                      batch_size = batch_size,\n",
        "                      epochs = training_epochs,\n",
        "                      verbose = 2,\n",
        "                      validation_data=(X_cv, y_cv))"
      ],
      "execution_count": 25,
      "outputs": [
        {
          "output_type": "stream",
          "text": [
            "Train on 33600 samples, validate on 8400 samples\n",
            "Epoch 1/20\n",
            " - 3s - loss: 0.3423 - acc: 0.8979 - val_loss: 0.1876 - val_acc: 0.9444\n",
            "Epoch 2/20\n",
            " - 3s - loss: 0.1234 - acc: 0.9617 - val_loss: 0.1393 - val_acc: 0.9596\n",
            "Epoch 3/20\n",
            " - 3s - loss: 0.0829 - acc: 0.9746 - val_loss: 0.1041 - val_acc: 0.9675\n",
            "Epoch 4/20\n",
            " - 3s - loss: 0.0572 - acc: 0.9815 - val_loss: 0.1072 - val_acc: 0.9686\n",
            "Epoch 5/20\n",
            " - 3s - loss: 0.0446 - acc: 0.9854 - val_loss: 0.0933 - val_acc: 0.9732\n",
            "Epoch 6/20\n",
            " - 3s - loss: 0.0349 - acc: 0.9888 - val_loss: 0.1014 - val_acc: 0.9704\n",
            "Epoch 7/20\n",
            " - 3s - loss: 0.0286 - acc: 0.9899 - val_loss: 0.1100 - val_acc: 0.9711\n",
            "Epoch 8/20\n",
            " - 3s - loss: 0.0309 - acc: 0.9907 - val_loss: 0.1292 - val_acc: 0.9667\n",
            "Epoch 9/20\n",
            " - 3s - loss: 0.0236 - acc: 0.9923 - val_loss: 0.0952 - val_acc: 0.9745\n",
            "Epoch 10/20\n",
            " - 3s - loss: 0.0194 - acc: 0.9939 - val_loss: 0.1235 - val_acc: 0.9694\n",
            "Epoch 11/20\n",
            " - 3s - loss: 0.0201 - acc: 0.9933 - val_loss: 0.1270 - val_acc: 0.9679\n",
            "Epoch 12/20\n",
            " - 3s - loss: 0.0145 - acc: 0.9953 - val_loss: 0.1590 - val_acc: 0.9677\n",
            "Epoch 13/20\n",
            " - 3s - loss: 0.0208 - acc: 0.9934 - val_loss: 0.1272 - val_acc: 0.9707\n",
            "Epoch 14/20\n",
            " - 3s - loss: 0.0166 - acc: 0.9946 - val_loss: 0.1093 - val_acc: 0.9755\n",
            "Epoch 15/20\n",
            " - 3s - loss: 0.0122 - acc: 0.9961 - val_loss: 0.1379 - val_acc: 0.9731\n",
            "Epoch 16/20\n",
            " - 3s - loss: 0.0103 - acc: 0.9963 - val_loss: 0.1303 - val_acc: 0.9729\n",
            "Epoch 17/20\n",
            " - 3s - loss: 0.0179 - acc: 0.9943 - val_loss: 0.1143 - val_acc: 0.9723\n",
            "Epoch 18/20\n",
            " - 3s - loss: 0.0179 - acc: 0.9945 - val_loss: 0.1176 - val_acc: 0.9744\n",
            "Epoch 19/20\n",
            " - 3s - loss: 0.0083 - acc: 0.9974 - val_loss: 0.1424 - val_acc: 0.9721\n",
            "Epoch 20/20\n",
            " - 3s - loss: 0.0155 - acc: 0.9952 - val_loss: 0.1258 - val_acc: 0.9711\n"
          ],
          "name": "stdout"
        }
      ]
    },
    {
      "cell_type": "code",
      "metadata": {
        "trusted": true,
        "id": "VSxBLiZZTHaY",
        "colab_type": "code",
        "outputId": "d48ab717-a0aa-4eb2-f4b4-dd2f7a70cd45",
        "colab": {
          "base_uri": "https://localhost:8080/",
          "height": 51
        }
      },
      "source": [
        "_, val_acc2 = model2.evaluate(X_cv, y_cv)\n",
        "print (val_acc2)"
      ],
      "execution_count": 26,
      "outputs": [
        {
          "output_type": "stream",
          "text": [
            "8400/8400 [==============================] - 0s 57us/step\n",
            "0.9710714285714286\n"
          ],
          "name": "stdout"
        }
      ]
    },
    {
      "cell_type": "markdown",
      "metadata": {
        "id": "ztnHN71lJQek",
        "colab_type": "text"
      },
      "source": [
        "<font color=green size=4>\n",
        "  As it turns out, it does appear to be the case that the optimizer plays a crucial part in the validation score. In particular, the model which relies on 'Adam' as its optimizer tend to perform 1.5 - 2.5% better on average. Going forward, we will use 'Adam' as our optimizer of choice.\n",
        "<br><font color=brown size=4>\n",
        "What if we changed the learning rate from 0.1 to 0.01, or 0.5? Will it have any impact on the accuracy? Model 2A"
      ]
    },
    {
      "cell_type": "code",
      "metadata": {
        "id": "wEG1R2SUI8Gl",
        "colab_type": "code",
        "trusted": true,
        "colab": {}
      },
      "source": [
        "Inp = Input(shape=(784,))\n",
        "x = Dense(n_hidden_1, activation='relu', name = \"Hidden_Layer_1\")(Inp)\n",
        "x = Dense(n_hidden_2, activation='relu', name = \"Hidden_Layer_2\")(x)\n",
        "x = Dense(n_hidden_3, activation='relu', name = \"Hidden_Layer_3\")(x)\n",
        "x = Dense(n_hidden_4, activation='relu', name = \"Hidden_Layer_4\")(x)\n",
        "output = Dense(num_digits, activation='softmax', name = \"Output_Layer\")(x)\n",
        "\n",
        "learning_rate = 0.01\n",
        "adam = keras.optimizers.Adam(lr=learning_rate)\n",
        "model2a = Model(Inp, output)\n",
        "\n",
        "model2a.compile(loss='categorical_crossentropy',\n",
        "              optimizer='adam',\n",
        "              metrics=['accuracy'])"
      ],
      "execution_count": 0,
      "outputs": []
    },
    {
      "cell_type": "code",
      "metadata": {
        "id": "YQuIfkvQJbSW",
        "colab_type": "code",
        "outputId": "cb62b605-d18a-4909-fac9-fef91cad1bfe",
        "trusted": true,
        "colab": {
          "base_uri": "https://localhost:8080/",
          "height": 714
        }
      },
      "source": [
        "history2a = model2a.fit(X_train, y_train,\n",
        "                        batch_size = batch_size,\n",
        "                        epochs = training_epochs,\n",
        "                        verbose = 2,\n",
        "                        validation_data=(X_cv, y_cv))"
      ],
      "execution_count": 28,
      "outputs": [
        {
          "output_type": "stream",
          "text": [
            "Train on 33600 samples, validate on 8400 samples\n",
            "Epoch 1/20\n",
            " - 3s - loss: 0.3340 - acc: 0.8996 - val_loss: 0.1573 - val_acc: 0.9527\n",
            "Epoch 2/20\n",
            " - 3s - loss: 0.1248 - acc: 0.9627 - val_loss: 0.1349 - val_acc: 0.9581\n",
            "Epoch 3/20\n",
            " - 3s - loss: 0.0797 - acc: 0.9762 - val_loss: 0.1383 - val_acc: 0.9590\n",
            "Epoch 4/20\n",
            " - 3s - loss: 0.0596 - acc: 0.9808 - val_loss: 0.0969 - val_acc: 0.9704\n",
            "Epoch 5/20\n",
            " - 3s - loss: 0.0449 - acc: 0.9860 - val_loss: 0.1166 - val_acc: 0.9675\n",
            "Epoch 6/20\n",
            " - 3s - loss: 0.0359 - acc: 0.9883 - val_loss: 0.1217 - val_acc: 0.9673\n",
            "Epoch 7/20\n",
            " - 3s - loss: 0.0301 - acc: 0.9903 - val_loss: 0.0966 - val_acc: 0.9750\n",
            "Epoch 8/20\n",
            " - 3s - loss: 0.0231 - acc: 0.9927 - val_loss: 0.1129 - val_acc: 0.9712\n",
            "Epoch 9/20\n",
            " - 3s - loss: 0.0225 - acc: 0.9926 - val_loss: 0.1155 - val_acc: 0.9692\n",
            "Epoch 10/20\n",
            " - 3s - loss: 0.0217 - acc: 0.9928 - val_loss: 0.1467 - val_acc: 0.9669\n",
            "Epoch 11/20\n",
            " - 3s - loss: 0.0221 - acc: 0.9928 - val_loss: 0.1114 - val_acc: 0.9739\n",
            "Epoch 12/20\n",
            " - 3s - loss: 0.0185 - acc: 0.9943 - val_loss: 0.1120 - val_acc: 0.9712\n",
            "Epoch 13/20\n",
            " - 3s - loss: 0.0201 - acc: 0.9935 - val_loss: 0.1225 - val_acc: 0.9736\n",
            "Epoch 14/20\n",
            " - 3s - loss: 0.0118 - acc: 0.9963 - val_loss: 0.1455 - val_acc: 0.9704\n",
            "Epoch 15/20\n",
            " - 3s - loss: 0.0163 - acc: 0.9943 - val_loss: 0.1479 - val_acc: 0.9711\n",
            "Epoch 16/20\n",
            " - 3s - loss: 0.0167 - acc: 0.9946 - val_loss: 0.1312 - val_acc: 0.9715\n",
            "Epoch 17/20\n",
            " - 3s - loss: 0.0106 - acc: 0.9965 - val_loss: 0.1323 - val_acc: 0.9726\n",
            "Epoch 18/20\n",
            " - 3s - loss: 0.0131 - acc: 0.9960 - val_loss: 0.1479 - val_acc: 0.9731\n",
            "Epoch 19/20\n",
            " - 3s - loss: 0.0115 - acc: 0.9968 - val_loss: 0.1374 - val_acc: 0.9757\n",
            "Epoch 20/20\n",
            " - 3s - loss: 0.0074 - acc: 0.9980 - val_loss: 0.1335 - val_acc: 0.9742\n"
          ],
          "name": "stdout"
        }
      ]
    },
    {
      "cell_type": "code",
      "metadata": {
        "trusted": true,
        "id": "sY4ZfxKsTHaq",
        "colab_type": "code",
        "outputId": "260d67a3-7ece-4a59-bb22-a441957ed207",
        "colab": {
          "base_uri": "https://localhost:8080/",
          "height": 51
        }
      },
      "source": [
        "_, val_acc2a = model2a.evaluate(X_cv, y_cv)\n",
        "print (val_acc2a)"
      ],
      "execution_count": 29,
      "outputs": [
        {
          "output_type": "stream",
          "text": [
            "8400/8400 [==============================] - 0s 58us/step\n",
            "0.9741666666666666\n"
          ],
          "name": "stdout"
        }
      ]
    },
    {
      "cell_type": "markdown",
      "metadata": {
        "id": "gvB_T9T_J0Xi",
        "colab_type": "text"
      },
      "source": [
        "<font color=green size=5>\n",
        "  Model 2B"
      ]
    },
    {
      "cell_type": "code",
      "metadata": {
        "id": "v0pMcQCyJew4",
        "colab_type": "code",
        "trusted": true,
        "colab": {}
      },
      "source": [
        "Inp = Input(shape=(784,))\n",
        "x = Dense(n_hidden_1, activation='relu', name = \"Hidden_Layer_1\")(Inp)\n",
        "x = Dense(n_hidden_2, activation='relu', name = \"Hidden_Layer_2\")(x)\n",
        "x = Dense(n_hidden_3, activation='relu', name = \"Hidden_Layer_3\")(x)\n",
        "x = Dense(n_hidden_4, activation='relu', name = \"Hidden_Layer_4\")(x)\n",
        "output = Dense(num_digits, activation='softmax', name = \"Output_Layer\")(x)\n",
        "\n",
        "learning_rate = 0.5\n",
        "adam = keras.optimizers.Adam(lr=learning_rate)\n",
        "model2b = Model(Inp, output)\n",
        "\n",
        "model2b.compile(loss='categorical_crossentropy',\n",
        "              optimizer='adam',\n",
        "              metrics=['accuracy'])"
      ],
      "execution_count": 0,
      "outputs": []
    },
    {
      "cell_type": "code",
      "metadata": {
        "id": "uyGCf3FWJ5DP",
        "colab_type": "code",
        "outputId": "8d1c8804-8aa9-410a-9b2b-30016e7ab641",
        "trusted": true,
        "colab": {
          "base_uri": "https://localhost:8080/",
          "height": 714
        }
      },
      "source": [
        "history2b = model2b.fit(X_train, y_train,\n",
        "                        batch_size = batch_size,\n",
        "                        epochs = training_epochs,\n",
        "                            validation_data=(X_cv, y_cv))"
      ],
      "execution_count": 31,
      "outputs": [
        {
          "output_type": "stream",
          "text": [
            "Train on 33600 samples, validate on 8400 samples\n",
            "Epoch 1/20\n",
            "33600/33600 [==============================] - 3s 99us/step - loss: 0.3434 - acc: 0.8972 - val_loss: 0.1776 - val_acc: 0.9481\n",
            "Epoch 2/20\n",
            "33600/33600 [==============================] - 3s 81us/step - loss: 0.1239 - acc: 0.9624 - val_loss: 0.1194 - val_acc: 0.9623\n",
            "Epoch 3/20\n",
            "33600/33600 [==============================] - 3s 85us/step - loss: 0.0826 - acc: 0.9743 - val_loss: 0.1229 - val_acc: 0.9613\n",
            "Epoch 4/20\n",
            "33600/33600 [==============================] - 3s 89us/step - loss: 0.0579 - acc: 0.9821 - val_loss: 0.1191 - val_acc: 0.9637\n",
            "Epoch 5/20\n",
            "33600/33600 [==============================] - 3s 88us/step - loss: 0.0473 - acc: 0.9842 - val_loss: 0.0917 - val_acc: 0.9711\n",
            "Epoch 6/20\n",
            "33600/33600 [==============================] - 3s 87us/step - loss: 0.0340 - acc: 0.9894 - val_loss: 0.1101 - val_acc: 0.9682\n",
            "Epoch 7/20\n",
            "33600/33600 [==============================] - 3s 88us/step - loss: 0.0338 - acc: 0.9888 - val_loss: 0.1098 - val_acc: 0.9682\n",
            "Epoch 8/20\n",
            "33600/33600 [==============================] - 3s 81us/step - loss: 0.0245 - acc: 0.9926 - val_loss: 0.1041 - val_acc: 0.9729\n",
            "Epoch 9/20\n",
            "33600/33600 [==============================] - 3s 85us/step - loss: 0.0245 - acc: 0.9921 - val_loss: 0.1037 - val_acc: 0.9740\n",
            "Epoch 10/20\n",
            "33600/33600 [==============================] - 3s 82us/step - loss: 0.0234 - acc: 0.9919 - val_loss: 0.1191 - val_acc: 0.9702\n",
            "Epoch 11/20\n",
            "33600/33600 [==============================] - 3s 81us/step - loss: 0.0188 - acc: 0.9936 - val_loss: 0.1214 - val_acc: 0.9729\n",
            "Epoch 12/20\n",
            "33600/33600 [==============================] - 3s 82us/step - loss: 0.0192 - acc: 0.9934 - val_loss: 0.1296 - val_acc: 0.9677\n",
            "Epoch 13/20\n",
            "33600/33600 [==============================] - 3s 80us/step - loss: 0.0166 - acc: 0.9947 - val_loss: 0.1211 - val_acc: 0.9735\n",
            "Epoch 14/20\n",
            "33600/33600 [==============================] - 3s 83us/step - loss: 0.0125 - acc: 0.9962 - val_loss: 0.1244 - val_acc: 0.9733\n",
            "Epoch 15/20\n",
            "33600/33600 [==============================] - 3s 84us/step - loss: 0.0116 - acc: 0.9965 - val_loss: 0.1445 - val_acc: 0.9706\n",
            "Epoch 16/20\n",
            "33600/33600 [==============================] - 3s 83us/step - loss: 0.0209 - acc: 0.9938 - val_loss: 0.1155 - val_acc: 0.9752\n",
            "Epoch 17/20\n",
            "33600/33600 [==============================] - 3s 81us/step - loss: 0.0106 - acc: 0.9964 - val_loss: 0.1295 - val_acc: 0.9727\n",
            "Epoch 18/20\n",
            "33600/33600 [==============================] - 3s 82us/step - loss: 0.0077 - acc: 0.9976 - val_loss: 0.1240 - val_acc: 0.9773\n",
            "Epoch 19/20\n",
            "33600/33600 [==============================] - 3s 81us/step - loss: 0.0170 - acc: 0.9947 - val_loss: 0.1327 - val_acc: 0.9721\n",
            "Epoch 20/20\n",
            "33600/33600 [==============================] - 3s 82us/step - loss: 0.0116 - acc: 0.9966 - val_loss: 0.1214 - val_acc: 0.9737\n"
          ],
          "name": "stdout"
        }
      ]
    },
    {
      "cell_type": "code",
      "metadata": {
        "trusted": true,
        "id": "HfVuhPTfTHa5",
        "colab_type": "code",
        "outputId": "1fd247f3-62c2-49ab-87fd-7cebbce65b35",
        "colab": {
          "base_uri": "https://localhost:8080/",
          "height": 51
        }
      },
      "source": [
        "_, val_acc2b = model2b.evaluate(X_cv, y_cv)\n",
        "print (val_acc2b)"
      ],
      "execution_count": 32,
      "outputs": [
        {
          "output_type": "stream",
          "text": [
            "8400/8400 [==============================] - 0s 59us/step\n",
            "0.9736904761904762\n"
          ],
          "name": "stdout"
        }
      ]
    },
    {
      "cell_type": "markdown",
      "metadata": {
        "id": "ailqmuwlKQPM",
        "colab_type": "text"
      },
      "source": [
        "<font color=red size = 4> \n",
        "  The accuracy, as measured by the 3 different learning rates 0.01, 0.1 and 0.5 are around 98%, 97% and 98% respectively. As there are no considerable gains by changing the learning rates, we stick with the default learning rate of 0.01.\n",
        "<br><font color=brown size = 4> <br>\n",
        "We proceed to fit a neural network with 5 hidden layers with the features in the hidden layer set as (300, 100, 100, 100, 200) respectively. To ensure that the two models are comparable, we will set the training epochs as 20, and the training batch size as 100."
      ]
    },
    {
      "cell_type": "code",
      "metadata": {
        "id": "sTH2fON4J7Wy",
        "colab_type": "code",
        "trusted": true,
        "colab": {}
      },
      "source": [
        "# Input Parameters\n",
        "n_input = 784 # number of features\n",
        "n_hidden_1 = 300\n",
        "n_hidden_2 = 100\n",
        "n_hidden_3 = 100\n",
        "n_hidden_4 = 100\n",
        "n_hidden_5 = 200\n",
        "num_digits = 10"
      ],
      "execution_count": 0,
      "outputs": []
    },
    {
      "cell_type": "code",
      "metadata": {
        "id": "DEF8bTTTKd_6",
        "colab_type": "code",
        "trusted": true,
        "colab": {}
      },
      "source": [
        "Inp = Input(shape=(784,))\n",
        "x = Dense(n_hidden_1, activation='relu', name = \"Hidden_Layer_1\")(Inp)\n",
        "x = Dense(n_hidden_2, activation='relu', name = \"Hidden_Layer_2\")(x)\n",
        "x = Dense(n_hidden_3, activation='relu', name = \"Hidden_Layer_3\")(x)\n",
        "x = Dense(n_hidden_4, activation='relu', name = \"Hidden_Layer_4\")(x)\n",
        "x = Dense(n_hidden_5, activation='relu', name = \"Hidden_Layer_5\")(x)\n",
        "output = Dense(num_digits, activation='softmax', name = \"Output_Layer\")(x)"
      ],
      "execution_count": 0,
      "outputs": []
    },
    {
      "cell_type": "code",
      "metadata": {
        "id": "rU5pX0dBKgjA",
        "colab_type": "code",
        "outputId": "f0469ea7-f0e9-44ac-d5b2-88a52e2b00d7",
        "trusted": true,
        "colab": {
          "base_uri": "https://localhost:8080/",
          "height": 391
        }
      },
      "source": [
        "# Our model would have '7' layers - input layer, 5 hidden layer and 1 output layer\n",
        "model3 = Model(Inp, output)\n",
        "model3.summary() # We have 308,010 parameters to estimate"
      ],
      "execution_count": 35,
      "outputs": [
        {
          "output_type": "stream",
          "text": [
            "Model: \"model_5\"\n",
            "_________________________________________________________________\n",
            "Layer (type)                 Output Shape              Param #   \n",
            "=================================================================\n",
            "input_5 (InputLayer)         (None, 784)               0         \n",
            "_________________________________________________________________\n",
            "Hidden_Layer_1 (Dense)       (None, 300)               235500    \n",
            "_________________________________________________________________\n",
            "Hidden_Layer_2 (Dense)       (None, 100)               30100     \n",
            "_________________________________________________________________\n",
            "Hidden_Layer_3 (Dense)       (None, 100)               10100     \n",
            "_________________________________________________________________\n",
            "Hidden_Layer_4 (Dense)       (None, 100)               10100     \n",
            "_________________________________________________________________\n",
            "Hidden_Layer_5 (Dense)       (None, 200)               20200     \n",
            "_________________________________________________________________\n",
            "Output_Layer (Dense)         (None, 10)                2010      \n",
            "=================================================================\n",
            "Total params: 308,010\n",
            "Trainable params: 308,010\n",
            "Non-trainable params: 0\n",
            "_________________________________________________________________\n"
          ],
          "name": "stdout"
        }
      ]
    },
    {
      "cell_type": "code",
      "metadata": {
        "id": "sXNwm2PWKkST",
        "colab_type": "code",
        "outputId": "a38e299e-826d-41dc-bff6-ff3c956c2467",
        "trusted": true,
        "colab": {
          "base_uri": "https://localhost:8080/",
          "height": 714
        }
      },
      "source": [
        "# We rely on 'Adam' as our optimizing methodology\n",
        "adam = keras.optimizers.Adam(lr=0.01)\n",
        "\n",
        "model3.compile(loss='categorical_crossentropy',\n",
        "              optimizer='adam',\n",
        "              metrics=['accuracy'])\n",
        "\n",
        "history3 = model3.fit(X_train, y_train,\n",
        "                      batch_size = batch_size,\n",
        "                      epochs = training_epochs,\n",
        "                      validation_data=(X_cv, y_cv))"
      ],
      "execution_count": 36,
      "outputs": [
        {
          "output_type": "stream",
          "text": [
            "Train on 33600 samples, validate on 8400 samples\n",
            "Epoch 1/20\n",
            "33600/33600 [==============================] - 4s 107us/step - loss: 0.3581 - acc: 0.8898 - val_loss: 0.1675 - val_acc: 0.9495\n",
            "Epoch 2/20\n",
            "33600/33600 [==============================] - 3s 86us/step - loss: 0.1235 - acc: 0.9616 - val_loss: 0.1196 - val_acc: 0.9626\n",
            "Epoch 3/20\n",
            "33600/33600 [==============================] - 3s 87us/step - loss: 0.0847 - acc: 0.9729 - val_loss: 0.1075 - val_acc: 0.9686\n",
            "Epoch 4/20\n",
            "33600/33600 [==============================] - 3s 87us/step - loss: 0.0642 - acc: 0.9796 - val_loss: 0.1213 - val_acc: 0.9651\n",
            "Epoch 5/20\n",
            "33600/33600 [==============================] - 3s 87us/step - loss: 0.0453 - acc: 0.9864 - val_loss: 0.1049 - val_acc: 0.9705\n",
            "Epoch 6/20\n",
            "33600/33600 [==============================] - 3s 86us/step - loss: 0.0395 - acc: 0.9867 - val_loss: 0.1120 - val_acc: 0.9688\n",
            "Epoch 7/20\n",
            "33600/33600 [==============================] - 3s 87us/step - loss: 0.0320 - acc: 0.9893 - val_loss: 0.1271 - val_acc: 0.9676\n",
            "Epoch 8/20\n",
            "33600/33600 [==============================] - 3s 87us/step - loss: 0.0296 - acc: 0.9906 - val_loss: 0.1059 - val_acc: 0.9723\n",
            "Epoch 9/20\n",
            "33600/33600 [==============================] - 3s 89us/step - loss: 0.0272 - acc: 0.9910 - val_loss: 0.1291 - val_acc: 0.9688\n",
            "Epoch 10/20\n",
            "33600/33600 [==============================] - 3s 86us/step - loss: 0.0237 - acc: 0.9926 - val_loss: 0.1091 - val_acc: 0.9721\n",
            "Epoch 11/20\n",
            "33600/33600 [==============================] - 3s 86us/step - loss: 0.0220 - acc: 0.9926 - val_loss: 0.1107 - val_acc: 0.9737\n",
            "Epoch 12/20\n",
            "33600/33600 [==============================] - 3s 85us/step - loss: 0.0144 - acc: 0.9959 - val_loss: 0.1404 - val_acc: 0.9714\n",
            "Epoch 13/20\n",
            "33600/33600 [==============================] - 3s 86us/step - loss: 0.0199 - acc: 0.9938 - val_loss: 0.1317 - val_acc: 0.9723\n",
            "Epoch 14/20\n",
            "33600/33600 [==============================] - 3s 88us/step - loss: 0.0174 - acc: 0.9946 - val_loss: 0.1358 - val_acc: 0.9707\n",
            "Epoch 15/20\n",
            "33600/33600 [==============================] - 3s 85us/step - loss: 0.0202 - acc: 0.9935 - val_loss: 0.1088 - val_acc: 0.9750\n",
            "Epoch 16/20\n",
            "33600/33600 [==============================] - 3s 87us/step - loss: 0.0179 - acc: 0.9942 - val_loss: 0.1242 - val_acc: 0.9718\n",
            "Epoch 17/20\n",
            "33600/33600 [==============================] - 3s 87us/step - loss: 0.0097 - acc: 0.9970 - val_loss: 0.1394 - val_acc: 0.9715\n",
            "Epoch 18/20\n",
            "33600/33600 [==============================] - 3s 86us/step - loss: 0.0157 - acc: 0.9951 - val_loss: 0.1350 - val_acc: 0.9713\n",
            "Epoch 19/20\n",
            "33600/33600 [==============================] - 3s 85us/step - loss: 0.0138 - acc: 0.9958 - val_loss: 0.1434 - val_acc: 0.9723\n",
            "Epoch 20/20\n",
            "33600/33600 [==============================] - 3s 87us/step - loss: 0.0122 - acc: 0.9966 - val_loss: 0.1174 - val_acc: 0.9757\n"
          ],
          "name": "stdout"
        }
      ]
    },
    {
      "cell_type": "code",
      "metadata": {
        "trusted": true,
        "id": "jLQrK_tETHbR",
        "colab_type": "code",
        "outputId": "abb5031f-030c-4f84-dc9b-36a3bdd28d27",
        "colab": {
          "base_uri": "https://localhost:8080/",
          "height": 51
        }
      },
      "source": [
        "_, val_acc3 = model3.evaluate(X_cv, y_cv)\n",
        "print (val_acc3)"
      ],
      "execution_count": 37,
      "outputs": [
        {
          "output_type": "stream",
          "text": [
            "8400/8400 [==============================] - 1s 64us/step\n",
            "0.9757142857142858\n"
          ],
          "name": "stdout"
        }
      ]
    },
    {
      "cell_type": "markdown",
      "metadata": {
        "id": "u8x2f7iYLCdf",
        "colab_type": "text"
      },
      "source": [
        "<font color=red size=4>\n",
        "  ompared to our first model, adding an additional layer did not significantly improve the accuracy from our previous model. However, there are computational costs (in terms of complexity) in implementing an additional layer in our neural network. Given that the benefits of an additional layer are low while the costs are high, we will stick with the 4 layer neural network.\n",
        "<br><font color=brown size=4><br>\n",
        "We now proceed to include dropout (dropout rate of 0.3) in our second model to prevent overfitting."
      ]
    },
    {
      "cell_type": "code",
      "metadata": {
        "id": "bS07K9S-KqjR",
        "colab_type": "code",
        "trusted": true,
        "colab": {}
      },
      "source": [
        "# Input Parameters\n",
        "n_input = 784 # number of features\n",
        "n_hidden_1 = 300\n",
        "n_hidden_2 = 100\n",
        "n_hidden_3 = 100\n",
        "n_hidden_4 = 200\n",
        "num_digits = 10"
      ],
      "execution_count": 0,
      "outputs": []
    },
    {
      "cell_type": "code",
      "metadata": {
        "id": "LCtEE5x-LLpX",
        "colab_type": "code",
        "trusted": true,
        "outputId": "a4c3adbd-4bbc-4d82-9f39-e7bcb48154fb",
        "colab": {
          "base_uri": "https://localhost:8080/",
          "height": 88
        }
      },
      "source": [
        "Inp = Input(shape=(784,))\n",
        "x = Dense(n_hidden_1, activation='relu', name = \"Hidden_Layer_1\")(Inp)\n",
        "x = Dropout(0.3)(x)\n",
        "x = Dense(n_hidden_2, activation='relu', name = \"Hidden_Layer_2\")(x)\n",
        "x = Dropout(0.3)(x)\n",
        "x = Dense(n_hidden_3, activation='relu', name = \"Hidden_Layer_3\")(x)\n",
        "x = Dropout(0.3)(x)\n",
        "x = Dense(n_hidden_4, activation='relu', name = \"Hidden_Layer_4\")(x)\n",
        "output = Dense(num_digits, activation='softmax', name = \"Output_Layer\")(x)"
      ],
      "execution_count": 39,
      "outputs": [
        {
          "output_type": "stream",
          "text": [
            "WARNING:tensorflow:From /usr/local/lib/python3.6/dist-packages/keras/backend/tensorflow_backend.py:3733: calling dropout (from tensorflow.python.ops.nn_ops) with keep_prob is deprecated and will be removed in a future version.\n",
            "Instructions for updating:\n",
            "Please use `rate` instead of `keep_prob`. Rate should be set to `rate = 1 - keep_prob`.\n"
          ],
          "name": "stdout"
        }
      ]
    },
    {
      "cell_type": "code",
      "metadata": {
        "id": "fppJBSlXLQUr",
        "colab_type": "code",
        "outputId": "1fd92296-8190-468f-ff9c-5a4111191877",
        "trusted": true,
        "colab": {
          "base_uri": "https://localhost:8080/",
          "height": 459
        }
      },
      "source": [
        "# Our model would have '6' layers - input layer, 4 hidden layer and 1 output layer\n",
        "model4 = Model(Inp, output)\n",
        "model4.summary() # We have 297,910 parameters to estimate"
      ],
      "execution_count": 40,
      "outputs": [
        {
          "output_type": "stream",
          "text": [
            "Model: \"model_6\"\n",
            "_________________________________________________________________\n",
            "Layer (type)                 Output Shape              Param #   \n",
            "=================================================================\n",
            "input_6 (InputLayer)         (None, 784)               0         \n",
            "_________________________________________________________________\n",
            "Hidden_Layer_1 (Dense)       (None, 300)               235500    \n",
            "_________________________________________________________________\n",
            "dropout_1 (Dropout)          (None, 300)               0         \n",
            "_________________________________________________________________\n",
            "Hidden_Layer_2 (Dense)       (None, 100)               30100     \n",
            "_________________________________________________________________\n",
            "dropout_2 (Dropout)          (None, 100)               0         \n",
            "_________________________________________________________________\n",
            "Hidden_Layer_3 (Dense)       (None, 100)               10100     \n",
            "_________________________________________________________________\n",
            "dropout_3 (Dropout)          (None, 100)               0         \n",
            "_________________________________________________________________\n",
            "Hidden_Layer_4 (Dense)       (None, 200)               20200     \n",
            "_________________________________________________________________\n",
            "Output_Layer (Dense)         (None, 10)                2010      \n",
            "=================================================================\n",
            "Total params: 297,910\n",
            "Trainable params: 297,910\n",
            "Non-trainable params: 0\n",
            "_________________________________________________________________\n"
          ],
          "name": "stdout"
        }
      ]
    },
    {
      "cell_type": "code",
      "metadata": {
        "id": "LxKXVDGvLVs4",
        "colab_type": "code",
        "trusted": true,
        "colab": {}
      },
      "source": [
        "model4.compile(loss='categorical_crossentropy',\n",
        "              optimizer='adam',\n",
        "              metrics=['accuracy'])"
      ],
      "execution_count": 0,
      "outputs": []
    },
    {
      "cell_type": "code",
      "metadata": {
        "id": "SDHcl0fRLbqI",
        "colab_type": "code",
        "outputId": "11502fbe-8852-4034-958e-29b69a74702e",
        "trusted": true,
        "colab": {
          "base_uri": "https://localhost:8080/",
          "height": 714
        }
      },
      "source": [
        "history = model4.fit(X_train, y_train,\n",
        "                    batch_size = batch_size,\n",
        "                    epochs = training_epochs,\n",
        "                    validation_data=(X_cv, y_cv))"
      ],
      "execution_count": 42,
      "outputs": [
        {
          "output_type": "stream",
          "text": [
            "Train on 33600 samples, validate on 8400 samples\n",
            "Epoch 1/20\n",
            "33600/33600 [==============================] - 4s 109us/step - loss: 0.5755 - acc: 0.8164 - val_loss: 0.1982 - val_acc: 0.9418\n",
            "Epoch 2/20\n",
            "33600/33600 [==============================] - 3s 88us/step - loss: 0.2225 - acc: 0.9349 - val_loss: 0.1555 - val_acc: 0.9561\n",
            "Epoch 3/20\n",
            "33600/33600 [==============================] - 3s 88us/step - loss: 0.1715 - acc: 0.9508 - val_loss: 0.1376 - val_acc: 0.9599\n",
            "Epoch 4/20\n",
            "33600/33600 [==============================] - 3s 88us/step - loss: 0.1363 - acc: 0.9606 - val_loss: 0.1233 - val_acc: 0.9656\n",
            "Epoch 5/20\n",
            "33600/33600 [==============================] - 3s 88us/step - loss: 0.1195 - acc: 0.9653 - val_loss: 0.1153 - val_acc: 0.9669\n",
            "Epoch 6/20\n",
            "33600/33600 [==============================] - 3s 89us/step - loss: 0.1061 - acc: 0.9685 - val_loss: 0.1036 - val_acc: 0.9707\n",
            "Epoch 7/20\n",
            "33600/33600 [==============================] - 3s 88us/step - loss: 0.0953 - acc: 0.9720 - val_loss: 0.1086 - val_acc: 0.9704\n",
            "Epoch 8/20\n",
            "33600/33600 [==============================] - 3s 88us/step - loss: 0.0868 - acc: 0.9740 - val_loss: 0.1013 - val_acc: 0.9715\n",
            "Epoch 9/20\n",
            "33600/33600 [==============================] - 3s 88us/step - loss: 0.0807 - acc: 0.9763 - val_loss: 0.0978 - val_acc: 0.9748\n",
            "Epoch 10/20\n",
            "33600/33600 [==============================] - 3s 88us/step - loss: 0.0738 - acc: 0.9774 - val_loss: 0.0936 - val_acc: 0.9765\n",
            "Epoch 11/20\n",
            "33600/33600 [==============================] - 3s 87us/step - loss: 0.0683 - acc: 0.9796 - val_loss: 0.0938 - val_acc: 0.9743\n",
            "Epoch 12/20\n",
            "33600/33600 [==============================] - 3s 89us/step - loss: 0.0645 - acc: 0.9808 - val_loss: 0.0899 - val_acc: 0.9757\n",
            "Epoch 13/20\n",
            "33600/33600 [==============================] - 3s 89us/step - loss: 0.0598 - acc: 0.9824 - val_loss: 0.1024 - val_acc: 0.9758\n",
            "Epoch 14/20\n",
            "33600/33600 [==============================] - 3s 87us/step - loss: 0.0613 - acc: 0.9818 - val_loss: 0.0869 - val_acc: 0.9775\n",
            "Epoch 15/20\n",
            "33600/33600 [==============================] - 3s 88us/step - loss: 0.0552 - acc: 0.9836 - val_loss: 0.0919 - val_acc: 0.9758\n",
            "Epoch 16/20\n",
            "33600/33600 [==============================] - 3s 87us/step - loss: 0.0534 - acc: 0.9845 - val_loss: 0.0966 - val_acc: 0.9756\n",
            "Epoch 17/20\n",
            "33600/33600 [==============================] - 3s 88us/step - loss: 0.0514 - acc: 0.9843 - val_loss: 0.0973 - val_acc: 0.9765\n",
            "Epoch 18/20\n",
            "33600/33600 [==============================] - 3s 86us/step - loss: 0.0496 - acc: 0.9857 - val_loss: 0.0956 - val_acc: 0.9762\n",
            "Epoch 19/20\n",
            "33600/33600 [==============================] - 3s 88us/step - loss: 0.0481 - acc: 0.9854 - val_loss: 0.0838 - val_acc: 0.9780\n",
            "Epoch 20/20\n",
            "33600/33600 [==============================] - 3s 88us/step - loss: 0.0419 - acc: 0.9873 - val_loss: 0.0862 - val_acc: 0.9786\n"
          ],
          "name": "stdout"
        }
      ]
    },
    {
      "cell_type": "code",
      "metadata": {
        "trusted": true,
        "id": "6sstp6wsTHbv",
        "colab_type": "code",
        "outputId": "d1fdd8ac-1bc5-4471-9340-8ea9354d6958",
        "colab": {
          "base_uri": "https://localhost:8080/",
          "height": 51
        }
      },
      "source": [
        "_, val_acc4 = model4.evaluate(X_cv, y_cv)\n",
        "print (val_acc4)"
      ],
      "execution_count": 43,
      "outputs": [
        {
          "output_type": "stream",
          "text": [
            "8400/8400 [==============================] - 1s 67us/step\n",
            "0.9785714285714285\n"
          ],
          "name": "stdout"
        }
      ]
    },
    {
      "cell_type": "code",
      "metadata": {
        "trusted": true,
        "id": "BePIvOcvTHb0",
        "colab_type": "code",
        "outputId": "9b559fcf-0c18-47df-cd2b-1c80e89490ff",
        "colab": {
          "base_uri": "https://localhost:8080/",
          "height": 235
        }
      },
      "source": [
        "eval_model = pd.DataFrame({\n",
        "\"Model\": ['Model', 'Model2', 'Model2a', 'Model2b', 'Model3', 'Model4'],\n",
        "    \"Validation Accuracy\" : [val_acc1, val_acc2, val_acc2a, val_acc2b, val_acc3, val_acc4]\n",
        "   })\n",
        "\n",
        "eval_model.sort_values(by = 'Validation Accuracy', ascending=False)"
      ],
      "execution_count": 44,
      "outputs": [
        {
          "output_type": "execute_result",
          "data": {
            "text/html": [
              "<div>\n",
              "<style scoped>\n",
              "    .dataframe tbody tr th:only-of-type {\n",
              "        vertical-align: middle;\n",
              "    }\n",
              "\n",
              "    .dataframe tbody tr th {\n",
              "        vertical-align: top;\n",
              "    }\n",
              "\n",
              "    .dataframe thead th {\n",
              "        text-align: right;\n",
              "    }\n",
              "</style>\n",
              "<table border=\"1\" class=\"dataframe\">\n",
              "  <thead>\n",
              "    <tr style=\"text-align: right;\">\n",
              "      <th></th>\n",
              "      <th>Model</th>\n",
              "      <th>Validation Accuracy</th>\n",
              "    </tr>\n",
              "  </thead>\n",
              "  <tbody>\n",
              "    <tr>\n",
              "      <th>5</th>\n",
              "      <td>Model4</td>\n",
              "      <td>0.978571</td>\n",
              "    </tr>\n",
              "    <tr>\n",
              "      <th>4</th>\n",
              "      <td>Model3</td>\n",
              "      <td>0.975714</td>\n",
              "    </tr>\n",
              "    <tr>\n",
              "      <th>2</th>\n",
              "      <td>Model2a</td>\n",
              "      <td>0.974167</td>\n",
              "    </tr>\n",
              "    <tr>\n",
              "      <th>3</th>\n",
              "      <td>Model2b</td>\n",
              "      <td>0.973690</td>\n",
              "    </tr>\n",
              "    <tr>\n",
              "      <th>1</th>\n",
              "      <td>Model2</td>\n",
              "      <td>0.971071</td>\n",
              "    </tr>\n",
              "    <tr>\n",
              "      <th>0</th>\n",
              "      <td>Model</td>\n",
              "      <td>0.959048</td>\n",
              "    </tr>\n",
              "  </tbody>\n",
              "</table>\n",
              "</div>"
            ],
            "text/plain": [
              "     Model  Validation Accuracy\n",
              "5   Model4             0.978571\n",
              "4   Model3             0.975714\n",
              "2  Model2a             0.974167\n",
              "3  Model2b             0.973690\n",
              "1   Model2             0.971071\n",
              "0    Model             0.959048"
            ]
          },
          "metadata": {
            "tags": []
          },
          "execution_count": 44
        }
      ]
    },
    {
      "cell_type": "markdown",
      "metadata": {
        "id": "sBYN9lEdQe8K",
        "colab_type": "text"
      },
      "source": [
        "<font color=green size = 6> \n",
        "  With a validation score of close to 98%, we proceed to use this model to predict for the test set."
      ]
    },
    {
      "cell_type": "code",
      "metadata": {
        "id": "D3QrvG_0Lde5",
        "colab_type": "code",
        "outputId": "30e0ab48-10ad-447f-854c-373ef3ccd2b0",
        "trusted": true,
        "colab": {
          "base_uri": "https://localhost:8080/",
          "height": 204
        }
      },
      "source": [
        "test_pred = pd.DataFrame(model4.predict(X_test, batch_size=200))\n",
        "test_pred = pd.DataFrame(test_pred.idxmax(axis = 1))\n",
        "test_pred.index.name = 'ImageId'\n",
        "test_pred = test_pred.rename(columns = {0: 'Label'}).reset_index()\n",
        "test_pred['ImageId'] = test_pred['ImageId'] + 1\n",
        "\n",
        "test_pred.head()"
      ],
      "execution_count": 45,
      "outputs": [
        {
          "output_type": "execute_result",
          "data": {
            "text/html": [
              "<div>\n",
              "<style scoped>\n",
              "    .dataframe tbody tr th:only-of-type {\n",
              "        vertical-align: middle;\n",
              "    }\n",
              "\n",
              "    .dataframe tbody tr th {\n",
              "        vertical-align: top;\n",
              "    }\n",
              "\n",
              "    .dataframe thead th {\n",
              "        text-align: right;\n",
              "    }\n",
              "</style>\n",
              "<table border=\"1\" class=\"dataframe\">\n",
              "  <thead>\n",
              "    <tr style=\"text-align: right;\">\n",
              "      <th></th>\n",
              "      <th>ImageId</th>\n",
              "      <th>Label</th>\n",
              "    </tr>\n",
              "  </thead>\n",
              "  <tbody>\n",
              "    <tr>\n",
              "      <th>0</th>\n",
              "      <td>1</td>\n",
              "      <td>2</td>\n",
              "    </tr>\n",
              "    <tr>\n",
              "      <th>1</th>\n",
              "      <td>2</td>\n",
              "      <td>0</td>\n",
              "    </tr>\n",
              "    <tr>\n",
              "      <th>2</th>\n",
              "      <td>3</td>\n",
              "      <td>9</td>\n",
              "    </tr>\n",
              "    <tr>\n",
              "      <th>3</th>\n",
              "      <td>4</td>\n",
              "      <td>9</td>\n",
              "    </tr>\n",
              "    <tr>\n",
              "      <th>4</th>\n",
              "      <td>5</td>\n",
              "      <td>3</td>\n",
              "    </tr>\n",
              "  </tbody>\n",
              "</table>\n",
              "</div>"
            ],
            "text/plain": [
              "   ImageId  Label\n",
              "0        1      2\n",
              "1        2      0\n",
              "2        3      9\n",
              "3        4      9\n",
              "4        5      3"
            ]
          },
          "metadata": {
            "tags": []
          },
          "execution_count": 45
        }
      ]
    },
    {
      "cell_type": "code",
      "metadata": {
        "id": "rNSxDrhXQk1w",
        "colab_type": "code",
        "trusted": true,
        "colab": {}
      },
      "source": [
        "#test_pred.to_csv('kaggle_mnist_digits_submission.csv', index = False)"
      ],
      "execution_count": 0,
      "outputs": []
    },
    {
      "cell_type": "markdown",
      "metadata": {
        "id": "Ls9daBhyTHcA",
        "colab_type": "text"
      },
      "source": [
        "<font color=brown size=5> \n",
        "In the above example,  we read the numeric data of pixels to identify Digits. Now, we will read images and use CNN to identify if the input and classify it as one of the 10 fashion items.<br>\n",
        "A convolutional neural network (CNN) is a neural network that can “see ” a subset of the data. It can detect a pattern in images better than perceptron.\n",
        "   "
      ]
    },
    {
      "cell_type": "code",
      "metadata": {
        "id": "vcFfMtJnQ99S",
        "colab_type": "code",
        "trusted": true,
        "colab": {}
      },
      "source": [
        "# Import MNIST dataset which is already in Keras\n",
        "\n",
        "from tensorflow.keras.datasets import fashion_mnist\n",
        "\n",
        "# Import the Libraries\n",
        "\n",
        "#Same as ANN\n",
        "from keras.models import Sequential\n",
        "\n",
        "# Related to CNN\n",
        "from keras.layers import Conv2D\n",
        "from keras.layers import MaxPool2D\n",
        "from keras.layers import Flatten\n",
        "from tensorflow.keras.utils import to_categorical\n",
        "\n",
        "import matplotlib.pyplot as plt\n",
        "%matplotlib inline\n",
        "\n",
        "#Same ANN Model\n",
        "from keras.layers import Dense\n",
        "\n"
      ],
      "execution_count": 0,
      "outputs": []
    },
    {
      "cell_type": "code",
      "metadata": {
        "id": "O3QXvx_3mfbc",
        "colab_type": "code",
        "colab": {
          "base_uri": "https://localhost:8080/",
          "height": 51
        },
        "outputId": "c1c42ca8-2ecd-40c9-fd57-ed735ecb678c"
      },
      "source": [
        "# Get data\n",
        "(X_train, y_train), (X_test, y_test) = fashion_mnist.load_data()\n",
        "print('Training data shape : ', X_train.shape, y_train.shape)\n",
        "print ('Test Shape ',  X_test.shape, y_test.shape)"
      ],
      "execution_count": 67,
      "outputs": [
        {
          "output_type": "stream",
          "text": [
            "Training data shape :  (60000, 28, 28) (60000,)\n",
            "Test Shape  (10000, 28, 28) (10000,)\n"
          ],
          "name": "stdout"
        }
      ]
    },
    {
      "cell_type": "code",
      "metadata": {
        "id": "EtF4s6osmtCL",
        "colab_type": "code",
        "colab": {
          "base_uri": "https://localhost:8080/",
          "height": 51
        },
        "outputId": "e0a23b6c-6b2e-4fc2-9d48-4b5f2e42a40c"
      },
      "source": [
        "# Find the unique numbers from the train labels\n",
        "classes = np.unique(y_train)\n",
        "nClasses = len(classes)\n",
        "print('Total number of outputs : ', nClasses)\n",
        "print('Output classes : ', classes)"
      ],
      "execution_count": 68,
      "outputs": [
        {
          "output_type": "stream",
          "text": [
            "Total number of outputs :  10\n",
            "Output classes :  [0 1 2 3 4 5 6 7 8 9]\n"
          ],
          "name": "stdout"
        }
      ]
    },
    {
      "cell_type": "code",
      "metadata": {
        "id": "_XG4cyrwm3H-",
        "colab_type": "code",
        "colab": {
          "base_uri": "https://localhost:8080/",
          "height": 208
        },
        "outputId": "46297a42-defc-481f-97b7-13b0511e8d59"
      },
      "source": [
        "plt.figure(figsize=[5, 5])\n",
        "\n",
        "#Display first image in training data\n",
        "plt.subplot(121)\n",
        "plt.imshow(X_train[0,:,:], cmap='gray')\n",
        "plt.title(\"Ground Truth : {}\".format(y_train[0]))\n",
        "\n",
        "# Display the first image in testing data\n",
        "plt.subplot(122)\n",
        "plt.imshow(X_test[0,:,:], cmap='gray')\n",
        "plt.title(\"Ground Truth : {}\".format(y_test[0]))"
      ],
      "execution_count": 74,
      "outputs": [
        {
          "output_type": "execute_result",
          "data": {
            "text/plain": [
              "Text(0.5, 1.0, 'Ground Truth : 9')"
            ]
          },
          "metadata": {
            "tags": []
          },
          "execution_count": 74
        },
        {
          "output_type": "display_data",
          "data": {
            "image/png": "[encoded data removed]",
            "text/plain": [
              "<Figure size 360x360 with 2 Axes>"
            ]
          },
          "metadata": {
            "tags": []
          }
        }
      ]
    },
    {
      "cell_type": "markdown",
      "metadata": {
        "id": "aHfXlarQn61D",
        "colab_type": "text"
      },
      "source": [
        "<font color=brown size=4>\n",
        "The image looks like an Ankle boot and Class assigned is 9. Similarly, other fashion items will have different Class. \n",
        "<br>\n",
        "<font color=blue size=4>\n",
        "As each image has dimension of 28 x 28, it has to be converted to 28 x 28 x 1 (3D) format. "
      ]
    },
    {
      "cell_type": "code",
      "metadata": {
        "trusted": true,
        "id": "eoJMO03UTHcI",
        "colab_type": "code",
        "outputId": "58b61a5a-a551-4a69-edbc-a16a0251c288",
        "colab": {
          "base_uri": "https://localhost:8080/",
          "height": 51
        }
      },
      "source": [
        "X_train = X_train.reshape(-1, 28,28, 1)\n",
        "X_test = X_test.reshape(-1, 28,28, 1)\n",
        "print ('Training datasets shapes', X_train.shape, X_test.shape)\n",
        "\n",
        "X_train.dtype"
      ],
      "execution_count": 79,
      "outputs": [
        {
          "output_type": "stream",
          "text": [
            "Training datasets shapes (60000, 28, 28, 1) (10000, 28, 28, 1)\n"
          ],
          "name": "stdout"
        },
        {
          "output_type": "execute_result",
          "data": {
            "text/plain": [
              "dtype('uint8')"
            ]
          },
          "metadata": {
            "tags": []
          },
          "execution_count": 79
        }
      ]
    },
    {
      "cell_type": "markdown",
      "metadata": {
        "id": "iCLS781MgWb7",
        "colab_type": "text"
      },
      "source": [
        "CNN reads our images as is and hence flattening is not required. \n",
        "If you check your x_train, you will have 60,000 x 28 x 28 x 1 data. \n",
        "The data CNN needs to read must be like this: total_data x width x height x channels.\n",
        "Height and width are self-explanatory. Channels are like Red or Green or Blue in RGB images. In RGB, because there are three channels, we need to make the data x 3. But because we work with grayscale images, every value on Red, Green, or Blue channel is the same and we reduce to one channel."
      ]
    },
    {
      "cell_type": "markdown",
      "metadata": {
        "id": "aTWNYJFrpY2e",
        "colab_type": "text"
      },
      "source": [
        "<font color=brown size=4> \n",
        "Right now data is in unit8 format. This is to be converted to float32.  Also, have to rescale the pixels values in 0 to 255 range.\n",
        "<br>\n",
        "<font color=blue size=4> \n",
        "The label field is in categorical form at present 0-9. This field needs to be one-hot encolded. For instance, Class 9 that denotes Ankle Boot after One-Hot encoded, it will be converted to [0 0 0 0 0 0 0 0 0 1], where in each is a new feature added to the dataset. "
      ]
    },
    {
      "cell_type": "code",
      "metadata": {
        "id": "ZOYn1_FXpGcq",
        "colab_type": "code",
        "colab": {
          "base_uri": "https://localhost:8080/",
          "height": 51
        },
        "outputId": "3d1588fa-997e-41af-d799-c90db45abde4"
      },
      "source": [
        "# Change the labels from categorical to one-hot encoding\n",
        "y_train_one_hot = to_categorical(y_train)\n",
        "y_test_one_hot = to_categorical(y_test)\n",
        "\n",
        "# Display the change for category label using one-hot encoding\n",
        "print('Original label:', y_train[0])\n",
        "print('After conversion to one-hot:', y_train_one_hot[0])"
      ],
      "execution_count": 82,
      "outputs": [
        {
          "output_type": "stream",
          "text": [
            "Original label: 9\n",
            "After conversion to one-hot: [0. 0. 0. 0. 0. 0. 0. 0. 0. 1.]\n"
          ],
          "name": "stdout"
        }
      ]
    },
    {
      "cell_type": "markdown",
      "metadata": {
        "id": "3K17hM0PsEKP",
        "colab_type": "text"
      },
      "source": [
        "Split the Training data now to set aside somed data for Validation. This is a good practice. we will use 20% of the Training data for validation. "
      ]
    },
    {
      "cell_type": "code",
      "metadata": {
        "id": "a6HqCf1NsDTy",
        "colab_type": "code",
        "colab": {}
      },
      "source": [
        "from sklearn.model_selection import train_test_split\n",
        "X_train,X_valid,label_train,label_valid = train_test_split(X_train, y_train_one_hot, test_size=0.2, random_state=13)"
      ],
      "execution_count": 0,
      "outputs": []
    },
    {
      "cell_type": "code",
      "metadata": {
        "id": "X2a3I08zs3aT",
        "colab_type": "code",
        "colab": {
          "base_uri": "https://localhost:8080/",
          "height": 34
        },
        "outputId": "a9e84dae-88fd-401d-9005-0c69fc023da7"
      },
      "source": [
        "# Check the Shapes of the Train and  Validation Datasets\n",
        "X_train.shape,X_valid.shape,label_train.shape, label_valid.shape"
      ],
      "execution_count": 85,
      "outputs": [
        {
          "output_type": "execute_result",
          "data": {
            "text/plain": [
              "((48000, 28, 28, 1), (12000, 28, 28, 1), (48000, 10), (12000, 10))"
            ]
          },
          "metadata": {
            "tags": []
          },
          "execution_count": 85
        }
      ]
    },
    {
      "cell_type": "code",
      "metadata": {
        "id": "fSqgBxjhteLI",
        "colab_type": "code",
        "colab": {}
      },
      "source": [
        "# these were not included earlier but now will add these to use for better performance\n",
        "from keras.layers.normalization import BatchNormalization\n",
        "from keras.layers.advanced_activations import LeakyReLU"
      ],
      "execution_count": 0,
      "outputs": []
    },
    {
      "cell_type": "markdown",
      "metadata": {
        "id": "pD0EP3QYtuaX",
        "colab_type": "text"
      },
      "source": [
        "The Model Architecture will have \n",
        "1. The first layer will have 32-3 x 3 filters,\n",
        "2. The second layer will have 64-3 x 3 filters and\n",
        "3. The third layer will have 128-3 x 3 filters.\n",
        "4. In addition, there are three max-pooling layers each of size 2 x 2.\n",
        "\n",
        "In Keras we can just stack up layers by adding desired layers one by one. We will start with Conv2D layer as we are handling images. \n",
        "We will make use to LeakyReLU activation function (instead of regular ReLU) as this function which helps the network to learn non-linear decision boundaries. There are 10 Classes and hence need non-linear decision boundary that could separate these 10 classes that are not linearly separable. Also, LeakyReLU works against dying neurons which is typically the cases in Convolutional NNs. This has been found effective as against the Logistic Sigmoid Function. \n",
        "\n"
      ]
    },
    {
      "cell_type": "code",
      "metadata": {
        "id": "RcUJeaWRwRT-",
        "colab_type": "code",
        "colab": {}
      },
      "source": [
        "fashion_model = Sequential()\n",
        "fashion_model.add(Conv2D(32, kernel_size=(3, 3),activation='linear',input_shape=(28,28,1),padding='same'))\n",
        "fashion_model.add(LeakyReLU(alpha=0.1))\n",
        "fashion_model.add(MaxPooling2D((2, 2),padding='same'))\n",
        "fashion_model.add(Conv2D(64, (3, 3), activation='linear',padding='same'))\n",
        "fashion_model.add(LeakyReLU(alpha=0.1))\n",
        "fashion_model.add(MaxPooling2D(pool_size=(2, 2),padding='same'))\n",
        "fashion_model.add(Conv2D(128, (3, 3), activation='linear',padding='same'))\n",
        "fashion_model.add(LeakyReLU(alpha=0.1))                  \n",
        "fashion_model.add(MaxPooling2D(pool_size=(2, 2),padding='same'))\n",
        "fashion_model.add(Flatten())\n",
        "fashion_model.add(Dense(128, activation='linear'))\n",
        "fashion_model.add(LeakyReLU(alpha=0.1))                  \n",
        "fashion_model.add(Dense(num_classes, activation='softmax'))"
      ],
      "execution_count": 0,
      "outputs": []
    },
    {
      "cell_type": "code",
      "metadata": {
        "trusted": true,
        "id": "9JAQpgfgTHci",
        "colab_type": "code",
        "outputId": "57dd0b2e-299b-4315-fc46-a4ef40f41c3e",
        "colab": {
          "base_uri": "https://localhost:8080/",
          "height": 595
        }
      },
      "source": [
        "fashion_model.summary()"
      ],
      "execution_count": 90,
      "outputs": [
        {
          "output_type": "stream",
          "text": [
            "Model: \"sequential_5\"\n",
            "_________________________________________________________________\n",
            "Layer (type)                 Output Shape              Param #   \n",
            "=================================================================\n",
            "conv2d_5 (Conv2D)            (None, 28, 28, 32)        320       \n",
            "_________________________________________________________________\n",
            "leaky_re_lu_1 (LeakyReLU)    (None, 28, 28, 32)        0         \n",
            "_________________________________________________________________\n",
            "max_pooling2d_5 (MaxPooling2 (None, 14, 14, 32)        0         \n",
            "_________________________________________________________________\n",
            "conv2d_6 (Conv2D)            (None, 14, 14, 64)        18496     \n",
            "_________________________________________________________________\n",
            "leaky_re_lu_2 (LeakyReLU)    (None, 14, 14, 64)        0         \n",
            "_________________________________________________________________\n",
            "max_pooling2d_6 (MaxPooling2 (None, 7, 7, 64)          0         \n",
            "_________________________________________________________________\n",
            "conv2d_7 (Conv2D)            (None, 7, 7, 128)         73856     \n",
            "_________________________________________________________________\n",
            "leaky_re_lu_3 (LeakyReLU)    (None, 7, 7, 128)         0         \n",
            "_________________________________________________________________\n",
            "max_pooling2d_7 (MaxPooling2 (None, 4, 4, 128)         0         \n",
            "_________________________________________________________________\n",
            "flatten_5 (Flatten)          (None, 2048)              0         \n",
            "_________________________________________________________________\n",
            "dense_9 (Dense)              (None, 128)               262272    \n",
            "_________________________________________________________________\n",
            "leaky_re_lu_4 (LeakyReLU)    (None, 128)               0         \n",
            "_________________________________________________________________\n",
            "dense_10 (Dense)             (None, 10)                1290      \n",
            "=================================================================\n",
            "Total params: 356,234\n",
            "Trainable params: 356,234\n",
            "Non-trainable params: 0\n",
            "_________________________________________________________________\n"
          ],
          "name": "stdout"
        }
      ]
    },
    {
      "cell_type": "markdown",
      "metadata": {
        "id": "ufgdW7SKiFxL",
        "colab_type": "text"
      },
      "source": [
        "<font color=brown size=3> \n",
        "1. Conv2d changed 28x28x1 image to 28x28x32, 28x28x64 and 28x28x128 respectively layers. These 32, 64 and 128 are like hidden layer cells.\n",
        "2. MaxPooling2D reduces the width and height so that you will not need to compute all the cells. It reduces the size to 14x14x32 and further reduced to 7x7x64 and further to 4x4x128 in their respective layers. \n",
        "3. Flatten just flattens out the output of last MaxPooling into a hidden layer of 2048 cells\n",
        "\n",
        "\n",
        "<font color=blue size=4> \n",
        "Compiling the model using Adam Optimizer which is by far found to be effective optimization algorithm. \n",
        "Loss type is \"Categorical Cross Entropy\" which is used for multi-class classification. Alternatively \"Binary Cross Entropy\" can also be used but that works better for \"Binary Classifications\". While compiling the model, we gather Accuracy Metrics that can be used for model evaluation. \n",
        "\n",
        "After compilation, we will set parameters for Training and start the training process. \n",
        "\n",
        "\n"
      ]
    },
    {
      "cell_type": "code",
      "metadata": {
        "id": "xUgUSINWyUUh",
        "colab_type": "code",
        "colab": {}
      },
      "source": [
        "fashion_model.compile(loss=keras.losses.categorical_crossentropy, optimizer=keras.optimizers.Adam(),metrics=['accuracy'])"
      ],
      "execution_count": 0,
      "outputs": []
    },
    {
      "cell_type": "code",
      "metadata": {
        "id": "U-FJor86RMed",
        "colab_type": "code",
        "trusted": true,
        "colab": {}
      },
      "source": [
        "batch_size = 64\n",
        "epochs = 20\n",
        "num_classes = 10"
      ],
      "execution_count": 0,
      "outputs": []
    },
    {
      "cell_type": "code",
      "metadata": {
        "trusted": true,
        "id": "Re8Ta8-XTHco",
        "colab_type": "code",
        "outputId": "cb7ec441-64a0-4291-b757-6092f9270cd8",
        "colab": {
          "base_uri": "https://localhost:8080/",
          "height": 714
        }
      },
      "source": [
        "fashion_train = fashion_model.fit(X_train, label_train, batch_size=batch_size,epochs=epochs,verbose=1,validation_data=(X_valid, label_valid))"
      ],
      "execution_count": 95,
      "outputs": [
        {
          "output_type": "stream",
          "text": [
            "Train on 48000 samples, validate on 12000 samples\n",
            "Epoch 1/20\n",
            "48000/48000 [==============================] - 13s 270us/step - loss: 0.4614 - acc: 0.8327 - val_loss: 0.3249 - val_acc: 0.8805\n",
            "Epoch 2/20\n",
            "48000/48000 [==============================] - 12s 245us/step - loss: 0.2894 - acc: 0.8940 - val_loss: 0.2874 - val_acc: 0.8929\n",
            "Epoch 3/20\n",
            "48000/48000 [==============================] - 12s 243us/step - loss: 0.2406 - acc: 0.9118 - val_loss: 0.2483 - val_acc: 0.9109\n",
            "Epoch 4/20\n",
            "48000/48000 [==============================] - 12s 244us/step - loss: 0.2072 - acc: 0.9244 - val_loss: 0.2317 - val_acc: 0.9158\n",
            "Epoch 5/20\n",
            "48000/48000 [==============================] - 12s 247us/step - loss: 0.1827 - acc: 0.9331 - val_loss: 0.2398 - val_acc: 0.9128\n",
            "Epoch 6/20\n",
            "48000/48000 [==============================] - 12s 248us/step - loss: 0.1581 - acc: 0.9422 - val_loss: 0.2388 - val_acc: 0.9153\n",
            "Epoch 7/20\n",
            "48000/48000 [==============================] - 12s 246us/step - loss: 0.1396 - acc: 0.9484 - val_loss: 0.2297 - val_acc: 0.9200\n",
            "Epoch 8/20\n",
            "48000/48000 [==============================] - 12s 244us/step - loss: 0.1192 - acc: 0.9562 - val_loss: 0.2405 - val_acc: 0.9206\n",
            "Epoch 9/20\n",
            "48000/48000 [==============================] - 12s 246us/step - loss: 0.1029 - acc: 0.9617 - val_loss: 0.2554 - val_acc: 0.9179\n",
            "Epoch 10/20\n",
            "48000/48000 [==============================] - 12s 243us/step - loss: 0.0871 - acc: 0.9672 - val_loss: 0.2964 - val_acc: 0.9107\n",
            "Epoch 11/20\n",
            "48000/48000 [==============================] - 12s 244us/step - loss: 0.0729 - acc: 0.9728 - val_loss: 0.3126 - val_acc: 0.9156\n",
            "Epoch 12/20\n",
            "48000/48000 [==============================] - 11s 239us/step - loss: 0.0635 - acc: 0.9760 - val_loss: 0.2840 - val_acc: 0.9202\n",
            "Epoch 13/20\n",
            "48000/48000 [==============================] - 11s 239us/step - loss: 0.0551 - acc: 0.9800 - val_loss: 0.3454 - val_acc: 0.9196\n",
            "Epoch 14/20\n",
            "48000/48000 [==============================] - 11s 239us/step - loss: 0.0478 - acc: 0.9826 - val_loss: 0.3697 - val_acc: 0.9124\n",
            "Epoch 15/20\n",
            "48000/48000 [==============================] - 11s 238us/step - loss: 0.0441 - acc: 0.9836 - val_loss: 0.3827 - val_acc: 0.9143\n",
            "Epoch 16/20\n",
            "48000/48000 [==============================] - 11s 239us/step - loss: 0.0363 - acc: 0.9868 - val_loss: 0.3978 - val_acc: 0.9171\n",
            "Epoch 17/20\n",
            "48000/48000 [==============================] - 11s 239us/step - loss: 0.0380 - acc: 0.9855 - val_loss: 0.3883 - val_acc: 0.9203\n",
            "Epoch 18/20\n",
            "48000/48000 [==============================] - 11s 237us/step - loss: 0.0333 - acc: 0.9879 - val_loss: 0.4017 - val_acc: 0.9174\n",
            "Epoch 19/20\n",
            "48000/48000 [==============================] - 11s 239us/step - loss: 0.0337 - acc: 0.9879 - val_loss: 0.4251 - val_acc: 0.9188\n",
            "Epoch 20/20\n",
            "48000/48000 [==============================] - 11s 239us/step - loss: 0.0300 - acc: 0.9890 - val_loss: 0.4300 - val_acc: 0.9197\n"
          ],
          "name": "stdout"
        }
      ]
    },
    {
      "cell_type": "markdown",
      "metadata": {
        "id": "xp2pUHERjKK2",
        "colab_type": "text"
      },
      "source": [
        "<font color=brown size=4>\n",
        "Training Accuracy is good at almost 99% but it is expected to be good. We should only be looking at Validation Accuracy and Validation Loss. Validation Accuracy is almost 92% which is good but <font color=red size=4> Validation Loss is 43% which is very high and could mean that its due to overfitting.\n",
        "<br> <font color=brown size=4>\n",
        "Loss  needs to be brought down as much as possible by using drop-out layer (purposefully omitts few neuros so that the model will not overlearn (overfitting) in subsequent Training trails. For now, lets get the evaluation of this model"
      ]
    },
    {
      "cell_type": "code",
      "metadata": {
        "trusted": true,
        "id": "ddXN5yzaTHct",
        "colab_type": "code",
        "outputId": "30209fe8-ba05-4f81-bfb4-1b7b3e9b2c0d",
        "colab": {
          "base_uri": "https://localhost:8080/",
          "height": 51
        }
      },
      "source": [
        "test_eval = fashion_model.evaluate(X_test, y_test_one_hot, verbose=0)\n",
        "\n",
        "print('Test loss:', test_eval[0])\n",
        "print('Test accuracy:', test_eval[1])"
      ],
      "execution_count": 98,
      "outputs": [
        {
          "output_type": "stream",
          "text": [
            "Test loss: 0.4463336690051016\n",
            "Test accuracy: 0.9151\n"
          ],
          "name": "stdout"
        }
      ]
    },
    {
      "cell_type": "markdown",
      "metadata": {
        "id": "X_G1MeBh4W3b",
        "colab_type": "text"
      },
      "source": [
        "Let's put your model evaluation into perspective and plot the accuracy and loss plots between training and validation data:"
      ]
    },
    {
      "cell_type": "code",
      "metadata": {
        "id": "4mQQUkmu4YQy",
        "colab_type": "code",
        "colab": {
          "base_uri": "https://localhost:8080/",
          "height": 336
        },
        "outputId": "230cfd3f-97ca-4b1d-c864-03830168925a"
      },
      "source": [
        "accuracy = fashion_train.history['acc']\n",
        "val_accuracy = fashion_train.history['val_acc']\n",
        "loss = fashion_train.history['loss']\n",
        "val_loss = fashion_train.history['val_loss']\n",
        "epochs = range(len(accuracy))\n",
        "plt.figure(figsize=[10,5])\n",
        "plt.subplot(121)\n",
        "plt.plot(epochs, accuracy, 'bo', label='Training accuracy')\n",
        "plt.plot(epochs, val_accuracy, 'b', label='Validation accuracy', color='red' )\n",
        "plt.title('Training and validation accuracy')\n",
        "plt.legend()\n",
        "\n",
        "plt.subplot(122)\n",
        "plt.plot(epochs, loss, 'bo', label='Training loss')\n",
        "plt.plot(epochs, val_loss, 'b', label='Validation loss', color='red' )\n",
        "plt.title('Training and validation loss')\n",
        "plt.legend()\n",
        "plt.show()"
      ],
      "execution_count": 110,
      "outputs": [
        {
          "output_type": "display_data",
          "data": {
            "image/png": "[encoded data removed]",
            "text/plain": [
              "<Figure size 720x360 with 2 Axes>"
            ]
          },
          "metadata": {
            "tags": []
          }
        }
      ]
    },
    {
      "cell_type": "markdown",
      "metadata": {
        "id": "Olzln_9s6Iqi",
        "colab_type": "text"
      },
      "source": [
        "<font color=brown size=3> Point to Note from the Above plots is that, \n",
        "<font color=red size=3>\n",
        "Validation Accuracy more or less hovered around the same accuracy after 3-4 epochs. It did increase linearly with validation loss but did not continue the trend after 3-4 epochs. This means that after 3-4 epochs model started memorizing the data. \n",
        "<font color=brown size=3>\n",
        "Time to introduce Dropout layer"
      ]
    },
    {
      "cell_type": "code",
      "metadata": {
        "id": "8Xv8vniAjsD7",
        "colab_type": "code",
        "outputId": "c34b61cd-a153-4cf4-e5c2-3e5b8e6d3e8d",
        "colab": {
          "base_uri": "https://localhost:8080/",
          "height": 731
        }
      },
      "source": [
        "fashion_model = Sequential()\n",
        "fashion_model.add(Conv2D(32, kernel_size=(3, 3),activation='linear',padding='same',input_shape=(28,28,1)))\n",
        "fashion_model.add(LeakyReLU(alpha=0.1))\n",
        "fashion_model.add(MaxPooling2D((2, 2),padding='same'))\n",
        "fashion_model.add(Dropout(0.25))\n",
        "fashion_model.add(Conv2D(64, (3, 3), activation='linear',padding='same'))\n",
        "fashion_model.add(LeakyReLU(alpha=0.1))\n",
        "fashion_model.add(MaxPooling2D(pool_size=(2, 2),padding='same'))\n",
        "fashion_model.add(Dropout(0.25))\n",
        "fashion_model.add(Conv2D(128, (3, 3), activation='linear',padding='same'))\n",
        "fashion_model.add(LeakyReLU(alpha=0.1))                  \n",
        "fashion_model.add(MaxPooling2D(pool_size=(2, 2),padding='same'))\n",
        "fashion_model.add(Dropout(0.4))\n",
        "fashion_model.add(Flatten())\n",
        "fashion_model.add(Dense(128, activation='linear'))\n",
        "fashion_model.add(LeakyReLU(alpha=0.1))           \n",
        "fashion_model.add(Dropout(0.3))\n",
        "fashion_model.add(Dense(num_classes, activation='softmax'))\n",
        "fashion_model.summary()"
      ],
      "execution_count": 113,
      "outputs": [
        {
          "output_type": "stream",
          "text": [
            "Model: \"sequential_8\"\n",
            "_________________________________________________________________\n",
            "Layer (type)                 Output Shape              Param #   \n",
            "=================================================================\n",
            "conv2d_14 (Conv2D)           (None, 28, 28, 32)        320       \n",
            "_________________________________________________________________\n",
            "leaky_re_lu_13 (LeakyReLU)   (None, 28, 28, 32)        0         \n",
            "_________________________________________________________________\n",
            "max_pooling2d_14 (MaxPooling (None, 14, 14, 32)        0         \n",
            "_________________________________________________________________\n",
            "dropout_14 (Dropout)         (None, 14, 14, 32)        0         \n",
            "_________________________________________________________________\n",
            "conv2d_15 (Conv2D)           (None, 14, 14, 64)        18496     \n",
            "_________________________________________________________________\n",
            "leaky_re_lu_14 (LeakyReLU)   (None, 14, 14, 64)        0         \n",
            "_________________________________________________________________\n",
            "max_pooling2d_15 (MaxPooling (None, 7, 7, 64)          0         \n",
            "_________________________________________________________________\n",
            "dropout_15 (Dropout)         (None, 7, 7, 64)          0         \n",
            "_________________________________________________________________\n",
            "conv2d_16 (Conv2D)           (None, 7, 7, 128)         73856     \n",
            "_________________________________________________________________\n",
            "leaky_re_lu_15 (LeakyReLU)   (None, 7, 7, 128)         0         \n",
            "_________________________________________________________________\n",
            "max_pooling2d_16 (MaxPooling (None, 4, 4, 128)         0         \n",
            "_________________________________________________________________\n",
            "dropout_16 (Dropout)         (None, 4, 4, 128)         0         \n",
            "_________________________________________________________________\n",
            "flatten_8 (Flatten)          (None, 2048)              0         \n",
            "_________________________________________________________________\n",
            "dense_15 (Dense)             (None, 128)               262272    \n",
            "_________________________________________________________________\n",
            "leaky_re_lu_16 (LeakyReLU)   (None, 128)               0         \n",
            "_________________________________________________________________\n",
            "dropout_17 (Dropout)         (None, 128)               0         \n",
            "_________________________________________________________________\n",
            "dense_16 (Dense)             (None, 10)                1290      \n",
            "=================================================================\n",
            "Total params: 356,234\n",
            "Trainable params: 356,234\n",
            "Non-trainable params: 0\n",
            "_________________________________________________________________\n"
          ],
          "name": "stdout"
        }
      ]
    },
    {
      "cell_type": "code",
      "metadata": {
        "id": "cdoyMBdJDvDo",
        "colab_type": "code",
        "colab": {}
      },
      "source": [
        "batch_size = 64\n",
        "epochs = 20\n",
        "num_classes = 10"
      ],
      "execution_count": 0,
      "outputs": []
    },
    {
      "cell_type": "code",
      "metadata": {
        "id": "mUc3FrtRkLod",
        "colab_type": "code",
        "outputId": "d9e20dbd-56a5-4f98-dee1-c27e041a319f",
        "colab": {
          "base_uri": "https://localhost:8080/",
          "height": 714
        }
      },
      "source": [
        "fashion_model.compile(loss=keras.losses.categorical_crossentropy, optimizer=keras.optimizers.Adam(),metrics=['accuracy'])\n",
        "\n",
        "fashion_train_dropout = fashion_model.fit(X_train, label_train, batch_size=batch_size,epochs=epochs,verbose=1,validation_data=(X_valid, label_valid))"
      ],
      "execution_count": 118,
      "outputs": [
        {
          "output_type": "stream",
          "text": [
            "Train on 48000 samples, validate on 12000 samples\n",
            "Epoch 1/20\n",
            "48000/48000 [==============================] - 14s 291us/step - loss: 0.5970 - acc: 0.7771 - val_loss: 0.3612 - val_acc: 0.8640\n",
            "Epoch 2/20\n",
            "48000/48000 [==============================] - 12s 246us/step - loss: 0.3771 - acc: 0.8621 - val_loss: 0.3148 - val_acc: 0.8852\n",
            "Epoch 3/20\n",
            "48000/48000 [==============================] - 12s 242us/step - loss: 0.3279 - acc: 0.8795 - val_loss: 0.2980 - val_acc: 0.8861\n",
            "Epoch 4/20\n",
            "48000/48000 [==============================] - 12s 244us/step - loss: 0.3006 - acc: 0.8892 - val_loss: 0.2698 - val_acc: 0.9016\n",
            "Epoch 5/20\n",
            "48000/48000 [==============================] - 12s 241us/step - loss: 0.2820 - acc: 0.8962 - val_loss: 0.2486 - val_acc: 0.9067\n",
            "Epoch 6/20\n",
            "48000/48000 [==============================] - 12s 243us/step - loss: 0.2653 - acc: 0.9022 - val_loss: 0.2426 - val_acc: 0.9112\n",
            "Epoch 7/20\n",
            "48000/48000 [==============================] - 12s 243us/step - loss: 0.2586 - acc: 0.9035 - val_loss: 0.2377 - val_acc: 0.9116\n",
            "Epoch 8/20\n",
            "48000/48000 [==============================] - 12s 240us/step - loss: 0.2492 - acc: 0.9064 - val_loss: 0.2311 - val_acc: 0.9165\n",
            "Epoch 9/20\n",
            "48000/48000 [==============================] - 11s 239us/step - loss: 0.2454 - acc: 0.9081 - val_loss: 0.2312 - val_acc: 0.9152\n",
            "Epoch 10/20\n",
            "48000/48000 [==============================] - 12s 248us/step - loss: 0.2368 - acc: 0.9113 - val_loss: 0.2281 - val_acc: 0.9175\n",
            "Epoch 11/20\n",
            "48000/48000 [==============================] - 11s 239us/step - loss: 0.2294 - acc: 0.9144 - val_loss: 0.2232 - val_acc: 0.9168\n",
            "Epoch 12/20\n",
            "48000/48000 [==============================] - 11s 238us/step - loss: 0.2251 - acc: 0.9151 - val_loss: 0.2195 - val_acc: 0.9205\n",
            "Epoch 13/20\n",
            "48000/48000 [==============================] - 11s 238us/step - loss: 0.2206 - acc: 0.9171 - val_loss: 0.2264 - val_acc: 0.9177\n",
            "Epoch 14/20\n",
            "48000/48000 [==============================] - 11s 239us/step - loss: 0.2164 - acc: 0.9173 - val_loss: 0.2240 - val_acc: 0.9209\n",
            "Epoch 15/20\n",
            "48000/48000 [==============================] - 11s 238us/step - loss: 0.2127 - acc: 0.9187 - val_loss: 0.2206 - val_acc: 0.9219\n",
            "Epoch 16/20\n",
            "48000/48000 [==============================] - 12s 240us/step - loss: 0.2096 - acc: 0.9217 - val_loss: 0.2196 - val_acc: 0.9200\n",
            "Epoch 17/20\n",
            "48000/48000 [==============================] - 11s 238us/step - loss: 0.2069 - acc: 0.9234 - val_loss: 0.2195 - val_acc: 0.9206\n",
            "Epoch 18/20\n",
            "48000/48000 [==============================] - 11s 238us/step - loss: 0.2040 - acc: 0.9236 - val_loss: 0.2188 - val_acc: 0.9203\n",
            "Epoch 19/20\n",
            "48000/48000 [==============================] - 11s 239us/step - loss: 0.2037 - acc: 0.9235 - val_loss: 0.2133 - val_acc: 0.9261\n",
            "Epoch 20/20\n",
            "48000/48000 [==============================] - 12s 240us/step - loss: 0.1988 - acc: 0.9250 - val_loss: 0.2132 - val_acc: 0.9240\n"
          ],
          "name": "stdout"
        }
      ]
    },
    {
      "cell_type": "markdown",
      "metadata": {
        "id": "bcsrJi8pFOMO",
        "colab_type": "text"
      },
      "source": [
        "<font color=brown size=3>\n",
        "Quick note is that the validation loss has come down by half from 43% to 21%. <br>\n",
        "<font color=brown size=4>\n",
        "Model Evaluation on the Test Set <br>\n",
        "<font color=blue size=4>\n",
        "Finally, let's also evaluate the new model to see how it performs!"
      ]
    },
    {
      "cell_type": "code",
      "metadata": {
        "id": "jHexgWgklZtj",
        "colab_type": "code",
        "outputId": "4cadf637-20f0-415a-8f58-0c6c8a3466ed",
        "colab": {
          "base_uri": "https://localhost:8080/",
          "height": 68
        }
      },
      "source": [
        "test_eval = fashion_model.evaluate(X_test, y_test_one_hot, verbose=1)\n",
        "print('Test loss:', test_eval[0])\n",
        "print('Test accuracy:', test_eval[1])"
      ],
      "execution_count": 121,
      "outputs": [
        {
          "output_type": "stream",
          "text": [
            "10000/10000 [==============================] - 1s 119us/step\n",
            "Test loss: 0.22688650356531143\n",
            "Test accuracy: 0.92\n"
          ],
          "name": "stdout"
        }
      ]
    },
    {
      "cell_type": "markdown",
      "metadata": {
        "id": "1iVLKyLjGv8m",
        "colab_type": "text"
      },
      "source": [
        "<font color=brown size=4>\n",
        "Run the plots for visuialization enabling easy comparison "
      ]
    },
    {
      "cell_type": "code",
      "metadata": {
        "id": "KSRTCVITud57",
        "colab_type": "code",
        "outputId": "fbb3792f-b6da-4500-f204-8f992c4f88b5",
        "colab": {
          "base_uri": "https://localhost:8080/",
          "height": 336
        }
      },
      "source": [
        "accuracy = fashion_train_dropout.history['acc']\n",
        "val_accuracy = fashion_train_dropout.history['val_acc']\n",
        "loss = fashion_train_dropout.history['loss']\n",
        "val_loss = fashion_train_dropout.history['val_loss']\n",
        "epochs = range(len(accuracy))\n",
        "plt.figure(figsize=[10,5])\n",
        "plt.subplot(121)\n",
        "plt.plot(epochs, accuracy, 'bo', label='Training accuracy')\n",
        "plt.plot(epochs, val_accuracy, 'b', label='Validation accuracy', color='red' )\n",
        "plt.title('Training and validation accuracy')\n",
        "plt.legend()\n",
        "\n",
        "plt.subplot(122)\n",
        "plt.plot(epochs, loss, 'bo', label='Training loss')\n",
        "plt.plot(epochs, val_loss, 'b', label='Validation loss', color='red' )\n",
        "plt.title('Training and validation loss')\n",
        "plt.legend()\n",
        "plt.show()"
      ],
      "execution_count": 123,
      "outputs": [
        {
          "output_type": "display_data",
          "data": {
            "image/png": "[encoded data removed]",
            "text/plain": [
              "<Figure size 720x360 with 2 Axes>"
            ]
          },
          "metadata": {
            "tags": []
          }
        }
      ]
    },
    {
      "cell_type": "markdown",
      "metadata": {
        "id": "FnYt2oI-HzUn",
        "colab_type": "text"
      },
      "source": [
        "<font color=green size=4>\n",
        "We can see that the validation loss and validation accuracy both are in sync with the training loss and training accuracy. Even though the validation loss and accuracy line are not linear, but it shows that this model is not overfitting: the validation loss is decreasing and not increasing, and there is not much gap between training and validation accuracy and infact this model did slight better on Validation loss compared to Training loss. <br>\n",
        "<font color=brown size=5>\n",
        "Will use this model to predict the Original Test dataset"
      ]
    },
    {
      "cell_type": "code",
      "metadata": {
        "id": "W2CVSvwItnYL",
        "colab_type": "code",
        "colab": {}
      },
      "source": [
        "predicted_classes = fashion_model.predict(X_test)"
      ],
      "execution_count": 0,
      "outputs": []
    },
    {
      "cell_type": "code",
      "metadata": {
        "id": "Ru7L8LIO4CoI",
        "colab_type": "code",
        "colab": {}
      },
      "source": [
        "predicted_classes = np.argmax(np.round(predicted_classes),axis=1)"
      ],
      "execution_count": 0,
      "outputs": []
    },
    {
      "cell_type": "code",
      "metadata": {
        "id": "8UpLsZZlJo_7",
        "colab_type": "code",
        "colab": {
          "base_uri": "https://localhost:8080/",
          "height": 34
        },
        "outputId": "b5bbd283-3082-459a-87f5-570167502b69"
      },
      "source": [
        "predicted_classes.shape, y_test.shape"
      ],
      "execution_count": 128,
      "outputs": [
        {
          "output_type": "execute_result",
          "data": {
            "text/plain": [
              "((10000,), (10000,))"
            ]
          },
          "metadata": {
            "tags": []
          },
          "execution_count": 128
        }
      ]
    },
    {
      "cell_type": "code",
      "metadata": {
        "id": "-pKTtSKjJrhY",
        "colab_type": "code",
        "colab": {
          "base_uri": "https://localhost:8080/",
          "height": 314
        },
        "outputId": "0b5d5ae2-fac2-42af-a791-39fbd860882e"
      },
      "source": [
        "correct = np.where(predicted_classes==y_test)[0]\n",
        "print (\"Found %d correct labels\" % len(correct))\n",
        "for i, correct in enumerate(correct[:9]):\n",
        "    plt.subplot(3,3,i+1)\n",
        "    plt.imshow(X_test[correct].reshape(28,28), cmap='gray', interpolation='none')\n",
        "    plt.title(\"Predicted {}, Class {}\".format(predicted_classes[correct], y_test[correct]))\n",
        "    plt.tight_layout()"
      ],
      "execution_count": 130,
      "outputs": [
        {
          "output_type": "stream",
          "text": [
            "Found 9160 correct labels\n"
          ],
          "name": "stdout"
        },
        {
          "output_type": "display_data",
          "data": {
            "image/png": "[encoded data removed]",
            "text/plain": [
              "<Figure size 432x288 with 9 Axes>"
            ]
          },
          "metadata": {
            "tags": []
          }
        }
      ]
    },
    {
      "cell_type": "code",
      "metadata": {
        "id": "BAh5r92NJzFo",
        "colab_type": "code",
        "colab": {
          "base_uri": "https://localhost:8080/",
          "height": 314
        },
        "outputId": "a2921c30-4b0a-4584-f88f-bad63d49ee3e"
      },
      "source": [
        "incorrect = np.where(predicted_classes!=y_test)[0]\n",
        "print (\"Found %d incorrect labels\" % len(incorrect))\n",
        "for i, incorrect in enumerate(incorrect[:9]):\n",
        "    plt.subplot(3,3,i+1)\n",
        "    plt.imshow(X_test[incorrect].reshape(28,28), cmap='gray', interpolation='none')\n",
        "    plt.title(\"Predicted {}, Class {}\".format(predicted_classes[incorrect], y_test[incorrect]))\n",
        "    plt.tight_layout()"
      ],
      "execution_count": 133,
      "outputs": [
        {
          "output_type": "stream",
          "text": [
            "Found 840 incorrect labels\n"
          ],
          "name": "stdout"
        },
        {
          "output_type": "display_data",
          "data": {
            "image/png": "[encoded data removed]",
            "text/plain": [
              "<Figure size 432x288 with 9 Axes>"
            ]
          },
          "metadata": {
            "tags": []
          }
        }
      ]
    },
    {
      "cell_type": "code",
      "metadata": {
        "id": "gosCwEaQKMCU",
        "colab_type": "code",
        "colab": {
          "base_uri": "https://localhost:8080/",
          "height": 306
        },
        "outputId": "30650d5a-0ce5-403f-fc4b-2f33fbbe19d2"
      },
      "source": [
        "from sklearn.metrics import classification_report\n",
        "target_names = [\"Class {}\".format(i) for i in range(num_classes)]\n",
        "print(classification_report(y_test, predicted_classes, target_names=target_names))"
      ],
      "execution_count": 134,
      "outputs": [
        {
          "output_type": "stream",
          "text": [
            "              precision    recall  f1-score   support\n",
            "\n",
            "     Class 0       0.78      0.90      0.84      1000\n",
            "     Class 1       0.99      0.98      0.99      1000\n",
            "     Class 2       0.85      0.91      0.88      1000\n",
            "     Class 3       0.94      0.90      0.92      1000\n",
            "     Class 4       0.87      0.86      0.87      1000\n",
            "     Class 5       0.99      0.97      0.98      1000\n",
            "     Class 6       0.84      0.71      0.77      1000\n",
            "     Class 7       0.95      0.99      0.97      1000\n",
            "     Class 8       0.99      0.98      0.99      1000\n",
            "     Class 9       0.98      0.95      0.97      1000\n",
            "\n",
            "    accuracy                           0.92     10000\n",
            "   macro avg       0.92      0.92      0.92     10000\n",
            "weighted avg       0.92      0.92      0.92     10000\n",
            "\n"
          ],
          "name": "stdout"
        }
      ]
    },
    {
      "cell_type": "markdown",
      "metadata": {
        "id": "mZhggWDXLbfH",
        "colab_type": "text"
      },
      "source": [
        "<font color=red size=4>\n",
        "One can see that the classifier is underperforming for class 6 regarding both precision and recall. For class 0 and class 2, the classifier is lacking precision. Also, for class 4, the classifier is slightly lacking both precision and recall."
      ]
    },
    {
      "cell_type": "code",
      "metadata": {
        "id": "LFGhv49XLKY9",
        "colab_type": "code",
        "colab": {}
      },
      "source": [
        ""
      ],
      "execution_count": 0,
      "outputs": []
    }
  ]
}