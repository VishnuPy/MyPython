{
  "nbformat": 4,
  "nbformat_minor": 0,
  "metadata": {
    "colab": {
      "name": "BreastCancer_Imbalance_DataSet.ipynb",
      "provenance": [],
      "collapsed_sections": [],
      "authorship_tag": "ABX9TyPAXWhlEU6iehViP4whBuwo",
      "include_colab_link": true
    },
    "kernelspec": {
      "name": "python3",
      "display_name": "Python 3"
    }
  },
  "cells": [
    {
      "cell_type": "markdown",
      "metadata": {
        "id": "view-in-github",
        "colab_type": "text"
      },
      "source": [
        "<a href=\"https://colab.research.google.com/github/VishnuPy/MyPython/blob/master/BreastCancer_Imbalance_DataSet.ipynb\" target=\"_parent\"><img src=\"https://colab.research.google.com/assets/colab-badge.svg\" alt=\"Open In Colab\"/></a>"
      ]
    },
    {
      "cell_type": "code",
      "metadata": {
        "id": "2eLyYFdGkKXq",
        "colab_type": "code",
        "colab": {
          "base_uri": "https://localhost:8080/",
          "height": 156
        },
        "outputId": "6f703930-9dc9-4b1d-d24b-0084975f2c54"
      },
      "source": [
        "from google.colab import drive\n",
        "drive.mount('/gdrive')\n",
        "%cd /gdrive\n",
        "%ls"
      ],
      "execution_count": 1,
      "outputs": [
        {
          "output_type": "stream",
          "text": [
            "Go to this URL in a browser: https://accounts.google.com/o/oauth2/auth?client_id=947318989803-6bn6qk8qdgf4n4g3pfee6491hc0brc4i.apps.googleusercontent.com&redirect_uri=urn%3aietf%3awg%3aoauth%3a2.0%3aoob&response_type=code&scope=email%20https%3a%2f%2fwww.googleapis.com%2fauth%2fdocs.test%20https%3a%2f%2fwww.googleapis.com%2fauth%2fdrive%20https%3a%2f%2fwww.googleapis.com%2fauth%2fdrive.photos.readonly%20https%3a%2f%2fwww.googleapis.com%2fauth%2fpeopleapi.readonly\n",
            "\n",
            "Enter your authorization code:\n",
            "··········\n",
            "Mounted at /gdrive\n",
            "/gdrive\n",
            "\u001b[0m\u001b[01;34m'My Drive'\u001b[0m/\n"
          ],
          "name": "stdout"
        }
      ]
    },
    {
      "cell_type": "code",
      "metadata": {
        "id": "XtuCt9kbieMC",
        "colab_type": "code",
        "colab": {}
      },
      "source": [
        "import pandas as pd\n",
        "import numpy as np\n",
        "from numpy import random\n",
        "\n",
        "import matplotlib.pyplot as plt\n",
        "%matplotlib inline\n",
        "import seaborn as sns\n"
      ],
      "execution_count": 0,
      "outputs": []
    },
    {
      "cell_type": "code",
      "metadata": {
        "id": "XUvys5rAjOPR",
        "colab_type": "code",
        "colab": {}
      },
      "source": [
        "columns = ['Sample code number', 'Clump Thickness', 'Uniformity of Cell Size', 'Uniformity of Cell Shape', 'Marginal Adhesion',\n",
        "          'Single Epithelial Cell Size', 'Bare Nuclei', 'Bland Chromatin', 'Normal Nucleoli', 'Mitoses', 'Class']"
      ],
      "execution_count": 0,
      "outputs": []
    },
    {
      "cell_type": "code",
      "metadata": {
        "id": "a4h-5kBrjj8s",
        "colab_type": "code",
        "colab": {}
      },
      "source": [
        "#this breast cancer txt file is different from csv file. Check out\n",
        "data = pd.read_table(\"/gdrive/My Drive/MyLearning/MLDLAIPython/Data/TextData/breast-cancer-wisconsin-data.txt\", delimiter=',', header=None)\n",
        "data.columns = columns"
      ],
      "execution_count": 0,
      "outputs": []
    },
    {
      "cell_type": "code",
      "metadata": {
        "id": "UoPrInvLjkxM",
        "colab_type": "code",
        "colab": {
          "base_uri": "https://localhost:8080/",
          "height": 238
        },
        "outputId": "b9cf7b88-8659-44e9-9374-e8e77b9cdda5"
      },
      "source": [
        "print (data.shape)\n",
        "data.head()"
      ],
      "execution_count": 5,
      "outputs": [
        {
          "output_type": "stream",
          "text": [
            "(699, 11)\n"
          ],
          "name": "stdout"
        },
        {
          "output_type": "execute_result",
          "data": {
            "text/html": [
              "<div>\n",
              "<style scoped>\n",
              "    .dataframe tbody tr th:only-of-type {\n",
              "        vertical-align: middle;\n",
              "    }\n",
              "\n",
              "    .dataframe tbody tr th {\n",
              "        vertical-align: top;\n",
              "    }\n",
              "\n",
              "    .dataframe thead th {\n",
              "        text-align: right;\n",
              "    }\n",
              "</style>\n",
              "<table border=\"1\" class=\"dataframe\">\n",
              "  <thead>\n",
              "    <tr style=\"text-align: right;\">\n",
              "      <th></th>\n",
              "      <th>Sample code number</th>\n",
              "      <th>Clump Thickness</th>\n",
              "      <th>Uniformity of Cell Size</th>\n",
              "      <th>Uniformity of Cell Shape</th>\n",
              "      <th>Marginal Adhesion</th>\n",
              "      <th>Single Epithelial Cell Size</th>\n",
              "      <th>Bare Nuclei</th>\n",
              "      <th>Bland Chromatin</th>\n",
              "      <th>Normal Nucleoli</th>\n",
              "      <th>Mitoses</th>\n",
              "      <th>Class</th>\n",
              "    </tr>\n",
              "  </thead>\n",
              "  <tbody>\n",
              "    <tr>\n",
              "      <th>0</th>\n",
              "      <td>1000025</td>\n",
              "      <td>5</td>\n",
              "      <td>1</td>\n",
              "      <td>1</td>\n",
              "      <td>1</td>\n",
              "      <td>2</td>\n",
              "      <td>1</td>\n",
              "      <td>3</td>\n",
              "      <td>1</td>\n",
              "      <td>1</td>\n",
              "      <td>2</td>\n",
              "    </tr>\n",
              "    <tr>\n",
              "      <th>1</th>\n",
              "      <td>1002945</td>\n",
              "      <td>5</td>\n",
              "      <td>4</td>\n",
              "      <td>4</td>\n",
              "      <td>5</td>\n",
              "      <td>7</td>\n",
              "      <td>10</td>\n",
              "      <td>3</td>\n",
              "      <td>2</td>\n",
              "      <td>1</td>\n",
              "      <td>2</td>\n",
              "    </tr>\n",
              "    <tr>\n",
              "      <th>2</th>\n",
              "      <td>1015425</td>\n",
              "      <td>3</td>\n",
              "      <td>1</td>\n",
              "      <td>1</td>\n",
              "      <td>1</td>\n",
              "      <td>2</td>\n",
              "      <td>2</td>\n",
              "      <td>3</td>\n",
              "      <td>1</td>\n",
              "      <td>1</td>\n",
              "      <td>2</td>\n",
              "    </tr>\n",
              "    <tr>\n",
              "      <th>3</th>\n",
              "      <td>1016277</td>\n",
              "      <td>6</td>\n",
              "      <td>8</td>\n",
              "      <td>8</td>\n",
              "      <td>1</td>\n",
              "      <td>3</td>\n",
              "      <td>4</td>\n",
              "      <td>3</td>\n",
              "      <td>7</td>\n",
              "      <td>1</td>\n",
              "      <td>2</td>\n",
              "    </tr>\n",
              "    <tr>\n",
              "      <th>4</th>\n",
              "      <td>1017023</td>\n",
              "      <td>4</td>\n",
              "      <td>1</td>\n",
              "      <td>1</td>\n",
              "      <td>3</td>\n",
              "      <td>2</td>\n",
              "      <td>1</td>\n",
              "      <td>3</td>\n",
              "      <td>1</td>\n",
              "      <td>1</td>\n",
              "      <td>2</td>\n",
              "    </tr>\n",
              "  </tbody>\n",
              "</table>\n",
              "</div>"
            ],
            "text/plain": [
              "   Sample code number  Clump Thickness  ...  Mitoses  Class\n",
              "0             1000025                5  ...        1      2\n",
              "1             1002945                5  ...        1      2\n",
              "2             1015425                3  ...        1      2\n",
              "3             1016277                6  ...        1      2\n",
              "4             1017023                4  ...        1      2\n",
              "\n",
              "[5 rows x 11 columns]"
            ]
          },
          "metadata": {
            "tags": []
          },
          "execution_count": 5
        }
      ]
    },
    {
      "cell_type": "code",
      "metadata": {
        "id": "0RiI5sVUrzEq",
        "colab_type": "code",
        "colab": {
          "base_uri": "https://localhost:8080/",
          "height": 221
        },
        "outputId": "8aca15f1-a843-4b71-f3c4-b0672daef246"
      },
      "source": [
        "data.dtypes"
      ],
      "execution_count": 6,
      "outputs": [
        {
          "output_type": "execute_result",
          "data": {
            "text/plain": [
              "Sample code number              int64\n",
              "Clump Thickness                 int64\n",
              "Uniformity of Cell Size         int64\n",
              "Uniformity of Cell Shape        int64\n",
              "Marginal Adhesion               int64\n",
              "Single Epithelial Cell Size     int64\n",
              "Bare Nuclei                    object\n",
              "Bland Chromatin                 int64\n",
              "Normal Nucleoli                 int64\n",
              "Mitoses                         int64\n",
              "Class                           int64\n",
              "dtype: object"
            ]
          },
          "metadata": {
            "tags": []
          },
          "execution_count": 6
        }
      ]
    },
    {
      "cell_type": "markdown",
      "metadata": {
        "id": "y_0kiSKsoMqR",
        "colab_type": "text"
      },
      "source": [
        "The target label has two classes 1) label 2 is benign which is no breast cancer \n",
        "2) label 4 is malignant which means the patient has breast cancer. For model training and evaluation, the patients with no breast cancer have been labelled as 0 and with breast cancer as 1"
      ]
    },
    {
      "cell_type": "code",
      "metadata": {
        "id": "vmAh6vBElJFL",
        "colab_type": "code",
        "colab": {
          "base_uri": "https://localhost:8080/",
          "height": 279
        },
        "outputId": "2f805202-413e-4006-a389-89278e41e549"
      },
      "source": [
        "data ['Class'] = data['Class'].apply(lambda x: 1 if x ==4 else 0)\n",
        "sns.countplot(data['Class'])\n",
        "plt.show()"
      ],
      "execution_count": 7,
      "outputs": [
        {
          "output_type": "display_data",
          "data": {
            "image/png": "[encoded data removed]",
            "text/plain": [
              "<Figure size 432x288 with 1 Axes>"
            ]
          },
          "metadata": {
            "tags": []
          }
        }
      ]
    },
    {
      "cell_type": "markdown",
      "metadata": {
        "id": "jh3T5Qhdow_e",
        "colab_type": "text"
      },
      "source": [
        "The data is imbalanced, but its not very terrible.For the purpose of this analysis, the dataset needs to be very imbalanced. Hence only 5% of the positive instances will be used from original dataset"
      ]
    },
    {
      "cell_type": "code",
      "metadata": {
        "id": "IFH2lkWkoqev",
        "colab_type": "code",
        "colab": {
          "base_uri": "https://localhost:8080/",
          "height": 51
        },
        "outputId": "44cd5a32-2fe2-4d70-cf05-b907a2661a44"
      },
      "source": [
        "#separate class 0 from 1\n",
        "data_m = data[data['Class']==1]\n",
        "data_b = data[data['Class']==0]\n",
        "\n",
        "print (data_m.shape)\n",
        "print (data_b.shape)"
      ],
      "execution_count": 8,
      "outputs": [
        {
          "output_type": "stream",
          "text": [
            "(241, 11)\n",
            "(458, 11)\n"
          ],
          "name": "stdout"
        }
      ]
    },
    {
      "cell_type": "code",
      "metadata": {
        "id": "KOM24EH-pANx",
        "colab_type": "code",
        "colab": {
          "base_uri": "https://localhost:8080/",
          "height": 34
        },
        "outputId": "587132e0-b312-4d5a-fbaa-a22830291c31"
      },
      "source": [
        "# sampling from positive instances and appending to class 0 data\n",
        "random.seed(0)\n",
        "data_m_sample = data_m.sample(12, replace=False)\n",
        "new_data = pd.concat([data_b, data_m_sample])\n",
        "print (new_data.shape)"
      ],
      "execution_count": 9,
      "outputs": [
        {
          "output_type": "stream",
          "text": [
            "(470, 11)\n"
          ],
          "name": "stdout"
        }
      ]
    },
    {
      "cell_type": "code",
      "metadata": {
        "id": "-rFMbrWXpOUd",
        "colab_type": "code",
        "colab": {}
      },
      "source": [
        "def data_check(df, column_list):\n",
        "    \"\"\"    \n",
        "    Function to perform data cleaning i.e\n",
        "    dropping rows and columns with invalid entries\n",
        "    and converting the dtypes of the columns to be sklearn friendly\n",
        "    \n",
        "    parameters: pandas dataframe, list of columns that need to be dropped\n",
        "    returns: processed dataframe\n",
        "    \"\"\"\n",
        "    for col in column_list:\n",
        "        df.drop(col, axis=1, inplace=True)\n",
        "    df.dropna(inplace=True)\n",
        "    print(df.shape)\n",
        "    cols_to_process = []\n",
        "    for indx, dt in enumerate(df.dtypes):\n",
        "        if dt != int:\n",
        "            cols_to_process.append(df.dtypes.index[indx])\n",
        "    for col in cols_to_process:\n",
        "        invalid_inputs = set()\n",
        "        for val in df[col]:\n",
        "            try:\n",
        "                int(val)\n",
        "            except:\n",
        "                invalid_inputs.add(val)\n",
        "        if invalid_inputs:\n",
        "            print(col)\n",
        "            print ('invalid input: {}'.format(invalid_inputs))\n",
        "        for iv in invalid_inputs:\n",
        "            df = df[df[col] != iv]\n",
        "        df[col] = df[col].astype(int)\n",
        "    return df"
      ],
      "execution_count": 0,
      "outputs": []
    },
    {
      "cell_type": "code",
      "metadata": {
        "id": "4Iol1gVlrPdV",
        "colab_type": "code",
        "colab": {
          "base_uri": "https://localhost:8080/",
          "height": 153
        },
        "outputId": "2c507a83-196f-49c6-87af-cb3a6143dbda"
      },
      "source": [
        "new_data = data_check(new_data, ['Sample code number'] )"
      ],
      "execution_count": 11,
      "outputs": [
        {
          "output_type": "stream",
          "text": [
            "(470, 10)\n",
            "Bare Nuclei\n",
            "invalid input: {'?'}\n"
          ],
          "name": "stdout"
        },
        {
          "output_type": "stream",
          "text": [
            "/usr/local/lib/python3.6/dist-packages/ipykernel_launcher.py:30: SettingWithCopyWarning: \n",
            "A value is trying to be set on a copy of a slice from a DataFrame.\n",
            "Try using .loc[row_indexer,col_indexer] = value instead\n",
            "\n",
            "See the caveats in the documentation: http://pandas.pydata.org/pandas-docs/stable/user_guide/indexing.html#returning-a-view-versus-a-copy\n"
          ],
          "name": "stderr"
        }
      ]
    },
    {
      "cell_type": "code",
      "metadata": {
        "id": "4ZGWROKXrb-1",
        "colab_type": "code",
        "colab": {}
      },
      "source": [
        "new_data.to_csv(\"/gdrive/My Drive/MyLearning/MLDLAIPython/Data/TextData/updated_breast_cancer_overly_imbalanced_data.csv\")"
      ],
      "execution_count": 0,
      "outputs": []
    },
    {
      "cell_type": "code",
      "metadata": {
        "id": "5Vfy7vtxs_u-",
        "colab_type": "code",
        "colab": {
          "base_uri": "https://localhost:8080/",
          "height": 105
        },
        "outputId": "f144f313-075c-4a75-92e1-0c47b593cc46"
      },
      "source": [
        "from imblearn.over_sampling import SMOTE\n",
        "from numpy.random import RandomState\n",
        "from sklearn.tree import DecisionTreeClassifier\n",
        "from sklearn.ensemble import RandomForestClassifier\n",
        "from sklearn.metrics import accuracy_score, precision_score, recall_score, f1_score\n",
        "from sklearn.model_selection import train_test_split, cross_val_score, cross_val_predict, StratifiedKFold\n",
        "import warnings\n",
        "warnings.filterwarnings('ignore')\n",
        "\n",
        "%matplotlib inline\n",
        "sns.set_palette(['#06B1F0', '#FC4B60'])\n",
        "random_seed = 63445"
      ],
      "execution_count": 13,
      "outputs": [
        {
          "output_type": "stream",
          "text": [
            "/usr/local/lib/python3.6/dist-packages/sklearn/externals/six.py:31: FutureWarning: The module is deprecated in version 0.21 and will be removed in version 0.23 since we've dropped support for Python 2.7. Please rely on the official version of six (https://pypi.org/project/six/).\n",
            "  \"(https://pypi.org/project/six/).\", FutureWarning)\n",
            "/usr/local/lib/python3.6/dist-packages/sklearn/utils/deprecation.py:144: FutureWarning: The sklearn.neighbors.base module is  deprecated in version 0.22 and will be removed in version 0.24. The corresponding classes / functions should instead be imported from sklearn.neighbors. Anything that cannot be imported from sklearn.neighbors is now part of the private API.\n",
            "  warnings.warn(message, FutureWarning)\n"
          ],
          "name": "stderr"
        }
      ]
    },
    {
      "cell_type": "code",
      "metadata": {
        "id": "NAbNS2mLtEKb",
        "colab_type": "code",
        "colab": {
          "base_uri": "https://localhost:8080/",
          "height": 238
        },
        "outputId": "777681af-5ea8-4576-c6ca-1c0e4980c4fa"
      },
      "source": [
        "new_data = pd.read_csv(\"/gdrive/My Drive/MyLearning/MLDLAIPython/Data/TextData/updated_breast_cancer_overly_imbalanced_data.csv\", index_col=0)\n",
        "print (\"DATA SHAPE: \", new_data.shape)\n",
        "new_data.head()"
      ],
      "execution_count": 14,
      "outputs": [
        {
          "output_type": "stream",
          "text": [
            "DATA SHAPE:  (456, 10)\n"
          ],
          "name": "stdout"
        },
        {
          "output_type": "execute_result",
          "data": {
            "text/html": [
              "<div>\n",
              "<style scoped>\n",
              "    .dataframe tbody tr th:only-of-type {\n",
              "        vertical-align: middle;\n",
              "    }\n",
              "\n",
              "    .dataframe tbody tr th {\n",
              "        vertical-align: top;\n",
              "    }\n",
              "\n",
              "    .dataframe thead th {\n",
              "        text-align: right;\n",
              "    }\n",
              "</style>\n",
              "<table border=\"1\" class=\"dataframe\">\n",
              "  <thead>\n",
              "    <tr style=\"text-align: right;\">\n",
              "      <th></th>\n",
              "      <th>Clump Thickness</th>\n",
              "      <th>Uniformity of Cell Size</th>\n",
              "      <th>Uniformity of Cell Shape</th>\n",
              "      <th>Marginal Adhesion</th>\n",
              "      <th>Single Epithelial Cell Size</th>\n",
              "      <th>Bare Nuclei</th>\n",
              "      <th>Bland Chromatin</th>\n",
              "      <th>Normal Nucleoli</th>\n",
              "      <th>Mitoses</th>\n",
              "      <th>Class</th>\n",
              "    </tr>\n",
              "  </thead>\n",
              "  <tbody>\n",
              "    <tr>\n",
              "      <th>0</th>\n",
              "      <td>5</td>\n",
              "      <td>1</td>\n",
              "      <td>1</td>\n",
              "      <td>1</td>\n",
              "      <td>2</td>\n",
              "      <td>1</td>\n",
              "      <td>3</td>\n",
              "      <td>1</td>\n",
              "      <td>1</td>\n",
              "      <td>0</td>\n",
              "    </tr>\n",
              "    <tr>\n",
              "      <th>1</th>\n",
              "      <td>5</td>\n",
              "      <td>4</td>\n",
              "      <td>4</td>\n",
              "      <td>5</td>\n",
              "      <td>7</td>\n",
              "      <td>10</td>\n",
              "      <td>3</td>\n",
              "      <td>2</td>\n",
              "      <td>1</td>\n",
              "      <td>0</td>\n",
              "    </tr>\n",
              "    <tr>\n",
              "      <th>2</th>\n",
              "      <td>3</td>\n",
              "      <td>1</td>\n",
              "      <td>1</td>\n",
              "      <td>1</td>\n",
              "      <td>2</td>\n",
              "      <td>2</td>\n",
              "      <td>3</td>\n",
              "      <td>1</td>\n",
              "      <td>1</td>\n",
              "      <td>0</td>\n",
              "    </tr>\n",
              "    <tr>\n",
              "      <th>3</th>\n",
              "      <td>6</td>\n",
              "      <td>8</td>\n",
              "      <td>8</td>\n",
              "      <td>1</td>\n",
              "      <td>3</td>\n",
              "      <td>4</td>\n",
              "      <td>3</td>\n",
              "      <td>7</td>\n",
              "      <td>1</td>\n",
              "      <td>0</td>\n",
              "    </tr>\n",
              "    <tr>\n",
              "      <th>4</th>\n",
              "      <td>4</td>\n",
              "      <td>1</td>\n",
              "      <td>1</td>\n",
              "      <td>3</td>\n",
              "      <td>2</td>\n",
              "      <td>1</td>\n",
              "      <td>3</td>\n",
              "      <td>1</td>\n",
              "      <td>1</td>\n",
              "      <td>0</td>\n",
              "    </tr>\n",
              "  </tbody>\n",
              "</table>\n",
              "</div>"
            ],
            "text/plain": [
              "   Clump Thickness  Uniformity of Cell Size  ...  Mitoses  Class\n",
              "0                5                        1  ...        1      0\n",
              "1                5                        4  ...        1      0\n",
              "2                3                        1  ...        1      0\n",
              "3                6                        8  ...        1      0\n",
              "4                4                        1  ...        1      0\n",
              "\n",
              "[5 rows x 10 columns]"
            ]
          },
          "metadata": {
            "tags": []
          },
          "execution_count": 14
        }
      ]
    },
    {
      "cell_type": "markdown",
      "metadata": {
        "id": "muV-KkBY0PJu",
        "colab_type": "text"
      },
      "source": [
        "**Class Distribution**"
      ]
    },
    {
      "cell_type": "code",
      "metadata": {
        "id": "o560wJZW0NpQ",
        "colab_type": "code",
        "colab": {
          "base_uri": "https://localhost:8080/",
          "height": 68
        },
        "outputId": "2914032c-ffa4-4389-fa02-de42604dd04d"
      },
      "source": [
        "new_data['Class'].value_counts()"
      ],
      "execution_count": 15,
      "outputs": [
        {
          "output_type": "execute_result",
          "data": {
            "text/plain": [
              "0    444\n",
              "1     12\n",
              "Name: Class, dtype: int64"
            ]
          },
          "metadata": {
            "tags": []
          },
          "execution_count": 15
        }
      ]
    },
    {
      "cell_type": "markdown",
      "metadata": {
        "id": "UAbQJery0bDl",
        "colab_type": "text"
      },
      "source": [
        "The problem we are trying to solve in this analysis is breast cancer prediction. Based on the features available, we are going to predict whether the tumor a patient has is benign or malignant. One of the biggest challenges of this analysis is to deal with an imbalanced dataset"
      ]
    },
    {
      "cell_type": "code",
      "metadata": {
        "id": "ZTUpmHxr0hvN",
        "colab_type": "code",
        "colab": {
          "base_uri": "https://localhost:8080/",
          "height": 279
        },
        "outputId": "aa12f7e9-b9ce-4399-bd2f-9c9244f17710"
      },
      "source": [
        "sns.countplot(new_data['Class'])\n",
        "plt.show()"
      ],
      "execution_count": 16,
      "outputs": [
        {
          "output_type": "display_data",
          "data": {
            "image/png": "[encoded data removed]",
            "text/plain": [
              "<Figure size 432x288 with 1 Axes>"
            ]
          },
          "metadata": {
            "tags": []
          }
        }
      ]
    },
    {
      "cell_type": "code",
      "metadata": {
        "id": "bW5usyhhtOL2",
        "colab_type": "code",
        "colab": {}
      },
      "source": [
        "def metrics(true, preds):\n",
        "    \"\"\"\n",
        "    Function to calculate evaluation metrics \n",
        "    parameters: true values, predictions\n",
        "    prints accuracy, recall, precision and f1 scores\n",
        "    \"\"\"\n",
        "    accuracy = accuracy_score(true, preds)\n",
        "    recall = recall_score(true, preds)\n",
        "    precision = precision_score(true, preds)\n",
        "    f1score = f1_score(true, preds)\n",
        "    print ('accuracy: {}, recall: {}, precision: {}, f1-score: {}'.format(accuracy, recall, precision, f1score))"
      ],
      "execution_count": 0,
      "outputs": []
    },
    {
      "cell_type": "code",
      "metadata": {
        "id": "HP-f07L7xgx2",
        "colab_type": "code",
        "colab": {
          "base_uri": "https://localhost:8080/",
          "height": 187
        },
        "outputId": "2e854989-9266-4cf4-ca3d-53b5c9b81c46"
      },
      "source": [
        "\n",
        "x_train, x_test, y_train, y_test = train_test_split(new_data.drop('Class', axis=1), new_data['Class'], test_size = 0.30, random_state=random_seed, stratify=new_data['Class'])\n",
        "print (\"TRAIN DATA SHAPE: \", x_train.shape)\n",
        "print (\"TEST DATA SHAPE: \", x_test.shape)\n",
        "rf = RandomForestClassifier(n_estimators=5, random_state=random_seed)\n",
        "rf.fit(x_train, y_train)"
      ],
      "execution_count": 18,
      "outputs": [
        {
          "output_type": "stream",
          "text": [
            "TRAIN DATA SHAPE:  (319, 9)\n",
            "TEST DATA SHAPE:  (137, 9)\n"
          ],
          "name": "stdout"
        },
        {
          "output_type": "execute_result",
          "data": {
            "text/plain": [
              "RandomForestClassifier(bootstrap=True, ccp_alpha=0.0, class_weight=None,\n",
              "                       criterion='gini', max_depth=None, max_features='auto',\n",
              "                       max_leaf_nodes=None, max_samples=None,\n",
              "                       min_impurity_decrease=0.0, min_impurity_split=None,\n",
              "                       min_samples_leaf=1, min_samples_split=2,\n",
              "                       min_weight_fraction_leaf=0.0, n_estimators=5,\n",
              "                       n_jobs=None, oob_score=False, random_state=63445,\n",
              "                       verbose=0, warm_start=False)"
            ]
          },
          "metadata": {
            "tags": []
          },
          "execution_count": 18
        }
      ]
    },
    {
      "cell_type": "code",
      "metadata": {
        "id": "VyXu9fGRxjti",
        "colab_type": "code",
        "colab": {
          "base_uri": "https://localhost:8080/",
          "height": 34
        },
        "outputId": "08e81b61-8697-46c0-aadf-190daf4e6422"
      },
      "source": [
        "preds = rf.predict(x_test)\n",
        "metrics(y_test, preds)"
      ],
      "execution_count": 19,
      "outputs": [
        {
          "output_type": "stream",
          "text": [
            "accuracy: 0.9708029197080292, recall: 0.0, precision: 0.0, f1-score: 0.0\n"
          ],
          "name": "stdout"
        }
      ]
    },
    {
      "cell_type": "markdown",
      "metadata": {
        "id": "s-67w_IJ0vdM",
        "colab_type": "text"
      },
      "source": [
        "**Over-sampling the minority class in training set using SMOTE**"
      ]
    },
    {
      "cell_type": "code",
      "metadata": {
        "id": "_NohQSBdx3A3",
        "colab_type": "code",
        "colab": {
          "base_uri": "https://localhost:8080/",
          "height": 51
        },
        "outputId": "ccfbd72c-253c-44bd-e2a4-ab53576d6d74"
      },
      "source": [
        "sm = SMOTE(random_state=random_seed)\n",
        "X, y = sm.fit_sample(x_train, y_train, )\n",
        "\n",
        "print('Shape of oversample data. {}'.format(X.shape))\n",
        "print('Shape of y. {}'.format(y.shape))"
      ],
      "execution_count": 20,
      "outputs": [
        {
          "output_type": "stream",
          "text": [
            "Shape of oversample data. (622, 9)\n",
            "Shape of y. (622,)\n"
          ],
          "name": "stdout"
        }
      ]
    },
    {
      "cell_type": "code",
      "metadata": {
        "id": "el0QZHUs1SJZ",
        "colab_type": "code",
        "colab": {}
      },
      "source": [
        "X = np.floor(X).astype(int)\n"
      ],
      "execution_count": 0,
      "outputs": []
    },
    {
      "cell_type": "code",
      "metadata": {
        "id": "qDJWoZ9b1nVU",
        "colab_type": "code",
        "colab": {
          "base_uri": "https://localhost:8080/",
          "height": 281
        },
        "outputId": "cc5b23e5-d468-4250-cd65-3b34b0e6154f"
      },
      "source": [
        "sns.countplot(y)\n",
        "plt.title('Balanced Training Data')\n",
        "plt.show()"
      ],
      "execution_count": 22,
      "outputs": [
        {
          "output_type": "display_data",
          "data": {
            "image/png": "[encoded data removed]",
            "text/plain": [
              "<Figure size 432x288 with 1 Axes>"
            ]
          },
          "metadata": {
            "tags": []
          }
        }
      ]
    },
    {
      "cell_type": "code",
      "metadata": {
        "id": "INogpqhR1xEq",
        "colab_type": "code",
        "colab": {
          "base_uri": "https://localhost:8080/",
          "height": 85
        },
        "outputId": "e6562ce9-aeb0-4c61-cca7-76d09dbfe54d"
      },
      "source": [
        "rf = RandomForestClassifier(n_estimators=5, random_state=random_seed)\n",
        "recall_scores = cross_val_score(rf, X, y, scoring='recall', cv=5)\n",
        "f1_scores = cross_val_score(rf, X, y, scoring='f1', cv=5)\n",
        "accuracy_scores = cross_val_score(rf, X, y, scoring='accuracy', cv=5)\n",
        "precision_scores = cross_val_score(rf, X, y, scoring='precision', cv=5)\n",
        "\n",
        "print ('Average Recall Score: {}'.format(np.mean(recall_scores)))\n",
        "print ('Average F1 Score: {}'.format(np.mean(f1_scores)))\n",
        "print ('Average Accracy Score: {}'.format(np.mean(accuracy_scores)))\n",
        "print ('Average Precision Score: {}'.format(np.mean(precision_scores)))"
      ],
      "execution_count": 23,
      "outputs": [
        {
          "output_type": "stream",
          "text": [
            "Average Recall Score: 1.0\n",
            "Average F1 Score: 0.9936755905511812\n",
            "Average Accracy Score: 0.9935483870967742\n",
            "Average Precision Score: 0.9875946275946277\n"
          ],
          "name": "stdout"
        }
      ]
    },
    {
      "cell_type": "markdown",
      "metadata": {
        "id": "QxlGoWjq2ywW",
        "colab_type": "text"
      },
      "source": [
        "**whoohooo. the cross validation scores look amazing. Let's see how it performs on test data**"
      ]
    },
    {
      "cell_type": "markdown",
      "metadata": {
        "id": "L6FpygkN24VG",
        "colab_type": "text"
      },
      "source": [
        "**Results of Training Dataset**"
      ]
    },
    {
      "cell_type": "code",
      "metadata": {
        "id": "X-U0xDgW2s2X",
        "colab_type": "code",
        "colab": {
          "base_uri": "https://localhost:8080/",
          "height": 85
        },
        "outputId": "b612782b-5027-48b7-c402-3c5b84fa7e0b"
      },
      "source": [
        "preds = cross_val_predict(rf, X, y , cv=5)\n",
        "print ('Accuracy score: {}'.format(accuracy_score(y, preds)))\n",
        "print ('Recall score: {}'.format(recall_score(y, preds)))\n",
        "print ('Precision score: {}'.format(precision_score(y, preds)))\n",
        "print ('f1-score: {}'.format(f1_score(y, preds)))"
      ],
      "execution_count": 24,
      "outputs": [
        {
          "output_type": "stream",
          "text": [
            "Accuracy score: 0.9935691318327974\n",
            "Recall score: 1.0\n",
            "Precision score: 0.9873015873015873\n",
            "f1-score: 0.9936102236421726\n"
          ],
          "name": "stdout"
        }
      ]
    },
    {
      "cell_type": "markdown",
      "metadata": {
        "id": "sRmq-eDc3hYZ",
        "colab_type": "text"
      },
      "source": [
        "**Results of Test Dataset**"
      ]
    },
    {
      "cell_type": "code",
      "metadata": {
        "id": "rlmoYQuR3QNK",
        "colab_type": "code",
        "colab": {
          "base_uri": "https://localhost:8080/",
          "height": 85
        },
        "outputId": "ec29d325-498a-4c63-c8d2-f3cc78d87083"
      },
      "source": [
        "rf = RandomForestClassifier(n_estimators=5, random_state=random_seed)\n",
        "rf.fit(X, y)\n",
        "test_preds = rf.predict(x_test)\n",
        "print('Accuracy Score: {}'.format(accuracy_score(y_test, test_preds)))\n",
        "print('Recall Score: {}'.format(recall_score(y_test, test_preds)))\n",
        "print('Precision Score: {}'.format(precision_score(y_test, test_preds)))\n",
        "print('F1 Score: {}'.format(f1_score(y_test, test_preds)))"
      ],
      "execution_count": 25,
      "outputs": [
        {
          "output_type": "stream",
          "text": [
            "Accuracy Score: 0.9781021897810219\n",
            "Recall Score: 0.5\n",
            "Precision Score: 0.6666666666666666\n",
            "F1 Score: 0.5714285714285715\n"
          ],
          "name": "stdout"
        }
      ]
    },
    {
      "cell_type": "markdown",
      "metadata": {
        "id": "RPXSgKxC4WuY",
        "colab_type": "text"
      },
      "source": [
        "Test results are not as expected. Cross Validation Recall was 100% where as in Test it is only 50%. Looks like its over-fitting despite the Cross-validation to ensure model does not overfit. \n",
        "Lets look at the class distribution.\n",
        "\n",
        "**Distribution of features over malignant and benign tumors**"
      ]
    },
    {
      "cell_type": "code",
      "metadata": {
        "id": "8r_voqKG4PFP",
        "colab_type": "code",
        "colab": {
          "base_uri": "https://localhost:8080/",
          "height": 437
        },
        "outputId": "05df5ab7-95bd-4ece-a0a8-23232d88da6d"
      },
      "source": [
        "ccols = new_data.columns\n",
        "\n",
        "grouped_data = new_data.groupby('Class')\n",
        "sns.set(font_scale=1)\n",
        "sns.set_palette(['#06B1F0', '#FC4B60'])\n",
        "fig, axes = plt.subplots(nrows=3, ncols=3, figsize=(12,6), tight_layout=True)\n",
        "\n",
        "for ax, p in zip(axes.ravel(), ccols):\n",
        "    for k, v in grouped_data[p]:\n",
        "        sns.kdeplot(v, ax=ax, label=str(k)+\".\"+v.name)\n",
        "        plt.setp(ax.get_legend().get_texts(), fontsize='12')\n",
        "plt.show()"
      ],
      "execution_count": 26,
      "outputs": [
        {
          "output_type": "display_data",
          "data": {
            "image/png": "[encoded data removed]",
            "text/plain": [
              "<Figure size 864x432 with 9 Axes>"
            ]
          },
          "metadata": {
            "tags": []
          }
        }
      ]
    },
    {
      "cell_type": "markdown",
      "metadata": {
        "id": "kqzsWt1t75_J",
        "colab_type": "text"
      },
      "source": [
        "As can be seen, only two features have high discriminative power between classes 0 and 1, that is, Clumnp Thickness and Bare Nuclei have high class overlap. Rest of the feature do not have much overlap. \n",
        "This tells us that features and cross-validation did not contribute to Overfitting. This leave us with some kind of data leakage from training to test. If we recollect, Cross-validation happened after Upsampling. Ideally, Oversampling should be done only on Training dataset in each Cross-validation iteration. This would have prevented the information bleeding from validation set to the training set during cross-validation. \n",
        "\n",
        "**Oversampling in each cross-validation loop**"
      ]
    },
    {
      "cell_type": "code",
      "metadata": {
        "id": "ZSyQMa-75xTQ",
        "colab_type": "code",
        "colab": {
          "base_uri": "https://localhost:8080/",
          "height": 170
        },
        "outputId": "be33f233-72e1-4ac6-a284-943b6aa9df7c"
      },
      "source": [
        "kf = StratifiedKFold(n_splits=5, random_state=random_seed)\n",
        "cross_val_f1score_lst = []\n",
        "cross_val_accuracy_lst = []\n",
        "cross_val_precision_lst = []\n",
        "cross_val_recall_lst = []\n",
        "\n",
        "for train_index_lst, validation_index_lst in kf.split(x_train, y_train):\n",
        "    #keeping validation set aside and oversampling in each iteration using SMOTE\n",
        "    train, validation = x_train.iloc[train_index_lst], x_train.iloc[validation_index_lst]\n",
        "    target_train, target_val = y_train.iloc[train_index_lst], y_train.iloc[validation_index_lst]\n",
        "    sm = SMOTE(random_state=random_seed)\n",
        "    X_train_res, y_train_res = sm.fit_sample(train, target_train)\n",
        "    print(X_train_res.shape, y_train_res.shape)\n",
        "\n",
        "    #Training the model on oversampled 4 folds of training set\n",
        "    rf = RandomForestClassifier(n_estimators=5, random_state=random_seed)\n",
        "    rf.fit(X_train_res, y_train_res)\n",
        "\n",
        "    #testing on 1 fold of validation set\n",
        "    validation_preds = rf.predict(validation)\n",
        "    cross_val_recall_lst.append(recall_score(target_val, validation_preds))\n",
        "    cross_val_precision_lst.append(precision_score(target_val, validation_preds))\n",
        "    cross_val_accuracy_lst.append(accuracy_score(target_val, validation_preds))\n",
        "    cross_val_f1score_lst.append(f1_score(target_val, validation_preds))\n",
        "\n",
        "print ('Cross validated accuracy: {}'.format(np.mean(cross_val_accuracy_lst)))\n",
        "print ('Cross validated recall score: {}'.format(np.mean(cross_val_recall_lst)))\n",
        "print ('Cross validated precision score: {}'.format(np.mean(cross_val_precision_lst)))\n",
        "print ('Cross validated f1_score: {}'.format(np.mean(cross_val_f1score_lst)))"
      ],
      "execution_count": 27,
      "outputs": [
        {
          "output_type": "stream",
          "text": [
            "(496, 9) (496,)\n",
            "(498, 9) (498,)\n",
            "(498, 9) (498,)\n",
            "(498, 9) (498,)\n",
            "(498, 9) (498,)\n",
            "Cross validated accuracy: 0.9779761904761906\n",
            "Cross validated recall score: 0.7\n",
            "Cross validated precision score: 0.5833333333333333\n",
            "Cross validated f1_score: 0.5733333333333334\n"
          ],
          "name": "stdout"
        }
      ]
    },
    {
      "cell_type": "code",
      "metadata": {
        "id": "jdJZjFA_Aiqr",
        "colab_type": "code",
        "colab": {}
      },
      "source": [
        "r_s, p_s = np.mean(recall_scores), np.mean(precision_scores)\n",
        "a_s, f_s = np.mean(accuracy_scores), np.mean(f1_scores)\n",
        "\n",
        "r_s_l, p_s_l = np.mean(cross_val_recall_lst), np.mean(cross_val_precision_lst)\n",
        "a_s_l, f_s_l = np.mean(cross_val_accuracy_lst), np.mean(cross_val_f1score_lst)\n",
        "\n",
        "metrics_df_wrong = pd.DataFrame(list(zip([r_s], [p_s], [f_s], [a_s])), columns=['Recall', 'Precision', 'F1Score', 'Accuracy'])\n",
        "metrics_df_right = pd.DataFrame(list(zip([r_s_l], [p_s_l], [f_s_l], [a_s_l])), columns=['Recall', 'Precision', 'F1Score', 'Accuracy'])\n",
        "metrics_df = pd.concat([metrics_df_wrong, metrics_df_right], axis=0)"
      ],
      "execution_count": 0,
      "outputs": []
    },
    {
      "cell_type": "code",
      "metadata": {
        "id": "1y_a_ebYDGQ_",
        "colab_type": "code",
        "colab": {}
      },
      "source": [
        "metrics_df.index = (['Cross Validation and Oversampling done Wrong', 'Cross Validation and Oversampling done Right'])\n",
        "metrics_df = metrics_df.transpose()"
      ],
      "execution_count": 0,
      "outputs": []
    },
    {
      "cell_type": "code",
      "metadata": {
        "id": "pe7CDUisDnMj",
        "colab_type": "code",
        "colab": {
          "base_uri": "https://localhost:8080/",
          "height": 453
        },
        "outputId": "c7bb3329-e500-4cd0-9047-090371f8f14c"
      },
      "source": [
        "plt.figure(figsize=(8, 6))\n",
        "ax = plt.subplot(111)\n",
        "ax.bar([0, 2, 4, 6], metrics_df['Cross Validation and Oversampling done Wrong'], \n",
        "       color='deepskyblue', label='Cross Validation and Oversampling done Wrong')\n",
        "ax.bar([0.8, 2.8, 4.8, 6.8], metrics_df['Cross Validation and Oversampling done Right'], \n",
        "       color='red', label='Cross Validation and Oversampling done Right')\n",
        "\n",
        "ax.legend(loc='upper right', bbox_to_anchor=(1.1, 1.2))\n",
        "plt.xticks([0, 2 ,4 ,6], ['Recall', 'Precision', 'F1-Score', 'Accuracy'], horizontalalignment='left')\n",
        "plt.xlabel('Metrics')\n",
        "plt.ylabel('Cross-validated score')\n",
        "plt.show()"
      ],
      "execution_count": 30,
      "outputs": [
        {
          "output_type": "display_data",
          "data": {
            "image/png": "[encoded data removed]",
            "text/plain": [
              "<Figure size 576x432 with 1 Axes>"
            ]
          },
          "metadata": {
            "tags": []
          }
        }
      ]
    },
    {
      "cell_type": "code",
      "metadata": {
        "id": "SB9hqFMxFJNt",
        "colab_type": "code",
        "colab": {}
      },
      "source": [
        ""
      ],
      "execution_count": 0,
      "outputs": []
    }
  ]
}